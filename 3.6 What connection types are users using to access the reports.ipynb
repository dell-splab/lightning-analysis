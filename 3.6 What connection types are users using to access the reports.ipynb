{
 "cells": [
  {
   "cell_type": "code",
   "execution_count": 1,
   "id": "ae46f131",
   "metadata": {},
   "outputs": [],
   "source": [
    "import pandas as pd"
   ]
  },
  {
   "cell_type": "markdown",
   "id": "27942d9b",
   "metadata": {},
   "source": [
    "## Loading actives reports"
   ]
  },
  {
   "cell_type": "code",
   "execution_count": 2,
   "id": "8b11b657",
   "metadata": {},
   "outputs": [],
   "source": [
    "active_reports = pd.read_csv(\"datasets/active_reports.csv\", low_memory=False)"
   ]
  },
  {
   "cell_type": "code",
   "execution_count": 3,
   "id": "805672d6",
   "metadata": {},
   "outputs": [
    {
     "data": {
      "text/plain": [
       "(7101, 50)"
      ]
     },
     "execution_count": 3,
     "metadata": {},
     "output_type": "execute_result"
    }
   ],
   "source": [
    "active_reports.shape"
   ]
  },
  {
   "cell_type": "markdown",
   "id": "bd5e90a1",
   "metadata": {},
   "source": [
    "## Loading lightning performance"
   ]
  },
  {
   "cell_type": "code",
   "execution_count": 4,
   "id": "52fc37b0",
   "metadata": {},
   "outputs": [],
   "source": [
    "lightning_performance = pd.read_csv(\"data/Salesforce/Salesforce/ELF/LightningPerformance/2022-06-04_LightningPerformance.csv\"\n",
    "                                    ,low_memory=False)"
   ]
  },
  {
   "cell_type": "code",
   "execution_count": 5,
   "id": "84267c3e",
   "metadata": {},
   "outputs": [
    {
     "data": {
      "text/plain": [
       "['EVENT_TYPE',\n",
       " 'TIMESTAMP',\n",
       " 'REQUEST_ID',\n",
       " 'ORGANIZATION_ID',\n",
       " 'USER_ID',\n",
       " 'CLIENT_ID',\n",
       " 'SESSION_KEY',\n",
       " 'LOGIN_KEY',\n",
       " 'USER_TYPE',\n",
       " 'APP_NAME',\n",
       " 'DEVICE_PLATFORM',\n",
       " 'SDK_APP_VERSION',\n",
       " 'OS_NAME',\n",
       " 'OS_VERSION',\n",
       " 'USER_AGENT',\n",
       " 'BROWSER_NAME',\n",
       " 'BROWSER_VERSION',\n",
       " 'SDK_VERSION',\n",
       " 'DEVICE_MODEL',\n",
       " 'DEVICE_ID',\n",
       " 'SDK_APP_TYPE',\n",
       " 'CLIENT_GEO',\n",
       " 'CONNECTION_TYPE',\n",
       " 'UI_EVENT_ID',\n",
       " 'UI_EVENT_TYPE',\n",
       " 'UI_EVENT_SOURCE',\n",
       " 'UI_EVENT_TIMESTAMP',\n",
       " 'PAGE_START_TIME',\n",
       " 'DURATION',\n",
       " 'DEVICE_SESSION_ID',\n",
       " 'TIMESTAMP_DERIVED',\n",
       " 'USER_ID_DERIVED',\n",
       " 'CLIENT_IP']"
      ]
     },
     "execution_count": 5,
     "metadata": {},
     "output_type": "execute_result"
    }
   ],
   "source": [
    "list(lightning_performance.columns)"
   ]
  },
  {
   "cell_type": "markdown",
   "id": "bbb4c666",
   "metadata": {},
   "source": [
    "## Merge active reports with lightning performance"
   ]
  },
  {
   "cell_type": "code",
   "execution_count": 6,
   "id": "0670ac61",
   "metadata": {},
   "outputs": [],
   "source": [
    "common_columns = ['USER_ID_DERIVED', 'SESSION_KEY', 'LOGIN_KEY', 'ORGANIZATION_ID', 'CLIENT_IP']"
   ]
  },
  {
   "cell_type": "code",
   "execution_count": 7,
   "id": "f43d6c49",
   "metadata": {},
   "outputs": [],
   "source": [
    "lightning_performance.drop(['EVENT_TYPE','TIMESTAMP','REQUEST_ID','USER_ID','USER_TYPE','TIMESTAMP_DERIVED']\n",
    "                           , inplace=True, axis=1)"
   ]
  },
  {
   "cell_type": "code",
   "execution_count": 8,
   "id": "68a35979",
   "metadata": {},
   "outputs": [],
   "source": [
    "ltng_full_reports_performance = pd.merge(left=active_reports, right=lightning_performance, on=common_columns)"
   ]
  },
  {
   "cell_type": "code",
   "execution_count": 9,
   "id": "8a3bd189",
   "metadata": {},
   "outputs": [
    {
     "data": {
      "text/plain": [
       "(723082, 72)"
      ]
     },
     "execution_count": 9,
     "metadata": {},
     "output_type": "execute_result"
    }
   ],
   "source": [
    "ltng_full_reports_performance.shape"
   ]
  },
  {
   "cell_type": "code",
   "execution_count": 10,
   "id": "5deb93bc",
   "metadata": {},
   "outputs": [
    {
     "data": {
      "text/plain": [
       "['CreatedById',\n",
       " 'CreatedDate',\n",
       " 'Description',\n",
       " 'DeveloperName',\n",
       " 'FolderName',\n",
       " 'Format',\n",
       " 'Id',\n",
       " 'IsDeleted',\n",
       " 'LastModifiedById',\n",
       " 'LastModifiedDate',\n",
       " 'LastReferencedDate',\n",
       " 'LastRunDate',\n",
       " 'LastViewedDate',\n",
       " 'Name',\n",
       " 'NamespacePrefix',\n",
       " 'OwnerId',\n",
       " 'ReportTypeApiName',\n",
       " 'SystemModstamp',\n",
       " 'EVENT_TYPE',\n",
       " 'TIMESTAMP',\n",
       " 'REQUEST_ID',\n",
       " 'ORGANIZATION_ID',\n",
       " 'USER_ID',\n",
       " 'RUN_TIME',\n",
       " 'CPU_TIME',\n",
       " 'URI',\n",
       " 'SESSION_KEY',\n",
       " 'LOGIN_KEY',\n",
       " 'USER_TYPE',\n",
       " 'REQUEST_STATUS',\n",
       " 'DB_TOTAL_TIME',\n",
       " 'ENTITY_NAME',\n",
       " 'DISPLAY_TYPE',\n",
       " 'RENDERING_TYPE',\n",
       " 'REPORT_ID',\n",
       " 'ROW_COUNT',\n",
       " 'NUMBER_EXCEPTION_FILTERS',\n",
       " 'NUMBER_COLUMNS',\n",
       " 'AVERAGE_ROW_SIZE',\n",
       " 'SORT',\n",
       " 'DB_BLOCKS',\n",
       " 'DB_CPU_TIME',\n",
       " 'NUMBER_BUCKETS',\n",
       " 'TIMESTAMP_DERIVED',\n",
       " 'USER_ID_DERIVED',\n",
       " 'CLIENT_IP',\n",
       " 'URI_ID_DERIVED',\n",
       " 'REPORT_ID_DERIVED',\n",
       " 'ORIGIN',\n",
       " 'IsActive',\n",
       " 'CLIENT_ID',\n",
       " 'APP_NAME',\n",
       " 'DEVICE_PLATFORM',\n",
       " 'SDK_APP_VERSION',\n",
       " 'OS_NAME',\n",
       " 'OS_VERSION',\n",
       " 'USER_AGENT',\n",
       " 'BROWSER_NAME',\n",
       " 'BROWSER_VERSION',\n",
       " 'SDK_VERSION',\n",
       " 'DEVICE_MODEL',\n",
       " 'DEVICE_ID',\n",
       " 'SDK_APP_TYPE',\n",
       " 'CLIENT_GEO',\n",
       " 'CONNECTION_TYPE',\n",
       " 'UI_EVENT_ID',\n",
       " 'UI_EVENT_TYPE',\n",
       " 'UI_EVENT_SOURCE',\n",
       " 'UI_EVENT_TIMESTAMP',\n",
       " 'PAGE_START_TIME',\n",
       " 'DURATION',\n",
       " 'DEVICE_SESSION_ID']"
      ]
     },
     "execution_count": 10,
     "metadata": {},
     "output_type": "execute_result"
    }
   ],
   "source": [
    "list(ltng_full_reports_performance.columns)"
   ]
  },
  {
   "cell_type": "code",
   "execution_count": 11,
   "id": "02811b69",
   "metadata": {},
   "outputs": [
    {
     "data": {
      "text/plain": [
       "array([nan], dtype=object)"
      ]
     },
     "execution_count": 11,
     "metadata": {},
     "output_type": "execute_result"
    }
   ],
   "source": [
    "ltng_full_reports_performance['CONNECTION_TYPE'].unique()"
   ]
  },
  {
   "cell_type": "markdown",
   "id": "feecdee6",
   "metadata": {},
   "source": [
    "## Problematic reports"
   ]
  },
  {
   "cell_type": "code",
   "execution_count": 12,
   "id": "c17c477a",
   "metadata": {},
   "outputs": [],
   "source": [
    "threshold = 120000"
   ]
  },
  {
   "cell_type": "code",
   "execution_count": 13,
   "id": "fc2de163",
   "metadata": {},
   "outputs": [],
   "source": [
    "ltng_full_reports_performance  = ltng_full_reports_performance[ltng_full_reports_performance.DURATION >= threshold]"
   ]
  },
  {
   "cell_type": "code",
   "execution_count": 14,
   "id": "8d53caa5",
   "metadata": {},
   "outputs": [
    {
     "data": {
      "text/plain": [
       "(12234, 72)"
      ]
     },
     "execution_count": 14,
     "metadata": {},
     "output_type": "execute_result"
    }
   ],
   "source": [
    "ltng_full_reports_performance.shape"
   ]
  },
  {
   "cell_type": "markdown",
   "id": "4637f48d",
   "metadata": {},
   "source": [
    "### Analyzing ***CONNECTION_TYPE***"
   ]
  },
  {
   "cell_type": "code",
   "execution_count": 15,
   "id": "d7d54248",
   "metadata": {},
   "outputs": [],
   "source": [
    "interest_columns = ['CONNECTION_TYPE', 'UI_EVENT_ID']"
   ]
  },
  {
   "cell_type": "code",
   "execution_count": 16,
   "id": "565f203b",
   "metadata": {},
   "outputs": [],
   "source": [
    "ltng_full_reports_performance_simplified = ltng_full_reports_performance[interest_columns]"
   ]
  },
  {
   "cell_type": "code",
   "execution_count": 17,
   "id": "dc3e5bd3",
   "metadata": {},
   "outputs": [
    {
     "data": {
      "text/plain": [
       "(12234, 2)"
      ]
     },
     "execution_count": 17,
     "metadata": {},
     "output_type": "execute_result"
    }
   ],
   "source": [
    "ltng_full_reports_performance_simplified.shape"
   ]
  },
  {
   "cell_type": "code",
   "execution_count": 18,
   "id": "0ec89136",
   "metadata": {},
   "outputs": [
    {
     "data": {
      "text/plain": [
       "array([nan], dtype=object)"
      ]
     },
     "execution_count": 18,
     "metadata": {},
     "output_type": "execute_result"
    }
   ],
   "source": [
    "ltng_full_reports_performance_simplified['CONNECTION_TYPE'].unique()"
   ]
  },
  {
   "cell_type": "markdown",
   "id": "63f37b1b",
   "metadata": {},
   "source": [
    "Data don't have enough information/diversity to analyze after the merging between active reports and lightning performance"
   ]
  },
  {
   "cell_type": "markdown",
   "id": "41516a59",
   "metadata": {},
   "source": [
    "### Analyzing ***CONNECTION_TYPE*** for Lightning Performance logs"
   ]
  },
  {
   "cell_type": "code",
   "execution_count": 19,
   "id": "06e3d579",
   "metadata": {},
   "outputs": [
    {
     "data": {
      "text/plain": [
       "array([nan, 'wifi', 'WIFI', 'MOBILE;LTE', 'WiFi', 'none', '4g', '3g',\n",
       "       'Mobile;CTRadioAccessTechnologyHSDPA'], dtype=object)"
      ]
     },
     "execution_count": 19,
     "metadata": {},
     "output_type": "execute_result"
    }
   ],
   "source": [
    "lightning_performance['CONNECTION_TYPE'].unique()"
   ]
  },
  {
   "cell_type": "code",
   "execution_count": 20,
   "id": "1ae4e6e9",
   "metadata": {},
   "outputs": [],
   "source": [
    "lightning_performance = lightning_performance[interest_columns]"
   ]
  },
  {
   "cell_type": "code",
   "execution_count": 21,
   "id": "c94b4f31",
   "metadata": {},
   "outputs": [
    {
     "data": {
      "text/plain": [
       "(3115690, 2)"
      ]
     },
     "execution_count": 21,
     "metadata": {},
     "output_type": "execute_result"
    }
   ],
   "source": [
    "lightning_performance.shape"
   ]
  },
  {
   "cell_type": "code",
   "execution_count": 22,
   "id": "3f859785",
   "metadata": {},
   "outputs": [],
   "source": [
    "lightning_performance = lightning_performance.dropna(subset=['CONNECTION_TYPE'])"
   ]
  },
  {
   "cell_type": "code",
   "execution_count": 23,
   "id": "0c50b146",
   "metadata": {},
   "outputs": [
    {
     "data": {
      "text/plain": [
       "(1014, 2)"
      ]
     },
     "execution_count": 23,
     "metadata": {},
     "output_type": "execute_result"
    }
   ],
   "source": [
    "lightning_performance.shape"
   ]
  },
  {
   "cell_type": "code",
   "execution_count": 24,
   "id": "df9fe5d3",
   "metadata": {},
   "outputs": [
    {
     "data": {
      "text/html": [
       "<div>\n",
       "<style scoped>\n",
       "    .dataframe tbody tr th:only-of-type {\n",
       "        vertical-align: middle;\n",
       "    }\n",
       "\n",
       "    .dataframe tbody tr th {\n",
       "        vertical-align: top;\n",
       "    }\n",
       "\n",
       "    .dataframe thead th {\n",
       "        text-align: right;\n",
       "    }\n",
       "</style>\n",
       "<table border=\"1\" class=\"dataframe\">\n",
       "  <thead>\n",
       "    <tr style=\"text-align: right;\">\n",
       "      <th></th>\n",
       "      <th>CONNECTION_TYPE</th>\n",
       "      <th>UI_EVENT_ID</th>\n",
       "    </tr>\n",
       "  </thead>\n",
       "  <tbody>\n",
       "    <tr>\n",
       "      <th>73694</th>\n",
       "      <td>wifi</td>\n",
       "      <td>ltng:newDefs</td>\n",
       "    </tr>\n",
       "    <tr>\n",
       "      <th>73695</th>\n",
       "      <td>wifi</td>\n",
       "      <td>ltng:performance</td>\n",
       "    </tr>\n",
       "    <tr>\n",
       "      <th>73696</th>\n",
       "      <td>wifi</td>\n",
       "      <td>ltng:performance</td>\n",
       "    </tr>\n",
       "    <tr>\n",
       "      <th>73697</th>\n",
       "      <td>wifi</td>\n",
       "      <td>ltng:performance</td>\n",
       "    </tr>\n",
       "    <tr>\n",
       "      <th>73702</th>\n",
       "      <td>wifi</td>\n",
       "      <td>ltng:performance</td>\n",
       "    </tr>\n",
       "  </tbody>\n",
       "</table>\n",
       "</div>"
      ],
      "text/plain": [
       "      CONNECTION_TYPE       UI_EVENT_ID\n",
       "73694            wifi      ltng:newDefs\n",
       "73695            wifi  ltng:performance\n",
       "73696            wifi  ltng:performance\n",
       "73697            wifi  ltng:performance\n",
       "73702            wifi  ltng:performance"
      ]
     },
     "execution_count": 24,
     "metadata": {},
     "output_type": "execute_result"
    }
   ],
   "source": [
    "lightning_performance.head()"
   ]
  },
  {
   "cell_type": "code",
   "execution_count": 25,
   "id": "5e62e4dd",
   "metadata": {},
   "outputs": [],
   "source": [
    "lightning_performance_group = lightning_performance.groupby(['CONNECTION_TYPE']).agg({'UI_EVENT_ID': 'count'})"
   ]
  },
  {
   "cell_type": "code",
   "execution_count": 26,
   "id": "e6c60cfd",
   "metadata": {},
   "outputs": [],
   "source": [
    "lightning_performance_group.reset_index(inplace=True)"
   ]
  },
  {
   "cell_type": "code",
   "execution_count": 27,
   "id": "be5fce16",
   "metadata": {},
   "outputs": [
    {
     "data": {
      "text/html": [
       "<div>\n",
       "<style scoped>\n",
       "    .dataframe tbody tr th:only-of-type {\n",
       "        vertical-align: middle;\n",
       "    }\n",
       "\n",
       "    .dataframe tbody tr th {\n",
       "        vertical-align: top;\n",
       "    }\n",
       "\n",
       "    .dataframe thead th {\n",
       "        text-align: right;\n",
       "    }\n",
       "</style>\n",
       "<table border=\"1\" class=\"dataframe\">\n",
       "  <thead>\n",
       "    <tr style=\"text-align: right;\">\n",
       "      <th></th>\n",
       "      <th>CONNECTION_TYPE</th>\n",
       "      <th>UI_EVENT_ID</th>\n",
       "    </tr>\n",
       "  </thead>\n",
       "  <tbody>\n",
       "    <tr>\n",
       "      <th>0</th>\n",
       "      <td>3g</td>\n",
       "      <td>22</td>\n",
       "    </tr>\n",
       "    <tr>\n",
       "      <th>1</th>\n",
       "      <td>4g</td>\n",
       "      <td>7</td>\n",
       "    </tr>\n",
       "    <tr>\n",
       "      <th>2</th>\n",
       "      <td>MOBILE;LTE</td>\n",
       "      <td>63</td>\n",
       "    </tr>\n",
       "    <tr>\n",
       "      <th>3</th>\n",
       "      <td>Mobile;CTRadioAccessTechnologyHSDPA</td>\n",
       "      <td>48</td>\n",
       "    </tr>\n",
       "    <tr>\n",
       "      <th>4</th>\n",
       "      <td>WIFI</td>\n",
       "      <td>498</td>\n",
       "    </tr>\n",
       "    <tr>\n",
       "      <th>5</th>\n",
       "      <td>WiFi</td>\n",
       "      <td>11</td>\n",
       "    </tr>\n",
       "    <tr>\n",
       "      <th>6</th>\n",
       "      <td>none</td>\n",
       "      <td>18</td>\n",
       "    </tr>\n",
       "    <tr>\n",
       "      <th>7</th>\n",
       "      <td>wifi</td>\n",
       "      <td>347</td>\n",
       "    </tr>\n",
       "  </tbody>\n",
       "</table>\n",
       "</div>"
      ],
      "text/plain": [
       "                       CONNECTION_TYPE  UI_EVENT_ID\n",
       "0                                   3g           22\n",
       "1                                   4g            7\n",
       "2                           MOBILE;LTE           63\n",
       "3  Mobile;CTRadioAccessTechnologyHSDPA           48\n",
       "4                                 WIFI          498\n",
       "5                                 WiFi           11\n",
       "6                                 none           18\n",
       "7                                 wifi          347"
      ]
     },
     "execution_count": 27,
     "metadata": {},
     "output_type": "execute_result"
    }
   ],
   "source": [
    "lightning_performance_group"
   ]
  },
  {
   "cell_type": "code",
   "execution_count": 29,
   "id": "6789874f",
   "metadata": {},
   "outputs": [
    {
     "data": {
      "text/plain": [
       "4"
      ]
     },
     "execution_count": 29,
     "metadata": {},
     "output_type": "execute_result"
    }
   ],
   "source": [
    "WIFI_position = 0\n",
    "for i in lightning_performance_group.index: \n",
    "     if lightning_performance_group['CONNECTION_TYPE'][i] == 'WIFI':\n",
    "            WIFI_position = i\n",
    "WIFI_position"
   ]
  },
  {
   "cell_type": "code",
   "execution_count": 31,
   "id": "588f4e93",
   "metadata": {},
   "outputs": [
    {
     "name": "stderr",
     "output_type": "stream",
     "text": [
      "C:\\Users\\klebe\\AppData\\Local\\Temp\\ipykernel_24608\\3450789752.py:4: SettingWithCopyWarning: \n",
      "A value is trying to be set on a copy of a slice from a DataFrame\n",
      "\n",
      "See the caveats in the documentation: https://pandas.pydata.org/pandas-docs/stable/user_guide/indexing.html#returning-a-view-versus-a-copy\n",
      "  lightning_performance_group['UI_EVENT_ID'][WIFI_position] += lightning_performance_group['UI_EVENT_ID'][i]\n"
     ]
    },
    {
     "data": {
      "text/html": [
       "<div>\n",
       "<style scoped>\n",
       "    .dataframe tbody tr th:only-of-type {\n",
       "        vertical-align: middle;\n",
       "    }\n",
       "\n",
       "    .dataframe tbody tr th {\n",
       "        vertical-align: top;\n",
       "    }\n",
       "\n",
       "    .dataframe thead th {\n",
       "        text-align: right;\n",
       "    }\n",
       "</style>\n",
       "<table border=\"1\" class=\"dataframe\">\n",
       "  <thead>\n",
       "    <tr style=\"text-align: right;\">\n",
       "      <th></th>\n",
       "      <th>CONNECTION_TYPE</th>\n",
       "      <th>UI_EVENT_ID</th>\n",
       "    </tr>\n",
       "  </thead>\n",
       "  <tbody>\n",
       "    <tr>\n",
       "      <th>0</th>\n",
       "      <td>3g</td>\n",
       "      <td>22</td>\n",
       "    </tr>\n",
       "    <tr>\n",
       "      <th>1</th>\n",
       "      <td>4g</td>\n",
       "      <td>7</td>\n",
       "    </tr>\n",
       "    <tr>\n",
       "      <th>2</th>\n",
       "      <td>MOBILE;LTE</td>\n",
       "      <td>63</td>\n",
       "    </tr>\n",
       "    <tr>\n",
       "      <th>3</th>\n",
       "      <td>Mobile;CTRadioAccessTechnologyHSDPA</td>\n",
       "      <td>48</td>\n",
       "    </tr>\n",
       "    <tr>\n",
       "      <th>4</th>\n",
       "      <td>WIFI</td>\n",
       "      <td>856</td>\n",
       "    </tr>\n",
       "    <tr>\n",
       "      <th>6</th>\n",
       "      <td>none</td>\n",
       "      <td>18</td>\n",
       "    </tr>\n",
       "  </tbody>\n",
       "</table>\n",
       "</div>"
      ],
      "text/plain": [
       "                       CONNECTION_TYPE  UI_EVENT_ID\n",
       "0                                   3g           22\n",
       "1                                   4g            7\n",
       "2                           MOBILE;LTE           63\n",
       "3  Mobile;CTRadioAccessTechnologyHSDPA           48\n",
       "4                                 WIFI          856\n",
       "6                                 none           18"
      ]
     },
     "execution_count": 31,
     "metadata": {},
     "output_type": "execute_result"
    }
   ],
   "source": [
    "index_list = []\n",
    "for i in lightning_performance_group.index: \n",
    "     if lightning_performance_group['CONNECTION_TYPE'][i] == 'WiFi' or lightning_performance_group['CONNECTION_TYPE'][i] == 'wifi':\n",
    "            lightning_performance_group['UI_EVENT_ID'][WIFI_position] += lightning_performance_group['UI_EVENT_ID'][i]\n",
    "            index_list.append(i)\n",
    "            \n",
    "lightning_performance_group = lightning_performance_group.drop(index_list)\n",
    "lightning_performance_group"
   ]
  },
  {
   "cell_type": "code",
   "execution_count": 33,
   "id": "dfa6dda9",
   "metadata": {},
   "outputs": [],
   "source": [
    "list_connection_type = lightning_performance_group['CONNECTION_TYPE'].tolist()\n",
    "list_count = lightning_performance_group['UI_EVENT_ID'].tolist()"
   ]
  },
  {
   "cell_type": "code",
   "execution_count": 41,
   "id": "9093feda",
   "metadata": {},
   "outputs": [
    {
     "data": {
      "image/png": "[encoded data removed]",
      "text/plain": [
       "<Figure size 720x504 with 1 Axes>"
      ]
     },
     "metadata": {},
     "output_type": "display_data"
    }
   ],
   "source": [
    "import numpy as np \n",
    "import matplotlib.pyplot as plt \n",
    "  \n",
    "explode = (0.3, 0.0, 0.0, 0.1, 0.0, 0.1) \n",
    "cmap = plt.get_cmap(\"tab20c\")\n",
    "outer_colors = cmap(np.arange(6)*4)\n",
    "wp = { 'linewidth' : 1, 'edgecolor' : \"white\" } \n",
    "def func(pct, allvalues): \n",
    "    absolute = int(pct / 100.*np.sum(allvalues)) \n",
    "    return \"{:.1f}%\\n({:d} g)\".format(pct, absolute) \n",
    "fig, ax = plt.subplots(figsize =(10, 7)) \n",
    "wedges, texts, autotexts = ax.pie(list_count,  \n",
    "                                  autopct = lambda pct: func(pct, list_count), \n",
    "                                  explode = explode,  \n",
    "                                  shadow = True, \n",
    "                                  colors = outer_colors, \n",
    "                                  startangle = 90, \n",
    "                                  wedgeprops = wp, \n",
    "                                  textprops = dict(color =\"black\")) \n",
    "ax.legend(wedges, list_connection_type, \n",
    "          title =\"CONNECTION_TYPE\", \n",
    "          loc =\"center left\", \n",
    "          bbox_to_anchor =(1, 0, 0.5, 1)) \n",
    "  \n",
    "plt.setp(autotexts, size = 8, weight =\"bold\") \n",
    "ax.set_title(\"Number of connection types\") \n",
    "plt.show()"
   ]
  }
 ],
 "metadata": {
  "kernelspec": {
   "display_name": "Python 3 (ipykernel)",
   "language": "python",
   "name": "python3"
  },
  "language_info": {
   "codemirror_mode": {
    "name": "ipython",
    "version": 3
   },
   "file_extension": ".py",
   "mimetype": "text/x-python",
   "name": "python",
   "nbconvert_exporter": "python",
   "pygments_lexer": "ipython3",
   "version": "3.9.12"
  }
 },
 "nbformat": 4,
 "nbformat_minor": 5
}
