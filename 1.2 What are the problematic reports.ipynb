{
 "cells": [
  {
   "cell_type": "markdown",
   "metadata": {},
   "source": [
    "# What are the problematic reports?\n",
    "\n",
    "**We are still considering active reports!**\n",
    "\n",
    "Regarding time, which are the most problematic reports?\n",
    "\n",
    "For this analysis we must stipulate a time in seconds which we consider as a threshold.\n",
    "\n",
    "For this analysis we will consider a time of 120 seconds, reports that take longer than this to run will be considered as problematic reports. The execution time of a report is divided into database time to retrieve data and application time (time taken by the application to present the report). There may be other factors, if so what are they?\n"
   ]
  },
  {
   "cell_type": "markdown",
   "metadata": {},
   "source": [
    "## Which objects the problematic reports are running?"
   ]
  },
  {
   "cell_type": "markdown",
   "metadata": {},
   "source": [
    "## How are the problematic reports running"
   ]
  },
  {
   "cell_type": "markdown",
   "metadata": {},
   "source": [
    "## Where does the DB takes more time to load?"
   ]
  }
 ],
 "metadata": {
  "kernelspec": {
   "display_name": "Python 3",
   "language": "python",
   "name": "python3"
  },
  "language_info": {
   "codemirror_mode": {
    "name": "ipython",
    "version": 3
   },
   "file_extension": ".py",
   "mimetype": "text/x-python",
   "name": "python",
   "nbconvert_exporter": "python",
   "pygments_lexer": "ipython3",
   "version": "3.8.10"
  }
 },
 "nbformat": 4,
 "nbformat_minor": 4
}
