{
 "cells": [
  {
   "cell_type": "code",
   "execution_count": 1,
   "id": "176cf0cf",
   "metadata": {},
   "outputs": [],
   "source": [
    "import pandas as pd"
   ]
  },
  {
   "cell_type": "markdown",
   "id": "fc258236",
   "metadata": {},
   "source": [
    "# Loading data"
   ]
  },
  {
   "cell_type": "code",
   "execution_count": 36,
   "id": "5dfe7f05",
   "metadata": {
    "scrolled": true
   },
   "outputs": [
    {
     "name": "stderr",
     "output_type": "stream",
     "text": [
      "C:\\Users\\gabim\\AppData\\Local\\Temp\\ipykernel_39376\\1656048912.py:1: DtypeWarning: Columns (5,11,13,17,18,19,20,22,24,28,44,45) have mixed types. Specify dtype option on import or set low_memory=False.\n",
      "  page_view = pd.read_csv(\"data/lightning sample/lightning pageview sample/2022-06-05_LightningPageView.csv\")\n"
     ]
    }
   ],
   "source": [
    "page_view = pd.read_csv(\"data/lightning sample/lightning pageview sample/2022-06-05_LightningPageView.csv\")"
   ]
  },
  {
   "cell_type": "code",
   "execution_count": 41,
   "id": "7ed8bdb2",
   "metadata": {},
   "outputs": [],
   "source": [
    "page_view = page_view[page_view['PAGE_ENTITY_ID'].notna()]"
   ]
  },
  {
   "cell_type": "markdown",
   "id": "e93be8a0",
   "metadata": {},
   "source": [
    "Many PAGE_ENTITY_ID values were NaN, so those values were filtered."
   ]
  },
  {
   "cell_type": "markdown",
   "id": "fd38ddf6",
   "metadata": {},
   "source": [
    "# Counting component occurrences"
   ]
  },
  {
   "cell_type": "code",
   "execution_count": 42,
   "id": "17a57c74",
   "metadata": {},
   "outputs": [
    {
     "name": "stdout",
     "output_type": "stream",
     "text": [
      "one:recordHomeFlexipage2Wrapper                 378425\n",
      "one:recordHomeFlexipage                         118307\n",
      "one:recordActionWrapper                           7810\n",
      "unknown                                           2206\n",
      "runtime_platform_actions:quickActionWrapper        927\n",
      "forceKnowledge:articleRedirect                     367\n",
      "sfa:hierarchyFullView                               27\n",
      "reports:reportBuilder                               23\n",
      "forceChatter:feedElementFullView                     4\n",
      "runtime_service_fieldservice:objectHierarchy         3\n",
      "force:recordLandingPage                              2\n"
     ]
    }
   ],
   "source": [
    "count = page_view['PAGE_CONTEXT'].value_counts(sort=True)\n",
    "print(count.to_string())"
   ]
  },
  {
   "cell_type": "markdown",
   "id": "a37625f1",
   "metadata": {},
   "source": [
    "For each component, this is the number of times it appeared on a PageView event."
   ]
  },
  {
   "cell_type": "markdown",
   "id": "f0195807",
   "metadata": {},
   "source": [
    "# Associating Page Entity ID and Page Context"
   ]
  },
  {
   "cell_type": "markdown",
   "id": "3ba7af9c",
   "metadata": {},
   "source": [
    "From the PageView docs:\n",
    "- PAGE_ENTITY_ID: The unique entity identifier of the event.\n",
    "- PAGE_CONTEXT: The name of the component hosting the main content of the page."
   ]
  },
  {
   "cell_type": "markdown",
   "id": "c2109aa6",
   "metadata": {},
   "source": [
    "This analysis will use these fields to understand which components are used in more than one page."
   ]
  },
  {
   "cell_type": "markdown",
   "id": "4a772d06",
   "metadata": {},
   "source": [
    "## Filtering table columns"
   ]
  },
  {
   "cell_type": "code",
   "execution_count": 55,
   "id": "bd9b0ede",
   "metadata": {},
   "outputs": [
    {
     "data": {
      "text/html": [
       "<div>\n",
       "<style scoped>\n",
       "    .dataframe tbody tr th:only-of-type {\n",
       "        vertical-align: middle;\n",
       "    }\n",
       "\n",
       "    .dataframe tbody tr th {\n",
       "        vertical-align: top;\n",
       "    }\n",
       "\n",
       "    .dataframe thead th {\n",
       "        text-align: right;\n",
       "    }\n",
       "</style>\n",
       "<table border=\"1\" class=\"dataframe\">\n",
       "  <thead>\n",
       "    <tr style=\"text-align: right;\">\n",
       "      <th></th>\n",
       "      <th>PAGE_ENTITY_ID</th>\n",
       "      <th>PAGE_CONTEXT</th>\n",
       "    </tr>\n",
       "  </thead>\n",
       "  <tbody>\n",
       "    <tr>\n",
       "      <th>2</th>\n",
       "      <td>5006P000005AtMgQAK</td>\n",
       "      <td>one:recordHomeFlexipage2Wrapper</td>\n",
       "    </tr>\n",
       "    <tr>\n",
       "      <th>3</th>\n",
       "      <td>0WO6P000001kNGgWAM</td>\n",
       "      <td>one:recordHomeFlexipage</td>\n",
       "    </tr>\n",
       "    <tr>\n",
       "      <th>4</th>\n",
       "      <td>5006P000005UJXVQA4</td>\n",
       "      <td>one:recordHomeFlexipage2Wrapper</td>\n",
       "    </tr>\n",
       "    <tr>\n",
       "      <th>5</th>\n",
       "      <td>5006P000005AsJ2QAK</td>\n",
       "      <td>one:recordHomeFlexipage2Wrapper</td>\n",
       "    </tr>\n",
       "    <tr>\n",
       "      <th>7</th>\n",
       "      <td>5000b00001Q2AEaAAN</td>\n",
       "      <td>one:recordHomeFlexipage2Wrapper</td>\n",
       "    </tr>\n",
       "    <tr>\n",
       "      <th>...</th>\n",
       "      <td>...</td>\n",
       "      <td>...</td>\n",
       "    </tr>\n",
       "    <tr>\n",
       "      <th>751604</th>\n",
       "      <td>ka02R0000008H4zQAE</td>\n",
       "      <td>one:recordHomeFlexipage</td>\n",
       "    </tr>\n",
       "    <tr>\n",
       "      <th>751605</th>\n",
       "      <td>0010b00001u0lKHAAY</td>\n",
       "      <td>one:recordHomeFlexipage2Wrapper</td>\n",
       "    </tr>\n",
       "    <tr>\n",
       "      <th>751607</th>\n",
       "      <td>02i2R00000Kh83JQAR</td>\n",
       "      <td>one:recordHomeFlexipage2Wrapper</td>\n",
       "    </tr>\n",
       "    <tr>\n",
       "      <th>751608</th>\n",
       "      <td>5006P000005EUjBQAW</td>\n",
       "      <td>one:recordHomeFlexipage2Wrapper</td>\n",
       "    </tr>\n",
       "    <tr>\n",
       "      <th>751609</th>\n",
       "      <td>5006P000005U56pQAC</td>\n",
       "      <td>one:recordHomeFlexipage2Wrapper</td>\n",
       "    </tr>\n",
       "  </tbody>\n",
       "</table>\n",
       "<p>508101 rows × 2 columns</p>\n",
       "</div>"
      ],
      "text/plain": [
       "            PAGE_ENTITY_ID                     PAGE_CONTEXT\n",
       "2       5006P000005AtMgQAK  one:recordHomeFlexipage2Wrapper\n",
       "3       0WO6P000001kNGgWAM          one:recordHomeFlexipage\n",
       "4       5006P000005UJXVQA4  one:recordHomeFlexipage2Wrapper\n",
       "5       5006P000005AsJ2QAK  one:recordHomeFlexipage2Wrapper\n",
       "7       5000b00001Q2AEaAAN  one:recordHomeFlexipage2Wrapper\n",
       "...                    ...                              ...\n",
       "751604  ka02R0000008H4zQAE          one:recordHomeFlexipage\n",
       "751605  0010b00001u0lKHAAY  one:recordHomeFlexipage2Wrapper\n",
       "751607  02i2R00000Kh83JQAR  one:recordHomeFlexipage2Wrapper\n",
       "751608  5006P000005EUjBQAW  one:recordHomeFlexipage2Wrapper\n",
       "751609  5006P000005U56pQAC  one:recordHomeFlexipage2Wrapper\n",
       "\n",
       "[508101 rows x 2 columns]"
      ]
     },
     "execution_count": 55,
     "metadata": {},
     "output_type": "execute_result"
    }
   ],
   "source": [
    "resume_page_view = page_view[['PAGE_ENTITY_ID','PAGE_CONTEXT']]\n",
    "resume_page_view"
   ]
  },
  {
   "cell_type": "markdown",
   "id": "9587e3de",
   "metadata": {},
   "source": [
    "The data frame now has only the columns we are interested for our analysis."
   ]
  },
  {
   "cell_type": "markdown",
   "id": "423d22a3",
   "metadata": {},
   "source": [
    "## Grouping PAGE_ENTITY_ID"
   ]
  },
  {
   "cell_type": "markdown",
   "id": "f300d8eb",
   "metadata": {},
   "source": [
    "For each Page Context, we need to group the Page Entity IDs associated with it."
   ]
  },
  {
   "cell_type": "code",
   "execution_count": 56,
   "id": "24d48684",
   "metadata": {},
   "outputs": [
    {
     "data": {
      "text/html": [
       "<div>\n",
       "<style scoped>\n",
       "    .dataframe tbody tr th:only-of-type {\n",
       "        vertical-align: middle;\n",
       "    }\n",
       "\n",
       "    .dataframe tbody tr th {\n",
       "        vertical-align: top;\n",
       "    }\n",
       "\n",
       "    .dataframe thead th {\n",
       "        text-align: right;\n",
       "    }\n",
       "</style>\n",
       "<table border=\"1\" class=\"dataframe\">\n",
       "  <thead>\n",
       "    <tr style=\"text-align: right;\">\n",
       "      <th></th>\n",
       "      <th>PAGE_ENTITY_ID</th>\n",
       "    </tr>\n",
       "    <tr>\n",
       "      <th>PAGE_CONTEXT</th>\n",
       "      <th></th>\n",
       "    </tr>\n",
       "  </thead>\n",
       "  <tbody>\n",
       "    <tr>\n",
       "      <th>force:recordLandingPage</th>\n",
       "      <td>[0696P000003v7whQAA, 0696P000002z4lRQAQ]</td>\n",
       "    </tr>\n",
       "    <tr>\n",
       "      <th>forceChatter:feedElementFullView</th>\n",
       "      <td>[0D56P00000YcGEzSAN, 0D56P00000ZdWTYSA3, 0D56P...</td>\n",
       "    </tr>\n",
       "    <tr>\n",
       "      <th>forceKnowledge:articleRedirect</th>\n",
       "      <td>[kA02R0000005cMdSAI, kA02R0000005JPZSA2, kA02R...</td>\n",
       "    </tr>\n",
       "    <tr>\n",
       "      <th>one:recordActionWrapper</th>\n",
       "      <td>[5006P000005Xce7QAC, 5006P000005XerDQAS, 00T6P...</td>\n",
       "    </tr>\n",
       "    <tr>\n",
       "      <th>one:recordHomeFlexipage</th>\n",
       "      <td>[0WO6P000001kNGgWAM, 0WO6P0000017wuoWAA, 00T6P...</td>\n",
       "    </tr>\n",
       "    <tr>\n",
       "      <th>one:recordHomeFlexipage2Wrapper</th>\n",
       "      <td>[5006P000005AtMgQAK, 5006P000005UJXVQA4, 5006P...</td>\n",
       "    </tr>\n",
       "    <tr>\n",
       "      <th>reports:reportBuilder</th>\n",
       "      <td>[00O6P000000ZNSpUAO, 00O0b000004kTazEAE, 00O6P...</td>\n",
       "    </tr>\n",
       "    <tr>\n",
       "      <th>runtime_platform_actions:quickActionWrapper</th>\n",
       "      <td>[a0L6P000000spv6UAA, 0012R00002AKWthQAH, a0L6P...</td>\n",
       "    </tr>\n",
       "    <tr>\n",
       "      <th>runtime_service_fieldservice:objectHierarchy</th>\n",
       "      <td>[02i2R00000N4IUfQAN, 02i1P000007meR2QAI, 02i2R...</td>\n",
       "    </tr>\n",
       "    <tr>\n",
       "      <th>sfa:hierarchyFullView</th>\n",
       "      <td>[0010b000029iT41AAE, 0036P000004KOB5QAO, 0032R...</td>\n",
       "    </tr>\n",
       "    <tr>\n",
       "      <th>unknown</th>\n",
       "      <td>[unknown]</td>\n",
       "    </tr>\n",
       "  </tbody>\n",
       "</table>\n",
       "</div>"
      ],
      "text/plain": [
       "                                                                                 PAGE_ENTITY_ID\n",
       "PAGE_CONTEXT                                                                                   \n",
       "force:recordLandingPage                                [0696P000003v7whQAA, 0696P000002z4lRQAQ]\n",
       "forceChatter:feedElementFullView              [0D56P00000YcGEzSAN, 0D56P00000ZdWTYSA3, 0D56P...\n",
       "forceKnowledge:articleRedirect                [kA02R0000005cMdSAI, kA02R0000005JPZSA2, kA02R...\n",
       "one:recordActionWrapper                       [5006P000005Xce7QAC, 5006P000005XerDQAS, 00T6P...\n",
       "one:recordHomeFlexipage                       [0WO6P000001kNGgWAM, 0WO6P0000017wuoWAA, 00T6P...\n",
       "one:recordHomeFlexipage2Wrapper               [5006P000005AtMgQAK, 5006P000005UJXVQA4, 5006P...\n",
       "reports:reportBuilder                         [00O6P000000ZNSpUAO, 00O0b000004kTazEAE, 00O6P...\n",
       "runtime_platform_actions:quickActionWrapper   [a0L6P000000spv6UAA, 0012R00002AKWthQAH, a0L6P...\n",
       "runtime_service_fieldservice:objectHierarchy  [02i2R00000N4IUfQAN, 02i1P000007meR2QAI, 02i2R...\n",
       "sfa:hierarchyFullView                         [0010b000029iT41AAE, 0036P000004KOB5QAO, 0032R...\n",
       "unknown                                                                               [unknown]"
      ]
     },
     "execution_count": 56,
     "metadata": {},
     "output_type": "execute_result"
    }
   ],
   "source": [
    "group_resume_pv = resume_page_view.groupby(['PAGE_CONTEXT']).agg({'PAGE_ENTITY_ID': 'unique'})\n",
    "group_resume_pv.head(20)"
   ]
  },
  {
   "cell_type": "markdown",
   "id": "a1eefbb7",
   "metadata": {},
   "source": [
    "Now every component has a list of Page Entity IDs that are associated with it."
   ]
  },
  {
   "cell_type": "markdown",
   "id": "233fc0da",
   "metadata": {},
   "source": [
    "## Unique Page Entity IDs"
   ]
  },
  {
   "cell_type": "markdown",
   "id": "ed927061",
   "metadata": {},
   "source": [
    "Some Page Entity IDs occur more than once, and we only need to know if the component is present in that page, not how many times it was used. To do that we will create a set (a data type that does not allow repetitions)."
   ]
  },
  {
   "cell_type": "code",
   "execution_count": 67,
   "id": "04fbec02",
   "metadata": {},
   "outputs": [],
   "source": [
    "set_of_unique_page_entity_ids = list(page_view['PAGE_ENTITY_ID'].unique())"
   ]
  },
  {
   "cell_type": "code",
   "execution_count": 68,
   "id": "e2cf6a8d",
   "metadata": {},
   "outputs": [],
   "source": [
    "def countingPageViews(list_of_page_entity_ids): \n",
    "    count = 0\n",
    "    for i in list_of_page_entity_ids:\n",
    "        count += i in set_of_unique_page_entity_ids\n",
    "    return count"
   ]
  },
  {
   "cell_type": "markdown",
   "id": "04a82a10",
   "metadata": {},
   "source": [
    "We can apply the *countingPageViews* function to our data frame and every component will have a list of unique Page Entity IDs that use the component."
   ]
  },
  {
   "cell_type": "code",
   "execution_count": 69,
   "id": "d6a889b1",
   "metadata": {},
   "outputs": [
    {
     "data": {
      "text/html": [
       "<div>\n",
       "<style scoped>\n",
       "    .dataframe tbody tr th:only-of-type {\n",
       "        vertical-align: middle;\n",
       "    }\n",
       "\n",
       "    .dataframe tbody tr th {\n",
       "        vertical-align: top;\n",
       "    }\n",
       "\n",
       "    .dataframe thead th {\n",
       "        text-align: right;\n",
       "    }\n",
       "</style>\n",
       "<table border=\"1\" class=\"dataframe\">\n",
       "  <thead>\n",
       "    <tr style=\"text-align: right;\">\n",
       "      <th></th>\n",
       "      <th>PAGE_ENTITY_ID</th>\n",
       "      <th>pageEntityIDCounts</th>\n",
       "    </tr>\n",
       "    <tr>\n",
       "      <th>PAGE_CONTEXT</th>\n",
       "      <th></th>\n",
       "      <th></th>\n",
       "    </tr>\n",
       "  </thead>\n",
       "  <tbody>\n",
       "    <tr>\n",
       "      <th>force:recordLandingPage</th>\n",
       "      <td>[0696P000003v7whQAA, 0696P000002z4lRQAQ]</td>\n",
       "      <td>2</td>\n",
       "    </tr>\n",
       "    <tr>\n",
       "      <th>forceChatter:feedElementFullView</th>\n",
       "      <td>[0D56P00000YcGEzSAN, 0D56P00000ZdWTYSA3, 0D56P...</td>\n",
       "      <td>4</td>\n",
       "    </tr>\n",
       "    <tr>\n",
       "      <th>forceKnowledge:articleRedirect</th>\n",
       "      <td>[kA02R0000005cMdSAI, kA02R0000005JPZSA2, kA02R...</td>\n",
       "      <td>119</td>\n",
       "    </tr>\n",
       "    <tr>\n",
       "      <th>one:recordActionWrapper</th>\n",
       "      <td>[5006P000005Xce7QAC, 5006P000005XerDQAS, 00T6P...</td>\n",
       "      <td>5918</td>\n",
       "    </tr>\n",
       "    <tr>\n",
       "      <th>one:recordHomeFlexipage</th>\n",
       "      <td>[0WO6P000001kNGgWAM, 0WO6P0000017wuoWAA, 00T6P...</td>\n",
       "      <td>45487</td>\n",
       "    </tr>\n",
       "    <tr>\n",
       "      <th>one:recordHomeFlexipage2Wrapper</th>\n",
       "      <td>[5006P000005AtMgQAK, 5006P000005UJXVQA4, 5006P...</td>\n",
       "      <td>90644</td>\n",
       "    </tr>\n",
       "    <tr>\n",
       "      <th>reports:reportBuilder</th>\n",
       "      <td>[00O6P000000ZNSpUAO, 00O0b000004kTazEAE, 00O6P...</td>\n",
       "      <td>12</td>\n",
       "    </tr>\n",
       "    <tr>\n",
       "      <th>runtime_platform_actions:quickActionWrapper</th>\n",
       "      <td>[a0L6P000000spv6UAA, 0012R00002AKWthQAH, a0L6P...</td>\n",
       "      <td>852</td>\n",
       "    </tr>\n",
       "    <tr>\n",
       "      <th>runtime_service_fieldservice:objectHierarchy</th>\n",
       "      <td>[02i2R00000N4IUfQAN, 02i1P000007meR2QAI, 02i2R...</td>\n",
       "      <td>3</td>\n",
       "    </tr>\n",
       "    <tr>\n",
       "      <th>sfa:hierarchyFullView</th>\n",
       "      <td>[0010b000029iT41AAE, 0036P000004KOB5QAO, 0032R...</td>\n",
       "      <td>14</td>\n",
       "    </tr>\n",
       "    <tr>\n",
       "      <th>unknown</th>\n",
       "      <td>[unknown]</td>\n",
       "      <td>1</td>\n",
       "    </tr>\n",
       "  </tbody>\n",
       "</table>\n",
       "</div>"
      ],
      "text/plain": [
       "                                                                                 PAGE_ENTITY_ID  \\\n",
       "PAGE_CONTEXT                                                                                      \n",
       "force:recordLandingPage                                [0696P000003v7whQAA, 0696P000002z4lRQAQ]   \n",
       "forceChatter:feedElementFullView              [0D56P00000YcGEzSAN, 0D56P00000ZdWTYSA3, 0D56P...   \n",
       "forceKnowledge:articleRedirect                [kA02R0000005cMdSAI, kA02R0000005JPZSA2, kA02R...   \n",
       "one:recordActionWrapper                       [5006P000005Xce7QAC, 5006P000005XerDQAS, 00T6P...   \n",
       "one:recordHomeFlexipage                       [0WO6P000001kNGgWAM, 0WO6P0000017wuoWAA, 00T6P...   \n",
       "one:recordHomeFlexipage2Wrapper               [5006P000005AtMgQAK, 5006P000005UJXVQA4, 5006P...   \n",
       "reports:reportBuilder                         [00O6P000000ZNSpUAO, 00O0b000004kTazEAE, 00O6P...   \n",
       "runtime_platform_actions:quickActionWrapper   [a0L6P000000spv6UAA, 0012R00002AKWthQAH, a0L6P...   \n",
       "runtime_service_fieldservice:objectHierarchy  [02i2R00000N4IUfQAN, 02i1P000007meR2QAI, 02i2R...   \n",
       "sfa:hierarchyFullView                         [0010b000029iT41AAE, 0036P000004KOB5QAO, 0032R...   \n",
       "unknown                                                                               [unknown]   \n",
       "\n",
       "                                              pageEntityIDCounts  \n",
       "PAGE_CONTEXT                                                      \n",
       "force:recordLandingPage                                        2  \n",
       "forceChatter:feedElementFullView                               4  \n",
       "forceKnowledge:articleRedirect                               119  \n",
       "one:recordActionWrapper                                     5918  \n",
       "one:recordHomeFlexipage                                    45487  \n",
       "one:recordHomeFlexipage2Wrapper                            90644  \n",
       "reports:reportBuilder                                         12  \n",
       "runtime_platform_actions:quickActionWrapper                  852  \n",
       "runtime_service_fieldservice:objectHierarchy                   3  \n",
       "sfa:hierarchyFullView                                         14  \n",
       "unknown                                                        1  "
      ]
     },
     "execution_count": 69,
     "metadata": {},
     "output_type": "execute_result"
    }
   ],
   "source": [
    "group_resume_pv['pageEntityIDCounts'] = group_resume_pv['PAGE_ENTITY_ID'].apply(countingPageViews)\n",
    "group_resume_pv.head(20)"
   ]
  },
  {
   "cell_type": "markdown",
   "id": "47e8e04d",
   "metadata": {},
   "source": [
    "## Top 10 most used components"
   ]
  },
  {
   "cell_type": "markdown",
   "id": "b194e5d7",
   "metadata": {},
   "source": [
    "Listed below the 10 components with more Page Entity IDs associated."
   ]
  },
  {
   "cell_type": "code",
   "execution_count": 71,
   "id": "0e2fe9c2",
   "metadata": {},
   "outputs": [
    {
     "data": {
      "text/html": [
       "<div>\n",
       "<style scoped>\n",
       "    .dataframe tbody tr th:only-of-type {\n",
       "        vertical-align: middle;\n",
       "    }\n",
       "\n",
       "    .dataframe tbody tr th {\n",
       "        vertical-align: top;\n",
       "    }\n",
       "\n",
       "    .dataframe thead th {\n",
       "        text-align: right;\n",
       "    }\n",
       "</style>\n",
       "<table border=\"1\" class=\"dataframe\">\n",
       "  <thead>\n",
       "    <tr style=\"text-align: right;\">\n",
       "      <th></th>\n",
       "      <th>PAGE_ENTITY_ID</th>\n",
       "      <th>pageEntityIDCounts</th>\n",
       "    </tr>\n",
       "    <tr>\n",
       "      <th>PAGE_CONTEXT</th>\n",
       "      <th></th>\n",
       "      <th></th>\n",
       "    </tr>\n",
       "  </thead>\n",
       "  <tbody>\n",
       "    <tr>\n",
       "      <th>one:recordHomeFlexipage2Wrapper</th>\n",
       "      <td>[5006P000005AtMgQAK, 5006P000005UJXVQA4, 5006P...</td>\n",
       "      <td>90644</td>\n",
       "    </tr>\n",
       "    <tr>\n",
       "      <th>one:recordHomeFlexipage</th>\n",
       "      <td>[0WO6P000001kNGgWAM, 0WO6P0000017wuoWAA, 00T6P...</td>\n",
       "      <td>45487</td>\n",
       "    </tr>\n",
       "    <tr>\n",
       "      <th>one:recordActionWrapper</th>\n",
       "      <td>[5006P000005Xce7QAC, 5006P000005XerDQAS, 00T6P...</td>\n",
       "      <td>5918</td>\n",
       "    </tr>\n",
       "    <tr>\n",
       "      <th>runtime_platform_actions:quickActionWrapper</th>\n",
       "      <td>[a0L6P000000spv6UAA, 0012R00002AKWthQAH, a0L6P...</td>\n",
       "      <td>852</td>\n",
       "    </tr>\n",
       "    <tr>\n",
       "      <th>forceKnowledge:articleRedirect</th>\n",
       "      <td>[kA02R0000005cMdSAI, kA02R0000005JPZSA2, kA02R...</td>\n",
       "      <td>119</td>\n",
       "    </tr>\n",
       "    <tr>\n",
       "      <th>sfa:hierarchyFullView</th>\n",
       "      <td>[0010b000029iT41AAE, 0036P000004KOB5QAO, 0032R...</td>\n",
       "      <td>14</td>\n",
       "    </tr>\n",
       "    <tr>\n",
       "      <th>reports:reportBuilder</th>\n",
       "      <td>[00O6P000000ZNSpUAO, 00O0b000004kTazEAE, 00O6P...</td>\n",
       "      <td>12</td>\n",
       "    </tr>\n",
       "    <tr>\n",
       "      <th>forceChatter:feedElementFullView</th>\n",
       "      <td>[0D56P00000YcGEzSAN, 0D56P00000ZdWTYSA3, 0D56P...</td>\n",
       "      <td>4</td>\n",
       "    </tr>\n",
       "    <tr>\n",
       "      <th>runtime_service_fieldservice:objectHierarchy</th>\n",
       "      <td>[02i2R00000N4IUfQAN, 02i1P000007meR2QAI, 02i2R...</td>\n",
       "      <td>3</td>\n",
       "    </tr>\n",
       "    <tr>\n",
       "      <th>force:recordLandingPage</th>\n",
       "      <td>[0696P000003v7whQAA, 0696P000002z4lRQAQ]</td>\n",
       "      <td>2</td>\n",
       "    </tr>\n",
       "  </tbody>\n",
       "</table>\n",
       "</div>"
      ],
      "text/plain": [
       "                                                                                 PAGE_ENTITY_ID  \\\n",
       "PAGE_CONTEXT                                                                                      \n",
       "one:recordHomeFlexipage2Wrapper               [5006P000005AtMgQAK, 5006P000005UJXVQA4, 5006P...   \n",
       "one:recordHomeFlexipage                       [0WO6P000001kNGgWAM, 0WO6P0000017wuoWAA, 00T6P...   \n",
       "one:recordActionWrapper                       [5006P000005Xce7QAC, 5006P000005XerDQAS, 00T6P...   \n",
       "runtime_platform_actions:quickActionWrapper   [a0L6P000000spv6UAA, 0012R00002AKWthQAH, a0L6P...   \n",
       "forceKnowledge:articleRedirect                [kA02R0000005cMdSAI, kA02R0000005JPZSA2, kA02R...   \n",
       "sfa:hierarchyFullView                         [0010b000029iT41AAE, 0036P000004KOB5QAO, 0032R...   \n",
       "reports:reportBuilder                         [00O6P000000ZNSpUAO, 00O0b000004kTazEAE, 00O6P...   \n",
       "forceChatter:feedElementFullView              [0D56P00000YcGEzSAN, 0D56P00000ZdWTYSA3, 0D56P...   \n",
       "runtime_service_fieldservice:objectHierarchy  [02i2R00000N4IUfQAN, 02i1P000007meR2QAI, 02i2R...   \n",
       "force:recordLandingPage                                [0696P000003v7whQAA, 0696P000002z4lRQAQ]   \n",
       "\n",
       "                                              pageEntityIDCounts  \n",
       "PAGE_CONTEXT                                                      \n",
       "one:recordHomeFlexipage2Wrapper                            90644  \n",
       "one:recordHomeFlexipage                                    45487  \n",
       "one:recordActionWrapper                                     5918  \n",
       "runtime_platform_actions:quickActionWrapper                  852  \n",
       "forceKnowledge:articleRedirect                               119  \n",
       "sfa:hierarchyFullView                                         14  \n",
       "reports:reportBuilder                                         12  \n",
       "forceChatter:feedElementFullView                               4  \n",
       "runtime_service_fieldservice:objectHierarchy                   3  \n",
       "force:recordLandingPage                                        2  "
      ]
     },
     "execution_count": 71,
     "metadata": {},
     "output_type": "execute_result"
    }
   ],
   "source": [
    "group_resume_pv.sort_values(by='pageEntityIDCounts', ascending=False).head(10)"
   ]
  },
  {
   "cell_type": "code",
   "execution_count": null,
   "id": "ad99ef3e",
   "metadata": {},
   "outputs": [],
   "source": []
  }
 ],
 "metadata": {
  "kernelspec": {
   "display_name": "Python 3 (ipykernel)",
   "language": "python",
   "name": "python3"
  },
  "language_info": {
   "codemirror_mode": {
    "name": "ipython",
    "version": 3
   },
   "file_extension": ".py",
   "mimetype": "text/x-python",
   "name": "python",
   "nbconvert_exporter": "python",
   "pygments_lexer": "ipython3",
   "version": "3.9.12"
  }
 },
 "nbformat": 4,
 "nbformat_minor": 5
}
