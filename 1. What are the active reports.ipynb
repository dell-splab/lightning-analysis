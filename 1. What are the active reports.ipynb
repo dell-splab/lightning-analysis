{
 "cells": [
  {
   "cell_type": "markdown",
   "metadata": {},
   "source": [
    "# 1. What are the active reports?"
   ]
  },
  {
   "cell_type": "code",
   "execution_count": 1,
   "metadata": {},
   "outputs": [],
   "source": [
    "import os\n",
    "import pandas as pd\n",
    "from datetime import datetime, date"
   ]
  },
  {
   "cell_type": "code",
   "execution_count": 2,
   "metadata": {},
   "outputs": [
    {
     "data": {
      "text/plain": [
       "['ReportEvent_50k_Sample.csv',\n",
       " 'DataLoad_Exception_Log__c_5k_sample.csv',\n",
       " 'EventLogFile_all_sample.csv',\n",
       " 'Report_all_sample.csv',\n",
       " 'ExceptionLogger__c_5k_sample.csv',\n",
       " 'EventDefinition_1k_samples.csv',\n",
       " 'FieldDefinition_all_sample.csv']"
      ]
     },
     "execution_count": 2,
     "metadata": {},
     "output_type": "execute_result"
    }
   ],
   "source": [
    "os.listdir(\"data/Salesforce/Objects\")"
   ]
  },
  {
   "cell_type": "markdown",
   "metadata": {},
   "source": [
    "## Loading reports"
   ]
  },
  {
   "cell_type": "code",
   "execution_count": 3,
   "metadata": {},
   "outputs": [],
   "source": [
    "reports = pd.read_csv(\"data/Salesforce/Objects/Report_all_sample.csv\")"
   ]
  },
  {
   "cell_type": "code",
   "execution_count": 4,
   "metadata": {},
   "outputs": [
    {
     "data": {
      "text/plain": [
       "(17397, 18)"
      ]
     },
     "execution_count": 4,
     "metadata": {},
     "output_type": "execute_result"
    }
   ],
   "source": [
    "reports.shape"
   ]
  },
  {
   "cell_type": "code",
   "execution_count": 5,
   "metadata": {},
   "outputs": [
    {
     "data": {
      "text/plain": [
       "['CreatedById',\n",
       " 'CreatedDate',\n",
       " 'Description',\n",
       " 'DeveloperName',\n",
       " 'FolderName',\n",
       " 'Format',\n",
       " 'Id',\n",
       " 'IsDeleted',\n",
       " 'LastModifiedById',\n",
       " 'LastModifiedDate',\n",
       " 'LastReferencedDate',\n",
       " 'LastRunDate',\n",
       " 'LastViewedDate',\n",
       " 'Name',\n",
       " 'NamespacePrefix',\n",
       " 'OwnerId',\n",
       " 'ReportTypeApiName',\n",
       " 'SystemModstamp']"
      ]
     },
     "execution_count": 5,
     "metadata": {},
     "output_type": "execute_result"
    }
   ],
   "source": [
    "list(reports.columns)"
   ]
  },
  {
   "cell_type": "code",
   "execution_count": 6,
   "metadata": {},
   "outputs": [
    {
     "data": {
      "text/html": [
       "<div>\n",
       "<style scoped>\n",
       "    .dataframe tbody tr th:only-of-type {\n",
       "        vertical-align: middle;\n",
       "    }\n",
       "\n",
       "    .dataframe tbody tr th {\n",
       "        vertical-align: top;\n",
       "    }\n",
       "\n",
       "    .dataframe thead th {\n",
       "        text-align: right;\n",
       "    }\n",
       "</style>\n",
       "<table border=\"1\" class=\"dataframe\">\n",
       "  <thead>\n",
       "    <tr style=\"text-align: right;\">\n",
       "      <th></th>\n",
       "      <th>CreatedById</th>\n",
       "      <th>CreatedDate</th>\n",
       "      <th>Description</th>\n",
       "      <th>DeveloperName</th>\n",
       "      <th>FolderName</th>\n",
       "      <th>Format</th>\n",
       "      <th>Id</th>\n",
       "      <th>IsDeleted</th>\n",
       "      <th>LastModifiedById</th>\n",
       "      <th>LastModifiedDate</th>\n",
       "      <th>LastReferencedDate</th>\n",
       "      <th>LastRunDate</th>\n",
       "      <th>LastViewedDate</th>\n",
       "      <th>Name</th>\n",
       "      <th>NamespacePrefix</th>\n",
       "      <th>OwnerId</th>\n",
       "      <th>ReportTypeApiName</th>\n",
       "      <th>SystemModstamp</th>\n",
       "    </tr>\n",
       "  </thead>\n",
       "  <tbody>\n",
       "    <tr>\n",
       "      <th>0</th>\n",
       "      <td>0050b000004MLGeAAO</td>\n",
       "      <td>2018-06-20T19:28:03.000Z</td>\n",
       "      <td>NaN</td>\n",
       "      <td>Email2Case_KPI_Wp9</td>\n",
       "      <td>Public Reports</td>\n",
       "      <td>Summary</td>\n",
       "      <td>00O0b000004kSKkEAM</td>\n",
       "      <td>False</td>\n",
       "      <td>0050b000004MLGeAAO</td>\n",
       "      <td>2019-10-16T03:00:16.000Z</td>\n",
       "      <td>2022-06-20T02:04:59.000Z</td>\n",
       "      <td>2022-06-20T02:04:59.000Z</td>\n",
       "      <td>2022-06-20T02:04:59.000Z</td>\n",
       "      <td>Email2Case KPI</td>\n",
       "      <td>NaN</td>\n",
       "      <td>00D0b000000GaMpEAK</td>\n",
       "      <td>CaseList@Case.MaritzCX__Survey_Response_Id__c</td>\n",
       "      <td>2022-06-20T02:04:59.000Z</td>\n",
       "    </tr>\n",
       "    <tr>\n",
       "      <th>1</th>\n",
       "      <td>0050b000004KRSoAAO</td>\n",
       "      <td>2021-08-18T13:14:25.000Z</td>\n",
       "      <td>NaN</td>\n",
       "      <td>Milestone_Report_by_Pallavi_Reddy</td>\n",
       "      <td>Public Reports</td>\n",
       "      <td>Summary</td>\n",
       "      <td>00O2R000003JUgNUAW</td>\n",
       "      <td>False</td>\n",
       "      <td>0050b000004KRSoAAO</td>\n",
       "      <td>2021-08-19T07:27:05.000Z</td>\n",
       "      <td>2022-06-19T18:20:34.000Z</td>\n",
       "      <td>2022-04-18T05:30:14.000Z</td>\n",
       "      <td>2022-06-19T18:20:34.000Z</td>\n",
       "      <td>APJ RDC PM Team - Milestone Report</td>\n",
       "      <td>NaN</td>\n",
       "      <td>00D0b000000GaMpEAK</td>\n",
       "      <td>Project_with_Order_Milestone_Product__c</td>\n",
       "      <td>2022-04-18T05:30:14.000Z</td>\n",
       "    </tr>\n",
       "    <tr>\n",
       "      <th>2</th>\n",
       "      <td>0050b000004KRSoAAO</td>\n",
       "      <td>2021-08-18T14:53:32.000Z</td>\n",
       "      <td>NaN</td>\n",
       "      <td>APJ_RDC_PM_Current_Quarter_Milestones</td>\n",
       "      <td>Public Reports</td>\n",
       "      <td>Summary</td>\n",
       "      <td>00O2R000003JUh6UAG</td>\n",
       "      <td>False</td>\n",
       "      <td>0050b000004KRSoAAO</td>\n",
       "      <td>2021-08-19T07:08:48.000Z</td>\n",
       "      <td>NaN</td>\n",
       "      <td>2022-05-25T08:03:16.000Z</td>\n",
       "      <td>NaN</td>\n",
       "      <td>APJ RDC PM - Current Quarter Milestones</td>\n",
       "      <td>NaN</td>\n",
       "      <td>00D0b000000GaMpEAK</td>\n",
       "      <td>Project_with_Order_Milestone_Product__c</td>\n",
       "      <td>2022-05-25T08:03:16.000Z</td>\n",
       "    </tr>\n",
       "    <tr>\n",
       "      <th>3</th>\n",
       "      <td>0050b000004KVKcAAO</td>\n",
       "      <td>2021-05-06T17:43:54.000Z</td>\n",
       "      <td>Show QTD Earned Revenue - Milestones that have...</td>\n",
       "      <td>C_C_QTD_Earned_Revenue1</td>\n",
       "      <td>Public Reports</td>\n",
       "      <td>Summary</td>\n",
       "      <td>00O2R000003s1qaUAA</td>\n",
       "      <td>False</td>\n",
       "      <td>0050b000004KVKcAAO</td>\n",
       "      <td>2021-08-09T21:37:07.000Z</td>\n",
       "      <td>2022-06-19T18:20:37.000Z</td>\n",
       "      <td>2022-06-15T20:56:37.000Z</td>\n",
       "      <td>2022-06-19T18:20:37.000Z</td>\n",
       "      <td>C&amp;C - QTD Earned Revenue</td>\n",
       "      <td>NaN</td>\n",
       "      <td>00D0b000000GaMpEAK</td>\n",
       "      <td>NaN</td>\n",
       "      <td>2022-06-15T20:56:37.000Z</td>\n",
       "    </tr>\n",
       "    <tr>\n",
       "      <th>4</th>\n",
       "      <td>0052R000009nJKyQAM</td>\n",
       "      <td>2020-08-06T07:00:50.000Z</td>\n",
       "      <td>NaN</td>\n",
       "      <td>Germany_Swivel_Projects_2</td>\n",
       "      <td>Public Reports</td>\n",
       "      <td>Tabular</td>\n",
       "      <td>00O2R000003rzEdUAI</td>\n",
       "      <td>False</td>\n",
       "      <td>0050b000004KUjyAAG</td>\n",
       "      <td>2020-09-01T13:03:59.000Z</td>\n",
       "      <td>NaN</td>\n",
       "      <td>2021-10-28T19:18:37.000Z</td>\n",
       "      <td>NaN</td>\n",
       "      <td>Germany Swivel Projects CFQ</td>\n",
       "      <td>NaN</td>\n",
       "      <td>00D0b000000GaMpEAK</td>\n",
       "      <td>NaN</td>\n",
       "      <td>2021-10-28T19:18:37.000Z</td>\n",
       "    </tr>\n",
       "  </tbody>\n",
       "</table>\n",
       "</div>"
      ],
      "text/plain": [
       "          CreatedById               CreatedDate  \\\n",
       "0  0050b000004MLGeAAO  2018-06-20T19:28:03.000Z   \n",
       "1  0050b000004KRSoAAO  2021-08-18T13:14:25.000Z   \n",
       "2  0050b000004KRSoAAO  2021-08-18T14:53:32.000Z   \n",
       "3  0050b000004KVKcAAO  2021-05-06T17:43:54.000Z   \n",
       "4  0052R000009nJKyQAM  2020-08-06T07:00:50.000Z   \n",
       "\n",
       "                                         Description  \\\n",
       "0                                                NaN   \n",
       "1                                                NaN   \n",
       "2                                                NaN   \n",
       "3  Show QTD Earned Revenue - Milestones that have...   \n",
       "4                                                NaN   \n",
       "\n",
       "                           DeveloperName      FolderName   Format  \\\n",
       "0                     Email2Case_KPI_Wp9  Public Reports  Summary   \n",
       "1      Milestone_Report_by_Pallavi_Reddy  Public Reports  Summary   \n",
       "2  APJ_RDC_PM_Current_Quarter_Milestones  Public Reports  Summary   \n",
       "3                C_C_QTD_Earned_Revenue1  Public Reports  Summary   \n",
       "4              Germany_Swivel_Projects_2  Public Reports  Tabular   \n",
       "\n",
       "                   Id  IsDeleted    LastModifiedById  \\\n",
       "0  00O0b000004kSKkEAM      False  0050b000004MLGeAAO   \n",
       "1  00O2R000003JUgNUAW      False  0050b000004KRSoAAO   \n",
       "2  00O2R000003JUh6UAG      False  0050b000004KRSoAAO   \n",
       "3  00O2R000003s1qaUAA      False  0050b000004KVKcAAO   \n",
       "4  00O2R000003rzEdUAI      False  0050b000004KUjyAAG   \n",
       "\n",
       "           LastModifiedDate        LastReferencedDate  \\\n",
       "0  2019-10-16T03:00:16.000Z  2022-06-20T02:04:59.000Z   \n",
       "1  2021-08-19T07:27:05.000Z  2022-06-19T18:20:34.000Z   \n",
       "2  2021-08-19T07:08:48.000Z                       NaN   \n",
       "3  2021-08-09T21:37:07.000Z  2022-06-19T18:20:37.000Z   \n",
       "4  2020-09-01T13:03:59.000Z                       NaN   \n",
       "\n",
       "                LastRunDate            LastViewedDate  \\\n",
       "0  2022-06-20T02:04:59.000Z  2022-06-20T02:04:59.000Z   \n",
       "1  2022-04-18T05:30:14.000Z  2022-06-19T18:20:34.000Z   \n",
       "2  2022-05-25T08:03:16.000Z                       NaN   \n",
       "3  2022-06-15T20:56:37.000Z  2022-06-19T18:20:37.000Z   \n",
       "4  2021-10-28T19:18:37.000Z                       NaN   \n",
       "\n",
       "                                      Name NamespacePrefix  \\\n",
       "0                           Email2Case KPI             NaN   \n",
       "1       APJ RDC PM Team - Milestone Report             NaN   \n",
       "2  APJ RDC PM - Current Quarter Milestones             NaN   \n",
       "3                 C&C - QTD Earned Revenue             NaN   \n",
       "4              Germany Swivel Projects CFQ             NaN   \n",
       "\n",
       "              OwnerId                              ReportTypeApiName  \\\n",
       "0  00D0b000000GaMpEAK  CaseList@Case.MaritzCX__Survey_Response_Id__c   \n",
       "1  00D0b000000GaMpEAK        Project_with_Order_Milestone_Product__c   \n",
       "2  00D0b000000GaMpEAK        Project_with_Order_Milestone_Product__c   \n",
       "3  00D0b000000GaMpEAK                                            NaN   \n",
       "4  00D0b000000GaMpEAK                                            NaN   \n",
       "\n",
       "             SystemModstamp  \n",
       "0  2022-06-20T02:04:59.000Z  \n",
       "1  2022-04-18T05:30:14.000Z  \n",
       "2  2022-05-25T08:03:16.000Z  \n",
       "3  2022-06-15T20:56:37.000Z  \n",
       "4  2021-10-28T19:18:37.000Z  "
      ]
     },
     "execution_count": 6,
     "metadata": {},
     "output_type": "execute_result"
    }
   ],
   "source": [
    "reports.head()"
   ]
  },
  {
   "cell_type": "code",
   "execution_count": 7,
   "metadata": {},
   "outputs": [],
   "source": [
    "reports = reports.dropna(subset=['LastRunDate'])"
   ]
  },
  {
   "cell_type": "code",
   "execution_count": 8,
   "metadata": {},
   "outputs": [
    {
     "data": {
      "text/plain": [
       "(17235, 18)"
      ]
     },
     "execution_count": 8,
     "metadata": {},
     "output_type": "execute_result"
    }
   ],
   "source": [
    "reports.shape"
   ]
  },
  {
   "cell_type": "markdown",
   "metadata": {},
   "source": [
    "# Sorting by LastRunDate"
   ]
  },
  {
   "cell_type": "code",
   "execution_count": 9,
   "metadata": {},
   "outputs": [],
   "source": [
    "sortedByLastRunDate = reports.sort_values('LastRunDate', ascending=False)"
   ]
  },
  {
   "cell_type": "markdown",
   "metadata": {},
   "source": [
    "Let's define a reference date and a time window to consider active reports.\n",
    "\n",
    "- The reference date may be the most recent date in our sample.\n",
    "- Let's consider a range of 180 in this analysis.\n",
    "\n",
    "Since the reports are sorted by `LastRunDate`, our reference date is the first row of the dataframe."
   ]
  },
  {
   "cell_type": "code",
   "execution_count": 10,
   "metadata": {},
   "outputs": [
    {
     "data": {
      "text/plain": [
       "'2022-06-20T02:07:25.000Z'"
      ]
     },
     "execution_count": 10,
     "metadata": {},
     "output_type": "execute_result"
    }
   ],
   "source": [
    "sortedByLastRunDate['LastRunDate'].iloc[0]"
   ]
  },
  {
   "cell_type": "markdown",
   "metadata": {},
   "source": [
    "Remove training 'Z' without loss of useful information. (according to this [reference](https://social.msdn.microsoft.com/Forums/en-US/27c2f2a9-8a77-4a11-9f71-5e56ddbf064b/what-is-z-in-date-time-format-yyyymmddthhmmssz?forum=csharpgeneral))"
   ]
  },
  {
   "cell_type": "code",
   "execution_count": 11,
   "metadata": {},
   "outputs": [
    {
     "data": {
      "text/plain": [
       "'2022-06-20T02:07:25.000'"
      ]
     },
     "execution_count": 11,
     "metadata": {},
     "output_type": "execute_result"
    }
   ],
   "source": [
    "sortedByLastRunDate['LastRunDate'].iloc[0][:-1]"
   ]
  },
  {
   "cell_type": "code",
   "execution_count": 12,
   "metadata": {},
   "outputs": [],
   "source": [
    "dateStr = sortedByLastRunDate['LastRunDate'].iloc[0][:-1]\n",
    "referenceDate = datetime.fromisoformat(dateStr).date()"
   ]
  },
  {
   "cell_type": "code",
   "execution_count": 13,
   "metadata": {},
   "outputs": [
    {
     "data": {
      "text/plain": [
       "datetime.date(2022, 6, 20)"
      ]
     },
     "execution_count": 13,
     "metadata": {},
     "output_type": "execute_result"
    }
   ],
   "source": [
    "referenceDate"
   ]
  },
  {
   "cell_type": "markdown",
   "metadata": {},
   "source": [
    "Let's filter all reports that were run at least 180 days from this date."
   ]
  },
  {
   "cell_type": "code",
   "execution_count": 14,
   "metadata": {},
   "outputs": [],
   "source": [
    "elapsed_days = 180"
   ]
  },
  {
   "cell_type": "markdown",
   "metadata": {},
   "source": [
    "Writing a function to filter active reports."
   ]
  },
  {
   "cell_type": "code",
   "execution_count": 15,
   "metadata": {},
   "outputs": [],
   "source": [
    "def filterActiveReports(lastRunDate):\n",
    "    dateStr = lastRunDate[:-1] # removing trailing 'Z'\n",
    "    timedelta = referenceDate - datetime.fromisoformat(dateStr).date()\n",
    "    return timedelta.days <= elapsed_days"
   ]
  },
  {
   "cell_type": "markdown",
   "metadata": {},
   "source": [
    "Creating a column to distinguish active and inactive reports."
   ]
  },
  {
   "cell_type": "code",
   "execution_count": 16,
   "metadata": {},
   "outputs": [],
   "source": [
    "reports['isActive'] = reports['LastRunDate'].apply(filterActiveReports)"
   ]
  },
  {
   "cell_type": "code",
   "execution_count": 17,
   "metadata": {},
   "outputs": [
    {
     "data": {
      "text/plain": [
       "True     11605\n",
       "False     5630\n",
       "Name: isActive, dtype: int64"
      ]
     },
     "execution_count": 17,
     "metadata": {},
     "output_type": "execute_result"
    }
   ],
   "source": [
    "reports['isActive'].value_counts()"
   ]
  },
  {
   "cell_type": "code",
   "execution_count": 18,
   "metadata": {},
   "outputs": [
    {
     "data": {
      "text/plain": [
       "<AxesSubplot:>"
      ]
     },
     "execution_count": 18,
     "metadata": {},
     "output_type": "execute_result"
    },
    {
     "data": {
      "image/png": "[encoded data removed]",
      "text/plain": [
       "<Figure size 432x288 with 1 Axes>"
      ]
     },
     "metadata": {
      "needs_background": "light"
     },
     "output_type": "display_data"
    }
   ],
   "source": [
    "# a plot example\n",
    "reports['isActive'].value_counts().plot(kind='bar')"
   ]
  },
  {
   "cell_type": "code",
   "execution_count": 19,
   "metadata": {},
   "outputs": [],
   "source": [
    "activeReports = reports[reports['isActive']]"
   ]
  },
  {
   "cell_type": "code",
   "execution_count": 20,
   "metadata": {},
   "outputs": [
    {
     "data": {
      "text/plain": [
       "(11605, 19)"
      ]
     },
     "execution_count": 20,
     "metadata": {},
     "output_type": "execute_result"
    }
   ],
   "source": [
    "activeReports.shape"
   ]
  },
  {
   "cell_type": "markdown",
   "metadata": {},
   "source": [
    "Storing a dataset with only active reports."
   ]
  },
  {
   "cell_type": "code",
   "execution_count": 21,
   "metadata": {},
   "outputs": [],
   "source": [
    "activeReports.to_csv(\"./datasets/active_reports_180.csv\", index=False)"
   ]
  },
  {
   "cell_type": "markdown",
   "metadata": {},
   "source": [
    "## Filtering events_reports by Lighting type"
   ]
  },
  {
   "cell_type": "code",
   "execution_count": 22,
   "metadata": {},
   "outputs": [
    {
     "name": "stderr",
     "output_type": "stream",
     "text": [
      "/tmp/ipykernel_39616/427543989.py:1: DtypeWarning: Columns (2,3,11,22) have mixed types. Specify dtype option on import or set low_memory=False.\n",
      "  reports_event = pd.read_csv(\"data/Salesforce/Objects/ReportEvent_50k_Sample.csv\")\n"
     ]
    }
   ],
   "source": [
    "reports_event = pd.read_csv(\"data/Salesforce/Objects/ReportEvent_50k_Sample.csv\")"
   ]
  },
  {
   "cell_type": "code",
   "execution_count": 23,
   "metadata": {},
   "outputs": [
    {
     "data": {
      "text/plain": [
       "['ColumnHeaders',\n",
       " 'CreatedDate',\n",
       " 'DashboardId',\n",
       " 'DashboardName',\n",
       " 'Description',\n",
       " 'DisplayedFieldEntities',\n",
       " 'EvaluationTime',\n",
       " 'EventDate',\n",
       " 'EventIdentifier',\n",
       " 'EventSource',\n",
       " 'ExecutionIdentifier',\n",
       " 'ExportFileFormat',\n",
       " 'Format',\n",
       " 'GroupedColumnHeaders',\n",
       " 'Id',\n",
       " 'IsScheduled',\n",
       " 'LoginHistoryId',\n",
       " 'LoginKey',\n",
       " 'Name',\n",
       " 'NumberOfColumns',\n",
       " 'Operation',\n",
       " 'OwnerId',\n",
       " 'PolicyOutcome',\n",
       " 'QueriedEntities',\n",
       " 'Records',\n",
       " 'RelatedEventIdentifier',\n",
       " 'ReportId',\n",
       " 'RowsProcessed',\n",
       " 'Scope',\n",
       " 'Sequence',\n",
       " 'SessionKey',\n",
       " 'SessionLevel',\n",
       " 'SourceIp',\n",
       " 'UserId',\n",
       " 'Username']"
      ]
     },
     "execution_count": 23,
     "metadata": {},
     "output_type": "execute_result"
    }
   ],
   "source": [
    "list(reports_event.columns)"
   ]
  },
  {
   "cell_type": "code",
   "execution_count": 24,
   "metadata": {},
   "outputs": [
    {
     "data": {
      "text/html": [
       "<div>\n",
       "<style scoped>\n",
       "    .dataframe tbody tr th:only-of-type {\n",
       "        vertical-align: middle;\n",
       "    }\n",
       "\n",
       "    .dataframe tbody tr th {\n",
       "        vertical-align: top;\n",
       "    }\n",
       "\n",
       "    .dataframe thead th {\n",
       "        text-align: right;\n",
       "    }\n",
       "</style>\n",
       "<table border=\"1\" class=\"dataframe\">\n",
       "  <thead>\n",
       "    <tr style=\"text-align: right;\">\n",
       "      <th></th>\n",
       "      <th>ColumnHeaders</th>\n",
       "      <th>CreatedDate</th>\n",
       "      <th>DashboardId</th>\n",
       "      <th>DashboardName</th>\n",
       "      <th>Description</th>\n",
       "      <th>DisplayedFieldEntities</th>\n",
       "      <th>EvaluationTime</th>\n",
       "      <th>EventDate</th>\n",
       "      <th>EventIdentifier</th>\n",
       "      <th>EventSource</th>\n",
       "      <th>...</th>\n",
       "      <th>RelatedEventIdentifier</th>\n",
       "      <th>ReportId</th>\n",
       "      <th>RowsProcessed</th>\n",
       "      <th>Scope</th>\n",
       "      <th>Sequence</th>\n",
       "      <th>SessionKey</th>\n",
       "      <th>SessionLevel</th>\n",
       "      <th>SourceIp</th>\n",
       "      <th>UserId</th>\n",
       "      <th>Username</th>\n",
       "    </tr>\n",
       "  </thead>\n",
       "  <tbody>\n",
       "    <tr>\n",
       "      <th>0</th>\n",
       "      <td>[UserServicePresence.StatusStartDate, UserServ...</td>\n",
       "      <td>2022-06-01T13:10:40.563Z</td>\n",
       "      <td>NaN</td>\n",
       "      <td>NaN</td>\n",
       "      <td>NaN</td>\n",
       "      <td>User,UserServicePresence,ServicePresenceStatus</td>\n",
       "      <td>0.0</td>\n",
       "      <td>2022-06-01T13:10:39.103Z</td>\n",
       "      <td>1d6ab64e-3037-4b55-adde-aa201e6c837a</td>\n",
       "      <td>Classic</td>\n",
       "      <td>...</td>\n",
       "      <td>NaN</td>\n",
       "      <td>00O0b000004kkZKEAY</td>\n",
       "      <td>0.0</td>\n",
       "      <td>organization</td>\n",
       "      <td>1</td>\n",
       "      <td>NaN</td>\n",
       "      <td>NaN</td>\n",
       "      <td>NaN</td>\n",
       "      <td>0050b0000046hqjAAA</td>\n",
       "      <td>mayank.kaushal@dell.com.dellservices</td>\n",
       "    </tr>\n",
       "    <tr>\n",
       "      <th>1</th>\n",
       "      <td>[UserServicePresence.StatusStartDate, UserServ...</td>\n",
       "      <td>2022-05-26T12:48:49.891Z</td>\n",
       "      <td>NaN</td>\n",
       "      <td>NaN</td>\n",
       "      <td>NaN</td>\n",
       "      <td>User,UserServicePresence,ServicePresenceStatus</td>\n",
       "      <td>0.0</td>\n",
       "      <td>2022-05-26T12:48:48.928Z</td>\n",
       "      <td>2da2bd62-c797-4dfd-ae59-e780e49637a1</td>\n",
       "      <td>Classic</td>\n",
       "      <td>...</td>\n",
       "      <td>NaN</td>\n",
       "      <td>00O0b000004kkZKEAY</td>\n",
       "      <td>0.0</td>\n",
       "      <td>organization</td>\n",
       "      <td>1</td>\n",
       "      <td>NaN</td>\n",
       "      <td>NaN</td>\n",
       "      <td>NaN</td>\n",
       "      <td>0050b0000046hqjAAA</td>\n",
       "      <td>mayank.kaushal@dell.com.dellservices</td>\n",
       "    </tr>\n",
       "    <tr>\n",
       "      <th>2</th>\n",
       "      <td>[UserServicePresence.StatusStartDate, UserServ...</td>\n",
       "      <td>2022-05-25T13:22:26.467Z</td>\n",
       "      <td>NaN</td>\n",
       "      <td>NaN</td>\n",
       "      <td>NaN</td>\n",
       "      <td>User,UserServicePresence,ServicePresenceStatus</td>\n",
       "      <td>0.0</td>\n",
       "      <td>2022-05-25T13:22:18.205Z</td>\n",
       "      <td>4c39d2ef-bd8d-4e38-8183-f41222e150b1</td>\n",
       "      <td>Classic</td>\n",
       "      <td>...</td>\n",
       "      <td>NaN</td>\n",
       "      <td>00O0b000004kkZKEAY</td>\n",
       "      <td>0.0</td>\n",
       "      <td>organization</td>\n",
       "      <td>1</td>\n",
       "      <td>NaN</td>\n",
       "      <td>NaN</td>\n",
       "      <td>NaN</td>\n",
       "      <td>0050b0000046hqjAAA</td>\n",
       "      <td>mayank.kaushal@dell.com.dellservices</td>\n",
       "    </tr>\n",
       "    <tr>\n",
       "      <th>3</th>\n",
       "      <td>[Case.CaseNumber, Case.Subject, Case.Case_Age_...</td>\n",
       "      <td>2022-05-24T12:51:48.336Z</td>\n",
       "      <td>NaN</td>\n",
       "      <td>NaN</td>\n",
       "      <td>NaN</td>\n",
       "      <td>Activity,Case</td>\n",
       "      <td>0.0</td>\n",
       "      <td>2022-05-24T12:51:41.742Z</td>\n",
       "      <td>537421ae-517f-473d-820d-50823f0f26b2</td>\n",
       "      <td>Classic</td>\n",
       "      <td>...</td>\n",
       "      <td>NaN</td>\n",
       "      <td>00O0b000004kTazEAE</td>\n",
       "      <td>4.0</td>\n",
       "      <td>user</td>\n",
       "      <td>1</td>\n",
       "      <td>NaN</td>\n",
       "      <td>NaN</td>\n",
       "      <td>NaN</td>\n",
       "      <td>0050b0000046hqjAAA</td>\n",
       "      <td>mayank.kaushal@dell.com.dellservices</td>\n",
       "    </tr>\n",
       "    <tr>\n",
       "      <th>4</th>\n",
       "      <td>[CASE_NUMBER, SUBJECT, EMAIL.MESSAGE_DATE, EMA...</td>\n",
       "      <td>2022-05-24T12:51:50.365Z</td>\n",
       "      <td>NaN</td>\n",
       "      <td>NaN</td>\n",
       "      <td>What are the incoming emails on cases that I'm...</td>\n",
       "      <td>EmailMessage,Case</td>\n",
       "      <td>0.0</td>\n",
       "      <td>2022-05-24T12:51:41.593Z</td>\n",
       "      <td>c97f1d48-374f-4f2b-a673-8120a42b65b9</td>\n",
       "      <td>Classic</td>\n",
       "      <td>...</td>\n",
       "      <td>NaN</td>\n",
       "      <td>00O0b000004kpcxEAA</td>\n",
       "      <td>0.0</td>\n",
       "      <td>user</td>\n",
       "      <td>1</td>\n",
       "      <td>NaN</td>\n",
       "      <td>NaN</td>\n",
       "      <td>NaN</td>\n",
       "      <td>0050b0000046hqjAAA</td>\n",
       "      <td>mayank.kaushal@dell.com.dellservices</td>\n",
       "    </tr>\n",
       "  </tbody>\n",
       "</table>\n",
       "<p>5 rows × 35 columns</p>\n",
       "</div>"
      ],
      "text/plain": [
       "                                       ColumnHeaders  \\\n",
       "0  [UserServicePresence.StatusStartDate, UserServ...   \n",
       "1  [UserServicePresence.StatusStartDate, UserServ...   \n",
       "2  [UserServicePresence.StatusStartDate, UserServ...   \n",
       "3  [Case.CaseNumber, Case.Subject, Case.Case_Age_...   \n",
       "4  [CASE_NUMBER, SUBJECT, EMAIL.MESSAGE_DATE, EMA...   \n",
       "\n",
       "                CreatedDate DashboardId DashboardName  \\\n",
       "0  2022-06-01T13:10:40.563Z         NaN           NaN   \n",
       "1  2022-05-26T12:48:49.891Z         NaN           NaN   \n",
       "2  2022-05-25T13:22:26.467Z         NaN           NaN   \n",
       "3  2022-05-24T12:51:48.336Z         NaN           NaN   \n",
       "4  2022-05-24T12:51:50.365Z         NaN           NaN   \n",
       "\n",
       "                                         Description  \\\n",
       "0                                                NaN   \n",
       "1                                                NaN   \n",
       "2                                                NaN   \n",
       "3                                                NaN   \n",
       "4  What are the incoming emails on cases that I'm...   \n",
       "\n",
       "                           DisplayedFieldEntities  EvaluationTime  \\\n",
       "0  User,UserServicePresence,ServicePresenceStatus             0.0   \n",
       "1  User,UserServicePresence,ServicePresenceStatus             0.0   \n",
       "2  User,UserServicePresence,ServicePresenceStatus             0.0   \n",
       "3                                   Activity,Case             0.0   \n",
       "4                               EmailMessage,Case             0.0   \n",
       "\n",
       "                  EventDate                       EventIdentifier EventSource  \\\n",
       "0  2022-06-01T13:10:39.103Z  1d6ab64e-3037-4b55-adde-aa201e6c837a     Classic   \n",
       "1  2022-05-26T12:48:48.928Z  2da2bd62-c797-4dfd-ae59-e780e49637a1     Classic   \n",
       "2  2022-05-25T13:22:18.205Z  4c39d2ef-bd8d-4e38-8183-f41222e150b1     Classic   \n",
       "3  2022-05-24T12:51:41.742Z  537421ae-517f-473d-820d-50823f0f26b2     Classic   \n",
       "4  2022-05-24T12:51:41.593Z  c97f1d48-374f-4f2b-a673-8120a42b65b9     Classic   \n",
       "\n",
       "   ... RelatedEventIdentifier            ReportId RowsProcessed         Scope  \\\n",
       "0  ...                    NaN  00O0b000004kkZKEAY           0.0  organization   \n",
       "1  ...                    NaN  00O0b000004kkZKEAY           0.0  organization   \n",
       "2  ...                    NaN  00O0b000004kkZKEAY           0.0  organization   \n",
       "3  ...                    NaN  00O0b000004kTazEAE           4.0          user   \n",
       "4  ...                    NaN  00O0b000004kpcxEAA           0.0          user   \n",
       "\n",
       "  Sequence  SessionKey SessionLevel SourceIp              UserId  \\\n",
       "0        1         NaN          NaN      NaN  0050b0000046hqjAAA   \n",
       "1        1         NaN          NaN      NaN  0050b0000046hqjAAA   \n",
       "2        1         NaN          NaN      NaN  0050b0000046hqjAAA   \n",
       "3        1         NaN          NaN      NaN  0050b0000046hqjAAA   \n",
       "4        1         NaN          NaN      NaN  0050b0000046hqjAAA   \n",
       "\n",
       "                               Username  \n",
       "0  mayank.kaushal@dell.com.dellservices  \n",
       "1  mayank.kaushal@dell.com.dellservices  \n",
       "2  mayank.kaushal@dell.com.dellservices  \n",
       "3  mayank.kaushal@dell.com.dellservices  \n",
       "4  mayank.kaushal@dell.com.dellservices  \n",
       "\n",
       "[5 rows x 35 columns]"
      ]
     },
     "execution_count": 24,
     "metadata": {},
     "output_type": "execute_result"
    }
   ],
   "source": [
    "reports_event.head()"
   ]
  },
  {
   "cell_type": "code",
   "execution_count": 25,
   "metadata": {},
   "outputs": [
    {
     "data": {
      "text/plain": [
       "(50000, 35)"
      ]
     },
     "execution_count": 25,
     "metadata": {},
     "output_type": "execute_result"
    }
   ],
   "source": [
    "reports_event.shape"
   ]
  },
  {
   "cell_type": "markdown",
   "metadata": {},
   "source": [
    " Filtering lightning reports from reports_event"
   ]
  },
  {
   "cell_type": "code",
   "execution_count": 26,
   "metadata": {},
   "outputs": [],
   "source": [
    "lightning_reports = reports_event[(reports_event['EventSource'] == 'Lightning')]"
   ]
  },
  {
   "cell_type": "markdown",
   "metadata": {},
   "source": [
    "Sorted values by EventDate"
   ]
  },
  {
   "cell_type": "code",
   "execution_count": 27,
   "metadata": {},
   "outputs": [],
   "source": [
    "sortedByEventDate = lightning_reports.sort_values('EventDate', ascending=False)"
   ]
  },
  {
   "cell_type": "markdown",
   "metadata": {},
   "source": [
    "Let's go over a new reference date and a time window to consider active reports.\n",
    "\n",
    "- The reference date may be the most recent date in our sample.\n",
    "- Considering a range of 30 in this analysis.\n",
    "\n",
    "As the reports are sorted by EventDate, our reference date is the first row of the dataframe.\n"
   ]
  },
  {
   "cell_type": "code",
   "execution_count": 28,
   "metadata": {},
   "outputs": [
    {
     "data": {
      "text/plain": [
       "'2022-06-19T21:38:10.334'"
      ]
     },
     "execution_count": 28,
     "metadata": {},
     "output_type": "execute_result"
    }
   ],
   "source": [
    "dateStr = sortedByEventDate['EventDate'].iloc[0][:-1] # Removing trelling 'Z'\n",
    "dateStr"
   ]
  },
  {
   "cell_type": "markdown",
   "metadata": {},
   "source": [
    "Filtering all reports that were edited/run in the last 30 days"
   ]
  },
  {
   "cell_type": "code",
   "execution_count": 29,
   "metadata": {},
   "outputs": [],
   "source": [
    "elapsedDays = 30"
   ]
  },
  {
   "cell_type": "markdown",
   "metadata": {},
   "source": [
    "Creating a fuction to filter this actives reports"
   ]
  },
  {
   "cell_type": "code",
   "execution_count": 30,
   "metadata": {},
   "outputs": [],
   "source": [
    "def filterActiveEventsReports(eventDate):\n",
    "    dateStr = eventDate[:-1] # removing trailing 'Z'\n",
    "    timedelta = referenceDate - datetime.fromisoformat(dateStr).date()\n",
    "    return timedelta.days <= elapsedDays "
   ]
  },
  {
   "cell_type": "markdown",
   "metadata": {},
   "source": [
    "Creating a column for active reports"
   ]
  },
  {
   "cell_type": "code",
   "execution_count": 31,
   "metadata": {},
   "outputs": [
    {
     "name": "stderr",
     "output_type": "stream",
     "text": [
      "/tmp/ipykernel_39616/3715643370.py:1: SettingWithCopyWarning: \n",
      "A value is trying to be set on a copy of a slice from a DataFrame.\n",
      "Try using .loc[row_indexer,col_indexer] = value instead\n",
      "\n",
      "See the caveats in the documentation: https://pandas.pydata.org/pandas-docs/stable/user_guide/indexing.html#returning-a-view-versus-a-copy\n",
      "  lightning_reports['isActive'] = lightning_reports['EventDate'].apply(filterActiveEventsReports)\n"
     ]
    }
   ],
   "source": [
    "lightning_reports['isActive'] = lightning_reports['EventDate'].apply(filterActiveEventsReports)"
   ]
  },
  {
   "cell_type": "code",
   "execution_count": 32,
   "metadata": {},
   "outputs": [
    {
     "data": {
      "text/plain": [
       "False    24920\n",
       "True      5322\n",
       "Name: isActive, dtype: int64"
      ]
     },
     "execution_count": 32,
     "metadata": {},
     "output_type": "execute_result"
    }
   ],
   "source": [
    "lightning_reports['isActive'].value_counts()"
   ]
  },
  {
   "cell_type": "code",
   "execution_count": 33,
   "metadata": {
    "scrolled": true
   },
   "outputs": [
    {
     "data": {
      "text/plain": [
       "<AxesSubplot:>"
      ]
     },
     "execution_count": 33,
     "metadata": {},
     "output_type": "execute_result"
    },
    {
     "data": {
      "image/png": "[encoded data removed]",
      "text/plain": [
       "<Figure size 432x288 with 1 Axes>"
      ]
     },
     "metadata": {
      "needs_background": "light"
     },
     "output_type": "display_data"
    }
   ],
   "source": [
    "lightning_reports['isActive'].value_counts().plot(kind='bar')"
   ]
  },
  {
   "cell_type": "markdown",
   "metadata": {},
   "source": [
    "Checking if there was any update through the RowsProcessed column"
   ]
  },
  {
   "cell_type": "code",
   "execution_count": 42,
   "metadata": {
    "scrolled": true
   },
   "outputs": [],
   "source": [
    "active_lightning_reports = lightning_reports.loc[(reports_event['RowsProcessed'] > 0)]"
   ]
  },
  {
   "cell_type": "markdown",
   "metadata": {},
   "source": [
    " Grouping the table by UserId and SessionKey"
   ]
  },
  {
   "cell_type": "code",
   "execution_count": 48,
   "metadata": {},
   "outputs": [],
   "source": [
    "columns = ['RowsProcessed', 'ReportId', 'Sequence', 'UserId', 'SessionKey'] \n",
    "groupbyOfLightning = active_lightning_reports.groupby(['UserId', 'SessionKey']).agg({'ReportId': 'count',\n",
    "                                                                                    'RowsProcessed': 'sum',\n",
    "                                                                                    'Sequence': 'count'})"
   ]
  },
  {
   "cell_type": "code",
   "execution_count": 40,
   "metadata": {},
   "outputs": [
    {
     "data": {
      "text/html": [
       "<div>\n",
       "<style scoped>\n",
       "    .dataframe tbody tr th:only-of-type {\n",
       "        vertical-align: middle;\n",
       "    }\n",
       "\n",
       "    .dataframe tbody tr th {\n",
       "        vertical-align: top;\n",
       "    }\n",
       "\n",
       "    .dataframe thead th {\n",
       "        text-align: right;\n",
       "    }\n",
       "</style>\n",
       "<table border=\"1\" class=\"dataframe\">\n",
       "  <thead>\n",
       "    <tr style=\"text-align: right;\">\n",
       "      <th></th>\n",
       "      <th>UserId</th>\n",
       "      <th>SessionKey</th>\n",
       "      <th>ReportId</th>\n",
       "      <th>RowsProcessed</th>\n",
       "      <th>Sequence</th>\n",
       "    </tr>\n",
       "  </thead>\n",
       "  <tbody>\n",
       "    <tr>\n",
       "      <th>0</th>\n",
       "      <td>0050b0000046huMAAQ</td>\n",
       "      <td>/x8R+TSdPKm+Qdv3</td>\n",
       "      <td>10</td>\n",
       "      <td>73160.0</td>\n",
       "      <td>10</td>\n",
       "    </tr>\n",
       "    <tr>\n",
       "      <th>1</th>\n",
       "      <td>0050b0000046huMAAQ</td>\n",
       "      <td>1SYYBXzUmlF/tWnA</td>\n",
       "      <td>5</td>\n",
       "      <td>51455.0</td>\n",
       "      <td>5</td>\n",
       "    </tr>\n",
       "    <tr>\n",
       "      <th>2</th>\n",
       "      <td>0050b0000046huMAAQ</td>\n",
       "      <td>1cWFIMsETtLrXM6o</td>\n",
       "      <td>4</td>\n",
       "      <td>501.0</td>\n",
       "      <td>4</td>\n",
       "    </tr>\n",
       "    <tr>\n",
       "      <th>3</th>\n",
       "      <td>0050b0000046huMAAQ</td>\n",
       "      <td>4DKiOqb1R+Pdzuav</td>\n",
       "      <td>6</td>\n",
       "      <td>339.0</td>\n",
       "      <td>6</td>\n",
       "    </tr>\n",
       "    <tr>\n",
       "      <th>4</th>\n",
       "      <td>0050b0000046huMAAQ</td>\n",
       "      <td>7bPknSOYOH71Bbj9</td>\n",
       "      <td>12</td>\n",
       "      <td>113826.0</td>\n",
       "      <td>12</td>\n",
       "    </tr>\n",
       "    <tr>\n",
       "      <th>...</th>\n",
       "      <td>...</td>\n",
       "      <td>...</td>\n",
       "      <td>...</td>\n",
       "      <td>...</td>\n",
       "      <td>...</td>\n",
       "    </tr>\n",
       "    <tr>\n",
       "      <th>1503</th>\n",
       "      <td>0050b000004K0zFAAS</td>\n",
       "      <td>r377uI140lvTplnF</td>\n",
       "      <td>6</td>\n",
       "      <td>1030.0</td>\n",
       "      <td>6</td>\n",
       "    </tr>\n",
       "    <tr>\n",
       "      <th>1504</th>\n",
       "      <td>0050b000004K0zFAAS</td>\n",
       "      <td>sD+efawoH3Ci4Qit</td>\n",
       "      <td>46</td>\n",
       "      <td>8412.0</td>\n",
       "      <td>46</td>\n",
       "    </tr>\n",
       "    <tr>\n",
       "      <th>1505</th>\n",
       "      <td>0050b000004K0zFAAS</td>\n",
       "      <td>t307Y2atZ3jKDv7u</td>\n",
       "      <td>73</td>\n",
       "      <td>61697.0</td>\n",
       "      <td>73</td>\n",
       "    </tr>\n",
       "    <tr>\n",
       "      <th>1506</th>\n",
       "      <td>0050b000004K0zFAAS</td>\n",
       "      <td>uCPHPkm1Mz/1T+F1</td>\n",
       "      <td>21</td>\n",
       "      <td>3816.0</td>\n",
       "      <td>21</td>\n",
       "    </tr>\n",
       "    <tr>\n",
       "      <th>1507</th>\n",
       "      <td>0050b000004K0zFAAS</td>\n",
       "      <td>ujOt699SL3xGco5w</td>\n",
       "      <td>10</td>\n",
       "      <td>2678.0</td>\n",
       "      <td>10</td>\n",
       "    </tr>\n",
       "  </tbody>\n",
       "</table>\n",
       "<p>1508 rows × 5 columns</p>\n",
       "</div>"
      ],
      "text/plain": [
       "                  UserId        SessionKey  ReportId  RowsProcessed  Sequence\n",
       "0     0050b0000046huMAAQ  /x8R+TSdPKm+Qdv3        10        73160.0        10\n",
       "1     0050b0000046huMAAQ  1SYYBXzUmlF/tWnA         5        51455.0         5\n",
       "2     0050b0000046huMAAQ  1cWFIMsETtLrXM6o         4          501.0         4\n",
       "3     0050b0000046huMAAQ  4DKiOqb1R+Pdzuav         6          339.0         6\n",
       "4     0050b0000046huMAAQ  7bPknSOYOH71Bbj9        12       113826.0        12\n",
       "...                  ...               ...       ...            ...       ...\n",
       "1503  0050b000004K0zFAAS  r377uI140lvTplnF         6         1030.0         6\n",
       "1504  0050b000004K0zFAAS  sD+efawoH3Ci4Qit        46         8412.0        46\n",
       "1505  0050b000004K0zFAAS  t307Y2atZ3jKDv7u        73        61697.0        73\n",
       "1506  0050b000004K0zFAAS  uCPHPkm1Mz/1T+F1        21         3816.0        21\n",
       "1507  0050b000004K0zFAAS  ujOt699SL3xGco5w        10         2678.0        10\n",
       "\n",
       "[1508 rows x 5 columns]"
      ]
     },
     "execution_count": 40,
     "metadata": {},
     "output_type": "execute_result"
    }
   ],
   "source": [
    "groupbyOfLightning.reset_index()"
   ]
  },
  {
   "cell_type": "code",
   "execution_count": 64,
   "metadata": {},
   "outputs": [
    {
     "data": {
      "text/plain": [
       "['CreatedById',\n",
       " 'CreatedDate',\n",
       " 'Description',\n",
       " 'DeveloperName',\n",
       " 'FolderName',\n",
       " 'Format',\n",
       " 'Id',\n",
       " 'IsDeleted',\n",
       " 'LastModifiedById',\n",
       " 'LastModifiedDate',\n",
       " 'LastReferencedDate',\n",
       " 'LastRunDate',\n",
       " 'LastViewedDate',\n",
       " 'Name',\n",
       " 'NamespacePrefix',\n",
       " 'OwnerId',\n",
       " 'ReportTypeApiName',\n",
       " 'SystemModstamp',\n",
       " 'isActive']"
      ]
     },
     "execution_count": 64,
     "metadata": {},
     "output_type": "execute_result"
    }
   ],
   "source": [
    "list(reports.columns)"
   ]
  },
  {
   "cell_type": "code",
   "execution_count": 83,
   "metadata": {},
   "outputs": [
    {
     "data": {
      "text/html": [
       "<div>\n",
       "<style scoped>\n",
       "    .dataframe tbody tr th:only-of-type {\n",
       "        vertical-align: middle;\n",
       "    }\n",
       "\n",
       "    .dataframe tbody tr th {\n",
       "        vertical-align: top;\n",
       "    }\n",
       "\n",
       "    .dataframe thead th {\n",
       "        text-align: right;\n",
       "    }\n",
       "</style>\n",
       "<table border=\"1\" class=\"dataframe\">\n",
       "  <thead>\n",
       "    <tr style=\"text-align: right;\">\n",
       "      <th></th>\n",
       "      <th>UserId</th>\n",
       "      <th>SessionKey</th>\n",
       "      <th>ReportId</th>\n",
       "      <th>RowsProcessed</th>\n",
       "      <th>Sequence</th>\n",
       "    </tr>\n",
       "  </thead>\n",
       "  <tbody>\n",
       "    <tr>\n",
       "      <th>0</th>\n",
       "      <td>0050b0000046huMAAQ</td>\n",
       "      <td>/x8R+TSdPKm+Qdv3</td>\n",
       "      <td>10</td>\n",
       "      <td>73160.0</td>\n",
       "      <td>10</td>\n",
       "    </tr>\n",
       "    <tr>\n",
       "      <th>1</th>\n",
       "      <td>0050b0000046huMAAQ</td>\n",
       "      <td>1SYYBXzUmlF/tWnA</td>\n",
       "      <td>5</td>\n",
       "      <td>51455.0</td>\n",
       "      <td>5</td>\n",
       "    </tr>\n",
       "    <tr>\n",
       "      <th>2</th>\n",
       "      <td>0050b0000046huMAAQ</td>\n",
       "      <td>1cWFIMsETtLrXM6o</td>\n",
       "      <td>4</td>\n",
       "      <td>501.0</td>\n",
       "      <td>4</td>\n",
       "    </tr>\n",
       "    <tr>\n",
       "      <th>3</th>\n",
       "      <td>0050b0000046huMAAQ</td>\n",
       "      <td>4DKiOqb1R+Pdzuav</td>\n",
       "      <td>6</td>\n",
       "      <td>339.0</td>\n",
       "      <td>6</td>\n",
       "    </tr>\n",
       "    <tr>\n",
       "      <th>4</th>\n",
       "      <td>0050b0000046huMAAQ</td>\n",
       "      <td>7bPknSOYOH71Bbj9</td>\n",
       "      <td>12</td>\n",
       "      <td>113826.0</td>\n",
       "      <td>12</td>\n",
       "    </tr>\n",
       "    <tr>\n",
       "      <th>...</th>\n",
       "      <td>...</td>\n",
       "      <td>...</td>\n",
       "      <td>...</td>\n",
       "      <td>...</td>\n",
       "      <td>...</td>\n",
       "    </tr>\n",
       "    <tr>\n",
       "      <th>1503</th>\n",
       "      <td>0050b000004K0zFAAS</td>\n",
       "      <td>r377uI140lvTplnF</td>\n",
       "      <td>6</td>\n",
       "      <td>1030.0</td>\n",
       "      <td>6</td>\n",
       "    </tr>\n",
       "    <tr>\n",
       "      <th>1504</th>\n",
       "      <td>0050b000004K0zFAAS</td>\n",
       "      <td>sD+efawoH3Ci4Qit</td>\n",
       "      <td>46</td>\n",
       "      <td>8412.0</td>\n",
       "      <td>46</td>\n",
       "    </tr>\n",
       "    <tr>\n",
       "      <th>1505</th>\n",
       "      <td>0050b000004K0zFAAS</td>\n",
       "      <td>t307Y2atZ3jKDv7u</td>\n",
       "      <td>73</td>\n",
       "      <td>61697.0</td>\n",
       "      <td>73</td>\n",
       "    </tr>\n",
       "    <tr>\n",
       "      <th>1506</th>\n",
       "      <td>0050b000004K0zFAAS</td>\n",
       "      <td>uCPHPkm1Mz/1T+F1</td>\n",
       "      <td>21</td>\n",
       "      <td>3816.0</td>\n",
       "      <td>21</td>\n",
       "    </tr>\n",
       "    <tr>\n",
       "      <th>1507</th>\n",
       "      <td>0050b000004K0zFAAS</td>\n",
       "      <td>ujOt699SL3xGco5w</td>\n",
       "      <td>10</td>\n",
       "      <td>2678.0</td>\n",
       "      <td>10</td>\n",
       "    </tr>\n",
       "  </tbody>\n",
       "</table>\n",
       "<p>1508 rows × 5 columns</p>\n",
       "</div>"
      ],
      "text/plain": [
       "                  UserId        SessionKey  ReportId  RowsProcessed  Sequence\n",
       "0     0050b0000046huMAAQ  /x8R+TSdPKm+Qdv3        10        73160.0        10\n",
       "1     0050b0000046huMAAQ  1SYYBXzUmlF/tWnA         5        51455.0         5\n",
       "2     0050b0000046huMAAQ  1cWFIMsETtLrXM6o         4          501.0         4\n",
       "3     0050b0000046huMAAQ  4DKiOqb1R+Pdzuav         6          339.0         6\n",
       "4     0050b0000046huMAAQ  7bPknSOYOH71Bbj9        12       113826.0        12\n",
       "...                  ...               ...       ...            ...       ...\n",
       "1503  0050b000004K0zFAAS  r377uI140lvTplnF         6         1030.0         6\n",
       "1504  0050b000004K0zFAAS  sD+efawoH3Ci4Qit        46         8412.0        46\n",
       "1505  0050b000004K0zFAAS  t307Y2atZ3jKDv7u        73        61697.0        73\n",
       "1506  0050b000004K0zFAAS  uCPHPkm1Mz/1T+F1        21         3816.0        21\n",
       "1507  0050b000004K0zFAAS  ujOt699SL3xGco5w        10         2678.0        10\n",
       "\n",
       "[1508 rows x 5 columns]"
      ]
     },
     "execution_count": 83,
     "metadata": {},
     "output_type": "execute_result"
    }
   ],
   "source": [
    "#groupLighinint = groupbyOfLightning.rename(columns={'UserId': 'OwnerId'}, inplace = True)\n",
    "groupbyOfLightning.reset_index()"
   ]
  },
  {
   "cell_type": "code",
   "execution_count": 82,
   "metadata": {},
   "outputs": [
    {
     "ename": "AttributeError",
     "evalue": "'NoneType' object has no attribute 'columns'",
     "output_type": "error",
     "traceback": [
      "\u001b[0;31m---------------------------------------------------------------------------\u001b[0m",
      "\u001b[0;31mAttributeError\u001b[0m                            Traceback (most recent call last)",
      "Input \u001b[0;32mIn [82]\u001b[0m, in \u001b[0;36m<cell line: 1>\u001b[0;34m()\u001b[0m\n\u001b[0;32m----> 1\u001b[0m \u001b[38;5;28mlist\u001b[39m(\u001b[43mgroupLighinint\u001b[49m\u001b[38;5;241;43m.\u001b[39;49m\u001b[43mcolumns\u001b[49m)\n",
      "\u001b[0;31mAttributeError\u001b[0m: 'NoneType' object has no attribute 'columns'"
     ]
    }
   ],
   "source": [
    "list(groupLighinint.columns)"
   ]
  },
  {
   "cell_type": "code",
   "execution_count": 62,
   "metadata": {},
   "outputs": [
    {
     "ename": "MergeError",
     "evalue": "No common columns to perform merge on. Merge options: left_on=None, right_on=None, left_index=False, right_index=False",
     "output_type": "error",
     "traceback": [
      "\u001b[0;31m---------------------------------------------------------------------------\u001b[0m",
      "\u001b[0;31mMergeError\u001b[0m                                Traceback (most recent call last)",
      "Input \u001b[0;32mIn [62]\u001b[0m, in \u001b[0;36m<cell line: 1>\u001b[0;34m()\u001b[0m\n\u001b[0;32m----> 1\u001b[0m m \u001b[38;5;241m=\u001b[39m \u001b[43mpd\u001b[49m\u001b[38;5;241;43m.\u001b[39;49m\u001b[43mmerge\u001b[49m\u001b[43m(\u001b[49m\u001b[43mreports\u001b[49m\u001b[43m,\u001b[49m\u001b[43m \u001b[49m\u001b[43mgroupbyOfLightning\u001b[49m\u001b[43m)\u001b[49m\n",
      "File \u001b[0;32m~/.local/lib/python3.10/site-packages/pandas/core/reshape/merge.py:107\u001b[0m, in \u001b[0;36mmerge\u001b[0;34m(left, right, how, on, left_on, right_on, left_index, right_index, sort, suffixes, copy, indicator, validate)\u001b[0m\n\u001b[1;32m     90\u001b[0m \u001b[38;5;129m@Substitution\u001b[39m(\u001b[38;5;124m\"\u001b[39m\u001b[38;5;130;01m\\n\u001b[39;00m\u001b[38;5;124mleft : DataFrame or named Series\u001b[39m\u001b[38;5;124m\"\u001b[39m)\n\u001b[1;32m     91\u001b[0m \u001b[38;5;129m@Appender\u001b[39m(_merge_doc, indents\u001b[38;5;241m=\u001b[39m\u001b[38;5;241m0\u001b[39m)\n\u001b[1;32m     92\u001b[0m \u001b[38;5;28;01mdef\u001b[39;00m \u001b[38;5;21mmerge\u001b[39m(\n\u001b[0;32m   (...)\u001b[0m\n\u001b[1;32m    105\u001b[0m     validate: \u001b[38;5;28mstr\u001b[39m \u001b[38;5;241m|\u001b[39m \u001b[38;5;28;01mNone\u001b[39;00m \u001b[38;5;241m=\u001b[39m \u001b[38;5;28;01mNone\u001b[39;00m,\n\u001b[1;32m    106\u001b[0m ) \u001b[38;5;241m-\u001b[39m\u001b[38;5;241m>\u001b[39m DataFrame:\n\u001b[0;32m--> 107\u001b[0m     op \u001b[38;5;241m=\u001b[39m \u001b[43m_MergeOperation\u001b[49m\u001b[43m(\u001b[49m\n\u001b[1;32m    108\u001b[0m \u001b[43m        \u001b[49m\u001b[43mleft\u001b[49m\u001b[43m,\u001b[49m\n\u001b[1;32m    109\u001b[0m \u001b[43m        \u001b[49m\u001b[43mright\u001b[49m\u001b[43m,\u001b[49m\n\u001b[1;32m    110\u001b[0m \u001b[43m        \u001b[49m\u001b[43mhow\u001b[49m\u001b[38;5;241;43m=\u001b[39;49m\u001b[43mhow\u001b[49m\u001b[43m,\u001b[49m\n\u001b[1;32m    111\u001b[0m \u001b[43m        \u001b[49m\u001b[43mon\u001b[49m\u001b[38;5;241;43m=\u001b[39;49m\u001b[43mon\u001b[49m\u001b[43m,\u001b[49m\n\u001b[1;32m    112\u001b[0m \u001b[43m        \u001b[49m\u001b[43mleft_on\u001b[49m\u001b[38;5;241;43m=\u001b[39;49m\u001b[43mleft_on\u001b[49m\u001b[43m,\u001b[49m\n\u001b[1;32m    113\u001b[0m \u001b[43m        \u001b[49m\u001b[43mright_on\u001b[49m\u001b[38;5;241;43m=\u001b[39;49m\u001b[43mright_on\u001b[49m\u001b[43m,\u001b[49m\n\u001b[1;32m    114\u001b[0m \u001b[43m        \u001b[49m\u001b[43mleft_index\u001b[49m\u001b[38;5;241;43m=\u001b[39;49m\u001b[43mleft_index\u001b[49m\u001b[43m,\u001b[49m\n\u001b[1;32m    115\u001b[0m \u001b[43m        \u001b[49m\u001b[43mright_index\u001b[49m\u001b[38;5;241;43m=\u001b[39;49m\u001b[43mright_index\u001b[49m\u001b[43m,\u001b[49m\n\u001b[1;32m    116\u001b[0m \u001b[43m        \u001b[49m\u001b[43msort\u001b[49m\u001b[38;5;241;43m=\u001b[39;49m\u001b[43msort\u001b[49m\u001b[43m,\u001b[49m\n\u001b[1;32m    117\u001b[0m \u001b[43m        \u001b[49m\u001b[43msuffixes\u001b[49m\u001b[38;5;241;43m=\u001b[39;49m\u001b[43msuffixes\u001b[49m\u001b[43m,\u001b[49m\n\u001b[1;32m    118\u001b[0m \u001b[43m        \u001b[49m\u001b[43mcopy\u001b[49m\u001b[38;5;241;43m=\u001b[39;49m\u001b[43mcopy\u001b[49m\u001b[43m,\u001b[49m\n\u001b[1;32m    119\u001b[0m \u001b[43m        \u001b[49m\u001b[43mindicator\u001b[49m\u001b[38;5;241;43m=\u001b[39;49m\u001b[43mindicator\u001b[49m\u001b[43m,\u001b[49m\n\u001b[1;32m    120\u001b[0m \u001b[43m        \u001b[49m\u001b[43mvalidate\u001b[49m\u001b[38;5;241;43m=\u001b[39;49m\u001b[43mvalidate\u001b[49m\u001b[43m,\u001b[49m\n\u001b[1;32m    121\u001b[0m \u001b[43m    \u001b[49m\u001b[43m)\u001b[49m\n\u001b[1;32m    122\u001b[0m     \u001b[38;5;28;01mreturn\u001b[39;00m op\u001b[38;5;241m.\u001b[39mget_result()\n",
      "File \u001b[0;32m~/.local/lib/python3.10/site-packages/pandas/core/reshape/merge.py:682\u001b[0m, in \u001b[0;36m_MergeOperation.__init__\u001b[0;34m(self, left, right, how, on, left_on, right_on, axis, left_index, right_index, sort, suffixes, copy, indicator, validate)\u001b[0m\n\u001b[1;32m    678\u001b[0m     \u001b[38;5;66;03m# stacklevel chosen to be correct when this is reached via pd.merge\u001b[39;00m\n\u001b[1;32m    679\u001b[0m     \u001b[38;5;66;03m# (and not DataFrame.join)\u001b[39;00m\n\u001b[1;32m    680\u001b[0m     warnings\u001b[38;5;241m.\u001b[39mwarn(msg, \u001b[38;5;167;01mFutureWarning\u001b[39;00m, stacklevel\u001b[38;5;241m=\u001b[39mfind_stack_level())\n\u001b[0;32m--> 682\u001b[0m \u001b[38;5;28;43mself\u001b[39;49m\u001b[38;5;241;43m.\u001b[39;49m\u001b[43m_validate_specification\u001b[49m\u001b[43m(\u001b[49m\u001b[43m)\u001b[49m\n\u001b[1;32m    684\u001b[0m cross_col \u001b[38;5;241m=\u001b[39m \u001b[38;5;28;01mNone\u001b[39;00m\n\u001b[1;32m    685\u001b[0m \u001b[38;5;28;01mif\u001b[39;00m \u001b[38;5;28mself\u001b[39m\u001b[38;5;241m.\u001b[39mhow \u001b[38;5;241m==\u001b[39m \u001b[38;5;124m\"\u001b[39m\u001b[38;5;124mcross\u001b[39m\u001b[38;5;124m\"\u001b[39m:\n",
      "File \u001b[0;32m~/.local/lib/python3.10/site-packages/pandas/core/reshape/merge.py:1353\u001b[0m, in \u001b[0;36m_MergeOperation._validate_specification\u001b[0;34m(self)\u001b[0m\n\u001b[1;32m   1351\u001b[0m common_cols \u001b[38;5;241m=\u001b[39m left_cols\u001b[38;5;241m.\u001b[39mintersection(right_cols)\n\u001b[1;32m   1352\u001b[0m \u001b[38;5;28;01mif\u001b[39;00m \u001b[38;5;28mlen\u001b[39m(common_cols) \u001b[38;5;241m==\u001b[39m \u001b[38;5;241m0\u001b[39m:\n\u001b[0;32m-> 1353\u001b[0m     \u001b[38;5;28;01mraise\u001b[39;00m MergeError(\n\u001b[1;32m   1354\u001b[0m         \u001b[38;5;124m\"\u001b[39m\u001b[38;5;124mNo common columns to perform merge on. \u001b[39m\u001b[38;5;124m\"\u001b[39m\n\u001b[1;32m   1355\u001b[0m         \u001b[38;5;124mf\u001b[39m\u001b[38;5;124m\"\u001b[39m\u001b[38;5;124mMerge options: left_on=\u001b[39m\u001b[38;5;132;01m{\u001b[39;00m\u001b[38;5;28mself\u001b[39m\u001b[38;5;241m.\u001b[39mleft_on\u001b[38;5;132;01m}\u001b[39;00m\u001b[38;5;124m, \u001b[39m\u001b[38;5;124m\"\u001b[39m\n\u001b[1;32m   1356\u001b[0m         \u001b[38;5;124mf\u001b[39m\u001b[38;5;124m\"\u001b[39m\u001b[38;5;124mright_on=\u001b[39m\u001b[38;5;132;01m{\u001b[39;00m\u001b[38;5;28mself\u001b[39m\u001b[38;5;241m.\u001b[39mright_on\u001b[38;5;132;01m}\u001b[39;00m\u001b[38;5;124m, \u001b[39m\u001b[38;5;124m\"\u001b[39m\n\u001b[1;32m   1357\u001b[0m         \u001b[38;5;124mf\u001b[39m\u001b[38;5;124m\"\u001b[39m\u001b[38;5;124mleft_index=\u001b[39m\u001b[38;5;132;01m{\u001b[39;00m\u001b[38;5;28mself\u001b[39m\u001b[38;5;241m.\u001b[39mleft_index\u001b[38;5;132;01m}\u001b[39;00m\u001b[38;5;124m, \u001b[39m\u001b[38;5;124m\"\u001b[39m\n\u001b[1;32m   1358\u001b[0m         \u001b[38;5;124mf\u001b[39m\u001b[38;5;124m\"\u001b[39m\u001b[38;5;124mright_index=\u001b[39m\u001b[38;5;132;01m{\u001b[39;00m\u001b[38;5;28mself\u001b[39m\u001b[38;5;241m.\u001b[39mright_index\u001b[38;5;132;01m}\u001b[39;00m\u001b[38;5;124m\"\u001b[39m\n\u001b[1;32m   1359\u001b[0m     )\n\u001b[1;32m   1360\u001b[0m \u001b[38;5;28;01mif\u001b[39;00m (\n\u001b[1;32m   1361\u001b[0m     \u001b[38;5;129;01mnot\u001b[39;00m left_cols\u001b[38;5;241m.\u001b[39mjoin(common_cols, how\u001b[38;5;241m=\u001b[39m\u001b[38;5;124m\"\u001b[39m\u001b[38;5;124minner\u001b[39m\u001b[38;5;124m\"\u001b[39m)\u001b[38;5;241m.\u001b[39mis_unique\n\u001b[1;32m   1362\u001b[0m     \u001b[38;5;129;01mor\u001b[39;00m \u001b[38;5;129;01mnot\u001b[39;00m right_cols\u001b[38;5;241m.\u001b[39mjoin(common_cols, how\u001b[38;5;241m=\u001b[39m\u001b[38;5;124m\"\u001b[39m\u001b[38;5;124minner\u001b[39m\u001b[38;5;124m\"\u001b[39m)\u001b[38;5;241m.\u001b[39mis_unique\n\u001b[1;32m   1363\u001b[0m ):\n\u001b[1;32m   1364\u001b[0m     \u001b[38;5;28;01mraise\u001b[39;00m MergeError(\u001b[38;5;124mf\u001b[39m\u001b[38;5;124m\"\u001b[39m\u001b[38;5;124mData columns not unique: \u001b[39m\u001b[38;5;132;01m{\u001b[39;00m\u001b[38;5;28mrepr\u001b[39m(common_cols)\u001b[38;5;132;01m}\u001b[39;00m\u001b[38;5;124m\"\u001b[39m)\n",
      "\u001b[0;31mMergeError\u001b[0m: No common columns to perform merge on. Merge options: left_on=None, right_on=None, left_index=False, right_index=False"
     ]
    }
   ],
   "source": [
    "m = pd.merge(reports, groupbyOfLightning)"
   ]
  }
 ],
 "metadata": {
  "kernelspec": {
   "display_name": "Python 3 (ipykernel)",
   "language": "python",
   "name": "python3"
  },
  "language_info": {
   "codemirror_mode": {
    "name": "ipython",
    "version": 3
   },
   "file_extension": ".py",
   "mimetype": "text/x-python",
   "name": "python",
   "nbconvert_exporter": "python",
   "pygments_lexer": "ipython3",
   "version": "3.10.4"
  }
 },
 "nbformat": 4,
 "nbformat_minor": 4
}
