{
 "cells": [
  {
   "cell_type": "markdown",
   "metadata": {},
   "source": [
    "# 1. What are the active reports?"
   ]
  },
  {
   "cell_type": "code",
   "execution_count": 1,
   "metadata": {},
   "outputs": [],
   "source": [
    "import os\n",
    "import pandas as pd\n",
    "from datetime import datetime, date"
   ]
  },
  {
   "cell_type": "code",
   "execution_count": 2,
   "metadata": {},
   "outputs": [
    {
     "data": {
      "text/plain": [
       "['ReportEvent_50k_Sample.csv',\n",
       " 'DataLoad_Exception_Log__c_5k_sample.csv',\n",
       " 'EventLogFile_all_sample.csv',\n",
       " 'Report_all_sample.csv',\n",
       " 'ExceptionLogger__c_5k_sample.csv',\n",
       " 'EventDefinition_1k_samples.csv',\n",
       " 'FieldDefinition_all_sample.csv']"
      ]
     },
     "execution_count": 2,
     "metadata": {},
     "output_type": "execute_result"
    }
   ],
   "source": [
    "os.listdir(\"data/Salesforce/Objects\")"
   ]
  },
  {
   "cell_type": "markdown",
   "metadata": {},
   "source": [
    "## Loading reports"
   ]
  },
  {
   "cell_type": "code",
   "execution_count": 3,
   "metadata": {},
   "outputs": [],
   "source": [
    "reports = pd.read_csv(\"data/Salesforce/Objects/Report_all_sample.csv\")"
   ]
  },
  {
   "cell_type": "code",
   "execution_count": 4,
   "metadata": {},
   "outputs": [
    {
     "data": {
      "text/plain": [
       "(17397, 18)"
      ]
     },
     "execution_count": 4,
     "metadata": {},
     "output_type": "execute_result"
    }
   ],
   "source": [
    "reports.shape"
   ]
  },
  {
   "cell_type": "code",
   "execution_count": 5,
   "metadata": {},
   "outputs": [
    {
     "data": {
      "text/plain": [
       "['CreatedById',\n",
       " 'CreatedDate',\n",
       " 'Description',\n",
       " 'DeveloperName',\n",
       " 'FolderName',\n",
       " 'Format',\n",
       " 'Id',\n",
       " 'IsDeleted',\n",
       " 'LastModifiedById',\n",
       " 'LastModifiedDate',\n",
       " 'LastReferencedDate',\n",
       " 'LastRunDate',\n",
       " 'LastViewedDate',\n",
       " 'Name',\n",
       " 'NamespacePrefix',\n",
       " 'OwnerId',\n",
       " 'ReportTypeApiName',\n",
       " 'SystemModstamp']"
      ]
     },
     "execution_count": 5,
     "metadata": {},
     "output_type": "execute_result"
    }
   ],
   "source": [
    "list(reports.columns)"
   ]
  },
  {
   "cell_type": "code",
   "execution_count": 6,
   "metadata": {},
   "outputs": [
    {
     "data": {
      "text/html": [
       "<div>\n",
       "<style scoped>\n",
       "    .dataframe tbody tr th:only-of-type {\n",
       "        vertical-align: middle;\n",
       "    }\n",
       "\n",
       "    .dataframe tbody tr th {\n",
       "        vertical-align: top;\n",
       "    }\n",
       "\n",
       "    .dataframe thead th {\n",
       "        text-align: right;\n",
       "    }\n",
       "</style>\n",
       "<table border=\"1\" class=\"dataframe\">\n",
       "  <thead>\n",
       "    <tr style=\"text-align: right;\">\n",
       "      <th></th>\n",
       "      <th>CreatedById</th>\n",
       "      <th>CreatedDate</th>\n",
       "      <th>Description</th>\n",
       "      <th>DeveloperName</th>\n",
       "      <th>FolderName</th>\n",
       "      <th>Format</th>\n",
       "      <th>Id</th>\n",
       "      <th>IsDeleted</th>\n",
       "      <th>LastModifiedById</th>\n",
       "      <th>LastModifiedDate</th>\n",
       "      <th>LastReferencedDate</th>\n",
       "      <th>LastRunDate</th>\n",
       "      <th>LastViewedDate</th>\n",
       "      <th>Name</th>\n",
       "      <th>NamespacePrefix</th>\n",
       "      <th>OwnerId</th>\n",
       "      <th>ReportTypeApiName</th>\n",
       "      <th>SystemModstamp</th>\n",
       "    </tr>\n",
       "  </thead>\n",
       "  <tbody>\n",
       "    <tr>\n",
       "      <th>0</th>\n",
       "      <td>0050b000004MLGeAAO</td>\n",
       "      <td>2018-06-20T19:28:03.000Z</td>\n",
       "      <td>NaN</td>\n",
       "      <td>Email2Case_KPI_Wp9</td>\n",
       "      <td>Public Reports</td>\n",
       "      <td>Summary</td>\n",
       "      <td>00O0b000004kSKkEAM</td>\n",
       "      <td>False</td>\n",
       "      <td>0050b000004MLGeAAO</td>\n",
       "      <td>2019-10-16T03:00:16.000Z</td>\n",
       "      <td>2022-06-20T02:04:59.000Z</td>\n",
       "      <td>2022-06-20T02:04:59.000Z</td>\n",
       "      <td>2022-06-20T02:04:59.000Z</td>\n",
       "      <td>Email2Case KPI</td>\n",
       "      <td>NaN</td>\n",
       "      <td>00D0b000000GaMpEAK</td>\n",
       "      <td>CaseList@Case.MaritzCX__Survey_Response_Id__c</td>\n",
       "      <td>2022-06-20T02:04:59.000Z</td>\n",
       "    </tr>\n",
       "    <tr>\n",
       "      <th>1</th>\n",
       "      <td>0050b000004KRSoAAO</td>\n",
       "      <td>2021-08-18T13:14:25.000Z</td>\n",
       "      <td>NaN</td>\n",
       "      <td>Milestone_Report_by_Pallavi_Reddy</td>\n",
       "      <td>Public Reports</td>\n",
       "      <td>Summary</td>\n",
       "      <td>00O2R000003JUgNUAW</td>\n",
       "      <td>False</td>\n",
       "      <td>0050b000004KRSoAAO</td>\n",
       "      <td>2021-08-19T07:27:05.000Z</td>\n",
       "      <td>2022-06-19T18:20:34.000Z</td>\n",
       "      <td>2022-04-18T05:30:14.000Z</td>\n",
       "      <td>2022-06-19T18:20:34.000Z</td>\n",
       "      <td>APJ RDC PM Team - Milestone Report</td>\n",
       "      <td>NaN</td>\n",
       "      <td>00D0b000000GaMpEAK</td>\n",
       "      <td>Project_with_Order_Milestone_Product__c</td>\n",
       "      <td>2022-04-18T05:30:14.000Z</td>\n",
       "    </tr>\n",
       "    <tr>\n",
       "      <th>2</th>\n",
       "      <td>0050b000004KRSoAAO</td>\n",
       "      <td>2021-08-18T14:53:32.000Z</td>\n",
       "      <td>NaN</td>\n",
       "      <td>APJ_RDC_PM_Current_Quarter_Milestones</td>\n",
       "      <td>Public Reports</td>\n",
       "      <td>Summary</td>\n",
       "      <td>00O2R000003JUh6UAG</td>\n",
       "      <td>False</td>\n",
       "      <td>0050b000004KRSoAAO</td>\n",
       "      <td>2021-08-19T07:08:48.000Z</td>\n",
       "      <td>NaN</td>\n",
       "      <td>2022-05-25T08:03:16.000Z</td>\n",
       "      <td>NaN</td>\n",
       "      <td>APJ RDC PM - Current Quarter Milestones</td>\n",
       "      <td>NaN</td>\n",
       "      <td>00D0b000000GaMpEAK</td>\n",
       "      <td>Project_with_Order_Milestone_Product__c</td>\n",
       "      <td>2022-05-25T08:03:16.000Z</td>\n",
       "    </tr>\n",
       "    <tr>\n",
       "      <th>3</th>\n",
       "      <td>0050b000004KVKcAAO</td>\n",
       "      <td>2021-05-06T17:43:54.000Z</td>\n",
       "      <td>Show QTD Earned Revenue - Milestones that have...</td>\n",
       "      <td>C_C_QTD_Earned_Revenue1</td>\n",
       "      <td>Public Reports</td>\n",
       "      <td>Summary</td>\n",
       "      <td>00O2R000003s1qaUAA</td>\n",
       "      <td>False</td>\n",
       "      <td>0050b000004KVKcAAO</td>\n",
       "      <td>2021-08-09T21:37:07.000Z</td>\n",
       "      <td>2022-06-19T18:20:37.000Z</td>\n",
       "      <td>2022-06-15T20:56:37.000Z</td>\n",
       "      <td>2022-06-19T18:20:37.000Z</td>\n",
       "      <td>C&amp;C - QTD Earned Revenue</td>\n",
       "      <td>NaN</td>\n",
       "      <td>00D0b000000GaMpEAK</td>\n",
       "      <td>NaN</td>\n",
       "      <td>2022-06-15T20:56:37.000Z</td>\n",
       "    </tr>\n",
       "    <tr>\n",
       "      <th>4</th>\n",
       "      <td>0052R000009nJKyQAM</td>\n",
       "      <td>2020-08-06T07:00:50.000Z</td>\n",
       "      <td>NaN</td>\n",
       "      <td>Germany_Swivel_Projects_2</td>\n",
       "      <td>Public Reports</td>\n",
       "      <td>Tabular</td>\n",
       "      <td>00O2R000003rzEdUAI</td>\n",
       "      <td>False</td>\n",
       "      <td>0050b000004KUjyAAG</td>\n",
       "      <td>2020-09-01T13:03:59.000Z</td>\n",
       "      <td>NaN</td>\n",
       "      <td>2021-10-28T19:18:37.000Z</td>\n",
       "      <td>NaN</td>\n",
       "      <td>Germany Swivel Projects CFQ</td>\n",
       "      <td>NaN</td>\n",
       "      <td>00D0b000000GaMpEAK</td>\n",
       "      <td>NaN</td>\n",
       "      <td>2021-10-28T19:18:37.000Z</td>\n",
       "    </tr>\n",
       "  </tbody>\n",
       "</table>\n",
       "</div>"
      ],
      "text/plain": [
       "          CreatedById               CreatedDate  \\\n",
       "0  0050b000004MLGeAAO  2018-06-20T19:28:03.000Z   \n",
       "1  0050b000004KRSoAAO  2021-08-18T13:14:25.000Z   \n",
       "2  0050b000004KRSoAAO  2021-08-18T14:53:32.000Z   \n",
       "3  0050b000004KVKcAAO  2021-05-06T17:43:54.000Z   \n",
       "4  0052R000009nJKyQAM  2020-08-06T07:00:50.000Z   \n",
       "\n",
       "                                         Description  \\\n",
       "0                                                NaN   \n",
       "1                                                NaN   \n",
       "2                                                NaN   \n",
       "3  Show QTD Earned Revenue - Milestones that have...   \n",
       "4                                                NaN   \n",
       "\n",
       "                           DeveloperName      FolderName   Format  \\\n",
       "0                     Email2Case_KPI_Wp9  Public Reports  Summary   \n",
       "1      Milestone_Report_by_Pallavi_Reddy  Public Reports  Summary   \n",
       "2  APJ_RDC_PM_Current_Quarter_Milestones  Public Reports  Summary   \n",
       "3                C_C_QTD_Earned_Revenue1  Public Reports  Summary   \n",
       "4              Germany_Swivel_Projects_2  Public Reports  Tabular   \n",
       "\n",
       "                   Id  IsDeleted    LastModifiedById  \\\n",
       "0  00O0b000004kSKkEAM      False  0050b000004MLGeAAO   \n",
       "1  00O2R000003JUgNUAW      False  0050b000004KRSoAAO   \n",
       "2  00O2R000003JUh6UAG      False  0050b000004KRSoAAO   \n",
       "3  00O2R000003s1qaUAA      False  0050b000004KVKcAAO   \n",
       "4  00O2R000003rzEdUAI      False  0050b000004KUjyAAG   \n",
       "\n",
       "           LastModifiedDate        LastReferencedDate  \\\n",
       "0  2019-10-16T03:00:16.000Z  2022-06-20T02:04:59.000Z   \n",
       "1  2021-08-19T07:27:05.000Z  2022-06-19T18:20:34.000Z   \n",
       "2  2021-08-19T07:08:48.000Z                       NaN   \n",
       "3  2021-08-09T21:37:07.000Z  2022-06-19T18:20:37.000Z   \n",
       "4  2020-09-01T13:03:59.000Z                       NaN   \n",
       "\n",
       "                LastRunDate            LastViewedDate  \\\n",
       "0  2022-06-20T02:04:59.000Z  2022-06-20T02:04:59.000Z   \n",
       "1  2022-04-18T05:30:14.000Z  2022-06-19T18:20:34.000Z   \n",
       "2  2022-05-25T08:03:16.000Z                       NaN   \n",
       "3  2022-06-15T20:56:37.000Z  2022-06-19T18:20:37.000Z   \n",
       "4  2021-10-28T19:18:37.000Z                       NaN   \n",
       "\n",
       "                                      Name NamespacePrefix  \\\n",
       "0                           Email2Case KPI             NaN   \n",
       "1       APJ RDC PM Team - Milestone Report             NaN   \n",
       "2  APJ RDC PM - Current Quarter Milestones             NaN   \n",
       "3                 C&C - QTD Earned Revenue             NaN   \n",
       "4              Germany Swivel Projects CFQ             NaN   \n",
       "\n",
       "              OwnerId                              ReportTypeApiName  \\\n",
       "0  00D0b000000GaMpEAK  CaseList@Case.MaritzCX__Survey_Response_Id__c   \n",
       "1  00D0b000000GaMpEAK        Project_with_Order_Milestone_Product__c   \n",
       "2  00D0b000000GaMpEAK        Project_with_Order_Milestone_Product__c   \n",
       "3  00D0b000000GaMpEAK                                            NaN   \n",
       "4  00D0b000000GaMpEAK                                            NaN   \n",
       "\n",
       "             SystemModstamp  \n",
       "0  2022-06-20T02:04:59.000Z  \n",
       "1  2022-04-18T05:30:14.000Z  \n",
       "2  2022-05-25T08:03:16.000Z  \n",
       "3  2022-06-15T20:56:37.000Z  \n",
       "4  2021-10-28T19:18:37.000Z  "
      ]
     },
     "execution_count": 6,
     "metadata": {},
     "output_type": "execute_result"
    }
   ],
   "source": [
    "reports.head()"
   ]
  },
  {
   "cell_type": "code",
   "execution_count": 7,
   "metadata": {},
   "outputs": [],
   "source": [
    "reports = reports.dropna(subset=['LastRunDate'])"
   ]
  },
  {
   "cell_type": "code",
   "execution_count": 8,
   "metadata": {},
   "outputs": [
    {
     "data": {
      "text/plain": [
       "(17235, 18)"
      ]
     },
     "execution_count": 8,
     "metadata": {},
     "output_type": "execute_result"
    }
   ],
   "source": [
    "reports.shape"
   ]
  },
  {
   "cell_type": "markdown",
   "metadata": {},
   "source": [
    "# Sorting by LastRunDate"
   ]
  },
  {
   "cell_type": "code",
   "execution_count": 9,
   "metadata": {},
   "outputs": [],
   "source": [
    "sortedByLastRunDate = reports.sort_values('LastRunDate', ascending=False)"
   ]
  },
  {
   "cell_type": "markdown",
   "metadata": {},
   "source": [
    "Let's define a reference date and a time window to consider active reports.\n",
    "\n",
    "- The reference date may be the most recent date in our sample.\n",
    "- Let's consider a range of 180 in this analysis.\n",
    "\n",
    "Since the reports are sorted by `LastRunDate`, our reference date is the first row of the dataframe."
   ]
  },
  {
   "cell_type": "code",
   "execution_count": 10,
   "metadata": {},
   "outputs": [
    {
     "data": {
      "text/plain": [
       "'2022-06-20T02:07:25.000Z'"
      ]
     },
     "execution_count": 10,
     "metadata": {},
     "output_type": "execute_result"
    }
   ],
   "source": [
    "sortedByLastRunDate['LastRunDate'].iloc[0]"
   ]
  },
  {
   "cell_type": "markdown",
   "metadata": {},
   "source": [
    "Remove training 'Z' without loss of useful information. (according to this [reference](https://social.msdn.microsoft.com/Forums/en-US/27c2f2a9-8a77-4a11-9f71-5e56ddbf064b/what-is-z-in-date-time-format-yyyymmddthhmmssz?forum=csharpgeneral))"
   ]
  },
  {
   "cell_type": "code",
   "execution_count": 11,
   "metadata": {},
   "outputs": [
    {
     "data": {
      "text/plain": [
       "'2022-06-20T02:07:25.000'"
      ]
     },
     "execution_count": 11,
     "metadata": {},
     "output_type": "execute_result"
    }
   ],
   "source": [
    "sortedByLastRunDate['LastRunDate'].iloc[0][:-1]"
   ]
  },
  {
   "cell_type": "code",
   "execution_count": 12,
   "metadata": {},
   "outputs": [],
   "source": [
    "dateStr = sortedByLastRunDate['LastRunDate'].iloc[0][:-1]\n",
    "referenceDate = datetime.fromisoformat(dateStr).date()"
   ]
  },
  {
   "cell_type": "code",
   "execution_count": 13,
   "metadata": {},
   "outputs": [
    {
     "data": {
      "text/plain": [
       "datetime.date(2022, 6, 20)"
      ]
     },
     "execution_count": 13,
     "metadata": {},
     "output_type": "execute_result"
    }
   ],
   "source": [
    "referenceDate"
   ]
  },
  {
   "cell_type": "markdown",
   "metadata": {},
   "source": [
    "Let's filter all reports that were run at least 180 days from this date."
   ]
  },
  {
   "cell_type": "code",
   "execution_count": 14,
   "metadata": {},
   "outputs": [],
   "source": [
    "elapsed_days = 180"
   ]
  },
  {
   "cell_type": "markdown",
   "metadata": {},
   "source": [
    "Writing a function to filter active reports."
   ]
  },
  {
   "cell_type": "code",
   "execution_count": 15,
   "metadata": {},
   "outputs": [],
   "source": [
    "def filterActiveReports(lastRunDate):\n",
    "    dateStr = lastRunDate[:-1] # removing trailing 'Z'\n",
    "    timedelta = referenceDate - datetime.fromisoformat(dateStr).date()\n",
    "    return timedelta.days <= elapsed_days"
   ]
  },
  {
   "cell_type": "markdown",
   "metadata": {},
   "source": [
    "Creating a column to distinguish active and inactive reports."
   ]
  },
  {
   "cell_type": "code",
   "execution_count": 16,
   "metadata": {},
   "outputs": [],
   "source": [
    "reports['isActive'] = reports['LastRunDate'].apply(filterActiveReports)"
   ]
  },
  {
   "cell_type": "code",
   "execution_count": 17,
   "metadata": {},
   "outputs": [
    {
     "data": {
      "text/plain": [
       "True     11605\n",
       "False     5630\n",
       "Name: isActive, dtype: int64"
      ]
     },
     "execution_count": 17,
     "metadata": {},
     "output_type": "execute_result"
    }
   ],
   "source": [
    "reports['isActive'].value_counts()"
   ]
  },
  {
   "cell_type": "code",
   "execution_count": 18,
   "metadata": {},
   "outputs": [
    {
     "data": {
      "text/plain": [
       "<AxesSubplot:>"
      ]
     },
     "execution_count": 18,
     "metadata": {},
     "output_type": "execute_result"
    },
    {
     "data": {
      "image/png": "[encoded data removed]",
      "text/plain": [
       "<Figure size 432x288 with 1 Axes>"
      ]
     },
     "metadata": {
      "needs_background": "light"
     },
     "output_type": "display_data"
    }
   ],
   "source": [
    "# a plot example\n",
    "reports['isActive'].value_counts().plot(kind='bar')"
   ]
  },
  {
   "cell_type": "code",
   "execution_count": 19,
   "metadata": {},
   "outputs": [],
   "source": [
    "activeReports = reports[reports['isActive']]"
   ]
  },
  {
   "cell_type": "code",
   "execution_count": 20,
   "metadata": {},
   "outputs": [
    {
     "data": {
      "text/plain": [
       "(11605, 19)"
      ]
     },
     "execution_count": 20,
     "metadata": {},
     "output_type": "execute_result"
    }
   ],
   "source": [
    "activeReports.shape"
   ]
  },
  {
   "cell_type": "markdown",
   "metadata": {},
   "source": [
    "Storing a dataset with only active reports."
   ]
  },
  {
   "cell_type": "code",
   "execution_count": 21,
   "metadata": {},
   "outputs": [],
   "source": [
    "activeReports.to_csv(\"./datasets/active_reports_180.csv\", index=False)"
   ]
  },
  {
   "cell_type": "markdown",
   "metadata": {},
   "source": [
    "## Load events_reports table"
   ]
  },
  {
   "cell_type": "code",
   "execution_count": 22,
   "metadata": {},
   "outputs": [],
   "source": [
    "reports_event = pd.read_csv(\"data/Salesforce/Objects/ReportEvent_50k_Sample.csv\", low_memory=False)"
   ]
  },
  {
   "cell_type": "code",
   "execution_count": 23,
   "metadata": {},
   "outputs": [
    {
     "data": {
      "text/plain": [
       "['ColumnHeaders',\n",
       " 'CreatedDate',\n",
       " 'DashboardId',\n",
       " 'DashboardName',\n",
       " 'Description',\n",
       " 'DisplayedFieldEntities',\n",
       " 'EvaluationTime',\n",
       " 'EventDate',\n",
       " 'EventIdentifier',\n",
       " 'EventSource',\n",
       " 'ExecutionIdentifier',\n",
       " 'ExportFileFormat',\n",
       " 'Format',\n",
       " 'GroupedColumnHeaders',\n",
       " 'Id',\n",
       " 'IsScheduled',\n",
       " 'LoginHistoryId',\n",
       " 'LoginKey',\n",
       " 'Name',\n",
       " 'NumberOfColumns',\n",
       " 'Operation',\n",
       " 'OwnerId',\n",
       " 'PolicyOutcome',\n",
       " 'QueriedEntities',\n",
       " 'Records',\n",
       " 'RelatedEventIdentifier',\n",
       " 'ReportId',\n",
       " 'RowsProcessed',\n",
       " 'Scope',\n",
       " 'Sequence',\n",
       " 'SessionKey',\n",
       " 'SessionLevel',\n",
       " 'SourceIp',\n",
       " 'UserId',\n",
       " 'Username']"
      ]
     },
     "execution_count": 23,
     "metadata": {},
     "output_type": "execute_result"
    }
   ],
   "source": [
    "list(reports_event.columns)"
   ]
  },
  {
   "cell_type": "code",
   "execution_count": 24,
   "metadata": {},
   "outputs": [
    {
     "data": {
      "text/html": [
       "<div>\n",
       "<style scoped>\n",
       "    .dataframe tbody tr th:only-of-type {\n",
       "        vertical-align: middle;\n",
       "    }\n",
       "\n",
       "    .dataframe tbody tr th {\n",
       "        vertical-align: top;\n",
       "    }\n",
       "\n",
       "    .dataframe thead th {\n",
       "        text-align: right;\n",
       "    }\n",
       "</style>\n",
       "<table border=\"1\" class=\"dataframe\">\n",
       "  <thead>\n",
       "    <tr style=\"text-align: right;\">\n",
       "      <th></th>\n",
       "      <th>ColumnHeaders</th>\n",
       "      <th>CreatedDate</th>\n",
       "      <th>DashboardId</th>\n",
       "      <th>DashboardName</th>\n",
       "      <th>Description</th>\n",
       "      <th>DisplayedFieldEntities</th>\n",
       "      <th>EvaluationTime</th>\n",
       "      <th>EventDate</th>\n",
       "      <th>EventIdentifier</th>\n",
       "      <th>EventSource</th>\n",
       "      <th>...</th>\n",
       "      <th>RelatedEventIdentifier</th>\n",
       "      <th>ReportId</th>\n",
       "      <th>RowsProcessed</th>\n",
       "      <th>Scope</th>\n",
       "      <th>Sequence</th>\n",
       "      <th>SessionKey</th>\n",
       "      <th>SessionLevel</th>\n",
       "      <th>SourceIp</th>\n",
       "      <th>UserId</th>\n",
       "      <th>Username</th>\n",
       "    </tr>\n",
       "  </thead>\n",
       "  <tbody>\n",
       "    <tr>\n",
       "      <th>0</th>\n",
       "      <td>[UserServicePresence.StatusStartDate, UserServ...</td>\n",
       "      <td>2022-06-01T13:10:40.563Z</td>\n",
       "      <td>NaN</td>\n",
       "      <td>NaN</td>\n",
       "      <td>NaN</td>\n",
       "      <td>User,UserServicePresence,ServicePresenceStatus</td>\n",
       "      <td>0.0</td>\n",
       "      <td>2022-06-01T13:10:39.103Z</td>\n",
       "      <td>1d6ab64e-3037-4b55-adde-aa201e6c837a</td>\n",
       "      <td>Classic</td>\n",
       "      <td>...</td>\n",
       "      <td>NaN</td>\n",
       "      <td>00O0b000004kkZKEAY</td>\n",
       "      <td>0.0</td>\n",
       "      <td>organization</td>\n",
       "      <td>1</td>\n",
       "      <td>NaN</td>\n",
       "      <td>NaN</td>\n",
       "      <td>NaN</td>\n",
       "      <td>0050b0000046hqjAAA</td>\n",
       "      <td>mayank.kaushal@dell.com.dellservices</td>\n",
       "    </tr>\n",
       "    <tr>\n",
       "      <th>1</th>\n",
       "      <td>[UserServicePresence.StatusStartDate, UserServ...</td>\n",
       "      <td>2022-05-26T12:48:49.891Z</td>\n",
       "      <td>NaN</td>\n",
       "      <td>NaN</td>\n",
       "      <td>NaN</td>\n",
       "      <td>User,UserServicePresence,ServicePresenceStatus</td>\n",
       "      <td>0.0</td>\n",
       "      <td>2022-05-26T12:48:48.928Z</td>\n",
       "      <td>2da2bd62-c797-4dfd-ae59-e780e49637a1</td>\n",
       "      <td>Classic</td>\n",
       "      <td>...</td>\n",
       "      <td>NaN</td>\n",
       "      <td>00O0b000004kkZKEAY</td>\n",
       "      <td>0.0</td>\n",
       "      <td>organization</td>\n",
       "      <td>1</td>\n",
       "      <td>NaN</td>\n",
       "      <td>NaN</td>\n",
       "      <td>NaN</td>\n",
       "      <td>0050b0000046hqjAAA</td>\n",
       "      <td>mayank.kaushal@dell.com.dellservices</td>\n",
       "    </tr>\n",
       "    <tr>\n",
       "      <th>2</th>\n",
       "      <td>[UserServicePresence.StatusStartDate, UserServ...</td>\n",
       "      <td>2022-05-25T13:22:26.467Z</td>\n",
       "      <td>NaN</td>\n",
       "      <td>NaN</td>\n",
       "      <td>NaN</td>\n",
       "      <td>User,UserServicePresence,ServicePresenceStatus</td>\n",
       "      <td>0.0</td>\n",
       "      <td>2022-05-25T13:22:18.205Z</td>\n",
       "      <td>4c39d2ef-bd8d-4e38-8183-f41222e150b1</td>\n",
       "      <td>Classic</td>\n",
       "      <td>...</td>\n",
       "      <td>NaN</td>\n",
       "      <td>00O0b000004kkZKEAY</td>\n",
       "      <td>0.0</td>\n",
       "      <td>organization</td>\n",
       "      <td>1</td>\n",
       "      <td>NaN</td>\n",
       "      <td>NaN</td>\n",
       "      <td>NaN</td>\n",
       "      <td>0050b0000046hqjAAA</td>\n",
       "      <td>mayank.kaushal@dell.com.dellservices</td>\n",
       "    </tr>\n",
       "    <tr>\n",
       "      <th>3</th>\n",
       "      <td>[Case.CaseNumber, Case.Subject, Case.Case_Age_...</td>\n",
       "      <td>2022-05-24T12:51:48.336Z</td>\n",
       "      <td>NaN</td>\n",
       "      <td>NaN</td>\n",
       "      <td>NaN</td>\n",
       "      <td>Activity,Case</td>\n",
       "      <td>0.0</td>\n",
       "      <td>2022-05-24T12:51:41.742Z</td>\n",
       "      <td>537421ae-517f-473d-820d-50823f0f26b2</td>\n",
       "      <td>Classic</td>\n",
       "      <td>...</td>\n",
       "      <td>NaN</td>\n",
       "      <td>00O0b000004kTazEAE</td>\n",
       "      <td>4.0</td>\n",
       "      <td>user</td>\n",
       "      <td>1</td>\n",
       "      <td>NaN</td>\n",
       "      <td>NaN</td>\n",
       "      <td>NaN</td>\n",
       "      <td>0050b0000046hqjAAA</td>\n",
       "      <td>mayank.kaushal@dell.com.dellservices</td>\n",
       "    </tr>\n",
       "    <tr>\n",
       "      <th>4</th>\n",
       "      <td>[CASE_NUMBER, SUBJECT, EMAIL.MESSAGE_DATE, EMA...</td>\n",
       "      <td>2022-05-24T12:51:50.365Z</td>\n",
       "      <td>NaN</td>\n",
       "      <td>NaN</td>\n",
       "      <td>What are the incoming emails on cases that I'm...</td>\n",
       "      <td>EmailMessage,Case</td>\n",
       "      <td>0.0</td>\n",
       "      <td>2022-05-24T12:51:41.593Z</td>\n",
       "      <td>c97f1d48-374f-4f2b-a673-8120a42b65b9</td>\n",
       "      <td>Classic</td>\n",
       "      <td>...</td>\n",
       "      <td>NaN</td>\n",
       "      <td>00O0b000004kpcxEAA</td>\n",
       "      <td>0.0</td>\n",
       "      <td>user</td>\n",
       "      <td>1</td>\n",
       "      <td>NaN</td>\n",
       "      <td>NaN</td>\n",
       "      <td>NaN</td>\n",
       "      <td>0050b0000046hqjAAA</td>\n",
       "      <td>mayank.kaushal@dell.com.dellservices</td>\n",
       "    </tr>\n",
       "  </tbody>\n",
       "</table>\n",
       "<p>5 rows × 35 columns</p>\n",
       "</div>"
      ],
      "text/plain": [
       "                                       ColumnHeaders  \\\n",
       "0  [UserServicePresence.StatusStartDate, UserServ...   \n",
       "1  [UserServicePresence.StatusStartDate, UserServ...   \n",
       "2  [UserServicePresence.StatusStartDate, UserServ...   \n",
       "3  [Case.CaseNumber, Case.Subject, Case.Case_Age_...   \n",
       "4  [CASE_NUMBER, SUBJECT, EMAIL.MESSAGE_DATE, EMA...   \n",
       "\n",
       "                CreatedDate DashboardId DashboardName  \\\n",
       "0  2022-06-01T13:10:40.563Z         NaN           NaN   \n",
       "1  2022-05-26T12:48:49.891Z         NaN           NaN   \n",
       "2  2022-05-25T13:22:26.467Z         NaN           NaN   \n",
       "3  2022-05-24T12:51:48.336Z         NaN           NaN   \n",
       "4  2022-05-24T12:51:50.365Z         NaN           NaN   \n",
       "\n",
       "                                         Description  \\\n",
       "0                                                NaN   \n",
       "1                                                NaN   \n",
       "2                                                NaN   \n",
       "3                                                NaN   \n",
       "4  What are the incoming emails on cases that I'm...   \n",
       "\n",
       "                           DisplayedFieldEntities  EvaluationTime  \\\n",
       "0  User,UserServicePresence,ServicePresenceStatus             0.0   \n",
       "1  User,UserServicePresence,ServicePresenceStatus             0.0   \n",
       "2  User,UserServicePresence,ServicePresenceStatus             0.0   \n",
       "3                                   Activity,Case             0.0   \n",
       "4                               EmailMessage,Case             0.0   \n",
       "\n",
       "                  EventDate                       EventIdentifier EventSource  \\\n",
       "0  2022-06-01T13:10:39.103Z  1d6ab64e-3037-4b55-adde-aa201e6c837a     Classic   \n",
       "1  2022-05-26T12:48:48.928Z  2da2bd62-c797-4dfd-ae59-e780e49637a1     Classic   \n",
       "2  2022-05-25T13:22:18.205Z  4c39d2ef-bd8d-4e38-8183-f41222e150b1     Classic   \n",
       "3  2022-05-24T12:51:41.742Z  537421ae-517f-473d-820d-50823f0f26b2     Classic   \n",
       "4  2022-05-24T12:51:41.593Z  c97f1d48-374f-4f2b-a673-8120a42b65b9     Classic   \n",
       "\n",
       "   ... RelatedEventIdentifier            ReportId RowsProcessed         Scope  \\\n",
       "0  ...                    NaN  00O0b000004kkZKEAY           0.0  organization   \n",
       "1  ...                    NaN  00O0b000004kkZKEAY           0.0  organization   \n",
       "2  ...                    NaN  00O0b000004kkZKEAY           0.0  organization   \n",
       "3  ...                    NaN  00O0b000004kTazEAE           4.0          user   \n",
       "4  ...                    NaN  00O0b000004kpcxEAA           0.0          user   \n",
       "\n",
       "  Sequence  SessionKey SessionLevel SourceIp              UserId  \\\n",
       "0        1         NaN          NaN      NaN  0050b0000046hqjAAA   \n",
       "1        1         NaN          NaN      NaN  0050b0000046hqjAAA   \n",
       "2        1         NaN          NaN      NaN  0050b0000046hqjAAA   \n",
       "3        1         NaN          NaN      NaN  0050b0000046hqjAAA   \n",
       "4        1         NaN          NaN      NaN  0050b0000046hqjAAA   \n",
       "\n",
       "                               Username  \n",
       "0  mayank.kaushal@dell.com.dellservices  \n",
       "1  mayank.kaushal@dell.com.dellservices  \n",
       "2  mayank.kaushal@dell.com.dellservices  \n",
       "3  mayank.kaushal@dell.com.dellservices  \n",
       "4  mayank.kaushal@dell.com.dellservices  \n",
       "\n",
       "[5 rows x 35 columns]"
      ]
     },
     "execution_count": 24,
     "metadata": {},
     "output_type": "execute_result"
    }
   ],
   "source": [
    "reports_event.head()"
   ]
  },
  {
   "cell_type": "code",
   "execution_count": 25,
   "metadata": {},
   "outputs": [
    {
     "data": {
      "text/plain": [
       "(50000, 35)"
      ]
     },
     "execution_count": 25,
     "metadata": {},
     "output_type": "execute_result"
    }
   ],
   "source": [
    "reports_event.shape"
   ]
  },
  {
   "cell_type": "markdown",
   "metadata": {},
   "source": [
    "### Let's apply some to check the reports_events that are active"
   ]
  },
  {
   "cell_type": "markdown",
   "metadata": {},
   "source": [
    " Filtering lightning reports from reports_event (According this [documatation](https://developer.salesforce.com/docs/atlas.en-us.236.0.platform_events.meta/platform_events/sforce_api_objects_reportevent.htm))"
   ]
  },
  {
   "cell_type": "code",
   "execution_count": 26,
   "metadata": {},
   "outputs": [],
   "source": [
    "lightning_reports = reports_event[(reports_event['EventSource'] == 'Lightning')]"
   ]
  },
  {
   "cell_type": "markdown",
   "metadata": {},
   "source": [
    "Sorted values by EventDate (According this [documatation](https://developer.salesforce.com/docs/atlas.en-us.236.0.platform_events.meta/platform_events/sforce_api_objects_reportevent.htm))"
   ]
  },
  {
   "cell_type": "code",
   "execution_count": 27,
   "metadata": {},
   "outputs": [],
   "source": [
    "sortedByEventDate = lightning_reports.sort_values('EventDate', ascending=False)"
   ]
  },
  {
   "cell_type": "markdown",
   "metadata": {},
   "source": [
    "Let's go over a new reference date and a time window to consider active reports.\n",
    "\n",
    "- The reference date may be the most recent date in our sample.\n",
    "- Considering a range of 30 in this analysis.\n",
    "\n",
    "As the reports are sorted by EventDate, our reference date is the first row of the dataframe.\n"
   ]
  },
  {
   "cell_type": "code",
   "execution_count": 28,
   "metadata": {},
   "outputs": [
    {
     "data": {
      "text/plain": [
       "'2022-06-19T21:38:10.334'"
      ]
     },
     "execution_count": 28,
     "metadata": {},
     "output_type": "execute_result"
    }
   ],
   "source": [
    "dateStr = sortedByEventDate['EventDate'].iloc[0][:-1] # Removing trelling 'Z'\n",
    "dateStr"
   ]
  },
  {
   "cell_type": "markdown",
   "metadata": {},
   "source": [
    "Filtering all reports that were edited/run in the last 30 days"
   ]
  },
  {
   "cell_type": "code",
   "execution_count": 29,
   "metadata": {},
   "outputs": [],
   "source": [
    "elapsedDays = 30"
   ]
  },
  {
   "cell_type": "markdown",
   "metadata": {},
   "source": [
    "Creating a fuction to filter this actives reports"
   ]
  },
  {
   "cell_type": "code",
   "execution_count": 30,
   "metadata": {},
   "outputs": [],
   "source": [
    "def filterActiveEventsReports(eventDate):\n",
    "    dateStr = eventDate[:-1] # removing trailing 'Z'\n",
    "    timedelta = referenceDate - datetime.fromisoformat(dateStr).date()\n",
    "    return timedelta.days <= elapsedDays "
   ]
  },
  {
   "cell_type": "markdown",
   "metadata": {},
   "source": [
    "Creating a column for active reports at last month"
   ]
  },
  {
   "cell_type": "code",
   "execution_count": 31,
   "metadata": {},
   "outputs": [
    {
     "name": "stderr",
     "output_type": "stream",
     "text": [
      "/tmp/ipykernel_20431/4288702815.py:1: SettingWithCopyWarning: \n",
      "A value is trying to be set on a copy of a slice from a DataFrame.\n",
      "Try using .loc[row_indexer,col_indexer] = value instead\n",
      "\n",
      "See the caveats in the documentation: https://pandas.pydata.org/pandas-docs/stable/user_guide/indexing.html#returning-a-view-versus-a-copy\n",
      "  lightning_reports['lastActiveMonth'] = lightning_reports['EventDate'].apply(filterActiveEventsReports)\n"
     ]
    }
   ],
   "source": [
    "lightning_reports['lastActiveMonth'] = lightning_reports['EventDate'].apply(filterActiveEventsReports)"
   ]
  },
  {
   "cell_type": "code",
   "execution_count": 32,
   "metadata": {},
   "outputs": [
    {
     "data": {
      "text/plain": [
       "False    24920\n",
       "True      5322\n",
       "Name: lastActiveMonth, dtype: int64"
      ]
     },
     "execution_count": 32,
     "metadata": {},
     "output_type": "execute_result"
    }
   ],
   "source": [
    "lightning_reports['lastActiveMonth'].value_counts()"
   ]
  },
  {
   "cell_type": "code",
   "execution_count": 33,
   "metadata": {
    "scrolled": true
   },
   "outputs": [
    {
     "data": {
      "text/plain": [
       "<AxesSubplot:>"
      ]
     },
     "execution_count": 33,
     "metadata": {},
     "output_type": "execute_result"
    },
    {
     "data": {
      "image/png": "[encoded data removed]",
      "text/plain": [
       "<Figure size 432x288 with 1 Axes>"
      ]
     },
     "metadata": {
      "needs_background": "light"
     },
     "output_type": "display_data"
    }
   ],
   "source": [
    "lightning_reports['lastActiveMonth'].value_counts().plot(kind='bar')"
   ]
  },
  {
   "cell_type": "markdown",
   "metadata": {},
   "source": [
    "Checking if there was any update through the RowsProcessed column"
   ]
  },
  {
   "cell_type": "code",
   "execution_count": 34,
   "metadata": {},
   "outputs": [
    {
     "data": {
      "text/plain": [
       "(30242, 36)"
      ]
     },
     "execution_count": 34,
     "metadata": {},
     "output_type": "execute_result"
    }
   ],
   "source": [
    "lightning_reports.shape"
   ]
  },
  {
   "cell_type": "code",
   "execution_count": 35,
   "metadata": {
    "scrolled": true
   },
   "outputs": [],
   "source": [
    "active_reports_rowsProcessed = lightning_reports.loc[(reports_event['RowsProcessed'] > 0)]"
   ]
  },
  {
   "cell_type": "code",
   "execution_count": 36,
   "metadata": {},
   "outputs": [
    {
     "data": {
      "text/plain": [
       "(28534, 36)"
      ]
     },
     "execution_count": 36,
     "metadata": {},
     "output_type": "execute_result"
    }
   ],
   "source": [
    "active_reports_rowsProcessed.shape"
   ]
  },
  {
   "cell_type": "markdown",
   "metadata": {},
   "source": [
    " Grouping the table by UserId and SessionKey"
   ]
  },
  {
   "cell_type": "code",
   "execution_count": 37,
   "metadata": {},
   "outputs": [],
   "source": [
    "columns = ['RowsProcessed', 'ReportId', 'Sequence', 'UserId', 'SessionKey'] \n",
    "lighitingGroups= active_reports_rowsProcessed.groupby(['UserId', 'SessionKey']).agg({'ReportId': 'count',\n",
    "                                                                                    'RowsProcessed': 'sum',\n",
    "                                                                                    'Sequence': 'count'}).reset_index()"
   ]
  },
  {
   "cell_type": "code",
   "execution_count": 38,
   "metadata": {},
   "outputs": [
    {
     "data": {
      "text/html": [
       "<div>\n",
       "<style scoped>\n",
       "    .dataframe tbody tr th:only-of-type {\n",
       "        vertical-align: middle;\n",
       "    }\n",
       "\n",
       "    .dataframe tbody tr th {\n",
       "        vertical-align: top;\n",
       "    }\n",
       "\n",
       "    .dataframe thead th {\n",
       "        text-align: right;\n",
       "    }\n",
       "</style>\n",
       "<table border=\"1\" class=\"dataframe\">\n",
       "  <thead>\n",
       "    <tr style=\"text-align: right;\">\n",
       "      <th></th>\n",
       "      <th>UserId</th>\n",
       "      <th>SessionKey</th>\n",
       "      <th>ReportId</th>\n",
       "      <th>RowsProcessed</th>\n",
       "      <th>Sequence</th>\n",
       "    </tr>\n",
       "  </thead>\n",
       "  <tbody>\n",
       "    <tr>\n",
       "      <th>0</th>\n",
       "      <td>0050b0000046huMAAQ</td>\n",
       "      <td>/x8R+TSdPKm+Qdv3</td>\n",
       "      <td>10</td>\n",
       "      <td>73160.0</td>\n",
       "      <td>10</td>\n",
       "    </tr>\n",
       "    <tr>\n",
       "      <th>1</th>\n",
       "      <td>0050b0000046huMAAQ</td>\n",
       "      <td>1SYYBXzUmlF/tWnA</td>\n",
       "      <td>5</td>\n",
       "      <td>51455.0</td>\n",
       "      <td>5</td>\n",
       "    </tr>\n",
       "    <tr>\n",
       "      <th>2</th>\n",
       "      <td>0050b0000046huMAAQ</td>\n",
       "      <td>1cWFIMsETtLrXM6o</td>\n",
       "      <td>4</td>\n",
       "      <td>501.0</td>\n",
       "      <td>4</td>\n",
       "    </tr>\n",
       "    <tr>\n",
       "      <th>3</th>\n",
       "      <td>0050b0000046huMAAQ</td>\n",
       "      <td>4DKiOqb1R+Pdzuav</td>\n",
       "      <td>6</td>\n",
       "      <td>339.0</td>\n",
       "      <td>6</td>\n",
       "    </tr>\n",
       "    <tr>\n",
       "      <th>4</th>\n",
       "      <td>0050b0000046huMAAQ</td>\n",
       "      <td>7bPknSOYOH71Bbj9</td>\n",
       "      <td>12</td>\n",
       "      <td>113826.0</td>\n",
       "      <td>12</td>\n",
       "    </tr>\n",
       "    <tr>\n",
       "      <th>...</th>\n",
       "      <td>...</td>\n",
       "      <td>...</td>\n",
       "      <td>...</td>\n",
       "      <td>...</td>\n",
       "      <td>...</td>\n",
       "    </tr>\n",
       "    <tr>\n",
       "      <th>1503</th>\n",
       "      <td>0050b000004K0zFAAS</td>\n",
       "      <td>r377uI140lvTplnF</td>\n",
       "      <td>6</td>\n",
       "      <td>1030.0</td>\n",
       "      <td>6</td>\n",
       "    </tr>\n",
       "    <tr>\n",
       "      <th>1504</th>\n",
       "      <td>0050b000004K0zFAAS</td>\n",
       "      <td>sD+efawoH3Ci4Qit</td>\n",
       "      <td>46</td>\n",
       "      <td>8412.0</td>\n",
       "      <td>46</td>\n",
       "    </tr>\n",
       "    <tr>\n",
       "      <th>1505</th>\n",
       "      <td>0050b000004K0zFAAS</td>\n",
       "      <td>t307Y2atZ3jKDv7u</td>\n",
       "      <td>73</td>\n",
       "      <td>61697.0</td>\n",
       "      <td>73</td>\n",
       "    </tr>\n",
       "    <tr>\n",
       "      <th>1506</th>\n",
       "      <td>0050b000004K0zFAAS</td>\n",
       "      <td>uCPHPkm1Mz/1T+F1</td>\n",
       "      <td>21</td>\n",
       "      <td>3816.0</td>\n",
       "      <td>21</td>\n",
       "    </tr>\n",
       "    <tr>\n",
       "      <th>1507</th>\n",
       "      <td>0050b000004K0zFAAS</td>\n",
       "      <td>ujOt699SL3xGco5w</td>\n",
       "      <td>10</td>\n",
       "      <td>2678.0</td>\n",
       "      <td>10</td>\n",
       "    </tr>\n",
       "  </tbody>\n",
       "</table>\n",
       "<p>1508 rows × 5 columns</p>\n",
       "</div>"
      ],
      "text/plain": [
       "                  UserId        SessionKey  ReportId  RowsProcessed  Sequence\n",
       "0     0050b0000046huMAAQ  /x8R+TSdPKm+Qdv3        10        73160.0        10\n",
       "1     0050b0000046huMAAQ  1SYYBXzUmlF/tWnA         5        51455.0         5\n",
       "2     0050b0000046huMAAQ  1cWFIMsETtLrXM6o         4          501.0         4\n",
       "3     0050b0000046huMAAQ  4DKiOqb1R+Pdzuav         6          339.0         6\n",
       "4     0050b0000046huMAAQ  7bPknSOYOH71Bbj9        12       113826.0        12\n",
       "...                  ...               ...       ...            ...       ...\n",
       "1503  0050b000004K0zFAAS  r377uI140lvTplnF         6         1030.0         6\n",
       "1504  0050b000004K0zFAAS  sD+efawoH3Ci4Qit        46         8412.0        46\n",
       "1505  0050b000004K0zFAAS  t307Y2atZ3jKDv7u        73        61697.0        73\n",
       "1506  0050b000004K0zFAAS  uCPHPkm1Mz/1T+F1        21         3816.0        21\n",
       "1507  0050b000004K0zFAAS  ujOt699SL3xGco5w        10         2678.0        10\n",
       "\n",
       "[1508 rows x 5 columns]"
      ]
     },
     "execution_count": 38,
     "metadata": {},
     "output_type": "execute_result"
    }
   ],
   "source": [
    "lighitingGroups"
   ]
  },
  {
   "cell_type": "markdown",
   "metadata": {},
   "source": [
    "\n",
    "\n",
    "After applying the filters, we can conclude that this 50k sample had changes. The most significant is to apply the Last Active Month report filter, where only 5322 active Lightning-type samples were found, approximately 11% of the sample space."
   ]
  },
  {
   "cell_type": "markdown",
   "metadata": {},
   "source": [
    "## Loading table Reports Event Type"
   ]
  },
  {
   "cell_type": "code",
   "execution_count": 39,
   "metadata": {},
   "outputs": [],
   "source": [
    "reports_event_type = pd.read_csv(\"data/Salesforce/ELF/Report/2022-06-20_Report.csv\")"
   ]
  },
  {
   "cell_type": "code",
   "execution_count": 40,
   "metadata": {},
   "outputs": [
    {
     "data": {
      "text/plain": [
       "['EVENT_TYPE',\n",
       " 'TIMESTAMP',\n",
       " 'REQUEST_ID',\n",
       " 'ORGANIZATION_ID',\n",
       " 'USER_ID',\n",
       " 'RUN_TIME',\n",
       " 'CPU_TIME',\n",
       " 'URI',\n",
       " 'SESSION_KEY',\n",
       " 'LOGIN_KEY',\n",
       " 'USER_TYPE',\n",
       " 'REQUEST_STATUS',\n",
       " 'DB_TOTAL_TIME',\n",
       " 'ENTITY_NAME',\n",
       " 'DISPLAY_TYPE',\n",
       " 'RENDERING_TYPE',\n",
       " 'REPORT_ID',\n",
       " 'ROW_COUNT',\n",
       " 'NUMBER_EXCEPTION_FILTERS',\n",
       " 'NUMBER_COLUMNS',\n",
       " 'AVERAGE_ROW_SIZE',\n",
       " 'SORT',\n",
       " 'DB_BLOCKS',\n",
       " 'DB_CPU_TIME',\n",
       " 'NUMBER_BUCKETS',\n",
       " 'TIMESTAMP_DERIVED',\n",
       " 'USER_ID_DERIVED',\n",
       " 'CLIENT_IP',\n",
       " 'URI_ID_DERIVED',\n",
       " 'REPORT_ID_DERIVED',\n",
       " 'ORIGIN']"
      ]
     },
     "execution_count": 40,
     "metadata": {},
     "output_type": "execute_result"
    }
   ],
   "source": [
    "list(reports_event_type.columns)"
   ]
  },
  {
   "cell_type": "code",
   "execution_count": 41,
   "metadata": {},
   "outputs": [
    {
     "data": {
      "text/plain": [
       "(705, 31)"
      ]
     },
     "execution_count": 41,
     "metadata": {},
     "output_type": "execute_result"
    }
   ],
   "source": [
    "reports_event_type.shape"
   ]
  },
  {
   "cell_type": "markdown",
   "metadata": {},
   "source": [
    "### Let's apply some to check the reports that are active"
   ]
  },
  {
   "cell_type": "markdown",
   "metadata": {},
   "source": [
    "Filtering reports event type ORIGIN per Lightning values( ```DashboardComponentPreviewed``` and ```ReportRunFromLightning```)"
   ]
  },
  {
   "cell_type": "code",
   "execution_count": 42,
   "metadata": {},
   "outputs": [],
   "source": [
    "lightning_event_type = reports_event_type[(reports_event_type['ORIGIN'] == 'DashboardComponentPreviewed') | (reports_event_type['ORIGIN'] == 'ReportRunFromLightning')]"
   ]
  },
  {
   "cell_type": "code",
   "execution_count": 43,
   "metadata": {},
   "outputs": [
    {
     "data": {
      "text/plain": [
       "(382, 31)"
      ]
     },
     "execution_count": 43,
     "metadata": {},
     "output_type": "execute_result"
    }
   ],
   "source": [
    "lightning_event_type.shape"
   ]
  },
  {
   "cell_type": "markdown",
   "metadata": {},
   "source": [
    "Sorted values by TIMESTAMP_DERIVED (Acording to this [Documatation](https://developer.salesforce.com/docs/atlas.en-us.238.0.object_reference.meta/object_reference/sforce_api_objects_eventlogfile_report.htm?q=report+type))"
   ]
  },
  {
   "cell_type": "code",
   "execution_count": 44,
   "metadata": {},
   "outputs": [],
   "source": [
    "sortedByTimestampDerived = lightning_event_type.sort_values('TIMESTAMP_DERIVED', ascending=False)"
   ]
  },
  {
   "cell_type": "markdown",
   "metadata": {},
   "source": [
    "Let's go over a new reference date and a time window to consider active reports.\n",
    "\n",
    "- The reference date may be the most recent date in our sample.\n",
    "- Considering a range of 30 in this analysis.\n",
    "\n",
    "As the reports are sorted by TIMESTAMP_DERIVED, our reference date is the first row of the dataframe.\n"
   ]
  },
  {
   "cell_type": "code",
   "execution_count": 45,
   "metadata": {},
   "outputs": [
    {
     "data": {
      "text/plain": [
       "'2022-06-20T00:59:52.239'"
      ]
     },
     "execution_count": 45,
     "metadata": {},
     "output_type": "execute_result"
    }
   ],
   "source": [
    "evetDateStr = sortedByTimestampDerived['TIMESTAMP_DERIVED'].iloc[0][:-1] # Removing trelling 'Z'\n",
    "evetDateStr"
   ]
  },
  {
   "cell_type": "markdown",
   "metadata": {},
   "source": [
    "Using a varieble for filtering all reports that were run/edited in 30 days"
   ]
  },
  {
   "cell_type": "code",
   "execution_count": 46,
   "metadata": {},
   "outputs": [
    {
     "data": {
      "text/plain": [
       "30"
      ]
     },
     "execution_count": 46,
     "metadata": {},
     "output_type": "execute_result"
    }
   ],
   "source": [
    "elapsedDays"
   ]
  },
  {
   "cell_type": "markdown",
   "metadata": {},
   "source": [
    "Using a function to filter this actives reports and creating a column for active reports"
   ]
  },
  {
   "cell_type": "code",
   "execution_count": 47,
   "metadata": {},
   "outputs": [
    {
     "name": "stderr",
     "output_type": "stream",
     "text": [
      "/tmp/ipykernel_20431/3207486056.py:1: SettingWithCopyWarning: \n",
      "A value is trying to be set on a copy of a slice from a DataFrame.\n",
      "Try using .loc[row_indexer,col_indexer] = value instead\n",
      "\n",
      "See the caveats in the documentation: https://pandas.pydata.org/pandas-docs/stable/user_guide/indexing.html#returning-a-view-versus-a-copy\n",
      "  lightning_event_type['lastActiveMonth'] = lightning_event_type['TIMESTAMP_DERIVED'].apply(filterActiveEventsReports)\n"
     ]
    }
   ],
   "source": [
    "lightning_event_type['lastActiveMonth'] = lightning_event_type['TIMESTAMP_DERIVED'].apply(filterActiveEventsReports)"
   ]
  },
  {
   "cell_type": "code",
   "execution_count": 48,
   "metadata": {},
   "outputs": [
    {
     "data": {
      "text/plain": [
       "True    382\n",
       "Name: lastActiveMonth, dtype: int64"
      ]
     },
     "execution_count": 48,
     "metadata": {},
     "output_type": "execute_result"
    }
   ],
   "source": [
    "lightning_event_type['lastActiveMonth'].value_counts()"
   ]
  },
  {
   "cell_type": "markdown",
   "metadata": {},
   "source": [
    "A plot for example"
   ]
  },
  {
   "cell_type": "code",
   "execution_count": 49,
   "metadata": {},
   "outputs": [
    {
     "data": {
      "text/plain": [
       "<AxesSubplot:>"
      ]
     },
     "execution_count": 49,
     "metadata": {},
     "output_type": "execute_result"
    },
    {
     "data": {
      "image/png": "[encoded data removed]",
      "text/plain": [
       "<Figure size 432x288 with 1 Axes>"
      ]
     },
     "metadata": {
      "needs_background": "light"
     },
     "output_type": "display_data"
    }
   ],
   "source": [
    "lightning_event_type['lastActiveMonth'].value_counts().plot(kind='bar')"
   ]
  },
  {
   "cell_type": "markdown",
   "metadata": {},
   "source": [
    "Checking if there was any update through the ROW_COUNT column"
   ]
  },
  {
   "cell_type": "code",
   "execution_count": 50,
   "metadata": {},
   "outputs": [],
   "source": [
    "active_event_reports_rowsProcessed = lightning_event_type.loc[(reports_event_type['ROW_COUNT'] > 0)]"
   ]
  },
  {
   "cell_type": "code",
   "execution_count": 51,
   "metadata": {},
   "outputs": [
    {
     "data": {
      "text/plain": [
       "(328, 32)"
      ]
     },
     "execution_count": 51,
     "metadata": {},
     "output_type": "execute_result"
    }
   ],
   "source": [
    "active_event_reports_rowsProcessed.shape"
   ]
  },
  {
   "cell_type": "code",
   "execution_count": 52,
   "metadata": {},
   "outputs": [
    {
     "data": {
      "text/html": [
       "<div>\n",
       "<style scoped>\n",
       "    .dataframe tbody tr th:only-of-type {\n",
       "        vertical-align: middle;\n",
       "    }\n",
       "\n",
       "    .dataframe tbody tr th {\n",
       "        vertical-align: top;\n",
       "    }\n",
       "\n",
       "    .dataframe thead th {\n",
       "        text-align: right;\n",
       "    }\n",
       "</style>\n",
       "<table border=\"1\" class=\"dataframe\">\n",
       "  <thead>\n",
       "    <tr style=\"text-align: right;\">\n",
       "      <th></th>\n",
       "      <th>EVENT_TYPE</th>\n",
       "      <th>TIMESTAMP</th>\n",
       "      <th>REQUEST_ID</th>\n",
       "      <th>ORGANIZATION_ID</th>\n",
       "      <th>USER_ID</th>\n",
       "      <th>RUN_TIME</th>\n",
       "      <th>CPU_TIME</th>\n",
       "      <th>URI</th>\n",
       "      <th>SESSION_KEY</th>\n",
       "      <th>LOGIN_KEY</th>\n",
       "      <th>...</th>\n",
       "      <th>DB_BLOCKS</th>\n",
       "      <th>DB_CPU_TIME</th>\n",
       "      <th>NUMBER_BUCKETS</th>\n",
       "      <th>TIMESTAMP_DERIVED</th>\n",
       "      <th>USER_ID_DERIVED</th>\n",
       "      <th>CLIENT_IP</th>\n",
       "      <th>URI_ID_DERIVED</th>\n",
       "      <th>REPORT_ID_DERIVED</th>\n",
       "      <th>ORIGIN</th>\n",
       "      <th>lastActiveMonth</th>\n",
       "    </tr>\n",
       "  </thead>\n",
       "  <tbody>\n",
       "    <tr>\n",
       "      <th>1</th>\n",
       "      <td>Report</td>\n",
       "      <td>2.022062e+13</td>\n",
       "      <td>TID:9360605190000141c8</td>\n",
       "      <td>00D0b000000GaMp</td>\n",
       "      <td>0056P0000011h1x</td>\n",
       "      <td>538</td>\n",
       "      <td>364</td>\n",
       "      <td>/aura</td>\n",
       "      <td>k0O17Cwh8elWHibW</td>\n",
       "      <td>DxBoCPZTU8z/526n</td>\n",
       "      <td>...</td>\n",
       "      <td>2439</td>\n",
       "      <td>40</td>\n",
       "      <td>0</td>\n",
       "      <td>2022-06-20T00:00:37.553Z</td>\n",
       "      <td>0056P0000011h1xQAA</td>\n",
       "      <td>40.119.243.144</td>\n",
       "      <td>NaN</td>\n",
       "      <td>00O0b000004kTazEAE</td>\n",
       "      <td>ReportRunFromLightning</td>\n",
       "      <td>True</td>\n",
       "    </tr>\n",
       "    <tr>\n",
       "      <th>2</th>\n",
       "      <td>Report</td>\n",
       "      <td>2.022062e+13</td>\n",
       "      <td>TID:43400500000b9a797a</td>\n",
       "      <td>00D0b000000GaMp</td>\n",
       "      <td>0052R000009TlEN</td>\n",
       "      <td>368</td>\n",
       "      <td>228</td>\n",
       "      <td>/aura</td>\n",
       "      <td>klFBItiUvLVTRT2V</td>\n",
       "      <td>ch/M1kjy4JkAycob</td>\n",
       "      <td>...</td>\n",
       "      <td>917</td>\n",
       "      <td>10</td>\n",
       "      <td>0</td>\n",
       "      <td>2022-06-20T00:01:04.965Z</td>\n",
       "      <td>0052R000009TlENQA0</td>\n",
       "      <td>163.244.182.17</td>\n",
       "      <td>NaN</td>\n",
       "      <td>00O0b000006iNwdEAE</td>\n",
       "      <td>ReportRunFromLightning</td>\n",
       "      <td>True</td>\n",
       "    </tr>\n",
       "    <tr>\n",
       "      <th>7</th>\n",
       "      <td>Report</td>\n",
       "      <td>2.022062e+13</td>\n",
       "      <td>TID:289831900005ce827a</td>\n",
       "      <td>00D0b000000GaMp</td>\n",
       "      <td>0050b000004K6Tw</td>\n",
       "      <td>535</td>\n",
       "      <td>327</td>\n",
       "      <td>/aura</td>\n",
       "      <td>106SrPi3x8ez47PF</td>\n",
       "      <td>sKCnFbDnwK9jv0jy</td>\n",
       "      <td>...</td>\n",
       "      <td>2845</td>\n",
       "      <td>60</td>\n",
       "      <td>0</td>\n",
       "      <td>2022-06-20T00:02:02.293Z</td>\n",
       "      <td>0050b000004K6TwAAK</td>\n",
       "      <td>203.174.168.50</td>\n",
       "      <td>NaN</td>\n",
       "      <td>00O0b000004kTazEAE</td>\n",
       "      <td>ReportRunFromLightning</td>\n",
       "      <td>True</td>\n",
       "    </tr>\n",
       "    <tr>\n",
       "      <th>8</th>\n",
       "      <td>Report</td>\n",
       "      <td>2.022062e+13</td>\n",
       "      <td>TID:526446900008f8d67f</td>\n",
       "      <td>00D0b000000GaMp</td>\n",
       "      <td>0050b000004K6Tw</td>\n",
       "      <td>499</td>\n",
       "      <td>399</td>\n",
       "      <td>/aura</td>\n",
       "      <td>106SrPi3x8ez47PF</td>\n",
       "      <td>sKCnFbDnwK9jv0jy</td>\n",
       "      <td>...</td>\n",
       "      <td>3361</td>\n",
       "      <td>20</td>\n",
       "      <td>0</td>\n",
       "      <td>2022-06-20T00:02:26.018Z</td>\n",
       "      <td>0050b000004K6TwAAK</td>\n",
       "      <td>203.174.168.50</td>\n",
       "      <td>NaN</td>\n",
       "      <td>00O0b000004kTazEAE</td>\n",
       "      <td>ReportRunFromLightning</td>\n",
       "      <td>True</td>\n",
       "    </tr>\n",
       "    <tr>\n",
       "      <th>11</th>\n",
       "      <td>Report</td>\n",
       "      <td>2.022062e+13</td>\n",
       "      <td>TID:17504290000f749582</td>\n",
       "      <td>00D0b000000GaMp</td>\n",
       "      <td>0052R00000ASQJO</td>\n",
       "      <td>624</td>\n",
       "      <td>336</td>\n",
       "      <td>/aura</td>\n",
       "      <td>/S9Y/NKReYa2UT7N</td>\n",
       "      <td>eS2uv/eC5lRQnCg7</td>\n",
       "      <td>...</td>\n",
       "      <td>3543</td>\n",
       "      <td>90</td>\n",
       "      <td>0</td>\n",
       "      <td>2022-06-20T00:03:39.772Z</td>\n",
       "      <td>0052R00000ASQJOQA5</td>\n",
       "      <td>163.244.182.12</td>\n",
       "      <td>NaN</td>\n",
       "      <td>00O0b000004kTazEAE</td>\n",
       "      <td>ReportRunFromLightning</td>\n",
       "      <td>True</td>\n",
       "    </tr>\n",
       "    <tr>\n",
       "      <th>...</th>\n",
       "      <td>...</td>\n",
       "      <td>...</td>\n",
       "      <td>...</td>\n",
       "      <td>...</td>\n",
       "      <td>...</td>\n",
       "      <td>...</td>\n",
       "      <td>...</td>\n",
       "      <td>...</td>\n",
       "      <td>...</td>\n",
       "      <td>...</td>\n",
       "      <td>...</td>\n",
       "      <td>...</td>\n",
       "      <td>...</td>\n",
       "      <td>...</td>\n",
       "      <td>...</td>\n",
       "      <td>...</td>\n",
       "      <td>...</td>\n",
       "      <td>...</td>\n",
       "      <td>...</td>\n",
       "      <td>...</td>\n",
       "      <td>...</td>\n",
       "    </tr>\n",
       "    <tr>\n",
       "      <th>690</th>\n",
       "      <td>Report</td>\n",
       "      <td>2.022062e+13</td>\n",
       "      <td>SLB:fe7972f2c81bad5511f94d34b0cd1843</td>\n",
       "      <td>00D0b000000GaMp</td>\n",
       "      <td>0050b000004K3eB</td>\n",
       "      <td>486</td>\n",
       "      <td>396</td>\n",
       "      <td>/aura</td>\n",
       "      <td>9YkqD4AubILkP3/t</td>\n",
       "      <td>E2TuHYqfPqQzwGBR</td>\n",
       "      <td>...</td>\n",
       "      <td>2570</td>\n",
       "      <td>40</td>\n",
       "      <td>0</td>\n",
       "      <td>2022-06-20T00:58:56.647Z</td>\n",
       "      <td>0050b000004K3eBAAS</td>\n",
       "      <td>132.237.180.16</td>\n",
       "      <td>NaN</td>\n",
       "      <td>00O0b000004kTazEAE</td>\n",
       "      <td>ReportRunFromLightning</td>\n",
       "      <td>True</td>\n",
       "    </tr>\n",
       "    <tr>\n",
       "      <th>694</th>\n",
       "      <td>Report</td>\n",
       "      <td>2.022062e+13</td>\n",
       "      <td>TID:2734184900000defe8</td>\n",
       "      <td>00D0b000000GaMp</td>\n",
       "      <td>0050b000004KVf6</td>\n",
       "      <td>325</td>\n",
       "      <td>251</td>\n",
       "      <td>/aura</td>\n",
       "      <td>xJBIetXY0p9O3YcY</td>\n",
       "      <td>KVZLlNP29f6AR2HG</td>\n",
       "      <td>...</td>\n",
       "      <td>634</td>\n",
       "      <td>30</td>\n",
       "      <td>0</td>\n",
       "      <td>2022-06-20T00:59:15.286Z</td>\n",
       "      <td>0050b000004KVf6AAG</td>\n",
       "      <td>168.159.160.201</td>\n",
       "      <td>NaN</td>\n",
       "      <td>00O2R000004EjYVUA0</td>\n",
       "      <td>ReportRunFromLightning</td>\n",
       "      <td>True</td>\n",
       "    </tr>\n",
       "    <tr>\n",
       "      <th>699</th>\n",
       "      <td>Report</td>\n",
       "      <td>2.022062e+13</td>\n",
       "      <td>TID:35496078900005a597</td>\n",
       "      <td>00D0b000000GaMp</td>\n",
       "      <td>0050b000005nqbo</td>\n",
       "      <td>3016</td>\n",
       "      <td>148</td>\n",
       "      <td>/aura</td>\n",
       "      <td>QrZXc46MGBs5cjD2</td>\n",
       "      <td>FlrwDoQN8TZ2wD2O</td>\n",
       "      <td>...</td>\n",
       "      <td>1030</td>\n",
       "      <td>30</td>\n",
       "      <td>0</td>\n",
       "      <td>2022-06-20T00:59:40.874Z</td>\n",
       "      <td>0050b000005nqboAAA</td>\n",
       "      <td>137.69.117.201</td>\n",
       "      <td>NaN</td>\n",
       "      <td>00O0b000004ApmnEAC</td>\n",
       "      <td>ReportRunFromLightning</td>\n",
       "      <td>True</td>\n",
       "    </tr>\n",
       "    <tr>\n",
       "      <th>700</th>\n",
       "      <td>Report</td>\n",
       "      <td>2.022062e+13</td>\n",
       "      <td>TID:928012500000897754</td>\n",
       "      <td>00D0b000000GaMp</td>\n",
       "      <td>0051P000003jYnQ</td>\n",
       "      <td>707</td>\n",
       "      <td>494</td>\n",
       "      <td>/aura</td>\n",
       "      <td>an+zT5DXHa2OVcr9</td>\n",
       "      <td>G8Wsd7SBoCYO+MG5</td>\n",
       "      <td>...</td>\n",
       "      <td>20212</td>\n",
       "      <td>40</td>\n",
       "      <td>0</td>\n",
       "      <td>2022-06-20T00:59:45.343Z</td>\n",
       "      <td>0051P000003jYnQQAU</td>\n",
       "      <td>163.244.246.207</td>\n",
       "      <td>NaN</td>\n",
       "      <td>00O2R000004BQ1bUAG</td>\n",
       "      <td>ReportRunFromLightning</td>\n",
       "      <td>True</td>\n",
       "    </tr>\n",
       "    <tr>\n",
       "      <th>702</th>\n",
       "      <td>Report</td>\n",
       "      <td>2.022062e+13</td>\n",
       "      <td>TID:6598909000053ba7b2</td>\n",
       "      <td>00D0b000000GaMp</td>\n",
       "      <td>0050b000004K6lI</td>\n",
       "      <td>526</td>\n",
       "      <td>275</td>\n",
       "      <td>/aura</td>\n",
       "      <td>9TfJfW3xTqcqpuWk</td>\n",
       "      <td>hzafztYe2t9Sn1sR</td>\n",
       "      <td>...</td>\n",
       "      <td>740</td>\n",
       "      <td>20</td>\n",
       "      <td>0</td>\n",
       "      <td>2022-06-20T00:59:52.239Z</td>\n",
       "      <td>0050b000004K6lIAAS</td>\n",
       "      <td>163.244.60.29</td>\n",
       "      <td>NaN</td>\n",
       "      <td>00O0b000006iNwdEAE</td>\n",
       "      <td>ReportRunFromLightning</td>\n",
       "      <td>True</td>\n",
       "    </tr>\n",
       "  </tbody>\n",
       "</table>\n",
       "<p>328 rows × 32 columns</p>\n",
       "</div>"
      ],
      "text/plain": [
       "    EVENT_TYPE     TIMESTAMP                            REQUEST_ID  \\\n",
       "1       Report  2.022062e+13                TID:9360605190000141c8   \n",
       "2       Report  2.022062e+13                TID:43400500000b9a797a   \n",
       "7       Report  2.022062e+13                TID:289831900005ce827a   \n",
       "8       Report  2.022062e+13                TID:526446900008f8d67f   \n",
       "11      Report  2.022062e+13                TID:17504290000f749582   \n",
       "..         ...           ...                                   ...   \n",
       "690     Report  2.022062e+13  SLB:fe7972f2c81bad5511f94d34b0cd1843   \n",
       "694     Report  2.022062e+13                TID:2734184900000defe8   \n",
       "699     Report  2.022062e+13                TID:35496078900005a597   \n",
       "700     Report  2.022062e+13                TID:928012500000897754   \n",
       "702     Report  2.022062e+13                TID:6598909000053ba7b2   \n",
       "\n",
       "     ORGANIZATION_ID          USER_ID  RUN_TIME  CPU_TIME    URI  \\\n",
       "1    00D0b000000GaMp  0056P0000011h1x       538       364  /aura   \n",
       "2    00D0b000000GaMp  0052R000009TlEN       368       228  /aura   \n",
       "7    00D0b000000GaMp  0050b000004K6Tw       535       327  /aura   \n",
       "8    00D0b000000GaMp  0050b000004K6Tw       499       399  /aura   \n",
       "11   00D0b000000GaMp  0052R00000ASQJO       624       336  /aura   \n",
       "..               ...              ...       ...       ...    ...   \n",
       "690  00D0b000000GaMp  0050b000004K3eB       486       396  /aura   \n",
       "694  00D0b000000GaMp  0050b000004KVf6       325       251  /aura   \n",
       "699  00D0b000000GaMp  0050b000005nqbo      3016       148  /aura   \n",
       "700  00D0b000000GaMp  0051P000003jYnQ       707       494  /aura   \n",
       "702  00D0b000000GaMp  0050b000004K6lI       526       275  /aura   \n",
       "\n",
       "          SESSION_KEY         LOGIN_KEY  ... DB_BLOCKS DB_CPU_TIME  \\\n",
       "1    k0O17Cwh8elWHibW  DxBoCPZTU8z/526n  ...      2439          40   \n",
       "2    klFBItiUvLVTRT2V  ch/M1kjy4JkAycob  ...       917          10   \n",
       "7    106SrPi3x8ez47PF  sKCnFbDnwK9jv0jy  ...      2845          60   \n",
       "8    106SrPi3x8ez47PF  sKCnFbDnwK9jv0jy  ...      3361          20   \n",
       "11   /S9Y/NKReYa2UT7N  eS2uv/eC5lRQnCg7  ...      3543          90   \n",
       "..                ...               ...  ...       ...         ...   \n",
       "690  9YkqD4AubILkP3/t  E2TuHYqfPqQzwGBR  ...      2570          40   \n",
       "694  xJBIetXY0p9O3YcY  KVZLlNP29f6AR2HG  ...       634          30   \n",
       "699  QrZXc46MGBs5cjD2  FlrwDoQN8TZ2wD2O  ...      1030          30   \n",
       "700  an+zT5DXHa2OVcr9  G8Wsd7SBoCYO+MG5  ...     20212          40   \n",
       "702  9TfJfW3xTqcqpuWk  hzafztYe2t9Sn1sR  ...       740          20   \n",
       "\n",
       "     NUMBER_BUCKETS         TIMESTAMP_DERIVED     USER_ID_DERIVED  \\\n",
       "1                 0  2022-06-20T00:00:37.553Z  0056P0000011h1xQAA   \n",
       "2                 0  2022-06-20T00:01:04.965Z  0052R000009TlENQA0   \n",
       "7                 0  2022-06-20T00:02:02.293Z  0050b000004K6TwAAK   \n",
       "8                 0  2022-06-20T00:02:26.018Z  0050b000004K6TwAAK   \n",
       "11                0  2022-06-20T00:03:39.772Z  0052R00000ASQJOQA5   \n",
       "..              ...                       ...                 ...   \n",
       "690               0  2022-06-20T00:58:56.647Z  0050b000004K3eBAAS   \n",
       "694               0  2022-06-20T00:59:15.286Z  0050b000004KVf6AAG   \n",
       "699               0  2022-06-20T00:59:40.874Z  0050b000005nqboAAA   \n",
       "700               0  2022-06-20T00:59:45.343Z  0051P000003jYnQQAU   \n",
       "702               0  2022-06-20T00:59:52.239Z  0050b000004K6lIAAS   \n",
       "\n",
       "           CLIENT_IP URI_ID_DERIVED   REPORT_ID_DERIVED  \\\n",
       "1     40.119.243.144            NaN  00O0b000004kTazEAE   \n",
       "2     163.244.182.17            NaN  00O0b000006iNwdEAE   \n",
       "7     203.174.168.50            NaN  00O0b000004kTazEAE   \n",
       "8     203.174.168.50            NaN  00O0b000004kTazEAE   \n",
       "11    163.244.182.12            NaN  00O0b000004kTazEAE   \n",
       "..               ...            ...                 ...   \n",
       "690   132.237.180.16            NaN  00O0b000004kTazEAE   \n",
       "694  168.159.160.201            NaN  00O2R000004EjYVUA0   \n",
       "699   137.69.117.201            NaN  00O0b000004ApmnEAC   \n",
       "700  163.244.246.207            NaN  00O2R000004BQ1bUAG   \n",
       "702    163.244.60.29            NaN  00O0b000006iNwdEAE   \n",
       "\n",
       "                     ORIGIN  lastActiveMonth  \n",
       "1    ReportRunFromLightning             True  \n",
       "2    ReportRunFromLightning             True  \n",
       "7    ReportRunFromLightning             True  \n",
       "8    ReportRunFromLightning             True  \n",
       "11   ReportRunFromLightning             True  \n",
       "..                      ...              ...  \n",
       "690  ReportRunFromLightning             True  \n",
       "694  ReportRunFromLightning             True  \n",
       "699  ReportRunFromLightning             True  \n",
       "700  ReportRunFromLightning             True  \n",
       "702  ReportRunFromLightning             True  \n",
       "\n",
       "[328 rows x 32 columns]"
      ]
     },
     "execution_count": 52,
     "metadata": {},
     "output_type": "execute_result"
    }
   ],
   "source": [
    "active_event_reports_rowsProcessed"
   ]
  },
  {
   "cell_type": "markdown",
   "metadata": {},
   "source": [
    "After applying the filters, we can conclude that this small sample had few changes. The most significant is to apply the Lighitning source report filter. Taking into account that this sample is from the date 2022-06-20"
   ]
  }
 ],
 "metadata": {
  "kernelspec": {
   "display_name": "Python 3 (ipykernel)",
   "language": "python",
   "name": "python3"
  },
  "language_info": {
   "codemirror_mode": {
    "name": "ipython",
    "version": 3
   },
   "file_extension": ".py",
   "mimetype": "text/x-python",
   "name": "python",
   "nbconvert_exporter": "python",
   "pygments_lexer": "ipython3",
   "version": "3.10.4"
  }
 },
 "nbformat": 4,
 "nbformat_minor": 4
}
