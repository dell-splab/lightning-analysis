{
 "cells": [
  {
   "cell_type": "markdown",
   "metadata": {},
   "source": [
    "# 1. What are the active reports?"
   ]
  },
  {
   "cell_type": "code",
   "execution_count": 1,
   "metadata": {},
   "outputs": [],
   "source": [
    "import os\n",
    "import pandas as pd\n",
    "from datetime import datetime, date"
   ]
  },
  {
   "cell_type": "code",
   "execution_count": 2,
   "metadata": {},
   "outputs": [
    {
     "data": {
      "text/plain": [
       "['DataLoad_Exception_Log__c_5k_sample.csv',\n",
       " 'EventDefinition_1k_samples.csv',\n",
       " 'FieldDefinition_all_sample.csv',\n",
       " 'ExceptionLogger__c_5k_sample.csv',\n",
       " 'EventLogFile_all_sample.csv',\n",
       " 'Report_all_sample.csv',\n",
       " 'ReportEvent_50k_Sample.csv']"
      ]
     },
     "execution_count": 2,
     "metadata": {},
     "output_type": "execute_result"
    }
   ],
   "source": [
    "os.listdir(\"data/Salesforce/Objects\")"
   ]
  },
  {
   "cell_type": "markdown",
   "metadata": {},
   "source": [
    "## Loading reports"
   ]
  },
  {
   "cell_type": "code",
   "execution_count": 3,
   "metadata": {},
   "outputs": [],
   "source": [
    "reports = pd.read_csv(\"data/Salesforce/Objects/Report_all_sample.csv\")"
   ]
  },
  {
   "cell_type": "code",
   "execution_count": 4,
   "metadata": {},
   "outputs": [
    {
     "data": {
      "text/plain": [
       "(17397, 18)"
      ]
     },
     "execution_count": 4,
     "metadata": {},
     "output_type": "execute_result"
    }
   ],
   "source": [
    "reports.shape"
   ]
  },
  {
   "cell_type": "code",
   "execution_count": 5,
   "metadata": {},
   "outputs": [
    {
     "data": {
      "text/plain": [
       "['CreatedById',\n",
       " 'CreatedDate',\n",
       " 'Description',\n",
       " 'DeveloperName',\n",
       " 'FolderName',\n",
       " 'Format',\n",
       " 'Id',\n",
       " 'IsDeleted',\n",
       " 'LastModifiedById',\n",
       " 'LastModifiedDate',\n",
       " 'LastReferencedDate',\n",
       " 'LastRunDate',\n",
       " 'LastViewedDate',\n",
       " 'Name',\n",
       " 'NamespacePrefix',\n",
       " 'OwnerId',\n",
       " 'ReportTypeApiName',\n",
       " 'SystemModstamp']"
      ]
     },
     "execution_count": 5,
     "metadata": {},
     "output_type": "execute_result"
    }
   ],
   "source": [
    "list(reports.columns)"
   ]
  },
  {
   "cell_type": "code",
   "execution_count": 6,
   "metadata": {},
   "outputs": [
    {
     "data": {
      "text/html": [
       "<div>\n",
       "<style scoped>\n",
       "    .dataframe tbody tr th:only-of-type {\n",
       "        vertical-align: middle;\n",
       "    }\n",
       "\n",
       "    .dataframe tbody tr th {\n",
       "        vertical-align: top;\n",
       "    }\n",
       "\n",
       "    .dataframe thead th {\n",
       "        text-align: right;\n",
       "    }\n",
       "</style>\n",
       "<table border=\"1\" class=\"dataframe\">\n",
       "  <thead>\n",
       "    <tr style=\"text-align: right;\">\n",
       "      <th></th>\n",
       "      <th>CreatedById</th>\n",
       "      <th>CreatedDate</th>\n",
       "      <th>Description</th>\n",
       "      <th>DeveloperName</th>\n",
       "      <th>FolderName</th>\n",
       "      <th>Format</th>\n",
       "      <th>Id</th>\n",
       "      <th>IsDeleted</th>\n",
       "      <th>LastModifiedById</th>\n",
       "      <th>LastModifiedDate</th>\n",
       "      <th>LastReferencedDate</th>\n",
       "      <th>LastRunDate</th>\n",
       "      <th>LastViewedDate</th>\n",
       "      <th>Name</th>\n",
       "      <th>NamespacePrefix</th>\n",
       "      <th>OwnerId</th>\n",
       "      <th>ReportTypeApiName</th>\n",
       "      <th>SystemModstamp</th>\n",
       "    </tr>\n",
       "  </thead>\n",
       "  <tbody>\n",
       "    <tr>\n",
       "      <th>0</th>\n",
       "      <td>0050b000004MLGeAAO</td>\n",
       "      <td>2018-06-20T19:28:03.000Z</td>\n",
       "      <td>NaN</td>\n",
       "      <td>Email2Case_KPI_Wp9</td>\n",
       "      <td>Public Reports</td>\n",
       "      <td>Summary</td>\n",
       "      <td>00O0b000004kSKkEAM</td>\n",
       "      <td>False</td>\n",
       "      <td>0050b000004MLGeAAO</td>\n",
       "      <td>2019-10-16T03:00:16.000Z</td>\n",
       "      <td>2022-06-20T02:04:59.000Z</td>\n",
       "      <td>2022-06-20T02:04:59.000Z</td>\n",
       "      <td>2022-06-20T02:04:59.000Z</td>\n",
       "      <td>Email2Case KPI</td>\n",
       "      <td>NaN</td>\n",
       "      <td>00D0b000000GaMpEAK</td>\n",
       "      <td>CaseList@Case.MaritzCX__Survey_Response_Id__c</td>\n",
       "      <td>2022-06-20T02:04:59.000Z</td>\n",
       "    </tr>\n",
       "    <tr>\n",
       "      <th>1</th>\n",
       "      <td>0050b000004KRSoAAO</td>\n",
       "      <td>2021-08-18T13:14:25.000Z</td>\n",
       "      <td>NaN</td>\n",
       "      <td>Milestone_Report_by_Pallavi_Reddy</td>\n",
       "      <td>Public Reports</td>\n",
       "      <td>Summary</td>\n",
       "      <td>00O2R000003JUgNUAW</td>\n",
       "      <td>False</td>\n",
       "      <td>0050b000004KRSoAAO</td>\n",
       "      <td>2021-08-19T07:27:05.000Z</td>\n",
       "      <td>2022-06-19T18:20:34.000Z</td>\n",
       "      <td>2022-04-18T05:30:14.000Z</td>\n",
       "      <td>2022-06-19T18:20:34.000Z</td>\n",
       "      <td>APJ RDC PM Team - Milestone Report</td>\n",
       "      <td>NaN</td>\n",
       "      <td>00D0b000000GaMpEAK</td>\n",
       "      <td>Project_with_Order_Milestone_Product__c</td>\n",
       "      <td>2022-04-18T05:30:14.000Z</td>\n",
       "    </tr>\n",
       "    <tr>\n",
       "      <th>2</th>\n",
       "      <td>0050b000004KRSoAAO</td>\n",
       "      <td>2021-08-18T14:53:32.000Z</td>\n",
       "      <td>NaN</td>\n",
       "      <td>APJ_RDC_PM_Current_Quarter_Milestones</td>\n",
       "      <td>Public Reports</td>\n",
       "      <td>Summary</td>\n",
       "      <td>00O2R000003JUh6UAG</td>\n",
       "      <td>False</td>\n",
       "      <td>0050b000004KRSoAAO</td>\n",
       "      <td>2021-08-19T07:08:48.000Z</td>\n",
       "      <td>NaN</td>\n",
       "      <td>2022-05-25T08:03:16.000Z</td>\n",
       "      <td>NaN</td>\n",
       "      <td>APJ RDC PM - Current Quarter Milestones</td>\n",
       "      <td>NaN</td>\n",
       "      <td>00D0b000000GaMpEAK</td>\n",
       "      <td>Project_with_Order_Milestone_Product__c</td>\n",
       "      <td>2022-05-25T08:03:16.000Z</td>\n",
       "    </tr>\n",
       "    <tr>\n",
       "      <th>3</th>\n",
       "      <td>0050b000004KVKcAAO</td>\n",
       "      <td>2021-05-06T17:43:54.000Z</td>\n",
       "      <td>Show QTD Earned Revenue - Milestones that have...</td>\n",
       "      <td>C_C_QTD_Earned_Revenue1</td>\n",
       "      <td>Public Reports</td>\n",
       "      <td>Summary</td>\n",
       "      <td>00O2R000003s1qaUAA</td>\n",
       "      <td>False</td>\n",
       "      <td>0050b000004KVKcAAO</td>\n",
       "      <td>2021-08-09T21:37:07.000Z</td>\n",
       "      <td>2022-06-19T18:20:37.000Z</td>\n",
       "      <td>2022-06-15T20:56:37.000Z</td>\n",
       "      <td>2022-06-19T18:20:37.000Z</td>\n",
       "      <td>C&amp;C - QTD Earned Revenue</td>\n",
       "      <td>NaN</td>\n",
       "      <td>00D0b000000GaMpEAK</td>\n",
       "      <td>NaN</td>\n",
       "      <td>2022-06-15T20:56:37.000Z</td>\n",
       "    </tr>\n",
       "    <tr>\n",
       "      <th>4</th>\n",
       "      <td>0052R000009nJKyQAM</td>\n",
       "      <td>2020-08-06T07:00:50.000Z</td>\n",
       "      <td>NaN</td>\n",
       "      <td>Germany_Swivel_Projects_2</td>\n",
       "      <td>Public Reports</td>\n",
       "      <td>Tabular</td>\n",
       "      <td>00O2R000003rzEdUAI</td>\n",
       "      <td>False</td>\n",
       "      <td>0050b000004KUjyAAG</td>\n",
       "      <td>2020-09-01T13:03:59.000Z</td>\n",
       "      <td>NaN</td>\n",
       "      <td>2021-10-28T19:18:37.000Z</td>\n",
       "      <td>NaN</td>\n",
       "      <td>Germany Swivel Projects CFQ</td>\n",
       "      <td>NaN</td>\n",
       "      <td>00D0b000000GaMpEAK</td>\n",
       "      <td>NaN</td>\n",
       "      <td>2021-10-28T19:18:37.000Z</td>\n",
       "    </tr>\n",
       "  </tbody>\n",
       "</table>\n",
       "</div>"
      ],
      "text/plain": [
       "          CreatedById               CreatedDate  \\\n",
       "0  0050b000004MLGeAAO  2018-06-20T19:28:03.000Z   \n",
       "1  0050b000004KRSoAAO  2021-08-18T13:14:25.000Z   \n",
       "2  0050b000004KRSoAAO  2021-08-18T14:53:32.000Z   \n",
       "3  0050b000004KVKcAAO  2021-05-06T17:43:54.000Z   \n",
       "4  0052R000009nJKyQAM  2020-08-06T07:00:50.000Z   \n",
       "\n",
       "                                         Description  \\\n",
       "0                                                NaN   \n",
       "1                                                NaN   \n",
       "2                                                NaN   \n",
       "3  Show QTD Earned Revenue - Milestones that have...   \n",
       "4                                                NaN   \n",
       "\n",
       "                           DeveloperName      FolderName   Format  \\\n",
       "0                     Email2Case_KPI_Wp9  Public Reports  Summary   \n",
       "1      Milestone_Report_by_Pallavi_Reddy  Public Reports  Summary   \n",
       "2  APJ_RDC_PM_Current_Quarter_Milestones  Public Reports  Summary   \n",
       "3                C_C_QTD_Earned_Revenue1  Public Reports  Summary   \n",
       "4              Germany_Swivel_Projects_2  Public Reports  Tabular   \n",
       "\n",
       "                   Id  IsDeleted    LastModifiedById  \\\n",
       "0  00O0b000004kSKkEAM      False  0050b000004MLGeAAO   \n",
       "1  00O2R000003JUgNUAW      False  0050b000004KRSoAAO   \n",
       "2  00O2R000003JUh6UAG      False  0050b000004KRSoAAO   \n",
       "3  00O2R000003s1qaUAA      False  0050b000004KVKcAAO   \n",
       "4  00O2R000003rzEdUAI      False  0050b000004KUjyAAG   \n",
       "\n",
       "           LastModifiedDate        LastReferencedDate  \\\n",
       "0  2019-10-16T03:00:16.000Z  2022-06-20T02:04:59.000Z   \n",
       "1  2021-08-19T07:27:05.000Z  2022-06-19T18:20:34.000Z   \n",
       "2  2021-08-19T07:08:48.000Z                       NaN   \n",
       "3  2021-08-09T21:37:07.000Z  2022-06-19T18:20:37.000Z   \n",
       "4  2020-09-01T13:03:59.000Z                       NaN   \n",
       "\n",
       "                LastRunDate            LastViewedDate  \\\n",
       "0  2022-06-20T02:04:59.000Z  2022-06-20T02:04:59.000Z   \n",
       "1  2022-04-18T05:30:14.000Z  2022-06-19T18:20:34.000Z   \n",
       "2  2022-05-25T08:03:16.000Z                       NaN   \n",
       "3  2022-06-15T20:56:37.000Z  2022-06-19T18:20:37.000Z   \n",
       "4  2021-10-28T19:18:37.000Z                       NaN   \n",
       "\n",
       "                                      Name NamespacePrefix  \\\n",
       "0                           Email2Case KPI             NaN   \n",
       "1       APJ RDC PM Team - Milestone Report             NaN   \n",
       "2  APJ RDC PM - Current Quarter Milestones             NaN   \n",
       "3                 C&C - QTD Earned Revenue             NaN   \n",
       "4              Germany Swivel Projects CFQ             NaN   \n",
       "\n",
       "              OwnerId                              ReportTypeApiName  \\\n",
       "0  00D0b000000GaMpEAK  CaseList@Case.MaritzCX__Survey_Response_Id__c   \n",
       "1  00D0b000000GaMpEAK        Project_with_Order_Milestone_Product__c   \n",
       "2  00D0b000000GaMpEAK        Project_with_Order_Milestone_Product__c   \n",
       "3  00D0b000000GaMpEAK                                            NaN   \n",
       "4  00D0b000000GaMpEAK                                            NaN   \n",
       "\n",
       "             SystemModstamp  \n",
       "0  2022-06-20T02:04:59.000Z  \n",
       "1  2022-04-18T05:30:14.000Z  \n",
       "2  2022-05-25T08:03:16.000Z  \n",
       "3  2022-06-15T20:56:37.000Z  \n",
       "4  2021-10-28T19:18:37.000Z  "
      ]
     },
     "execution_count": 6,
     "metadata": {},
     "output_type": "execute_result"
    }
   ],
   "source": [
    "reports.head()"
   ]
  },
  {
   "cell_type": "code",
   "execution_count": 7,
   "metadata": {},
   "outputs": [],
   "source": [
    "reports = reports.dropna(subset=['LastRunDate'])"
   ]
  },
  {
   "cell_type": "code",
   "execution_count": 8,
   "metadata": {},
   "outputs": [
    {
     "data": {
      "text/plain": [
       "(17235, 18)"
      ]
     },
     "execution_count": 8,
     "metadata": {},
     "output_type": "execute_result"
    }
   ],
   "source": [
    "reports.shape"
   ]
  },
  {
   "cell_type": "markdown",
   "metadata": {},
   "source": [
    "## Sorting reports by LastRunDate"
   ]
  },
  {
   "cell_type": "code",
   "execution_count": 9,
   "metadata": {},
   "outputs": [],
   "source": [
    "sortedByLastRunDate = reports.sort_values('LastRunDate', ascending=False)"
   ]
  },
  {
   "cell_type": "markdown",
   "metadata": {},
   "source": [
    "Let's define a reference date and a time window to consider active reports.\n",
    "\n",
    "- The reference date may be the most recent date in our sample.\n",
    "- Let's consider a range of 180 in this analysis.\n",
    "\n",
    "Since the reports are sorted by `LastRunDate`, our reference date is the first row of the dataframe."
   ]
  },
  {
   "cell_type": "code",
   "execution_count": 10,
   "metadata": {},
   "outputs": [
    {
     "data": {
      "text/plain": [
       "'2022-06-20T02:07:25.000Z'"
      ]
     },
     "execution_count": 10,
     "metadata": {},
     "output_type": "execute_result"
    }
   ],
   "source": [
    "sortedByLastRunDate['LastRunDate'].iloc[0]"
   ]
  },
  {
   "cell_type": "markdown",
   "metadata": {},
   "source": [
    "Remove training 'Z' without loss of useful information. (according to this [reference](https://social.msdn.microsoft.com/Forums/en-US/27c2f2a9-8a77-4a11-9f71-5e56ddbf064b/what-is-z-in-date-time-format-yyyymmddthhmmssz?forum=csharpgeneral))"
   ]
  },
  {
   "cell_type": "code",
   "execution_count": 11,
   "metadata": {},
   "outputs": [
    {
     "data": {
      "text/plain": [
       "'2022-06-20T02:07:25.000'"
      ]
     },
     "execution_count": 11,
     "metadata": {},
     "output_type": "execute_result"
    }
   ],
   "source": [
    "sortedByLastRunDate['LastRunDate'].iloc[0][:-1]"
   ]
  },
  {
   "cell_type": "code",
   "execution_count": 12,
   "metadata": {},
   "outputs": [],
   "source": [
    "dateStr = sortedByLastRunDate['LastRunDate'].iloc[0][:-1]\n",
    "referenceDate = datetime.fromisoformat(dateStr).date()"
   ]
  },
  {
   "cell_type": "code",
   "execution_count": 13,
   "metadata": {},
   "outputs": [
    {
     "data": {
      "text/plain": [
       "datetime.date(2022, 6, 20)"
      ]
     },
     "execution_count": 13,
     "metadata": {},
     "output_type": "execute_result"
    }
   ],
   "source": [
    "referenceDate"
   ]
  },
  {
   "cell_type": "markdown",
   "metadata": {},
   "source": [
    "Let's filter all reports that were run at least 180 days from this date."
   ]
  },
  {
   "cell_type": "code",
   "execution_count": 14,
   "metadata": {},
   "outputs": [],
   "source": [
    "elapsed_days = 180"
   ]
  },
  {
   "cell_type": "markdown",
   "metadata": {},
   "source": [
    "Writing a function to filter active reports."
   ]
  },
  {
   "cell_type": "code",
   "execution_count": 15,
   "metadata": {},
   "outputs": [],
   "source": [
    "def filterActiveReports(lastRunDate):\n",
    "    dateStr = lastRunDate[:-1] # removing trailing 'Z'\n",
    "    timedelta = referenceDate - datetime.fromisoformat(dateStr).date()\n",
    "    return timedelta.days <= elapsed_days"
   ]
  },
  {
   "cell_type": "markdown",
   "metadata": {},
   "source": [
    "Creating a column to distinguish active and inactive reports."
   ]
  },
  {
   "cell_type": "code",
   "execution_count": 16,
   "metadata": {},
   "outputs": [],
   "source": [
    "reports['isActive'] = reports['LastRunDate'].apply(filterActiveReports)"
   ]
  },
  {
   "cell_type": "code",
   "execution_count": 17,
   "metadata": {},
   "outputs": [
    {
     "data": {
      "text/plain": [
       "True     11605\n",
       "False     5630\n",
       "Name: isActive, dtype: int64"
      ]
     },
     "execution_count": 17,
     "metadata": {},
     "output_type": "execute_result"
    }
   ],
   "source": [
    "reports['isActive'].value_counts()"
   ]
  },
  {
   "cell_type": "code",
   "execution_count": 18,
   "metadata": {},
   "outputs": [
    {
     "data": {
      "text/plain": [
       "<AxesSubplot:>"
      ]
     },
     "execution_count": 18,
     "metadata": {},
     "output_type": "execute_result"
    },
    {
     "data": {
      "image/png": "[encoded data removed]",
      "text/plain": [
       "<Figure size 432x288 with 1 Axes>"
      ]
     },
     "metadata": {
      "needs_background": "light"
     },
     "output_type": "display_data"
    }
   ],
   "source": [
    "# a plot example\n",
    "reports['isActive'].value_counts().plot(kind='bar')"
   ]
  },
  {
   "cell_type": "code",
   "execution_count": 19,
   "metadata": {},
   "outputs": [],
   "source": [
    "activeReports = reports[reports['isActive']]"
   ]
  },
  {
   "cell_type": "code",
   "execution_count": 20,
   "metadata": {},
   "outputs": [
    {
     "data": {
      "text/plain": [
       "(11605, 19)"
      ]
     },
     "execution_count": 20,
     "metadata": {},
     "output_type": "execute_result"
    }
   ],
   "source": [
    "activeReports.shape"
   ]
  },
  {
   "cell_type": "markdown",
   "metadata": {},
   "source": [
    "Storing a dataset with only active reports."
   ]
  },
  {
   "cell_type": "code",
   "execution_count": 21,
   "metadata": {},
   "outputs": [],
   "source": [
    "activeReports.to_csv(\"./datasets/active_reports_180.csv\", index=False)"
   ]
  },
  {
   "cell_type": "code",
   "execution_count": null,
   "metadata": {},
   "outputs": [],
   "source": []
  }
 ],
 "metadata": {
  "kernelspec": {
   "display_name": "Python 3",
   "language": "python",
   "name": "python3"
  },
  "language_info": {
   "codemirror_mode": {
    "name": "ipython",
    "version": 3
   },
   "file_extension": ".py",
   "mimetype": "text/x-python",
   "name": "python",
   "nbconvert_exporter": "python",
   "pygments_lexer": "ipython3",
   "version": "3.8.10"
  }
 },
 "nbformat": 4,
 "nbformat_minor": 4
}
