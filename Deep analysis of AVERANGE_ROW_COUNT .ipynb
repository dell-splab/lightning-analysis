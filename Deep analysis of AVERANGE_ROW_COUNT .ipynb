{
 "cells": [
  {
   "cell_type": "markdown",
   "id": "6df40aff",
   "metadata": {},
   "source": [
    "# 3.2.1 Deep analysis of AVERANGE_ROW_COUNT "
   ]
  },
  {
   "cell_type": "markdown",
   "id": "bff00ded",
   "metadata": {},
   "source": [
    "This dashboard answers the following questions:\n",
    "- [X] How to retrieve components from report logs\n",
    "- [X] Which \"Lightning component\"  are fetching an amount of data of more than the averge?\n",
    "- [X] Which columns are present on those Lightning component reports?"
   ]
  },
  {
   "cell_type": "code",
   "execution_count": 1,
   "id": "6ccba18c",
   "metadata": {},
   "outputs": [],
   "source": [
    "import os\n",
    "import pandas as pd"
   ]
  },
  {
   "cell_type": "code",
   "execution_count": 2,
   "id": "7279122f",
   "metadata": {},
   "outputs": [
    {
     "data": {
      "text/plain": [
       "['active_reports_180.csv',\n",
       " 'Page_View_error_log.csv',\n",
       " 'active_reports_that_have_been_running_the_longest_in_period.csv',\n",
       " 'Page_View_by_USER_ID_DERIVED-SESSION_KEY.csv',\n",
       " 'active_reports_that_have_been_running_the_longest.csv',\n",
       " 'active_reports.csv']"
      ]
     },
     "execution_count": 2,
     "metadata": {},
     "output_type": "execute_result"
    }
   ],
   "source": [
    "os.listdir(\"./datasets/\")"
   ]
  },
  {
   "cell_type": "markdown",
   "id": "78a56699",
   "metadata": {},
   "source": [
    "### Loading reports"
   ]
  },
  {
   "cell_type": "code",
   "execution_count": 3,
   "id": "ad612ab1",
   "metadata": {},
   "outputs": [],
   "source": [
    "reports = pd.read_csv(\"./datasets/active_reports.csv\",low_memory=False)"
   ]
  },
  {
   "cell_type": "code",
   "execution_count": 4,
   "id": "ab995ee3",
   "metadata": {},
   "outputs": [
    {
     "data": {
      "text/plain": [
       "(7101, 50)"
      ]
     },
     "execution_count": 4,
     "metadata": {},
     "output_type": "execute_result"
    }
   ],
   "source": [
    "reports.shape"
   ]
  },
  {
   "cell_type": "markdown",
   "id": "dda3b2be",
   "metadata": {},
   "source": [
    "Let's sorted table values by `AVERAGE_ROW_SIZE`(ARS) column to start the filters"
   ]
  },
  {
   "cell_type": "code",
   "execution_count": 5,
   "id": "6126b3bf",
   "metadata": {},
   "outputs": [
    {
     "data": {
      "text/html": [
       "<div>\n",
       "<style scoped>\n",
       "    .dataframe tbody tr th:only-of-type {\n",
       "        vertical-align: middle;\n",
       "    }\n",
       "\n",
       "    .dataframe tbody tr th {\n",
       "        vertical-align: top;\n",
       "    }\n",
       "\n",
       "    .dataframe thead th {\n",
       "        text-align: right;\n",
       "    }\n",
       "</style>\n",
       "<table border=\"1\" class=\"dataframe\">\n",
       "  <thead>\n",
       "    <tr style=\"text-align: right;\">\n",
       "      <th></th>\n",
       "      <th>AVERAGE_ROW_SIZE</th>\n",
       "      <th>ROW_COUNT</th>\n",
       "    </tr>\n",
       "  </thead>\n",
       "  <tbody>\n",
       "    <tr>\n",
       "      <th>6605</th>\n",
       "      <td>2982.0</td>\n",
       "      <td>8.0</td>\n",
       "    </tr>\n",
       "    <tr>\n",
       "      <th>6606</th>\n",
       "      <td>2982.0</td>\n",
       "      <td>8.0</td>\n",
       "    </tr>\n",
       "    <tr>\n",
       "      <th>6607</th>\n",
       "      <td>2982.0</td>\n",
       "      <td>8.0</td>\n",
       "    </tr>\n",
       "    <tr>\n",
       "      <th>6608</th>\n",
       "      <td>2982.0</td>\n",
       "      <td>8.0</td>\n",
       "    </tr>\n",
       "    <tr>\n",
       "      <th>6609</th>\n",
       "      <td>2982.0</td>\n",
       "      <td>8.0</td>\n",
       "    </tr>\n",
       "    <tr>\n",
       "      <th>...</th>\n",
       "      <td>...</td>\n",
       "      <td>...</td>\n",
       "    </tr>\n",
       "    <tr>\n",
       "      <th>5792</th>\n",
       "      <td>266.0</td>\n",
       "      <td>1.0</td>\n",
       "    </tr>\n",
       "    <tr>\n",
       "      <th>5817</th>\n",
       "      <td>266.0</td>\n",
       "      <td>1.0</td>\n",
       "    </tr>\n",
       "    <tr>\n",
       "      <th>5894</th>\n",
       "      <td>266.0</td>\n",
       "      <td>1.0</td>\n",
       "    </tr>\n",
       "    <tr>\n",
       "      <th>6538</th>\n",
       "      <td>114.0</td>\n",
       "      <td>104671.0</td>\n",
       "    </tr>\n",
       "    <tr>\n",
       "      <th>6539</th>\n",
       "      <td>114.0</td>\n",
       "      <td>104671.0</td>\n",
       "    </tr>\n",
       "  </tbody>\n",
       "</table>\n",
       "<p>7101 rows × 2 columns</p>\n",
       "</div>"
      ],
      "text/plain": [
       "      AVERAGE_ROW_SIZE  ROW_COUNT\n",
       "6605            2982.0        8.0\n",
       "6606            2982.0        8.0\n",
       "6607            2982.0        8.0\n",
       "6608            2982.0        8.0\n",
       "6609            2982.0        8.0\n",
       "...                ...        ...\n",
       "5792             266.0        1.0\n",
       "5817             266.0        1.0\n",
       "5894             266.0        1.0\n",
       "6538             114.0   104671.0\n",
       "6539             114.0   104671.0\n",
       "\n",
       "[7101 rows x 2 columns]"
      ]
     },
     "execution_count": 5,
     "metadata": {},
     "output_type": "execute_result"
    }
   ],
   "source": [
    "sorted_by_ARS = reports.sort_values(['AVERAGE_ROW_SIZE', 'ROW_COUNT'], ascending=False)\n",
    "sorted_by_ARS[['AVERAGE_ROW_SIZE', 'ROW_COUNT']]"
   ]
  },
  {
   "cell_type": "markdown",
   "id": "4b1a636c",
   "metadata": {},
   "source": [
    "Let's remove unsed columns"
   ]
  },
  {
   "cell_type": "code",
   "execution_count": 6,
   "id": "c640d7a8",
   "metadata": {},
   "outputs": [],
   "source": [
    "sorted_by_ARS = sorted_by_ARS.drop(columns=['CreatedById',\n",
    " 'CreatedDate',\n",
    " 'Description',\n",
    " 'DeveloperName',\n",
    " 'FolderName',\n",
    " 'Format',\n",
    " 'Id',\n",
    " 'IsDeleted',\n",
    " 'LastModifiedById',\n",
    " 'LastModifiedDate',\n",
    " 'LastReferencedDate',\n",
    " 'LastViewedDate',\n",
    " 'OwnerId',\n",
    " 'ReportTypeApiName',\n",
    " 'SystemModstamp',\n",
    " 'TIMESTAMP',\n",
    " 'REQUEST_ID',\n",
    " 'ORGANIZATION_ID',\n",
    " 'USER_ID',\n",
    " 'URI',\n",
    " 'USER_TYPE',\n",
    " 'REQUEST_STATUS',\n",
    " 'DB_TOTAL_TIME',\n",
    " 'ENTITY_NAME',\n",
    " 'DISPLAY_TYPE',\n",
    " 'RENDERING_TYPE',\n",
    " 'REPORT_ID',\n",
    " 'NUMBER_EXCEPTION_FILTERS',\n",
    " 'NUMBER_COLUMNS',\n",
    " 'SORT',\n",
    " 'DB_BLOCKS',\n",
    " 'DB_CPU_TIME',\n",
    " 'NUMBER_BUCKETS',\n",
    " 'TIMESTAMP_DERIVED',\n",
    " 'USER_ID_DERIVED',\n",
    " 'CLIENT_IP',\n",
    " 'URI_ID_DERIVED',\n",
    " 'IsActive',\n",
    " 'NamespacePrefix'])"
   ]
  },
  {
   "cell_type": "markdown",
   "id": "a00eb300",
   "metadata": {},
   "source": [
    "Let's remove all reports that don't have an origin associated with lighitning according [documatation](https://developer.salesforce.com/docs/atlas.en-us.object_reference.meta/object_reference/sforce_api_objects_eventlogfile_report.ht)"
   ]
  },
  {
   "cell_type": "code",
   "execution_count": 7,
   "id": "735d3744",
   "metadata": {},
   "outputs": [],
   "source": [
    "sorted_by_ARS = sorted_by_ARS[(sorted_by_ARS['ORIGIN'] == 'ReportRunFromLightning')]"
   ]
  },
  {
   "cell_type": "markdown",
   "id": "882347b5",
   "metadata": {},
   "source": [
    "Let's try remove row's with 0 and missing values in `AVERAGE_ROW_SIZE`"
   ]
  },
  {
   "cell_type": "code",
   "execution_count": 8,
   "id": "0ea9af97",
   "metadata": {},
   "outputs": [
    {
     "data": {
      "text/plain": [
       "(7101, 11)"
      ]
     },
     "execution_count": 8,
     "metadata": {},
     "output_type": "execute_result"
    }
   ],
   "source": [
    "sorted_by_ARS.drop(sorted_by_ARS[(sorted_by_ARS[\"AVERAGE_ROW_SIZE\"] == 0)].index, inplace=True)\n",
    "sorted_by_ARS.dropna(subset='AVERAGE_ROW_SIZE')\n",
    "sorted_by_ARS.shape"
   ]
  },
  {
   "cell_type": "markdown",
   "id": "60ece3bc",
   "metadata": {},
   "source": [
    "Now, let's define an average based on the number of bytes per line following a [documatation](https://developer.salesforce.com/docs/atlas.en-us.object_reference.meta/object_reference/sforce_api_objects_eventlogfile_report.ht)\n",
    "  > This average will be defined from a new column that calculates the product of each value of `AVERAGE_ROW_SIZE` multiplied by `ROW_COUNT`\n"
   ]
  },
  {
   "cell_type": "code",
   "execution_count": 9,
   "id": "7282c3d3",
   "metadata": {},
   "outputs": [
    {
     "data": {
      "text/html": [
       "<div>\n",
       "<style scoped>\n",
       "    .dataframe tbody tr th:only-of-type {\n",
       "        vertical-align: middle;\n",
       "    }\n",
       "\n",
       "    .dataframe tbody tr th {\n",
       "        vertical-align: top;\n",
       "    }\n",
       "\n",
       "    .dataframe thead th {\n",
       "        text-align: right;\n",
       "    }\n",
       "</style>\n",
       "<table border=\"1\" class=\"dataframe\">\n",
       "  <thead>\n",
       "    <tr style=\"text-align: right;\">\n",
       "      <th></th>\n",
       "      <th>AVERAGE_ROW_SIZE</th>\n",
       "      <th>ROW_COUNT</th>\n",
       "      <th>AVG_BYTES_PER_REPORT</th>\n",
       "    </tr>\n",
       "  </thead>\n",
       "  <tbody>\n",
       "    <tr>\n",
       "      <th>6605</th>\n",
       "      <td>2982.0</td>\n",
       "      <td>8.0</td>\n",
       "      <td>23856.0</td>\n",
       "    </tr>\n",
       "    <tr>\n",
       "      <th>6606</th>\n",
       "      <td>2982.0</td>\n",
       "      <td>8.0</td>\n",
       "      <td>23856.0</td>\n",
       "    </tr>\n",
       "    <tr>\n",
       "      <th>6607</th>\n",
       "      <td>2982.0</td>\n",
       "      <td>8.0</td>\n",
       "      <td>23856.0</td>\n",
       "    </tr>\n",
       "    <tr>\n",
       "      <th>6608</th>\n",
       "      <td>2982.0</td>\n",
       "      <td>8.0</td>\n",
       "      <td>23856.0</td>\n",
       "    </tr>\n",
       "    <tr>\n",
       "      <th>6609</th>\n",
       "      <td>2982.0</td>\n",
       "      <td>8.0</td>\n",
       "      <td>23856.0</td>\n",
       "    </tr>\n",
       "  </tbody>\n",
       "</table>\n",
       "</div>"
      ],
      "text/plain": [
       "      AVERAGE_ROW_SIZE  ROW_COUNT  AVG_BYTES_PER_REPORT\n",
       "6605            2982.0        8.0               23856.0\n",
       "6606            2982.0        8.0               23856.0\n",
       "6607            2982.0        8.0               23856.0\n",
       "6608            2982.0        8.0               23856.0\n",
       "6609            2982.0        8.0               23856.0"
      ]
     },
     "execution_count": 9,
     "metadata": {},
     "output_type": "execute_result"
    }
   ],
   "source": [
    "sorted_by_ARS['AVG_BYTES_PER_REPORT'] = sorted_by_ARS.AVERAGE_ROW_SIZE * sorted_by_ARS.ROW_COUNT\n",
    "sorted_by_ARS[['AVERAGE_ROW_SIZE','ROW_COUNT','AVG_BYTES_PER_REPORT']].head()"
   ]
  },
  {
   "cell_type": "markdown",
   "id": "bdfdaa34",
   "metadata": {},
   "source": [
    "Now let's define the average of the column values"
   ]
  },
  {
   "cell_type": "code",
   "execution_count": 10,
   "id": "0f5602f5",
   "metadata": {},
   "outputs": [
    {
     "data": {
      "text/plain": [
       "1795724.1294183917"
      ]
     },
     "execution_count": 10,
     "metadata": {},
     "output_type": "execute_result"
    }
   ],
   "source": [
    "trashold_bytes_per_report = sorted_by_ARS.AVG_BYTES_PER_REPORT.mean()\n",
    "trashold_bytes_per_report"
   ]
  },
  {
   "cell_type": "markdown",
   "id": "d59d215d",
   "metadata": {},
   "source": [
    "We will store all reports considered fraudulent in a single data frame"
   ]
  },
  {
   "cell_type": "code",
   "execution_count": 11,
   "id": "0e2044ea",
   "metadata": {},
   "outputs": [
    {
     "data": {
      "text/html": [
       "<div>\n",
       "<style scoped>\n",
       "    .dataframe tbody tr th:only-of-type {\n",
       "        vertical-align: middle;\n",
       "    }\n",
       "\n",
       "    .dataframe tbody tr th {\n",
       "        vertical-align: top;\n",
       "    }\n",
       "\n",
       "    .dataframe thead th {\n",
       "        text-align: right;\n",
       "    }\n",
       "</style>\n",
       "<table border=\"1\" class=\"dataframe\">\n",
       "  <thead>\n",
       "    <tr style=\"text-align: right;\">\n",
       "      <th></th>\n",
       "      <th>LastRunDate</th>\n",
       "      <th>Name</th>\n",
       "      <th>EVENT_TYPE</th>\n",
       "      <th>RUN_TIME</th>\n",
       "      <th>CPU_TIME</th>\n",
       "      <th>SESSION_KEY</th>\n",
       "      <th>LOGIN_KEY</th>\n",
       "      <th>ROW_COUNT</th>\n",
       "      <th>AVERAGE_ROW_SIZE</th>\n",
       "      <th>REPORT_ID_DERIVED</th>\n",
       "      <th>ORIGIN</th>\n",
       "      <th>AVG_BYTES_PER_REPORT</th>\n",
       "    </tr>\n",
       "  </thead>\n",
       "  <tbody>\n",
       "    <tr>\n",
       "      <th>6556</th>\n",
       "      <td>2022-06-20T01:54:25.000</td>\n",
       "      <td>Open Tasks (Blue Steel)</td>\n",
       "      <td>Report</td>\n",
       "      <td>17302</td>\n",
       "      <td>3377</td>\n",
       "      <td>9k/UMOlWlwcms+Gm</td>\n",
       "      <td>egDgzt4/gZq+i2SM</td>\n",
       "      <td>74459.0</td>\n",
       "      <td>2078.0</td>\n",
       "      <td>00O0b000004AnheEAC</td>\n",
       "      <td>ReportRunFromLightning</td>\n",
       "      <td>1.547258e+08</td>\n",
       "    </tr>\n",
       "    <tr>\n",
       "      <th>6557</th>\n",
       "      <td>2022-06-20T01:54:25.000</td>\n",
       "      <td>Open Tasks (Blue Steel)</td>\n",
       "      <td>Report</td>\n",
       "      <td>24796</td>\n",
       "      <td>7092</td>\n",
       "      <td>9k/UMOlWlwcms+Gm</td>\n",
       "      <td>egDgzt4/gZq+i2SM</td>\n",
       "      <td>204491.0</td>\n",
       "      <td>2067.0</td>\n",
       "      <td>00O0b000004AnheEAC</td>\n",
       "      <td>ReportRunFromLightning</td>\n",
       "      <td>4.226829e+08</td>\n",
       "    </tr>\n",
       "    <tr>\n",
       "      <th>6501</th>\n",
       "      <td>2022-06-20T01:54:25.000</td>\n",
       "      <td>Open Tasks (Blue Steel)</td>\n",
       "      <td>Report</td>\n",
       "      <td>280250</td>\n",
       "      <td>125209</td>\n",
       "      <td>9k/UMOlWlwcms+Gm</td>\n",
       "      <td>egDgzt4/gZq+i2SM</td>\n",
       "      <td>3790169.0</td>\n",
       "      <td>1942.0</td>\n",
       "      <td>00O0b000004AnheEAC</td>\n",
       "      <td>ReportRunFromLightning</td>\n",
       "      <td>7.360508e+09</td>\n",
       "    </tr>\n",
       "    <tr>\n",
       "      <th>6549</th>\n",
       "      <td>2022-06-20T01:54:25.000</td>\n",
       "      <td>Open Tasks (Blue Steel)</td>\n",
       "      <td>Report</td>\n",
       "      <td>10229</td>\n",
       "      <td>618</td>\n",
       "      <td>9k/UMOlWlwcms+Gm</td>\n",
       "      <td>egDgzt4/gZq+i2SM</td>\n",
       "      <td>2416.0</td>\n",
       "      <td>865.0</td>\n",
       "      <td>00O0b000004AnheEAC</td>\n",
       "      <td>ReportRunFromLightning</td>\n",
       "      <td>2.089840e+06</td>\n",
       "    </tr>\n",
       "    <tr>\n",
       "      <th>6559</th>\n",
       "      <td>2022-06-20T01:54:25.000</td>\n",
       "      <td>Open Tasks (Blue Steel)</td>\n",
       "      <td>Report</td>\n",
       "      <td>11128</td>\n",
       "      <td>649</td>\n",
       "      <td>9k/UMOlWlwcms+Gm</td>\n",
       "      <td>egDgzt4/gZq+i2SM</td>\n",
       "      <td>2416.0</td>\n",
       "      <td>865.0</td>\n",
       "      <td>00O0b000004AnheEAC</td>\n",
       "      <td>ReportRunFromLightning</td>\n",
       "      <td>2.089840e+06</td>\n",
       "    </tr>\n",
       "  </tbody>\n",
       "</table>\n",
       "</div>"
      ],
      "text/plain": [
       "                  LastRunDate                     Name EVENT_TYPE  RUN_TIME  \\\n",
       "6556  2022-06-20T01:54:25.000  Open Tasks (Blue Steel)     Report     17302   \n",
       "6557  2022-06-20T01:54:25.000  Open Tasks (Blue Steel)     Report     24796   \n",
       "6501  2022-06-20T01:54:25.000  Open Tasks (Blue Steel)     Report    280250   \n",
       "6549  2022-06-20T01:54:25.000  Open Tasks (Blue Steel)     Report     10229   \n",
       "6559  2022-06-20T01:54:25.000  Open Tasks (Blue Steel)     Report     11128   \n",
       "\n",
       "      CPU_TIME       SESSION_KEY         LOGIN_KEY  ROW_COUNT  \\\n",
       "6556      3377  9k/UMOlWlwcms+Gm  egDgzt4/gZq+i2SM    74459.0   \n",
       "6557      7092  9k/UMOlWlwcms+Gm  egDgzt4/gZq+i2SM   204491.0   \n",
       "6501    125209  9k/UMOlWlwcms+Gm  egDgzt4/gZq+i2SM  3790169.0   \n",
       "6549       618  9k/UMOlWlwcms+Gm  egDgzt4/gZq+i2SM     2416.0   \n",
       "6559       649  9k/UMOlWlwcms+Gm  egDgzt4/gZq+i2SM     2416.0   \n",
       "\n",
       "      AVERAGE_ROW_SIZE   REPORT_ID_DERIVED                  ORIGIN  \\\n",
       "6556            2078.0  00O0b000004AnheEAC  ReportRunFromLightning   \n",
       "6557            2067.0  00O0b000004AnheEAC  ReportRunFromLightning   \n",
       "6501            1942.0  00O0b000004AnheEAC  ReportRunFromLightning   \n",
       "6549             865.0  00O0b000004AnheEAC  ReportRunFromLightning   \n",
       "6559             865.0  00O0b000004AnheEAC  ReportRunFromLightning   \n",
       "\n",
       "      AVG_BYTES_PER_REPORT  \n",
       "6556          1.547258e+08  \n",
       "6557          4.226829e+08  \n",
       "6501          7.360508e+09  \n",
       "6549          2.089840e+06  \n",
       "6559          2.089840e+06  "
      ]
     },
     "execution_count": 11,
     "metadata": {},
     "output_type": "execute_result"
    }
   ],
   "source": [
    "fradulent_reports = sorted_by_ARS[(sorted_by_ARS.AVG_BYTES_PER_REPORT >= trashold_bytes_per_report)]\n",
    "fradulent_reports.head()"
   ]
  },
  {
   "cell_type": "markdown",
   "id": "4b5e0258",
   "metadata": {},
   "source": [
    "Let's define functions for filtering mean and median of values."
   ]
  },
  {
   "cell_type": "code",
   "execution_count": 12,
   "id": "9d3ba408",
   "metadata": {},
   "outputs": [],
   "source": [
    "def filter_ars_by_mean(ars_value):\n",
    "    return ars_value > trashold_bytes_per_report "
   ]
  },
  {
   "cell_type": "markdown",
   "id": "3f5797cc",
   "metadata": {},
   "source": [
    "### Until the moment\n",
    "So far, we have been able to:\n",
    "- [x] Clear data to apply filtering\n",
    "- [x] Keep only as apparent to relationships\n",
    "\n",
    "And let's start from:\n",
    "\n",
    "- [ ] Apply filtering\n",
    "- [ ] Make plot's for each one of them\n",
    "\n"
   ]
  },
  {
   "cell_type": "markdown",
   "id": "9d06c957",
   "metadata": {},
   "source": [
    "Importing matplotlib.pyplot for making the plots"
   ]
  },
  {
   "cell_type": "code",
   "execution_count": 13,
   "id": "cc1af983",
   "metadata": {},
   "outputs": [],
   "source": [
    "import matplotlib.pyplot as plt"
   ]
  },
  {
   "cell_type": "markdown",
   "id": "7a673a1b",
   "metadata": {},
   "source": [
    "Applying the filters for mean and median"
   ]
  },
  {
   "cell_type": "code",
   "execution_count": 14,
   "id": "f9bef216",
   "metadata": {},
   "outputs": [
    {
     "data": {
      "text/plain": [
       "6605    False\n",
       "6606    False\n",
       "6607    False\n",
       "6608    False\n",
       "6609    False\n",
       "        ...  \n",
       "5792    False\n",
       "5817    False\n",
       "5894    False\n",
       "6538     True\n",
       "6539     True\n",
       "Name: AVG_BYTES_PER_REPORT, Length: 7101, dtype: bool"
      ]
     },
     "execution_count": 14,
     "metadata": {},
     "output_type": "execute_result"
    }
   ],
   "source": [
    "comparing_fraudulent_reports = sorted_by_ARS.AVG_BYTES_PER_REPORT.apply(filter_ars_by_mean)\n",
    "comparing_fraudulent_reports"
   ]
  },
  {
   "cell_type": "markdown",
   "id": "a13c4bfe",
   "metadata": {},
   "source": [
    "Generating the plot including fraudulent reports "
   ]
  },
  {
   "cell_type": "markdown",
   "id": "63e505e1",
   "metadata": {},
   "source": [
    "We will remove fraudulent reports by applying a threshold of values ​​that are below average as fraudulent values ​​following the documentation"
   ]
  },
  {
   "cell_type": "code",
   "execution_count": 15,
   "id": "0e553baa",
   "metadata": {
    "scrolled": true
   },
   "outputs": [
    {
     "data": {
      "image/png": "[encoded data removed]",
      "text/plain": [
       "<Figure size 504x504 with 1 Axes>"
      ]
     },
     "metadata": {},
     "output_type": "display_data"
    },
    {
     "data": {
      "text/plain": [
       "False    7020\n",
       "True       81\n",
       "Name: AVG_BYTES_PER_REPORT, dtype: int64"
      ]
     },
     "execution_count": 15,
     "metadata": {},
     "output_type": "execute_result"
    }
   ],
   "source": [
    "# Making a plot\n",
    "plt.figure(figsize=(7, 7))\n",
    "plt.pie(comparing_fraudulent_reports.value_counts(), labels=comparing_fraudulent_reports.unique(), autopct=\"%.2f\", colors=[\"lightgrey\", \"royalblue\"])\n",
    "plt.title('Count of fraudulent reports', fontsize=14)\n",
    "plt.box(on=None)\n",
    "plt.show()\n",
    "comparing_fraudulent_reports.value_counts()"
   ]
  },
  {
   "cell_type": "markdown",
   "id": "f6c6329d",
   "metadata": {},
   "source": [
    "### After seeing the values that are above the mean, we can conclude that\n",
    "\n",
    "- We were able to identify fraudulent active reports, they make up 1.14% within active reports\n",
    "\n",
    "> Now we will link these fraudulent reports with the Page View components"
   ]
  },
  {
   "cell_type": "markdown",
   "id": "5ec3068f",
   "metadata": {},
   "source": [
    "## Loading ELF tables\n",
    "\n",
    "\n",
    ">Now we will make the relationship with the PageView table, so we can analyze which Lightning-type  component pages acessed are fraudlents"
   ]
  },
  {
   "cell_type": "code",
   "execution_count": 16,
   "id": "1321dfc7",
   "metadata": {},
   "outputs": [
    {
     "data": {
      "text/plain": [
       "['2022-06-04_LightningPageView.csv',\n",
       " '2022-06-05_LightningPageView.csv',\n",
       " '2022-06-20_LightningPageView.csv']"
      ]
     },
     "execution_count": 16,
     "metadata": {},
     "output_type": "execute_result"
    }
   ],
   "source": [
    "os.listdir(\"data/Salesforce/ELF/LightningPageView\")"
   ]
  },
  {
   "cell_type": "code",
   "execution_count": 17,
   "id": "492eb97a",
   "metadata": {},
   "outputs": [
    {
     "data": {
      "text/plain": [
       "(792349, 50)"
      ]
     },
     "execution_count": 17,
     "metadata": {},
     "output_type": "execute_result"
    }
   ],
   "source": [
    "page_view = pd.read_csv(\"data/Salesforce/ELF/LightningPageView/2022-06-04_LightningPageView.csv\", low_memory=False)\n",
    "page_view.shape"
   ]
  },
  {
   "cell_type": "code",
   "execution_count": 18,
   "id": "b2e3155b",
   "metadata": {},
   "outputs": [
    {
     "data": {
      "text/plain": [
       "['EVENT_TYPE',\n",
       " 'TIMESTAMP',\n",
       " 'REQUEST_ID',\n",
       " 'ORGANIZATION_ID',\n",
       " 'USER_ID',\n",
       " 'CLIENT_ID',\n",
       " 'SESSION_KEY',\n",
       " 'LOGIN_KEY',\n",
       " 'USER_TYPE',\n",
       " 'APP_NAME',\n",
       " 'DEVICE_PLATFORM',\n",
       " 'SDK_APP_VERSION',\n",
       " 'OS_NAME',\n",
       " 'OS_VERSION',\n",
       " 'USER_AGENT',\n",
       " 'BROWSER_NAME',\n",
       " 'BROWSER_VERSION',\n",
       " 'SDK_VERSION',\n",
       " 'DEVICE_MODEL',\n",
       " 'DEVICE_ID',\n",
       " 'SDK_APP_TYPE',\n",
       " 'CLIENT_GEO',\n",
       " 'CONNECTION_TYPE',\n",
       " 'UI_EVENT_ID',\n",
       " 'UI_EVENT_SOURCE',\n",
       " 'UI_EVENT_TIMESTAMP',\n",
       " 'PAGE_START_TIME',\n",
       " 'DURATION',\n",
       " 'EFFECTIVE_PAGE_TIME_DEVIATION',\n",
       " 'EFFECTIVE_PAGE_TIME_DEVIATION_REASON',\n",
       " 'EFFECTIVE_PAGE_TIME_DEVIATION_ERROR_TYPE',\n",
       " 'EFFECTIVE_PAGE_TIME',\n",
       " 'DEVICE_SESSION_ID',\n",
       " 'UI_EVENT_SEQUENCE_NUM',\n",
       " 'PAGE_ENTITY_ID',\n",
       " 'PAGE_ENTITY_TYPE',\n",
       " 'PAGE_CONTEXT',\n",
       " 'PAGE_URL',\n",
       " 'PAGE_APP_NAME',\n",
       " 'PREVPAGE_ENTITY_ID',\n",
       " 'PREVPAGE_ENTITY_TYPE',\n",
       " 'PREVPAGE_CONTEXT',\n",
       " 'PREVPAGE_URL',\n",
       " 'PREVPAGE_APP_NAME',\n",
       " 'TARGET_UI_ELEMENT',\n",
       " 'PARENT_UI_ELEMENT',\n",
       " 'GRANDPARENT_UI_ELEMENT',\n",
       " 'TIMESTAMP_DERIVED',\n",
       " 'USER_ID_DERIVED',\n",
       " 'CLIENT_IP']"
      ]
     },
     "execution_count": 18,
     "metadata": {},
     "output_type": "execute_result"
    }
   ],
   "source": [
    "list(page_view.columns)"
   ]
  },
  {
   "cell_type": "markdown",
   "id": "7953da89",
   "metadata": {},
   "source": [
    "Let's find the table that is related to the reports"
   ]
  },
  {
   "cell_type": "markdown",
   "id": "9bad5e69",
   "metadata": {},
   "source": [
    "Let's relate these tables in a single data frame"
   ]
  },
  {
   "cell_type": "code",
   "execution_count": 19,
   "id": "93bd2187",
   "metadata": {},
   "outputs": [
    {
     "data": {
      "text/plain": [
       "array(['home:landing', 'one:twoColumnLayout',\n",
       "       'forceSearch:searchPageDesktop', 'omni:supervisorPanel',\n",
       "       'force:objectHomeDesktop', 'force:relatedListDesktop',\n",
       "       'one:recordHomeFlexipage2Wrapper', 'one:consoleObjectHome',\n",
       "       'one:recordHomeFlexipage', 'one:recordActionWrapper',\n",
       "       'one:auraContainer', 'Prechat', 'Chat', 'unknown',\n",
       "       'reports:reportBase', 'forceKnowledge:articleRedirect',\n",
       "       'onesetup:baseHomePage', 'sfa:analyticsHome', 'one:alohaPage',\n",
       "       'forceSearch:search', 'forceChatter:desktopChatter', 'Waiting',\n",
       "       'forceSearch:searchPage',\n",
       "       'runtime_platform_actions:quickActionWrapper',\n",
       "       'desktopDashboards:dashboard', 'undefined',\n",
       "       'runtime_sales_activities:taskBorderLayout',\n",
       "       'usage_app:lightningUsageSwitcher', 'onesetup:setupAlohaPage',\n",
       "       'one:utilityBarPopoutWrapper', 'e.forceContent:openPreview',\n",
       "       'Postchat', 'markup://force:routingRetryPanel',\n",
       "       'forceChatter:feedElementFullView', 'force:relatedList', 'native',\n",
       "       'one:chatter',\n",
       "       'runtime_sales_emailtemplateui:emailTemplateObjectHome',\n",
       "       'one:webTab', 'reports:reportBuilder', 'e.setup:navigateToSetup',\n",
       "       'c:CloneQueueUser', 'setupnav:appManager', 'c:QueueUserDetails',\n",
       "       'sfa:hierarchyFullView', 'notes:notesObjectHome',\n",
       "       'wave:recipeConfigurationSettings', 'onesetup:pageNotFound',\n",
       "       'objectManager:objectList', 'objectManager:objectDetailPage',\n",
       "       'app_flexipage:lwcAppFlexipageWrapper', 'one:unsupported',\n",
       "       'c:AssignedQueueDetails', 'force:message',\n",
       "       'markup://one:noNavItems',\n",
       "       'runtime_service_fieldservice:objectHierarchy', 'myday:myDay',\n",
       "       'calendar:home', 'one:recordLoadError', 'force:filterList',\n",
       "       'one:unsupportedHome', 'force:recordLandingPage'], dtype=object)"
      ]
     },
     "execution_count": 19,
     "metadata": {},
     "output_type": "execute_result"
    }
   ],
   "source": [
    "page_view.PAGE_CONTEXT.unique()"
   ]
  },
  {
   "cell_type": "markdown",
   "id": "96eea478",
   "metadata": {},
   "source": [
    "Let's remove unsed columns"
   ]
  },
  {
   "cell_type": "code",
   "execution_count": 20,
   "id": "3465c3bd",
   "metadata": {},
   "outputs": [],
   "source": [
    "page_view = page_view.drop(columns=['EVENT_TYPE',\n",
    " 'REQUEST_ID',\n",
    " 'ORGANIZATION_ID',\n",
    " 'USER_ID',\n",
    " 'CLIENT_ID',\n",
    " 'LOGIN_KEY',\n",
    " 'USER_TYPE',\n",
    " 'APP_NAME',\n",
    " 'DEVICE_PLATFORM',\n",
    " 'SDK_APP_VERSION',\n",
    " 'OS_NAME',\n",
    " 'OS_VERSION',\n",
    " 'USER_AGENT',\n",
    " 'BROWSER_NAME',\n",
    " 'BROWSER_VERSION',\n",
    " 'SDK_VERSION',\n",
    " 'DEVICE_MODEL',\n",
    " 'DEVICE_ID',\n",
    " 'SDK_APP_TYPE',\n",
    " 'CLIENT_GEO',\n",
    " 'CONNECTION_TYPE',\n",
    " 'UI_EVENT_ID',\n",
    " 'UI_EVENT_SOURCE',\n",
    " 'UI_EVENT_TIMESTAMP',\n",
    " 'PAGE_START_TIME',\n",
    " 'DURATION',\n",
    " 'EFFECTIVE_PAGE_TIME_DEVIATION',\n",
    " 'EFFECTIVE_PAGE_TIME_DEVIATION_REASON',\n",
    " 'EFFECTIVE_PAGE_TIME_DEVIATION_ERROR_TYPE',\n",
    " 'EFFECTIVE_PAGE_TIME',\n",
    " 'DEVICE_SESSION_ID',\n",
    " 'UI_EVENT_SEQUENCE_NUM',\n",
    " 'PAGE_ENTITY_ID',\n",
    " 'PAGE_ENTITY_TYPE',\n",
    " 'PAGE_APP_NAME',\n",
    " 'PREVPAGE_ENTITY_ID',\n",
    " 'PREVPAGE_ENTITY_TYPE',\n",
    " 'PREVPAGE_APP_NAME',\n",
    " 'TARGET_UI_ELEMENT',\n",
    " 'PARENT_UI_ELEMENT',\n",
    " 'GRANDPARENT_UI_ELEMENT',\n",
    " 'CLIENT_IP'])"
   ]
  },
  {
   "cell_type": "markdown",
   "id": "1e5969e1",
   "metadata": {},
   "source": [
    "Function to extract component id inside page view"
   ]
  },
  {
   "cell_type": "code",
   "execution_count": 21,
   "id": "175a7068",
   "metadata": {},
   "outputs": [],
   "source": [
    "run_report_api_resource = \"/lightning/r/\"\n",
    "\n",
    "def get_report_info_from_endpoint(page_url):\n",
    "    if page_url.startswith(run_report_api_resource):\n",
    "        uri = page_url.split(run_report_api_resource)\n",
    "        if len(uri) >= 2:\n",
    "            report_type, report_id_derived = uri[1].split(\"/\")[:2]\n",
    "            return report_type, report_id_derived"
   ]
  },
  {
   "cell_type": "code",
   "execution_count": 22,
   "id": "c6c32182",
   "metadata": {},
   "outputs": [],
   "source": [
    "page_view.dropna(subset='PAGE_URL', inplace=True)"
   ]
  },
  {
   "cell_type": "code",
   "execution_count": 23,
   "id": "c38a06ef",
   "metadata": {},
   "outputs": [],
   "source": [
    "page_view['REPORT_INFO_DERIVED'] = page_view.PAGE_URL.apply(get_report_info_from_endpoint)"
   ]
  },
  {
   "cell_type": "code",
   "execution_count": 24,
   "id": "2258843d",
   "metadata": {},
   "outputs": [],
   "source": [
    "page_view.dropna(subset=['REPORT_INFO_DERIVED'], inplace=True)"
   ]
  },
  {
   "cell_type": "code",
   "execution_count": 25,
   "id": "bf87601b",
   "metadata": {},
   "outputs": [],
   "source": [
    "page_view['REPORT_TYPE_DERIVED'] = page_view.REPORT_INFO_DERIVED.str[0]\n",
    "page_view['REPORT_ID_DERIVED'] = page_view.REPORT_INFO_DERIVED.str[1]"
   ]
  },
  {
   "cell_type": "code",
   "execution_count": 26,
   "id": "af9f6286",
   "metadata": {},
   "outputs": [
    {
     "data": {
      "text/plain": [
       "(Report, 00O0b000004kTazEAE)          5561\n",
       "(Report, 00O0b000006iNwdEAE)          5502\n",
       "(Report, 00O2R000004AmwmUAC)           935\n",
       "(Report, 00O0b000005yLBGEA2)           860\n",
       "(Report, 00O2R000003JCXaUAO)           779\n",
       "                                      ... \n",
       "(WorkOrder, 0WO6P00000268UbWAI)          1\n",
       "(Task, 00T6P00000I98X0UAJ)               1\n",
       "(EmailMessage, 02s6P000009Yhw9QAC)       1\n",
       "(Contact, 0036P000003s5GoQAI)            1\n",
       "(Case, 5006P000005WVwMQAW)               1\n",
       "Name: REPORT_INFO_DERIVED, Length: 129887, dtype: int64"
      ]
     },
     "execution_count": 26,
     "metadata": {},
     "output_type": "execute_result"
    }
   ],
   "source": [
    "page_view.REPORT_INFO_DERIVED.value_counts()"
   ]
  },
  {
   "cell_type": "code",
   "execution_count": 27,
   "id": "1ea7756d",
   "metadata": {},
   "outputs": [
    {
     "data": {
      "text/html": [
       "<div>\n",
       "<style scoped>\n",
       "    .dataframe tbody tr th:only-of-type {\n",
       "        vertical-align: middle;\n",
       "    }\n",
       "\n",
       "    .dataframe tbody tr th {\n",
       "        vertical-align: top;\n",
       "    }\n",
       "\n",
       "    .dataframe thead th {\n",
       "        text-align: right;\n",
       "    }\n",
       "</style>\n",
       "<table border=\"1\" class=\"dataframe\">\n",
       "  <thead>\n",
       "    <tr style=\"text-align: right;\">\n",
       "      <th></th>\n",
       "      <th>TIMESTAMP</th>\n",
       "      <th>SESSION_KEY</th>\n",
       "      <th>PAGE_CONTEXT</th>\n",
       "      <th>PAGE_URL</th>\n",
       "      <th>PREVPAGE_CONTEXT</th>\n",
       "      <th>PREVPAGE_URL</th>\n",
       "      <th>TIMESTAMP_DERIVED</th>\n",
       "      <th>USER_ID_DERIVED</th>\n",
       "      <th>REPORT_TYPE_DERIVED</th>\n",
       "      <th>REPORT_ID_DERIVED</th>\n",
       "    </tr>\n",
       "  </thead>\n",
       "  <tbody>\n",
       "    <tr>\n",
       "      <th>18</th>\n",
       "      <td>2.022060e+13</td>\n",
       "      <td>Od9HyGqKIPjZETCy</td>\n",
       "      <td>force:relatedListDesktop</td>\n",
       "      <td>/lightning/r/a2U2R000002QEcEUAW/related/Attach...</td>\n",
       "      <td>undefined</td>\n",
       "      <td>NaN</td>\n",
       "      <td>2022-06-04T05:01:56.987Z</td>\n",
       "      <td>0050b000004KRJAAA4</td>\n",
       "      <td>a2U2R000002QEcEUAW</td>\n",
       "      <td>related</td>\n",
       "    </tr>\n",
       "    <tr>\n",
       "      <th>19</th>\n",
       "      <td>2.022060e+13</td>\n",
       "      <td>TfcSfhplGPDC53RN</td>\n",
       "      <td>one:recordHomeFlexipage2Wrapper</td>\n",
       "      <td>/lightning/r/Call_Transcript__c/a7Z6P0000072CX...</td>\n",
       "      <td>undefined</td>\n",
       "      <td>NaN</td>\n",
       "      <td>2022-06-04T05:01:57.559Z</td>\n",
       "      <td>0052R000009nJ1cQAE</td>\n",
       "      <td>Call_Transcript__c</td>\n",
       "      <td>a7Z6P0000072CXbUAM</td>\n",
       "    </tr>\n",
       "    <tr>\n",
       "      <th>20</th>\n",
       "      <td>2.022060e+13</td>\n",
       "      <td>4sBj1cTnLGwiGV9d</td>\n",
       "      <td>one:recordHomeFlexipage2Wrapper</td>\n",
       "      <td>/lightning/r/Call_Transcript__c/a7Z6P000007ILQ...</td>\n",
       "      <td>undefined</td>\n",
       "      <td>NaN</td>\n",
       "      <td>2022-06-04T05:01:57.790Z</td>\n",
       "      <td>0050b000004KCexAAG</td>\n",
       "      <td>Call_Transcript__c</td>\n",
       "      <td>a7Z6P000007ILQ5UAO</td>\n",
       "    </tr>\n",
       "    <tr>\n",
       "      <th>21</th>\n",
       "      <td>2.022060e+13</td>\n",
       "      <td>Jaf4hE6p30VE9J2k</td>\n",
       "      <td>one:recordHomeFlexipage2Wrapper</td>\n",
       "      <td>/lightning/r/Call_Transcript__c/a7Z6P000006ov4...</td>\n",
       "      <td>undefined</td>\n",
       "      <td>NaN</td>\n",
       "      <td>2022-06-04T05:01:57.849Z</td>\n",
       "      <td>0050b000004KCBBAA4</td>\n",
       "      <td>Call_Transcript__c</td>\n",
       "      <td>a7Z6P000006ov4sUAA</td>\n",
       "    </tr>\n",
       "    <tr>\n",
       "      <th>23</th>\n",
       "      <td>2.022060e+13</td>\n",
       "      <td>7v1qZzyf0WtSNvoO</td>\n",
       "      <td>one:recordHomeFlexipage2Wrapper</td>\n",
       "      <td>/lightning/r/Call_Transcript__c/a7Z6P000007bMQ...</td>\n",
       "      <td>undefined</td>\n",
       "      <td>NaN</td>\n",
       "      <td>2022-06-04T05:01:58.281Z</td>\n",
       "      <td>0050b000004KDwkAAG</td>\n",
       "      <td>Call_Transcript__c</td>\n",
       "      <td>a7Z6P000007bMQ3UAM</td>\n",
       "    </tr>\n",
       "    <tr>\n",
       "      <th>...</th>\n",
       "      <td>...</td>\n",
       "      <td>...</td>\n",
       "      <td>...</td>\n",
       "      <td>...</td>\n",
       "      <td>...</td>\n",
       "      <td>...</td>\n",
       "      <td>...</td>\n",
       "      <td>...</td>\n",
       "      <td>...</td>\n",
       "      <td>...</td>\n",
       "    </tr>\n",
       "    <tr>\n",
       "      <th>792343</th>\n",
       "      <td>2.022060e+13</td>\n",
       "      <td>B1kctdh6zWN/vLOC</td>\n",
       "      <td>one:recordHomeFlexipage2Wrapper</td>\n",
       "      <td>/lightning/r/Case/5006P000004rfQ0QAI/view</td>\n",
       "      <td>forceSearch:searchPageDesktop</td>\n",
       "      <td>/one/one.app#eyJjb21wb25lbnREZWYiOiJmb3JjZVNlY...</td>\n",
       "      <td>2022-06-04T23:59:59.365Z</td>\n",
       "      <td>0052R00000AOeTlQAL</td>\n",
       "      <td>Case</td>\n",
       "      <td>5006P000004rfQ0QAI</td>\n",
       "    </tr>\n",
       "    <tr>\n",
       "      <th>792345</th>\n",
       "      <td>2.022060e+13</td>\n",
       "      <td>4wa9sqcN+q2hH9jh</td>\n",
       "      <td>one:recordHomeFlexipage2Wrapper</td>\n",
       "      <td>/lightning/r/Case/5006P0000055POPQA2/view</td>\n",
       "      <td>force:objectHomeDesktop</td>\n",
       "      <td>/lightning/o/Case/list?filterName=00B2R0000054...</td>\n",
       "      <td>2022-06-04T23:59:59.487Z</td>\n",
       "      <td>0052R000008E6tpQAC</td>\n",
       "      <td>Case</td>\n",
       "      <td>5006P0000055POPQA2</td>\n",
       "    </tr>\n",
       "    <tr>\n",
       "      <th>792346</th>\n",
       "      <td>2.022060e+13</td>\n",
       "      <td>N94Hizl0X7a5KdYn</td>\n",
       "      <td>one:recordHomeFlexipage2Wrapper</td>\n",
       "      <td>/lightning/r/Case/5006P000005Ptu6QAC/view?ws=%...</td>\n",
       "      <td>one:recordHomeFlexipage2Wrapper</td>\n",
       "      <td>/lightning/r/Asset/02i6P0000066ee2QAA/view?ws=...</td>\n",
       "      <td>2022-06-04T23:59:59.758Z</td>\n",
       "      <td>0052R00000ASPZYQA5</td>\n",
       "      <td>Case</td>\n",
       "      <td>5006P000005Ptu6QAC</td>\n",
       "    </tr>\n",
       "    <tr>\n",
       "      <th>792347</th>\n",
       "      <td>2.022060e+13</td>\n",
       "      <td>KyrX4soD28ulvRqi</td>\n",
       "      <td>one:recordHomeFlexipage2Wrapper</td>\n",
       "      <td>/lightning/r/Call_Transcript__c/a7Z6P000007IMy...</td>\n",
       "      <td>one:recordHomeFlexipage2Wrapper</td>\n",
       "      <td>/lightning/r/Case/5006P000005WV2JQAW/view?ws=%...</td>\n",
       "      <td>2022-06-04T23:59:59.772Z</td>\n",
       "      <td>0056P000000DgnyQAC</td>\n",
       "      <td>Call_Transcript__c</td>\n",
       "      <td>a7Z6P000007IMyMUAW</td>\n",
       "    </tr>\n",
       "    <tr>\n",
       "      <th>792348</th>\n",
       "      <td>2.022060e+13</td>\n",
       "      <td>m8PwHzZulDsd55f6</td>\n",
       "      <td>one:recordHomeFlexipage2Wrapper</td>\n",
       "      <td>/lightning/r/Case/5006P000005WVwMQAW/view</td>\n",
       "      <td>one:recordHomeFlexipage2Wrapper</td>\n",
       "      <td>/lightning/r/Case/5006P000004qo1qQAA/view</td>\n",
       "      <td>2022-06-04T23:59:59.800Z</td>\n",
       "      <td>0056P000000U7fdQAC</td>\n",
       "      <td>Case</td>\n",
       "      <td>5006P000005WVwMQAW</td>\n",
       "    </tr>\n",
       "  </tbody>\n",
       "</table>\n",
       "<p>542852 rows × 10 columns</p>\n",
       "</div>"
      ],
      "text/plain": [
       "           TIMESTAMP       SESSION_KEY                     PAGE_CONTEXT  \\\n",
       "18      2.022060e+13  Od9HyGqKIPjZETCy         force:relatedListDesktop   \n",
       "19      2.022060e+13  TfcSfhplGPDC53RN  one:recordHomeFlexipage2Wrapper   \n",
       "20      2.022060e+13  4sBj1cTnLGwiGV9d  one:recordHomeFlexipage2Wrapper   \n",
       "21      2.022060e+13  Jaf4hE6p30VE9J2k  one:recordHomeFlexipage2Wrapper   \n",
       "23      2.022060e+13  7v1qZzyf0WtSNvoO  one:recordHomeFlexipage2Wrapper   \n",
       "...              ...               ...                              ...   \n",
       "792343  2.022060e+13  B1kctdh6zWN/vLOC  one:recordHomeFlexipage2Wrapper   \n",
       "792345  2.022060e+13  4wa9sqcN+q2hH9jh  one:recordHomeFlexipage2Wrapper   \n",
       "792346  2.022060e+13  N94Hizl0X7a5KdYn  one:recordHomeFlexipage2Wrapper   \n",
       "792347  2.022060e+13  KyrX4soD28ulvRqi  one:recordHomeFlexipage2Wrapper   \n",
       "792348  2.022060e+13  m8PwHzZulDsd55f6  one:recordHomeFlexipage2Wrapper   \n",
       "\n",
       "                                                 PAGE_URL  \\\n",
       "18      /lightning/r/a2U2R000002QEcEUAW/related/Attach...   \n",
       "19      /lightning/r/Call_Transcript__c/a7Z6P0000072CX...   \n",
       "20      /lightning/r/Call_Transcript__c/a7Z6P000007ILQ...   \n",
       "21      /lightning/r/Call_Transcript__c/a7Z6P000006ov4...   \n",
       "23      /lightning/r/Call_Transcript__c/a7Z6P000007bMQ...   \n",
       "...                                                   ...   \n",
       "792343          /lightning/r/Case/5006P000004rfQ0QAI/view   \n",
       "792345          /lightning/r/Case/5006P0000055POPQA2/view   \n",
       "792346  /lightning/r/Case/5006P000005Ptu6QAC/view?ws=%...   \n",
       "792347  /lightning/r/Call_Transcript__c/a7Z6P000007IMy...   \n",
       "792348          /lightning/r/Case/5006P000005WVwMQAW/view   \n",
       "\n",
       "                       PREVPAGE_CONTEXT  \\\n",
       "18                            undefined   \n",
       "19                            undefined   \n",
       "20                            undefined   \n",
       "21                            undefined   \n",
       "23                            undefined   \n",
       "...                                 ...   \n",
       "792343    forceSearch:searchPageDesktop   \n",
       "792345          force:objectHomeDesktop   \n",
       "792346  one:recordHomeFlexipage2Wrapper   \n",
       "792347  one:recordHomeFlexipage2Wrapper   \n",
       "792348  one:recordHomeFlexipage2Wrapper   \n",
       "\n",
       "                                             PREVPAGE_URL  \\\n",
       "18                                                    NaN   \n",
       "19                                                    NaN   \n",
       "20                                                    NaN   \n",
       "21                                                    NaN   \n",
       "23                                                    NaN   \n",
       "...                                                   ...   \n",
       "792343  /one/one.app#eyJjb21wb25lbnREZWYiOiJmb3JjZVNlY...   \n",
       "792345  /lightning/o/Case/list?filterName=00B2R0000054...   \n",
       "792346  /lightning/r/Asset/02i6P0000066ee2QAA/view?ws=...   \n",
       "792347  /lightning/r/Case/5006P000005WV2JQAW/view?ws=%...   \n",
       "792348          /lightning/r/Case/5006P000004qo1qQAA/view   \n",
       "\n",
       "               TIMESTAMP_DERIVED     USER_ID_DERIVED REPORT_TYPE_DERIVED  \\\n",
       "18      2022-06-04T05:01:56.987Z  0050b000004KRJAAA4  a2U2R000002QEcEUAW   \n",
       "19      2022-06-04T05:01:57.559Z  0052R000009nJ1cQAE  Call_Transcript__c   \n",
       "20      2022-06-04T05:01:57.790Z  0050b000004KCexAAG  Call_Transcript__c   \n",
       "21      2022-06-04T05:01:57.849Z  0050b000004KCBBAA4  Call_Transcript__c   \n",
       "23      2022-06-04T05:01:58.281Z  0050b000004KDwkAAG  Call_Transcript__c   \n",
       "...                          ...                 ...                 ...   \n",
       "792343  2022-06-04T23:59:59.365Z  0052R00000AOeTlQAL                Case   \n",
       "792345  2022-06-04T23:59:59.487Z  0052R000008E6tpQAC                Case   \n",
       "792346  2022-06-04T23:59:59.758Z  0052R00000ASPZYQA5                Case   \n",
       "792347  2022-06-04T23:59:59.772Z  0056P000000DgnyQAC  Call_Transcript__c   \n",
       "792348  2022-06-04T23:59:59.800Z  0056P000000U7fdQAC                Case   \n",
       "\n",
       "         REPORT_ID_DERIVED  \n",
       "18                 related  \n",
       "19      a7Z6P0000072CXbUAM  \n",
       "20      a7Z6P000007ILQ5UAO  \n",
       "21      a7Z6P000006ov4sUAA  \n",
       "23      a7Z6P000007bMQ3UAM  \n",
       "...                    ...  \n",
       "792343  5006P000004rfQ0QAI  \n",
       "792345  5006P0000055POPQA2  \n",
       "792346  5006P000005Ptu6QAC  \n",
       "792347  a7Z6P000007IMyMUAW  \n",
       "792348  5006P000005WVwMQAW  \n",
       "\n",
       "[542852 rows x 10 columns]"
      ]
     },
     "execution_count": 27,
     "metadata": {},
     "output_type": "execute_result"
    }
   ],
   "source": [
    "page_view.drop(columns='REPORT_INFO_DERIVED')"
   ]
  },
  {
   "cell_type": "markdown",
   "id": "f5da5e95",
   "metadata": {},
   "source": [
    "Merging tables"
   ]
  },
  {
   "cell_type": "code",
   "execution_count": 28,
   "id": "0f1f5479",
   "metadata": {},
   "outputs": [],
   "source": [
    "valid_page_view_reports = pd.merge(\n",
    "left=fradulent_reports,\n",
    "right=page_view,\n",
    "on='REPORT_ID_DERIVED')"
   ]
  },
  {
   "cell_type": "code",
   "execution_count": 29,
   "id": "a22e186a",
   "metadata": {},
   "outputs": [],
   "source": [
    "valid_page_view_reports.drop(columns=[\n",
    " 'EVENT_TYPE',\n",
    " 'RUN_TIME',\n",
    " 'CPU_TIME',\n",
    " 'SESSION_KEY_x',\n",
    " 'LOGIN_KEY',\n",
    " 'TIMESTAMP',\n",
    " 'SESSION_KEY_y'], inplace=True)"
   ]
  },
  {
   "cell_type": "code",
   "execution_count": 30,
   "id": "014dfd0b",
   "metadata": {},
   "outputs": [
    {
     "data": {
      "text/plain": [
       "0       154725802.0\n",
       "1       154725802.0\n",
       "2       154725802.0\n",
       "3       154725802.0\n",
       "4       154725802.0\n",
       "           ...     \n",
       "4952      4869105.0\n",
       "4953      4869105.0\n",
       "4954      4869105.0\n",
       "4955      4869105.0\n",
       "4956      4869105.0\n",
       "Name: AVG_BYTES_PER_REPORT, Length: 4957, dtype: float64"
      ]
     },
     "execution_count": 30,
     "metadata": {},
     "output_type": "execute_result"
    }
   ],
   "source": [
    "valid_page_view_reports.AVG_BYTES_PER_REPORT"
   ]
  },
  {
   "cell_type": "code",
   "execution_count": 31,
   "id": "cf6e7037",
   "metadata": {},
   "outputs": [
    {
     "data": {
      "text/plain": [
       "171497733.24974784"
      ]
     },
     "execution_count": 31,
     "metadata": {},
     "output_type": "execute_result"
    }
   ],
   "source": [
    "trashold_bytes_per_page_view = valid_page_view_reports.AVG_BYTES_PER_REPORT.mean()\n",
    "trashold_bytes_per_page_view"
   ]
  },
  {
   "cell_type": "code",
   "execution_count": null,
   "id": "df98f90c",
   "metadata": {},
   "outputs": [],
   "source": []
  },
  {
   "cell_type": "markdown",
   "id": "f5ce5c11",
   "metadata": {},
   "source": [
    "### Now let's follow these steps:\n",
    "\n",
    "- Apply the mean filters with the related table\n",
    "\n",
    "- Generate a visualization for each applied filter"
   ]
  },
  {
   "cell_type": "markdown",
   "id": "91cf7fd8",
   "metadata": {},
   "source": [
    "Applying filter"
   ]
  },
  {
   "cell_type": "code",
   "execution_count": 32,
   "id": "83574750",
   "metadata": {},
   "outputs": [],
   "source": [
    "def filter_ars_by_mean_page_view(ars_value):\n",
    "    return ars_value >= trashold_bytes_per_page_view"
   ]
  },
  {
   "cell_type": "code",
   "execution_count": 33,
   "id": "8f4421aa",
   "metadata": {},
   "outputs": [
    {
     "data": {
      "text/plain": [
       "0       False\n",
       "1       False\n",
       "2       False\n",
       "3       False\n",
       "4       False\n",
       "        ...  \n",
       "4952    False\n",
       "4953    False\n",
       "4954    False\n",
       "4955    False\n",
       "4956    False\n",
       "Name: AVG_BYTES_PER_REPORT, Length: 4957, dtype: bool"
      ]
     },
     "execution_count": 33,
     "metadata": {},
     "output_type": "execute_result"
    }
   ],
   "source": [
    "above_mean_page_view = valid_page_view_reports.AVG_BYTES_PER_REPORT.apply(filter_ars_by_mean_page_view)\n",
    "above_mean_page_view"
   ]
  },
  {
   "cell_type": "code",
   "execution_count": 34,
   "id": "174e66e7",
   "metadata": {},
   "outputs": [
    {
     "data": {
      "image/png": "[encoded data removed]",
      "text/plain": [
       "<Figure size 576x576 with 1 Axes>"
      ]
     },
     "metadata": {},
     "output_type": "display_data"
    },
    {
     "data": {
      "text/plain": [
       "False    4821\n",
       "True      136\n",
       "Name: AVG_BYTES_PER_REPORT, dtype: int64"
      ]
     },
     "execution_count": 34,
     "metadata": {},
     "output_type": "execute_result"
    }
   ],
   "source": [
    "# Making a plot\n",
    "plt.figure(figsize=(8,8))\n",
    "plt.pie(above_mean_page_view.value_counts(), autopct=\"%.2f\", labels=above_mean_page_view.unique(), colors=[\"grey\", \"royalblue\"])\n",
    "plt.title('Count of values above median', fontsize=14)\n",
    "plt.box(on=None)\n",
    "plt.show()\n",
    "above_mean_page_view.value_counts()"
   ]
  },
  {
   "cell_type": "code",
   "execution_count": 35,
   "id": "7bfb3145",
   "metadata": {},
   "outputs": [
    {
     "data": {
      "text/html": [
       "<div>\n",
       "<style scoped>\n",
       "    .dataframe tbody tr th:only-of-type {\n",
       "        vertical-align: middle;\n",
       "    }\n",
       "\n",
       "    .dataframe tbody tr th {\n",
       "        vertical-align: top;\n",
       "    }\n",
       "\n",
       "    .dataframe thead th {\n",
       "        text-align: right;\n",
       "    }\n",
       "</style>\n",
       "<table border=\"1\" class=\"dataframe\">\n",
       "  <thead>\n",
       "    <tr style=\"text-align: right;\">\n",
       "      <th></th>\n",
       "      <th>LastRunDate</th>\n",
       "      <th>Name</th>\n",
       "      <th>ROW_COUNT</th>\n",
       "      <th>AVERAGE_ROW_SIZE</th>\n",
       "      <th>REPORT_ID_DERIVED</th>\n",
       "      <th>ORIGIN</th>\n",
       "      <th>AVG_BYTES_PER_REPORT</th>\n",
       "      <th>PAGE_CONTEXT</th>\n",
       "      <th>PAGE_URL</th>\n",
       "      <th>PREVPAGE_CONTEXT</th>\n",
       "      <th>PREVPAGE_URL</th>\n",
       "      <th>TIMESTAMP_DERIVED</th>\n",
       "      <th>USER_ID_DERIVED</th>\n",
       "      <th>REPORT_INFO_DERIVED</th>\n",
       "      <th>REPORT_TYPE_DERIVED</th>\n",
       "    </tr>\n",
       "  </thead>\n",
       "  <tbody>\n",
       "    <tr>\n",
       "      <th>0</th>\n",
       "      <td>2022-06-20T01:54:25.000</td>\n",
       "      <td>Open Tasks (Blue Steel)</td>\n",
       "      <td>74459.0</td>\n",
       "      <td>2078.0</td>\n",
       "      <td>00O0b000004AnheEAC</td>\n",
       "      <td>ReportRunFromLightning</td>\n",
       "      <td>154725802.0</td>\n",
       "      <td>reports:reportBase</td>\n",
       "      <td>/lightning/r/Report/00O0b000004AnheEAC/view?qu...</td>\n",
       "      <td>undefined</td>\n",
       "      <td>NaN</td>\n",
       "      <td>2022-06-04T05:04:46.446Z</td>\n",
       "      <td>0050b000005nqZoAAI</td>\n",
       "      <td>(Report, 00O0b000004AnheEAC)</td>\n",
       "      <td>Report</td>\n",
       "    </tr>\n",
       "    <tr>\n",
       "      <th>1</th>\n",
       "      <td>2022-06-20T01:54:25.000</td>\n",
       "      <td>Open Tasks (Blue Steel)</td>\n",
       "      <td>74459.0</td>\n",
       "      <td>2078.0</td>\n",
       "      <td>00O0b000004AnheEAC</td>\n",
       "      <td>ReportRunFromLightning</td>\n",
       "      <td>154725802.0</td>\n",
       "      <td>reports:reportBase</td>\n",
       "      <td>/lightning/r/Report/00O0b000004AnheEAC/view?qu...</td>\n",
       "      <td>one:recordHomeFlexipage2Wrapper</td>\n",
       "      <td>/lightning/r/Case/5006P000004iQkBQAU/view?ws=%...</td>\n",
       "      <td>2022-06-04T07:26:15.281Z</td>\n",
       "      <td>0050b000004K6mGAAS</td>\n",
       "      <td>(Report, 00O0b000004AnheEAC)</td>\n",
       "      <td>Report</td>\n",
       "    </tr>\n",
       "    <tr>\n",
       "      <th>2</th>\n",
       "      <td>2022-06-20T01:54:25.000</td>\n",
       "      <td>Open Tasks (Blue Steel)</td>\n",
       "      <td>74459.0</td>\n",
       "      <td>2078.0</td>\n",
       "      <td>00O0b000004AnheEAC</td>\n",
       "      <td>ReportRunFromLightning</td>\n",
       "      <td>154725802.0</td>\n",
       "      <td>reports:reportBase</td>\n",
       "      <td>/lightning/r/Report/00O0b000004AnheEAC/view?qu...</td>\n",
       "      <td>omni:supervisorPanel</td>\n",
       "      <td>/one/one.app#eyJjb21wb25lbnREZWYiOiJvbW5pOnN1c...</td>\n",
       "      <td>2022-06-04T07:31:28.438Z</td>\n",
       "      <td>0050b000004K6mGAAS</td>\n",
       "      <td>(Report, 00O0b000004AnheEAC)</td>\n",
       "      <td>Report</td>\n",
       "    </tr>\n",
       "    <tr>\n",
       "      <th>3</th>\n",
       "      <td>2022-06-20T01:54:25.000</td>\n",
       "      <td>Open Tasks (Blue Steel)</td>\n",
       "      <td>74459.0</td>\n",
       "      <td>2078.0</td>\n",
       "      <td>00O0b000004AnheEAC</td>\n",
       "      <td>ReportRunFromLightning</td>\n",
       "      <td>154725802.0</td>\n",
       "      <td>reports:reportBase</td>\n",
       "      <td>/lightning/r/Report/00O0b000004AnheEAC/view?qu...</td>\n",
       "      <td>omni:supervisorPanel</td>\n",
       "      <td>/one/one.app#eyJjb21wb25lbnREZWYiOiJvbW5pOnN1c...</td>\n",
       "      <td>2022-06-04T07:32:28.511Z</td>\n",
       "      <td>0050b000004K6mGAAS</td>\n",
       "      <td>(Report, 00O0b000004AnheEAC)</td>\n",
       "      <td>Report</td>\n",
       "    </tr>\n",
       "    <tr>\n",
       "      <th>4</th>\n",
       "      <td>2022-06-20T01:54:25.000</td>\n",
       "      <td>Open Tasks (Blue Steel)</td>\n",
       "      <td>74459.0</td>\n",
       "      <td>2078.0</td>\n",
       "      <td>00O0b000004AnheEAC</td>\n",
       "      <td>ReportRunFromLightning</td>\n",
       "      <td>154725802.0</td>\n",
       "      <td>reports:reportBase</td>\n",
       "      <td>/lightning/r/Report/00O0b000004AnheEAC/view?qu...</td>\n",
       "      <td>undefined</td>\n",
       "      <td>NaN</td>\n",
       "      <td>2022-06-04T07:38:44.166Z</td>\n",
       "      <td>0050b000004K6mGAAS</td>\n",
       "      <td>(Report, 00O0b000004AnheEAC)</td>\n",
       "      <td>Report</td>\n",
       "    </tr>\n",
       "    <tr>\n",
       "      <th>...</th>\n",
       "      <td>...</td>\n",
       "      <td>...</td>\n",
       "      <td>...</td>\n",
       "      <td>...</td>\n",
       "      <td>...</td>\n",
       "      <td>...</td>\n",
       "      <td>...</td>\n",
       "      <td>...</td>\n",
       "      <td>...</td>\n",
       "      <td>...</td>\n",
       "      <td>...</td>\n",
       "      <td>...</td>\n",
       "      <td>...</td>\n",
       "      <td>...</td>\n",
       "      <td>...</td>\n",
       "    </tr>\n",
       "    <tr>\n",
       "      <th>4952</th>\n",
       "      <td>2022-06-20T01:47:15.000</td>\n",
       "      <td>My Cases and Tasks</td>\n",
       "      <td>7549.0</td>\n",
       "      <td>645.0</td>\n",
       "      <td>00O2R000003s2NZUAY</td>\n",
       "      <td>ReportRunFromLightning</td>\n",
       "      <td>4869105.0</td>\n",
       "      <td>reports:reportBase</td>\n",
       "      <td>/lightning/r/Report/00O2R000003s2NZUAY/view?qu...</td>\n",
       "      <td>one:recordHomeFlexipage2Wrapper</td>\n",
       "      <td>/lightning/r/Case/5006P0000052VS6QAM/view?ws=%...</td>\n",
       "      <td>2022-06-04T22:29:49.518Z</td>\n",
       "      <td>0056P000000xULkQAM</td>\n",
       "      <td>(Report, 00O2R000003s2NZUAY)</td>\n",
       "      <td>Report</td>\n",
       "    </tr>\n",
       "    <tr>\n",
       "      <th>4953</th>\n",
       "      <td>2022-06-20T01:47:15.000</td>\n",
       "      <td>My Cases and Tasks</td>\n",
       "      <td>7549.0</td>\n",
       "      <td>645.0</td>\n",
       "      <td>00O2R000003s2NZUAY</td>\n",
       "      <td>ReportRunFromLightning</td>\n",
       "      <td>4869105.0</td>\n",
       "      <td>reports:reportBase</td>\n",
       "      <td>/lightning/r/Report/00O2R000003s2NZUAY/view?qu...</td>\n",
       "      <td>one:recordHomeFlexipage2Wrapper</td>\n",
       "      <td>/lightning/r/Case/5006P000005arxhQAA/view?ws=%...</td>\n",
       "      <td>2022-06-04T22:32:15.514Z</td>\n",
       "      <td>0056P000000xULkQAM</td>\n",
       "      <td>(Report, 00O2R000003s2NZUAY)</td>\n",
       "      <td>Report</td>\n",
       "    </tr>\n",
       "    <tr>\n",
       "      <th>4954</th>\n",
       "      <td>2022-06-20T01:47:15.000</td>\n",
       "      <td>My Cases and Tasks</td>\n",
       "      <td>7549.0</td>\n",
       "      <td>645.0</td>\n",
       "      <td>00O2R000003s2NZUAY</td>\n",
       "      <td>ReportRunFromLightning</td>\n",
       "      <td>4869105.0</td>\n",
       "      <td>reports:reportBase</td>\n",
       "      <td>/lightning/r/Report/00O2R000003s2NZUAY/view?qu...</td>\n",
       "      <td>one:recordHomeFlexipage2Wrapper</td>\n",
       "      <td>/lightning/r/Case/5006P000005asJUQAY/view?ws=%...</td>\n",
       "      <td>2022-06-04T22:35:13.277Z</td>\n",
       "      <td>0056P000000xULkQAM</td>\n",
       "      <td>(Report, 00O2R000003s2NZUAY)</td>\n",
       "      <td>Report</td>\n",
       "    </tr>\n",
       "    <tr>\n",
       "      <th>4955</th>\n",
       "      <td>2022-06-20T01:47:15.000</td>\n",
       "      <td>My Cases and Tasks</td>\n",
       "      <td>7549.0</td>\n",
       "      <td>645.0</td>\n",
       "      <td>00O2R000003s2NZUAY</td>\n",
       "      <td>ReportRunFromLightning</td>\n",
       "      <td>4869105.0</td>\n",
       "      <td>reports:reportBase</td>\n",
       "      <td>/lightning/r/Report/00O2R000003s2NZUAY/view?qu...</td>\n",
       "      <td>one:recordHomeFlexipage2Wrapper</td>\n",
       "      <td>/lightning/r/Case/5006P000005ETo5QAG/view?ws=%...</td>\n",
       "      <td>2022-06-04T22:50:12.914Z</td>\n",
       "      <td>0056P000000xULkQAM</td>\n",
       "      <td>(Report, 00O2R000003s2NZUAY)</td>\n",
       "      <td>Report</td>\n",
       "    </tr>\n",
       "    <tr>\n",
       "      <th>4956</th>\n",
       "      <td>2022-06-20T01:47:15.000</td>\n",
       "      <td>My Cases and Tasks</td>\n",
       "      <td>7549.0</td>\n",
       "      <td>645.0</td>\n",
       "      <td>00O2R000003s2NZUAY</td>\n",
       "      <td>ReportRunFromLightning</td>\n",
       "      <td>4869105.0</td>\n",
       "      <td>reports:reportBase</td>\n",
       "      <td>/lightning/r/Report/00O2R000003s2NZUAY/view?qu...</td>\n",
       "      <td>one:recordHomeFlexipage2Wrapper</td>\n",
       "      <td>/lightning/r/Case/5006P000005aTrAQAU/view?ws=%...</td>\n",
       "      <td>2022-06-04T23:35:21.124Z</td>\n",
       "      <td>0056P000000xULkQAM</td>\n",
       "      <td>(Report, 00O2R000003s2NZUAY)</td>\n",
       "      <td>Report</td>\n",
       "    </tr>\n",
       "  </tbody>\n",
       "</table>\n",
       "<p>4957 rows × 15 columns</p>\n",
       "</div>"
      ],
      "text/plain": [
       "                  LastRunDate                     Name  ROW_COUNT  \\\n",
       "0     2022-06-20T01:54:25.000  Open Tasks (Blue Steel)    74459.0   \n",
       "1     2022-06-20T01:54:25.000  Open Tasks (Blue Steel)    74459.0   \n",
       "2     2022-06-20T01:54:25.000  Open Tasks (Blue Steel)    74459.0   \n",
       "3     2022-06-20T01:54:25.000  Open Tasks (Blue Steel)    74459.0   \n",
       "4     2022-06-20T01:54:25.000  Open Tasks (Blue Steel)    74459.0   \n",
       "...                       ...                      ...        ...   \n",
       "4952  2022-06-20T01:47:15.000       My Cases and Tasks     7549.0   \n",
       "4953  2022-06-20T01:47:15.000       My Cases and Tasks     7549.0   \n",
       "4954  2022-06-20T01:47:15.000       My Cases and Tasks     7549.0   \n",
       "4955  2022-06-20T01:47:15.000       My Cases and Tasks     7549.0   \n",
       "4956  2022-06-20T01:47:15.000       My Cases and Tasks     7549.0   \n",
       "\n",
       "      AVERAGE_ROW_SIZE   REPORT_ID_DERIVED                  ORIGIN  \\\n",
       "0               2078.0  00O0b000004AnheEAC  ReportRunFromLightning   \n",
       "1               2078.0  00O0b000004AnheEAC  ReportRunFromLightning   \n",
       "2               2078.0  00O0b000004AnheEAC  ReportRunFromLightning   \n",
       "3               2078.0  00O0b000004AnheEAC  ReportRunFromLightning   \n",
       "4               2078.0  00O0b000004AnheEAC  ReportRunFromLightning   \n",
       "...                ...                 ...                     ...   \n",
       "4952             645.0  00O2R000003s2NZUAY  ReportRunFromLightning   \n",
       "4953             645.0  00O2R000003s2NZUAY  ReportRunFromLightning   \n",
       "4954             645.0  00O2R000003s2NZUAY  ReportRunFromLightning   \n",
       "4955             645.0  00O2R000003s2NZUAY  ReportRunFromLightning   \n",
       "4956             645.0  00O2R000003s2NZUAY  ReportRunFromLightning   \n",
       "\n",
       "      AVG_BYTES_PER_REPORT        PAGE_CONTEXT  \\\n",
       "0              154725802.0  reports:reportBase   \n",
       "1              154725802.0  reports:reportBase   \n",
       "2              154725802.0  reports:reportBase   \n",
       "3              154725802.0  reports:reportBase   \n",
       "4              154725802.0  reports:reportBase   \n",
       "...                    ...                 ...   \n",
       "4952             4869105.0  reports:reportBase   \n",
       "4953             4869105.0  reports:reportBase   \n",
       "4954             4869105.0  reports:reportBase   \n",
       "4955             4869105.0  reports:reportBase   \n",
       "4956             4869105.0  reports:reportBase   \n",
       "\n",
       "                                               PAGE_URL  \\\n",
       "0     /lightning/r/Report/00O0b000004AnheEAC/view?qu...   \n",
       "1     /lightning/r/Report/00O0b000004AnheEAC/view?qu...   \n",
       "2     /lightning/r/Report/00O0b000004AnheEAC/view?qu...   \n",
       "3     /lightning/r/Report/00O0b000004AnheEAC/view?qu...   \n",
       "4     /lightning/r/Report/00O0b000004AnheEAC/view?qu...   \n",
       "...                                                 ...   \n",
       "4952  /lightning/r/Report/00O2R000003s2NZUAY/view?qu...   \n",
       "4953  /lightning/r/Report/00O2R000003s2NZUAY/view?qu...   \n",
       "4954  /lightning/r/Report/00O2R000003s2NZUAY/view?qu...   \n",
       "4955  /lightning/r/Report/00O2R000003s2NZUAY/view?qu...   \n",
       "4956  /lightning/r/Report/00O2R000003s2NZUAY/view?qu...   \n",
       "\n",
       "                     PREVPAGE_CONTEXT  \\\n",
       "0                           undefined   \n",
       "1     one:recordHomeFlexipage2Wrapper   \n",
       "2                omni:supervisorPanel   \n",
       "3                omni:supervisorPanel   \n",
       "4                           undefined   \n",
       "...                               ...   \n",
       "4952  one:recordHomeFlexipage2Wrapper   \n",
       "4953  one:recordHomeFlexipage2Wrapper   \n",
       "4954  one:recordHomeFlexipage2Wrapper   \n",
       "4955  one:recordHomeFlexipage2Wrapper   \n",
       "4956  one:recordHomeFlexipage2Wrapper   \n",
       "\n",
       "                                           PREVPAGE_URL  \\\n",
       "0                                                   NaN   \n",
       "1     /lightning/r/Case/5006P000004iQkBQAU/view?ws=%...   \n",
       "2     /one/one.app#eyJjb21wb25lbnREZWYiOiJvbW5pOnN1c...   \n",
       "3     /one/one.app#eyJjb21wb25lbnREZWYiOiJvbW5pOnN1c...   \n",
       "4                                                   NaN   \n",
       "...                                                 ...   \n",
       "4952  /lightning/r/Case/5006P0000052VS6QAM/view?ws=%...   \n",
       "4953  /lightning/r/Case/5006P000005arxhQAA/view?ws=%...   \n",
       "4954  /lightning/r/Case/5006P000005asJUQAY/view?ws=%...   \n",
       "4955  /lightning/r/Case/5006P000005ETo5QAG/view?ws=%...   \n",
       "4956  /lightning/r/Case/5006P000005aTrAQAU/view?ws=%...   \n",
       "\n",
       "             TIMESTAMP_DERIVED     USER_ID_DERIVED  \\\n",
       "0     2022-06-04T05:04:46.446Z  0050b000005nqZoAAI   \n",
       "1     2022-06-04T07:26:15.281Z  0050b000004K6mGAAS   \n",
       "2     2022-06-04T07:31:28.438Z  0050b000004K6mGAAS   \n",
       "3     2022-06-04T07:32:28.511Z  0050b000004K6mGAAS   \n",
       "4     2022-06-04T07:38:44.166Z  0050b000004K6mGAAS   \n",
       "...                        ...                 ...   \n",
       "4952  2022-06-04T22:29:49.518Z  0056P000000xULkQAM   \n",
       "4953  2022-06-04T22:32:15.514Z  0056P000000xULkQAM   \n",
       "4954  2022-06-04T22:35:13.277Z  0056P000000xULkQAM   \n",
       "4955  2022-06-04T22:50:12.914Z  0056P000000xULkQAM   \n",
       "4956  2022-06-04T23:35:21.124Z  0056P000000xULkQAM   \n",
       "\n",
       "               REPORT_INFO_DERIVED REPORT_TYPE_DERIVED  \n",
       "0     (Report, 00O0b000004AnheEAC)              Report  \n",
       "1     (Report, 00O0b000004AnheEAC)              Report  \n",
       "2     (Report, 00O0b000004AnheEAC)              Report  \n",
       "3     (Report, 00O0b000004AnheEAC)              Report  \n",
       "4     (Report, 00O0b000004AnheEAC)              Report  \n",
       "...                            ...                 ...  \n",
       "4952  (Report, 00O2R000003s2NZUAY)              Report  \n",
       "4953  (Report, 00O2R000003s2NZUAY)              Report  \n",
       "4954  (Report, 00O2R000003s2NZUAY)              Report  \n",
       "4955  (Report, 00O2R000003s2NZUAY)              Report  \n",
       "4956  (Report, 00O2R000003s2NZUAY)              Report  \n",
       "\n",
       "[4957 rows x 15 columns]"
      ]
     },
     "execution_count": 35,
     "metadata": {},
     "output_type": "execute_result"
    }
   ],
   "source": [
    "valid_page_view_reports"
   ]
  },
  {
   "cell_type": "code",
   "execution_count": 38,
   "id": "435db0fb",
   "metadata": {},
   "outputs": [
    {
     "data": {
      "image/png": "[encoded data removed]",
      "text/plain": [
       "<Figure size 576x72 with 1 Axes>"
      ]
     },
     "metadata": {
      "needs_background": "light"
     },
     "output_type": "display_data"
    },
    {
     "data": {
      "text/plain": [
       "False    4821\n",
       "True      136\n",
       "Name: AVG_BYTES_PER_REPORT, dtype: int64"
      ]
     },
     "execution_count": 38,
     "metadata": {},
     "output_type": "execute_result"
    }
   ],
   "source": [
    "plt.figure(figsize=(8,1))\n",
    "#plt.barh(above_mean_page_view.value_counts(), autopct=\"%.2f\", labels=above_mean_page_view.unique(), colors=[\"grey\", \"royalblue\"])\n",
    "plt.bar(valid_page_view_reports.PAGE_CONTEXT, height=5000)\n",
    "plt.box(on=None)\n",
    "plt.show()\n",
    "above_mean_page_view.value_counts()"
   ]
  },
  {
   "cell_type": "markdown",
   "id": "3db0a049",
   "metadata": {},
   "source": [
    "### In this visualization, we got some results a bit:\n",
    "\n",
    "- The amount of `ReportRunFromLightning` source events have a **slightly smaller amount of interactions above the average and median compared to Reports**\n",
    "\n",
    "\n",
    "\n",
    "- It was possible to identify other ways to explore a little more about these views, such as region, operating system, CPU time (related to the time the data is accessed), allowing new fronts for analysis of these events\n",
    "\n",
    ">Thus, concluding these two questions raised in this notebook.\n",
    "\n"
   ]
  }
 ],
 "metadata": {
  "kernelspec": {
   "display_name": "Python 3 (ipykernel)",
   "language": "python",
   "name": "python3"
  },
  "language_info": {
   "codemirror_mode": {
    "name": "ipython",
    "version": 3
   },
   "file_extension": ".py",
   "mimetype": "text/x-python",
   "name": "python",
   "nbconvert_exporter": "python",
   "pygments_lexer": "ipython3",
   "version": "3.10.4"
  }
 },
 "nbformat": 4,
 "nbformat_minor": 5
}
