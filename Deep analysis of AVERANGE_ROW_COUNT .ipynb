{
 "cells": [
  {
   "cell_type": "markdown",
   "id": "6df40aff",
   "metadata": {},
   "source": [
    "# 3.2.1 Deep analysis of AVERANGE_ROW_COUNT "
   ]
  },
  {
   "cell_type": "markdown",
   "id": "bff00ded",
   "metadata": {},
   "source": [
    "This dashboard answers the following questions:\n",
    "- [X] How to retrieve components from report logs\n",
    "- [X] Which \"Lightning component\"  are fetching an amount of data of more than the averge?\n",
    "- [X] Which columns are present on those Lightning component reports?"
   ]
  },
  {
   "cell_type": "code",
   "execution_count": 1,
   "id": "6ccba18c",
   "metadata": {},
   "outputs": [],
   "source": [
    "import os\n",
    "import pandas as pd"
   ]
  },
  {
   "cell_type": "code",
   "execution_count": 2,
   "id": "7279122f",
   "metadata": {},
   "outputs": [
    {
     "data": {
      "text/plain": [
       "['2022-06-20_Report.csv', '2022-06-05_Report.csv', '2022-06-04_Report.csv']"
      ]
     },
     "execution_count": 2,
     "metadata": {},
     "output_type": "execute_result"
    }
   ],
   "source": [
    "os.listdir(\"data/Salesforce/ELF/Report/\")"
   ]
  },
  {
   "cell_type": "markdown",
   "id": "78a56699",
   "metadata": {},
   "source": [
    "### Loading reports"
   ]
  },
  {
   "cell_type": "code",
   "execution_count": 3,
   "id": "ad612ab1",
   "metadata": {},
   "outputs": [],
   "source": [
    "reports = pd.read_csv(\"data/Salesforce/ELF/Report/2022-06-20_Report.csv\",low_memory=False)"
   ]
  },
  {
   "cell_type": "code",
   "execution_count": 4,
   "id": "ab995ee3",
   "metadata": {},
   "outputs": [
    {
     "data": {
      "text/plain": [
       "(705, 31)"
      ]
     },
     "execution_count": 4,
     "metadata": {},
     "output_type": "execute_result"
    }
   ],
   "source": [
    "reports.shape"
   ]
  },
  {
   "cell_type": "code",
   "execution_count": 5,
   "id": "370628c8",
   "metadata": {},
   "outputs": [
    {
     "data": {
      "text/plain": [
       "['EVENT_TYPE',\n",
       " 'TIMESTAMP',\n",
       " 'REQUEST_ID',\n",
       " 'ORGANIZATION_ID',\n",
       " 'USER_ID',\n",
       " 'RUN_TIME',\n",
       " 'CPU_TIME',\n",
       " 'URI',\n",
       " 'SESSION_KEY',\n",
       " 'LOGIN_KEY',\n",
       " 'USER_TYPE',\n",
       " 'REQUEST_STATUS',\n",
       " 'DB_TOTAL_TIME',\n",
       " 'ENTITY_NAME',\n",
       " 'DISPLAY_TYPE',\n",
       " 'RENDERING_TYPE',\n",
       " 'REPORT_ID',\n",
       " 'ROW_COUNT',\n",
       " 'NUMBER_EXCEPTION_FILTERS',\n",
       " 'NUMBER_COLUMNS',\n",
       " 'AVERAGE_ROW_SIZE',\n",
       " 'SORT',\n",
       " 'DB_BLOCKS',\n",
       " 'DB_CPU_TIME',\n",
       " 'NUMBER_BUCKETS',\n",
       " 'TIMESTAMP_DERIVED',\n",
       " 'USER_ID_DERIVED',\n",
       " 'CLIENT_IP',\n",
       " 'URI_ID_DERIVED',\n",
       " 'REPORT_ID_DERIVED',\n",
       " 'ORIGIN']"
      ]
     },
     "execution_count": 5,
     "metadata": {},
     "output_type": "execute_result"
    }
   ],
   "source": [
    "list(reports.columns)"
   ]
  },
  {
   "cell_type": "markdown",
   "id": "dda3b2be",
   "metadata": {},
   "source": [
    "Let's sorted table values by `AVERAGE_ROW_SIZE`(ARS) column to start the filters"
   ]
  },
  {
   "cell_type": "code",
   "execution_count": 6,
   "id": "6126b3bf",
   "metadata": {},
   "outputs": [
    {
     "data": {
      "text/html": [
       "<div>\n",
       "<style scoped>\n",
       "    .dataframe tbody tr th:only-of-type {\n",
       "        vertical-align: middle;\n",
       "    }\n",
       "\n",
       "    .dataframe tbody tr th {\n",
       "        vertical-align: top;\n",
       "    }\n",
       "\n",
       "    .dataframe thead th {\n",
       "        text-align: right;\n",
       "    }\n",
       "</style>\n",
       "<table border=\"1\" class=\"dataframe\">\n",
       "  <thead>\n",
       "    <tr style=\"text-align: right;\">\n",
       "      <th></th>\n",
       "      <th>EVENT_TYPE</th>\n",
       "      <th>TIMESTAMP</th>\n",
       "      <th>REQUEST_ID</th>\n",
       "      <th>ORGANIZATION_ID</th>\n",
       "      <th>USER_ID</th>\n",
       "      <th>RUN_TIME</th>\n",
       "      <th>CPU_TIME</th>\n",
       "      <th>URI</th>\n",
       "      <th>SESSION_KEY</th>\n",
       "      <th>LOGIN_KEY</th>\n",
       "      <th>...</th>\n",
       "      <th>SORT</th>\n",
       "      <th>DB_BLOCKS</th>\n",
       "      <th>DB_CPU_TIME</th>\n",
       "      <th>NUMBER_BUCKETS</th>\n",
       "      <th>TIMESTAMP_DERIVED</th>\n",
       "      <th>USER_ID_DERIVED</th>\n",
       "      <th>CLIENT_IP</th>\n",
       "      <th>URI_ID_DERIVED</th>\n",
       "      <th>REPORT_ID_DERIVED</th>\n",
       "      <th>ORIGIN</th>\n",
       "    </tr>\n",
       "  </thead>\n",
       "  <tbody>\n",
       "    <tr>\n",
       "      <th>690</th>\n",
       "      <td>Report</td>\n",
       "      <td>2.022062e+13</td>\n",
       "      <td>SLB:fe7972f2c81bad5511f94d34b0cd1843</td>\n",
       "      <td>00D0b000000GaMp</td>\n",
       "      <td>0050b000004K3eB</td>\n",
       "      <td>486</td>\n",
       "      <td>396</td>\n",
       "      <td>/aura</td>\n",
       "      <td>9YkqD4AubILkP3/t</td>\n",
       "      <td>E2TuHYqfPqQzwGBR</td>\n",
       "      <td>...</td>\n",
       "      <td>0722R000004XnLB.up</td>\n",
       "      <td>2570</td>\n",
       "      <td>40</td>\n",
       "      <td>0</td>\n",
       "      <td>2022-06-20T00:58:56.647Z</td>\n",
       "      <td>0050b000004K3eBAAS</td>\n",
       "      <td>132.237.180.16</td>\n",
       "      <td>NaN</td>\n",
       "      <td>00O0b000004kTazEAE</td>\n",
       "      <td>ReportRunFromLightning</td>\n",
       "    </tr>\n",
       "    <tr>\n",
       "      <th>366</th>\n",
       "      <td>Report</td>\n",
       "      <td>2.022062e+13</td>\n",
       "      <td>SLB:5e79fdcfdb4971d4ed1f24387e90059c</td>\n",
       "      <td>00D0b000000GaMp</td>\n",
       "      <td>0050b000004K3eB</td>\n",
       "      <td>499</td>\n",
       "      <td>396</td>\n",
       "      <td>/aura</td>\n",
       "      <td>9YkqD4AubILkP3/t</td>\n",
       "      <td>E2TuHYqfPqQzwGBR</td>\n",
       "      <td>...</td>\n",
       "      <td>0722R000004XnLB.up</td>\n",
       "      <td>2419</td>\n",
       "      <td>30</td>\n",
       "      <td>0</td>\n",
       "      <td>2022-06-20T00:33:56.642Z</td>\n",
       "      <td>0050b000004K3eBAAS</td>\n",
       "      <td>132.237.180.16</td>\n",
       "      <td>NaN</td>\n",
       "      <td>00O0b000004kTazEAE</td>\n",
       "      <td>ReportRunFromLightning</td>\n",
       "    </tr>\n",
       "    <tr>\n",
       "      <th>548</th>\n",
       "      <td>Report</td>\n",
       "      <td>2.022062e+13</td>\n",
       "      <td>SLB:cbb8048397779a70b5d55fe0e9ea5cc0</td>\n",
       "      <td>00D0b000000GaMp</td>\n",
       "      <td>0050b000004KPIb</td>\n",
       "      <td>433</td>\n",
       "      <td>344</td>\n",
       "      <td>/aura</td>\n",
       "      <td>srlQ5cWzTAhCtU+x</td>\n",
       "      <td>ql+MK97K22TbFFb2</td>\n",
       "      <td>...</td>\n",
       "      <td>0722R000004XnLB.up</td>\n",
       "      <td>2726</td>\n",
       "      <td>40</td>\n",
       "      <td>0</td>\n",
       "      <td>2022-06-20T00:49:24.270Z</td>\n",
       "      <td>0050b000004KPIbAAO</td>\n",
       "      <td>163.244.22.10</td>\n",
       "      <td>NaN</td>\n",
       "      <td>00O0b000004kTazEAE</td>\n",
       "      <td>ReportRunFromLightning</td>\n",
       "    </tr>\n",
       "    <tr>\n",
       "      <th>335</th>\n",
       "      <td>Report</td>\n",
       "      <td>2.022062e+13</td>\n",
       "      <td>TID:79645900009bee2629</td>\n",
       "      <td>00D0b000000GaMp</td>\n",
       "      <td>0052R000009iwSB</td>\n",
       "      <td>25932</td>\n",
       "      <td>2027</td>\n",
       "      <td>/aura</td>\n",
       "      <td>afgB1BIQizlV7qCl</td>\n",
       "      <td>fFEZMvJkhgfFxG86</td>\n",
       "      <td>...</td>\n",
       "      <td>NaN</td>\n",
       "      <td>676952</td>\n",
       "      <td>9820</td>\n",
       "      <td>0</td>\n",
       "      <td>2022-06-20T00:31:37.329Z</td>\n",
       "      <td>0052R000009iwSBQAY</td>\n",
       "      <td>132.237.171.41</td>\n",
       "      <td>NaN</td>\n",
       "      <td>00O2R000004Am4AUAS</td>\n",
       "      <td>ReportRunFromLightning</td>\n",
       "    </tr>\n",
       "    <tr>\n",
       "      <th>43</th>\n",
       "      <td>Report</td>\n",
       "      <td>2.022062e+13</td>\n",
       "      <td>SLB:78d30154e89677a9331fa0667403c49e</td>\n",
       "      <td>00D0b000000GaMp</td>\n",
       "      <td>0050b000005CdG6</td>\n",
       "      <td>719</td>\n",
       "      <td>348</td>\n",
       "      <td>/00O6P0000016vVPUAY</td>\n",
       "      <td>/He3P3omfKuHKU5e</td>\n",
       "      <td>U6yuiD9DkMAEltdb</td>\n",
       "      <td>...</td>\n",
       "      <td>NaN</td>\n",
       "      <td>6249</td>\n",
       "      <td>50</td>\n",
       "      <td>0</td>\n",
       "      <td>2022-06-20T00:11:35.554Z</td>\n",
       "      <td>0050b000005CdG6AAK</td>\n",
       "      <td>143.166.253.244</td>\n",
       "      <td>00O6P0000016vVPUAY</td>\n",
       "      <td>00O6P0000016vVPUAY</td>\n",
       "      <td>ReportRunFromClassic</td>\n",
       "    </tr>\n",
       "    <tr>\n",
       "      <th>...</th>\n",
       "      <td>...</td>\n",
       "      <td>...</td>\n",
       "      <td>...</td>\n",
       "      <td>...</td>\n",
       "      <td>...</td>\n",
       "      <td>...</td>\n",
       "      <td>...</td>\n",
       "      <td>...</td>\n",
       "      <td>...</td>\n",
       "      <td>...</td>\n",
       "      <td>...</td>\n",
       "      <td>...</td>\n",
       "      <td>...</td>\n",
       "      <td>...</td>\n",
       "      <td>...</td>\n",
       "      <td>...</td>\n",
       "      <td>...</td>\n",
       "      <td>...</td>\n",
       "      <td>...</td>\n",
       "      <td>...</td>\n",
       "      <td>...</td>\n",
       "    </tr>\n",
       "    <tr>\n",
       "      <th>344</th>\n",
       "      <td>Report</td>\n",
       "      <td>2.022062e+13</td>\n",
       "      <td>4jcgq7pFiKAMxtG-mNHE--</td>\n",
       "      <td>00D0b000000GaMp</td>\n",
       "      <td>0050b000004K7hO</td>\n",
       "      <td>9514</td>\n",
       "      <td>173</td>\n",
       "      <td>NaN</td>\n",
       "      <td>NaN</td>\n",
       "      <td>NaN</td>\n",
       "      <td>...</td>\n",
       "      <td>NaN</td>\n",
       "      <td>685</td>\n",
       "      <td>30</td>\n",
       "      <td>2</td>\n",
       "      <td>2022-06-20T00:32:11.134Z</td>\n",
       "      <td>0050b000004K7hOAAS</td>\n",
       "      <td>NaN</td>\n",
       "      <td>NaN</td>\n",
       "      <td>00O2R000003s1byUAA</td>\n",
       "      <td>ChartRenderedInEmbeddedAnalyticsApp</td>\n",
       "    </tr>\n",
       "    <tr>\n",
       "      <th>330</th>\n",
       "      <td>Report</td>\n",
       "      <td>2.022062e+13</td>\n",
       "      <td>TID:22851327900009aa10</td>\n",
       "      <td>00D0b000000GaMp</td>\n",
       "      <td>0052R000009TlFS</td>\n",
       "      <td>522</td>\n",
       "      <td>255</td>\n",
       "      <td>/aura</td>\n",
       "      <td>HaNhdytuc5gCTTm9</td>\n",
       "      <td>lS2nTqluSh74uEyr</td>\n",
       "      <td>...</td>\n",
       "      <td>NaN</td>\n",
       "      <td>889</td>\n",
       "      <td>30</td>\n",
       "      <td>0</td>\n",
       "      <td>2022-06-20T00:31:30.223Z</td>\n",
       "      <td>0052R000009TlFSQA0</td>\n",
       "      <td>163.244.182.13</td>\n",
       "      <td>NaN</td>\n",
       "      <td>00O0b000006iNwdEAE</td>\n",
       "      <td>ReportRunFromLightning</td>\n",
       "    </tr>\n",
       "    <tr>\n",
       "      <th>326</th>\n",
       "      <td>Report</td>\n",
       "      <td>2.022062e+13</td>\n",
       "      <td>4jcgnL0jR41wNOG-mNFnl-</td>\n",
       "      <td>00D0b000000GaMp</td>\n",
       "      <td>0052R000009Tqd7</td>\n",
       "      <td>5344</td>\n",
       "      <td>124</td>\n",
       "      <td>NaN</td>\n",
       "      <td>NaN</td>\n",
       "      <td>NaN</td>\n",
       "      <td>...</td>\n",
       "      <td>0720b000001dxwL.up</td>\n",
       "      <td>796</td>\n",
       "      <td>50</td>\n",
       "      <td>0</td>\n",
       "      <td>2022-06-20T00:31:18.966Z</td>\n",
       "      <td>0052R000009Tqd7QAC</td>\n",
       "      <td>NaN</td>\n",
       "      <td>NaN</td>\n",
       "      <td>00O0b000004kkZKEAY</td>\n",
       "      <td>ChartRenderedInEmbeddedAnalyticsApp</td>\n",
       "    </tr>\n",
       "    <tr>\n",
       "      <th>325</th>\n",
       "      <td>Report</td>\n",
       "      <td>2.022062e+13</td>\n",
       "      <td>TID:67362720000066a491</td>\n",
       "      <td>00D0b000000GaMp</td>\n",
       "      <td>0050b000004KDSS</td>\n",
       "      <td>452</td>\n",
       "      <td>254</td>\n",
       "      <td>/aura</td>\n",
       "      <td>tlKaJ5dVx8aL3d9H</td>\n",
       "      <td>aJyHuonh5/1/0ZiA</td>\n",
       "      <td>...</td>\n",
       "      <td>NaN</td>\n",
       "      <td>835</td>\n",
       "      <td>20</td>\n",
       "      <td>0</td>\n",
       "      <td>2022-06-20T00:31:14.328Z</td>\n",
       "      <td>0050b000004KDSSAA4</td>\n",
       "      <td>143.166.226.114</td>\n",
       "      <td>NaN</td>\n",
       "      <td>00O0b000004AmRrEAK</td>\n",
       "      <td>ReportRunFromLightning</td>\n",
       "    </tr>\n",
       "    <tr>\n",
       "      <th>704</th>\n",
       "      <td>Report</td>\n",
       "      <td>2.022062e+13</td>\n",
       "      <td>4jciMIhGfike3tG-mNPlN-</td>\n",
       "      <td>00D0b000000GaMp</td>\n",
       "      <td>0050b000004K7jJ</td>\n",
       "      <td>4867</td>\n",
       "      <td>120</td>\n",
       "      <td>NaN</td>\n",
       "      <td>NaN</td>\n",
       "      <td>NaN</td>\n",
       "      <td>...</td>\n",
       "      <td>0720b000001dxwL.up</td>\n",
       "      <td>895</td>\n",
       "      <td>30</td>\n",
       "      <td>0</td>\n",
       "      <td>2022-06-20T00:59:55.853Z</td>\n",
       "      <td>0050b000004K7jJAAS</td>\n",
       "      <td>NaN</td>\n",
       "      <td>NaN</td>\n",
       "      <td>00O0b000004kkZKEAY</td>\n",
       "      <td>ChartRenderedInEmbeddedAnalyticsApp</td>\n",
       "    </tr>\n",
       "  </tbody>\n",
       "</table>\n",
       "<p>705 rows × 31 columns</p>\n",
       "</div>"
      ],
      "text/plain": [
       "    EVENT_TYPE     TIMESTAMP                            REQUEST_ID  \\\n",
       "690     Report  2.022062e+13  SLB:fe7972f2c81bad5511f94d34b0cd1843   \n",
       "366     Report  2.022062e+13  SLB:5e79fdcfdb4971d4ed1f24387e90059c   \n",
       "548     Report  2.022062e+13  SLB:cbb8048397779a70b5d55fe0e9ea5cc0   \n",
       "335     Report  2.022062e+13                TID:79645900009bee2629   \n",
       "43      Report  2.022062e+13  SLB:78d30154e89677a9331fa0667403c49e   \n",
       "..         ...           ...                                   ...   \n",
       "344     Report  2.022062e+13                4jcgq7pFiKAMxtG-mNHE--   \n",
       "330     Report  2.022062e+13                TID:22851327900009aa10   \n",
       "326     Report  2.022062e+13                4jcgnL0jR41wNOG-mNFnl-   \n",
       "325     Report  2.022062e+13                TID:67362720000066a491   \n",
       "704     Report  2.022062e+13                4jciMIhGfike3tG-mNPlN-   \n",
       "\n",
       "     ORGANIZATION_ID          USER_ID  RUN_TIME  CPU_TIME  \\\n",
       "690  00D0b000000GaMp  0050b000004K3eB       486       396   \n",
       "366  00D0b000000GaMp  0050b000004K3eB       499       396   \n",
       "548  00D0b000000GaMp  0050b000004KPIb       433       344   \n",
       "335  00D0b000000GaMp  0052R000009iwSB     25932      2027   \n",
       "43   00D0b000000GaMp  0050b000005CdG6       719       348   \n",
       "..               ...              ...       ...       ...   \n",
       "344  00D0b000000GaMp  0050b000004K7hO      9514       173   \n",
       "330  00D0b000000GaMp  0052R000009TlFS       522       255   \n",
       "326  00D0b000000GaMp  0052R000009Tqd7      5344       124   \n",
       "325  00D0b000000GaMp  0050b000004KDSS       452       254   \n",
       "704  00D0b000000GaMp  0050b000004K7jJ      4867       120   \n",
       "\n",
       "                     URI       SESSION_KEY         LOGIN_KEY  ...  \\\n",
       "690                /aura  9YkqD4AubILkP3/t  E2TuHYqfPqQzwGBR  ...   \n",
       "366                /aura  9YkqD4AubILkP3/t  E2TuHYqfPqQzwGBR  ...   \n",
       "548                /aura  srlQ5cWzTAhCtU+x  ql+MK97K22TbFFb2  ...   \n",
       "335                /aura  afgB1BIQizlV7qCl  fFEZMvJkhgfFxG86  ...   \n",
       "43   /00O6P0000016vVPUAY  /He3P3omfKuHKU5e  U6yuiD9DkMAEltdb  ...   \n",
       "..                   ...               ...               ...  ...   \n",
       "344                  NaN               NaN               NaN  ...   \n",
       "330                /aura  HaNhdytuc5gCTTm9  lS2nTqluSh74uEyr  ...   \n",
       "326                  NaN               NaN               NaN  ...   \n",
       "325                /aura  tlKaJ5dVx8aL3d9H  aJyHuonh5/1/0ZiA  ...   \n",
       "704                  NaN               NaN               NaN  ...   \n",
       "\n",
       "                   SORT DB_BLOCKS  DB_CPU_TIME NUMBER_BUCKETS  \\\n",
       "690  0722R000004XnLB.up      2570           40              0   \n",
       "366  0722R000004XnLB.up      2419           30              0   \n",
       "548  0722R000004XnLB.up      2726           40              0   \n",
       "335                 NaN    676952         9820              0   \n",
       "43                  NaN      6249           50              0   \n",
       "..                  ...       ...          ...            ...   \n",
       "344                 NaN       685           30              2   \n",
       "330                 NaN       889           30              0   \n",
       "326  0720b000001dxwL.up       796           50              0   \n",
       "325                 NaN       835           20              0   \n",
       "704  0720b000001dxwL.up       895           30              0   \n",
       "\n",
       "            TIMESTAMP_DERIVED     USER_ID_DERIVED        CLIENT_IP  \\\n",
       "690  2022-06-20T00:58:56.647Z  0050b000004K3eBAAS   132.237.180.16   \n",
       "366  2022-06-20T00:33:56.642Z  0050b000004K3eBAAS   132.237.180.16   \n",
       "548  2022-06-20T00:49:24.270Z  0050b000004KPIbAAO    163.244.22.10   \n",
       "335  2022-06-20T00:31:37.329Z  0052R000009iwSBQAY   132.237.171.41   \n",
       "43   2022-06-20T00:11:35.554Z  0050b000005CdG6AAK  143.166.253.244   \n",
       "..                        ...                 ...              ...   \n",
       "344  2022-06-20T00:32:11.134Z  0050b000004K7hOAAS              NaN   \n",
       "330  2022-06-20T00:31:30.223Z  0052R000009TlFSQA0   163.244.182.13   \n",
       "326  2022-06-20T00:31:18.966Z  0052R000009Tqd7QAC              NaN   \n",
       "325  2022-06-20T00:31:14.328Z  0050b000004KDSSAA4  143.166.226.114   \n",
       "704  2022-06-20T00:59:55.853Z  0050b000004K7jJAAS              NaN   \n",
       "\n",
       "         URI_ID_DERIVED   REPORT_ID_DERIVED  \\\n",
       "690                 NaN  00O0b000004kTazEAE   \n",
       "366                 NaN  00O0b000004kTazEAE   \n",
       "548                 NaN  00O0b000004kTazEAE   \n",
       "335                 NaN  00O2R000004Am4AUAS   \n",
       "43   00O6P0000016vVPUAY  00O6P0000016vVPUAY   \n",
       "..                  ...                 ...   \n",
       "344                 NaN  00O2R000003s1byUAA   \n",
       "330                 NaN  00O0b000006iNwdEAE   \n",
       "326                 NaN  00O0b000004kkZKEAY   \n",
       "325                 NaN  00O0b000004AmRrEAK   \n",
       "704                 NaN  00O0b000004kkZKEAY   \n",
       "\n",
       "                                  ORIGIN  \n",
       "690               ReportRunFromLightning  \n",
       "366               ReportRunFromLightning  \n",
       "548               ReportRunFromLightning  \n",
       "335               ReportRunFromLightning  \n",
       "43                  ReportRunFromClassic  \n",
       "..                                   ...  \n",
       "344  ChartRenderedInEmbeddedAnalyticsApp  \n",
       "330               ReportRunFromLightning  \n",
       "326  ChartRenderedInEmbeddedAnalyticsApp  \n",
       "325               ReportRunFromLightning  \n",
       "704  ChartRenderedInEmbeddedAnalyticsApp  \n",
       "\n",
       "[705 rows x 31 columns]"
      ]
     },
     "execution_count": 6,
     "metadata": {},
     "output_type": "execute_result"
    }
   ],
   "source": [
    "sorted_by_ARS = reports.sort_values('AVERAGE_ROW_SIZE', ascending=False)\n",
    "sorted_by_ARS"
   ]
  },
  {
   "cell_type": "markdown",
   "id": "4b1a636c",
   "metadata": {},
   "source": [
    "Let's remove unsed columns"
   ]
  },
  {
   "cell_type": "code",
   "execution_count": 7,
   "id": "c640d7a8",
   "metadata": {},
   "outputs": [],
   "source": [
    "sorted_by_ARS = sorted_by_ARS.drop(columns=[\n",
    " 'REQUEST_ID',\n",
    " 'ORGANIZATION_ID',\n",
    " 'USER_ID',\n",
    " 'URI',\n",
    " 'LOGIN_KEY',\n",
    " 'USER_TYPE',\n",
    " 'REQUEST_STATUS',\n",
    " 'DB_TOTAL_TIME',\n",
    " 'ENTITY_NAME',\n",
    " 'DISPLAY_TYPE',\n",
    " 'RENDERING_TYPE',\n",
    " 'REPORT_ID',\n",
    " 'SORT',\n",
    " 'NUMBER_BUCKETS',\n",
    " 'USER_ID_DERIVED',\n",
    " 'CLIENT_IP',\n",
    " 'URI_ID_DERIVED'])"
   ]
  },
  {
   "cell_type": "code",
   "execution_count": 8,
   "id": "9620b86d",
   "metadata": {},
   "outputs": [
    {
     "data": {
      "text/plain": [
       "['EVENT_TYPE',\n",
       " 'TIMESTAMP',\n",
       " 'RUN_TIME',\n",
       " 'CPU_TIME',\n",
       " 'SESSION_KEY',\n",
       " 'ROW_COUNT',\n",
       " 'NUMBER_EXCEPTION_FILTERS',\n",
       " 'NUMBER_COLUMNS',\n",
       " 'AVERAGE_ROW_SIZE',\n",
       " 'DB_BLOCKS',\n",
       " 'DB_CPU_TIME',\n",
       " 'TIMESTAMP_DERIVED',\n",
       " 'REPORT_ID_DERIVED',\n",
       " 'ORIGIN']"
      ]
     },
     "execution_count": 8,
     "metadata": {},
     "output_type": "execute_result"
    }
   ],
   "source": [
    "list(sorted_by_ARS)"
   ]
  },
  {
   "cell_type": "markdown",
   "id": "7785902b",
   "metadata": {},
   "source": [
    "Let's try remove row's with 0 and missing values in `AVERAGE_ROW_SIZE`"
   ]
  },
  {
   "cell_type": "code",
   "execution_count": 9,
   "id": "0ea9af97",
   "metadata": {},
   "outputs": [
    {
     "data": {
      "text/plain": [
       "(464, 14)"
      ]
     },
     "execution_count": 9,
     "metadata": {},
     "output_type": "execute_result"
    }
   ],
   "source": [
    "sorted_by_ARS.drop(sorted_by_ARS[(sorted_by_ARS[\"AVERAGE_ROW_SIZE\"] == 0)].index, inplace=True)\n",
    "sorted_by_ARS.dropna(subset='AVERAGE_ROW_SIZE')\n",
    "sorted_by_ARS.shape"
   ]
  },
  {
   "cell_type": "markdown",
   "id": "60ece3bc",
   "metadata": {},
   "source": [
    "Let's try to mean the values of `AVERAGE_ROW_SIZE` column"
   ]
  },
  {
   "cell_type": "code",
   "execution_count": 10,
   "id": "7282c3d3",
   "metadata": {},
   "outputs": [
    {
     "data": {
      "text/plain": [
       "846.6163793103449"
      ]
     },
     "execution_count": 10,
     "metadata": {},
     "output_type": "execute_result"
    }
   ],
   "source": [
    "mean = sorted_by_ARS[\"AVERAGE_ROW_SIZE\"].mean()\n",
    "mean"
   ]
  },
  {
   "cell_type": "markdown",
   "id": "4b5e0258",
   "metadata": {},
   "source": [
    "Let's define functions for filtering mean and median of values."
   ]
  },
  {
   "cell_type": "code",
   "execution_count": 11,
   "id": "9d3ba408",
   "metadata": {},
   "outputs": [],
   "source": [
    "def filter_ars_by_mean(ars_value):\n",
    "    return ars_value > mean "
   ]
  },
  {
   "cell_type": "markdown",
   "id": "3f5797cc",
   "metadata": {},
   "source": [
    "### Until the moment\n",
    "So far, we have been able to:\n",
    "- [x] Clear data to apply filtering\n",
    "- [x] Keep only as apparent to relationships\n",
    "\n",
    "And let's start from:\n",
    "\n",
    "- [ ] Apply filtering\n",
    "- [ ] Make plot's for each one of them\n",
    "\n"
   ]
  },
  {
   "cell_type": "markdown",
   "id": "9d06c957",
   "metadata": {},
   "source": [
    "Importing matplotlib.pyplot for making the plots"
   ]
  },
  {
   "cell_type": "code",
   "execution_count": 12,
   "id": "cc1af983",
   "metadata": {},
   "outputs": [],
   "source": [
    "import matplotlib.pyplot as plt"
   ]
  },
  {
   "cell_type": "markdown",
   "id": "7a673a1b",
   "metadata": {},
   "source": [
    "Applying the filters for mean and median"
   ]
  },
  {
   "cell_type": "code",
   "execution_count": 13,
   "id": "f9bef216",
   "metadata": {},
   "outputs": [],
   "source": [
    "above_mean = sorted_by_ARS[\"AVERAGE_ROW_SIZE\"].apply(filter_ars_by_mean)"
   ]
  },
  {
   "cell_type": "markdown",
   "id": "a13c4bfe",
   "metadata": {},
   "source": [
    "Generating the plot"
   ]
  },
  {
   "cell_type": "code",
   "execution_count": 14,
   "id": "24db57ca",
   "metadata": {},
   "outputs": [
    {
     "data": {
      "image/png": "[encoded data removed]",
      "text/plain": [
       "<Figure size 432x288 with 1 Axes>"
      ]
     },
     "metadata": {},
     "output_type": "display_data"
    }
   ],
   "source": [
    "plt.pie(above_mean.value_counts(), autopct=\"%.2f\", labels=above_mean.unique(), colors=[\"grey\", \"royalblue\"])\n",
    "plt.title('Count of values above mean', fontsize=14)\n",
    "plt.box(on=None)\n",
    "plt.show()"
   ]
  },
  {
   "cell_type": "markdown",
   "id": "f6c6329d",
   "metadata": {},
   "source": [
    "### After visualizing the values ​​that are above the mean and median, we can conclude that:\n",
    "\n",
    "\n",
    "-  We can  conclude that the result would be approximate when it came to checking the values ​​above the mean\n",
    "\n",
    ">Concluding the first part of the answered question, where in the sample of reports for the date 2022-06-20, **we have approximately 49% of Lightning component type events** with change lines above the average."
   ]
  },
  {
   "cell_type": "markdown",
   "id": "5ec3068f",
   "metadata": {},
   "source": [
    "## Loading ELF tables\n",
    "\n",
    "\n",
    ">Now we will make the relationship with the PageView table, so we can analyze which Lightning-type pages are accessed and edited"
   ]
  },
  {
   "cell_type": "code",
   "execution_count": 15,
   "id": "1321dfc7",
   "metadata": {},
   "outputs": [
    {
     "data": {
      "text/plain": [
       "['2022-06-04_LightningPageView.csv',\n",
       " '2022-06-05_LightningPageView.csv',\n",
       " '2022-06-20_LightningPageView.csv']"
      ]
     },
     "execution_count": 15,
     "metadata": {},
     "output_type": "execute_result"
    }
   ],
   "source": [
    "os.listdir(\"data/Salesforce/ELF/LightningPageView\")"
   ]
  },
  {
   "cell_type": "code",
   "execution_count": 16,
   "id": "492eb97a",
   "metadata": {},
   "outputs": [
    {
     "data": {
      "text/plain": [
       "(9671, 50)"
      ]
     },
     "execution_count": 16,
     "metadata": {},
     "output_type": "execute_result"
    }
   ],
   "source": [
    "page_view = pd.read_csv(\"data/Salesforce/ELF/LightningPageView/2022-06-20_LightningPageView.csv\")\n",
    "page_view.shape"
   ]
  },
  {
   "cell_type": "code",
   "execution_count": 17,
   "id": "b2e3155b",
   "metadata": {},
   "outputs": [
    {
     "data": {
      "text/plain": [
       "['EVENT_TYPE',\n",
       " 'TIMESTAMP',\n",
       " 'REQUEST_ID',\n",
       " 'ORGANIZATION_ID',\n",
       " 'USER_ID',\n",
       " 'CLIENT_ID',\n",
       " 'SESSION_KEY',\n",
       " 'LOGIN_KEY',\n",
       " 'USER_TYPE',\n",
       " 'APP_NAME',\n",
       " 'DEVICE_PLATFORM',\n",
       " 'SDK_APP_VERSION',\n",
       " 'OS_NAME',\n",
       " 'OS_VERSION',\n",
       " 'USER_AGENT',\n",
       " 'BROWSER_NAME',\n",
       " 'BROWSER_VERSION',\n",
       " 'SDK_VERSION',\n",
       " 'DEVICE_MODEL',\n",
       " 'DEVICE_ID',\n",
       " 'SDK_APP_TYPE',\n",
       " 'CLIENT_GEO',\n",
       " 'CONNECTION_TYPE',\n",
       " 'UI_EVENT_ID',\n",
       " 'UI_EVENT_SOURCE',\n",
       " 'UI_EVENT_TIMESTAMP',\n",
       " 'PAGE_START_TIME',\n",
       " 'DURATION',\n",
       " 'EFFECTIVE_PAGE_TIME_DEVIATION',\n",
       " 'EFFECTIVE_PAGE_TIME_DEVIATION_REASON',\n",
       " 'EFFECTIVE_PAGE_TIME_DEVIATION_ERROR_TYPE',\n",
       " 'EFFECTIVE_PAGE_TIME',\n",
       " 'DEVICE_SESSION_ID',\n",
       " 'UI_EVENT_SEQUENCE_NUM',\n",
       " 'PAGE_ENTITY_ID',\n",
       " 'PAGE_ENTITY_TYPE',\n",
       " 'PAGE_CONTEXT',\n",
       " 'PAGE_URL',\n",
       " 'PAGE_APP_NAME',\n",
       " 'PREVPAGE_ENTITY_ID',\n",
       " 'PREVPAGE_ENTITY_TYPE',\n",
       " 'PREVPAGE_CONTEXT',\n",
       " 'PREVPAGE_URL',\n",
       " 'PREVPAGE_APP_NAME',\n",
       " 'TARGET_UI_ELEMENT',\n",
       " 'PARENT_UI_ELEMENT',\n",
       " 'GRANDPARENT_UI_ELEMENT',\n",
       " 'TIMESTAMP_DERIVED',\n",
       " 'USER_ID_DERIVED',\n",
       " 'CLIENT_IP']"
      ]
     },
     "execution_count": 17,
     "metadata": {},
     "output_type": "execute_result"
    }
   ],
   "source": [
    "list(page_view.columns)"
   ]
  },
  {
   "cell_type": "markdown",
   "id": "7953da89",
   "metadata": {},
   "source": [
    "Let's find the table that is related to the reports"
   ]
  },
  {
   "cell_type": "code",
   "execution_count": 18,
   "id": "3833437c",
   "metadata": {},
   "outputs": [
    {
     "data": {
      "text/plain": [
       "0       DkrMLnselIW4a5EP\n",
       "1       FNYwFEC/js/SJBfr\n",
       "2       kli/tj2J178nuyC/\n",
       "3       13BZwFCUcj0WV/FF\n",
       "4       SFUtGUXsW73SFMp1\n",
       "              ...       \n",
       "9666    7l79yoIIpgXhppu9\n",
       "9667    FFqIXSkd1lg3R12W\n",
       "9668    zSlTWpkr6eIMM1jJ\n",
       "9669    fpCpwvb6vZPBenEc\n",
       "9670    U3NQu4Q8EcuJetZc\n",
       "Name: SESSION_KEY, Length: 9671, dtype: object"
      ]
     },
     "execution_count": 18,
     "metadata": {},
     "output_type": "execute_result"
    }
   ],
   "source": [
    "page_view.SESSION_KEY"
   ]
  },
  {
   "cell_type": "markdown",
   "id": "9bad5e69",
   "metadata": {},
   "source": [
    "Let's relate these tables in a single data frame"
   ]
  },
  {
   "cell_type": "code",
   "execution_count": 19,
   "id": "6447461d",
   "metadata": {},
   "outputs": [
    {
     "data": {
      "text/plain": [
       "['EVENT_TYPE_x',\n",
       " 'TIMESTAMP_x',\n",
       " 'RUN_TIME',\n",
       " 'CPU_TIME',\n",
       " 'SESSION_KEY',\n",
       " 'ROW_COUNT',\n",
       " 'NUMBER_EXCEPTION_FILTERS',\n",
       " 'NUMBER_COLUMNS',\n",
       " 'AVERAGE_ROW_SIZE',\n",
       " 'DB_BLOCKS',\n",
       " 'DB_CPU_TIME',\n",
       " 'TIMESTAMP_DERIVED_x',\n",
       " 'REPORT_ID_DERIVED',\n",
       " 'ORIGIN',\n",
       " 'EVENT_TYPE_y',\n",
       " 'TIMESTAMP_y',\n",
       " 'REQUEST_ID',\n",
       " 'ORGANIZATION_ID',\n",
       " 'USER_ID',\n",
       " 'CLIENT_ID',\n",
       " 'LOGIN_KEY',\n",
       " 'USER_TYPE',\n",
       " 'APP_NAME',\n",
       " 'DEVICE_PLATFORM',\n",
       " 'SDK_APP_VERSION',\n",
       " 'OS_NAME',\n",
       " 'OS_VERSION',\n",
       " 'USER_AGENT',\n",
       " 'BROWSER_NAME',\n",
       " 'BROWSER_VERSION',\n",
       " 'SDK_VERSION',\n",
       " 'DEVICE_MODEL',\n",
       " 'DEVICE_ID',\n",
       " 'SDK_APP_TYPE',\n",
       " 'CLIENT_GEO',\n",
       " 'CONNECTION_TYPE',\n",
       " 'UI_EVENT_ID',\n",
       " 'UI_EVENT_SOURCE',\n",
       " 'UI_EVENT_TIMESTAMP',\n",
       " 'PAGE_START_TIME',\n",
       " 'DURATION',\n",
       " 'EFFECTIVE_PAGE_TIME_DEVIATION',\n",
       " 'EFFECTIVE_PAGE_TIME_DEVIATION_REASON',\n",
       " 'EFFECTIVE_PAGE_TIME_DEVIATION_ERROR_TYPE',\n",
       " 'EFFECTIVE_PAGE_TIME',\n",
       " 'DEVICE_SESSION_ID',\n",
       " 'UI_EVENT_SEQUENCE_NUM',\n",
       " 'PAGE_ENTITY_ID',\n",
       " 'PAGE_ENTITY_TYPE',\n",
       " 'PAGE_CONTEXT',\n",
       " 'PAGE_URL',\n",
       " 'PAGE_APP_NAME',\n",
       " 'PREVPAGE_ENTITY_ID',\n",
       " 'PREVPAGE_ENTITY_TYPE',\n",
       " 'PREVPAGE_CONTEXT',\n",
       " 'PREVPAGE_URL',\n",
       " 'PREVPAGE_APP_NAME',\n",
       " 'TARGET_UI_ELEMENT',\n",
       " 'PARENT_UI_ELEMENT',\n",
       " 'GRANDPARENT_UI_ELEMENT',\n",
       " 'TIMESTAMP_DERIVED_y',\n",
       " 'USER_ID_DERIVED',\n",
       " 'CLIENT_IP']"
      ]
     },
     "execution_count": 19,
     "metadata": {},
     "output_type": "execute_result"
    }
   ],
   "source": [
    "page_view_related = pd.merge(left=sorted_by_ARS, right=page_view, left_on=\"SESSION_KEY\", right_on=\"SESSION_KEY\")\n",
    "list(page_view_related.columns)"
   ]
  },
  {
   "cell_type": "markdown",
   "id": "96eea478",
   "metadata": {},
   "source": [
    "Let's remove unsed columns"
   ]
  },
  {
   "cell_type": "code",
   "execution_count": 20,
   "id": "3465c3bd",
   "metadata": {},
   "outputs": [],
   "source": [
    "page_view_related = page_view_related.drop(columns=['EVENT_TYPE_x',\n",
    " 'TIMESTAMP_x',\n",
    " 'NUMBER_EXCEPTION_FILTERS',\n",
    " 'DB_BLOCKS',\n",
    " 'TIMESTAMP_DERIVED_x',\n",
    " 'REPORT_ID_DERIVED',\n",
    " 'EVENT_TYPE_y',\n",
    " 'TIMESTAMP_y',\n",
    " 'REQUEST_ID',\n",
    " 'ORGANIZATION_ID',\n",
    " 'USER_ID',\n",
    " 'CLIENT_ID',\n",
    " 'LOGIN_KEY',\n",
    " 'USER_TYPE',\n",
    " 'APP_NAME',\n",
    " 'DEVICE_PLATFORM',\n",
    " 'SDK_APP_VERSION',\n",
    " 'USER_AGENT',\n",
    " 'BROWSER_NAME',\n",
    " 'BROWSER_VERSION',\n",
    " 'SDK_VERSION',\n",
    " 'DEVICE_MODEL',\n",
    " 'DEVICE_ID',\n",
    " 'SDK_APP_TYPE',\n",
    " 'CONNECTION_TYPE',\n",
    " 'UI_EVENT_ID',\n",
    " 'UI_EVENT_SOURCE',\n",
    " 'UI_EVENT_TIMESTAMP',\n",
    " 'PAGE_START_TIME',\n",
    " 'EFFECTIVE_PAGE_TIME_DEVIATION',\n",
    " 'EFFECTIVE_PAGE_TIME_DEVIATION_REASON',\n",
    " 'EFFECTIVE_PAGE_TIME_DEVIATION_ERROR_TYPE',\n",
    " 'EFFECTIVE_PAGE_TIME',\n",
    " 'DEVICE_SESSION_ID',\n",
    " 'UI_EVENT_SEQUENCE_NUM',\n",
    " 'PAGE_ENTITY_ID',\n",
    " 'PAGE_ENTITY_TYPE',\n",
    " 'PAGE_URL',\n",
    " 'PAGE_APP_NAME',\n",
    " 'PREVPAGE_ENTITY_ID',\n",
    " 'PREVPAGE_ENTITY_TYPE',\n",
    " 'PREVPAGE_CONTEXT',\n",
    " 'PREVPAGE_URL',\n",
    " 'PREVPAGE_APP_NAME',\n",
    " 'TARGET_UI_ELEMENT',\n",
    " 'PARENT_UI_ELEMENT',\n",
    " 'GRANDPARENT_UI_ELEMENT',\n",
    " 'TIMESTAMP_DERIVED_y',\n",
    " 'USER_ID_DERIVED',\n",
    " 'CLIENT_IP'], axis=1)"
   ]
  },
  {
   "cell_type": "markdown",
   "id": "203177a6",
   "metadata": {},
   "source": [
    "Let's remove 0 and missing values at `AVERAGE_ROW_SIZE`"
   ]
  },
  {
   "cell_type": "code",
   "execution_count": 21,
   "id": "3d1477e9",
   "metadata": {},
   "outputs": [
    {
     "data": {
      "text/html": [
       "<div>\n",
       "<style scoped>\n",
       "    .dataframe tbody tr th:only-of-type {\n",
       "        vertical-align: middle;\n",
       "    }\n",
       "\n",
       "    .dataframe tbody tr th {\n",
       "        vertical-align: top;\n",
       "    }\n",
       "\n",
       "    .dataframe thead th {\n",
       "        text-align: right;\n",
       "    }\n",
       "</style>\n",
       "<table border=\"1\" class=\"dataframe\">\n",
       "  <thead>\n",
       "    <tr style=\"text-align: right;\">\n",
       "      <th></th>\n",
       "      <th>RUN_TIME</th>\n",
       "      <th>CPU_TIME</th>\n",
       "      <th>SESSION_KEY</th>\n",
       "      <th>ROW_COUNT</th>\n",
       "      <th>NUMBER_COLUMNS</th>\n",
       "      <th>AVERAGE_ROW_SIZE</th>\n",
       "      <th>DB_CPU_TIME</th>\n",
       "      <th>ORIGIN</th>\n",
       "      <th>OS_NAME</th>\n",
       "      <th>OS_VERSION</th>\n",
       "      <th>CLIENT_GEO</th>\n",
       "      <th>DURATION</th>\n",
       "      <th>PAGE_CONTEXT</th>\n",
       "    </tr>\n",
       "  </thead>\n",
       "  <tbody>\n",
       "    <tr>\n",
       "      <th>0</th>\n",
       "      <td>25932</td>\n",
       "      <td>2027</td>\n",
       "      <td>afgB1BIQizlV7qCl</td>\n",
       "      <td>19562</td>\n",
       "      <td>41</td>\n",
       "      <td>2130</td>\n",
       "      <td>9820</td>\n",
       "      <td>ReportRunFromLightning</td>\n",
       "      <td>WINDOWS</td>\n",
       "      <td>10.0</td>\n",
       "      <td>United States/null</td>\n",
       "      <td>6523.0</td>\n",
       "      <td>one:recordHomeFlexipage2Wrapper</td>\n",
       "    </tr>\n",
       "    <tr>\n",
       "      <th>1</th>\n",
       "      <td>9257</td>\n",
       "      <td>542</td>\n",
       "      <td>HCJma63FyiNrZe2B</td>\n",
       "      <td>40</td>\n",
       "      <td>44</td>\n",
       "      <td>1890</td>\n",
       "      <td>30</td>\n",
       "      <td>ReportRunFromLightning</td>\n",
       "      <td>WINDOWS</td>\n",
       "      <td>10.0</td>\n",
       "      <td>United States/null</td>\n",
       "      <td>1070.0</td>\n",
       "      <td>one:recordHomeFlexipage</td>\n",
       "    </tr>\n",
       "    <tr>\n",
       "      <th>2</th>\n",
       "      <td>7729</td>\n",
       "      <td>527</td>\n",
       "      <td>HCJma63FyiNrZe2B</td>\n",
       "      <td>39</td>\n",
       "      <td>44</td>\n",
       "      <td>1889</td>\n",
       "      <td>30</td>\n",
       "      <td>ReportRunFromLightning</td>\n",
       "      <td>WINDOWS</td>\n",
       "      <td>10.0</td>\n",
       "      <td>United States/null</td>\n",
       "      <td>1070.0</td>\n",
       "      <td>one:recordHomeFlexipage</td>\n",
       "    </tr>\n",
       "    <tr>\n",
       "      <th>3</th>\n",
       "      <td>7145</td>\n",
       "      <td>469</td>\n",
       "      <td>HCJma63FyiNrZe2B</td>\n",
       "      <td>39</td>\n",
       "      <td>44</td>\n",
       "      <td>1889</td>\n",
       "      <td>20</td>\n",
       "      <td>ReportRunFromLightning</td>\n",
       "      <td>WINDOWS</td>\n",
       "      <td>10.0</td>\n",
       "      <td>United States/null</td>\n",
       "      <td>1070.0</td>\n",
       "      <td>one:recordHomeFlexipage</td>\n",
       "    </tr>\n",
       "    <tr>\n",
       "      <th>4</th>\n",
       "      <td>7172</td>\n",
       "      <td>538</td>\n",
       "      <td>umX93njPuhSNbMiL</td>\n",
       "      <td>18</td>\n",
       "      <td>44</td>\n",
       "      <td>1880</td>\n",
       "      <td>30</td>\n",
       "      <td>ReportRunFromLightning</td>\n",
       "      <td>WINDOWS</td>\n",
       "      <td>10.0</td>\n",
       "      <td>United States/Texas</td>\n",
       "      <td>3211.0</td>\n",
       "      <td>one:recordHomeFlexipage2Wrapper</td>\n",
       "    </tr>\n",
       "    <tr>\n",
       "      <th>...</th>\n",
       "      <td>...</td>\n",
       "      <td>...</td>\n",
       "      <td>...</td>\n",
       "      <td>...</td>\n",
       "      <td>...</td>\n",
       "      <td>...</td>\n",
       "      <td>...</td>\n",
       "      <td>...</td>\n",
       "      <td>...</td>\n",
       "      <td>...</td>\n",
       "      <td>...</td>\n",
       "      <td>...</td>\n",
       "      <td>...</td>\n",
       "    </tr>\n",
       "    <tr>\n",
       "      <th>1204</th>\n",
       "      <td>220</td>\n",
       "      <td>158</td>\n",
       "      <td>Mfq70kKbUQwpZFaS</td>\n",
       "      <td>5</td>\n",
       "      <td>2</td>\n",
       "      <td>122</td>\n",
       "      <td>10</td>\n",
       "      <td>ReportRunFromLightning</td>\n",
       "      <td>WINDOWS</td>\n",
       "      <td>10.0</td>\n",
       "      <td>United States/null</td>\n",
       "      <td>360.0</td>\n",
       "      <td>force:objectHomeDesktop</td>\n",
       "    </tr>\n",
       "    <tr>\n",
       "      <th>1205</th>\n",
       "      <td>220</td>\n",
       "      <td>158</td>\n",
       "      <td>Mfq70kKbUQwpZFaS</td>\n",
       "      <td>5</td>\n",
       "      <td>2</td>\n",
       "      <td>122</td>\n",
       "      <td>10</td>\n",
       "      <td>ReportRunFromLightning</td>\n",
       "      <td>WINDOWS</td>\n",
       "      <td>10.0</td>\n",
       "      <td>United States/null</td>\n",
       "      <td>6699.0</td>\n",
       "      <td>one:recordHomeFlexipage2Wrapper</td>\n",
       "    </tr>\n",
       "    <tr>\n",
       "      <th>1206</th>\n",
       "      <td>220</td>\n",
       "      <td>158</td>\n",
       "      <td>Mfq70kKbUQwpZFaS</td>\n",
       "      <td>5</td>\n",
       "      <td>2</td>\n",
       "      <td>122</td>\n",
       "      <td>10</td>\n",
       "      <td>ReportRunFromLightning</td>\n",
       "      <td>WINDOWS</td>\n",
       "      <td>10.0</td>\n",
       "      <td>United States/null</td>\n",
       "      <td>1001.0</td>\n",
       "      <td>one:recordHomeFlexipage2Wrapper</td>\n",
       "    </tr>\n",
       "    <tr>\n",
       "      <th>1207</th>\n",
       "      <td>220</td>\n",
       "      <td>158</td>\n",
       "      <td>Mfq70kKbUQwpZFaS</td>\n",
       "      <td>5</td>\n",
       "      <td>2</td>\n",
       "      <td>122</td>\n",
       "      <td>10</td>\n",
       "      <td>ReportRunFromLightning</td>\n",
       "      <td>WINDOWS</td>\n",
       "      <td>10.0</td>\n",
       "      <td>United States/null</td>\n",
       "      <td>376.0</td>\n",
       "      <td>one:recordHomeFlexipage2Wrapper</td>\n",
       "    </tr>\n",
       "    <tr>\n",
       "      <th>1208</th>\n",
       "      <td>220</td>\n",
       "      <td>158</td>\n",
       "      <td>Mfq70kKbUQwpZFaS</td>\n",
       "      <td>5</td>\n",
       "      <td>2</td>\n",
       "      <td>122</td>\n",
       "      <td>10</td>\n",
       "      <td>ReportRunFromLightning</td>\n",
       "      <td>WINDOWS</td>\n",
       "      <td>10.0</td>\n",
       "      <td>United States/null</td>\n",
       "      <td>113.0</td>\n",
       "      <td>one:recordHomeFlexipage</td>\n",
       "    </tr>\n",
       "  </tbody>\n",
       "</table>\n",
       "<p>1209 rows × 13 columns</p>\n",
       "</div>"
      ],
      "text/plain": [
       "      RUN_TIME  CPU_TIME       SESSION_KEY  ROW_COUNT  NUMBER_COLUMNS  \\\n",
       "0        25932      2027  afgB1BIQizlV7qCl      19562              41   \n",
       "1         9257       542  HCJma63FyiNrZe2B         40              44   \n",
       "2         7729       527  HCJma63FyiNrZe2B         39              44   \n",
       "3         7145       469  HCJma63FyiNrZe2B         39              44   \n",
       "4         7172       538  umX93njPuhSNbMiL         18              44   \n",
       "...        ...       ...               ...        ...             ...   \n",
       "1204       220       158  Mfq70kKbUQwpZFaS          5               2   \n",
       "1205       220       158  Mfq70kKbUQwpZFaS          5               2   \n",
       "1206       220       158  Mfq70kKbUQwpZFaS          5               2   \n",
       "1207       220       158  Mfq70kKbUQwpZFaS          5               2   \n",
       "1208       220       158  Mfq70kKbUQwpZFaS          5               2   \n",
       "\n",
       "      AVERAGE_ROW_SIZE  DB_CPU_TIME                  ORIGIN  OS_NAME  \\\n",
       "0                 2130         9820  ReportRunFromLightning  WINDOWS   \n",
       "1                 1890           30  ReportRunFromLightning  WINDOWS   \n",
       "2                 1889           30  ReportRunFromLightning  WINDOWS   \n",
       "3                 1889           20  ReportRunFromLightning  WINDOWS   \n",
       "4                 1880           30  ReportRunFromLightning  WINDOWS   \n",
       "...                ...          ...                     ...      ...   \n",
       "1204               122           10  ReportRunFromLightning  WINDOWS   \n",
       "1205               122           10  ReportRunFromLightning  WINDOWS   \n",
       "1206               122           10  ReportRunFromLightning  WINDOWS   \n",
       "1207               122           10  ReportRunFromLightning  WINDOWS   \n",
       "1208               122           10  ReportRunFromLightning  WINDOWS   \n",
       "\n",
       "      OS_VERSION           CLIENT_GEO  DURATION  \\\n",
       "0           10.0   United States/null    6523.0   \n",
       "1           10.0   United States/null    1070.0   \n",
       "2           10.0   United States/null    1070.0   \n",
       "3           10.0   United States/null    1070.0   \n",
       "4           10.0  United States/Texas    3211.0   \n",
       "...          ...                  ...       ...   \n",
       "1204        10.0   United States/null     360.0   \n",
       "1205        10.0   United States/null    6699.0   \n",
       "1206        10.0   United States/null    1001.0   \n",
       "1207        10.0   United States/null     376.0   \n",
       "1208        10.0   United States/null     113.0   \n",
       "\n",
       "                         PAGE_CONTEXT  \n",
       "0     one:recordHomeFlexipage2Wrapper  \n",
       "1             one:recordHomeFlexipage  \n",
       "2             one:recordHomeFlexipage  \n",
       "3             one:recordHomeFlexipage  \n",
       "4     one:recordHomeFlexipage2Wrapper  \n",
       "...                               ...  \n",
       "1204          force:objectHomeDesktop  \n",
       "1205  one:recordHomeFlexipage2Wrapper  \n",
       "1206  one:recordHomeFlexipage2Wrapper  \n",
       "1207  one:recordHomeFlexipage2Wrapper  \n",
       "1208          one:recordHomeFlexipage  \n",
       "\n",
       "[1209 rows x 13 columns]"
      ]
     },
     "execution_count": 21,
     "metadata": {},
     "output_type": "execute_result"
    }
   ],
   "source": [
    "page_view_related = page_view_related.dropna(subset='AVERAGE_ROW_SIZE')\n",
    "page_view_related"
   ]
  },
  {
   "cell_type": "code",
   "execution_count": 22,
   "id": "1a4c28ae",
   "metadata": {},
   "outputs": [
    {
     "data": {
      "text/plain": [
       "0       2130\n",
       "1       1890\n",
       "2       1889\n",
       "3       1889\n",
       "4       1880\n",
       "        ... \n",
       "1204     122\n",
       "1205     122\n",
       "1206     122\n",
       "1207     122\n",
       "1208     122\n",
       "Name: AVERAGE_ROW_SIZE, Length: 1209, dtype: int64"
      ]
     },
     "execution_count": 22,
     "metadata": {},
     "output_type": "execute_result"
    }
   ],
   "source": [
    "page_view_related[\"AVERAGE_ROW_SIZE\"]"
   ]
  },
  {
   "cell_type": "code",
   "execution_count": 23,
   "id": "0456baf6",
   "metadata": {},
   "outputs": [
    {
     "data": {
      "text/plain": [
       "0       19562\n",
       "1          40\n",
       "2          39\n",
       "3          39\n",
       "4          18\n",
       "        ...  \n",
       "1204        5\n",
       "1205        5\n",
       "1206        5\n",
       "1207        5\n",
       "1208        5\n",
       "Name: ROW_COUNT, Length: 1209, dtype: int64"
      ]
     },
     "execution_count": 23,
     "metadata": {},
     "output_type": "execute_result"
    }
   ],
   "source": [
    "page_view_related[\"ROW_COUNT\"]"
   ]
  },
  {
   "cell_type": "markdown",
   "id": "f5ce5c11",
   "metadata": {},
   "source": [
    "### Now let's follow these steps:\n",
    "\n",
    "- Apply the mean filters with the related table\n",
    "\n",
    "- Generate a visualization for each applied filter"
   ]
  },
  {
   "cell_type": "markdown",
   "id": "91cf7fd8",
   "metadata": {},
   "source": [
    "Applying filter"
   ]
  },
  {
   "cell_type": "code",
   "execution_count": 24,
   "id": "8f4421aa",
   "metadata": {},
   "outputs": [],
   "source": [
    "page_view_mean = page_view_related[\"AVERAGE_ROW_SIZE\"].apply(filter_ars_by_mean)"
   ]
  },
  {
   "cell_type": "code",
   "execution_count": 25,
   "id": "174e66e7",
   "metadata": {},
   "outputs": [
    {
     "data": {
      "image/png": "[encoded data removed]",
      "text/plain": [
       "<Figure size 432x288 with 1 Axes>"
      ]
     },
     "metadata": {},
     "output_type": "display_data"
    },
    {
     "data": {
      "text/plain": [
       "False    700\n",
       "True     509\n",
       "Name: AVERAGE_ROW_SIZE, dtype: int64"
      ]
     },
     "execution_count": 25,
     "metadata": {},
     "output_type": "execute_result"
    }
   ],
   "source": [
    "# Making a plot\n",
    "labels = page_view_mean.unique()\n",
    "plt.pie(page_view_mean.value_counts(), autopct=\"%.2f\", labels=[labels[1], labels[0]], colors=[\"grey\", \"royalblue\"])\n",
    "plt.title('Count of values above median', fontsize=14)\n",
    "plt.box(on=None)\n",
    "plt.show()\n",
    "page_view_mean.value_counts()"
   ]
  },
  {
   "cell_type": "markdown",
   "id": "3db0a049",
   "metadata": {},
   "source": [
    "### In this visualization, we got some results a bit:\n",
    "\n",
    "- The amount of `ReportRunFromLightning` source events have a **slightly smaller amount of interactions above the average and median compared to Reports**\n",
    "\n",
    "\n",
    "\n",
    "- It was possible to identify other ways to explore a little more about these views, such as region, operating system, CPU time (related to the time the data is accessed), allowing new fronts for analysis of these events\n",
    "\n",
    ">Thus, concluding these two questions raised in this notebook.\n",
    "\n"
   ]
  }
 ],
 "metadata": {
  "kernelspec": {
   "display_name": "Python 3 (ipykernel)",
   "language": "python",
   "name": "python3"
  },
  "language_info": {
   "codemirror_mode": {
    "name": "ipython",
    "version": 3
   },
   "file_extension": ".py",
   "mimetype": "text/x-python",
   "name": "python",
   "nbconvert_exporter": "python",
   "pygments_lexer": "ipython3",
   "version": "3.10.4"
  }
 },
 "nbformat": 4,
 "nbformat_minor": 5
}
