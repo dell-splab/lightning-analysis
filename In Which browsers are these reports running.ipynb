{
 "cells": [
  {
   "cell_type": "markdown",
   "id": "2b8852ca",
   "metadata": {},
   "source": [
    "# In which browsers are these reports running?\n",
    "---\n",
    ">[ ] Analysis of `BROWSER_NAME` field, also check `BROWSER_VERSION`\n"
   ]
  },
  {
   "cell_type": "code",
   "execution_count": 1,
   "id": "09c66c04",
   "metadata": {},
   "outputs": [],
   "source": [
    "import pandas as pd"
   ]
  },
  {
   "cell_type": "markdown",
   "id": "00299fcc",
   "metadata": {},
   "source": [
    "## Loading active reports and lightining page view"
   ]
  },
  {
   "cell_type": "markdown",
   "id": "9b762518",
   "metadata": {},
   "source": [
    "Active reports"
   ]
  },
  {
   "cell_type": "code",
   "execution_count": 2,
   "id": "0be10850",
   "metadata": {},
   "outputs": [],
   "source": [
    "active_reports = pd.read_csv('datasets/active_reports.csv', low_memory=False)"
   ]
  },
  {
   "cell_type": "code",
   "execution_count": 3,
   "id": "acaedaba",
   "metadata": {},
   "outputs": [
    {
     "data": {
      "text/plain": [
       "['CreatedById',\n",
       " 'CreatedDate',\n",
       " 'Description',\n",
       " 'DeveloperName',\n",
       " 'FolderName',\n",
       " 'Format',\n",
       " 'Id',\n",
       " 'IsDeleted',\n",
       " 'LastModifiedById',\n",
       " 'LastModifiedDate',\n",
       " 'LastReferencedDate',\n",
       " 'LastRunDate',\n",
       " 'LastViewedDate',\n",
       " 'Name',\n",
       " 'NamespacePrefix',\n",
       " 'OwnerId',\n",
       " 'ReportTypeApiName',\n",
       " 'SystemModstamp',\n",
       " 'EVENT_TYPE',\n",
       " 'TIMESTAMP',\n",
       " 'REQUEST_ID',\n",
       " 'ORGANIZATION_ID',\n",
       " 'USER_ID',\n",
       " 'RUN_TIME',\n",
       " 'CPU_TIME',\n",
       " 'URI',\n",
       " 'SESSION_KEY',\n",
       " 'LOGIN_KEY',\n",
       " 'USER_TYPE',\n",
       " 'REQUEST_STATUS',\n",
       " 'DB_TOTAL_TIME',\n",
       " 'ENTITY_NAME',\n",
       " 'DISPLAY_TYPE',\n",
       " 'RENDERING_TYPE',\n",
       " 'REPORT_ID',\n",
       " 'ROW_COUNT',\n",
       " 'NUMBER_EXCEPTION_FILTERS',\n",
       " 'NUMBER_COLUMNS',\n",
       " 'AVERAGE_ROW_SIZE',\n",
       " 'SORT',\n",
       " 'DB_BLOCKS',\n",
       " 'DB_CPU_TIME',\n",
       " 'NUMBER_BUCKETS',\n",
       " 'TIMESTAMP_DERIVED',\n",
       " 'USER_ID_DERIVED',\n",
       " 'CLIENT_IP',\n",
       " 'URI_ID_DERIVED',\n",
       " 'REPORT_ID_DERIVED',\n",
       " 'ORIGIN',\n",
       " 'IsActive']"
      ]
     },
     "execution_count": 3,
     "metadata": {},
     "output_type": "execute_result"
    }
   ],
   "source": [
    "list(active_reports.columns)"
   ]
  },
  {
   "cell_type": "markdown",
   "id": "63347782",
   "metadata": {},
   "source": [
    "Lightining Page View"
   ]
  },
  {
   "cell_type": "code",
   "execution_count": 4,
   "id": "e1bb7b4d",
   "metadata": {},
   "outputs": [],
   "source": [
    "lgtn_performance= pd.read_csv('../data/Salesforce/ELF/LightningPerformance/2022-06-04_LightningPerformance.csv', low_memory=False)"
   ]
  },
  {
   "cell_type": "code",
   "execution_count": 5,
   "id": "7f41b9de",
   "metadata": {},
   "outputs": [],
   "source": [
    "lgtn_performance.drop(['EVENT_TYPE','TIMESTAMP','REQUEST_ID','USER_ID','USER_TYPE','TIMESTAMP_DERIVED'], inplace=True, axis=1)"
   ]
  },
  {
   "cell_type": "markdown",
   "id": "1d56ce74",
   "metadata": {},
   "source": [
    "### Let's relate the reports to Lighting performance as follows:\n",
    ">- We'll look at the common columns between Lightning performance and active reports\n",
    ">- We will remove columns that we will not use\n",
    "---"
   ]
  },
  {
   "cell_type": "markdown",
   "id": "a0d78f74",
   "metadata": {},
   "source": [
    "Define [common columns](https://github.com/dell-splab/lightning-analysis/blob/research-questions/Data%20Discovery%20-%20MUST%20READ.ipynb) beteween both\",,"
   ]
  },
  {
   "cell_type": "code",
   "execution_count": 6,
   "id": "b42ae524",
   "metadata": {},
   "outputs": [],
   "source": [
    "common_columns = ['USER_ID_DERIVED', 'SESSION_KEY', 'LOGIN_KEY', 'ORGANIZATION_ID', 'CLIENT_IP']"
   ]
  },
  {
   "cell_type": "code",
   "execution_count": 7,
   "id": "f5b1f5f4",
   "metadata": {},
   "outputs": [],
   "source": [
    "reports_performance = pd.merge(left=active_reports, right=lgtn_performance, on=common_columns)"
   ]
  },
  {
   "cell_type": "markdown",
   "id": "cd78c71c",
   "metadata": {},
   "source": [
    "Now let's merge tables"
   ]
  },
  {
   "cell_type": "markdown",
   "id": "ee2c912e",
   "metadata": {},
   "source": [
    "Let's make a data frame with just the columns that involve the browsers"
   ]
  },
  {
   "cell_type": "code",
   "execution_count": 10,
   "id": "5dc298c2",
   "metadata": {},
   "outputs": [],
   "source": [
    "reports_browsers = reports_performance[['BROWSER_NAME','BROWSER_VERSION']]"
   ]
  },
  {
   "cell_type": "code",
   "execution_count": 11,
   "id": "b5fd8d80",
   "metadata": {},
   "outputs": [
    {
     "data": {
      "text/html": [
       "<div>\n",
       "<style scoped>\n",
       "    .dataframe tbody tr th:only-of-type {\n",
       "        vertical-align: middle;\n",
       "    }\n",
       "\n",
       "    .dataframe tbody tr th {\n",
       "        vertical-align: top;\n",
       "    }\n",
       "\n",
       "    .dataframe thead th {\n",
       "        text-align: right;\n",
       "    }\n",
       "</style>\n",
       "<table border=\"1\" class=\"dataframe\">\n",
       "  <thead>\n",
       "    <tr style=\"text-align: right;\">\n",
       "      <th></th>\n",
       "      <th>BROWSER_NAME</th>\n",
       "      <th>BROWSER_VERSION</th>\n",
       "    </tr>\n",
       "  </thead>\n",
       "  <tbody>\n",
       "    <tr>\n",
       "      <th>0</th>\n",
       "      <td>CHROME</td>\n",
       "      <td>102.0</td>\n",
       "    </tr>\n",
       "    <tr>\n",
       "      <th>1</th>\n",
       "      <td>CHROME</td>\n",
       "      <td>102.0</td>\n",
       "    </tr>\n",
       "    <tr>\n",
       "      <th>2</th>\n",
       "      <td>CHROME</td>\n",
       "      <td>102.0</td>\n",
       "    </tr>\n",
       "    <tr>\n",
       "      <th>3</th>\n",
       "      <td>CHROME</td>\n",
       "      <td>102.0</td>\n",
       "    </tr>\n",
       "    <tr>\n",
       "      <th>4</th>\n",
       "      <td>CHROME</td>\n",
       "      <td>102.0</td>\n",
       "    </tr>\n",
       "    <tr>\n",
       "      <th>...</th>\n",
       "      <td>...</td>\n",
       "      <td>...</td>\n",
       "    </tr>\n",
       "    <tr>\n",
       "      <th>723077</th>\n",
       "      <td>EDGE</td>\n",
       "      <td>102.0</td>\n",
       "    </tr>\n",
       "    <tr>\n",
       "      <th>723078</th>\n",
       "      <td>EDGE</td>\n",
       "      <td>102.0</td>\n",
       "    </tr>\n",
       "    <tr>\n",
       "      <th>723079</th>\n",
       "      <td>EDGE</td>\n",
       "      <td>102.0</td>\n",
       "    </tr>\n",
       "    <tr>\n",
       "      <th>723080</th>\n",
       "      <td>EDGE</td>\n",
       "      <td>102.0</td>\n",
       "    </tr>\n",
       "    <tr>\n",
       "      <th>723081</th>\n",
       "      <td>EDGE</td>\n",
       "      <td>102.0</td>\n",
       "    </tr>\n",
       "  </tbody>\n",
       "</table>\n",
       "<p>723082 rows × 2 columns</p>\n",
       "</div>"
      ],
      "text/plain": [
       "       BROWSER_NAME  BROWSER_VERSION\n",
       "0            CHROME            102.0\n",
       "1            CHROME            102.0\n",
       "2            CHROME            102.0\n",
       "3            CHROME            102.0\n",
       "4            CHROME            102.0\n",
       "...             ...              ...\n",
       "723077         EDGE            102.0\n",
       "723078         EDGE            102.0\n",
       "723079         EDGE            102.0\n",
       "723080         EDGE            102.0\n",
       "723081         EDGE            102.0\n",
       "\n",
       "[723082 rows x 2 columns]"
      ]
     },
     "execution_count": 11,
     "metadata": {},
     "output_type": "execute_result"
    }
   ],
   "source": [
    "reports_browsers"
   ]
  },
  {
   "cell_type": "markdown",
   "id": "6ae18e81",
   "metadata": {},
   "source": [
    "#### Let's now create two views with these columns\n",
    "---"
   ]
  },
  {
   "cell_type": "markdown",
   "id": "c059d7f5",
   "metadata": {},
   "source": [
    "Plot for the most used browser"
   ]
  },
  {
   "cell_type": "code",
   "execution_count": 12,
   "id": "6676550b",
   "metadata": {},
   "outputs": [
    {
     "data": {
      "text/plain": [
       "array([<AxesSubplot:title={'center':'BROWSER_NAME'}>], dtype=object)"
      ]
     },
     "execution_count": 12,
     "metadata": {},
     "output_type": "execute_result"
    },
    {
     "data": {
      "image/png": "[encoded data removed]",
      "text/plain": [
       "<Figure size 648x648 with 1 Axes>"
      ]
     },
     "metadata": {
      "needs_background": "light"
     },
     "output_type": "display_data"
    }
   ],
   "source": [
    "reports_browsers.BROWSER_NAME.value_counts(ascending=True).plot(kind='bar',\n",
    "                                                               subplots=True,\n",
    "                                                               title=\"Most used browsers by Lightning\",\n",
    "                                                               figsize=(9,9))"
   ]
  },
  {
   "cell_type": "markdown",
   "id": "7c48995d",
   "metadata": {},
   "source": []
  },
  {
   "cell_type": "code",
   "execution_count": 13,
   "id": "13a812bd",
   "metadata": {},
   "outputs": [
    {
     "data": {
      "text/plain": [
       "array([<AxesSubplot:title={'center':'None'}, ylabel='BROWSER_NAME,BROWSER_VERSION'>],\n",
       "      dtype=object)"
      ]
     },
     "execution_count": 13,
     "metadata": {},
     "output_type": "execute_result"
    },
    {
     "data": {
      "image/png": "[encoded data removed]",
      "text/plain": [
       "<Figure size 576x576 with 1 Axes>"
      ]
     },
     "metadata": {
      "needs_background": "light"
     },
     "output_type": "display_data"
    }
   ],
   "source": [
    "reports_browsers.value_counts(ascending=True).plot(kind='barh', \n",
    "                                                   subplots=True,\n",
    "                                                   title=\"Access number of reports by browser\",\n",
    "                                                   figsize=(8,8))"
   ]
  },
  {
   "cell_type": "code",
   "execution_count": null,
   "id": "366bea0f",
   "metadata": {},
   "outputs": [],
   "source": []
  },
  {
   "cell_type": "code",
   "execution_count": null,
   "id": "671ecd06",
   "metadata": {},
   "outputs": [],
   "source": []
  },
  {
   "cell_type": "code",
   "execution_count": null,
   "id": "303bf643",
   "metadata": {},
   "outputs": [],
   "source": [
    "import matplotlib.pyplot as plt"
   ]
  }
 ],
 "metadata": {
  "kernelspec": {
   "display_name": "Python 3 (ipykernel)",
   "language": "python",
   "name": "python3"
  },
  "language_info": {
   "codemirror_mode": {
    "name": "ipython",
    "version": 3
   },
   "file_extension": ".py",
   "mimetype": "text/x-python",
   "name": "python",
   "nbconvert_exporter": "python",
   "pygments_lexer": "ipython3",
   "version": "3.10.4"
  }
 },
 "nbformat": 4,
 "nbformat_minor": 5
}
