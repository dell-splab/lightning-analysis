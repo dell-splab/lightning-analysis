{
 "cells": [
  {
   "cell_type": "markdown",
   "id": "2b8852ca",
   "metadata": {},
   "source": [
    "# In which browsers are these reports running?\n",
    "---\n",
    "**This notebook answers the following questions**:\n",
    "> - [X]Which browsers are most used by lighitining performance?\n",
    ">\n",
    "> - [X]What are the most used browser versions?\n"
   ]
  },
  {
   "cell_type": "code",
   "execution_count": 1,
   "id": "09c66c04",
   "metadata": {},
   "outputs": [],
   "source": [
    "import pandas as pd"
   ]
  },
  {
   "cell_type": "markdown",
   "id": "00299fcc",
   "metadata": {},
   "source": [
    "## Loading active reports and lightining page view\n",
    "---"
   ]
  },
  {
   "cell_type": "markdown",
   "id": "9b762518",
   "metadata": {},
   "source": [
    "Active reports"
   ]
  },
  {
   "cell_type": "code",
   "execution_count": 2,
   "id": "0be10850",
   "metadata": {},
   "outputs": [],
   "source": [
    "active_reports = pd.read_csv('datasets/active_reports.csv', low_memory=False)"
   ]
  },
  {
   "cell_type": "markdown",
   "id": "63347782",
   "metadata": {},
   "source": [
    "Lightining Page View"
   ]
  },
  {
   "cell_type": "code",
   "execution_count": 3,
   "id": "e1bb7b4d",
   "metadata": {},
   "outputs": [],
   "source": [
    "lgtn_performance= pd.read_csv('../data/Salesforce/ELF/LightningPerformance/2022-06-04_LightningPerformance.csv', low_memory=False)"
   ]
  },
  {
   "cell_type": "code",
   "execution_count": 4,
   "id": "7f41b9de",
   "metadata": {},
   "outputs": [],
   "source": [
    "lgtn_performance.drop(['EVENT_TYPE','TIMESTAMP','REQUEST_ID','USER_ID','USER_TYPE','TIMESTAMP_DERIVED'], inplace=True, axis=1)"
   ]
  },
  {
   "cell_type": "markdown",
   "id": "1d56ce74",
   "metadata": {},
   "source": [
    "### Let's relate the reports to Lighting performance as follows:\n",
    ">- We'll look at the common columns between Lightning performance and active reports\n",
    ">- We will remove columns that we will not use\n",
    "---"
   ]
  },
  {
   "cell_type": "markdown",
   "id": "a0d78f74",
   "metadata": {},
   "source": [
    "Define [common columns](https://github.com/dell-splab/lightning-analysis/blob/research-questions/Data%20Discovery%20-%20MUST%20READ.ipynb) beteween both"
   ]
  },
  {
   "cell_type": "code",
   "execution_count": 5,
   "id": "b42ae524",
   "metadata": {},
   "outputs": [],
   "source": [
    "common_columns = ['USER_ID_DERIVED', 'SESSION_KEY', 'LOGIN_KEY', 'ORGANIZATION_ID', 'CLIENT_IP']"
   ]
  },
  {
   "cell_type": "markdown",
   "id": "b89a495e",
   "metadata": {},
   "source": [
    "Now let's merge tables"
   ]
  },
  {
   "cell_type": "code",
   "execution_count": 6,
   "id": "f5b1f5f4",
   "metadata": {},
   "outputs": [],
   "source": [
    "reports_performance = pd.merge(left=active_reports, right=lgtn_performance, on=common_columns)"
   ]
  },
  {
   "cell_type": "markdown",
   "id": "ee2c912e",
   "metadata": {},
   "source": [
    "Let's make a data frame with just the columns that involve the browsers"
   ]
  },
  {
   "cell_type": "code",
   "execution_count": 7,
   "id": "5dc298c2",
   "metadata": {},
   "outputs": [],
   "source": [
    "reports_browsers = reports_performance[['BROWSER_NAME', 'BROWSER_VERSION']]"
   ]
  },
  {
   "cell_type": "code",
   "execution_count": 8,
   "id": "b5fd8d80",
   "metadata": {},
   "outputs": [
    {
     "data": {
      "text/html": [
       "<div>\n",
       "<style scoped>\n",
       "    .dataframe tbody tr th:only-of-type {\n",
       "        vertical-align: middle;\n",
       "    }\n",
       "\n",
       "    .dataframe tbody tr th {\n",
       "        vertical-align: top;\n",
       "    }\n",
       "\n",
       "    .dataframe thead th {\n",
       "        text-align: right;\n",
       "    }\n",
       "</style>\n",
       "<table border=\"1\" class=\"dataframe\">\n",
       "  <thead>\n",
       "    <tr style=\"text-align: right;\">\n",
       "      <th></th>\n",
       "      <th>BROWSER_NAME</th>\n",
       "      <th>BROWSER_VERSION</th>\n",
       "    </tr>\n",
       "  </thead>\n",
       "  <tbody>\n",
       "    <tr>\n",
       "      <th>0</th>\n",
       "      <td>CHROME</td>\n",
       "      <td>102.0</td>\n",
       "    </tr>\n",
       "    <tr>\n",
       "      <th>1</th>\n",
       "      <td>CHROME</td>\n",
       "      <td>102.0</td>\n",
       "    </tr>\n",
       "    <tr>\n",
       "      <th>2</th>\n",
       "      <td>CHROME</td>\n",
       "      <td>102.0</td>\n",
       "    </tr>\n",
       "    <tr>\n",
       "      <th>3</th>\n",
       "      <td>CHROME</td>\n",
       "      <td>102.0</td>\n",
       "    </tr>\n",
       "    <tr>\n",
       "      <th>4</th>\n",
       "      <td>CHROME</td>\n",
       "      <td>102.0</td>\n",
       "    </tr>\n",
       "    <tr>\n",
       "      <th>...</th>\n",
       "      <td>...</td>\n",
       "      <td>...</td>\n",
       "    </tr>\n",
       "    <tr>\n",
       "      <th>723077</th>\n",
       "      <td>EDGE</td>\n",
       "      <td>102.0</td>\n",
       "    </tr>\n",
       "    <tr>\n",
       "      <th>723078</th>\n",
       "      <td>EDGE</td>\n",
       "      <td>102.0</td>\n",
       "    </tr>\n",
       "    <tr>\n",
       "      <th>723079</th>\n",
       "      <td>EDGE</td>\n",
       "      <td>102.0</td>\n",
       "    </tr>\n",
       "    <tr>\n",
       "      <th>723080</th>\n",
       "      <td>EDGE</td>\n",
       "      <td>102.0</td>\n",
       "    </tr>\n",
       "    <tr>\n",
       "      <th>723081</th>\n",
       "      <td>EDGE</td>\n",
       "      <td>102.0</td>\n",
       "    </tr>\n",
       "  </tbody>\n",
       "</table>\n",
       "<p>723082 rows × 2 columns</p>\n",
       "</div>"
      ],
      "text/plain": [
       "       BROWSER_NAME  BROWSER_VERSION\n",
       "0            CHROME            102.0\n",
       "1            CHROME            102.0\n",
       "2            CHROME            102.0\n",
       "3            CHROME            102.0\n",
       "4            CHROME            102.0\n",
       "...             ...              ...\n",
       "723077         EDGE            102.0\n",
       "723078         EDGE            102.0\n",
       "723079         EDGE            102.0\n",
       "723080         EDGE            102.0\n",
       "723081         EDGE            102.0\n",
       "\n",
       "[723082 rows x 2 columns]"
      ]
     },
     "execution_count": 8,
     "metadata": {},
     "output_type": "execute_result"
    }
   ],
   "source": [
    "reports_browsers"
   ]
  },
  {
   "cell_type": "markdown",
   "id": "6ae18e81",
   "metadata": {},
   "source": [
    "#### Let's now create two views with these columns\n",
    "---"
   ]
  },
  {
   "cell_type": "markdown",
   "id": "c059d7f5",
   "metadata": {},
   "source": [
    "Plot for the most used browser"
   ]
  },
  {
   "cell_type": "code",
   "execution_count": 9,
   "id": "0789ade0",
   "metadata": {},
   "outputs": [],
   "source": [
    "import matplotlib.pyplot as plt"
   ]
  },
  {
   "cell_type": "code",
   "execution_count": 10,
   "id": "b096ef31",
   "metadata": {},
   "outputs": [
    {
     "data": {
      "image/png": "[encoded data removed]",
      "text/plain": [
       "<Figure size 648x648 with 1 Axes>"
      ]
     },
     "metadata": {
      "needs_background": "light"
     },
     "output_type": "display_data"
    }
   ],
   "source": [
    "values = reports_browsers.BROWSER_NAME.value_counts()\n",
    "labels = values.index\n",
    "\n",
    "plt.figure(figsize=(9,9))\n",
    "plt.bar(labels, values, 0.8)\n",
    "plt.ylabel(\"Number of accesses\")\n",
    "plt.xlabel(\"Browsers\")\n",
    "plt.title(\"Most acesses browsers by Lightning\")\n",
    "plt.show()"
   ]
  },
  {
   "cell_type": "markdown",
   "id": "7c48995d",
   "metadata": {},
   "source": [
    "Most browsers versions used"
   ]
  },
  {
   "cell_type": "code",
   "execution_count": 11,
   "id": "21a5a565",
   "metadata": {},
   "outputs": [
    {
     "data": {
      "text/plain": [
       "BROWSER_NAME  BROWSER_VERSION\n",
       "EDGE          101.0                   7\n",
       "FIREFOX       91.0                  826\n",
       "CHROME        100.0                1533\n",
       "              92.0                 1695\n",
       "EDGE          104.0                3078\n",
       "CHROME        99.0                 3401\n",
       "              101.0              111195\n",
       "EDGE          102.0              120818\n",
       "CHROME        102.0              480529\n",
       "dtype: int64"
      ]
     },
     "execution_count": 11,
     "metadata": {},
     "output_type": "execute_result"
    }
   ],
   "source": [
    "reports_browsers.value_counts(ascending=True)"
   ]
  },
  {
   "cell_type": "markdown",
   "id": "0439eb7b",
   "metadata": {},
   "source": [
    "Let's group by values by name and version"
   ]
  },
  {
   "cell_type": "code",
   "execution_count": 12,
   "id": "cb10606f",
   "metadata": {},
   "outputs": [],
   "source": [
    "browsers_versions = reports_browsers.groupby(['BROWSER_NAME', 'BROWSER_VERSION']).agg({'BROWSER_VERSION': 'count'})"
   ]
  },
  {
   "cell_type": "code",
   "execution_count": 13,
   "id": "3bda96e7",
   "metadata": {},
   "outputs": [
    {
     "data": {
      "text/plain": [
       "<bound method DataFrame.reset_index of                               BROWSER_VERSION\n",
       "BROWSER_NAME BROWSER_VERSION                 \n",
       "CHROME       92.0                        1695\n",
       "             99.0                        3401\n",
       "             100.0                       1533\n",
       "             101.0                     111195\n",
       "             102.0                     480529\n",
       "EDGE         101.0                          7\n",
       "             102.0                     120818\n",
       "             104.0                       3078\n",
       "FIREFOX      91.0                         826>"
      ]
     },
     "execution_count": 13,
     "metadata": {},
     "output_type": "execute_result"
    }
   ],
   "source": [
    "browsers_versions.reset_index"
   ]
  },
  {
   "cell_type": "code",
   "execution_count": 14,
   "id": "77cac215",
   "metadata": {},
   "outputs": [],
   "source": [
    "browsers_versions.rename(columns={'BROWSER_VERSION': 'COUNT_OF_VERSIONS'}, inplace = True)"
   ]
  },
  {
   "cell_type": "markdown",
   "id": "1c3786ca",
   "metadata": {},
   "source": [
    "Let's sort this values"
   ]
  },
  {
   "cell_type": "code",
   "execution_count": 15,
   "id": "94480cb6",
   "metadata": {},
   "outputs": [
    {
     "data": {
      "text/html": [
       "<div>\n",
       "<style scoped>\n",
       "    .dataframe tbody tr th:only-of-type {\n",
       "        vertical-align: middle;\n",
       "    }\n",
       "\n",
       "    .dataframe tbody tr th {\n",
       "        vertical-align: top;\n",
       "    }\n",
       "\n",
       "    .dataframe thead th {\n",
       "        text-align: right;\n",
       "    }\n",
       "</style>\n",
       "<table border=\"1\" class=\"dataframe\">\n",
       "  <thead>\n",
       "    <tr style=\"text-align: right;\">\n",
       "      <th></th>\n",
       "      <th></th>\n",
       "      <th>COUNT_OF_VERSIONS</th>\n",
       "    </tr>\n",
       "    <tr>\n",
       "      <th>BROWSER_NAME</th>\n",
       "      <th>BROWSER_VERSION</th>\n",
       "      <th></th>\n",
       "    </tr>\n",
       "  </thead>\n",
       "  <tbody>\n",
       "    <tr>\n",
       "      <th>CHROME</th>\n",
       "      <th>102.0</th>\n",
       "      <td>480529</td>\n",
       "    </tr>\n",
       "    <tr>\n",
       "      <th>EDGE</th>\n",
       "      <th>102.0</th>\n",
       "      <td>120818</td>\n",
       "    </tr>\n",
       "    <tr>\n",
       "      <th rowspan=\"2\" valign=\"top\">CHROME</th>\n",
       "      <th>101.0</th>\n",
       "      <td>111195</td>\n",
       "    </tr>\n",
       "    <tr>\n",
       "      <th>99.0</th>\n",
       "      <td>3401</td>\n",
       "    </tr>\n",
       "    <tr>\n",
       "      <th>EDGE</th>\n",
       "      <th>104.0</th>\n",
       "      <td>3078</td>\n",
       "    </tr>\n",
       "    <tr>\n",
       "      <th rowspan=\"2\" valign=\"top\">CHROME</th>\n",
       "      <th>92.0</th>\n",
       "      <td>1695</td>\n",
       "    </tr>\n",
       "    <tr>\n",
       "      <th>100.0</th>\n",
       "      <td>1533</td>\n",
       "    </tr>\n",
       "    <tr>\n",
       "      <th>FIREFOX</th>\n",
       "      <th>91.0</th>\n",
       "      <td>826</td>\n",
       "    </tr>\n",
       "    <tr>\n",
       "      <th>EDGE</th>\n",
       "      <th>101.0</th>\n",
       "      <td>7</td>\n",
       "    </tr>\n",
       "  </tbody>\n",
       "</table>\n",
       "</div>"
      ],
      "text/plain": [
       "                              COUNT_OF_VERSIONS\n",
       "BROWSER_NAME BROWSER_VERSION                   \n",
       "CHROME       102.0                       480529\n",
       "EDGE         102.0                       120818\n",
       "CHROME       101.0                       111195\n",
       "             99.0                          3401\n",
       "EDGE         104.0                         3078\n",
       "CHROME       92.0                          1695\n",
       "             100.0                         1533\n",
       "FIREFOX      91.0                           826\n",
       "EDGE         101.0                            7"
      ]
     },
     "execution_count": 15,
     "metadata": {},
     "output_type": "execute_result"
    }
   ],
   "source": [
    "browsers_versions.sort_values(by='COUNT_OF_VERSIONS', ascending=False)"
   ]
  },
  {
   "cell_type": "code",
   "execution_count": 16,
   "id": "3b9e66ba",
   "metadata": {},
   "outputs": [],
   "source": [
    "browsers_versions.reset_index(inplace=True)"
   ]
  },
  {
   "cell_type": "code",
   "execution_count": 17,
   "id": "5b7ea621",
   "metadata": {},
   "outputs": [
    {
     "data": {
      "text/html": [
       "<div>\n",
       "<style scoped>\n",
       "    .dataframe tbody tr th:only-of-type {\n",
       "        vertical-align: middle;\n",
       "    }\n",
       "\n",
       "    .dataframe tbody tr th {\n",
       "        vertical-align: top;\n",
       "    }\n",
       "\n",
       "    .dataframe thead th {\n",
       "        text-align: right;\n",
       "    }\n",
       "</style>\n",
       "<table border=\"1\" class=\"dataframe\">\n",
       "  <thead>\n",
       "    <tr style=\"text-align: right;\">\n",
       "      <th></th>\n",
       "      <th>BROWSER_NAME</th>\n",
       "      <th>BROWSER_VERSION</th>\n",
       "      <th>COUNT_OF_VERSIONS</th>\n",
       "    </tr>\n",
       "  </thead>\n",
       "  <tbody>\n",
       "    <tr>\n",
       "      <th>0</th>\n",
       "      <td>CHROME</td>\n",
       "      <td>92.0</td>\n",
       "      <td>1695</td>\n",
       "    </tr>\n",
       "    <tr>\n",
       "      <th>1</th>\n",
       "      <td>CHROME</td>\n",
       "      <td>99.0</td>\n",
       "      <td>3401</td>\n",
       "    </tr>\n",
       "    <tr>\n",
       "      <th>2</th>\n",
       "      <td>CHROME</td>\n",
       "      <td>100.0</td>\n",
       "      <td>1533</td>\n",
       "    </tr>\n",
       "    <tr>\n",
       "      <th>3</th>\n",
       "      <td>CHROME</td>\n",
       "      <td>101.0</td>\n",
       "      <td>111195</td>\n",
       "    </tr>\n",
       "    <tr>\n",
       "      <th>4</th>\n",
       "      <td>CHROME</td>\n",
       "      <td>102.0</td>\n",
       "      <td>480529</td>\n",
       "    </tr>\n",
       "    <tr>\n",
       "      <th>5</th>\n",
       "      <td>EDGE</td>\n",
       "      <td>101.0</td>\n",
       "      <td>7</td>\n",
       "    </tr>\n",
       "    <tr>\n",
       "      <th>6</th>\n",
       "      <td>EDGE</td>\n",
       "      <td>102.0</td>\n",
       "      <td>120818</td>\n",
       "    </tr>\n",
       "    <tr>\n",
       "      <th>7</th>\n",
       "      <td>EDGE</td>\n",
       "      <td>104.0</td>\n",
       "      <td>3078</td>\n",
       "    </tr>\n",
       "    <tr>\n",
       "      <th>8</th>\n",
       "      <td>FIREFOX</td>\n",
       "      <td>91.0</td>\n",
       "      <td>826</td>\n",
       "    </tr>\n",
       "  </tbody>\n",
       "</table>\n",
       "</div>"
      ],
      "text/plain": [
       "  BROWSER_NAME  BROWSER_VERSION  COUNT_OF_VERSIONS\n",
       "0       CHROME             92.0               1695\n",
       "1       CHROME             99.0               3401\n",
       "2       CHROME            100.0               1533\n",
       "3       CHROME            101.0             111195\n",
       "4       CHROME            102.0             480529\n",
       "5         EDGE            101.0                  7\n",
       "6         EDGE            102.0             120818\n",
       "7         EDGE            104.0               3078\n",
       "8      FIREFOX             91.0                826"
      ]
     },
     "execution_count": 17,
     "metadata": {},
     "output_type": "execute_result"
    }
   ],
   "source": [
    "browsers_versions"
   ]
  },
  {
   "cell_type": "markdown",
   "id": "8f13c978",
   "metadata": {},
   "source": [
    "Let's make a list of unique browsers name"
   ]
  },
  {
   "cell_type": "code",
   "execution_count": 18,
   "id": "264f4f9c",
   "metadata": {},
   "outputs": [
    {
     "data": {
      "text/plain": [
       "['CHROME', 'EDGE', 'FIREFOX']"
      ]
     },
     "execution_count": 18,
     "metadata": {},
     "output_type": "execute_result"
    }
   ],
   "source": [
    "browsers = browsers_versions.BROWSER_NAME.unique().tolist()\n",
    "browsers"
   ]
  },
  {
   "cell_type": "code",
   "execution_count": 19,
   "id": "1c76a542",
   "metadata": {},
   "outputs": [
    {
     "data": {
      "text/plain": [
       "[1695, 3401, 1533, 111195, 480529, 7, 120818, 3078, 826]"
      ]
     },
     "execution_count": 19,
     "metadata": {},
     "output_type": "execute_result"
    }
   ],
   "source": [
    "list_of_counts = browsers_versions.COUNT_OF_VERSIONS.tolist()\n",
    "list_of_counts"
   ]
  },
  {
   "cell_type": "markdown",
   "id": "e3101279",
   "metadata": {},
   "source": [
    "Let's define a function for make a dict of values and versions per browser name"
   ]
  },
  {
   "cell_type": "code",
   "execution_count": 20,
   "id": "fec9e30e",
   "metadata": {},
   "outputs": [],
   "source": [
    "def make_dict_of_browsers(list_of_browsers, list_of_counts, list_of_versions):\n",
    "    result = {}\n",
    "    for browser in list_of_browsers:\n",
    "        result[browser] = []\n",
    "        for i in range(len(list_of_counts)):\n",
    "            if browser == browsers_versions.BROWSER_NAME.get(i):\n",
    "                result[browser].append(list_of_counts[i])\n",
    "    return result\n",
    "                "
   ]
  },
  {
   "cell_type": "code",
   "execution_count": 21,
   "id": "bc89d134",
   "metadata": {},
   "outputs": [
    {
     "data": {
      "text/plain": [
       "{'CHROME': [1695, 3401, 1533, 111195, 480529],\n",
       " 'EDGE': [7, 120818, 3078],\n",
       " 'FIREFOX': [826]}"
      ]
     },
     "execution_count": 21,
     "metadata": {},
     "output_type": "execute_result"
    }
   ],
   "source": [
    "dict_of_browsers = make_dict_of_browsers(browsers, browsers_versions.COUNT_OF_VERSIONS.tolist(), browsers_versions.BROWSER_VERSION.tolist())\n",
    "dict_of_browsers"
   ]
  },
  {
   "cell_type": "code",
   "execution_count": 22,
   "id": "9ce10490",
   "metadata": {},
   "outputs": [
    {
     "data": {
      "text/plain": [
       "{'CHROME': [92.0, 99.0, 100.0, 101.0, 102.0],\n",
       " 'EDGE': [101.0, 102.0, 104.0],\n",
       " 'FIREFOX': [91.0]}"
      ]
     },
     "execution_count": 22,
     "metadata": {},
     "output_type": "execute_result"
    }
   ],
   "source": [
    "dict_of_versions = make_dict_of_browsers(browsers, browsers_versions.BROWSER_VERSION.tolist(), browsers_versions.COUNT_OF_VERSIONS.tolist())\n",
    "dict_of_versions"
   ]
  },
  {
   "cell_type": "markdown",
   "id": "bcc573a2",
   "metadata": {},
   "source": [
    "---\n",
    "\n",
    "\n",
    "## Let's make a plots for each browser\n",
    "---\n"
   ]
  },
  {
   "cell_type": "markdown",
   "id": "fef694ed",
   "metadata": {},
   "source": [
    "### Calls using Chrome"
   ]
  },
  {
   "cell_type": "code",
   "execution_count": 23,
   "id": "0a8117c8",
   "metadata": {},
   "outputs": [],
   "source": [
    "import numpy as np"
   ]
  },
  {
   "cell_type": "code",
   "execution_count": 24,
   "id": "b06c60a6",
   "metadata": {},
   "outputs": [],
   "source": [
    "cmap = plt.get_cmap(\"tab20c\")\n",
    "outer_colors = cmap(np.arange(len(dict_of_versions['CHROME']))*2)\n",
    "wp = { 'linewidth' : 1, 'edgecolor' : \"white\" } \n",
    "def func(pct, allvalues): \n",
    "    absolute = int(pct / 100.*np.sum(allvalues)) \n",
    "    return \"{:.1f}%\\n({:d} g)\".format(pct, absolute)"
   ]
  },
  {
   "cell_type": "code",
   "execution_count": 25,
   "id": "e8ef692f",
   "metadata": {},
   "outputs": [
    {
     "data": {
      "image/png": "[encoded data removed]",
      "text/plain": [
       "<Figure size 864x576 with 1 Axes>"
      ]
     },
     "metadata": {},
     "output_type": "display_data"
    }
   ],
   "source": [
    "fig, ax = plt.subplots(figsize =(12, 8))\n",
    "\n",
    "wedges, texts, autotexts = ax.pie(dict_of_browsers['CHROME'],\n",
    "                                  autopct = lambda pct: func(pct, dict_of_browsers['CHROME']), \n",
    "                                  shadow = True, \n",
    "                                  colors = outer_colors, \n",
    "                                  startangle = 90, \n",
    "                                  wedgeprops = wp, \n",
    "                                  textprops = dict(color =\"black\")) \n",
    "\n",
    "ax.legend(wedges, browsers_versions.BROWSER_VERSION[0:5], \n",
    "          title =\"Versions\", \n",
    "          loc =\"center left\", \n",
    "          bbox_to_anchor =(1, 0, 0.5, 1)) \n",
    "\n",
    "plt.setp(autotexts, size = 8, weight =\"bold\") \n",
    "ax.set_title(\"Quantity of calls for performance using Chrome\") \n",
    "plt.show()"
   ]
  },
  {
   "cell_type": "markdown",
   "id": "6a9191b2",
   "metadata": {},
   "source": [
    "### Calls using Microsoft Edge"
   ]
  },
  {
   "cell_type": "code",
   "execution_count": 26,
   "id": "46c85f49",
   "metadata": {},
   "outputs": [],
   "source": [
    "cmap = plt.get_cmap(\"tab20c\")\n",
    "outer_colors = cmap(np.arange(len(dict_of_versions['EDGE']))*2)\n",
    "wp = { 'linewidth' : 1, 'edgecolor' : \"white\" } \n",
    "def func(pct, allvalues): \n",
    "    absolute = int(pct / 100.*np.sum(allvalues)) \n",
    "    return \"{:.1f}%\\n({:d} g)\".format(pct, absolute)"
   ]
  },
  {
   "cell_type": "code",
   "execution_count": 27,
   "id": "0f825e21",
   "metadata": {},
   "outputs": [
    {
     "data": {
      "image/png": "[encoded data removed]",
      "text/plain": [
       "<Figure size 864x576 with 1 Axes>"
      ]
     },
     "metadata": {},
     "output_type": "display_data"
    }
   ],
   "source": [
    "fig, ax = plt.subplots(figsize =(12, 8))\n",
    "\n",
    "wedges, texts, autotexts = ax.pie(dict_of_browsers['EDGE'],\n",
    "                                  autopct = lambda pct: func(pct, dict_of_browsers['EDGE']), \n",
    "                                  shadow = True, \n",
    "                                  colors = outer_colors, \n",
    "                                  startangle = 90, \n",
    "                                  wedgeprops = wp, \n",
    "                                  textprops = dict(color =\"black\")) \n",
    "\n",
    "ax.legend(wedges, browsers_versions.BROWSER_VERSION[0:5], \n",
    "          title =\"Versions\", \n",
    "          loc =\"center left\", \n",
    "          bbox_to_anchor =(1, 0, 0.5, 1)) \n",
    "\n",
    "plt.setp(autotexts, size = 8, weight =\"bold\") \n",
    "ax.set_title(\"Quantity of calls for performance using Microsoft Edge\") \n",
    "plt.show()"
   ]
  },
  {
   "cell_type": "markdown",
   "id": "a29720f9",
   "metadata": {},
   "source": [
    "### Calls using Firefox"
   ]
  },
  {
   "cell_type": "code",
   "execution_count": 28,
   "id": "f2014ef9",
   "metadata": {},
   "outputs": [],
   "source": [
    "cmap = plt.get_cmap(\"tab20c\")\n",
    "outer_colors = cmap(np.arange(len(dict_of_versions['FIREFOX']))*2)\n",
    "wp = { 'linewidth' : 1, 'edgecolor' : \"white\" } \n",
    "def func(pct, allvalues): \n",
    "    absolute = int(pct / 100.*np.sum(allvalues)) \n",
    "    return \"{:.1f}%\\n({:d} g)\".format(pct, absolute)"
   ]
  },
  {
   "cell_type": "code",
   "execution_count": 29,
   "id": "8bf33aad",
   "metadata": {},
   "outputs": [
    {
     "data": {
      "image/png": "[encoded data removed]",
      "text/plain": [
       "<Figure size 864x576 with 1 Axes>"
      ]
     },
     "metadata": {},
     "output_type": "display_data"
    }
   ],
   "source": [
    "fig, ax = plt.subplots(figsize =(12, 8))\n",
    "\n",
    "wedges, texts, autotexts = ax.pie(dict_of_browsers['FIREFOX'],\n",
    "                                  autopct = lambda pct: func(pct, dict_of_browsers['FIREFOX']), \n",
    "                                  shadow = True, \n",
    "                                  colors = outer_colors, \n",
    "                                  startangle = 90, \n",
    "                                  wedgeprops = wp, \n",
    "                                  textprops = dict(color =\"black\")) \n",
    "\n",
    "ax.legend(wedges, browsers_versions.BROWSER_VERSION[0:5], \n",
    "          title =\"Versions\", \n",
    "          loc =\"center left\", \n",
    "          bbox_to_anchor =(1, 0, 0.5, 1)) \n",
    "\n",
    "plt.setp(autotexts, size = 8, weight =\"bold\") \n",
    "ax.set_title(\"Quantity of calls for performance using Firefox\") \n",
    "plt.show()"
   ]
  }
 ],
 "metadata": {
  "kernelspec": {
   "display_name": "Python 3 (ipykernel)",
   "language": "python",
   "name": "python3"
  },
  "language_info": {
   "codemirror_mode": {
    "name": "ipython",
    "version": 3
   },
   "file_extension": ".py",
   "mimetype": "text/x-python",
   "name": "python",
   "nbconvert_exporter": "python",
   "pygments_lexer": "ipython3",
   "version": "3.10.4"
  }
 },
 "nbformat": 4,
 "nbformat_minor": 5
}
