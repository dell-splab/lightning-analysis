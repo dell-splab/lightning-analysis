{
 "cells": [
  {
   "cell_type": "markdown",
   "id": "7f25b2a5",
   "metadata": {},
   "source": [
    "# Identify which events caused more errors"
   ]
  },
  {
   "cell_type": "markdown",
   "id": "11e900e1",
   "metadata": {},
   "source": [
    "This notebook answers the following questions:\n",
    "\n",
    "- [X] What is the ratio of UI_EVENT_SOURCE field error types to active reports?\n",
    "- [X] What types of PAGE_CONTEXT and PAGE_ENTITY_TYPE fields are present in active report data?"
   ]
  },
  {
   "cell_type": "code",
   "execution_count": 1,
   "id": "970b931f",
   "metadata": {},
   "outputs": [],
   "source": [
    "import pandas as pd\n",
    "import matplotlib.pyplot as plt\n",
    "from IPython.core.display import HTML"
   ]
  },
  {
   "cell_type": "markdown",
   "id": "a3afc93f",
   "metadata": {},
   "source": [
    "### Aligning data visualizations"
   ]
  },
  {
   "cell_type": "markdown",
   "id": "d0ffd5e5",
   "metadata": {},
   "source": [
    "The following code is used to center and align the visualizations laid out below."
   ]
  },
  {
   "cell_type": "code",
   "execution_count": 2,
   "id": "2189aa61",
   "metadata": {},
   "outputs": [
    {
     "data": {
      "text/html": [
       "\n",
       "<style>\n",
       ".output_png {\n",
       "    display: table-cell;\n",
       "    text-align: center;\n",
       "    vertical-align: middle;\n",
       "}\n",
       "</style>\n"
      ],
      "text/plain": [
       "<IPython.core.display.HTML object>"
      ]
     },
     "execution_count": 2,
     "metadata": {},
     "output_type": "execute_result"
    }
   ],
   "source": [
    "HTML(\"\"\"\n",
    "<style>\n",
    ".output_png {\n",
    "    display: table-cell;\n",
    "    text-align: center;\n",
    "    vertical-align: middle;\n",
    "}\n",
    "</style>\n",
    "\"\"\") "
   ]
  },
  {
   "cell_type": "markdown",
   "id": "a14480a9",
   "metadata": {},
   "source": [
    "### Loadind Data"
   ]
  },
  {
   "cell_type": "code",
   "execution_count": 3,
   "id": "1dd4ef8c",
   "metadata": {},
   "outputs": [],
   "source": [
    "source_path_ar = \"datasets/active_reports.csv\"\n",
    "\n",
    "active_reports = pd.read_csv(source_path_ar)\n",
    "\n",
    "source_path_le = \"data/Salesforce/ELF/LightningError/2022-06-06_LightningError.csv\"\n",
    "\n",
    "lightning_error = pd.read_csv(source_path_le)"
   ]
  },
  {
   "cell_type": "markdown",
   "id": "d838c23f",
   "metadata": {},
   "source": [
    "### Description of the fields under analysis"
   ]
  },
  {
   "cell_type": "markdown",
   "id": "aece3afd",
   "metadata": {},
   "source": [
    "Below is the definition of the fields being analyzed in this task."
   ]
  },
  {
   "cell_type": "markdown",
   "id": "d4f9591e",
   "metadata": {},
   "source": [
    "1. **UI_EVENT_SOURCE**: The source of the error event;\n",
    "2. **PAGE_CONTEXT**: Context of the page where the event occurred;\n",
    "3. **PAGE_ENTITY_TYPE**: The entity type of the event.\n",
    "3. **REPORT_ID_DERIVED**: The 18-character case insensitive ID of the report that was run."
   ]
  },
  {
   "cell_type": "markdown",
   "id": "bc108739",
   "metadata": {},
   "source": [
    "The definitions of UI_EVENT_SOURCE, PAGE_CONTEXT, and PAGE_ENTITY_TYPE can be found in this [reference](https://developer.salesforce.com/docs/atlas.en-us.object_reference.meta/object_reference/sforce_api_objects_eventlogfile_lightningerror.htm), and the definition of REPORT_ID_DERIVED can be found in this [reference](https://developer.salesforce.com/docs/atlas.en-us.238.0.object_reference.meta/object_reference/sforce_api_objects_eventlogfile_report.htm)."
   ]
  },
  {
   "cell_type": "markdown",
   "id": "b2350db6",
   "metadata": {},
   "source": [
    "## 1. What is the ratio of UI_EVENT_SOURCE field error types to active reports?"
   ]
  },
  {
   "cell_type": "markdown",
   "id": "fde5e24b",
   "metadata": {},
   "source": [
    "Next, we analyze the proportion of error types in relation to active reports."
   ]
  },
  {
   "cell_type": "markdown",
   "id": "c2cb4689",
   "metadata": {},
   "source": [
    "- Utility function used to generate the REPORT_ID_DERIVED field in the LightningError table:"
   ]
  },
  {
   "cell_type": "code",
   "execution_count": 4,
   "id": "0e04553b",
   "metadata": {},
   "outputs": [],
   "source": [
    "run_report_api_resource = \"/lightning/r/\"\n",
    "\n",
    "def get_report_info_from_endpoint(page_url):\n",
    "    page_url = str(page_url)\n",
    "    if page_url.startswith(run_report_api_resource):\n",
    "        uri = page_url.split(run_report_api_resource)\n",
    "        if len(uri) >= 2:\n",
    "            report_type, report_id_derived = uri[1].split(\"/\")[:2]\n",
    "            return report_type, report_id_derived"
   ]
  },
  {
   "cell_type": "markdown",
   "id": "9a515bc0",
   "metadata": {},
   "source": [
    "- Data processing:"
   ]
  },
  {
   "cell_type": "code",
   "execution_count": 5,
   "id": "8f1223c5",
   "metadata": {},
   "outputs": [
    {
     "data": {
      "text/html": [
       "<div>\n",
       "<style scoped>\n",
       "    .dataframe tbody tr th:only-of-type {\n",
       "        vertical-align: middle;\n",
       "    }\n",
       "\n",
       "    .dataframe tbody tr th {\n",
       "        vertical-align: top;\n",
       "    }\n",
       "\n",
       "    .dataframe thead th {\n",
       "        text-align: right;\n",
       "    }\n",
       "</style>\n",
       "<table border=\"1\" class=\"dataframe\">\n",
       "  <thead>\n",
       "    <tr style=\"text-align: right;\">\n",
       "      <th></th>\n",
       "      <th>REPORT_ID_DERIVED</th>\n",
       "      <th>PAGE_CONTEXT</th>\n",
       "      <th>UI_EVENT_SOURCE</th>\n",
       "      <th>PAGE_ENTITY_TYPE</th>\n",
       "    </tr>\n",
       "  </thead>\n",
       "  <tbody>\n",
       "    <tr>\n",
       "      <th>0</th>\n",
       "      <td>00O0b000004kTazEAE</td>\n",
       "      <td>reports:reportBase</td>\n",
       "      <td>Error</td>\n",
       "      <td>Report</td>\n",
       "    </tr>\n",
       "    <tr>\n",
       "      <th>1</th>\n",
       "      <td>00O0b000004kTazEAE</td>\n",
       "      <td>reports:reportBase</td>\n",
       "      <td>Error</td>\n",
       "      <td>Report</td>\n",
       "    </tr>\n",
       "    <tr>\n",
       "      <th>2</th>\n",
       "      <td>00O0b000004kTazEAE</td>\n",
       "      <td>reports:reportBase</td>\n",
       "      <td>Error</td>\n",
       "      <td>Report</td>\n",
       "    </tr>\n",
       "    <tr>\n",
       "      <th>3</th>\n",
       "      <td>00O0b000004kTazEAE</td>\n",
       "      <td>reports:reportBase</td>\n",
       "      <td>Error</td>\n",
       "      <td>Report</td>\n",
       "    </tr>\n",
       "    <tr>\n",
       "      <th>4</th>\n",
       "      <td>00O0b000004kTazEAE</td>\n",
       "      <td>reports:reportBase</td>\n",
       "      <td>Error</td>\n",
       "      <td>Report</td>\n",
       "    </tr>\n",
       "    <tr>\n",
       "      <th>...</th>\n",
       "      <td>...</td>\n",
       "      <td>...</td>\n",
       "      <td>...</td>\n",
       "      <td>...</td>\n",
       "    </tr>\n",
       "    <tr>\n",
       "      <th>53598</th>\n",
       "      <td>00O0b000004kkZKEAY</td>\n",
       "      <td>reports:reportBase</td>\n",
       "      <td>Error</td>\n",
       "      <td>Report</td>\n",
       "    </tr>\n",
       "    <tr>\n",
       "      <th>53599</th>\n",
       "      <td>00O0b000004kkZKEAY</td>\n",
       "      <td>reports:reportBase</td>\n",
       "      <td>Error</td>\n",
       "      <td>Report</td>\n",
       "    </tr>\n",
       "    <tr>\n",
       "      <th>53600</th>\n",
       "      <td>00O0b000004kkZKEAY</td>\n",
       "      <td>reports:reportBase</td>\n",
       "      <td>Error</td>\n",
       "      <td>Report</td>\n",
       "    </tr>\n",
       "    <tr>\n",
       "      <th>53601</th>\n",
       "      <td>00O0b000004kkZKEAY</td>\n",
       "      <td>reports:reportBase</td>\n",
       "      <td>Error</td>\n",
       "      <td>Report</td>\n",
       "    </tr>\n",
       "    <tr>\n",
       "      <th>53602</th>\n",
       "      <td>00O0b000004kkZKEAY</td>\n",
       "      <td>reports:reportBase</td>\n",
       "      <td>TypeError</td>\n",
       "      <td>Report</td>\n",
       "    </tr>\n",
       "  </tbody>\n",
       "</table>\n",
       "<p>53603 rows × 4 columns</p>\n",
       "</div>"
      ],
      "text/plain": [
       "        REPORT_ID_DERIVED        PAGE_CONTEXT UI_EVENT_SOURCE PAGE_ENTITY_TYPE\n",
       "0      00O0b000004kTazEAE  reports:reportBase           Error           Report\n",
       "1      00O0b000004kTazEAE  reports:reportBase           Error           Report\n",
       "2      00O0b000004kTazEAE  reports:reportBase           Error           Report\n",
       "3      00O0b000004kTazEAE  reports:reportBase           Error           Report\n",
       "4      00O0b000004kTazEAE  reports:reportBase           Error           Report\n",
       "...                   ...                 ...             ...              ...\n",
       "53598  00O0b000004kkZKEAY  reports:reportBase           Error           Report\n",
       "53599  00O0b000004kkZKEAY  reports:reportBase           Error           Report\n",
       "53600  00O0b000004kkZKEAY  reports:reportBase           Error           Report\n",
       "53601  00O0b000004kkZKEAY  reports:reportBase           Error           Report\n",
       "53602  00O0b000004kkZKEAY  reports:reportBase       TypeError           Report\n",
       "\n",
       "[53603 rows x 4 columns]"
      ]
     },
     "execution_count": 5,
     "metadata": {},
     "output_type": "execute_result"
    }
   ],
   "source": [
    "lightning_error['REPORT_ID_DERIVED'] = lightning_error.PAGE_URL.apply(get_report_info_from_endpoint).str[1]\n",
    "lightning_error = lightning_error.dropna(subset = ['REPORT_ID_DERIVED'],inplace = False)\n",
    "\n",
    "merged_data = pd.merge(left = active_reports, right = lightning_error, on='REPORT_ID_DERIVED', how= 'inner')\n",
    "\n",
    "merged_data = merged_data[['REPORT_ID_DERIVED', 'PAGE_CONTEXT', 'UI_EVENT_SOURCE', 'PAGE_ENTITY_TYPE']]\n",
    "\n",
    "merged_data"
   ]
  },
  {
   "cell_type": "markdown",
   "id": "5ac62ff5",
   "metadata": {},
   "source": [
    "As we can see in the pie chart below, the Error and TypeError types are the only error types present in the data being analyzed; And type Error is considerably larger than type TypeError."
   ]
  },
  {
   "cell_type": "code",
   "execution_count": 6,
   "id": "5270a65e",
   "metadata": {},
   "outputs": [
    {
     "name": "stdout",
     "output_type": "stream",
     "text": [
      "Quantification of error types by active reporting:\n",
      "\n",
      "Error:     42064\n",
      "TypeError: 11539\n",
      "Total:     53603\n"
     ]
    }
   ],
   "source": [
    "count1 = merged_data.groupby(\"UI_EVENT_SOURCE\").count()\n",
    "count1 = count1[count1.columns[0]]\n",
    "\n",
    "dict(count1)\n",
    "\n",
    "print('Quantification of error types by active reporting:\\n')\n",
    "sum_count = 0\n",
    "for k in dict(count1):\n",
    "    k_str = k + ':'\n",
    "    print(f\"{k_str:<10} {dict(count1)[k]:>}\")\n",
    "    sum_count += dict(count1)[k]\n",
    "    \n",
    "print(f\"{'Total:':<10} {sum_count:>}\")"
   ]
  },
  {
   "cell_type": "code",
   "execution_count": 7,
   "id": "96059c44",
   "metadata": {},
   "outputs": [
    {
     "data": {
      "image/png": "[encoded data removed]",
      "text/plain": [
       "<Figure size 432x432 with 1 Axes>"
      ]
     },
     "metadata": {},
     "output_type": "display_data"
    }
   ],
   "source": [
    "plt.figure(figsize=(6,6))\n",
    "\n",
    "plt.title(\"Error percentage by active reports.\", fontsize=20, fontweight=\"bold\", fontname=\"Calibri\");\n",
    "plt.pie(count1.sort_values(ascending=False), autopct='%1.2f%%', labels = ['Error','TypeError'], \n",
    "        textprops = {'size': 14, 'font': 'Calibri'}, colors= ['lightgreen' ,'lightgrey'])\n",
    "\n",
    "plt.show()"
   ]
  },
  {
   "cell_type": "markdown",
   "id": "1c42ce63",
   "metadata": {},
   "source": [
    "## 2. What types of PAGE_CONTEXT and PAGE_ENTITY_TYPE fields are present in active report data?"
   ]
  },
  {
   "cell_type": "markdown",
   "id": "dce16892",
   "metadata": {},
   "source": [
    "The tables below highlight that the only PAGE_CONTEXT type present in this sample is **reports:reportBase**, and the only PAGE_ENTITY_TYPE type is **Report**."
   ]
  },
  {
   "cell_type": "code",
   "execution_count": 8,
   "id": "d682a319",
   "metadata": {},
   "outputs": [
    {
     "data": {
      "text/html": [
       "<div>\n",
       "<style scoped>\n",
       "    .dataframe tbody tr th:only-of-type {\n",
       "        vertical-align: middle;\n",
       "    }\n",
       "\n",
       "    .dataframe tbody tr th {\n",
       "        vertical-align: top;\n",
       "    }\n",
       "\n",
       "    .dataframe thead th {\n",
       "        text-align: right;\n",
       "    }\n",
       "</style>\n",
       "<table border=\"1\" class=\"dataframe\">\n",
       "  <thead>\n",
       "    <tr style=\"text-align: right;\">\n",
       "      <th></th>\n",
       "      <th>REPORT_ID_DERIVED</th>\n",
       "      <th>UI_EVENT_SOURCE</th>\n",
       "      <th>PAGE_ENTITY_TYPE</th>\n",
       "    </tr>\n",
       "    <tr>\n",
       "      <th>PAGE_CONTEXT</th>\n",
       "      <th></th>\n",
       "      <th></th>\n",
       "      <th></th>\n",
       "    </tr>\n",
       "  </thead>\n",
       "  <tbody>\n",
       "    <tr>\n",
       "      <th>reports:reportBase</th>\n",
       "      <td>53603</td>\n",
       "      <td>53603</td>\n",
       "      <td>53603</td>\n",
       "    </tr>\n",
       "  </tbody>\n",
       "</table>\n",
       "</div>"
      ],
      "text/plain": [
       "                    REPORT_ID_DERIVED  UI_EVENT_SOURCE  PAGE_ENTITY_TYPE\n",
       "PAGE_CONTEXT                                                            \n",
       "reports:reportBase              53603            53603             53603"
      ]
     },
     "execution_count": 8,
     "metadata": {},
     "output_type": "execute_result"
    }
   ],
   "source": [
    "count2 = merged_data.groupby(\"PAGE_CONTEXT\").count()\n",
    "count2"
   ]
  },
  {
   "cell_type": "code",
   "execution_count": 9,
   "id": "63c40fb2",
   "metadata": {},
   "outputs": [
    {
     "data": {
      "text/html": [
       "<div>\n",
       "<style scoped>\n",
       "    .dataframe tbody tr th:only-of-type {\n",
       "        vertical-align: middle;\n",
       "    }\n",
       "\n",
       "    .dataframe tbody tr th {\n",
       "        vertical-align: top;\n",
       "    }\n",
       "\n",
       "    .dataframe thead th {\n",
       "        text-align: right;\n",
       "    }\n",
       "</style>\n",
       "<table border=\"1\" class=\"dataframe\">\n",
       "  <thead>\n",
       "    <tr style=\"text-align: right;\">\n",
       "      <th></th>\n",
       "      <th>REPORT_ID_DERIVED</th>\n",
       "      <th>PAGE_CONTEXT</th>\n",
       "      <th>UI_EVENT_SOURCE</th>\n",
       "    </tr>\n",
       "    <tr>\n",
       "      <th>PAGE_ENTITY_TYPE</th>\n",
       "      <th></th>\n",
       "      <th></th>\n",
       "      <th></th>\n",
       "    </tr>\n",
       "  </thead>\n",
       "  <tbody>\n",
       "    <tr>\n",
       "      <th>Report</th>\n",
       "      <td>53603</td>\n",
       "      <td>53603</td>\n",
       "      <td>53603</td>\n",
       "    </tr>\n",
       "  </tbody>\n",
       "</table>\n",
       "</div>"
      ],
      "text/plain": [
       "                  REPORT_ID_DERIVED  PAGE_CONTEXT  UI_EVENT_SOURCE\n",
       "PAGE_ENTITY_TYPE                                                  \n",
       "Report                        53603         53603            53603"
      ]
     },
     "execution_count": 9,
     "metadata": {},
     "output_type": "execute_result"
    }
   ],
   "source": [
    "count3 = merged_data.groupby(\"PAGE_ENTITY_TYPE\").count()\n",
    "count3"
   ]
  }
 ],
 "metadata": {
  "kernelspec": {
   "display_name": "Python 3 (ipykernel)",
   "language": "python",
   "name": "python3"
  },
  "language_info": {
   "codemirror_mode": {
    "name": "ipython",
    "version": 3
   },
   "file_extension": ".py",
   "mimetype": "text/x-python",
   "name": "python",
   "nbconvert_exporter": "python",
   "pygments_lexer": "ipython3",
   "version": "3.9.7"
  }
 },
 "nbformat": 4,
 "nbformat_minor": 5
}
