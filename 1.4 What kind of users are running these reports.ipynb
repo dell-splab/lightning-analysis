{
 "cells": [
  {
   "cell_type": "code",
   "execution_count": 1,
   "id": "aee1a972",
   "metadata": {},
   "outputs": [],
   "source": [
    "import pandas as pd"
   ]
  },
  {
   "cell_type": "markdown",
   "id": "b6d0fae9",
   "metadata": {},
   "source": [
    "## Loading Active Reports"
   ]
  },
  {
   "cell_type": "code",
   "execution_count": 2,
   "id": "a7c86a72",
   "metadata": {},
   "outputs": [],
   "source": [
    "active_reports = pd.read_csv(\"datasets/active_reports.csv\")"
   ]
  },
  {
   "cell_type": "code",
   "execution_count": 3,
   "id": "8b27b0a8",
   "metadata": {},
   "outputs": [
    {
     "data": {
      "text/plain": [
       "(7101, 50)"
      ]
     },
     "execution_count": 3,
     "metadata": {},
     "output_type": "execute_result"
    }
   ],
   "source": [
    "active_reports.shape"
   ]
  },
  {
   "cell_type": "markdown",
   "id": "754b4727",
   "metadata": {},
   "source": [
    "## Loaging Lightning PageView"
   ]
  },
  {
   "cell_type": "code",
   "execution_count": 4,
   "id": "a8c1bd14",
   "metadata": {},
   "outputs": [],
   "source": [
    "pageview_logs = pd.read_csv(\"data/Salesforce/Salesforce/ELF/LightningPageView/2022-06-05_LightningPageView.csv\", \n",
    "                            low_memory=False)"
   ]
  },
  {
   "cell_type": "code",
   "execution_count": 5,
   "id": "8496d022",
   "metadata": {},
   "outputs": [],
   "source": [
    "interest_columns = ['PAGE_URL', 'DURATION', 'EFFECTIVE_PAGE_TIME', 'USER_TYPE']"
   ]
  },
  {
   "cell_type": "code",
   "execution_count": 6,
   "id": "8da6619f",
   "metadata": {},
   "outputs": [],
   "source": [
    "pageview_ept = pageview_logs[interest_columns]"
   ]
  },
  {
   "cell_type": "code",
   "execution_count": 7,
   "id": "ad2a71b5",
   "metadata": {},
   "outputs": [
    {
     "data": {
      "text/plain": [
       "(751610, 4)"
      ]
     },
     "execution_count": 7,
     "metadata": {},
     "output_type": "execute_result"
    }
   ],
   "source": [
    "pageview_ept.shape"
   ]
  },
  {
   "cell_type": "markdown",
   "id": "1cb39cec",
   "metadata": {},
   "source": [
    "### Getting Report_Id by Page_Url"
   ]
  },
  {
   "cell_type": "code",
   "execution_count": 8,
   "id": "12282903",
   "metadata": {},
   "outputs": [],
   "source": [
    "# Remove missing values in any of the following columns \n",
    "pageview_ept = pageview_ept.dropna(subset = ['PAGE_URL'])"
   ]
  },
  {
   "cell_type": "code",
   "execution_count": 9,
   "id": "cbc3d72e",
   "metadata": {},
   "outputs": [
    {
     "data": {
      "text/plain": [
       "(749318, 4)"
      ]
     },
     "execution_count": 9,
     "metadata": {},
     "output_type": "execute_result"
    }
   ],
   "source": [
    "pageview_ept.shape"
   ]
  },
  {
   "cell_type": "code",
   "execution_count": 10,
   "id": "9a6cf2ec",
   "metadata": {},
   "outputs": [],
   "source": [
    "run_report_api_resource = \"/lightning/r/\"\n",
    "\n",
    "def get_report_info_from_endpoint(page_url):\n",
    "    if not(pd.isnull(page_url)) == True: \n",
    "        if page_url.startswith(run_report_api_resource):\n",
    "            uri = page_url.split(run_report_api_resource)\n",
    "            if len(uri) >= 2:\n",
    "                report_type, report_id_derived = uri[1].split(\"/\")[:2]\n",
    "                return report_type, report_id_derived"
   ]
  },
  {
   "cell_type": "code",
   "execution_count": 11,
   "id": "59d6679f",
   "metadata": {},
   "outputs": [],
   "source": [
    "pageview_ept['REPORT_INFO_DERIVED'] = pageview_ept.PAGE_URL.apply(get_report_info_from_endpoint)"
   ]
  },
  {
   "cell_type": "code",
   "execution_count": 12,
   "id": "8df51168",
   "metadata": {},
   "outputs": [],
   "source": [
    "pageview_ept['REPORT_TYPE_DERIVED'] = pageview_ept.REPORT_INFO_DERIVED.str[0]"
   ]
  },
  {
   "cell_type": "code",
   "execution_count": 13,
   "id": "ce171a2f",
   "metadata": {},
   "outputs": [],
   "source": [
    "pageview_ept['REPORT_ID_DERIVED'] = pageview_ept.REPORT_INFO_DERIVED.str[1]"
   ]
  },
  {
   "cell_type": "code",
   "execution_count": 14,
   "id": "43a31f7d",
   "metadata": {},
   "outputs": [],
   "source": [
    "# Remove missing values in any of the following columns \n",
    "pageview_ept = pageview_ept.dropna(subset=['REPORT_ID_DERIVED'])"
   ]
  },
  {
   "cell_type": "markdown",
   "id": "5d2e8593",
   "metadata": {},
   "source": [
    "Applying problematic filters"
   ]
  },
  {
   "cell_type": "code",
   "execution_count": 15,
   "id": "3d25333b",
   "metadata": {},
   "outputs": [],
   "source": [
    "pageview_ept = pageview_ept[pageview_ept.EFFECTIVE_PAGE_TIME.isna()]"
   ]
  },
  {
   "cell_type": "code",
   "execution_count": 16,
   "id": "f4bd5cf0",
   "metadata": {},
   "outputs": [],
   "source": [
    "pageview_ept = pageview_ept[pageview_ept.DURATION > 60000] # 60s -> 60000ms"
   ]
  },
  {
   "cell_type": "code",
   "execution_count": 17,
   "id": "0819d1a9",
   "metadata": {},
   "outputs": [
    {
     "data": {
      "text/html": [
       "<div>\n",
       "<style scoped>\n",
       "    .dataframe tbody tr th:only-of-type {\n",
       "        vertical-align: middle;\n",
       "    }\n",
       "\n",
       "    .dataframe tbody tr th {\n",
       "        vertical-align: top;\n",
       "    }\n",
       "\n",
       "    .dataframe thead th {\n",
       "        text-align: right;\n",
       "    }\n",
       "</style>\n",
       "<table border=\"1\" class=\"dataframe\">\n",
       "  <thead>\n",
       "    <tr style=\"text-align: right;\">\n",
       "      <th></th>\n",
       "      <th>PAGE_URL</th>\n",
       "      <th>DURATION</th>\n",
       "      <th>EFFECTIVE_PAGE_TIME</th>\n",
       "      <th>USER_TYPE</th>\n",
       "      <th>REPORT_INFO_DERIVED</th>\n",
       "      <th>REPORT_TYPE_DERIVED</th>\n",
       "      <th>REPORT_ID_DERIVED</th>\n",
       "    </tr>\n",
       "  </thead>\n",
       "  <tbody>\n",
       "    <tr>\n",
       "      <th>890</th>\n",
       "      <td>/lightning/r/Call_Transcript__c/a7Z2R000002Q33...</td>\n",
       "      <td>166655.0</td>\n",
       "      <td>NaN</td>\n",
       "      <td>Standard</td>\n",
       "      <td>(Call_Transcript__c, a7Z2R000002Q33NUAS)</td>\n",
       "      <td>Call_Transcript__c</td>\n",
       "      <td>a7Z2R000002Q33NUAS</td>\n",
       "    </tr>\n",
       "    <tr>\n",
       "      <th>1843</th>\n",
       "      <td>/lightning/r/Report/00O0b000006iNwdEAE/view</td>\n",
       "      <td>129212.0</td>\n",
       "      <td>NaN</td>\n",
       "      <td>Standard</td>\n",
       "      <td>(Report, 00O0b000006iNwdEAE)</td>\n",
       "      <td>Report</td>\n",
       "      <td>00O0b000006iNwdEAE</td>\n",
       "    </tr>\n",
       "    <tr>\n",
       "      <th>2363</th>\n",
       "      <td>/lightning/r/WorkOrder/0WO6P00000273YqWAI/view...</td>\n",
       "      <td>70994.0</td>\n",
       "      <td>NaN</td>\n",
       "      <td>Standard</td>\n",
       "      <td>(WorkOrder, 0WO6P00000273YqWAI)</td>\n",
       "      <td>WorkOrder</td>\n",
       "      <td>0WO6P00000273YqWAI</td>\n",
       "    </tr>\n",
       "    <tr>\n",
       "      <th>3254</th>\n",
       "      <td>/lightning/r/Contact/0036P000004Rl3nQAC/view?w...</td>\n",
       "      <td>68522.0</td>\n",
       "      <td>NaN</td>\n",
       "      <td>Standard</td>\n",
       "      <td>(Contact, 0036P000004Rl3nQAC)</td>\n",
       "      <td>Contact</td>\n",
       "      <td>0036P000004Rl3nQAC</td>\n",
       "    </tr>\n",
       "    <tr>\n",
       "      <th>4340</th>\n",
       "      <td>/lightning/r/Task/00T6P00000HboKyUAJ/view?ws=%...</td>\n",
       "      <td>92596.0</td>\n",
       "      <td>NaN</td>\n",
       "      <td>Standard</td>\n",
       "      <td>(Task, 00T6P00000HboKyUAJ)</td>\n",
       "      <td>Task</td>\n",
       "      <td>00T6P00000HboKyUAJ</td>\n",
       "    </tr>\n",
       "  </tbody>\n",
       "</table>\n",
       "</div>"
      ],
      "text/plain": [
       "                                               PAGE_URL  DURATION  \\\n",
       "890   /lightning/r/Call_Transcript__c/a7Z2R000002Q33...  166655.0   \n",
       "1843        /lightning/r/Report/00O0b000006iNwdEAE/view  129212.0   \n",
       "2363  /lightning/r/WorkOrder/0WO6P00000273YqWAI/view...   70994.0   \n",
       "3254  /lightning/r/Contact/0036P000004Rl3nQAC/view?w...   68522.0   \n",
       "4340  /lightning/r/Task/00T6P00000HboKyUAJ/view?ws=%...   92596.0   \n",
       "\n",
       "      EFFECTIVE_PAGE_TIME USER_TYPE                       REPORT_INFO_DERIVED  \\\n",
       "890                   NaN  Standard  (Call_Transcript__c, a7Z2R000002Q33NUAS)   \n",
       "1843                  NaN  Standard              (Report, 00O0b000006iNwdEAE)   \n",
       "2363                  NaN  Standard           (WorkOrder, 0WO6P00000273YqWAI)   \n",
       "3254                  NaN  Standard             (Contact, 0036P000004Rl3nQAC)   \n",
       "4340                  NaN  Standard                (Task, 00T6P00000HboKyUAJ)   \n",
       "\n",
       "     REPORT_TYPE_DERIVED   REPORT_ID_DERIVED  \n",
       "890   Call_Transcript__c  a7Z2R000002Q33NUAS  \n",
       "1843              Report  00O0b000006iNwdEAE  \n",
       "2363           WorkOrder  0WO6P00000273YqWAI  \n",
       "3254             Contact  0036P000004Rl3nQAC  \n",
       "4340                Task  00T6P00000HboKyUAJ  "
      ]
     },
     "execution_count": 17,
     "metadata": {},
     "output_type": "execute_result"
    }
   ],
   "source": [
    "pageview_ept.head()"
   ]
  },
  {
   "cell_type": "markdown",
   "id": "0ffea365",
   "metadata": {},
   "source": [
    "## Merging to get active and problematic reports"
   ]
  },
  {
   "cell_type": "code",
   "execution_count": 18,
   "id": "0369ad7b",
   "metadata": {},
   "outputs": [],
   "source": [
    "active_and_problematic_reports  = pd.merge(left=active_reports, right=pageview_ept, \n",
    "                                           left_on=\"Id\", right_on=\"REPORT_ID_DERIVED\")"
   ]
  },
  {
   "cell_type": "code",
   "execution_count": 19,
   "id": "b0337377",
   "metadata": {},
   "outputs": [
    {
     "data": {
      "text/plain": [
       "(141455, 57)"
      ]
     },
     "execution_count": 19,
     "metadata": {},
     "output_type": "execute_result"
    }
   ],
   "source": [
    "active_and_problematic_reports.shape"
   ]
  },
  {
   "cell_type": "code",
   "execution_count": 20,
   "id": "4e32ab34",
   "metadata": {},
   "outputs": [
    {
     "data": {
      "text/html": [
       "<div>\n",
       "<style scoped>\n",
       "    .dataframe tbody tr th:only-of-type {\n",
       "        vertical-align: middle;\n",
       "    }\n",
       "\n",
       "    .dataframe tbody tr th {\n",
       "        vertical-align: top;\n",
       "    }\n",
       "\n",
       "    .dataframe thead th {\n",
       "        text-align: right;\n",
       "    }\n",
       "</style>\n",
       "<table border=\"1\" class=\"dataframe\">\n",
       "  <thead>\n",
       "    <tr style=\"text-align: right;\">\n",
       "      <th></th>\n",
       "      <th>CreatedById</th>\n",
       "      <th>CreatedDate</th>\n",
       "      <th>Description</th>\n",
       "      <th>DeveloperName</th>\n",
       "      <th>FolderName</th>\n",
       "      <th>Format</th>\n",
       "      <th>Id</th>\n",
       "      <th>IsDeleted</th>\n",
       "      <th>LastModifiedById</th>\n",
       "      <th>LastModifiedDate</th>\n",
       "      <th>...</th>\n",
       "      <th>REPORT_ID_DERIVED_x</th>\n",
       "      <th>ORIGIN</th>\n",
       "      <th>IsActive</th>\n",
       "      <th>PAGE_URL</th>\n",
       "      <th>DURATION</th>\n",
       "      <th>EFFECTIVE_PAGE_TIME</th>\n",
       "      <th>USER_TYPE_y</th>\n",
       "      <th>REPORT_INFO_DERIVED</th>\n",
       "      <th>REPORT_TYPE_DERIVED</th>\n",
       "      <th>REPORT_ID_DERIVED_y</th>\n",
       "    </tr>\n",
       "  </thead>\n",
       "  <tbody>\n",
       "    <tr>\n",
       "      <th>0</th>\n",
       "      <td>0050b000004QT9yAAG</td>\n",
       "      <td>2018-06-30T05:07:10.000Z</td>\n",
       "      <td>NaN</td>\n",
       "      <td>MyCases_with_Tasks</td>\n",
       "      <td>DELL Service Agent Reports</td>\n",
       "      <td>Tabular</td>\n",
       "      <td>00O0b000004kTazEAE</td>\n",
       "      <td>False</td>\n",
       "      <td>0050b000005Jf0WAAS</td>\n",
       "      <td>2022-05-30T22:38:26.000</td>\n",
       "      <td>...</td>\n",
       "      <td>00O0b000004kTazEAE</td>\n",
       "      <td>ReportRunFromLightning</td>\n",
       "      <td>True</td>\n",
       "      <td>/lightning/r/Report/00O0b000004kTazEAE/view?qu...</td>\n",
       "      <td>60051.0</td>\n",
       "      <td>NaN</td>\n",
       "      <td>Standard</td>\n",
       "      <td>(Report, 00O0b000004kTazEAE)</td>\n",
       "      <td>Report</td>\n",
       "      <td>00O0b000004kTazEAE</td>\n",
       "    </tr>\n",
       "    <tr>\n",
       "      <th>1</th>\n",
       "      <td>0050b000004QT9yAAG</td>\n",
       "      <td>2018-06-30T05:07:10.000Z</td>\n",
       "      <td>NaN</td>\n",
       "      <td>MyCases_with_Tasks</td>\n",
       "      <td>DELL Service Agent Reports</td>\n",
       "      <td>Tabular</td>\n",
       "      <td>00O0b000004kTazEAE</td>\n",
       "      <td>False</td>\n",
       "      <td>0050b000005Jf0WAAS</td>\n",
       "      <td>2022-05-30T22:38:26.000</td>\n",
       "      <td>...</td>\n",
       "      <td>00O0b000004kTazEAE</td>\n",
       "      <td>ReportRunFromLightning</td>\n",
       "      <td>True</td>\n",
       "      <td>/lightning/r/Report/00O0b000004kTazEAE/view?qu...</td>\n",
       "      <td>61267.0</td>\n",
       "      <td>NaN</td>\n",
       "      <td>Standard</td>\n",
       "      <td>(Report, 00O0b000004kTazEAE)</td>\n",
       "      <td>Report</td>\n",
       "      <td>00O0b000004kTazEAE</td>\n",
       "    </tr>\n",
       "    <tr>\n",
       "      <th>2</th>\n",
       "      <td>0050b000004QT9yAAG</td>\n",
       "      <td>2018-06-30T05:07:10.000Z</td>\n",
       "      <td>NaN</td>\n",
       "      <td>MyCases_with_Tasks</td>\n",
       "      <td>DELL Service Agent Reports</td>\n",
       "      <td>Tabular</td>\n",
       "      <td>00O0b000004kTazEAE</td>\n",
       "      <td>False</td>\n",
       "      <td>0050b000005Jf0WAAS</td>\n",
       "      <td>2022-05-30T22:38:26.000</td>\n",
       "      <td>...</td>\n",
       "      <td>00O0b000004kTazEAE</td>\n",
       "      <td>ReportRunFromLightning</td>\n",
       "      <td>True</td>\n",
       "      <td>/lightning/r/Report/00O0b000004kTazEAE/view</td>\n",
       "      <td>333616.0</td>\n",
       "      <td>NaN</td>\n",
       "      <td>Standard</td>\n",
       "      <td>(Report, 00O0b000004kTazEAE)</td>\n",
       "      <td>Report</td>\n",
       "      <td>00O0b000004kTazEAE</td>\n",
       "    </tr>\n",
       "    <tr>\n",
       "      <th>3</th>\n",
       "      <td>0050b000004QT9yAAG</td>\n",
       "      <td>2018-06-30T05:07:10.000Z</td>\n",
       "      <td>NaN</td>\n",
       "      <td>MyCases_with_Tasks</td>\n",
       "      <td>DELL Service Agent Reports</td>\n",
       "      <td>Tabular</td>\n",
       "      <td>00O0b000004kTazEAE</td>\n",
       "      <td>False</td>\n",
       "      <td>0050b000005Jf0WAAS</td>\n",
       "      <td>2022-05-30T22:38:26.000</td>\n",
       "      <td>...</td>\n",
       "      <td>00O0b000004kTazEAE</td>\n",
       "      <td>ReportRunFromLightning</td>\n",
       "      <td>True</td>\n",
       "      <td>/lightning/r/Report/00O0b000004kTazEAE/view</td>\n",
       "      <td>112760.0</td>\n",
       "      <td>NaN</td>\n",
       "      <td>Standard</td>\n",
       "      <td>(Report, 00O0b000004kTazEAE)</td>\n",
       "      <td>Report</td>\n",
       "      <td>00O0b000004kTazEAE</td>\n",
       "    </tr>\n",
       "    <tr>\n",
       "      <th>4</th>\n",
       "      <td>0050b000004QT9yAAG</td>\n",
       "      <td>2018-06-30T05:07:10.000Z</td>\n",
       "      <td>NaN</td>\n",
       "      <td>MyCases_with_Tasks</td>\n",
       "      <td>DELL Service Agent Reports</td>\n",
       "      <td>Tabular</td>\n",
       "      <td>00O0b000004kTazEAE</td>\n",
       "      <td>False</td>\n",
       "      <td>0050b000005Jf0WAAS</td>\n",
       "      <td>2022-05-30T22:38:26.000</td>\n",
       "      <td>...</td>\n",
       "      <td>00O0b000004kTazEAE</td>\n",
       "      <td>ReportRunFromLightning</td>\n",
       "      <td>True</td>\n",
       "      <td>/lightning/r/Report/00O0b000004kTazEAE/view?qu...</td>\n",
       "      <td>62413.0</td>\n",
       "      <td>NaN</td>\n",
       "      <td>Standard</td>\n",
       "      <td>(Report, 00O0b000004kTazEAE)</td>\n",
       "      <td>Report</td>\n",
       "      <td>00O0b000004kTazEAE</td>\n",
       "    </tr>\n",
       "  </tbody>\n",
       "</table>\n",
       "<p>5 rows × 57 columns</p>\n",
       "</div>"
      ],
      "text/plain": [
       "          CreatedById               CreatedDate Description  \\\n",
       "0  0050b000004QT9yAAG  2018-06-30T05:07:10.000Z         NaN   \n",
       "1  0050b000004QT9yAAG  2018-06-30T05:07:10.000Z         NaN   \n",
       "2  0050b000004QT9yAAG  2018-06-30T05:07:10.000Z         NaN   \n",
       "3  0050b000004QT9yAAG  2018-06-30T05:07:10.000Z         NaN   \n",
       "4  0050b000004QT9yAAG  2018-06-30T05:07:10.000Z         NaN   \n",
       "\n",
       "        DeveloperName                  FolderName   Format  \\\n",
       "0  MyCases_with_Tasks  DELL Service Agent Reports  Tabular   \n",
       "1  MyCases_with_Tasks  DELL Service Agent Reports  Tabular   \n",
       "2  MyCases_with_Tasks  DELL Service Agent Reports  Tabular   \n",
       "3  MyCases_with_Tasks  DELL Service Agent Reports  Tabular   \n",
       "4  MyCases_with_Tasks  DELL Service Agent Reports  Tabular   \n",
       "\n",
       "                   Id  IsDeleted    LastModifiedById         LastModifiedDate  \\\n",
       "0  00O0b000004kTazEAE      False  0050b000005Jf0WAAS  2022-05-30T22:38:26.000   \n",
       "1  00O0b000004kTazEAE      False  0050b000005Jf0WAAS  2022-05-30T22:38:26.000   \n",
       "2  00O0b000004kTazEAE      False  0050b000005Jf0WAAS  2022-05-30T22:38:26.000   \n",
       "3  00O0b000004kTazEAE      False  0050b000005Jf0WAAS  2022-05-30T22:38:26.000   \n",
       "4  00O0b000004kTazEAE      False  0050b000005Jf0WAAS  2022-05-30T22:38:26.000   \n",
       "\n",
       "   ... REPORT_ID_DERIVED_x                  ORIGIN IsActive  \\\n",
       "0  ...  00O0b000004kTazEAE  ReportRunFromLightning     True   \n",
       "1  ...  00O0b000004kTazEAE  ReportRunFromLightning     True   \n",
       "2  ...  00O0b000004kTazEAE  ReportRunFromLightning     True   \n",
       "3  ...  00O0b000004kTazEAE  ReportRunFromLightning     True   \n",
       "4  ...  00O0b000004kTazEAE  ReportRunFromLightning     True   \n",
       "\n",
       "                                            PAGE_URL  DURATION  \\\n",
       "0  /lightning/r/Report/00O0b000004kTazEAE/view?qu...   60051.0   \n",
       "1  /lightning/r/Report/00O0b000004kTazEAE/view?qu...   61267.0   \n",
       "2        /lightning/r/Report/00O0b000004kTazEAE/view  333616.0   \n",
       "3        /lightning/r/Report/00O0b000004kTazEAE/view  112760.0   \n",
       "4  /lightning/r/Report/00O0b000004kTazEAE/view?qu...   62413.0   \n",
       "\n",
       "  EFFECTIVE_PAGE_TIME USER_TYPE_y           REPORT_INFO_DERIVED  \\\n",
       "0                 NaN    Standard  (Report, 00O0b000004kTazEAE)   \n",
       "1                 NaN    Standard  (Report, 00O0b000004kTazEAE)   \n",
       "2                 NaN    Standard  (Report, 00O0b000004kTazEAE)   \n",
       "3                 NaN    Standard  (Report, 00O0b000004kTazEAE)   \n",
       "4                 NaN    Standard  (Report, 00O0b000004kTazEAE)   \n",
       "\n",
       "  REPORT_TYPE_DERIVED  REPORT_ID_DERIVED_y  \n",
       "0              Report   00O0b000004kTazEAE  \n",
       "1              Report   00O0b000004kTazEAE  \n",
       "2              Report   00O0b000004kTazEAE  \n",
       "3              Report   00O0b000004kTazEAE  \n",
       "4              Report   00O0b000004kTazEAE  \n",
       "\n",
       "[5 rows x 57 columns]"
      ]
     },
     "execution_count": 20,
     "metadata": {},
     "output_type": "execute_result"
    }
   ],
   "source": [
    "active_and_problematic_reports.head()"
   ]
  },
  {
   "cell_type": "markdown",
   "id": "fef21b98",
   "metadata": {},
   "source": [
    "Removing useless columns"
   ]
  },
  {
   "cell_type": "code",
   "execution_count": 21,
   "id": "3de09b34",
   "metadata": {},
   "outputs": [
    {
     "data": {
      "text/plain": [
       "['CreatedById',\n",
       " 'CreatedDate',\n",
       " 'Description',\n",
       " 'DeveloperName',\n",
       " 'FolderName',\n",
       " 'Format',\n",
       " 'Id',\n",
       " 'IsDeleted',\n",
       " 'LastModifiedById',\n",
       " 'LastModifiedDate',\n",
       " 'LastReferencedDate',\n",
       " 'LastRunDate',\n",
       " 'LastViewedDate',\n",
       " 'Name',\n",
       " 'NamespacePrefix',\n",
       " 'OwnerId',\n",
       " 'ReportTypeApiName',\n",
       " 'SystemModstamp',\n",
       " 'EVENT_TYPE',\n",
       " 'TIMESTAMP',\n",
       " 'REQUEST_ID',\n",
       " 'ORGANIZATION_ID',\n",
       " 'USER_ID',\n",
       " 'RUN_TIME',\n",
       " 'CPU_TIME',\n",
       " 'URI',\n",
       " 'SESSION_KEY',\n",
       " 'LOGIN_KEY',\n",
       " 'USER_TYPE_x',\n",
       " 'REQUEST_STATUS',\n",
       " 'DB_TOTAL_TIME',\n",
       " 'ENTITY_NAME',\n",
       " 'DISPLAY_TYPE',\n",
       " 'RENDERING_TYPE',\n",
       " 'REPORT_ID',\n",
       " 'ROW_COUNT',\n",
       " 'NUMBER_EXCEPTION_FILTERS',\n",
       " 'NUMBER_COLUMNS',\n",
       " 'AVERAGE_ROW_SIZE',\n",
       " 'SORT',\n",
       " 'DB_BLOCKS',\n",
       " 'DB_CPU_TIME',\n",
       " 'NUMBER_BUCKETS',\n",
       " 'TIMESTAMP_DERIVED',\n",
       " 'USER_ID_DERIVED',\n",
       " 'CLIENT_IP',\n",
       " 'URI_ID_DERIVED',\n",
       " 'REPORT_ID_DERIVED_x',\n",
       " 'ORIGIN',\n",
       " 'IsActive',\n",
       " 'PAGE_URL',\n",
       " 'DURATION',\n",
       " 'EFFECTIVE_PAGE_TIME',\n",
       " 'USER_TYPE_y',\n",
       " 'REPORT_INFO_DERIVED',\n",
       " 'REPORT_TYPE_DERIVED',\n",
       " 'REPORT_ID_DERIVED_y']"
      ]
     },
     "execution_count": 21,
     "metadata": {},
     "output_type": "execute_result"
    }
   ],
   "source": [
    "list(active_and_problematic_reports.columns)"
   ]
  },
  {
   "cell_type": "code",
   "execution_count": 22,
   "id": "a67c9c64",
   "metadata": {},
   "outputs": [],
   "source": [
    "active_and_problematic_reports = active_and_problematic_reports.drop(columns=[\n",
    "    'CreatedById', 'CreatedDate', 'Description', 'DeveloperName', 'FolderName', \n",
    "    'Format', 'Id', 'IsDeleted', \n",
    "    'LastModifiedById', 'LastModifiedDate', 'LastReferencedDate', 'LastRunDate', 'LastViewedDate',\n",
    "    'NamespacePrefix', 'OwnerId', 'ReportTypeApiName', \n",
    "    'SystemModstamp', 'EVENT_TYPE', 'TIMESTAMP', \n",
    "    'REQUEST_ID', 'ORGANIZATION_ID', 'USER_ID',\n",
    "    'RUN_TIME', 'CPU_TIME', 'URI', \n",
    "    'SESSION_KEY', 'LOGIN_KEY',\n",
    "    'DB_TOTAL_TIME', 'ENTITY_NAME', \n",
    "    'DISPLAY_TYPE', 'RENDERING_TYPE', \n",
    "    'REPORT_ID', 'ROW_COUNT', \n",
    "    'NUMBER_EXCEPTION_FILTERS', 'NUMBER_COLUMNS', 'AVERAGE_ROW_SIZE', 'SORT', \n",
    "    'DB_BLOCKS', 'DB_CPU_TIME', \n",
    "    'NUMBER_BUCKETS', 'TIMESTAMP_DERIVED', 'USER_ID_DERIVED', \n",
    "    'CLIENT_IP', 'URI_ID_DERIVED',\n",
    "    'IsActive',\n",
    "    'PAGE_URL', 'DURATION', 'EFFECTIVE_PAGE_TIME', \n",
    "    'REPORT_INFO_DERIVED', 'REPORT_TYPE_DERIVED',\n",
    "    'USER_TYPE_y', 'REPORT_ID_DERIVED_y'\n",
    "])"
   ]
  },
  {
   "cell_type": "code",
   "execution_count": 23,
   "id": "2c46c5dc",
   "metadata": {},
   "outputs": [
    {
     "data": {
      "text/html": [
       "<div>\n",
       "<style scoped>\n",
       "    .dataframe tbody tr th:only-of-type {\n",
       "        vertical-align: middle;\n",
       "    }\n",
       "\n",
       "    .dataframe tbody tr th {\n",
       "        vertical-align: top;\n",
       "    }\n",
       "\n",
       "    .dataframe thead th {\n",
       "        text-align: right;\n",
       "    }\n",
       "</style>\n",
       "<table border=\"1\" class=\"dataframe\">\n",
       "  <thead>\n",
       "    <tr style=\"text-align: right;\">\n",
       "      <th></th>\n",
       "      <th>Name</th>\n",
       "      <th>USER_TYPE_x</th>\n",
       "      <th>REQUEST_STATUS</th>\n",
       "      <th>REPORT_ID_DERIVED_x</th>\n",
       "      <th>ORIGIN</th>\n",
       "    </tr>\n",
       "  </thead>\n",
       "  <tbody>\n",
       "    <tr>\n",
       "      <th>0</th>\n",
       "      <td>My Cases and Tasks</td>\n",
       "      <td>Standard</td>\n",
       "      <td>NaN</td>\n",
       "      <td>00O0b000004kTazEAE</td>\n",
       "      <td>ReportRunFromLightning</td>\n",
       "    </tr>\n",
       "    <tr>\n",
       "      <th>1</th>\n",
       "      <td>My Cases and Tasks</td>\n",
       "      <td>Standard</td>\n",
       "      <td>NaN</td>\n",
       "      <td>00O0b000004kTazEAE</td>\n",
       "      <td>ReportRunFromLightning</td>\n",
       "    </tr>\n",
       "    <tr>\n",
       "      <th>2</th>\n",
       "      <td>My Cases and Tasks</td>\n",
       "      <td>Standard</td>\n",
       "      <td>NaN</td>\n",
       "      <td>00O0b000004kTazEAE</td>\n",
       "      <td>ReportRunFromLightning</td>\n",
       "    </tr>\n",
       "    <tr>\n",
       "      <th>3</th>\n",
       "      <td>My Cases and Tasks</td>\n",
       "      <td>Standard</td>\n",
       "      <td>NaN</td>\n",
       "      <td>00O0b000004kTazEAE</td>\n",
       "      <td>ReportRunFromLightning</td>\n",
       "    </tr>\n",
       "    <tr>\n",
       "      <th>4</th>\n",
       "      <td>My Cases and Tasks</td>\n",
       "      <td>Standard</td>\n",
       "      <td>NaN</td>\n",
       "      <td>00O0b000004kTazEAE</td>\n",
       "      <td>ReportRunFromLightning</td>\n",
       "    </tr>\n",
       "  </tbody>\n",
       "</table>\n",
       "</div>"
      ],
      "text/plain": [
       "                 Name USER_TYPE_x  REQUEST_STATUS REPORT_ID_DERIVED_x  \\\n",
       "0  My Cases and Tasks    Standard             NaN  00O0b000004kTazEAE   \n",
       "1  My Cases and Tasks    Standard             NaN  00O0b000004kTazEAE   \n",
       "2  My Cases and Tasks    Standard             NaN  00O0b000004kTazEAE   \n",
       "3  My Cases and Tasks    Standard             NaN  00O0b000004kTazEAE   \n",
       "4  My Cases and Tasks    Standard             NaN  00O0b000004kTazEAE   \n",
       "\n",
       "                   ORIGIN  \n",
       "0  ReportRunFromLightning  \n",
       "1  ReportRunFromLightning  \n",
       "2  ReportRunFromLightning  \n",
       "3  ReportRunFromLightning  \n",
       "4  ReportRunFromLightning  "
      ]
     },
     "execution_count": 23,
     "metadata": {},
     "output_type": "execute_result"
    }
   ],
   "source": [
    "active_and_problematic_reports.head()"
   ]
  },
  {
   "cell_type": "markdown",
   "id": "8eb0f26e",
   "metadata": {},
   "source": [
    "Renaming ***USER_TYPE_x*** and ***REPORT_ID_DERIVED_x*** columns"
   ]
  },
  {
   "cell_type": "code",
   "execution_count": 24,
   "id": "e3102a3b",
   "metadata": {},
   "outputs": [],
   "source": [
    "active_and_problematic_reports.rename(columns={'USER_TYPE_x': 'USER_TYPE'}, inplace = True)"
   ]
  },
  {
   "cell_type": "code",
   "execution_count": 25,
   "id": "7b7a4e89",
   "metadata": {},
   "outputs": [],
   "source": [
    "active_and_problematic_reports.rename(columns={'REPORT_ID_DERIVED_x': 'REPORT_ID_DERIVED'}, inplace = True)"
   ]
  },
  {
   "cell_type": "code",
   "execution_count": 26,
   "id": "656e04b3",
   "metadata": {},
   "outputs": [
    {
     "data": {
      "text/html": [
       "<div>\n",
       "<style scoped>\n",
       "    .dataframe tbody tr th:only-of-type {\n",
       "        vertical-align: middle;\n",
       "    }\n",
       "\n",
       "    .dataframe tbody tr th {\n",
       "        vertical-align: top;\n",
       "    }\n",
       "\n",
       "    .dataframe thead th {\n",
       "        text-align: right;\n",
       "    }\n",
       "</style>\n",
       "<table border=\"1\" class=\"dataframe\">\n",
       "  <thead>\n",
       "    <tr style=\"text-align: right;\">\n",
       "      <th></th>\n",
       "      <th>Name</th>\n",
       "      <th>USER_TYPE</th>\n",
       "      <th>REQUEST_STATUS</th>\n",
       "      <th>REPORT_ID_DERIVED</th>\n",
       "      <th>ORIGIN</th>\n",
       "    </tr>\n",
       "  </thead>\n",
       "  <tbody>\n",
       "    <tr>\n",
       "      <th>0</th>\n",
       "      <td>My Cases and Tasks</td>\n",
       "      <td>Standard</td>\n",
       "      <td>NaN</td>\n",
       "      <td>00O0b000004kTazEAE</td>\n",
       "      <td>ReportRunFromLightning</td>\n",
       "    </tr>\n",
       "    <tr>\n",
       "      <th>1</th>\n",
       "      <td>My Cases and Tasks</td>\n",
       "      <td>Standard</td>\n",
       "      <td>NaN</td>\n",
       "      <td>00O0b000004kTazEAE</td>\n",
       "      <td>ReportRunFromLightning</td>\n",
       "    </tr>\n",
       "    <tr>\n",
       "      <th>2</th>\n",
       "      <td>My Cases and Tasks</td>\n",
       "      <td>Standard</td>\n",
       "      <td>NaN</td>\n",
       "      <td>00O0b000004kTazEAE</td>\n",
       "      <td>ReportRunFromLightning</td>\n",
       "    </tr>\n",
       "    <tr>\n",
       "      <th>3</th>\n",
       "      <td>My Cases and Tasks</td>\n",
       "      <td>Standard</td>\n",
       "      <td>NaN</td>\n",
       "      <td>00O0b000004kTazEAE</td>\n",
       "      <td>ReportRunFromLightning</td>\n",
       "    </tr>\n",
       "    <tr>\n",
       "      <th>4</th>\n",
       "      <td>My Cases and Tasks</td>\n",
       "      <td>Standard</td>\n",
       "      <td>NaN</td>\n",
       "      <td>00O0b000004kTazEAE</td>\n",
       "      <td>ReportRunFromLightning</td>\n",
       "    </tr>\n",
       "  </tbody>\n",
       "</table>\n",
       "</div>"
      ],
      "text/plain": [
       "                 Name USER_TYPE  REQUEST_STATUS   REPORT_ID_DERIVED  \\\n",
       "0  My Cases and Tasks  Standard             NaN  00O0b000004kTazEAE   \n",
       "1  My Cases and Tasks  Standard             NaN  00O0b000004kTazEAE   \n",
       "2  My Cases and Tasks  Standard             NaN  00O0b000004kTazEAE   \n",
       "3  My Cases and Tasks  Standard             NaN  00O0b000004kTazEAE   \n",
       "4  My Cases and Tasks  Standard             NaN  00O0b000004kTazEAE   \n",
       "\n",
       "                   ORIGIN  \n",
       "0  ReportRunFromLightning  \n",
       "1  ReportRunFromLightning  \n",
       "2  ReportRunFromLightning  \n",
       "3  ReportRunFromLightning  \n",
       "4  ReportRunFromLightning  "
      ]
     },
     "execution_count": 26,
     "metadata": {},
     "output_type": "execute_result"
    }
   ],
   "source": [
    "active_and_problematic_reports.head()"
   ]
  },
  {
   "cell_type": "markdown",
   "id": "d0583526",
   "metadata": {},
   "source": [
    "Checking ***Origin*** and ***Request_Status***"
   ]
  },
  {
   "cell_type": "code",
   "execution_count": 27,
   "id": "c25adae3",
   "metadata": {},
   "outputs": [
    {
     "data": {
      "text/plain": [
       "array(['ReportRunFromLightning'], dtype=object)"
      ]
     },
     "execution_count": 27,
     "metadata": {},
     "output_type": "execute_result"
    }
   ],
   "source": [
    "active_and_problematic_reports['ORIGIN'].unique()"
   ]
  },
  {
   "cell_type": "code",
   "execution_count": 28,
   "id": "3574c912",
   "metadata": {},
   "outputs": [
    {
     "data": {
      "text/plain": [
       "array([nan])"
      ]
     },
     "execution_count": 28,
     "metadata": {},
     "output_type": "execute_result"
    }
   ],
   "source": [
    "active_and_problematic_reports['REQUEST_STATUS'].unique()"
   ]
  },
  {
   "cell_type": "code",
   "execution_count": 29,
   "id": "53377f03",
   "metadata": {},
   "outputs": [],
   "source": [
    "# active_and_problematic_reports = active_and_problematic_reports[\n",
    "#     active_and_problematic_reports.REQUEST_STATUS == \"Success\"]"
   ]
  },
  {
   "cell_type": "markdown",
   "id": "c3e5a369",
   "metadata": {},
   "source": [
    "### Alalyzing ***User_Type***"
   ]
  },
  {
   "cell_type": "code",
   "execution_count": 30,
   "id": "a2c6b9d7",
   "metadata": {},
   "outputs": [
    {
     "data": {
      "text/plain": [
       "array(['Standard'], dtype=object)"
      ]
     },
     "execution_count": 30,
     "metadata": {},
     "output_type": "execute_result"
    }
   ],
   "source": [
    "active_and_problematic_reports['USER_TYPE'].unique()"
   ]
  },
  {
   "cell_type": "markdown",
   "id": "315d03b7",
   "metadata": {},
   "source": [
    "Data don't have enough information/diversity to analyze"
   ]
  },
  {
   "cell_type": "markdown",
   "id": "2023ba60",
   "metadata": {},
   "source": [
    "### Analyzing ***Name***"
   ]
  },
  {
   "cell_type": "code",
   "execution_count": 31,
   "id": "d17c89a0",
   "metadata": {},
   "outputs": [],
   "source": [
    "active_and_problematic_reports_group = active_and_problematic_reports.groupby(['Name']).agg({'ORIGIN': 'count'})"
   ]
  },
  {
   "cell_type": "code",
   "execution_count": 32,
   "id": "1baf2b1d",
   "metadata": {},
   "outputs": [],
   "source": [
    "active_and_problematic_reports_group.reset_index(inplace=True)"
   ]
  },
  {
   "cell_type": "code",
   "execution_count": 33,
   "id": "cc4fe28f",
   "metadata": {},
   "outputs": [],
   "source": [
    "active_and_problematic_reports_group.rename(columns={'ORIGIN': 'Count'}, inplace = True)"
   ]
  },
  {
   "cell_type": "code",
   "execution_count": 34,
   "id": "406861b5",
   "metadata": {},
   "outputs": [
    {
     "data": {
      "text/html": [
       "<div>\n",
       "<style scoped>\n",
       "    .dataframe tbody tr th:only-of-type {\n",
       "        vertical-align: middle;\n",
       "    }\n",
       "\n",
       "    .dataframe tbody tr th {\n",
       "        vertical-align: top;\n",
       "    }\n",
       "\n",
       "    .dataframe thead th {\n",
       "        text-align: right;\n",
       "    }\n",
       "</style>\n",
       "<table border=\"1\" class=\"dataframe\">\n",
       "  <thead>\n",
       "    <tr style=\"text-align: right;\">\n",
       "      <th></th>\n",
       "      <th>Name</th>\n",
       "      <th>Count</th>\n",
       "    </tr>\n",
       "  </thead>\n",
       "  <tbody>\n",
       "    <tr>\n",
       "      <th>0</th>\n",
       "      <td>Agent Timesheet_Omni</td>\n",
       "      <td>915</td>\n",
       "    </tr>\n",
       "    <tr>\n",
       "      <th>1</th>\n",
       "      <td>Byrd Manual Time Tracking - FW Trending</td>\n",
       "      <td>2</td>\n",
       "    </tr>\n",
       "    <tr>\n",
       "      <th>2</th>\n",
       "      <td>GAM Backlog</td>\n",
       "      <td>16</td>\n",
       "    </tr>\n",
       "    <tr>\n",
       "      <th>3</th>\n",
       "      <td>My Cases and Tasks</td>\n",
       "      <td>140425</td>\n",
       "    </tr>\n",
       "    <tr>\n",
       "      <th>4</th>\n",
       "      <td>NCC Monitor _ RCM</td>\n",
       "      <td>97</td>\n",
       "    </tr>\n",
       "  </tbody>\n",
       "</table>\n",
       "</div>"
      ],
      "text/plain": [
       "                                      Name   Count\n",
       "0                     Agent Timesheet_Omni     915\n",
       "1  Byrd Manual Time Tracking - FW Trending       2\n",
       "2                              GAM Backlog      16\n",
       "3                       My Cases and Tasks  140425\n",
       "4                        NCC Monitor _ RCM      97"
      ]
     },
     "execution_count": 34,
     "metadata": {},
     "output_type": "execute_result"
    }
   ],
   "source": [
    "active_and_problematic_reports_group"
   ]
  },
  {
   "cell_type": "code",
   "execution_count": 36,
   "id": "11636e20",
   "metadata": {},
   "outputs": [
    {
     "name": "stdout",
     "output_type": "stream",
     "text": [
      "['Agent Timesheet_Omni', 'Byrd Manual Time Tracking - FW Trending', 'GAM Backlog', 'My Cases and Tasks', 'NCC Monitor _ RCM'] [915, 2, 16, 140425, 97]\n"
     ]
    }
   ],
   "source": [
    "list_name = active_and_problematic_reports_group['Name'].tolist()\n",
    "list_count = active_and_problematic_reports_group['Count'].tolist()\n",
    "print(list_name, list_count)"
   ]
  },
  {
   "cell_type": "code",
   "execution_count": 70,
   "id": "7456c681",
   "metadata": {},
   "outputs": [
    {
     "data": {
      "image/png": "[encoded data removed]",
      "text/plain": [
       "<Figure size 720x504 with 1 Axes>"
      ]
     },
     "metadata": {},
     "output_type": "display_data"
    }
   ],
   "source": [
    "import numpy as np \n",
    "import matplotlib.pyplot as plt \n",
    "  \n",
    "explode = (0.2, 0.0, 0.0, 0.0, 0.0) \n",
    "colors = ( \"#3FAA59\", \"cyan\", \"indigo\", \n",
    "          \"#E54E35\", \"grey\") \n",
    "wp = { 'linewidth' : 1, 'edgecolor' : \"white\" } \n",
    "def func(pct, allvalues): \n",
    "    absolute = int(pct / 100.*np.sum(allvalues)) \n",
    "    return \"{:.1f}%\\n({:d} g)\".format(pct, absolute) \n",
    "fig, ax = plt.subplots(figsize =(10, 7)) \n",
    "wedges, texts, autotexts = ax.pie(list_count,  \n",
    "                                  autopct = lambda pct: func(pct, list_count), \n",
    "                                  explode = explode,  \n",
    "                                  shadow = True, \n",
    "                                  colors = colors, \n",
    "                                  startangle = 90, \n",
    "                                  wedgeprops = wp, \n",
    "                                  textprops = dict(color =\"black\")) \n",
    "ax.legend(wedges, list_name, \n",
    "          title =\"Cars\", \n",
    "          loc =\"center left\", \n",
    "          bbox_to_anchor =(1, 0, 0.5, 1)) \n",
    "  \n",
    "plt.setp(autotexts, size = 8, weight =\"bold\") \n",
    "ax.set_title(\"Names\") \n",
    "plt.show() "
   ]
  }
 ],
 "metadata": {
  "kernelspec": {
   "display_name": "Python 3 (ipykernel)",
   "language": "python",
   "name": "python3"
  },
  "language_info": {
   "codemirror_mode": {
    "name": "ipython",
    "version": 3
   },
   "file_extension": ".py",
   "mimetype": "text/x-python",
   "name": "python",
   "nbconvert_exporter": "python",
   "pygments_lexer": "ipython3",
   "version": "3.9.12"
  }
 },
 "nbformat": 4,
 "nbformat_minor": 5
}
