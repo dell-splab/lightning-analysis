{
 "cells": [
  {
   "cell_type": "code",
   "execution_count": 1,
   "id": "89fad0b5",
   "metadata": {},
   "outputs": [],
   "source": [
    "import pandas as pd"
   ]
  },
  {
   "cell_type": "code",
   "execution_count": 2,
   "id": "3da362ff",
   "metadata": {},
   "outputs": [],
   "source": [
    "lightning_page_view = pd.read_csv(\"data/lightning sample/lightning pageview sample/2022-06-04_LightningPageView.csv\", low_memory=False)"
   ]
  },
  {
   "cell_type": "code",
   "execution_count": 3,
   "id": "cd7a24bf",
   "metadata": {},
   "outputs": [
    {
     "data": {
      "text/plain": [
       "(792349, 50)"
      ]
     },
     "execution_count": 3,
     "metadata": {},
     "output_type": "execute_result"
    }
   ],
   "source": [
    "lightning_page_view.shape"
   ]
  },
  {
   "cell_type": "code",
   "execution_count": 4,
   "id": "cd13a497",
   "metadata": {},
   "outputs": [
    {
     "data": {
      "text/plain": [
       "['EVENT_TYPE',\n",
       " 'TIMESTAMP',\n",
       " 'REQUEST_ID',\n",
       " 'ORGANIZATION_ID',\n",
       " 'USER_ID',\n",
       " 'CLIENT_ID',\n",
       " 'SESSION_KEY',\n",
       " 'LOGIN_KEY',\n",
       " 'USER_TYPE',\n",
       " 'APP_NAME',\n",
       " 'DEVICE_PLATFORM',\n",
       " 'SDK_APP_VERSION',\n",
       " 'OS_NAME',\n",
       " 'OS_VERSION',\n",
       " 'USER_AGENT',\n",
       " 'BROWSER_NAME',\n",
       " 'BROWSER_VERSION',\n",
       " 'SDK_VERSION',\n",
       " 'DEVICE_MODEL',\n",
       " 'DEVICE_ID',\n",
       " 'SDK_APP_TYPE',\n",
       " 'CLIENT_GEO',\n",
       " 'CONNECTION_TYPE',\n",
       " 'UI_EVENT_ID',\n",
       " 'UI_EVENT_SOURCE',\n",
       " 'UI_EVENT_TIMESTAMP',\n",
       " 'PAGE_START_TIME',\n",
       " 'DURATION',\n",
       " 'EFFECTIVE_PAGE_TIME_DEVIATION',\n",
       " 'EFFECTIVE_PAGE_TIME_DEVIATION_REASON',\n",
       " 'EFFECTIVE_PAGE_TIME_DEVIATION_ERROR_TYPE',\n",
       " 'EFFECTIVE_PAGE_TIME',\n",
       " 'DEVICE_SESSION_ID',\n",
       " 'UI_EVENT_SEQUENCE_NUM',\n",
       " 'PAGE_ENTITY_ID',\n",
       " 'PAGE_ENTITY_TYPE',\n",
       " 'PAGE_CONTEXT',\n",
       " 'PAGE_URL',\n",
       " 'PAGE_APP_NAME',\n",
       " 'PREVPAGE_ENTITY_ID',\n",
       " 'PREVPAGE_ENTITY_TYPE',\n",
       " 'PREVPAGE_CONTEXT',\n",
       " 'PREVPAGE_URL',\n",
       " 'PREVPAGE_APP_NAME',\n",
       " 'TARGET_UI_ELEMENT',\n",
       " 'PARENT_UI_ELEMENT',\n",
       " 'GRANDPARENT_UI_ELEMENT',\n",
       " 'TIMESTAMP_DERIVED',\n",
       " 'USER_ID_DERIVED',\n",
       " 'CLIENT_IP']"
      ]
     },
     "execution_count": 4,
     "metadata": {},
     "output_type": "execute_result"
    }
   ],
   "source": [
    "list(lightning_page_view.columns)"
   ]
  },
  {
   "cell_type": "code",
   "execution_count": 5,
   "id": "16ba7299",
   "metadata": {},
   "outputs": [],
   "source": [
    "active_reports = pd.read_csv(\"datasets/active_reports.csv\")"
   ]
  },
  {
   "cell_type": "code",
   "execution_count": 6,
   "id": "670258c6",
   "metadata": {},
   "outputs": [
    {
     "data": {
      "text/plain": [
       "(7101, 50)"
      ]
     },
     "execution_count": 6,
     "metadata": {},
     "output_type": "execute_result"
    }
   ],
   "source": [
    "active_reports.shape"
   ]
  },
  {
   "cell_type": "code",
   "execution_count": 7,
   "id": "04e2f491",
   "metadata": {},
   "outputs": [
    {
     "data": {
      "text/plain": [
       "['CreatedById',\n",
       " 'CreatedDate',\n",
       " 'Description',\n",
       " 'DeveloperName',\n",
       " 'FolderName',\n",
       " 'Format',\n",
       " 'Id',\n",
       " 'IsDeleted',\n",
       " 'LastModifiedById',\n",
       " 'LastModifiedDate',\n",
       " 'LastReferencedDate',\n",
       " 'LastRunDate',\n",
       " 'LastViewedDate',\n",
       " 'Name',\n",
       " 'NamespacePrefix',\n",
       " 'OwnerId',\n",
       " 'ReportTypeApiName',\n",
       " 'SystemModstamp',\n",
       " 'EVENT_TYPE',\n",
       " 'TIMESTAMP',\n",
       " 'REQUEST_ID',\n",
       " 'ORGANIZATION_ID',\n",
       " 'USER_ID',\n",
       " 'RUN_TIME',\n",
       " 'CPU_TIME',\n",
       " 'URI',\n",
       " 'SESSION_KEY',\n",
       " 'LOGIN_KEY',\n",
       " 'USER_TYPE',\n",
       " 'REQUEST_STATUS',\n",
       " 'DB_TOTAL_TIME',\n",
       " 'ENTITY_NAME',\n",
       " 'DISPLAY_TYPE',\n",
       " 'RENDERING_TYPE',\n",
       " 'REPORT_ID',\n",
       " 'ROW_COUNT',\n",
       " 'NUMBER_EXCEPTION_FILTERS',\n",
       " 'NUMBER_COLUMNS',\n",
       " 'AVERAGE_ROW_SIZE',\n",
       " 'SORT',\n",
       " 'DB_BLOCKS',\n",
       " 'DB_CPU_TIME',\n",
       " 'NUMBER_BUCKETS',\n",
       " 'TIMESTAMP_DERIVED',\n",
       " 'USER_ID_DERIVED',\n",
       " 'CLIENT_IP',\n",
       " 'URI_ID_DERIVED',\n",
       " 'REPORT_ID_DERIVED',\n",
       " 'ORIGIN',\n",
       " 'IsActive']"
      ]
     },
     "execution_count": 7,
     "metadata": {},
     "output_type": "execute_result"
    }
   ],
   "source": [
    "list(active_reports.columns)"
   ]
  }
 ],
 "metadata": {
  "kernelspec": {
   "display_name": "Python 3 (ipykernel)",
   "language": "python",
   "name": "python3"
  },
  "language_info": {
   "codemirror_mode": {
    "name": "ipython",
    "version": 3
   },
   "file_extension": ".py",
   "mimetype": "text/x-python",
   "name": "python",
   "nbconvert_exporter": "python",
   "pygments_lexer": "ipython3",
   "version": "3.9.12"
  }
 },
 "nbformat": 4,
 "nbformat_minor": 5
}
