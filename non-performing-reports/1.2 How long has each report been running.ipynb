{
 "cells": [
  {
   "cell_type": "markdown",
   "metadata": {},
   "source": [
    "# How long has each report been running?\n",
    "\n",
    "**We are still considering active reports!**\n",
    "\n",
    "---\n",
    "\n",
    ">Questions being answered in this notebook.\n",
    ">- [x] What is the execution period of these reports?\n"
   ]
  },
  {
   "cell_type": "code",
   "execution_count": 1,
   "metadata": {},
   "outputs": [],
   "source": [
    "import pandas as pd\n",
    "import datetime as dt"
   ]
  },
  {
   "cell_type": "markdown",
   "metadata": {},
   "source": [
    "Loading active reports data."
   ]
  },
  {
   "cell_type": "code",
   "execution_count": 2,
   "metadata": {},
   "outputs": [],
   "source": [
    "active_reports = pd.read_csv(\"datasets/active_reports.csv\", low_memory=False)"
   ]
  },
  {
   "cell_type": "markdown",
   "metadata": {},
   "source": [
    "## 1. What is the execution period of these reports?"
   ]
  },
  {
   "cell_type": "markdown",
   "metadata": {},
   "source": [
    "Building a function to calculate the period of days between the `LastRunDate` and the last change date (`LastModifiedDate`) for each report."
   ]
  },
  {
   "cell_type": "code",
   "execution_count": 3,
   "metadata": {},
   "outputs": [],
   "source": [
    "ref_date = dt.date(2022, 6, 20)"
   ]
  },
  {
   "cell_type": "code",
   "execution_count": 4,
   "metadata": {},
   "outputs": [],
   "source": [
    "def running_days_since_creation(report):\n",
    "    timedelta = ref_date - dt.datetime.fromisoformat(report.CreatedDate).date()\n",
    "    return timedelta.days + 1 # fix to get reports with ReferenceDate == CreatedDate"
   ]
  },
  {
   "cell_type": "code",
   "execution_count": 5,
   "metadata": {},
   "outputs": [],
   "source": [
    "def running_days_since_last_modification(report):\n",
    "    timedelta = ref_date - dt.datetime.fromisoformat(report.LastModifiedDate).date()\n",
    "    return timedelta.days + 1 # fix to get reports with ReferenceDate == LastModifiedDate"
   ]
  },
  {
   "cell_type": "markdown",
   "metadata": {},
   "source": [
    "Adding a new column to store `DaysSinceCreation` and `DaysSinceLastModifiedDate` information."
   ]
  },
  {
   "cell_type": "code",
   "execution_count": 6,
   "metadata": {},
   "outputs": [],
   "source": [
    "active_reports['DaysSinceCreation'] = active_reports\\\n",
    "    .apply(lambda r: running_days_since_creation(r), axis=1)\n",
    "\n",
    "active_reports['DaysSinceLastModifiedDate'] = active_reports\\\n",
    "    .apply(lambda r: running_days_since_last_modification(r), axis=1)"
   ]
  },
  {
   "cell_type": "markdown",
   "metadata": {},
   "source": [
    "### 1.1. Loading run report logs"
   ]
  },
  {
   "cell_type": "markdown",
   "metadata": {},
   "source": [
    "Loading a day sample."
   ]
  },
  {
   "cell_type": "code",
   "execution_count": 7,
   "metadata": {},
   "outputs": [],
   "source": [
    "report_logs = pd.read_csv('../data/Salesforce/ELF/Report/2022-06-04_Report.csv', low_memory=False)"
   ]
  },
  {
   "cell_type": "code",
   "execution_count": 8,
   "metadata": {},
   "outputs": [
    {
     "data": {
      "text/plain": [
       "(73258, 31)"
      ]
     },
     "execution_count": 8,
     "metadata": {},
     "output_type": "execute_result"
    }
   ],
   "source": [
    "report_logs.shape"
   ]
  },
  {
   "cell_type": "code",
   "execution_count": 9,
   "metadata": {},
   "outputs": [],
   "source": [
    "report_run_count = report_logs.REPORT_ID_DERIVED\\\n",
    "    .value_counts()\\\n",
    "    .reset_index()\\\n",
    "    .rename(columns={'index': 'Id', 'REPORT_ID_DERIVED': 'RunCount'})"
   ]
  },
  {
   "cell_type": "code",
   "execution_count": 10,
   "metadata": {},
   "outputs": [
    {
     "data": {
      "text/html": [
       "<div>\n",
       "<style scoped>\n",
       "    .dataframe tbody tr th:only-of-type {\n",
       "        vertical-align: middle;\n",
       "    }\n",
       "\n",
       "    .dataframe tbody tr th {\n",
       "        vertical-align: top;\n",
       "    }\n",
       "\n",
       "    .dataframe thead th {\n",
       "        text-align: right;\n",
       "    }\n",
       "</style>\n",
       "<table border=\"1\" class=\"dataframe\">\n",
       "  <thead>\n",
       "    <tr style=\"text-align: right;\">\n",
       "      <th></th>\n",
       "      <th>Id</th>\n",
       "      <th>RunCount</th>\n",
       "    </tr>\n",
       "  </thead>\n",
       "  <tbody>\n",
       "    <tr>\n",
       "      <th>0</th>\n",
       "      <td>00O2R000003zUb9UAE</td>\n",
       "      <td>12926</td>\n",
       "    </tr>\n",
       "    <tr>\n",
       "      <th>1</th>\n",
       "      <td>00O0b000006iNwdEAE</td>\n",
       "      <td>8817</td>\n",
       "    </tr>\n",
       "    <tr>\n",
       "      <th>2</th>\n",
       "      <td>00O0b000004kTazEAE</td>\n",
       "      <td>8347</td>\n",
       "    </tr>\n",
       "    <tr>\n",
       "      <th>3</th>\n",
       "      <td>00O0b000004kkZKEAY</td>\n",
       "      <td>6612</td>\n",
       "    </tr>\n",
       "    <tr>\n",
       "      <th>4</th>\n",
       "      <td>00O2R000003zUTgUAM</td>\n",
       "      <td>5397</td>\n",
       "    </tr>\n",
       "  </tbody>\n",
       "</table>\n",
       "</div>"
      ],
      "text/plain": [
       "                   Id  RunCount\n",
       "0  00O2R000003zUb9UAE     12926\n",
       "1  00O0b000006iNwdEAE      8817\n",
       "2  00O0b000004kTazEAE      8347\n",
       "3  00O0b000004kkZKEAY      6612\n",
       "4  00O2R000003zUTgUAM      5397"
      ]
     },
     "execution_count": 10,
     "metadata": {},
     "output_type": "execute_result"
    }
   ],
   "source": [
    "report_run_count.head() "
   ]
  },
  {
   "cell_type": "markdown",
   "metadata": {},
   "source": [
    "Run count from 2022-06-04 (our daily sample).\n",
    "\n",
    "Getting run count from active reports present in our sample."
   ]
  },
  {
   "cell_type": "code",
   "execution_count": 11,
   "metadata": {},
   "outputs": [],
   "source": [
    "active_reports = pd.merge(left=active_reports, right=report_run_count, on='Id')"
   ]
  },
  {
   "cell_type": "code",
   "execution_count": 12,
   "metadata": {},
   "outputs": [
    {
     "data": {
      "text/plain": [
       "(458, 23)"
      ]
     },
     "execution_count": 12,
     "metadata": {},
     "output_type": "execute_result"
    }
   ],
   "source": [
    "active_reports.shape"
   ]
  },
  {
   "cell_type": "markdown",
   "metadata": {},
   "source": [
    "The following is a preview of the new dataframe we will be getting from this new info."
   ]
  },
  {
   "cell_type": "code",
   "execution_count": 13,
   "metadata": {},
   "outputs": [
    {
     "data": {
      "text/html": [
       "<div>\n",
       "<style scoped>\n",
       "    .dataframe tbody tr th:only-of-type {\n",
       "        vertical-align: middle;\n",
       "    }\n",
       "\n",
       "    .dataframe tbody tr th {\n",
       "        vertical-align: top;\n",
       "    }\n",
       "\n",
       "    .dataframe thead th {\n",
       "        text-align: right;\n",
       "    }\n",
       "</style>\n",
       "<table border=\"1\" class=\"dataframe\">\n",
       "  <thead>\n",
       "    <tr style=\"text-align: right;\">\n",
       "      <th></th>\n",
       "      <th>ReportName</th>\n",
       "      <th>RunCount</th>\n",
       "      <th>DaysSinceCreation</th>\n",
       "      <th>DaysSinceLastModifiedDate</th>\n",
       "    </tr>\n",
       "  </thead>\n",
       "  <tbody>\n",
       "    <tr>\n",
       "      <th>1</th>\n",
       "      <td>ATM</td>\n",
       "      <td>12926</td>\n",
       "      <td>391</td>\n",
       "      <td>288</td>\n",
       "    </tr>\n",
       "    <tr>\n",
       "      <th>4</th>\n",
       "      <td>New Email By Team - w\\o Sup filter</td>\n",
       "      <td>8817</td>\n",
       "      <td>1130</td>\n",
       "      <td>103</td>\n",
       "    </tr>\n",
       "    <tr>\n",
       "      <th>8</th>\n",
       "      <td>My Cases and Tasks</td>\n",
       "      <td>8347</td>\n",
       "      <td>1452</td>\n",
       "      <td>22</td>\n",
       "    </tr>\n",
       "    <tr>\n",
       "      <th>17</th>\n",
       "      <td>Agent Timesheet_Omni</td>\n",
       "      <td>6612</td>\n",
       "      <td>1319</td>\n",
       "      <td>4</td>\n",
       "    </tr>\n",
       "    <tr>\n",
       "      <th>50</th>\n",
       "      <td>Pankaj's Report</td>\n",
       "      <td>5397</td>\n",
       "      <td>399</td>\n",
       "      <td>102</td>\n",
       "    </tr>\n",
       "  </tbody>\n",
       "</table>\n",
       "</div>"
      ],
      "text/plain": [
       "                            ReportName  RunCount  DaysSinceCreation  \\\n",
       "1                                  ATM     12926                391   \n",
       "4   New Email By Team - w\\o Sup filter      8817               1130   \n",
       "8                   My Cases and Tasks      8347               1452   \n",
       "17                Agent Timesheet_Omni      6612               1319   \n",
       "50                     Pankaj's Report      5397                399   \n",
       "\n",
       "    DaysSinceLastModifiedDate  \n",
       "1                         288  \n",
       "4                         103  \n",
       "8                          22  \n",
       "17                          4  \n",
       "50                        102  "
      ]
     },
     "execution_count": 13,
     "metadata": {},
     "output_type": "execute_result"
    }
   ],
   "source": [
    "run_span = active_reports[['Name', 'RunCount', 'DaysSinceCreation', 'DaysSinceLastModifiedDate']]\\\n",
    "    .sort_values('RunCount', ascending=False)\\\n",
    "    .rename(columns={'Name': 'ReportName', 'RunCount': 'RunCount'})\\\n",
    "\n",
    "run_span.head()"
   ]
  },
  {
   "cell_type": "markdown",
   "metadata": {},
   "source": [
    "Most recent report and the oldest one"
   ]
  },
  {
   "cell_type": "code",
   "execution_count": 14,
   "metadata": {},
   "outputs": [],
   "source": [
    "oldest, most_recent = run_span.DaysSinceCreation.min(), run_span.DaysSinceCreation.max()"
   ]
  },
  {
   "cell_type": "code",
   "execution_count": 15,
   "metadata": {},
   "outputs": [
    {
     "data": {
      "text/html": [
       "<div>\n",
       "<style scoped>\n",
       "    .dataframe tbody tr th:only-of-type {\n",
       "        vertical-align: middle;\n",
       "    }\n",
       "\n",
       "    .dataframe tbody tr th {\n",
       "        vertical-align: top;\n",
       "    }\n",
       "\n",
       "    .dataframe thead th {\n",
       "        text-align: right;\n",
       "    }\n",
       "</style>\n",
       "<table border=\"1\" class=\"dataframe\">\n",
       "  <thead>\n",
       "    <tr style=\"text-align: right;\">\n",
       "      <th></th>\n",
       "      <th>ReportName</th>\n",
       "      <th>RunCount</th>\n",
       "      <th>DaysSinceCreation</th>\n",
       "      <th>DaysSinceLastModifiedDate</th>\n",
       "    </tr>\n",
       "  </thead>\n",
       "  <tbody>\n",
       "    <tr>\n",
       "      <th>381</th>\n",
       "      <td>AMER PDP PowerScale - Config Scheduled</td>\n",
       "      <td>19</td>\n",
       "      <td>18</td>\n",
       "      <td>18</td>\n",
       "    </tr>\n",
       "    <tr>\n",
       "      <th>382</th>\n",
       "      <td>PowerScale - WIP - Unscheduled Execute</td>\n",
       "      <td>4</td>\n",
       "      <td>18</td>\n",
       "      <td>18</td>\n",
       "    </tr>\n",
       "    <tr>\n",
       "      <th>14</th>\n",
       "      <td>Chat Average Handle Time</td>\n",
       "      <td>893</td>\n",
       "      <td>1591</td>\n",
       "      <td>766</td>\n",
       "    </tr>\n",
       "    <tr>\n",
       "      <th>162</th>\n",
       "      <td>Cases by Priority</td>\n",
       "      <td>79</td>\n",
       "      <td>1591</td>\n",
       "      <td>157</td>\n",
       "    </tr>\n",
       "    <tr>\n",
       "      <th>27</th>\n",
       "      <td>Cases by Status</td>\n",
       "      <td>63</td>\n",
       "      <td>1591</td>\n",
       "      <td>585</td>\n",
       "    </tr>\n",
       "    <tr>\n",
       "      <th>87</th>\n",
       "      <td>Completed Chat Sessions</td>\n",
       "      <td>54</td>\n",
       "      <td>1591</td>\n",
       "      <td>857</td>\n",
       "    </tr>\n",
       "    <tr>\n",
       "      <th>290</th>\n",
       "      <td>Overdue Tasks by Case</td>\n",
       "      <td>18</td>\n",
       "      <td>1591</td>\n",
       "      <td>857</td>\n",
       "    </tr>\n",
       "    <tr>\n",
       "      <th>251</th>\n",
       "      <td>Cases by Age &amp; Status</td>\n",
       "      <td>2</td>\n",
       "      <td>1591</td>\n",
       "      <td>319</td>\n",
       "    </tr>\n",
       "  </tbody>\n",
       "</table>\n",
       "</div>"
      ],
      "text/plain": [
       "                                 ReportName  RunCount  DaysSinceCreation  \\\n",
       "381  AMER PDP PowerScale - Config Scheduled        19                 18   \n",
       "382  PowerScale - WIP - Unscheduled Execute         4                 18   \n",
       "14                 Chat Average Handle Time       893               1591   \n",
       "162                       Cases by Priority        79               1591   \n",
       "27                          Cases by Status        63               1591   \n",
       "87                  Completed Chat Sessions        54               1591   \n",
       "290                   Overdue Tasks by Case        18               1591   \n",
       "251                   Cases by Age & Status         2               1591   \n",
       "\n",
       "     DaysSinceLastModifiedDate  \n",
       "381                         18  \n",
       "382                         18  \n",
       "14                         766  \n",
       "162                        157  \n",
       "27                         585  \n",
       "87                         857  \n",
       "290                        857  \n",
       "251                        319  "
      ]
     },
     "execution_count": 15,
     "metadata": {},
     "output_type": "execute_result"
    }
   ],
   "source": [
    "run_span[(run_span.DaysSinceCreation == oldest) | (run_span.DaysSinceCreation == most_recent)]\\\n",
    "    .sort_values(['DaysSinceCreation', 'RunCount'], ascending=[True, False])"
   ]
  }
 ],
 "metadata": {
  "kernelspec": {
   "display_name": "Python 3 (ipykernel)",
   "language": "python",
   "name": "python3"
  },
  "language_info": {
   "codemirror_mode": {
    "name": "ipython",
    "version": 3
   },
   "file_extension": ".py",
   "mimetype": "text/x-python",
   "name": "python",
   "nbconvert_exporter": "python",
   "pygments_lexer": "ipython3",
   "version": "3.9.12"
  }
 },
 "nbformat": 4,
 "nbformat_minor": 4
}
