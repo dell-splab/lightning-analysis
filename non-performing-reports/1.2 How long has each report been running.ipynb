{
 "cells": [
  {
   "cell_type": "markdown",
   "metadata": {},
   "source": [
    "# How long has each report been running?\n",
    "\n",
    "**We are still considering active reports!**\n",
    "\n",
    "---\n",
    "\n",
    ">Questions being answered in this notebook.\n",
    ">- [x] What is the execution period of these reports?\n",
    ">- [x] Which reports have been running the longest?\n",
    ">- [x] Which reports have been running the longest by period (since `LastModifiedDate`)?\n"
   ]
  },
  {
   "cell_type": "code",
   "execution_count": 1,
   "metadata": {},
   "outputs": [],
   "source": [
    "import pandas as pd\n",
    "import datetime as dt"
   ]
  },
  {
   "cell_type": "markdown",
   "metadata": {},
   "source": [
    "Loading active reports data."
   ]
  },
  {
   "cell_type": "code",
   "execution_count": 2,
   "metadata": {},
   "outputs": [
    {
     "name": "stderr",
     "output_type": "stream",
     "text": [
      "C:\\Users\\jefer\\AppData\\Local\\Temp\\ipykernel_7640\\2173927402.py:1: DtypeWarning: Columns (10,12,31) have mixed types. Specify dtype option on import or set low_memory=False.\n",
      "  active_reports = pd.read_csv(\"datasets/active_reports.csv\")\n"
     ]
    }
   ],
   "source": [
    "active_reports = pd.read_csv(\"datasets/active_reports.csv\")"
   ]
  },
  {
   "cell_type": "markdown",
   "metadata": {},
   "source": [
    "## 1. What is the execution period of these reports?"
   ]
  },
  {
   "cell_type": "markdown",
   "metadata": {},
   "source": [
    "Building a function to calculate the period of days between the `LastRunDate` and the last change date (`LastModifiedDate`) for each report."
   ]
  },
  {
   "cell_type": "code",
   "execution_count": 3,
   "metadata": {},
   "outputs": [],
   "source": [
    "ref_date = dt.date(2022, 6, 20)"
   ]
  },
  {
   "cell_type": "code",
   "execution_count": 4,
   "metadata": {},
   "outputs": [],
   "source": [
    "def running_days_since_creation(report):\n",
    "    timedelta = ref_date - dt.datetime.fromisoformat(report.CreatedDate).date()\n",
    "    return timedelta.days + 1 # fix to get reports with ReferenceDate == CreatedDate"
   ]
  },
  {
   "cell_type": "code",
   "execution_count": 5,
   "metadata": {},
   "outputs": [],
   "source": [
    "def running_days_since_last_modification(report):\n",
    "    timedelta = ref_date - dt.datetime.fromisoformat(report.LastModifiedDate).date()\n",
    "    return timedelta.days + 1 # fix to get reports with ReferenceDate == LastModifiedDate"
   ]
  },
  {
   "cell_type": "markdown",
   "metadata": {},
   "source": [
    "Adding a new column to store `DaysSinceCreation` and `DaysSinceLastModifiedDate` information."
   ]
  },
  {
   "cell_type": "code",
   "execution_count": 6,
   "metadata": {},
   "outputs": [],
   "source": [
    "active_reports['DaysSinceCreation'] = active_reports\\\n",
    "    .apply(lambda r: running_days_since_creation(r), axis=1)\n",
    "\n",
    "active_reports['DaysSinceLastModifiedDate'] = active_reports\\\n",
    "    .apply(lambda r: running_days_since_last_modification(r), axis=1)"
   ]
  },
  {
   "cell_type": "markdown",
   "metadata": {},
   "source": [
    "The following is a preview of the new dataframe we will be getting from this new info."
   ]
  },
  {
   "cell_type": "code",
   "execution_count": 7,
   "metadata": {},
   "outputs": [
    {
     "data": {
      "text/html": [
       "<div>\n",
       "<style scoped>\n",
       "    .dataframe tbody tr th:only-of-type {\n",
       "        vertical-align: middle;\n",
       "    }\n",
       "\n",
       "    .dataframe tbody tr th {\n",
       "        vertical-align: top;\n",
       "    }\n",
       "\n",
       "    .dataframe thead th {\n",
       "        text-align: right;\n",
       "    }\n",
       "</style>\n",
       "<table border=\"1\" class=\"dataframe\">\n",
       "  <thead>\n",
       "    <tr style=\"text-align: right;\">\n",
       "      <th></th>\n",
       "      <th>ReportName</th>\n",
       "      <th>RunCount</th>\n",
       "      <th>DaysSinceCreation</th>\n",
       "      <th>DaysSinceLastModifiedDate</th>\n",
       "    </tr>\n",
       "    <tr>\n",
       "      <th>REPORT_ID_DERIVED</th>\n",
       "      <th></th>\n",
       "      <th></th>\n",
       "      <th></th>\n",
       "      <th></th>\n",
       "    </tr>\n",
       "  </thead>\n",
       "  <tbody>\n",
       "    <tr>\n",
       "      <th>00O0b000006iNwdEAE</th>\n",
       "      <td>New Email By Team - w\\o Sup filter</td>\n",
       "      <td>8816</td>\n",
       "      <td>1130</td>\n",
       "      <td>103</td>\n",
       "    </tr>\n",
       "    <tr>\n",
       "      <th>00O0b000004kTazEAE</th>\n",
       "      <td>My Cases and Tasks</td>\n",
       "      <td>6708</td>\n",
       "      <td>1452</td>\n",
       "      <td>22</td>\n",
       "    </tr>\n",
       "    <tr>\n",
       "      <th>00O2R000004AmwmUAC</th>\n",
       "      <td>S&amp;AS Reactive Queues</td>\n",
       "      <td>2347</td>\n",
       "      <td>578</td>\n",
       "      <td>106</td>\n",
       "    </tr>\n",
       "    <tr>\n",
       "      <th>00O2R000003JCXaUAO</th>\n",
       "      <td>New Email By Team_HYD</td>\n",
       "      <td>2293</td>\n",
       "      <td>735</td>\n",
       "      <td>304</td>\n",
       "    </tr>\n",
       "    <tr>\n",
       "      <th>00O6P000000ZMcoUAG</th>\n",
       "      <td>Wipro - VxRail Case Title Report</td>\n",
       "      <td>1392</td>\n",
       "      <td>132</td>\n",
       "      <td>132</td>\n",
       "    </tr>\n",
       "    <tr>\n",
       "      <th>00O0b000005yLBGEA2</th>\n",
       "      <td>Cases with Tasks, Calendar &amp; Reminders</td>\n",
       "      <td>1026</td>\n",
       "      <td>1110</td>\n",
       "      <td>307</td>\n",
       "    </tr>\n",
       "    <tr>\n",
       "      <th>00O2R000004AmgKUAS</th>\n",
       "      <td>My Team's Cases Without Tasks V1.0</td>\n",
       "      <td>926</td>\n",
       "      <td>612</td>\n",
       "      <td>82</td>\n",
       "    </tr>\n",
       "    <tr>\n",
       "      <th>00O0b000004AmRrEAK</th>\n",
       "      <td>Chat Average Handle Time</td>\n",
       "      <td>893</td>\n",
       "      <td>1591</td>\n",
       "      <td>766</td>\n",
       "    </tr>\n",
       "    <tr>\n",
       "      <th>00O2R0000043l7WUAQ</th>\n",
       "      <td>Case Aging Report</td>\n",
       "      <td>768</td>\n",
       "      <td>858</td>\n",
       "      <td>319</td>\n",
       "    </tr>\n",
       "    <tr>\n",
       "      <th>00O2R000004F15kUAC</th>\n",
       "      <td>Manual Time Tracking based Report</td>\n",
       "      <td>735</td>\n",
       "      <td>473</td>\n",
       "      <td>60</td>\n",
       "    </tr>\n",
       "  </tbody>\n",
       "</table>\n",
       "</div>"
      ],
      "text/plain": [
       "                                                ReportName  RunCount  \\\n",
       "REPORT_ID_DERIVED                                                      \n",
       "00O0b000006iNwdEAE      New Email By Team - w\\o Sup filter      8816   \n",
       "00O0b000004kTazEAE                      My Cases and Tasks      6708   \n",
       "00O2R000004AmwmUAC                    S&AS Reactive Queues      2347   \n",
       "00O2R000003JCXaUAO                   New Email By Team_HYD      2293   \n",
       "00O6P000000ZMcoUAG        Wipro - VxRail Case Title Report      1392   \n",
       "00O0b000005yLBGEA2  Cases with Tasks, Calendar & Reminders      1026   \n",
       "00O2R000004AmgKUAS      My Team's Cases Without Tasks V1.0       926   \n",
       "00O0b000004AmRrEAK                Chat Average Handle Time       893   \n",
       "00O2R0000043l7WUAQ                       Case Aging Report       768   \n",
       "00O2R000004F15kUAC       Manual Time Tracking based Report       735   \n",
       "\n",
       "                    DaysSinceCreation  DaysSinceLastModifiedDate  \n",
       "REPORT_ID_DERIVED                                                 \n",
       "00O0b000006iNwdEAE               1130                        103  \n",
       "00O0b000004kTazEAE               1452                         22  \n",
       "00O2R000004AmwmUAC                578                        106  \n",
       "00O2R000003JCXaUAO                735                        304  \n",
       "00O6P000000ZMcoUAG                132                        132  \n",
       "00O0b000005yLBGEA2               1110                        307  \n",
       "00O2R000004AmgKUAS                612                         82  \n",
       "00O0b000004AmRrEAK               1591                        766  \n",
       "00O2R0000043l7WUAQ                858                        319  \n",
       "00O2R000004F15kUAC                473                         60  "
      ]
     },
     "execution_count": 7,
     "metadata": {},
     "output_type": "execute_result"
    }
   ],
   "source": [
    "active_reports[['REPORT_ID_DERIVED', 'Name', 'LastRunDate', 'DaysSinceCreation']]\\\n",
    "    .groupby('REPORT_ID_DERIVED')\\\n",
    "    .agg({'Name': 'first', 'LastRunDate': 'count', 'DaysSinceCreation': 'first'})\\\n",
    "    .rename(columns={'LastRunDate': 'RunCount', 'Name': 'ReportName'})\\\n",
    "    .sort_values('RunCount', ascending=False)\\\n",
    "    .head(10)"
   ]
  },
  {
   "cell_type": "markdown",
   "metadata": {},
   "source": [
    "From this we can evaluate how often each report was run during each period."
   ]
  },
  {
   "cell_type": "code",
   "execution_count": 8,
   "metadata": {},
   "outputs": [],
   "source": [
    "runtime_span = active_reports[['REPORT_ID_DERIVED', 'Name', 'LastRunDate', 'DaysSinceCreation', 'DaysSinceLastModifiedDate']]\\\n",
    "    .groupby('REPORT_ID_DERIVED')\\\n",
    "    .agg({'Name': 'first', 'LastRunDate': 'count', 'DaysSinceCreation': 'first', 'DaysSinceLastModifiedDate': 'last'})\\\n",
    "    .rename(columns={'LastRunDate': 'RunCount', 'Name': 'ReportName'})\\\n",
    "    .sort_values('RunCount', ascending=False)\\\n",
    "    .reset_index()"
   ]
  },
  {
   "cell_type": "code",
   "execution_count": 9,
   "metadata": {},
   "outputs": [
    {
     "data": {
      "text/plain": [
       "499.9533527696793"
      ]
     },
     "execution_count": 9,
     "metadata": {},
     "output_type": "execute_result"
    }
   ],
   "source": [
    "runtime_span.DaysSinceCreation.mean()"
   ]
  },
  {
   "cell_type": "code",
   "execution_count": 10,
   "metadata": {},
   "outputs": [
    {
     "data": {
      "text/plain": [
       "294.6530612244898"
      ]
     },
     "execution_count": 10,
     "metadata": {},
     "output_type": "execute_result"
    }
   ],
   "source": [
    "runtime_span.DaysSinceLastModifiedDate.mean()"
   ]
  },
  {
   "cell_type": "code",
   "execution_count": 11,
   "metadata": {},
   "outputs": [
    {
     "data": {
      "text/plain": [
       "(18, 1591)"
      ]
     },
     "execution_count": 11,
     "metadata": {},
     "output_type": "execute_result"
    }
   ],
   "source": [
    "# most recent report and the oldest one\n",
    "runtime_span.DaysSinceCreation.min(), runtime_span.DaysSinceCreation.max()"
   ]
  },
  {
   "cell_type": "markdown",
   "metadata": {},
   "source": [
    "In order to sort the reports by the highest running period of execution. We can either consider the most executed reports in the last 30 days or, in addition, consider the period in which the executions took place. Let's investigate both."
   ]
  },
  {
   "cell_type": "markdown",
   "metadata": {},
   "source": [
    "## 2. Reports that have been running the longest"
   ]
  },
  {
   "cell_type": "code",
   "execution_count": 12,
   "metadata": {},
   "outputs": [
    {
     "data": {
      "text/html": [
       "<div>\n",
       "<style scoped>\n",
       "    .dataframe tbody tr th:only-of-type {\n",
       "        vertical-align: middle;\n",
       "    }\n",
       "\n",
       "    .dataframe tbody tr th {\n",
       "        vertical-align: top;\n",
       "    }\n",
       "\n",
       "    .dataframe thead th {\n",
       "        text-align: right;\n",
       "    }\n",
       "</style>\n",
       "<table border=\"1\" class=\"dataframe\">\n",
       "  <thead>\n",
       "    <tr style=\"text-align: right;\">\n",
       "      <th></th>\n",
       "      <th>REPORT_ID_DERIVED</th>\n",
       "      <th>ReportName</th>\n",
       "      <th>RunCount</th>\n",
       "      <th>DaysSinceCreation</th>\n",
       "      <th>DaysSinceLastModifiedDate</th>\n",
       "    </tr>\n",
       "  </thead>\n",
       "  <tbody>\n",
       "    <tr>\n",
       "      <th>66</th>\n",
       "      <td>00O0b000004AmRmEAK</td>\n",
       "      <td>Completed Chat Sessions</td>\n",
       "      <td>54</td>\n",
       "      <td>1591</td>\n",
       "      <td>857</td>\n",
       "    </tr>\n",
       "    <tr>\n",
       "      <th>274</th>\n",
       "      <td>00O0b000004AmSCEA0</td>\n",
       "      <td>Cases by Age &amp; Status</td>\n",
       "      <td>2</td>\n",
       "      <td>1591</td>\n",
       "      <td>319</td>\n",
       "    </tr>\n",
       "    <tr>\n",
       "      <th>114</th>\n",
       "      <td>00O0b000004AmS2EAK</td>\n",
       "      <td>Overdue Tasks by Case</td>\n",
       "      <td>18</td>\n",
       "      <td>1591</td>\n",
       "      <td>857</td>\n",
       "    </tr>\n",
       "    <tr>\n",
       "      <th>62</th>\n",
       "      <td>00O0b000004AmRyEAK</td>\n",
       "      <td>Cases by Status</td>\n",
       "      <td>63</td>\n",
       "      <td>1591</td>\n",
       "      <td>585</td>\n",
       "    </tr>\n",
       "    <tr>\n",
       "      <th>52</th>\n",
       "      <td>00O0b000004AmS0EAK</td>\n",
       "      <td>Cases by Priority</td>\n",
       "      <td>79</td>\n",
       "      <td>1591</td>\n",
       "      <td>157</td>\n",
       "    </tr>\n",
       "  </tbody>\n",
       "</table>\n",
       "</div>"
      ],
      "text/plain": [
       "      REPORT_ID_DERIVED               ReportName  RunCount  DaysSinceCreation  \\\n",
       "66   00O0b000004AmRmEAK  Completed Chat Sessions        54               1591   \n",
       "274  00O0b000004AmSCEA0    Cases by Age & Status         2               1591   \n",
       "114  00O0b000004AmS2EAK    Overdue Tasks by Case        18               1591   \n",
       "62   00O0b000004AmRyEAK          Cases by Status        63               1591   \n",
       "52   00O0b000004AmS0EAK        Cases by Priority        79               1591   \n",
       "\n",
       "     DaysSinceLastModifiedDate  \n",
       "66                         857  \n",
       "274                        319  \n",
       "114                        857  \n",
       "62                         585  \n",
       "52                         157  "
      ]
     },
     "execution_count": 12,
     "metadata": {},
     "output_type": "execute_result"
    }
   ],
   "source": [
    "runtime_span.sort_values('DaysSinceCreation', ascending=False).head()"
   ]
  },
  {
   "cell_type": "code",
   "execution_count": 13,
   "metadata": {},
   "outputs": [],
   "source": [
    "running_the_longest = runtime_span.sort_values('DaysSinceCreation', ascending=False)\n",
    "running_the_longest.to_csv(\"./datasets/active_reports_that_have_been_running_the_longest.csv\", index=False)"
   ]
  },
  {
   "cell_type": "code",
   "execution_count": 14,
   "metadata": {},
   "outputs": [],
   "source": [
    "running_the_longest['AvgRunsOverLast30days'] = running_the_longest.RunCount / 30"
   ]
  },
  {
   "cell_type": "code",
   "execution_count": 15,
   "metadata": {},
   "outputs": [
    {
     "data": {
      "text/html": [
       "<div>\n",
       "<style scoped>\n",
       "    .dataframe tbody tr th:only-of-type {\n",
       "        vertical-align: middle;\n",
       "    }\n",
       "\n",
       "    .dataframe tbody tr th {\n",
       "        vertical-align: top;\n",
       "    }\n",
       "\n",
       "    .dataframe thead th {\n",
       "        text-align: right;\n",
       "    }\n",
       "</style>\n",
       "<table border=\"1\" class=\"dataframe\">\n",
       "  <thead>\n",
       "    <tr style=\"text-align: right;\">\n",
       "      <th></th>\n",
       "      <th>ReportName</th>\n",
       "      <th>RunCount</th>\n",
       "      <th>DaysSinceCreation</th>\n",
       "      <th>AvgRunsOverLast30days</th>\n",
       "    </tr>\n",
       "  </thead>\n",
       "  <tbody>\n",
       "    <tr>\n",
       "      <th>0</th>\n",
       "      <td>New Email By Team - w\\o Sup filter</td>\n",
       "      <td>8816</td>\n",
       "      <td>1130</td>\n",
       "      <td>293.866667</td>\n",
       "    </tr>\n",
       "    <tr>\n",
       "      <th>1</th>\n",
       "      <td>My Cases and Tasks</td>\n",
       "      <td>6708</td>\n",
       "      <td>1452</td>\n",
       "      <td>223.600000</td>\n",
       "    </tr>\n",
       "    <tr>\n",
       "      <th>2</th>\n",
       "      <td>S&amp;AS Reactive Queues</td>\n",
       "      <td>2347</td>\n",
       "      <td>578</td>\n",
       "      <td>78.233333</td>\n",
       "    </tr>\n",
       "    <tr>\n",
       "      <th>3</th>\n",
       "      <td>New Email By Team_HYD</td>\n",
       "      <td>2293</td>\n",
       "      <td>735</td>\n",
       "      <td>76.433333</td>\n",
       "    </tr>\n",
       "    <tr>\n",
       "      <th>4</th>\n",
       "      <td>Wipro - VxRail Case Title Report</td>\n",
       "      <td>1392</td>\n",
       "      <td>132</td>\n",
       "      <td>46.400000</td>\n",
       "    </tr>\n",
       "  </tbody>\n",
       "</table>\n",
       "</div>"
      ],
      "text/plain": [
       "                           ReportName  RunCount  DaysSinceCreation  \\\n",
       "0  New Email By Team - w\\o Sup filter      8816               1130   \n",
       "1                  My Cases and Tasks      6708               1452   \n",
       "2                S&AS Reactive Queues      2347                578   \n",
       "3               New Email By Team_HYD      2293                735   \n",
       "4    Wipro - VxRail Case Title Report      1392                132   \n",
       "\n",
       "   AvgRunsOverLast30days  \n",
       "0             293.866667  \n",
       "1             223.600000  \n",
       "2              78.233333  \n",
       "3              76.433333  \n",
       "4              46.400000  "
      ]
     },
     "execution_count": 15,
     "metadata": {},
     "output_type": "execute_result"
    }
   ],
   "source": [
    "running_the_longest\\\n",
    "    .drop(columns=['REPORT_ID_DERIVED', 'DaysSinceLastModifiedDate'])\\\n",
    "    .sort_values('RunCount', ascending=False)\\\n",
    "    .head()"
   ]
  },
  {
   "cell_type": "markdown",
   "metadata": {},
   "source": [
    "## 3. Reports that are running longer per period"
   ]
  },
  {
   "cell_type": "markdown",
   "metadata": {},
   "source": [
    "<p style='color:red'>FIX: need loads active_reports_since_last_modified_date here.\n",
    "\n",
    "\n",
    "We can create a ratio between the number of runs and the period in order to estimate that. Let's define a `AvgDailyRun`."
   ]
  },
  {
   "cell_type": "code",
   "execution_count": 16,
   "metadata": {},
   "outputs": [],
   "source": [
    "runtime_span['AvgRunsOverLast30daysSinceLastModifiedDate'] =\\\n",
    "    runtime_span.RunCount / (30 - runtime_span.DaysSinceLastModifiedDate)"
   ]
  },
  {
   "cell_type": "code",
   "execution_count": 17,
   "metadata": {},
   "outputs": [
    {
     "data": {
      "text/html": [
       "<div>\n",
       "<style scoped>\n",
       "    .dataframe tbody tr th:only-of-type {\n",
       "        vertical-align: middle;\n",
       "    }\n",
       "\n",
       "    .dataframe tbody tr th {\n",
       "        vertical-align: top;\n",
       "    }\n",
       "\n",
       "    .dataframe thead th {\n",
       "        text-align: right;\n",
       "    }\n",
       "</style>\n",
       "<table border=\"1\" class=\"dataframe\">\n",
       "  <thead>\n",
       "    <tr style=\"text-align: right;\">\n",
       "      <th></th>\n",
       "      <th>REPORT_ID_DERIVED</th>\n",
       "      <th>ReportName</th>\n",
       "      <th>RunCount</th>\n",
       "      <th>DaysSinceCreation</th>\n",
       "      <th>DaysSinceLastModifiedDate</th>\n",
       "      <th>AvgRunsOverLast30daysSinceLastModifiedDate</th>\n",
       "    </tr>\n",
       "  </thead>\n",
       "  <tbody>\n",
       "    <tr>\n",
       "      <th>126</th>\n",
       "      <td>00O0b000004fSjgEAE</td>\n",
       "      <td>Open Tasks (Blue Steel) Osp</td>\n",
       "      <td>14</td>\n",
       "      <td>1522</td>\n",
       "      <td>1522</td>\n",
       "      <td>-0.009383</td>\n",
       "    </tr>\n",
       "    <tr>\n",
       "      <th>172</th>\n",
       "      <td>00O0b000004fSjXEAU</td>\n",
       "      <td>DELL Cases by Status</td>\n",
       "      <td>6</td>\n",
       "      <td>1522</td>\n",
       "      <td>1522</td>\n",
       "      <td>-0.004021</td>\n",
       "    </tr>\n",
       "    <tr>\n",
       "      <th>92</th>\n",
       "      <td>00O0b000004fSjdEAE</td>\n",
       "      <td>Cases by Status Osp</td>\n",
       "      <td>27</td>\n",
       "      <td>1522</td>\n",
       "      <td>1522</td>\n",
       "      <td>-0.018097</td>\n",
       "    </tr>\n",
       "    <tr>\n",
       "      <th>80</th>\n",
       "      <td>00O0b000004kKJKEA2</td>\n",
       "      <td>Wrap Up Time</td>\n",
       "      <td>38</td>\n",
       "      <td>1513</td>\n",
       "      <td>1513</td>\n",
       "      <td>-0.025624</td>\n",
       "    </tr>\n",
       "    <tr>\n",
       "      <th>91</th>\n",
       "      <td>00O0b000004kf2wEAA</td>\n",
       "      <td>Email Queue WIP</td>\n",
       "      <td>27</td>\n",
       "      <td>1362</td>\n",
       "      <td>1250</td>\n",
       "      <td>-0.022131</td>\n",
       "    </tr>\n",
       "  </tbody>\n",
       "</table>\n",
       "</div>"
      ],
      "text/plain": [
       "      REPORT_ID_DERIVED                   ReportName  RunCount  \\\n",
       "126  00O0b000004fSjgEAE  Open Tasks (Blue Steel) Osp        14   \n",
       "172  00O0b000004fSjXEAU         DELL Cases by Status         6   \n",
       "92   00O0b000004fSjdEAE          Cases by Status Osp        27   \n",
       "80   00O0b000004kKJKEA2                 Wrap Up Time        38   \n",
       "91   00O0b000004kf2wEAA              Email Queue WIP        27   \n",
       "\n",
       "     DaysSinceCreation  DaysSinceLastModifiedDate  \\\n",
       "126               1522                       1522   \n",
       "172               1522                       1522   \n",
       "92                1522                       1522   \n",
       "80                1513                       1513   \n",
       "91                1362                       1250   \n",
       "\n",
       "     AvgRunsOverLast30daysSinceLastModifiedDate  \n",
       "126                                   -0.009383  \n",
       "172                                   -0.004021  \n",
       "92                                    -0.018097  \n",
       "80                                    -0.025624  \n",
       "91                                    -0.022131  "
      ]
     },
     "execution_count": 17,
     "metadata": {},
     "output_type": "execute_result"
    }
   ],
   "source": [
    "runtime_span.sort_values('DaysSinceLastModifiedDate', ascending=False).head()"
   ]
  },
  {
   "cell_type": "code",
   "execution_count": 19,
   "metadata": {},
   "outputs": [],
   "source": [
    "# running_the_longest_in_period = runtime_span.sort_values('DaysSinceLastModifiedDate', ascending=False)\n",
    "# running_the_longest_in_period.to_csv(\"./datasets/active_reports_that_have_been_running_the_longest_in_period.csv\", index=False)"
   ]
  },
  {
   "cell_type": "code",
   "execution_count": null,
   "metadata": {},
   "outputs": [],
   "source": []
  }
 ],
 "metadata": {
  "kernelspec": {
   "display_name": "Python 3 (ipykernel)",
   "language": "python",
   "name": "python3"
  },
  "language_info": {
   "codemirror_mode": {
    "name": "ipython",
    "version": 3
   },
   "file_extension": ".py",
   "mimetype": "text/x-python",
   "name": "python",
   "nbconvert_exporter": "python",
   "pygments_lexer": "ipython3",
   "version": "3.9.12"
  }
 },
 "nbformat": 4,
 "nbformat_minor": 4
}
