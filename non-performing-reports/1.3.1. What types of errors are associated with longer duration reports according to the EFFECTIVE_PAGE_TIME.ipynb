{
 "cells": [
  {
   "cell_type": "markdown",
   "id": "30c25e32",
   "metadata": {},
   "source": [
    "# What types of errors are associated with longer duration reports according to the EFFECTIVE_PAGE_TIME\n",
    "\n",
    ">Questions being answered in this notebook.\n",
    ">- [x] What errors are raised through EFFECTIVE_PAGE_TIME?\n",
    "\n",
    "\n",
    "\n",
    "[THIS ANALYSIS IS NOT COMPLETED]"
   ]
  },
  {
   "cell_type": "code",
   "execution_count": 2,
   "id": "a78fa3fd",
   "metadata": {},
   "outputs": [],
   "source": [
    "import pandas as pd\n",
    "import numpy as np\n",
    "import matplotlib.pyplot as plt\n",
    "import seaborn as sns\n",
    "sns.set()"
   ]
  },
  {
   "cell_type": "markdown",
   "id": "a65ff599",
   "metadata": {},
   "source": [
    "Loading active reports."
   ]
  },
  {
   "cell_type": "code",
   "execution_count": 2,
   "id": "4fd21d8c",
   "metadata": {},
   "outputs": [
    {
     "name": "stderr",
     "output_type": "stream",
     "text": [
      "C:\\Users\\jefer\\AppData\\Local\\Temp\\ipykernel_9448\\2173927402.py:1: DtypeWarning: Columns (10,12,31) have mixed types. Specify dtype option on import or set low_memory=False.\n",
      "  active_reports = pd.read_csv(\"datasets/active_reports.csv\")\n"
     ]
    }
   ],
   "source": [
    "active_reports = pd.read_csv(\"datasets/active_reports.csv\")"
   ]
  },
  {
   "cell_type": "code",
   "execution_count": 3,
   "id": "eb4abd2c",
   "metadata": {},
   "outputs": [
    {
     "data": {
      "text/plain": [
       "(38326, 51)"
      ]
     },
     "execution_count": 3,
     "metadata": {},
     "output_type": "execute_result"
    }
   ],
   "source": [
    "active_reports.shape"
   ]
  },
  {
   "cell_type": "code",
   "execution_count": 4,
   "id": "ee476d77",
   "metadata": {
    "scrolled": true
   },
   "outputs": [],
   "source": [
    "#Reading data\n",
    "page_view = pd.read_csv(\"datasets/pageview_logs.csv\")"
   ]
  },
  {
   "cell_type": "code",
   "execution_count": 5,
   "id": "b68ba2d6",
   "metadata": {},
   "outputs": [],
   "source": [
    "#Page View examples\n",
    "# page_view.head(3)"
   ]
  },
  {
   "cell_type": "code",
   "execution_count": 6,
   "id": "a103e552",
   "metadata": {},
   "outputs": [
    {
     "data": {
      "text/plain": [
       "(542852, 18)"
      ]
     },
     "execution_count": 6,
     "metadata": {},
     "output_type": "execute_result"
    }
   ],
   "source": [
    "page_view.shape"
   ]
  },
  {
   "cell_type": "code",
   "execution_count": 7,
   "id": "b759b3ff",
   "metadata": {},
   "outputs": [
    {
     "data": {
      "text/plain": [
       "186198236"
      ]
     },
     "execution_count": 7,
     "metadata": {},
     "output_type": "execute_result"
    }
   ],
   "source": [
    "active_reports.REPORT_ID_DERIVED.unique().shape[0] * page_view.shape[0]"
   ]
  },
  {
   "cell_type": "code",
   "execution_count": 8,
   "id": "3c25b319",
   "metadata": {},
   "outputs": [
    {
     "data": {
      "text/plain": [
       "(125944,)"
      ]
     },
     "execution_count": 8,
     "metadata": {},
     "output_type": "execute_result"
    }
   ],
   "source": [
    "page_view.REPORT_ID_DERIVED.unique().shape"
   ]
  },
  {
   "cell_type": "code",
   "execution_count": 9,
   "id": "40842939",
   "metadata": {},
   "outputs": [],
   "source": [
    "# filtering problematic reports\n",
    "page_view = page_view[page_view.EFFECTIVE_PAGE_TIME.isna()]"
   ]
  },
  {
   "cell_type": "code",
   "execution_count": 10,
   "id": "d05bb70e",
   "metadata": {},
   "outputs": [
    {
     "data": {
      "text/plain": [
       "(239359, 18)"
      ]
     },
     "execution_count": 10,
     "metadata": {},
     "output_type": "execute_result"
    }
   ],
   "source": [
    "page_view.shape"
   ]
  },
  {
   "cell_type": "code",
   "execution_count": 11,
   "id": "66c0e0a8",
   "metadata": {},
   "outputs": [],
   "source": [
    "# Problematic reports regarding time\n",
    "page_view = page_view[page_view.DURATION > 60000].sort_values('DURATION', ascending=False).head(100)"
   ]
  },
  {
   "cell_type": "code",
   "execution_count": 12,
   "id": "7d9ec4bb",
   "metadata": {},
   "outputs": [],
   "source": [
    "active_problematic_reports_set = set(page_view.REPORT_ID_DERIVED.unique())\\\n",
    "    .intersection(set(active_reports.REPORT_ID_DERIVED.unique()))"
   ]
  },
  {
   "cell_type": "code",
   "execution_count": 13,
   "id": "d25860cc",
   "metadata": {},
   "outputs": [
    {
     "data": {
      "text/plain": [
       "13"
      ]
     },
     "execution_count": 13,
     "metadata": {},
     "output_type": "execute_result"
    }
   ],
   "source": [
    "len(active_problematic_reports_set)"
   ]
  },
  {
   "cell_type": "code",
   "execution_count": null,
   "id": "427e543d",
   "metadata": {},
   "outputs": [],
   "source": []
  },
  {
   "cell_type": "code",
   "execution_count": 14,
   "id": "36d1d63d",
   "metadata": {},
   "outputs": [],
   "source": [
    "active_problematic_reports =\\\n",
    "    active_reports[active_reports.apply(lambda r: r.REPORT_ID_DERIVED in active_problematic_reports_set, axis=1)]"
   ]
  },
  {
   "cell_type": "code",
   "execution_count": 15,
   "id": "89d89fb5",
   "metadata": {},
   "outputs": [
    {
     "data": {
      "text/plain": [
       "(21421, 51)"
      ]
     },
     "execution_count": 15,
     "metadata": {},
     "output_type": "execute_result"
    }
   ],
   "source": [
    "active_problematic_reports.shape"
   ]
  },
  {
   "cell_type": "code",
   "execution_count": 16,
   "id": "f89ec294",
   "metadata": {},
   "outputs": [],
   "source": [
    "active_problematic_page_logs =\\\n",
    "    page_view[page_view.apply(lambda r: r.REPORT_ID_DERIVED in active_problematic_reports_set, axis=1)]"
   ]
  },
  {
   "cell_type": "code",
   "execution_count": 17,
   "id": "28fae138",
   "metadata": {},
   "outputs": [
    {
     "data": {
      "text/plain": [
       "(25, 18)"
      ]
     },
     "execution_count": 17,
     "metadata": {},
     "output_type": "execute_result"
    }
   ],
   "source": [
    "active_problematic_page_logs.shape"
   ]
  },
  {
   "cell_type": "code",
   "execution_count": 18,
   "id": "253dcf18",
   "metadata": {},
   "outputs": [],
   "source": [
    "final_active_problematic_reports = pd.merge(left=active_problematic_reports, right=active_problematic_page_logs, on='REPORT_ID_DERIVED')"
   ]
  },
  {
   "cell_type": "code",
   "execution_count": 19,
   "id": "e1887b1f",
   "metadata": {},
   "outputs": [
    {
     "data": {
      "text/plain": [
       "(86957, 68)"
      ]
     },
     "execution_count": 19,
     "metadata": {},
     "output_type": "execute_result"
    }
   ],
   "source": [
    "final_active_problematic_reports.shape"
   ]
  },
  {
   "cell_type": "code",
   "execution_count": 20,
   "id": "417052fb",
   "metadata": {},
   "outputs": [
    {
     "data": {
      "text/plain": [
       "(13,)"
      ]
     },
     "execution_count": 20,
     "metadata": {},
     "output_type": "execute_result"
    }
   ],
   "source": [
    "final_active_problematic_reports.REPORT_ID_DERIVED.unique().shape"
   ]
  },
  {
   "cell_type": "code",
   "execution_count": 21,
   "id": "6ae8b7e0",
   "metadata": {},
   "outputs": [],
   "source": [
    "final_active_problematic_reports.drop(columns=['EFFECTIVE_PAGE_TIME'], inplace=True)"
   ]
  },
  {
   "cell_type": "code",
   "execution_count": 22,
   "id": "172c9d08",
   "metadata": {},
   "outputs": [],
   "source": [
    "final_active_problematic_reports.rename(columns={'Name': 'ReportName', 'DURATION': 'AvgEffectivePageTime'}, inplace=True)"
   ]
  },
  {
   "cell_type": "code",
   "execution_count": 23,
   "id": "5262cd73",
   "metadata": {},
   "outputs": [],
   "source": [
    "#Filtering just the time spend of the Events\n",
    "ept_metric = final_active_problematic_reports[['ReportName', 'AvgEffectivePageTime']].groupby('ReportName').agg('mean').reset_index()"
   ]
  },
  {
   "cell_type": "code",
   "execution_count": 24,
   "id": "3826973a",
   "metadata": {},
   "outputs": [
    {
     "data": {
      "text/html": [
       "<div>\n",
       "<style scoped>\n",
       "    .dataframe tbody tr th:only-of-type {\n",
       "        vertical-align: middle;\n",
       "    }\n",
       "\n",
       "    .dataframe tbody tr th {\n",
       "        vertical-align: top;\n",
       "    }\n",
       "\n",
       "    .dataframe thead th {\n",
       "        text-align: right;\n",
       "    }\n",
       "</style>\n",
       "<table border=\"1\" class=\"dataframe\">\n",
       "  <thead>\n",
       "    <tr style=\"text-align: right;\">\n",
       "      <th></th>\n",
       "      <th>ReportName</th>\n",
       "      <th>AvgEffectivePageTime</th>\n",
       "    </tr>\n",
       "  </thead>\n",
       "  <tbody>\n",
       "    <tr>\n",
       "      <th>12</th>\n",
       "      <td>Wipro NCC Details - Midrange</td>\n",
       "      <td>905692.000</td>\n",
       "    </tr>\n",
       "    <tr>\n",
       "      <th>6</th>\n",
       "      <td>My Team's Cases Without Tasks V1.0</td>\n",
       "      <td>877588.000</td>\n",
       "    </tr>\n",
       "    <tr>\n",
       "      <th>7</th>\n",
       "      <td>New Email By Team - w\\o Sup filter</td>\n",
       "      <td>843297.625</td>\n",
       "    </tr>\n",
       "    <tr>\n",
       "      <th>11</th>\n",
       "      <td>Wipro - SR Assigned but SLO not Met</td>\n",
       "      <td>656406.000</td>\n",
       "    </tr>\n",
       "    <tr>\n",
       "      <th>5</th>\n",
       "      <td>My Cases and Tasks</td>\n",
       "      <td>585729.000</td>\n",
       "    </tr>\n",
       "    <tr>\n",
       "      <th>3</th>\n",
       "      <td>Cases with Tasks, Calendar &amp; Reminders</td>\n",
       "      <td>584099.000</td>\n",
       "    </tr>\n",
       "    <tr>\n",
       "      <th>10</th>\n",
       "      <td>Tech Support SRs in Routing/Exception</td>\n",
       "      <td>468862.000</td>\n",
       "    </tr>\n",
       "    <tr>\n",
       "      <th>4</th>\n",
       "      <td>Chat Average Handle Time</td>\n",
       "      <td>448006.000</td>\n",
       "    </tr>\n",
       "    <tr>\n",
       "      <th>0</th>\n",
       "      <td>AMER PDP PowerScale - Config Scheduled</td>\n",
       "      <td>392648.000</td>\n",
       "    </tr>\n",
       "    <tr>\n",
       "      <th>2</th>\n",
       "      <td>Agents_Case by Status</td>\n",
       "      <td>358463.000</td>\n",
       "    </tr>\n",
       "  </tbody>\n",
       "</table>\n",
       "</div>"
      ],
      "text/plain": [
       "                                ReportName  AvgEffectivePageTime\n",
       "12            Wipro NCC Details - Midrange            905692.000\n",
       "6       My Team's Cases Without Tasks V1.0            877588.000\n",
       "7       New Email By Team - w\\o Sup filter            843297.625\n",
       "11     Wipro - SR Assigned but SLO not Met            656406.000\n",
       "5                       My Cases and Tasks            585729.000\n",
       "3   Cases with Tasks, Calendar & Reminders            584099.000\n",
       "10   Tech Support SRs in Routing/Exception            468862.000\n",
       "4                 Chat Average Handle Time            448006.000\n",
       "0   AMER PDP PowerScale - Config Scheduled            392648.000\n",
       "2                    Agents_Case by Status            358463.000"
      ]
     },
     "execution_count": 24,
     "metadata": {},
     "output_type": "execute_result"
    }
   ],
   "source": [
    "ept_metric.sort_values('AvgEffectivePageTime', ascending=False).head(10)"
   ]
  },
  {
   "cell_type": "code",
   "execution_count": 46,
   "id": "4bc3ce01",
   "metadata": {},
   "outputs": [],
   "source": [
    "#Filtering just the time spend of the Events\n",
    "runtime_metric = final_active_problematic_reports[['ReportName', 'RUN_TIME']]\\\n",
    "    .groupby('ReportName')\\\n",
    "    .agg('mean')\\\n",
    "    .rename(columns={'RUN_TIME': 'AvgRuntime'})\\\n",
    "    .sort_values('AvgRuntime', ascending=False)\\\n",
    "    .reset_index()"
   ]
  },
  {
   "cell_type": "code",
   "execution_count": 47,
   "id": "cd851193",
   "metadata": {},
   "outputs": [
    {
     "data": {
      "text/html": [
       "<div>\n",
       "<style scoped>\n",
       "    .dataframe tbody tr th:only-of-type {\n",
       "        vertical-align: middle;\n",
       "    }\n",
       "\n",
       "    .dataframe tbody tr th {\n",
       "        vertical-align: top;\n",
       "    }\n",
       "\n",
       "    .dataframe thead th {\n",
       "        text-align: right;\n",
       "    }\n",
       "</style>\n",
       "<table border=\"1\" class=\"dataframe\">\n",
       "  <thead>\n",
       "    <tr style=\"text-align: right;\">\n",
       "      <th></th>\n",
       "      <th>ReportName</th>\n",
       "      <th>AvgRuntime</th>\n",
       "    </tr>\n",
       "  </thead>\n",
       "  <tbody>\n",
       "    <tr>\n",
       "      <th>0</th>\n",
       "      <td>AMER PDP PowerScale - Config Scheduled</td>\n",
       "      <td>170.577789</td>\n",
       "    </tr>\n",
       "    <tr>\n",
       "      <th>1</th>\n",
       "      <td>Open Tasks (Blue Steel)</td>\n",
       "      <td>52.698925</td>\n",
       "    </tr>\n",
       "    <tr>\n",
       "      <th>2</th>\n",
       "      <td>Wipro - SR Assigned but SLO not Met</td>\n",
       "      <td>34.419071</td>\n",
       "    </tr>\n",
       "    <tr>\n",
       "      <th>3</th>\n",
       "      <td>Agent Level  Report</td>\n",
       "      <td>19.961650</td>\n",
       "    </tr>\n",
       "    <tr>\n",
       "      <th>4</th>\n",
       "      <td>Tech Support SRs in Routing/Exception</td>\n",
       "      <td>13.565500</td>\n",
       "    </tr>\n",
       "    <tr>\n",
       "      <th>5</th>\n",
       "      <td>Wipro NCC Details - Midrange</td>\n",
       "      <td>12.544194</td>\n",
       "    </tr>\n",
       "    <tr>\n",
       "      <th>6</th>\n",
       "      <td>Cases with Tasks, Calendar &amp; Reminders</td>\n",
       "      <td>8.798093</td>\n",
       "    </tr>\n",
       "    <tr>\n",
       "      <th>7</th>\n",
       "      <td>S&amp;AS Reactive Queues</td>\n",
       "      <td>8.065553</td>\n",
       "    </tr>\n",
       "    <tr>\n",
       "      <th>8</th>\n",
       "      <td>New Email By Team - w\\o Sup filter</td>\n",
       "      <td>3.787716</td>\n",
       "    </tr>\n",
       "    <tr>\n",
       "      <th>9</th>\n",
       "      <td>Chat Average Handle Time</td>\n",
       "      <td>3.705288</td>\n",
       "    </tr>\n",
       "  </tbody>\n",
       "</table>\n",
       "</div>"
      ],
      "text/plain": [
       "                               ReportName  AvgRuntime\n",
       "0  AMER PDP PowerScale - Config Scheduled  170.577789\n",
       "1                 Open Tasks (Blue Steel)   52.698925\n",
       "2     Wipro - SR Assigned but SLO not Met   34.419071\n",
       "3                     Agent Level  Report   19.961650\n",
       "4   Tech Support SRs in Routing/Exception   13.565500\n",
       "5            Wipro NCC Details - Midrange   12.544194\n",
       "6  Cases with Tasks, Calendar & Reminders    8.798093\n",
       "7                    S&AS Reactive Queues    8.065553\n",
       "8      New Email By Team - w\\o Sup filter    3.787716\n",
       "9                Chat Average Handle Time    3.705288"
      ]
     },
     "execution_count": 47,
     "metadata": {},
     "output_type": "execute_result"
    }
   ],
   "source": [
    "runtime_metric.AvgRuntime = runtime_metric.AvgRuntime / 1000 # to secs\n",
    "runtime_metric.head(10)\n",
    "# The amount of time that the request took in milliseconds."
   ]
  },
  {
   "cell_type": "code",
   "execution_count": 48,
   "id": "1309a6bc",
   "metadata": {},
   "outputs": [],
   "source": [
    "final_active_problematic_reports.DB_TOTAL_TIME = final_active_problematic_reports.DB_TOTAL_TIME / 10e6 # ns -> ms"
   ]
  },
  {
   "cell_type": "code",
   "execution_count": 49,
   "id": "447bea34",
   "metadata": {},
   "outputs": [],
   "source": [
    "final_active_problematic_reports['DB_TIME'] = final_active_problematic_reports.DB_TOTAL_TIME - final_active_problematic_reports.DB_CPU_TIME "
   ]
  },
  {
   "cell_type": "code",
   "execution_count": 51,
   "id": "7f2a152b",
   "metadata": {},
   "outputs": [],
   "source": [
    "db_time_metric = final_active_problematic_reports[['ReportName', 'DB_TIME']]\\\n",
    "    .groupby('ReportName')\\\n",
    "    .agg('mean')\\\n",
    "    .rename(columns={'DB_TIME': 'AvgDatabaseTime'})\\\n",
    "    .sort_values('AvgDatabaseTime', ascending=False)\\\n",
    "    .reset_index()"
   ]
  },
  {
   "cell_type": "code",
   "execution_count": 54,
   "id": "d6b38cb9",
   "metadata": {},
   "outputs": [
    {
     "data": {
      "text/html": [
       "<div>\n",
       "<style scoped>\n",
       "    .dataframe tbody tr th:only-of-type {\n",
       "        vertical-align: middle;\n",
       "    }\n",
       "\n",
       "    .dataframe tbody tr th {\n",
       "        vertical-align: top;\n",
       "    }\n",
       "\n",
       "    .dataframe thead th {\n",
       "        text-align: right;\n",
       "    }\n",
       "</style>\n",
       "<table border=\"1\" class=\"dataframe\">\n",
       "  <thead>\n",
       "    <tr style=\"text-align: right;\">\n",
       "      <th></th>\n",
       "      <th>ReportName</th>\n",
       "      <th>AvgDatabaseTime</th>\n",
       "    </tr>\n",
       "  </thead>\n",
       "  <tbody>\n",
       "    <tr>\n",
       "      <th>0</th>\n",
       "      <td>AMER PDP PowerScale - Config Scheduled</td>\n",
       "      <td>22507.242509</td>\n",
       "    </tr>\n",
       "    <tr>\n",
       "      <th>1</th>\n",
       "      <td>Agent Level  Report</td>\n",
       "      <td>3656.206512</td>\n",
       "    </tr>\n",
       "    <tr>\n",
       "      <th>2</th>\n",
       "      <td>Tech Support SRs in Routing/Exception</td>\n",
       "      <td>556.751956</td>\n",
       "    </tr>\n",
       "    <tr>\n",
       "      <th>3</th>\n",
       "      <td>Wipro NCC Details - Midrange</td>\n",
       "      <td>235.161009</td>\n",
       "    </tr>\n",
       "    <tr>\n",
       "      <th>4</th>\n",
       "      <td>Wipro - SR Assigned but SLO not Met</td>\n",
       "      <td>164.653807</td>\n",
       "    </tr>\n",
       "  </tbody>\n",
       "</table>\n",
       "</div>"
      ],
      "text/plain": [
       "                               ReportName  AvgDatabaseTime\n",
       "0  AMER PDP PowerScale - Config Scheduled     22507.242509\n",
       "1                     Agent Level  Report      3656.206512\n",
       "2   Tech Support SRs in Routing/Exception       556.751956\n",
       "3            Wipro NCC Details - Midrange       235.161009\n",
       "4     Wipro - SR Assigned but SLO not Met       164.653807"
      ]
     },
     "execution_count": 54,
     "metadata": {},
     "output_type": "execute_result"
    }
   ],
   "source": [
    "db_time_metric.head()"
   ]
  },
  {
   "cell_type": "code",
   "execution_count": 55,
   "id": "e972cebc",
   "metadata": {},
   "outputs": [],
   "source": [
    "db_cpu_time_metric = final_active_problematic_reports[['ReportName', 'DB_CPU_TIME']]\\\n",
    "    .groupby('ReportName')\\\n",
    "    .agg('mean')\\\n",
    "    .rename(columns={'DB_CPU_TIME': 'AVG_DB_CPU_TIME'})\\\n",
    "    .sort_values('AVG_DB_CPU_TIME', ascending=False)\\\n",
    "    .reset_index()"
   ]
  },
  {
   "cell_type": "code",
   "execution_count": 57,
   "id": "68893835",
   "metadata": {},
   "outputs": [
    {
     "data": {
      "text/html": [
       "<div>\n",
       "<style scoped>\n",
       "    .dataframe tbody tr th:only-of-type {\n",
       "        vertical-align: middle;\n",
       "    }\n",
       "\n",
       "    .dataframe tbody tr th {\n",
       "        vertical-align: top;\n",
       "    }\n",
       "\n",
       "    .dataframe thead th {\n",
       "        text-align: right;\n",
       "    }\n",
       "</style>\n",
       "<table border=\"1\" class=\"dataframe\">\n",
       "  <thead>\n",
       "    <tr style=\"text-align: right;\">\n",
       "      <th></th>\n",
       "      <th>ReportName</th>\n",
       "      <th>AVG_DB_CPU_TIME</th>\n",
       "    </tr>\n",
       "  </thead>\n",
       "  <tbody>\n",
       "    <tr>\n",
       "      <th>0</th>\n",
       "      <td>Open Tasks (Blue Steel)</td>\n",
       "      <td>21310.294118</td>\n",
       "    </tr>\n",
       "    <tr>\n",
       "      <th>1</th>\n",
       "      <td>Cases with Tasks, Calendar &amp; Reminders</td>\n",
       "      <td>3778.917073</td>\n",
       "    </tr>\n",
       "    <tr>\n",
       "      <th>2</th>\n",
       "      <td>S&amp;AS Reactive Queues</td>\n",
       "      <td>1598.568988</td>\n",
       "    </tr>\n",
       "    <tr>\n",
       "      <th>3</th>\n",
       "      <td>Wipro NCC Details - Midrange</td>\n",
       "      <td>1384.316547</td>\n",
       "    </tr>\n",
       "    <tr>\n",
       "      <th>4</th>\n",
       "      <td>Tech Support SRs in Routing/Exception</td>\n",
       "      <td>850.824742</td>\n",
       "    </tr>\n",
       "  </tbody>\n",
       "</table>\n",
       "</div>"
      ],
      "text/plain": [
       "                               ReportName  AVG_DB_CPU_TIME\n",
       "0                 Open Tasks (Blue Steel)     21310.294118\n",
       "1  Cases with Tasks, Calendar & Reminders      3778.917073\n",
       "2                    S&AS Reactive Queues      1598.568988\n",
       "3            Wipro NCC Details - Midrange      1384.316547\n",
       "4   Tech Support SRs in Routing/Exception       850.824742"
      ]
     },
     "execution_count": 57,
     "metadata": {},
     "output_type": "execute_result"
    }
   ],
   "source": [
    "db_cpu_time_metric.head()"
   ]
  },
  {
   "cell_type": "code",
   "execution_count": 58,
   "id": "58fea045",
   "metadata": {},
   "outputs": [
    {
     "data": {
      "text/html": [
       "<div>\n",
       "<style scoped>\n",
       "    .dataframe tbody tr th:only-of-type {\n",
       "        vertical-align: middle;\n",
       "    }\n",
       "\n",
       "    .dataframe tbody tr th {\n",
       "        vertical-align: top;\n",
       "    }\n",
       "\n",
       "    .dataframe thead th {\n",
       "        text-align: right;\n",
       "    }\n",
       "</style>\n",
       "<table border=\"1\" class=\"dataframe\">\n",
       "  <thead>\n",
       "    <tr style=\"text-align: right;\">\n",
       "      <th></th>\n",
       "      <th>ReportName</th>\n",
       "      <th>AvgApplicationTime</th>\n",
       "    </tr>\n",
       "  </thead>\n",
       "  <tbody>\n",
       "    <tr>\n",
       "      <th>0</th>\n",
       "      <td>Open Tasks (Blue Steel)</td>\n",
       "      <td>21310.294118</td>\n",
       "    </tr>\n",
       "    <tr>\n",
       "      <th>1</th>\n",
       "      <td>Cases with Tasks, Calendar &amp; Reminders</td>\n",
       "      <td>3778.917073</td>\n",
       "    </tr>\n",
       "    <tr>\n",
       "      <th>2</th>\n",
       "      <td>S&amp;AS Reactive Queues</td>\n",
       "      <td>1598.568988</td>\n",
       "    </tr>\n",
       "    <tr>\n",
       "      <th>3</th>\n",
       "      <td>Wipro NCC Details - Midrange</td>\n",
       "      <td>1384.316547</td>\n",
       "    </tr>\n",
       "    <tr>\n",
       "      <th>4</th>\n",
       "      <td>Tech Support SRs in Routing/Exception</td>\n",
       "      <td>850.824742</td>\n",
       "    </tr>\n",
       "  </tbody>\n",
       "</table>\n",
       "</div>"
      ],
      "text/plain": [
       "                               ReportName  AvgApplicationTime\n",
       "0                 Open Tasks (Blue Steel)        21310.294118\n",
       "1  Cases with Tasks, Calendar & Reminders         3778.917073\n",
       "2                    S&AS Reactive Queues         1598.568988\n",
       "3            Wipro NCC Details - Midrange         1384.316547\n",
       "4   Tech Support SRs in Routing/Exception          850.824742"
      ]
     },
     "execution_count": 58,
     "metadata": {},
     "output_type": "execute_result"
    }
   ],
   "source": [
    "db_cpu_time_metric.rename(columns={'AVG_DB_CPU_TIME': 'AvgApplicationTime'}).head()"
   ]
  },
  {
   "cell_type": "code",
   "execution_count": 66,
   "id": "4d3d745f",
   "metadata": {},
   "outputs": [],
   "source": [
    "ctx_metric = final_active_problematic_reports[['ReportName', 'PAGE_APP_NAME']]\\\n",
    "    .groupby('ReportName')\\\n",
    "    .agg({'PAGE_APP_NAME': 'unique'})\n",
    "#     .sort_values('AVG_DB_CPU_TIME', ascending=False)\\\n",
    "#     .reset_index()"
   ]
  },
  {
   "cell_type": "code",
   "execution_count": 67,
   "id": "87817c88",
   "metadata": {},
   "outputs": [
    {
     "data": {
      "text/html": [
       "<div>\n",
       "<style scoped>\n",
       "    .dataframe tbody tr th:only-of-type {\n",
       "        vertical-align: middle;\n",
       "    }\n",
       "\n",
       "    .dataframe tbody tr th {\n",
       "        vertical-align: top;\n",
       "    }\n",
       "\n",
       "    .dataframe thead th {\n",
       "        text-align: right;\n",
       "    }\n",
       "</style>\n",
       "<table border=\"1\" class=\"dataframe\">\n",
       "  <thead>\n",
       "    <tr style=\"text-align: right;\">\n",
       "      <th></th>\n",
       "      <th>PAGE_APP_NAME</th>\n",
       "    </tr>\n",
       "    <tr>\n",
       "      <th>ReportName</th>\n",
       "      <th></th>\n",
       "    </tr>\n",
       "  </thead>\n",
       "  <tbody>\n",
       "    <tr>\n",
       "      <th>AMER PDP PowerScale - Config Scheduled</th>\n",
       "      <td>[PSA_Dell]</td>\n",
       "    </tr>\n",
       "    <tr>\n",
       "      <th>Agent Level  Report</th>\n",
       "      <td>[LightningService]</td>\n",
       "    </tr>\n",
       "    <tr>\n",
       "      <th>Agents_Case by Status</th>\n",
       "      <td>[LightningService]</td>\n",
       "    </tr>\n",
       "    <tr>\n",
       "      <th>Cases with Tasks, Calendar &amp; Reminders</th>\n",
       "      <td>[LightningService]</td>\n",
       "    </tr>\n",
       "    <tr>\n",
       "      <th>Chat Average Handle Time</th>\n",
       "      <td>[LightningService]</td>\n",
       "    </tr>\n",
       "    <tr>\n",
       "      <th>My Cases and Tasks</th>\n",
       "      <td>[LightningService]</td>\n",
       "    </tr>\n",
       "    <tr>\n",
       "      <th>My Team's Cases Without Tasks V1.0</th>\n",
       "      <td>[LightningService]</td>\n",
       "    </tr>\n",
       "    <tr>\n",
       "      <th>New Email By Team - w\\o Sup filter</th>\n",
       "      <td>[LightningService]</td>\n",
       "    </tr>\n",
       "    <tr>\n",
       "      <th>Open Tasks (Blue Steel)</th>\n",
       "      <td>[LightningService]</td>\n",
       "    </tr>\n",
       "    <tr>\n",
       "      <th>S&amp;AS Reactive Queues</th>\n",
       "      <td>[LightningService]</td>\n",
       "    </tr>\n",
       "    <tr>\n",
       "      <th>Tech Support SRs in Routing/Exception</th>\n",
       "      <td>[LightningService]</td>\n",
       "    </tr>\n",
       "    <tr>\n",
       "      <th>Wipro - SR Assigned but SLO not Met</th>\n",
       "      <td>[LightningService]</td>\n",
       "    </tr>\n",
       "    <tr>\n",
       "      <th>Wipro NCC Details - Midrange</th>\n",
       "      <td>[LightningService]</td>\n",
       "    </tr>\n",
       "  </tbody>\n",
       "</table>\n",
       "</div>"
      ],
      "text/plain": [
       "                                             PAGE_APP_NAME\n",
       "ReportName                                                \n",
       "AMER PDP PowerScale - Config Scheduled          [PSA_Dell]\n",
       "Agent Level  Report                     [LightningService]\n",
       "Agents_Case by Status                   [LightningService]\n",
       "Cases with Tasks, Calendar & Reminders  [LightningService]\n",
       "Chat Average Handle Time                [LightningService]\n",
       "My Cases and Tasks                      [LightningService]\n",
       "My Team's Cases Without Tasks V1.0      [LightningService]\n",
       "New Email By Team - w\\o Sup filter      [LightningService]\n",
       "Open Tasks (Blue Steel)                 [LightningService]\n",
       "S&AS Reactive Queues                    [LightningService]\n",
       "Tech Support SRs in Routing/Exception   [LightningService]\n",
       "Wipro - SR Assigned but SLO not Met     [LightningService]\n",
       "Wipro NCC Details - Midrange            [LightningService]"
      ]
     },
     "execution_count": 67,
     "metadata": {},
     "output_type": "execute_result"
    }
   ],
   "source": [
    "ctx_metric"
   ]
  },
  {
   "cell_type": "code",
   "execution_count": 68,
   "id": "beb68609",
   "metadata": {},
   "outputs": [
    {
     "data": {
      "text/plain": [
       "array(['one:one'], dtype=object)"
      ]
     },
     "execution_count": 68,
     "metadata": {},
     "output_type": "execute_result"
    }
   ],
   "source": [
    "final_active_problematic_reports.APP_NAME.unique()"
   ]
  },
  {
   "cell_type": "code",
   "execution_count": 76,
   "id": "af88855e",
   "metadata": {},
   "outputs": [
    {
     "data": {
      "text/plain": [
       "Series([], Name: ENTITY_NAME, dtype: int64)"
      ]
     },
     "execution_count": 76,
     "metadata": {},
     "output_type": "execute_result"
    }
   ],
   "source": [
    "final_active_problematic_reports.PAGE_APP_NAME.value_counts()"
   ]
  },
  {
   "cell_type": "code",
   "execution_count": 80,
   "id": "cc625271",
   "metadata": {},
   "outputs": [
    {
     "data": {
      "text/plain": [
       "array([nan])"
      ]
     },
     "execution_count": 80,
     "metadata": {},
     "output_type": "execute_result"
    }
   ],
   "source": [
    "final_active_problematic_reports.RENDERING_TYPE.unique()"
   ]
  },
  {
   "cell_type": "code",
   "execution_count": 84,
   "id": "dcc23dcf",
   "metadata": {},
   "outputs": [],
   "source": [
    "cpu_time_metric = final_active_problematic_reports[['ReportName', 'RUN_TIME']]\\\n",
    "    .groupby('ReportName')\\\n",
    "    .agg('mean')\\\n",
    "    .rename(columns={'RUN_TIME': 'AVERAGE_RUN_TIME'})\\\n",
    "    .sort_values('AVERAGE_RUN_TIME', ascending=False)\\\n",
    "    .reset_index()"
   ]
  },
  {
   "cell_type": "code",
   "execution_count": 85,
   "id": "7a7ebcba",
   "metadata": {},
   "outputs": [
    {
     "data": {
      "text/html": [
       "<div>\n",
       "<style scoped>\n",
       "    .dataframe tbody tr th:only-of-type {\n",
       "        vertical-align: middle;\n",
       "    }\n",
       "\n",
       "    .dataframe tbody tr th {\n",
       "        vertical-align: top;\n",
       "    }\n",
       "\n",
       "    .dataframe thead th {\n",
       "        text-align: right;\n",
       "    }\n",
       "</style>\n",
       "<table border=\"1\" class=\"dataframe\">\n",
       "  <thead>\n",
       "    <tr style=\"text-align: right;\">\n",
       "      <th></th>\n",
       "      <th>ReportName</th>\n",
       "      <th>AVERAGE_RUN_TIME</th>\n",
       "    </tr>\n",
       "  </thead>\n",
       "  <tbody>\n",
       "    <tr>\n",
       "      <th>0</th>\n",
       "      <td>AMER PDP PowerScale - Config Scheduled</td>\n",
       "      <td>170577.789474</td>\n",
       "    </tr>\n",
       "    <tr>\n",
       "      <th>1</th>\n",
       "      <td>Open Tasks (Blue Steel)</td>\n",
       "      <td>52698.924855</td>\n",
       "    </tr>\n",
       "    <tr>\n",
       "      <th>2</th>\n",
       "      <td>Wipro - SR Assigned but SLO not Met</td>\n",
       "      <td>34419.071429</td>\n",
       "    </tr>\n",
       "    <tr>\n",
       "      <th>3</th>\n",
       "      <td>Agent Level  Report</td>\n",
       "      <td>19961.650000</td>\n",
       "    </tr>\n",
       "    <tr>\n",
       "      <th>4</th>\n",
       "      <td>Tech Support SRs in Routing/Exception</td>\n",
       "      <td>13565.500000</td>\n",
       "    </tr>\n",
       "  </tbody>\n",
       "</table>\n",
       "</div>"
      ],
      "text/plain": [
       "                               ReportName  AVERAGE_RUN_TIME\n",
       "0  AMER PDP PowerScale - Config Scheduled     170577.789474\n",
       "1                 Open Tasks (Blue Steel)      52698.924855\n",
       "2     Wipro - SR Assigned but SLO not Met      34419.071429\n",
       "3                     Agent Level  Report      19961.650000\n",
       "4   Tech Support SRs in Routing/Exception      13565.500000"
      ]
     },
     "execution_count": 85,
     "metadata": {},
     "output_type": "execute_result"
    }
   ],
   "source": [
    "cpu_time_metric.head()"
   ]
  },
  {
   "cell_type": "markdown",
   "id": "173b8f24",
   "metadata": {},
   "source": [
    "#### According to the documentation, the EFFECTIVE_PAGE_TIME (alternative to DURATION that is current deprecated) will be 0/null if there's an error in any moment of the Page execution. Even though deprecated, due that behavior, the column DURATION showed to be more accurated to tell the true rum time of the page, regardless any errors."
   ]
  },
  {
   "cell_type": "markdown",
   "id": "377cb7d0",
   "metadata": {},
   "source": [
    "## Mean Runtime of a successful Page"
   ]
  },
  {
   "cell_type": "code",
   "execution_count": null,
   "id": "b85c3b96",
   "metadata": {},
   "outputs": [],
   "source": [
    "m = page_view_time.EFFECTIVE_PAGE_TIME.mean()/1000\n",
    "print(f'The mean run-time of a successful Page rendered is {m}')"
   ]
  },
  {
   "cell_type": "markdown",
   "id": "9893826a",
   "metadata": {},
   "source": [
    "## Percentage of Erros in the Pages"
   ]
  },
  {
   "cell_type": "code",
   "execution_count": null,
   "id": "378608a0",
   "metadata": {
    "scrolled": false
   },
   "outputs": [],
   "source": [
    "page_view_error_log = page_view_indexed[page_view_indexed.EFFECTIVE_PAGE_TIME_DEVIATION == True][['EFFECTIVE_PAGE_TIME_DEVIATION_REASON']]\n",
    "page_view_error_log"
   ]
  },
  {
   "cell_type": "code",
   "execution_count": 26,
   "id": "9c19f8ff",
   "metadata": {},
   "outputs": [
    {
     "data": {
      "text/plain": [
       "PreviousPageNotLoaded                36705\n",
       "PageNotLoaded                        27533\n",
       "PageHasError                         21807\n",
       "InteractionBeforePageLoaded|click      912\n",
       "Name: EFFECTIVE_PAGE_TIME_DEVIATION_REASON, dtype: int64"
      ]
     },
     "execution_count": 26,
     "metadata": {},
     "output_type": "execute_result"
    }
   ],
   "source": [
    "#Percentage of each Error Type\n",
    "final_active_problematic_reports.EFFECTIVE_PAGE_TIME_DEVIATION_REASON.value_counts()"
   ]
  },
  {
   "cell_type": "markdown",
   "id": "82a9b6fb",
   "metadata": {},
   "source": [
    "## Type of Errors:\n",
    "#### PAGE_IN_DOM\n",
    "    The page was loaded from a cache.\n",
    "#### PAGE_NOT_LOADED\n",
    "    If a customer navigates away from a page while loading processes are in progress, the page doesn't finish loading.\n",
    "#### PREVIOUS_PAGE_NOT_LOADED\n",
    "    When navigating to a new page, and the previous page hasn't completed loading, the next page is considered to have a deviation. Incomplete loading processes on a previous page can affect how the next page loads.\n",
    "#### INTERACTIONS_BEFORE_PAGE_LOADED\n",
    "    A user interacts with a page element before the page is fully loaded.\n",
    "#### PAGE_IN_BACKGROUND_BEFORE_LOADED\n",
    "    A background loading process runs on a page. Background processes can run when users don't interact with a page, such as when they navigate to another browser tab."
   ]
  },
  {
   "cell_type": "markdown",
   "id": "fa717c73",
   "metadata": {},
   "source": [
    "#  Error Types pie chart"
   ]
  },
  {
   "cell_type": "code",
   "execution_count": 89,
   "id": "fe4de56a",
   "metadata": {},
   "outputs": [
    {
     "data": {
      "text/plain": [
       "(13,)"
      ]
     },
     "execution_count": 89,
     "metadata": {},
     "output_type": "execute_result"
    }
   ],
   "source": [
    "final_active_problematic_reports.REPORT_ID_DERIVED.unique().shape"
   ]
  },
  {
   "cell_type": "code",
   "execution_count": 37,
   "id": "75d7ffde",
   "metadata": {},
   "outputs": [
    {
     "data": {
      "image/png": "[encoded data removed]",
      "text/plain": [
       "<Figure size 432x288 with 1 Axes>"
      ]
     },
     "metadata": {},
     "output_type": "display_data"
    }
   ],
   "source": [
    "sizes = list(final_active_problematic_reports.EFFECTIVE_PAGE_TIME_DEVIATION_REASON.value_counts())\n",
    "labels = list(final_active_problematic_reports.EFFECTIVE_PAGE_TIME_DEVIATION_REASON.value_counts().index)\n",
    "\n",
    "fig, ax = plt.subplots()\n",
    "ax.set_title('Problematic and active reports\\n', fontsize=14)\n",
    "ax.pie(sizes, labels=labels, autopct='%1.1f%%')\n",
    "ax.axis('equal')\n",
    "plt.show()"
   ]
  },
  {
   "cell_type": "code",
   "execution_count": null,
   "id": "3d5b6ffe",
   "metadata": {},
   "outputs": [],
   "source": [
    "page_view_indexed.to_csv('Page_View_by_USER_ID_DERIVED-SESSI')"
   ]
  }
 ],
 "metadata": {
  "kernelspec": {
   "display_name": "Python 3 (ipykernel)",
   "language": "python",
   "name": "python3"
  },
  "language_info": {
   "codemirror_mode": {
    "name": "ipython",
    "version": 3
   },
   "file_extension": ".py",
   "mimetype": "text/x-python",
   "name": "python",
   "nbconvert_exporter": "python",
   "pygments_lexer": "ipython3",
   "version": "3.9.12"
  }
 },
 "nbformat": 4,
 "nbformat_minor": 5
}
