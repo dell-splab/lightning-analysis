{
 "cells": [
  {
   "cell_type": "markdown",
   "id": "7361f7c2",
   "metadata": {},
   "source": [
    "# 1.1.2. What region/location do most of the errors come from?\n",
    "Questions being answered in this notebook.\n",
    ">- [x] ..."
   ]
  },
  {
   "cell_type": "code",
   "execution_count": 1,
   "id": "20c55da4",
   "metadata": {},
   "outputs": [],
   "source": [
    "import pandas as pd"
   ]
  },
  {
   "cell_type": "markdown",
   "id": "57b90250",
   "metadata": {},
   "source": [
    "## Loading Lightning Error"
   ]
  },
  {
   "cell_type": "code",
   "execution_count": 2,
   "id": "ff59e3b5",
   "metadata": {},
   "outputs": [],
   "source": [
    "lightning_error = pd.read_csv(\"../../data/Salesforce/Salesforce/ELF/LightningError/2022-06-05_LightningError.csv\")"
   ]
  },
  {
   "cell_type": "code",
   "execution_count": 3,
   "id": "48c3d503",
   "metadata": {},
   "outputs": [
    {
     "data": {
      "text/plain": [
       "(1286, 39)"
      ]
     },
     "execution_count": 3,
     "metadata": {},
     "output_type": "execute_result"
    }
   ],
   "source": [
    "lightning_error.shape"
   ]
  },
  {
   "cell_type": "markdown",
   "id": "bbabcc55",
   "metadata": {},
   "source": [
    "### Getting *Report_Id* by *Page_Url*"
   ]
  },
  {
   "cell_type": "code",
   "execution_count": 4,
   "id": "812f4cc0",
   "metadata": {},
   "outputs": [],
   "source": [
    "lightning_error = lightning_error.dropna(subset = ['PAGE_URL'])"
   ]
  },
  {
   "cell_type": "code",
   "execution_count": 5,
   "id": "cd42bdd2",
   "metadata": {},
   "outputs": [
    {
     "data": {
      "text/plain": [
       "(1282, 39)"
      ]
     },
     "execution_count": 5,
     "metadata": {},
     "output_type": "execute_result"
    }
   ],
   "source": [
    "lightning_error.shape"
   ]
  },
  {
   "cell_type": "code",
   "execution_count": 6,
   "id": "1cc6ee6c",
   "metadata": {},
   "outputs": [],
   "source": [
    "run_report_api_resource = \"/lightning/r/\"\n",
    "\n",
    "def get_report_info_from_endpoint(page_url):\n",
    "    if not(pd.isnull(page_url)) == True: \n",
    "        if page_url.startswith(run_report_api_resource):\n",
    "            uri = page_url.split(run_report_api_resource)\n",
    "            if len(uri) >= 2:\n",
    "                report_type, report_id_derived = uri[1].split(\"/\")[:2]\n",
    "                return report_type, report_id_derived"
   ]
  },
  {
   "cell_type": "code",
   "execution_count": 7,
   "id": "45b59aa0",
   "metadata": {},
   "outputs": [],
   "source": [
    "lightning_error['REPORT_INFO_DERIVED'] = lightning_error.PAGE_URL.apply(get_report_info_from_endpoint)"
   ]
  },
  {
   "cell_type": "code",
   "execution_count": 8,
   "id": "1d79a0c6",
   "metadata": {},
   "outputs": [],
   "source": [
    "lightning_error['REPORT_TYPE_DERIVED'] = lightning_error.REPORT_INFO_DERIVED.str[0]"
   ]
  },
  {
   "cell_type": "code",
   "execution_count": 9,
   "id": "79dc1adc",
   "metadata": {},
   "outputs": [],
   "source": [
    "lightning_error['REPORT_ID_DERIVED'] = lightning_error.REPORT_INFO_DERIVED.str[1]"
   ]
  },
  {
   "cell_type": "code",
   "execution_count": 10,
   "id": "669ab3a6",
   "metadata": {},
   "outputs": [
    {
     "data": {
      "text/plain": [
       "(1282, 42)"
      ]
     },
     "execution_count": 10,
     "metadata": {},
     "output_type": "execute_result"
    }
   ],
   "source": [
    "lightning_error.shape"
   ]
  },
  {
   "cell_type": "markdown",
   "id": "59b2636b",
   "metadata": {},
   "source": [
    "## Loading Active Reports"
   ]
  },
  {
   "cell_type": "code",
   "execution_count": 11,
   "id": "bb951a9c",
   "metadata": {},
   "outputs": [],
   "source": [
    "active_reports = pd.read_csv(\"../../datasets/active_reports.csv\", low_memory=False)"
   ]
  },
  {
   "cell_type": "code",
   "execution_count": 12,
   "id": "892a4dab",
   "metadata": {},
   "outputs": [
    {
     "data": {
      "text/plain": [
       "(38285, 51)"
      ]
     },
     "execution_count": 12,
     "metadata": {},
     "output_type": "execute_result"
    }
   ],
   "source": [
    "active_reports.shape"
   ]
  },
  {
   "cell_type": "markdown",
   "id": "408d2b85",
   "metadata": {},
   "source": [
    "## Merging Lightning Error and Active Reports"
   ]
  },
  {
   "cell_type": "code",
   "execution_count": 13,
   "id": "a51ca56e",
   "metadata": {},
   "outputs": [],
   "source": [
    "interest_columns = ['UI_EVENT_ID', 'CLIENT_GEO', 'REPORT_ID_DERIVED_x']"
   ]
  },
  {
   "cell_type": "code",
   "execution_count": 14,
   "id": "787cd52a",
   "metadata": {},
   "outputs": [],
   "source": [
    "ltng_full_reports = pd.merge(left=active_reports, right=lightning_error, left_on=\"Id\", right_on=\"REPORT_ID_DERIVED\")"
   ]
  },
  {
   "cell_type": "code",
   "execution_count": 15,
   "id": "c19667ef",
   "metadata": {},
   "outputs": [
    {
     "data": {
      "text/plain": [
       "['CreatedById',\n",
       " 'CreatedDate',\n",
       " 'Description',\n",
       " 'DeveloperName',\n",
       " 'FolderName',\n",
       " 'Format',\n",
       " 'Id',\n",
       " 'IsDeleted',\n",
       " 'LastModifiedById',\n",
       " 'LastModifiedDate',\n",
       " 'LastReferencedDate',\n",
       " 'LastRunDate',\n",
       " 'LastViewedDate',\n",
       " 'Name',\n",
       " 'NamespacePrefix',\n",
       " 'OwnerId',\n",
       " 'ReportTypeApiName',\n",
       " 'SystemModstamp',\n",
       " 'EVENT_TYPE_x',\n",
       " 'TIMESTAMP_x',\n",
       " 'REQUEST_ID_x',\n",
       " 'ORGANIZATION_ID_x',\n",
       " 'USER_ID_x',\n",
       " 'RUN_TIME',\n",
       " 'CPU_TIME',\n",
       " 'URI',\n",
       " 'SESSION_KEY_x',\n",
       " 'LOGIN_KEY_x',\n",
       " 'USER_TYPE_x',\n",
       " 'REQUEST_STATUS',\n",
       " 'DB_TOTAL_TIME',\n",
       " 'ENTITY_NAME',\n",
       " 'DISPLAY_TYPE',\n",
       " 'RENDERING_TYPE',\n",
       " 'REPORT_ID',\n",
       " 'ROW_COUNT',\n",
       " 'NUMBER_EXCEPTION_FILTERS',\n",
       " 'NUMBER_COLUMNS',\n",
       " 'AVERAGE_ROW_SIZE',\n",
       " 'SORT',\n",
       " 'DB_BLOCKS',\n",
       " 'DB_CPU_TIME',\n",
       " 'NUMBER_BUCKETS',\n",
       " 'TIMESTAMP_DERIVED_x',\n",
       " 'USER_ID_DERIVED_x',\n",
       " 'CLIENT_IP_x',\n",
       " 'URI_ID_DERIVED',\n",
       " 'REPORT_ID_DERIVED_x',\n",
       " 'ORIGIN',\n",
       " 'IsActiveSinceCreation',\n",
       " 'IsActiveSinceLastModification',\n",
       " 'EVENT_TYPE_y',\n",
       " 'TIMESTAMP_y',\n",
       " 'REQUEST_ID_y',\n",
       " 'ORGANIZATION_ID_y',\n",
       " 'USER_ID_y',\n",
       " 'CLIENT_ID',\n",
       " 'SESSION_KEY_y',\n",
       " 'LOGIN_KEY_y',\n",
       " 'USER_TYPE_y',\n",
       " 'APP_NAME',\n",
       " 'DEVICE_PLATFORM',\n",
       " 'SDK_APP_VERSION',\n",
       " 'OS_NAME',\n",
       " 'OS_VERSION',\n",
       " 'USER_AGENT',\n",
       " 'BROWSER_NAME',\n",
       " 'BROWSER_VERSION',\n",
       " 'SDK_VERSION',\n",
       " 'DEVICE_MODEL',\n",
       " 'DEVICE_ID',\n",
       " 'SDK_APP_TYPE',\n",
       " 'CLIENT_GEO',\n",
       " 'CONNECTION_TYPE',\n",
       " 'UI_EVENT_ID',\n",
       " 'UI_EVENT_TYPE',\n",
       " 'UI_EVENT_SOURCE',\n",
       " 'UI_EVENT_TIMESTAMP',\n",
       " 'PAGE_START_TIME',\n",
       " 'DEVICE_SESSION_ID',\n",
       " 'UI_EVENT_SEQUENCE_NUM',\n",
       " 'PAGE_ENTITY_ID',\n",
       " 'PAGE_ENTITY_TYPE',\n",
       " 'PAGE_CONTEXT',\n",
       " 'PAGE_URL',\n",
       " 'PAGE_APP_NAME',\n",
       " 'COMPONENT_NAME',\n",
       " 'TIMESTAMP_DERIVED_y',\n",
       " 'USER_ID_DERIVED_y',\n",
       " 'CLIENT_IP_y',\n",
       " 'REPORT_INFO_DERIVED',\n",
       " 'REPORT_TYPE_DERIVED',\n",
       " 'REPORT_ID_DERIVED_y']"
      ]
     },
     "execution_count": 15,
     "metadata": {},
     "output_type": "execute_result"
    }
   ],
   "source": [
    "list(ltng_full_reports.columns)"
   ]
  },
  {
   "cell_type": "markdown",
   "id": "90a2f3a9",
   "metadata": {},
   "source": [
    "Removing useless columns "
   ]
  },
  {
   "cell_type": "code",
   "execution_count": 16,
   "id": "ceed3ba0",
   "metadata": {},
   "outputs": [],
   "source": [
    "ltng_full_reports = ltng_full_reports[interest_columns]"
   ]
  },
  {
   "cell_type": "code",
   "execution_count": 17,
   "id": "20cf07b4",
   "metadata": {},
   "outputs": [
    {
     "data": {
      "text/plain": [
       "(78804, 3)"
      ]
     },
     "execution_count": 17,
     "metadata": {},
     "output_type": "execute_result"
    }
   ],
   "source": [
    "ltng_full_reports.shape"
   ]
  },
  {
   "cell_type": "markdown",
   "id": "bc3e3a53",
   "metadata": {},
   "source": [
    "Renaming ***REPORT_ID_DERIVED_x*** to ***REPORT_ID_DERIVED***"
   ]
  },
  {
   "cell_type": "code",
   "execution_count": 18,
   "id": "f82e7606",
   "metadata": {},
   "outputs": [],
   "source": [
    "ltng_full_reports.rename(columns={'REPORT_ID_DERIVED_x': 'REPORT_ID_DERIVED'}, inplace = True)"
   ]
  },
  {
   "cell_type": "code",
   "execution_count": 19,
   "id": "0e29b402",
   "metadata": {},
   "outputs": [
    {
     "data": {
      "text/html": [
       "<div>\n",
       "<style scoped>\n",
       "    .dataframe tbody tr th:only-of-type {\n",
       "        vertical-align: middle;\n",
       "    }\n",
       "\n",
       "    .dataframe tbody tr th {\n",
       "        vertical-align: top;\n",
       "    }\n",
       "\n",
       "    .dataframe thead th {\n",
       "        text-align: right;\n",
       "    }\n",
       "</style>\n",
       "<table border=\"1\" class=\"dataframe\">\n",
       "  <thead>\n",
       "    <tr style=\"text-align: right;\">\n",
       "      <th></th>\n",
       "      <th>UI_EVENT_ID</th>\n",
       "      <th>CLIENT_GEO</th>\n",
       "      <th>REPORT_ID_DERIVED</th>\n",
       "    </tr>\n",
       "  </thead>\n",
       "  <tbody>\n",
       "    <tr>\n",
       "      <th>0</th>\n",
       "      <td>ltng:error</td>\n",
       "      <td>Australia/New South Wales</td>\n",
       "      <td>00O0b000004kTazEAE</td>\n",
       "    </tr>\n",
       "    <tr>\n",
       "      <th>1</th>\n",
       "      <td>ltng:error</td>\n",
       "      <td>United States/null</td>\n",
       "      <td>00O0b000004kTazEAE</td>\n",
       "    </tr>\n",
       "    <tr>\n",
       "      <th>2</th>\n",
       "      <td>ltng:error</td>\n",
       "      <td>Australia/New South Wales</td>\n",
       "      <td>00O0b000004kTazEAE</td>\n",
       "    </tr>\n",
       "    <tr>\n",
       "      <th>3</th>\n",
       "      <td>ltng:error</td>\n",
       "      <td>United States/null</td>\n",
       "      <td>00O0b000004kTazEAE</td>\n",
       "    </tr>\n",
       "    <tr>\n",
       "      <th>4</th>\n",
       "      <td>ltng:error</td>\n",
       "      <td>Australia/New South Wales</td>\n",
       "      <td>00O0b000004kTazEAE</td>\n",
       "    </tr>\n",
       "  </tbody>\n",
       "</table>\n",
       "</div>"
      ],
      "text/plain": [
       "  UI_EVENT_ID                 CLIENT_GEO   REPORT_ID_DERIVED\n",
       "0  ltng:error  Australia/New South Wales  00O0b000004kTazEAE\n",
       "1  ltng:error         United States/null  00O0b000004kTazEAE\n",
       "2  ltng:error  Australia/New South Wales  00O0b000004kTazEAE\n",
       "3  ltng:error         United States/null  00O0b000004kTazEAE\n",
       "4  ltng:error  Australia/New South Wales  00O0b000004kTazEAE"
      ]
     },
     "execution_count": 19,
     "metadata": {},
     "output_type": "execute_result"
    }
   ],
   "source": [
    "ltng_full_reports.head()"
   ]
  },
  {
   "cell_type": "markdown",
   "id": "16ad4514",
   "metadata": {},
   "source": [
    "## Loaging Lightning PageView"
   ]
  },
  {
   "cell_type": "code",
   "execution_count": 20,
   "id": "4deab8fe",
   "metadata": {},
   "outputs": [],
   "source": [
    "pageview_logs = pd.read_csv(\"../../data/Salesforce/Salesforce/ELF/LightningPageView/2022-06-05_LightningPageView.csv\", \n",
    "                            low_memory=False)"
   ]
  },
  {
   "cell_type": "code",
   "execution_count": 21,
   "id": "c770c050",
   "metadata": {},
   "outputs": [],
   "source": [
    "interest_columns = ['PAGE_URL', 'DURATION', 'EFFECTIVE_PAGE_TIME']"
   ]
  },
  {
   "cell_type": "code",
   "execution_count": 22,
   "id": "87c8ebd3",
   "metadata": {},
   "outputs": [],
   "source": [
    "pageview_ept = pageview_logs[interest_columns]"
   ]
  },
  {
   "cell_type": "code",
   "execution_count": 23,
   "id": "1c3fe016",
   "metadata": {},
   "outputs": [
    {
     "data": {
      "text/plain": [
       "(751610, 3)"
      ]
     },
     "execution_count": 23,
     "metadata": {},
     "output_type": "execute_result"
    }
   ],
   "source": [
    "pageview_ept.shape"
   ]
  },
  {
   "cell_type": "markdown",
   "id": "1c5da06d",
   "metadata": {},
   "source": [
    "### Getting *Report_Id* by *Page_Url*"
   ]
  },
  {
   "cell_type": "code",
   "execution_count": 24,
   "id": "7c581344",
   "metadata": {},
   "outputs": [],
   "source": [
    "pageview_ept = pageview_ept.dropna(subset = ['PAGE_URL'])"
   ]
  },
  {
   "cell_type": "code",
   "execution_count": 25,
   "id": "ca01e5f9",
   "metadata": {},
   "outputs": [
    {
     "data": {
      "text/plain": [
       "(749318, 3)"
      ]
     },
     "execution_count": 25,
     "metadata": {},
     "output_type": "execute_result"
    }
   ],
   "source": [
    "pageview_ept.shape"
   ]
  },
  {
   "cell_type": "code",
   "execution_count": 26,
   "id": "4af81099",
   "metadata": {},
   "outputs": [],
   "source": [
    "pageview_ept['REPORT_INFO_DERIVED'] = pageview_ept.PAGE_URL.apply(get_report_info_from_endpoint)"
   ]
  },
  {
   "cell_type": "code",
   "execution_count": 27,
   "id": "2f8377ec",
   "metadata": {},
   "outputs": [],
   "source": [
    "pageview_ept['REPORT_TYPE_DERIVED'] = pageview_ept.REPORT_INFO_DERIVED.str[0]"
   ]
  },
  {
   "cell_type": "code",
   "execution_count": 28,
   "id": "7753505b",
   "metadata": {},
   "outputs": [],
   "source": [
    "pageview_ept['REPORT_ID_DERIVED'] = pageview_ept.REPORT_INFO_DERIVED.str[1]"
   ]
  },
  {
   "cell_type": "code",
   "execution_count": 29,
   "id": "ba0e5197",
   "metadata": {},
   "outputs": [],
   "source": [
    "pageview_ept = pageview_ept.dropna(subset=['REPORT_ID_DERIVED'])"
   ]
  },
  {
   "cell_type": "markdown",
   "id": "dbc95b35",
   "metadata": {},
   "source": [
    "Applying problematic filters"
   ]
  },
  {
   "cell_type": "code",
   "execution_count": 30,
   "id": "12884250",
   "metadata": {},
   "outputs": [],
   "source": [
    "pageview_ept = pageview_ept[pageview_ept.EFFECTIVE_PAGE_TIME.isna()]"
   ]
  },
  {
   "cell_type": "code",
   "execution_count": 31,
   "id": "ff5f6aef",
   "metadata": {},
   "outputs": [],
   "source": [
    "pageview_ept = pageview_ept[pageview_ept.DURATION > 60000] # 60s -> 60000ms"
   ]
  },
  {
   "cell_type": "code",
   "execution_count": 32,
   "id": "7df81382",
   "metadata": {},
   "outputs": [
    {
     "data": {
      "text/html": [
       "<div>\n",
       "<style scoped>\n",
       "    .dataframe tbody tr th:only-of-type {\n",
       "        vertical-align: middle;\n",
       "    }\n",
       "\n",
       "    .dataframe tbody tr th {\n",
       "        vertical-align: top;\n",
       "    }\n",
       "\n",
       "    .dataframe thead th {\n",
       "        text-align: right;\n",
       "    }\n",
       "</style>\n",
       "<table border=\"1\" class=\"dataframe\">\n",
       "  <thead>\n",
       "    <tr style=\"text-align: right;\">\n",
       "      <th></th>\n",
       "      <th>PAGE_URL</th>\n",
       "      <th>DURATION</th>\n",
       "      <th>EFFECTIVE_PAGE_TIME</th>\n",
       "      <th>REPORT_INFO_DERIVED</th>\n",
       "      <th>REPORT_TYPE_DERIVED</th>\n",
       "      <th>REPORT_ID_DERIVED</th>\n",
       "    </tr>\n",
       "  </thead>\n",
       "  <tbody>\n",
       "    <tr>\n",
       "      <th>890</th>\n",
       "      <td>/lightning/r/Call_Transcript__c/a7Z2R000002Q33...</td>\n",
       "      <td>166655.0</td>\n",
       "      <td>NaN</td>\n",
       "      <td>(Call_Transcript__c, a7Z2R000002Q33NUAS)</td>\n",
       "      <td>Call_Transcript__c</td>\n",
       "      <td>a7Z2R000002Q33NUAS</td>\n",
       "    </tr>\n",
       "    <tr>\n",
       "      <th>1843</th>\n",
       "      <td>/lightning/r/Report/00O0b000006iNwdEAE/view</td>\n",
       "      <td>129212.0</td>\n",
       "      <td>NaN</td>\n",
       "      <td>(Report, 00O0b000006iNwdEAE)</td>\n",
       "      <td>Report</td>\n",
       "      <td>00O0b000006iNwdEAE</td>\n",
       "    </tr>\n",
       "    <tr>\n",
       "      <th>2363</th>\n",
       "      <td>/lightning/r/WorkOrder/0WO6P00000273YqWAI/view...</td>\n",
       "      <td>70994.0</td>\n",
       "      <td>NaN</td>\n",
       "      <td>(WorkOrder, 0WO6P00000273YqWAI)</td>\n",
       "      <td>WorkOrder</td>\n",
       "      <td>0WO6P00000273YqWAI</td>\n",
       "    </tr>\n",
       "    <tr>\n",
       "      <th>3254</th>\n",
       "      <td>/lightning/r/Contact/0036P000004Rl3nQAC/view?w...</td>\n",
       "      <td>68522.0</td>\n",
       "      <td>NaN</td>\n",
       "      <td>(Contact, 0036P000004Rl3nQAC)</td>\n",
       "      <td>Contact</td>\n",
       "      <td>0036P000004Rl3nQAC</td>\n",
       "    </tr>\n",
       "    <tr>\n",
       "      <th>4340</th>\n",
       "      <td>/lightning/r/Task/00T6P00000HboKyUAJ/view?ws=%...</td>\n",
       "      <td>92596.0</td>\n",
       "      <td>NaN</td>\n",
       "      <td>(Task, 00T6P00000HboKyUAJ)</td>\n",
       "      <td>Task</td>\n",
       "      <td>00T6P00000HboKyUAJ</td>\n",
       "    </tr>\n",
       "  </tbody>\n",
       "</table>\n",
       "</div>"
      ],
      "text/plain": [
       "                                               PAGE_URL  DURATION  \\\n",
       "890   /lightning/r/Call_Transcript__c/a7Z2R000002Q33...  166655.0   \n",
       "1843        /lightning/r/Report/00O0b000006iNwdEAE/view  129212.0   \n",
       "2363  /lightning/r/WorkOrder/0WO6P00000273YqWAI/view...   70994.0   \n",
       "3254  /lightning/r/Contact/0036P000004Rl3nQAC/view?w...   68522.0   \n",
       "4340  /lightning/r/Task/00T6P00000HboKyUAJ/view?ws=%...   92596.0   \n",
       "\n",
       "      EFFECTIVE_PAGE_TIME                       REPORT_INFO_DERIVED  \\\n",
       "890                   NaN  (Call_Transcript__c, a7Z2R000002Q33NUAS)   \n",
       "1843                  NaN              (Report, 00O0b000006iNwdEAE)   \n",
       "2363                  NaN           (WorkOrder, 0WO6P00000273YqWAI)   \n",
       "3254                  NaN             (Contact, 0036P000004Rl3nQAC)   \n",
       "4340                  NaN                (Task, 00T6P00000HboKyUAJ)   \n",
       "\n",
       "     REPORT_TYPE_DERIVED   REPORT_ID_DERIVED  \n",
       "890   Call_Transcript__c  a7Z2R000002Q33NUAS  \n",
       "1843              Report  00O0b000006iNwdEAE  \n",
       "2363           WorkOrder  0WO6P00000273YqWAI  \n",
       "3254             Contact  0036P000004Rl3nQAC  \n",
       "4340                Task  00T6P00000HboKyUAJ  "
      ]
     },
     "execution_count": 32,
     "metadata": {},
     "output_type": "execute_result"
    }
   ],
   "source": [
    "pageview_ept.head()"
   ]
  },
  {
   "cell_type": "markdown",
   "id": "eeac0b3c",
   "metadata": {},
   "source": [
    "## Merging to get active and problematic reports"
   ]
  },
  {
   "cell_type": "code",
   "execution_count": 33,
   "id": "265715d6",
   "metadata": {},
   "outputs": [],
   "source": [
    "active_and_problematic_reports = pd.merge(left=ltng_full_reports, right=pageview_ept, on='REPORT_ID_DERIVED')"
   ]
  },
  {
   "cell_type": "code",
   "execution_count": 34,
   "id": "746d8b5a",
   "metadata": {},
   "outputs": [
    {
     "data": {
      "text/plain": [
       "(1217052, 8)"
      ]
     },
     "execution_count": 34,
     "metadata": {},
     "output_type": "execute_result"
    }
   ],
   "source": [
    "active_and_problematic_reports.shape"
   ]
  },
  {
   "cell_type": "code",
   "execution_count": 35,
   "id": "013daceb",
   "metadata": {},
   "outputs": [
    {
     "data": {
      "text/html": [
       "<div>\n",
       "<style scoped>\n",
       "    .dataframe tbody tr th:only-of-type {\n",
       "        vertical-align: middle;\n",
       "    }\n",
       "\n",
       "    .dataframe tbody tr th {\n",
       "        vertical-align: top;\n",
       "    }\n",
       "\n",
       "    .dataframe thead th {\n",
       "        text-align: right;\n",
       "    }\n",
       "</style>\n",
       "<table border=\"1\" class=\"dataframe\">\n",
       "  <thead>\n",
       "    <tr style=\"text-align: right;\">\n",
       "      <th></th>\n",
       "      <th>UI_EVENT_ID</th>\n",
       "      <th>CLIENT_GEO</th>\n",
       "      <th>REPORT_ID_DERIVED</th>\n",
       "      <th>PAGE_URL</th>\n",
       "      <th>DURATION</th>\n",
       "      <th>EFFECTIVE_PAGE_TIME</th>\n",
       "      <th>REPORT_INFO_DERIVED</th>\n",
       "      <th>REPORT_TYPE_DERIVED</th>\n",
       "    </tr>\n",
       "  </thead>\n",
       "  <tbody>\n",
       "    <tr>\n",
       "      <th>0</th>\n",
       "      <td>ltng:error</td>\n",
       "      <td>Australia/New South Wales</td>\n",
       "      <td>00O0b000004kTazEAE</td>\n",
       "      <td>/lightning/r/Report/00O0b000004kTazEAE/view?qu...</td>\n",
       "      <td>60051.0</td>\n",
       "      <td>NaN</td>\n",
       "      <td>(Report, 00O0b000004kTazEAE)</td>\n",
       "      <td>Report</td>\n",
       "    </tr>\n",
       "    <tr>\n",
       "      <th>1</th>\n",
       "      <td>ltng:error</td>\n",
       "      <td>Australia/New South Wales</td>\n",
       "      <td>00O0b000004kTazEAE</td>\n",
       "      <td>/lightning/r/Report/00O0b000004kTazEAE/view?qu...</td>\n",
       "      <td>61267.0</td>\n",
       "      <td>NaN</td>\n",
       "      <td>(Report, 00O0b000004kTazEAE)</td>\n",
       "      <td>Report</td>\n",
       "    </tr>\n",
       "    <tr>\n",
       "      <th>2</th>\n",
       "      <td>ltng:error</td>\n",
       "      <td>Australia/New South Wales</td>\n",
       "      <td>00O0b000004kTazEAE</td>\n",
       "      <td>/lightning/r/Report/00O0b000004kTazEAE/view</td>\n",
       "      <td>333616.0</td>\n",
       "      <td>NaN</td>\n",
       "      <td>(Report, 00O0b000004kTazEAE)</td>\n",
       "      <td>Report</td>\n",
       "    </tr>\n",
       "    <tr>\n",
       "      <th>3</th>\n",
       "      <td>ltng:error</td>\n",
       "      <td>Australia/New South Wales</td>\n",
       "      <td>00O0b000004kTazEAE</td>\n",
       "      <td>/lightning/r/Report/00O0b000004kTazEAE/view</td>\n",
       "      <td>112760.0</td>\n",
       "      <td>NaN</td>\n",
       "      <td>(Report, 00O0b000004kTazEAE)</td>\n",
       "      <td>Report</td>\n",
       "    </tr>\n",
       "    <tr>\n",
       "      <th>4</th>\n",
       "      <td>ltng:error</td>\n",
       "      <td>Australia/New South Wales</td>\n",
       "      <td>00O0b000004kTazEAE</td>\n",
       "      <td>/lightning/r/Report/00O0b000004kTazEAE/view?qu...</td>\n",
       "      <td>62413.0</td>\n",
       "      <td>NaN</td>\n",
       "      <td>(Report, 00O0b000004kTazEAE)</td>\n",
       "      <td>Report</td>\n",
       "    </tr>\n",
       "  </tbody>\n",
       "</table>\n",
       "</div>"
      ],
      "text/plain": [
       "  UI_EVENT_ID                 CLIENT_GEO   REPORT_ID_DERIVED  \\\n",
       "0  ltng:error  Australia/New South Wales  00O0b000004kTazEAE   \n",
       "1  ltng:error  Australia/New South Wales  00O0b000004kTazEAE   \n",
       "2  ltng:error  Australia/New South Wales  00O0b000004kTazEAE   \n",
       "3  ltng:error  Australia/New South Wales  00O0b000004kTazEAE   \n",
       "4  ltng:error  Australia/New South Wales  00O0b000004kTazEAE   \n",
       "\n",
       "                                            PAGE_URL  DURATION  \\\n",
       "0  /lightning/r/Report/00O0b000004kTazEAE/view?qu...   60051.0   \n",
       "1  /lightning/r/Report/00O0b000004kTazEAE/view?qu...   61267.0   \n",
       "2        /lightning/r/Report/00O0b000004kTazEAE/view  333616.0   \n",
       "3        /lightning/r/Report/00O0b000004kTazEAE/view  112760.0   \n",
       "4  /lightning/r/Report/00O0b000004kTazEAE/view?qu...   62413.0   \n",
       "\n",
       "   EFFECTIVE_PAGE_TIME           REPORT_INFO_DERIVED REPORT_TYPE_DERIVED  \n",
       "0                  NaN  (Report, 00O0b000004kTazEAE)              Report  \n",
       "1                  NaN  (Report, 00O0b000004kTazEAE)              Report  \n",
       "2                  NaN  (Report, 00O0b000004kTazEAE)              Report  \n",
       "3                  NaN  (Report, 00O0b000004kTazEAE)              Report  \n",
       "4                  NaN  (Report, 00O0b000004kTazEAE)              Report  "
      ]
     },
     "execution_count": 35,
     "metadata": {},
     "output_type": "execute_result"
    }
   ],
   "source": [
    "active_and_problematic_reports.head()"
   ]
  },
  {
   "cell_type": "markdown",
   "id": "65ecbbcd",
   "metadata": {},
   "source": [
    "---"
   ]
  },
  {
   "cell_type": "markdown",
   "id": "cf7f8fb1",
   "metadata": {},
   "source": [
    "## Analyzing regions where most of the errors come from"
   ]
  },
  {
   "cell_type": "markdown",
   "id": "fcfa1b7e",
   "metadata": {},
   "source": [
    "Grouping customer location by quantity of errors"
   ]
  },
  {
   "cell_type": "code",
   "execution_count": 36,
   "id": "58e5325c",
   "metadata": {},
   "outputs": [],
   "source": [
    "active_and_problematic_reports_group = active_and_problematic_reports.groupby(['CLIENT_GEO']).agg({'UI_EVENT_ID': 'count'})"
   ]
  },
  {
   "cell_type": "markdown",
   "id": "937f7515",
   "metadata": {},
   "source": [
    "Renaming ***UI_EVENT_ID*** to ***UI_EVENT_ID_COUNT***"
   ]
  },
  {
   "cell_type": "code",
   "execution_count": 37,
   "id": "8379fd62",
   "metadata": {},
   "outputs": [],
   "source": [
    "active_and_problematic_reports_group.rename(columns={'UI_EVENT_ID': 'UI_EVENT_ID_COUNT'}, inplace = True)"
   ]
  },
  {
   "cell_type": "code",
   "execution_count": 38,
   "id": "d9248b06",
   "metadata": {},
   "outputs": [
    {
     "data": {
      "text/html": [
       "<div>\n",
       "<style scoped>\n",
       "    .dataframe tbody tr th:only-of-type {\n",
       "        vertical-align: middle;\n",
       "    }\n",
       "\n",
       "    .dataframe tbody tr th {\n",
       "        vertical-align: top;\n",
       "    }\n",
       "\n",
       "    .dataframe thead th {\n",
       "        text-align: right;\n",
       "    }\n",
       "</style>\n",
       "<table border=\"1\" class=\"dataframe\">\n",
       "  <thead>\n",
       "    <tr style=\"text-align: right;\">\n",
       "      <th></th>\n",
       "      <th>UI_EVENT_ID_COUNT</th>\n",
       "    </tr>\n",
       "    <tr>\n",
       "      <th>CLIENT_GEO</th>\n",
       "      <th></th>\n",
       "    </tr>\n",
       "  </thead>\n",
       "  <tbody>\n",
       "    <tr>\n",
       "      <th>Australia/New South Wales</th>\n",
       "      <td>167625</td>\n",
       "    </tr>\n",
       "    <tr>\n",
       "      <th>India/National Capital Territory of Delhi</th>\n",
       "      <td>9144</td>\n",
       "    </tr>\n",
       "    <tr>\n",
       "      <th>United States/Texas</th>\n",
       "      <td>295296</td>\n",
       "    </tr>\n",
       "    <tr>\n",
       "      <th>United States/Utah</th>\n",
       "      <td>577362</td>\n",
       "    </tr>\n",
       "    <tr>\n",
       "      <th>United States/null</th>\n",
       "      <td>167625</td>\n",
       "    </tr>\n",
       "  </tbody>\n",
       "</table>\n",
       "</div>"
      ],
      "text/plain": [
       "                                           UI_EVENT_ID_COUNT\n",
       "CLIENT_GEO                                                  \n",
       "Australia/New South Wales                             167625\n",
       "India/National Capital Territory of Delhi               9144\n",
       "United States/Texas                                   295296\n",
       "United States/Utah                                    577362\n",
       "United States/null                                    167625"
      ]
     },
     "execution_count": 38,
     "metadata": {},
     "output_type": "execute_result"
    }
   ],
   "source": [
    "active_and_problematic_reports_group"
   ]
  },
  {
   "cell_type": "code",
   "execution_count": 39,
   "id": "acc14d95",
   "metadata": {},
   "outputs": [],
   "source": [
    "active_and_problematic_reports_group.reset_index(inplace=True)"
   ]
  },
  {
   "cell_type": "code",
   "execution_count": 40,
   "id": "a3f94d0b",
   "metadata": {},
   "outputs": [
    {
     "data": {
      "text/html": [
       "<div>\n",
       "<style scoped>\n",
       "    .dataframe tbody tr th:only-of-type {\n",
       "        vertical-align: middle;\n",
       "    }\n",
       "\n",
       "    .dataframe tbody tr th {\n",
       "        vertical-align: top;\n",
       "    }\n",
       "\n",
       "    .dataframe thead th {\n",
       "        text-align: right;\n",
       "    }\n",
       "</style>\n",
       "<table border=\"1\" class=\"dataframe\">\n",
       "  <thead>\n",
       "    <tr style=\"text-align: right;\">\n",
       "      <th></th>\n",
       "      <th>CLIENT_GEO</th>\n",
       "      <th>UI_EVENT_ID_COUNT</th>\n",
       "    </tr>\n",
       "  </thead>\n",
       "  <tbody>\n",
       "    <tr>\n",
       "      <th>0</th>\n",
       "      <td>Australia/New South Wales</td>\n",
       "      <td>167625</td>\n",
       "    </tr>\n",
       "    <tr>\n",
       "      <th>1</th>\n",
       "      <td>India/National Capital Territory of Delhi</td>\n",
       "      <td>9144</td>\n",
       "    </tr>\n",
       "    <tr>\n",
       "      <th>2</th>\n",
       "      <td>United States/Texas</td>\n",
       "      <td>295296</td>\n",
       "    </tr>\n",
       "    <tr>\n",
       "      <th>3</th>\n",
       "      <td>United States/Utah</td>\n",
       "      <td>577362</td>\n",
       "    </tr>\n",
       "    <tr>\n",
       "      <th>4</th>\n",
       "      <td>United States/null</td>\n",
       "      <td>167625</td>\n",
       "    </tr>\n",
       "  </tbody>\n",
       "</table>\n",
       "</div>"
      ],
      "text/plain": [
       "                                  CLIENT_GEO  UI_EVENT_ID_COUNT\n",
       "0                  Australia/New South Wales             167625\n",
       "1  India/National Capital Territory of Delhi               9144\n",
       "2                        United States/Texas             295296\n",
       "3                         United States/Utah             577362\n",
       "4                         United States/null             167625"
      ]
     },
     "execution_count": 40,
     "metadata": {},
     "output_type": "execute_result"
    }
   ],
   "source": [
    "active_and_problematic_reports_group"
   ]
  },
  {
   "cell_type": "markdown",
   "id": "451c289e",
   "metadata": {},
   "source": [
    "Getting the countries"
   ]
  },
  {
   "cell_type": "code",
   "execution_count": 42,
   "id": "8cc0e52c",
   "metadata": {},
   "outputs": [],
   "source": [
    "list_of_client_geo = active_and_problematic_reports_group['CLIENT_GEO'].tolist()\n",
    "list_of_ui_event_id_count = active_and_problematic_reports_group['UI_EVENT_ID_COUNT'].tolist()"
   ]
  },
  {
   "cell_type": "code",
   "execution_count": 51,
   "id": "6d97fead",
   "metadata": {},
   "outputs": [
    {
     "name": "stdout",
     "output_type": "stream",
     "text": [
      "['Australia', 'India', 'United States', 'United States', 'United States']\n"
     ]
    }
   ],
   "source": [
    "list_of_countries = []\n",
    "\n",
    "for client_geo in list_of_client_geo:\n",
    "    region = client_geo.split(\"/\")\n",
    "    list_of_countries.append(region[0])\n",
    "\n",
    "print(list_of_countries)"
   ]
  },
  {
   "cell_type": "code",
   "execution_count": 53,
   "id": "00c46b20",
   "metadata": {},
   "outputs": [
    {
     "name": "stdout",
     "output_type": "stream",
     "text": [
      "{'Australia': 0, 'India': 0, 'United States': 0}\n"
     ]
    }
   ],
   "source": [
    "dict_of_countries = {}\n",
    "\n",
    "for country in list_of_countries:\n",
    "    dict_of_countries[country] = 0\n",
    "    \n",
    "print(dict_of_countries)"
   ]
  },
  {
   "cell_type": "code",
   "execution_count": 62,
   "id": "7927460a",
   "metadata": {},
   "outputs": [
    {
     "name": "stdout",
     "output_type": "stream",
     "text": [
      "dict_keys(['Australia', 'India', 'United States'])\n",
      "dict_values([838125, 45720, 5201415])\n",
      "['Australia', 'India', 'United States'] [838125, 45720, 5201415]\n"
     ]
    }
   ],
   "source": [
    "for i in range(len(list_of_client_geo)):\n",
    "    dict_of_countries[list_of_countries[i]] += list_of_ui_event_id_count[i]\n",
    "\n",
    "list_countries = []\n",
    "list_count_errors = []\n",
    "\n",
    "for index, key in enumerate(dict_of_countries):\n",
    "    list_countries.append(key)\n",
    "    list_count_errors.append(dict_of_countries[key])\n",
    "\n",
    "print(list_countries, list_count_errors)"
   ]
  },
  {
   "cell_type": "markdown",
   "id": "dd41ad84",
   "metadata": {},
   "source": [
    "Viewing the data"
   ]
  },
  {
   "cell_type": "code",
   "execution_count": 70,
   "id": "af8807cd",
   "metadata": {},
   "outputs": [
    {
     "data": {
      "image/png": "[encoded data removed]",
      "text/plain": [
       "<Figure size 864x576 with 1 Axes>"
      ]
     },
     "metadata": {},
     "output_type": "display_data"
    }
   ],
   "source": [
    "import numpy as np \n",
    "import matplotlib.pyplot as plt \n",
    "\n",
    "explode = (0.1, 0.2, 0.0) \n",
    "cmap = plt.get_cmap(\"tab20c\")\n",
    "outer_colors = cmap(np.arange(len(list_countries))*3)\n",
    "wp = { 'linewidth' : 1, 'edgecolor' : \"white\" } \n",
    "\n",
    "def func(pct, allvalues): \n",
    "    absolute = int(pct / 100.*np.sum(allvalues)) \n",
    "    return \"{:.1f}%\\n({:d} g)\".format(pct, absolute)\n",
    "fig, ax = plt.subplots(figsize =(12, 8))\n",
    "\n",
    "wedges, texts, autotexts = ax.pie(list_count_errors,  \n",
    "                                  autopct = lambda pct: func(pct, list_count_errors), \n",
    "                                  explode = explode,  \n",
    "                                  shadow = True, \n",
    "                                  colors = outer_colors, \n",
    "                                  startangle = 90, \n",
    "                                  wedgeprops = wp, \n",
    "                                  textprops = dict(color =\"black\")) \n",
    "\n",
    "ax.legend(wedges, list_countries, \n",
    "          title =\"Countries\", \n",
    "          loc =\"center left\", \n",
    "          bbox_to_anchor =(1, 0, 0.5, 1)) \n",
    "  \n",
    "plt.setp(autotexts, size = 8, weight =\"bold\") \n",
    "ax.set_title(\"Number of errors by country\") \n",
    "plt.show()"
   ]
  }
 ],
 "metadata": {
  "kernelspec": {
   "display_name": "Python 3 (ipykernel)",
   "language": "python",
   "name": "python3"
  },
  "language_info": {
   "codemirror_mode": {
    "name": "ipython",
    "version": 3
   },
   "file_extension": ".py",
   "mimetype": "text/x-python",
   "name": "python",
   "nbconvert_exporter": "python",
   "pygments_lexer": "ipython3",
   "version": "3.9.12"
  }
 },
 "nbformat": 4,
 "nbformat_minor": 5
}
