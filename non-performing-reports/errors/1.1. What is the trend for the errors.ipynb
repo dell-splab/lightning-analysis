{
 "cells": [
  {
   "cell_type": "markdown",
   "id": "7361f7c2",
   "metadata": {},
   "source": [
    "# 1.1. What is the trend for the errors?\n",
    "Questions being answered in this notebook.\n",
    ">- [x] Is there a pattern in the error trends every day?\n",
    ">- [x] Is there a specific hour of the day when the most errors occur?\n",
    ">- [x] Are the errors coming from specific pages? \n",
    ">- [x] What region/location do most of the errors come from?"
   ]
  }
 ],
 "metadata": {
  "kernelspec": {
   "display_name": "Python 3 (ipykernel)",
   "language": "python",
   "name": "python3"
  },
  "language_info": {
   "codemirror_mode": {
    "name": "ipython",
    "version": 3
   },
   "file_extension": ".py",
   "mimetype": "text/x-python",
   "name": "python",
   "nbconvert_exporter": "python",
   "pygments_lexer": "ipython3",
   "version": "3.9.12"
  }
 },
 "nbformat": 4,
 "nbformat_minor": 5
}
