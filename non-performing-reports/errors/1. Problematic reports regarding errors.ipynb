{
 "cells": [
  {
   "cell_type": "markdown",
   "id": "05a3d937",
   "metadata": {},
   "source": [
    "#  Problematic Reports Regarding Errors\n",
    "\n",
    "---\n",
    "\n",
    ">You will know how to answer the following questions at the end of this notebook.\n",
    ">- [x] What is a problematic report regarding errors?"
   ]
  },
  {
   "cell_type": "code",
   "execution_count": 1,
   "id": "4fd6c96b",
   "metadata": {},
   "outputs": [],
   "source": [
    "import pandas as pd"
   ]
  },
  {
   "cell_type": "markdown",
   "id": "0fb3cff4",
   "metadata": {},
   "source": [
    "#### Loading the active reports dataset"
   ]
  },
  {
   "cell_type": "code",
   "execution_count": 2,
   "id": "2f44ca86",
   "metadata": {},
   "outputs": [
    {
     "name": "stderr",
     "output_type": "stream",
     "text": [
      "C:\\Users\\gabim\\AppData\\Local\\Temp\\ipykernel_21892\\2041366086.py:1: DtypeWarning: Columns (10,12,31) have mixed types. Specify dtype option on import or set low_memory=False.\n",
      "  active_reports = pd.read_csv(\"../../datasets/active_reports.csv\")\n"
     ]
    }
   ],
   "source": [
    "active_reports = pd.read_csv(\"../../datasets/active_reports.csv\")"
   ]
  },
  {
   "cell_type": "markdown",
   "id": "c2cbfd9d",
   "metadata": {},
   "source": [
    "#### Loading the Lightning Error dataset"
   ]
  },
  {
   "cell_type": "code",
   "execution_count": 3,
   "id": "cc0bc4b1",
   "metadata": {},
   "outputs": [],
   "source": [
    "lightning_error = pd.read_csv(\"../../data/lightning sample/lightning error sample/2022-06-06_LightningError.csv\")"
   ]
  },
  {
   "cell_type": "code",
   "execution_count": 4,
   "id": "52c5235e",
   "metadata": {},
   "outputs": [
    {
     "data": {
      "text/plain": [
       "Index(['EVENT_TYPE', 'TIMESTAMP', 'REQUEST_ID', 'ORGANIZATION_ID', 'USER_ID',\n",
       "       'CLIENT_ID', 'SESSION_KEY', 'LOGIN_KEY', 'USER_TYPE', 'APP_NAME',\n",
       "       'DEVICE_PLATFORM', 'SDK_APP_VERSION', 'OS_NAME', 'OS_VERSION',\n",
       "       'USER_AGENT', 'BROWSER_NAME', 'BROWSER_VERSION', 'SDK_VERSION',\n",
       "       'DEVICE_MODEL', 'DEVICE_ID', 'SDK_APP_TYPE', 'CLIENT_GEO',\n",
       "       'CONNECTION_TYPE', 'UI_EVENT_ID', 'UI_EVENT_TYPE', 'UI_EVENT_SOURCE',\n",
       "       'UI_EVENT_TIMESTAMP', 'PAGE_START_TIME', 'DEVICE_SESSION_ID',\n",
       "       'UI_EVENT_SEQUENCE_NUM', 'PAGE_ENTITY_ID', 'PAGE_ENTITY_TYPE',\n",
       "       'PAGE_CONTEXT', 'PAGE_URL', 'PAGE_APP_NAME', 'COMPONENT_NAME',\n",
       "       'TIMESTAMP_DERIVED', 'USER_ID_DERIVED', 'CLIENT_IP'],\n",
       "      dtype='object')"
      ]
     },
     "execution_count": 4,
     "metadata": {},
     "output_type": "execute_result"
    }
   ],
   "source": [
    "lightning_error.columns"
   ]
  },
  {
   "cell_type": "markdown",
   "id": "5df6a0e6",
   "metadata": {},
   "source": [
    "These are the columns the Lightning Error event has, but for this analysis we are interested in some variables like client region, page url, timestamp, etc. So we will filter the dataframes to have only these informations."
   ]
  },
  {
   "cell_type": "code",
   "execution_count": 5,
   "id": "308e6c99",
   "metadata": {},
   "outputs": [],
   "source": [
    "error_cols = ['CLIENT_GEO', 'PAGE_URL', 'PAGE_CONTEXT', 'PAGE_ENTITY_TYPE', 'TIMESTAMP', 'TIMESTAMP_DERIVED', 'UI_EVENT_SOURCE', 'UI_EVENT_TYPE', 'USER_AGENT']\n",
    "report_obj_cols = ['Id', 'Name']"
   ]
  },
  {
   "cell_type": "code",
   "execution_count": 6,
   "id": "31b7f5ec",
   "metadata": {},
   "outputs": [],
   "source": [
    "ltng_error = lightning_error[error_cols]\n",
    "report_names = active_reports[report_obj_cols]"
   ]
  },
  {
   "cell_type": "markdown",
   "id": "1989f221",
   "metadata": {},
   "source": [
    "Removing missing data."
   ]
  },
  {
   "cell_type": "code",
   "execution_count": 7,
   "id": "bb5bfd0c",
   "metadata": {},
   "outputs": [],
   "source": [
    "ltng_error_cleaned = ltng_error.dropna(subset=error_cols)"
   ]
  },
  {
   "cell_type": "markdown",
   "id": "6afb8504",
   "metadata": {},
   "source": [
    "We can get the Report ID from the PAGE_URL on Lightning Error, so we filter the endpoints and create a new column called REPORT_ID_DERIVED to save the Report ID on Lightning Error dataframe."
   ]
  },
  {
   "cell_type": "code",
   "execution_count": 8,
   "id": "2526eacc",
   "metadata": {},
   "outputs": [],
   "source": [
    "import re\n",
    "\n",
    "pattern = re.compile(r'\\/lightning\\/r\\/(?P<report_type>[a-zA-Z]{4,})\\/(?P<report_id>[0-9a-zA-Z]{18})')\n",
    "\n",
    "def filter_run_report_endpoints(pattern, url):\n",
    "    m = re.match(pattern, url)\n",
    "    if m:\n",
    "        return m.group('report_id')"
   ]
  },
  {
   "cell_type": "code",
   "execution_count": 9,
   "id": "eeae226b",
   "metadata": {},
   "outputs": [
    {
     "name": "stderr",
     "output_type": "stream",
     "text": [
      "C:\\Users\\gabim\\AppData\\Local\\Temp\\ipykernel_21892\\3101863790.py:1: SettingWithCopyWarning: \n",
      "A value is trying to be set on a copy of a slice from a DataFrame.\n",
      "Try using .loc[row_indexer,col_indexer] = value instead\n",
      "\n",
      "See the caveats in the documentation: https://pandas.pydata.org/pandas-docs/stable/user_guide/indexing.html#returning-a-view-versus-a-copy\n",
      "  ltng_error_cleaned['REPORT_ID_DERIVED'] =\\\n"
     ]
    }
   ],
   "source": [
    "ltng_error_cleaned['REPORT_ID_DERIVED'] =\\\n",
    "    ltng_error_cleaned.PAGE_URL.apply(lambda url: filter_run_report_endpoints(pattern, url))"
   ]
  },
  {
   "cell_type": "code",
   "execution_count": 10,
   "id": "f8fb6f39",
   "metadata": {},
   "outputs": [],
   "source": [
    "ltng_error_filtered = ltng_error_cleaned.dropna(subset=['REPORT_ID_DERIVED'])"
   ]
  },
  {
   "cell_type": "code",
   "execution_count": 11,
   "id": "209f5e0b",
   "metadata": {
    "scrolled": true
   },
   "outputs": [
    {
     "data": {
      "text/html": [
       "<div>\n",
       "<style scoped>\n",
       "    .dataframe tbody tr th:only-of-type {\n",
       "        vertical-align: middle;\n",
       "    }\n",
       "\n",
       "    .dataframe tbody tr th {\n",
       "        vertical-align: top;\n",
       "    }\n",
       "\n",
       "    .dataframe thead th {\n",
       "        text-align: right;\n",
       "    }\n",
       "</style>\n",
       "<table border=\"1\" class=\"dataframe\">\n",
       "  <thead>\n",
       "    <tr style=\"text-align: right;\">\n",
       "      <th></th>\n",
       "      <th>CLIENT_GEO</th>\n",
       "      <th>PAGE_URL</th>\n",
       "      <th>PAGE_CONTEXT</th>\n",
       "      <th>PAGE_ENTITY_TYPE</th>\n",
       "      <th>TIMESTAMP</th>\n",
       "      <th>TIMESTAMP_DERIVED</th>\n",
       "      <th>UI_EVENT_SOURCE</th>\n",
       "      <th>UI_EVENT_TYPE</th>\n",
       "      <th>USER_AGENT</th>\n",
       "      <th>REPORT_ID_DERIVED</th>\n",
       "    </tr>\n",
       "  </thead>\n",
       "  <tbody>\n",
       "    <tr>\n",
       "      <th>0</th>\n",
       "      <td>Australia/New South Wales</td>\n",
       "      <td>/lightning/r/Case/5006P000005FoO5QAK/view</td>\n",
       "      <td>one:recordHomeFlexipage2Wrapper</td>\n",
       "      <td>Case</td>\n",
       "      <td>2.022061e+13</td>\n",
       "      <td>2022-06-06T00:00:29.202Z</td>\n",
       "      <td>Error</td>\n",
       "      <td>error</td>\n",
       "      <td>\"Mozilla/5.0 (Windows NT 10.0; Win64; x64) App...</td>\n",
       "      <td>5006P000005FoO5QAK</td>\n",
       "    </tr>\n",
       "    <tr>\n",
       "      <th>7</th>\n",
       "      <td>China/Fujian</td>\n",
       "      <td>/lightning/r/Case/5006P000005etR4QAI/view</td>\n",
       "      <td>one:recordHomeFlexipage2Wrapper</td>\n",
       "      <td>Case</td>\n",
       "      <td>2.022061e+13</td>\n",
       "      <td>2022-06-06T00:11:43.243Z</td>\n",
       "      <td>TypeError</td>\n",
       "      <td>error</td>\n",
       "      <td>\"Mozilla/5.0 (Windows NT 10.0; WOW64) AppleWeb...</td>\n",
       "      <td>5006P000005etR4QAI</td>\n",
       "    </tr>\n",
       "    <tr>\n",
       "      <th>8</th>\n",
       "      <td>China/Fujian</td>\n",
       "      <td>/lightning/r/Case/5006P000005ermFQAQ/view</td>\n",
       "      <td>one:recordHomeFlexipage2Wrapper</td>\n",
       "      <td>Case</td>\n",
       "      <td>2.022061e+13</td>\n",
       "      <td>2022-06-06T00:12:14.286Z</td>\n",
       "      <td>TypeError</td>\n",
       "      <td>error</td>\n",
       "      <td>\"Mozilla/5.0 (Windows NT 10.0; WOW64) AppleWeb...</td>\n",
       "      <td>5006P000005ermFQAQ</td>\n",
       "    </tr>\n",
       "    <tr>\n",
       "      <th>9</th>\n",
       "      <td>China/Fujian</td>\n",
       "      <td>/lightning/r/Case/5006P000005PECNQA4/view</td>\n",
       "      <td>one:recordHomeFlexipage2Wrapper</td>\n",
       "      <td>Case</td>\n",
       "      <td>2.022061e+13</td>\n",
       "      <td>2022-06-06T00:12:52.188Z</td>\n",
       "      <td>TypeError</td>\n",
       "      <td>error</td>\n",
       "      <td>\"Mozilla/5.0 (Windows NT 10.0; WOW64) AppleWeb...</td>\n",
       "      <td>5006P000005PECNQA4</td>\n",
       "    </tr>\n",
       "    <tr>\n",
       "      <th>10</th>\n",
       "      <td>China/Fujian</td>\n",
       "      <td>/lightning/r/Case/5006P000005PECNQA4/view</td>\n",
       "      <td>one:recordHomeFlexipage2Wrapper</td>\n",
       "      <td>Case</td>\n",
       "      <td>2.022061e+13</td>\n",
       "      <td>2022-06-06T00:12:52.191Z</td>\n",
       "      <td>TypeError</td>\n",
       "      <td>error</td>\n",
       "      <td>\"Mozilla/5.0 (Windows NT 10.0; WOW64) AppleWeb...</td>\n",
       "      <td>5006P000005PECNQA4</td>\n",
       "    </tr>\n",
       "  </tbody>\n",
       "</table>\n",
       "</div>"
      ],
      "text/plain": [
       "                   CLIENT_GEO                                   PAGE_URL  \\\n",
       "0   Australia/New South Wales  /lightning/r/Case/5006P000005FoO5QAK/view   \n",
       "7                China/Fujian  /lightning/r/Case/5006P000005etR4QAI/view   \n",
       "8                China/Fujian  /lightning/r/Case/5006P000005ermFQAQ/view   \n",
       "9                China/Fujian  /lightning/r/Case/5006P000005PECNQA4/view   \n",
       "10               China/Fujian  /lightning/r/Case/5006P000005PECNQA4/view   \n",
       "\n",
       "                       PAGE_CONTEXT PAGE_ENTITY_TYPE     TIMESTAMP  \\\n",
       "0   one:recordHomeFlexipage2Wrapper             Case  2.022061e+13   \n",
       "7   one:recordHomeFlexipage2Wrapper             Case  2.022061e+13   \n",
       "8   one:recordHomeFlexipage2Wrapper             Case  2.022061e+13   \n",
       "9   one:recordHomeFlexipage2Wrapper             Case  2.022061e+13   \n",
       "10  one:recordHomeFlexipage2Wrapper             Case  2.022061e+13   \n",
       "\n",
       "           TIMESTAMP_DERIVED UI_EVENT_SOURCE UI_EVENT_TYPE  \\\n",
       "0   2022-06-06T00:00:29.202Z           Error         error   \n",
       "7   2022-06-06T00:11:43.243Z       TypeError         error   \n",
       "8   2022-06-06T00:12:14.286Z       TypeError         error   \n",
       "9   2022-06-06T00:12:52.188Z       TypeError         error   \n",
       "10  2022-06-06T00:12:52.191Z       TypeError         error   \n",
       "\n",
       "                                           USER_AGENT   REPORT_ID_DERIVED  \n",
       "0   \"Mozilla/5.0 (Windows NT 10.0; Win64; x64) App...  5006P000005FoO5QAK  \n",
       "7   \"Mozilla/5.0 (Windows NT 10.0; WOW64) AppleWeb...  5006P000005etR4QAI  \n",
       "8   \"Mozilla/5.0 (Windows NT 10.0; WOW64) AppleWeb...  5006P000005ermFQAQ  \n",
       "9   \"Mozilla/5.0 (Windows NT 10.0; WOW64) AppleWeb...  5006P000005PECNQA4  \n",
       "10  \"Mozilla/5.0 (Windows NT 10.0; WOW64) AppleWeb...  5006P000005PECNQA4  "
      ]
     },
     "execution_count": 11,
     "metadata": {},
     "output_type": "execute_result"
    }
   ],
   "source": [
    "ltng_error_filtered.head()"
   ]
  },
  {
   "cell_type": "markdown",
   "id": "41c51214",
   "metadata": {},
   "source": [
    "Now we can relate the active reports with their errors."
   ]
  },
  {
   "cell_type": "code",
   "execution_count": 12,
   "id": "5467d7da",
   "metadata": {},
   "outputs": [
    {
     "data": {
      "text/html": [
       "<div>\n",
       "<style scoped>\n",
       "    .dataframe tbody tr th:only-of-type {\n",
       "        vertical-align: middle;\n",
       "    }\n",
       "\n",
       "    .dataframe tbody tr th {\n",
       "        vertical-align: top;\n",
       "    }\n",
       "\n",
       "    .dataframe thead th {\n",
       "        text-align: right;\n",
       "    }\n",
       "</style>\n",
       "<table border=\"1\" class=\"dataframe\">\n",
       "  <thead>\n",
       "    <tr style=\"text-align: right;\">\n",
       "      <th></th>\n",
       "      <th>REPORT_ID_DERIVED</th>\n",
       "    </tr>\n",
       "  </thead>\n",
       "  <tbody>\n",
       "    <tr>\n",
       "      <th>00O0b000006iNwdEAE</th>\n",
       "      <td>493696</td>\n",
       "    </tr>\n",
       "    <tr>\n",
       "      <th>00O0b000004AmRrEAK</th>\n",
       "      <td>175527</td>\n",
       "    </tr>\n",
       "    <tr>\n",
       "      <th>00O0b000004kTazEAE</th>\n",
       "      <td>60345</td>\n",
       "    </tr>\n",
       "    <tr>\n",
       "      <th>00O2R000004AmwmUAC</th>\n",
       "      <td>44593</td>\n",
       "    </tr>\n",
       "    <tr>\n",
       "      <th>00O2R000004AmgKUAS</th>\n",
       "      <td>13845</td>\n",
       "    </tr>\n",
       "    <tr>\n",
       "      <th>00O0b000005yLBGEA2</th>\n",
       "      <td>9144</td>\n",
       "    </tr>\n",
       "    <tr>\n",
       "      <th>00O2R000003JCXaUAO</th>\n",
       "      <td>4584</td>\n",
       "    </tr>\n",
       "    <tr>\n",
       "      <th>00O0b000004AoOOEA0</th>\n",
       "      <td>3960</td>\n",
       "    </tr>\n",
       "    <tr>\n",
       "      <th>00O0b000004kkZKEAY</th>\n",
       "      <td>3150</td>\n",
       "    </tr>\n",
       "    <tr>\n",
       "      <th>00O0b000004AnhWEAS</th>\n",
       "      <td>1848</td>\n",
       "    </tr>\n",
       "    <tr>\n",
       "      <th>00O2R0000043lHKUAY</th>\n",
       "      <td>912</td>\n",
       "    </tr>\n",
       "    <tr>\n",
       "      <th>00O2R0000043lHLUAY</th>\n",
       "      <td>686</td>\n",
       "    </tr>\n",
       "    <tr>\n",
       "      <th>00O2R0000043l7CUAQ</th>\n",
       "      <td>206</td>\n",
       "    </tr>\n",
       "    <tr>\n",
       "      <th>00O2R000003vSwTUAU</th>\n",
       "      <td>192</td>\n",
       "    </tr>\n",
       "    <tr>\n",
       "      <th>00O0b000004AmRyEAK</th>\n",
       "      <td>183</td>\n",
       "    </tr>\n",
       "    <tr>\n",
       "      <th>00O1P000003t9dgUAA</th>\n",
       "      <td>60</td>\n",
       "    </tr>\n",
       "    <tr>\n",
       "      <th>00O0b000004AmRmEAK</th>\n",
       "      <td>54</td>\n",
       "    </tr>\n",
       "    <tr>\n",
       "      <th>00O2R0000043lyrUAA</th>\n",
       "      <td>1</td>\n",
       "    </tr>\n",
       "  </tbody>\n",
       "</table>\n",
       "</div>"
      ],
      "text/plain": [
       "                    REPORT_ID_DERIVED\n",
       "00O0b000006iNwdEAE             493696\n",
       "00O0b000004AmRrEAK             175527\n",
       "00O0b000004kTazEAE              60345\n",
       "00O2R000004AmwmUAC              44593\n",
       "00O2R000004AmgKUAS              13845\n",
       "00O0b000005yLBGEA2               9144\n",
       "00O2R000003JCXaUAO               4584\n",
       "00O0b000004AoOOEA0               3960\n",
       "00O0b000004kkZKEAY               3150\n",
       "00O0b000004AnhWEAS               1848\n",
       "00O2R0000043lHKUAY                912\n",
       "00O2R0000043lHLUAY                686\n",
       "00O2R0000043l7CUAQ                206\n",
       "00O2R000003vSwTUAU                192\n",
       "00O0b000004AmRyEAK                183\n",
       "00O1P000003t9dgUAA                 60\n",
       "00O0b000004AmRmEAK                 54\n",
       "00O2R0000043lyrUAA                  1"
      ]
     },
     "execution_count": 12,
     "metadata": {},
     "output_type": "execute_result"
    }
   ],
   "source": [
    "error_count = pd.DataFrame(pd.merge(\n",
    "    left=report_names, \n",
    "    right=ltng_error_filtered, \n",
    "    left_on='Id', right_on='REPORT_ID_DERIVED').REPORT_ID_DERIVED.value_counts())\n",
    "error_count"
   ]
  },
  {
   "cell_type": "markdown",
   "id": "63c077dd",
   "metadata": {},
   "source": [
    "## Analysis of results"
   ]
  },
  {
   "cell_type": "markdown",
   "id": "71e3a9fb",
   "metadata": {},
   "source": [
    "For this sample there are 18 active reports with errors, and we need a metric to define which are the problematic ones. Let's take a look on 3 most used metrics for this case: mean, median and standard deviation."
   ]
  },
  {
   "cell_type": "code",
   "execution_count": 13,
   "id": "a564b2d1",
   "metadata": {},
   "outputs": [],
   "source": [
    "error_count_mean = error_count.REPORT_ID_DERIVED.mean()\n",
    "error_count_median = error_count.REPORT_ID_DERIVED.median()\n",
    "error_count_std = error_count.REPORT_ID_DERIVED.std()"
   ]
  },
  {
   "cell_type": "code",
   "execution_count": 14,
   "id": "b76322ef",
   "metadata": {},
   "outputs": [
    {
     "name": "stdout",
     "output_type": "stream",
     "text": [
      "mean 45165.88888888889\n",
      "median 2499.0\n",
      "std 119750.48523585289\n"
     ]
    }
   ],
   "source": [
    "print(\"mean\",error_count_mean)\n",
    "print(\"median\",error_count_median)\n",
    "print(\"std\",error_count_std)"
   ]
  },
  {
   "cell_type": "code",
   "execution_count": 15,
   "id": "b589b748",
   "metadata": {},
   "outputs": [
    {
     "data": {
      "image/png": "[encoded data removed]",
      "text/plain": [
       "<Figure size 576x144 with 1 Axes>"
      ]
     },
     "metadata": {
      "needs_background": "light"
     },
     "output_type": "display_data"
    }
   ],
   "source": [
    "import matplotlib.pyplot as plt\n",
    "fig = plt.figure(figsize=(8,2))\n",
    "plt.boxplot(error_count.values, vert=False, widths=[.5])\n",
    "plt.title('Active reports', fontsize=14)\n",
    "plt.xlabel('\\nRun Frequency', fontsize=14)\n",
    "plt.yticks([])\n",
    "plt.show()"
   ]
  },
  {
   "cell_type": "markdown",
   "id": "14e89210",
   "metadata": {},
   "source": [
    "With this boxplot we can see there are 4 outlier reports with much more errors than the others."
   ]
  },
  {
   "cell_type": "markdown",
   "id": "23743382",
   "metadata": {},
   "source": [
    "Both mean and standard deviation are too high to consider, if we choose one of them as a threshold we would get a dataset with 2 or 3 results. The median seems more useful in this case."
   ]
  },
  {
   "cell_type": "markdown",
   "id": "35ec66ba",
   "metadata": {},
   "source": [
    "### Generating datasets"
   ]
  },
  {
   "cell_type": "markdown",
   "id": "f758e16a",
   "metadata": {},
   "source": [
    "There are 2 options for datasets: the top 5 reports with more errors and the reports with errors above the median. We will generate both and save for future analysis."
   ]
  },
  {
   "cell_type": "code",
   "execution_count": 16,
   "id": "8c111420",
   "metadata": {},
   "outputs": [
    {
     "data": {
      "text/html": [
       "<div>\n",
       "<style scoped>\n",
       "    .dataframe tbody tr th:only-of-type {\n",
       "        vertical-align: middle;\n",
       "    }\n",
       "\n",
       "    .dataframe tbody tr th {\n",
       "        vertical-align: top;\n",
       "    }\n",
       "\n",
       "    .dataframe thead th {\n",
       "        text-align: right;\n",
       "    }\n",
       "</style>\n",
       "<table border=\"1\" class=\"dataframe\">\n",
       "  <thead>\n",
       "    <tr style=\"text-align: right;\">\n",
       "      <th></th>\n",
       "      <th>REPORT_ID_DERIVED</th>\n",
       "    </tr>\n",
       "  </thead>\n",
       "  <tbody>\n",
       "    <tr>\n",
       "      <th>00O0b000006iNwdEAE</th>\n",
       "      <td>493696</td>\n",
       "    </tr>\n",
       "    <tr>\n",
       "      <th>00O0b000004AmRrEAK</th>\n",
       "      <td>175527</td>\n",
       "    </tr>\n",
       "    <tr>\n",
       "      <th>00O0b000004kTazEAE</th>\n",
       "      <td>60345</td>\n",
       "    </tr>\n",
       "    <tr>\n",
       "      <th>00O2R000004AmwmUAC</th>\n",
       "      <td>44593</td>\n",
       "    </tr>\n",
       "    <tr>\n",
       "      <th>00O2R000004AmgKUAS</th>\n",
       "      <td>13845</td>\n",
       "    </tr>\n",
       "  </tbody>\n",
       "</table>\n",
       "</div>"
      ],
      "text/plain": [
       "                    REPORT_ID_DERIVED\n",
       "00O0b000006iNwdEAE             493696\n",
       "00O0b000004AmRrEAK             175527\n",
       "00O0b000004kTazEAE              60345\n",
       "00O2R000004AmwmUAC              44593\n",
       "00O2R000004AmgKUAS              13845"
      ]
     },
     "execution_count": 16,
     "metadata": {},
     "output_type": "execute_result"
    }
   ],
   "source": [
    "top_five = error_count.head(5)\n",
    "top_five"
   ]
  },
  {
   "cell_type": "code",
   "execution_count": 17,
   "id": "393f0e9d",
   "metadata": {},
   "outputs": [
    {
     "data": {
      "text/html": [
       "<div>\n",
       "<style scoped>\n",
       "    .dataframe tbody tr th:only-of-type {\n",
       "        vertical-align: middle;\n",
       "    }\n",
       "\n",
       "    .dataframe tbody tr th {\n",
       "        vertical-align: top;\n",
       "    }\n",
       "\n",
       "    .dataframe thead th {\n",
       "        text-align: right;\n",
       "    }\n",
       "</style>\n",
       "<table border=\"1\" class=\"dataframe\">\n",
       "  <thead>\n",
       "    <tr style=\"text-align: right;\">\n",
       "      <th></th>\n",
       "      <th>REPORT_ID_DERIVED</th>\n",
       "    </tr>\n",
       "  </thead>\n",
       "  <tbody>\n",
       "    <tr>\n",
       "      <th>00O0b000006iNwdEAE</th>\n",
       "      <td>493696</td>\n",
       "    </tr>\n",
       "    <tr>\n",
       "      <th>00O0b000004AmRrEAK</th>\n",
       "      <td>175527</td>\n",
       "    </tr>\n",
       "    <tr>\n",
       "      <th>00O0b000004kTazEAE</th>\n",
       "      <td>60345</td>\n",
       "    </tr>\n",
       "    <tr>\n",
       "      <th>00O2R000004AmwmUAC</th>\n",
       "      <td>44593</td>\n",
       "    </tr>\n",
       "    <tr>\n",
       "      <th>00O2R000004AmgKUAS</th>\n",
       "      <td>13845</td>\n",
       "    </tr>\n",
       "    <tr>\n",
       "      <th>00O0b000005yLBGEA2</th>\n",
       "      <td>9144</td>\n",
       "    </tr>\n",
       "    <tr>\n",
       "      <th>00O2R000003JCXaUAO</th>\n",
       "      <td>4584</td>\n",
       "    </tr>\n",
       "    <tr>\n",
       "      <th>00O0b000004AoOOEA0</th>\n",
       "      <td>3960</td>\n",
       "    </tr>\n",
       "    <tr>\n",
       "      <th>00O0b000004kkZKEAY</th>\n",
       "      <td>3150</td>\n",
       "    </tr>\n",
       "  </tbody>\n",
       "</table>\n",
       "</div>"
      ],
      "text/plain": [
       "                    REPORT_ID_DERIVED\n",
       "00O0b000006iNwdEAE             493696\n",
       "00O0b000004AmRrEAK             175527\n",
       "00O0b000004kTazEAE              60345\n",
       "00O2R000004AmwmUAC              44593\n",
       "00O2R000004AmgKUAS              13845\n",
       "00O0b000005yLBGEA2               9144\n",
       "00O2R000003JCXaUAO               4584\n",
       "00O0b000004AoOOEA0               3960\n",
       "00O0b000004kkZKEAY               3150"
      ]
     },
     "execution_count": 17,
     "metadata": {},
     "output_type": "execute_result"
    }
   ],
   "source": [
    "above_median = error_count[error_count['REPORT_ID_DERIVED']>error_count_median]\n",
    "above_median"
   ]
  },
  {
   "cell_type": "code",
   "execution_count": 18,
   "id": "54849872",
   "metadata": {},
   "outputs": [],
   "source": [
    "top_five\\\n",
    "    .to_csv(\"../../datasets/top_five_problematic_by_errors.csv\", index=False)"
   ]
  },
  {
   "cell_type": "code",
   "execution_count": 19,
   "id": "156fd08e",
   "metadata": {},
   "outputs": [],
   "source": [
    "above_median\\\n",
    "    .to_csv(\"../../datasets/above_median_problematic_by_errors.csv\", index=False)"
   ]
  },
  {
   "cell_type": "markdown",
   "id": "00acd7b3",
   "metadata": {},
   "source": [
    "We can also save the filtered Lightning Error dataset to help with other analysis."
   ]
  },
  {
   "cell_type": "code",
   "execution_count": 20,
   "id": "84274ce4",
   "metadata": {},
   "outputs": [],
   "source": [
    "ltng_error_filtered\\\n",
    "    .to_csv(\"../../datasets/ltng_error_filtered.csv\", index=False)"
   ]
  }
 ],
 "metadata": {
  "kernelspec": {
   "display_name": "Python 3 (ipykernel)",
   "language": "python",
   "name": "python3"
  },
  "language_info": {
   "codemirror_mode": {
    "name": "ipython",
    "version": 3
   },
   "file_extension": ".py",
   "mimetype": "text/x-python",
   "name": "python",
   "nbconvert_exporter": "python",
   "pygments_lexer": "ipython3",
   "version": "3.9.12"
  }
 },
 "nbformat": 4,
 "nbformat_minor": 5
}
