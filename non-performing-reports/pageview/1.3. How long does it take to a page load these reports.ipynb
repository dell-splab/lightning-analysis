{
 "cells": [
  {
   "cell_type": "markdown",
   "id": "b9496dec",
   "metadata": {},
   "source": [
    "# How long does it take to a page load these reports?\n",
    "\n",
    "Questiong being answered in this notebook:\n",
    ">- [x] ..."
   ]
  },
  {
   "cell_type": "code",
   "execution_count": null,
   "id": "d957fcd7",
   "metadata": {},
   "outputs": [],
   "source": []
  }
 ],
 "metadata": {
  "kernelspec": {
   "display_name": "Python 3 (ipykernel)",
   "language": "python",
   "name": "python3"
  },
  "language_info": {
   "codemirror_mode": {
    "name": "ipython",
    "version": 3
   },
   "file_extension": ".py",
   "mimetype": "text/x-python",
   "name": "python",
   "nbconvert_exporter": "python",
   "pygments_lexer": "ipython3",
   "version": "3.9.12"
  }
 },
 "nbformat": 4,
 "nbformat_minor": 5
}
