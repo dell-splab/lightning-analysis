{
 "cells": [
  {
   "cell_type": "markdown",
   "id": "b9496dec",
   "metadata": {},
   "source": [
    "# How long the user spent on the page?\n",
    "\n",
    "Questions being answered in this notebook:\n",
    ">- [x] ..."
   ]
  },
  {
   "cell_type": "code",
   "execution_count": 1,
   "id": "4d6b2b82",
   "metadata": {},
   "outputs": [],
   "source": [
    "import pandas as pd"
   ]
  },
  {
   "cell_type": "markdown",
   "id": "f631a713",
   "metadata": {},
   "source": [
    "Loading active and problematic reports."
   ]
  },
  {
   "cell_type": "code",
   "execution_count": 2,
   "id": "5cdd6478",
   "metadata": {},
   "outputs": [],
   "source": [
    "report_objects = pd.read_csv('datasets/pageview_problematic_reports.csv')"
   ]
  }
 ],
 "metadata": {
  "kernelspec": {
   "display_name": "Python 3 (ipykernel)",
   "language": "python",
   "name": "python3"
  },
  "language_info": {
   "codemirror_mode": {
    "name": "ipython",
    "version": 3
   },
   "file_extension": ".py",
   "mimetype": "text/x-python",
   "name": "python",
   "nbconvert_exporter": "python",
   "pygments_lexer": "ipython3",
   "version": "3.9.12"
  }
 },
 "nbformat": 4,
 "nbformat_minor": 5
}
