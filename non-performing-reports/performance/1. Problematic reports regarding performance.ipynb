{
 "cells": [
  {
   "cell_type": "markdown",
   "id": "05a3d937",
   "metadata": {},
   "source": [
    "#  Problematic Reports Regarding Performance\n",
    "\n",
    "---\n",
    "\n",
    ">You will know how to answer the following questions at the end of this notebook.\n",
    ">- [x] What is a problematic report regarding performance?"
   ]
  },
  {
   "cell_type": "code",
   "execution_count": 35,
   "id": "3fa6b3bb",
   "metadata": {},
   "outputs": [],
   "source": [
    "import pandas as pd"
   ]
  },
  {
   "cell_type": "markdown",
   "id": "29ea3e09",
   "metadata": {},
   "source": [
    "### Loading actives reports and lightning performance"
   ]
  },
  {
   "cell_type": "markdown",
   "id": "7c3b41a4",
   "metadata": {},
   "source": [
    "Active Reports"
   ]
  },
  {
   "cell_type": "code",
   "execution_count": 36,
   "id": "27e3b084",
   "metadata": {},
   "outputs": [],
   "source": [
    "active_reports = pd.read_csv(\"../../datasets/active_reports.csv\", low_memory=False)"
   ]
  },
  {
   "cell_type": "code",
   "execution_count": 37,
   "id": "1d762802",
   "metadata": {},
   "outputs": [
    {
     "data": {
      "text/plain": [
       "(38285, 51)"
      ]
     },
     "execution_count": 37,
     "metadata": {},
     "output_type": "execute_result"
    }
   ],
   "source": [
    "active_reports.shape"
   ]
  },
  {
   "cell_type": "markdown",
   "id": "62bffc1c",
   "metadata": {},
   "source": [
    "Lightning Performance"
   ]
  },
  {
   "cell_type": "code",
   "execution_count": 38,
   "id": "deee1ee1",
   "metadata": {},
   "outputs": [],
   "source": [
    "lightning_performance = pd.read_csv(\"../../data/Salesforce/ELF/LightningPerformance/2022-06-04_LightningPerformance.csv\",low_memory=False)"
   ]
  },
  {
   "cell_type": "code",
   "execution_count": 39,
   "id": "bdb6a99d",
   "metadata": {},
   "outputs": [
    {
     "data": {
      "text/plain": [
       "['EVENT_TYPE',\n",
       " 'TIMESTAMP',\n",
       " 'REQUEST_ID',\n",
       " 'ORGANIZATION_ID',\n",
       " 'USER_ID',\n",
       " 'CLIENT_ID',\n",
       " 'SESSION_KEY',\n",
       " 'LOGIN_KEY',\n",
       " 'USER_TYPE',\n",
       " 'APP_NAME',\n",
       " 'DEVICE_PLATFORM',\n",
       " 'SDK_APP_VERSION',\n",
       " 'OS_NAME',\n",
       " 'OS_VERSION',\n",
       " 'USER_AGENT',\n",
       " 'BROWSER_NAME',\n",
       " 'BROWSER_VERSION',\n",
       " 'SDK_VERSION',\n",
       " 'DEVICE_MODEL',\n",
       " 'DEVICE_ID',\n",
       " 'SDK_APP_TYPE',\n",
       " 'CLIENT_GEO',\n",
       " 'CONNECTION_TYPE',\n",
       " 'UI_EVENT_ID',\n",
       " 'UI_EVENT_TYPE',\n",
       " 'UI_EVENT_SOURCE',\n",
       " 'UI_EVENT_TIMESTAMP',\n",
       " 'PAGE_START_TIME',\n",
       " 'DURATION',\n",
       " 'DEVICE_SESSION_ID',\n",
       " 'TIMESTAMP_DERIVED',\n",
       " 'USER_ID_DERIVED',\n",
       " 'CLIENT_IP']"
      ]
     },
     "execution_count": 39,
     "metadata": {},
     "output_type": "execute_result"
    }
   ],
   "source": [
    "list(lightning_performance.columns)"
   ]
  },
  {
   "cell_type": "markdown",
   "id": "63831447",
   "metadata": {},
   "source": [
    "### Merge actives reports with lightning performance "
   ]
  },
  {
   "cell_type": "markdown",
   "id": "4368ab0e",
   "metadata": {},
   "source": [
    "To merge the active reports and lightning performance was define [common columns](https://github.com/dell-splab/lightning-analysis/blob/research-questions/Data%20Discovery%20-%20MUST%20READ.ipynb) beteween both"
   ]
  },
  {
   "cell_type": "code",
   "execution_count": 40,
   "id": "7c3a8cb2",
   "metadata": {},
   "outputs": [],
   "source": [
    "common_columns = ['USER_ID_DERIVED', 'SESSION_KEY', 'LOGIN_KEY', 'ORGANIZATION_ID', 'CLIENT_IP']"
   ]
  },
  {
   "cell_type": "markdown",
   "id": "9ca0caa8",
   "metadata": {},
   "source": [
    "Remove unsued columns before merge"
   ]
  },
  {
   "cell_type": "code",
   "execution_count": 55,
   "id": "c9f10b74",
   "metadata": {},
   "outputs": [],
   "source": [
    "lightning_performance.drop(['EVENT_TYPE','TIMESTAMP','REQUEST_ID','USER_ID','USER_TYPE','TIMESTAMP_DERIVED'], inplace=True, axis=1)"
   ]
  },
  {
   "cell_type": "code",
   "execution_count": 56,
   "id": "9d56a93e",
   "metadata": {},
   "outputs": [],
   "source": [
    "ltng_full_reports_performance = pd.merge(left=active_reports, right=lightning_performance, on=common_columns)"
   ]
  },
  {
   "cell_type": "code",
   "execution_count": 57,
   "id": "5d23dcb2",
   "metadata": {},
   "outputs": [
    {
     "data": {
      "text/plain": [
       "(7176291, 73)"
      ]
     },
     "execution_count": 57,
     "metadata": {},
     "output_type": "execute_result"
    }
   ],
   "source": [
    "ltng_full_reports_performance.shape"
   ]
  },
  {
   "cell_type": "code",
   "execution_count": 58,
   "id": "67d571fc",
   "metadata": {},
   "outputs": [
    {
     "data": {
      "text/plain": [
       "['CreatedById',\n",
       " 'CreatedDate',\n",
       " 'Description',\n",
       " 'DeveloperName',\n",
       " 'FolderName',\n",
       " 'Format',\n",
       " 'Id',\n",
       " 'IsDeleted',\n",
       " 'LastModifiedById',\n",
       " 'LastModifiedDate',\n",
       " 'LastReferencedDate',\n",
       " 'LastRunDate',\n",
       " 'LastViewedDate',\n",
       " 'Name',\n",
       " 'NamespacePrefix',\n",
       " 'OwnerId',\n",
       " 'ReportTypeApiName',\n",
       " 'SystemModstamp',\n",
       " 'EVENT_TYPE',\n",
       " 'TIMESTAMP',\n",
       " 'REQUEST_ID',\n",
       " 'ORGANIZATION_ID',\n",
       " 'USER_ID',\n",
       " 'RUN_TIME',\n",
       " 'CPU_TIME',\n",
       " 'URI',\n",
       " 'SESSION_KEY',\n",
       " 'LOGIN_KEY',\n",
       " 'USER_TYPE',\n",
       " 'REQUEST_STATUS',\n",
       " 'DB_TOTAL_TIME',\n",
       " 'ENTITY_NAME',\n",
       " 'DISPLAY_TYPE',\n",
       " 'RENDERING_TYPE',\n",
       " 'REPORT_ID',\n",
       " 'ROW_COUNT',\n",
       " 'NUMBER_EXCEPTION_FILTERS',\n",
       " 'NUMBER_COLUMNS',\n",
       " 'AVERAGE_ROW_SIZE',\n",
       " 'SORT',\n",
       " 'DB_BLOCKS',\n",
       " 'DB_CPU_TIME',\n",
       " 'NUMBER_BUCKETS',\n",
       " 'TIMESTAMP_DERIVED',\n",
       " 'USER_ID_DERIVED',\n",
       " 'CLIENT_IP',\n",
       " 'URI_ID_DERIVED',\n",
       " 'REPORT_ID_DERIVED',\n",
       " 'ORIGIN',\n",
       " 'IsActiveSinceCreation',\n",
       " 'IsActiveSinceLastModification',\n",
       " 'CLIENT_ID',\n",
       " 'APP_NAME',\n",
       " 'DEVICE_PLATFORM',\n",
       " 'SDK_APP_VERSION',\n",
       " 'OS_NAME',\n",
       " 'OS_VERSION',\n",
       " 'USER_AGENT',\n",
       " 'BROWSER_NAME',\n",
       " 'BROWSER_VERSION',\n",
       " 'SDK_VERSION',\n",
       " 'DEVICE_MODEL',\n",
       " 'DEVICE_ID',\n",
       " 'SDK_APP_TYPE',\n",
       " 'CLIENT_GEO',\n",
       " 'CONNECTION_TYPE',\n",
       " 'UI_EVENT_ID',\n",
       " 'UI_EVENT_TYPE',\n",
       " 'UI_EVENT_SOURCE',\n",
       " 'UI_EVENT_TIMESTAMP',\n",
       " 'PAGE_START_TIME',\n",
       " 'DURATION',\n",
       " 'DEVICE_SESSION_ID']"
      ]
     },
     "execution_count": 58,
     "metadata": {},
     "output_type": "execute_result"
    }
   ],
   "source": [
    "list(ltng_full_reports_performance.columns)"
   ]
  },
  {
   "cell_type": "markdown",
   "id": "395092e5",
   "metadata": {},
   "source": [
    "### Problematic reports"
   ]
  },
  {
   "cell_type": "markdown",
   "id": "d77f0320",
   "metadata": {},
   "source": [
    "To determine which reports are problematic, a DURATION (The duration in milliseconds since the page start time as per this [reference](https://developer.salesforce.com/docs/atlas.en-us.238.0.object_reference.meta/object_reference/sforce_api_objects_eventlogfile_lightningperformance.htm?q=performance)) is assumed to be > 120 seconds."
   ]
  },
  {
   "cell_type": "code",
   "execution_count": 59,
   "id": "ff8ffb15",
   "metadata": {},
   "outputs": [],
   "source": [
    "threshold = 120000"
   ]
  },
  {
   "cell_type": "code",
   "execution_count": 60,
   "id": "b561c68b",
   "metadata": {},
   "outputs": [],
   "source": [
    "ltng_full_reports_performance  = ltng_full_reports_performance[ltng_full_reports_performance.DURATION >= threshold]"
   ]
  },
  {
   "cell_type": "code",
   "execution_count": 61,
   "id": "dbe3c41b",
   "metadata": {},
   "outputs": [
    {
     "data": {
      "text/plain": [
       "(86196, 73)"
      ]
     },
     "execution_count": 61,
     "metadata": {},
     "output_type": "execute_result"
    }
   ],
   "source": [
    "ltng_full_reports_performance.shape"
   ]
  },
  {
   "cell_type": "markdown",
   "id": "285b22b7",
   "metadata": {},
   "source": [
    "Storing a dataset with only active and problematic reports."
   ]
  },
  {
   "cell_type": "code",
   "execution_count": 63,
   "id": "377094c8",
   "metadata": {},
   "outputs": [],
   "source": [
    "ltng_full_reports_performance.to_csv(\"datasets/active_and_problematic_reports_performance.csv\", index=False)"
   ]
  }
 ],
 "metadata": {
  "kernelspec": {
   "display_name": "Python 3 (ipykernel)",
   "language": "python",
   "name": "python3"
  },
  "language_info": {
   "codemirror_mode": {
    "name": "ipython",
    "version": 3
   },
   "file_extension": ".py",
   "mimetype": "text/x-python",
   "name": "python",
   "nbconvert_exporter": "python",
   "pygments_lexer": "ipython3",
   "version": "3.9.7"
  }
 },
 "nbformat": 4,
 "nbformat_minor": 5
}
