{
 "cells": [
  {
   "cell_type": "markdown",
   "id": "05a3d937",
   "metadata": {},
   "source": [
    "#  Problematic Reports Regarding Performance\n",
    "\n",
    "---\n",
    "\n",
    ">You will know how to answer the following questions at the end of this notebook.\n",
    ">- [x] What is a problematic report regarding performance?"
   ]
  },
  {
   "cell_type": "code",
   "execution_count": null,
   "id": "8edbac8b",
   "metadata": {},
   "outputs": [],
   "source": []
  }
 ],
 "metadata": {
  "kernelspec": {
   "display_name": "Python 3 (ipykernel)",
   "language": "python",
   "name": "python3"
  },
  "language_info": {
   "codemirror_mode": {
    "name": "ipython",
    "version": 3
   },
   "file_extension": ".py",
   "mimetype": "text/x-python",
   "name": "python",
   "nbconvert_exporter": "python",
   "pygments_lexer": "ipython3",
   "version": "3.9.12"
  }
 },
 "nbformat": 4,
 "nbformat_minor": 5
}
