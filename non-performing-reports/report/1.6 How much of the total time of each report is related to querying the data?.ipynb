{
 "cells": [
  {
   "cell_type": "markdown",
   "id": "59776b35",
   "metadata": {},
   "source": [
    "# How much of the total time of each report is related to querying the data?\n",
    "\n",
    ">Questions being answered in this notebook.\n",
    ">- [x] How much of the total time of each report is related to performance?\n",
    "\n",
    "\n",
    "\n",
    "[THIS ANALYSIS IS NOT COMPLETED]"
   ]
  },
  {
   "cell_type": "code",
   "execution_count": 1,
   "id": "5161726c",
   "metadata": {},
   "outputs": [],
   "source": [
    "import pandas as pd\n",
    "import numpy as np\n",
    "import matplotlib.pyplot as plt\n",
    "import os"
   ]
  },
  {
   "cell_type": "code",
   "execution_count": 2,
   "id": "4406a79a",
   "metadata": {},
   "outputs": [],
   "source": [
    "active_and_problematics = pd.read_csv(\"../../datasets/actives_and_problematics_regarding_time_last_30_days_from-27-07-2022.csv\")"
   ]
  },
  {
   "cell_type": "code",
   "execution_count": 3,
   "id": "1ed45933",
   "metadata": {},
   "outputs": [],
   "source": [
    "active_and_problematics.drop(\"ReportId\", axis=1, inplace=True)\n",
    "#Record id is Report id derived\n",
    "active_and_problematics.rename(columns={\"RecordId\": \"ReportId\"}, inplace=True)"
   ]
  },
  {
   "cell_type": "code",
   "execution_count": 4,
   "id": "c69a067e",
   "metadata": {},
   "outputs": [],
   "source": [
    "interest_cols = {\n",
    "    'Name': \"first\",\n",
    "    \"ReportId\": \"first\",\n",
    "    \"Description\": \"first\",\n",
    "    \"DurationInMinutes\": [\"min\", \"max\", \"median\", \"mean\", \"std\", \"count\"],\n",
    "    'RowsProcessed': [\"sum\", \"min\", \"max\", \"median\", \"mean\", \"std\"],\n",
    "    \"RowsReturned\": [\"first\", \"unique\", \"count\"],\n",
    "    'ConnectionType': [\"first\", \"unique\", \"count\"],\n",
    "    'ColumnHeaders': [\"first\", \"unique\", \"count\"], \n",
    "    'DashboardId': \"first\",\n",
    "    'DashboardName': \"first\",\n",
    "    'Format': \"first\", \n",
    "    'GroupedColumnHeaders': [\"first\", \"unique\"],\n",
    "    \"OperationType\": [\"first\", \"unique\", \"count\"],\n",
    "    'OsName': [\"first\", \"unique\", \"count\"], \n",
    "    'OsVersion': [\"first\", \"unique\", \"count\"],\n",
    "    'PageStartTime': [\"first\", \"unique\"],\n",
    "    'PageUrl': [\"first\", \"unique\", \"count\"],\n",
    "    'PreviousPageAppName': [\"first\", \"unique\", \"count\"],\n",
    "    'PreviousPageEntityType': [\"first\", \"unique\", \"count\"], \n",
    "    'PreviousPageUrl': [\"first\", \"unique\", \"count\"],\n",
    "    'DisplayedFieldEntities': [\"first\", \"unique\", \"count\"],\n",
    "    'EvaluationTime': [\"first\", \"unique\", \"count\"],\n",
    "    'DeviceModel': [\"first\", \"unique\", \"count\"], \n",
    "    'DevicePlatform': [\"first\", \"unique\", \"count\"]\n",
    "}\n",
    "\n"
   ]
  },
  {
   "cell_type": "code",
   "execution_count": 5,
   "id": "aa595c3b",
   "metadata": {},
   "outputs": [],
   "source": [
    "summary = active_and_problematics[list(interest_cols.keys())]\\\n",
    "    .groupby(\"Name\")\\\n",
    "    .agg({k: v for k, v in interest_cols.items() if k!=\"Name\"})\\\n",
    "    .reset_index()"
   ]
  },
  {
   "cell_type": "code",
   "execution_count": 6,
   "id": "632fd08f",
   "metadata": {},
   "outputs": [],
   "source": [
    "new_column_names = []\n",
    "for k, v in zip(summary.columns.get_level_values(0), summary.columns.get_level_values(1)):\n",
    "    columnName = k + (\"\" if v==\"first\" else v.capitalize())\n",
    "    new_column_names.append(columnName)\n"
   ]
  },
  {
   "cell_type": "code",
   "execution_count": 7,
   "id": "b1a6760d",
   "metadata": {},
   "outputs": [],
   "source": [
    "summary.columns = new_column_names"
   ]
  },
  {
   "cell_type": "code",
   "execution_count": 9,
   "id": "04038773",
   "metadata": {},
   "outputs": [],
   "source": [
    "summary.to_csv(\"actives_and_problematics_summary.csv\")"
   ]
  },
  {
   "cell_type": "code",
   "execution_count": 10,
   "id": "973335dc",
   "metadata": {},
   "outputs": [],
   "source": [
    "problematic_reports = list(summary.ReportId)"
   ]
  },
  {
   "cell_type": "code",
   "execution_count": 11,
   "id": "66d3f1ac",
   "metadata": {},
   "outputs": [
    {
     "data": {
      "text/plain": [
       "['00O6P000000yX5NUAU',\n",
       " '00O0b000004AoOOEA0',\n",
       " '00O2R000003JQyNUAW',\n",
       " '00O6P000000VF5IUAW',\n",
       " '00O6P000001B8LVUA0',\n",
       " '00O0b000004kTazEAE',\n",
       " '00O2R000004Am1WUAS',\n",
       " '00O2R000004IlyzUAC']"
      ]
     },
     "execution_count": 11,
     "metadata": {},
     "output_type": "execute_result"
    }
   ],
   "source": [
    "problematic_reports"
   ]
  },
  {
   "cell_type": "code",
   "execution_count": 12,
   "id": "fd349923",
   "metadata": {},
   "outputs": [],
   "source": [
    "import re\n",
    "\n",
    "pattern = re.compile(r'\\/lightning\\/r\\/(?P<report_type>[a-zA-Z]{4,})\\/(?P<report_id>[0-9a-zA-Z]{18})')\n",
    "\n",
    "def filter_run_report_endpoints(pattern, field, url):\n",
    "    m = re.match(pattern, url)\n",
    "    if m:\n",
    "        return m.group(field)"
   ]
  },
  {
   "cell_type": "code",
   "execution_count": 15,
   "id": "c31b630d",
   "metadata": {},
   "outputs": [],
   "source": [
    "from collections import defaultdict\n",
    "\n",
    "logdate = ['2022-06-28', \"2022-07-05\", \"2022-07-11\", \"2022-07-22\", \"2022-07-27\"]\n",
    "logs = [\"Dashboard\", \"LightningPageView\", \"LightningPerformance\", \"LightningError\", \"Report\"]\n",
    "\n",
    "# used to infer report id over performance logs\n",
    "common_subset_features = ['USER_ID', 'USER_ID_DERIVED', 'SESSION_KEY', 'LOGIN_KEY', 'ORGANIZATION_ID', 'CLIENT_IP']\n",
    "\n",
    "verbose = False\n",
    "chunk_size = 10000\n",
    "\n",
    "logdf = defaultdict(dict)\n",
    "for d in logdate:\n",
    "    for ltng_log in logs: \n",
    "        for f in os.listdir(d):\n",
    "            if f\"{ltng_log}_chunk\" in f:\n",
    "                df_iter = pd.read_csv(os.path.join(d, f), chunksize=chunk_size)\n",
    "                for i, chunk in enumerate(df_iter):\n",
    "                    if verbose:\n",
    "                        print(\"Loading chunk\", i+1, \"from\", ltng_log)\n",
    "                    tmp = chunk.copy()\n",
    "                    if ltng_log in [logs[1], logs[3]]:\n",
    "                        tmp.dropna(subset=[\"PAGE_URL\"], inplace=True)\n",
    "                        tmp[\"ReportId\"] = tmp.PAGE_URL.apply(lambda url: filter_run_report_endpoints(pattern, \"report_id\", url))\n",
    "                        tmp[\"ReportType\"] = tmp.PAGE_URL.apply(lambda url: filter_run_report_endpoints(pattern, \"report_type\", url))\n",
    "                        tmp.dropna(subset=[\"ReportId\"], inplace=True)\n",
    "                    elif ltng_log in [logs[0], logs[4]]: # Dashboards and Reports\n",
    "                        tmp.rename(columns={\"REPORT_ID_DERIVED\": \"ReportId\"}, inplace=True)\n",
    "                    elif ltng_log == logs[2]: #LightningPerformance logs\n",
    "                        # needs to extract report id using a common_subset_features\n",
    "                        tmp[\"ReportId\"] = None\n",
    "                        pass\n",
    "                    \n",
    "                    if not \"ReportId\" in list(tmp.columns):\n",
    "                        continue\n",
    "                    \n",
    "                    tmp = tmp[tmp.ReportId.apply(lambda report_id: report_id in problematic_reports)]\n",
    "                    if verbose:\n",
    "                        print(\"found\", tmp.shape[0], \" logs related\")\n",
    "                        \n",
    "                    if ltng_log in logdf:\n",
    "                        logdf[ltng_log] = pd.concat((logdf[ltng_log], tmp), axis=0)\n",
    "                    else:\n",
    "                        logdf[ltng_log] = tmp"
   ]
  },
  {
   "cell_type": "markdown",
   "id": "233bfa9a",
   "metadata": {},
   "source": [
    "---\n",
    "## Merging Lightning Logs(PageView) and Problematics"
   ]
  },
  {
   "cell_type": "code",
   "execution_count": 16,
   "id": "ae179683",
   "metadata": {},
   "outputs": [
    {
     "data": {
      "text/plain": [
       "dict_keys(['Dashboard', 'LightningPageView', 'LightningPerformance', 'LightningError', 'Report'])"
      ]
     },
     "execution_count": 16,
     "metadata": {},
     "output_type": "execute_result"
    }
   ],
   "source": [
    "logdf.keys()"
   ]
  },
  {
   "cell_type": "markdown",
   "id": "741d1d06",
   "metadata": {},
   "source": [
    "Let's just get the Page view information and merge it with the reports from our data set"
   ]
  },
  {
   "cell_type": "code",
   "execution_count": 17,
   "id": "772224dc",
   "metadata": {},
   "outputs": [],
   "source": [
    "lgtn_reports = pd.merge(left=summary, right=logdf['LightningPageView'], on=\"ReportId\")"
   ]
  },
  {
   "cell_type": "code",
   "execution_count": 18,
   "id": "39529859",
   "metadata": {},
   "outputs": [
    {
     "data": {
      "text/plain": [
       "(12210, 115)"
      ]
     },
     "execution_count": 18,
     "metadata": {},
     "output_type": "execute_result"
    }
   ],
   "source": [
    "lgtn_reports.shape"
   ]
  },
  {
   "cell_type": "markdown",
   "id": "7f00b46b",
   "metadata": {},
   "source": [
    "Let's take the time related columns"
   ]
  },
  {
   "cell_type": "code",
   "execution_count": 20,
   "id": "e99f0f04",
   "metadata": {},
   "outputs": [],
   "source": [
    "interest_columns = ['ReportId','Name', \n",
    "                    'DurationInMinutesMin', \n",
    "                    'DurationInMinutesMax',\n",
    "                    'DurationInMinutesMedian',\n",
    "                    'DurationInMinutesCount']"
   ]
  },
  {
   "cell_type": "code",
   "execution_count": 23,
   "id": "e68a7a82",
   "metadata": {},
   "outputs": [],
   "source": [
    "lgtn_reports = lgtn_reports[interest_columns]"
   ]
  },
  {
   "cell_type": "code",
   "execution_count": 24,
   "id": "c7a59ea2",
   "metadata": {},
   "outputs": [
    {
     "data": {
      "text/plain": [
       "(12210, 6)"
      ]
     },
     "execution_count": 24,
     "metadata": {},
     "output_type": "execute_result"
    }
   ],
   "source": [
    "lgtn_reports.shape"
   ]
  },
  {
   "cell_type": "markdown",
   "id": "d6aba774",
   "metadata": {},
   "source": [
    "---\n",
    "## Analyzing Durations"
   ]
  },
  {
   "cell_type": "markdown",
   "id": "6c2af9c3",
   "metadata": {},
   "source": [
    "Let's get the reports with maximum duration"
   ]
  },
  {
   "cell_type": "code",
   "execution_count": 52,
   "id": "b44c6e53",
   "metadata": {},
   "outputs": [],
   "source": [
    "max_report_duration = lgtn_reports.nlargest(1, 'DurationInMinutesMax').DurationInMinutesMax\n",
    "min_report_duration = lgtn_reports.nsmallest(1, 'DurationInMinutesMin').DurationInMinutesMin\n",
    "max_and_min_report_duration = (min_report_duration.values[0], max_report_duration.values[0])"
   ]
  },
  {
   "cell_type": "code",
   "execution_count": 60,
   "id": "ff4bf2fa",
   "metadata": {},
   "outputs": [
    {
     "name": "stdout",
     "output_type": "stream",
     "text": [
      "The minimum and maximum duration in minutes of reports are: Min 1.3858833333333334 and Max 10.712\n"
     ]
    }
   ],
   "source": [
    "print(f\"The minimum and maximum duration in minutes of reports are: Min {max_and_min_report_duration[0]} and Max {max_and_min_report_duration[1]}\")"
   ]
  },
  {
   "cell_type": "markdown",
   "id": "afdf6d99",
   "metadata": {},
   "source": [
    "Let's remove the other lines that only add information to our reports"
   ]
  },
  {
   "cell_type": "code",
   "execution_count": 132,
   "id": "68801d46",
   "metadata": {},
   "outputs": [
    {
     "data": {
      "text/html": [
       "<div>\n",
       "<style scoped>\n",
       "    .dataframe tbody tr th:only-of-type {\n",
       "        vertical-align: middle;\n",
       "    }\n",
       "\n",
       "    .dataframe tbody tr th {\n",
       "        vertical-align: top;\n",
       "    }\n",
       "\n",
       "    .dataframe thead th {\n",
       "        text-align: right;\n",
       "    }\n",
       "</style>\n",
       "<table border=\"1\" class=\"dataframe\">\n",
       "  <thead>\n",
       "    <tr style=\"text-align: right;\">\n",
       "      <th></th>\n",
       "      <th>ReportId</th>\n",
       "      <th>Name</th>\n",
       "      <th>DurationInMinutesMin</th>\n",
       "      <th>DurationInMinutesMax</th>\n",
       "      <th>DurationInMinutesMedian</th>\n",
       "      <th>DurationInMinutesCount</th>\n",
       "    </tr>\n",
       "  </thead>\n",
       "  <tbody>\n",
       "    <tr>\n",
       "      <th>0</th>\n",
       "      <td>00O6P000000yX5NUAU</td>\n",
       "      <td>AST Account Hierarchy Report</td>\n",
       "      <td>1.385883</td>\n",
       "      <td>1.385883</td>\n",
       "      <td>1.385883</td>\n",
       "      <td>1</td>\n",
       "    </tr>\n",
       "    <tr>\n",
       "      <th>124</th>\n",
       "      <td>00O0b000004AoOOEA0</td>\n",
       "      <td>Chat SLA - Wait Time</td>\n",
       "      <td>7.060517</td>\n",
       "      <td>7.060517</td>\n",
       "      <td>7.060517</td>\n",
       "      <td>1</td>\n",
       "    </tr>\n",
       "    <tr>\n",
       "      <th>404</th>\n",
       "      <td>00O6P000000VF5IUAW</td>\n",
       "      <td>EWS MICC &amp; WO TL Nadiri</td>\n",
       "      <td>2.233383</td>\n",
       "      <td>3.337883</td>\n",
       "      <td>2.785633</td>\n",
       "      <td>2</td>\n",
       "    </tr>\n",
       "    <tr>\n",
       "      <th>410</th>\n",
       "      <td>00O0b000004kTazEAE</td>\n",
       "      <td>My Cases and Tasks</td>\n",
       "      <td>10.712000</td>\n",
       "      <td>10.712000</td>\n",
       "      <td>10.712000</td>\n",
       "      <td>1</td>\n",
       "    </tr>\n",
       "    <tr>\n",
       "      <th>11878</th>\n",
       "      <td>00O2R000004Am1WUAS</td>\n",
       "      <td>Parent Project Order Details</td>\n",
       "      <td>2.716267</td>\n",
       "      <td>2.716267</td>\n",
       "      <td>2.716267</td>\n",
       "      <td>1</td>\n",
       "    </tr>\n",
       "  </tbody>\n",
       "</table>\n",
       "</div>"
      ],
      "text/plain": [
       "                 ReportId                          Name  DurationInMinutesMin  \\\n",
       "0      00O6P000000yX5NUAU  AST Account Hierarchy Report              1.385883   \n",
       "124    00O0b000004AoOOEA0          Chat SLA - Wait Time              7.060517   \n",
       "404    00O6P000000VF5IUAW       EWS MICC & WO TL Nadiri              2.233383   \n",
       "410    00O0b000004kTazEAE            My Cases and Tasks             10.712000   \n",
       "11878  00O2R000004Am1WUAS  Parent Project Order Details              2.716267   \n",
       "\n",
       "       DurationInMinutesMax  DurationInMinutesMedian  DurationInMinutesCount  \n",
       "0                  1.385883                 1.385883                       1  \n",
       "124                7.060517                 7.060517                       1  \n",
       "404                3.337883                 2.785633                       2  \n",
       "410               10.712000                10.712000                       1  \n",
       "11878              2.716267                 2.716267                       1  "
      ]
     },
     "execution_count": 132,
     "metadata": {},
     "output_type": "execute_result"
    }
   ],
   "source": [
    "unique_reports = lgtn_reports.drop_duplicates(keep='first')\n",
    "unique_reports"
   ]
  },
  {
   "cell_type": "markdown",
   "id": "58e42e0d",
   "metadata": {},
   "source": [
    "Let's do the following steps:\n",
    "\n",
    "> - [x] Group the data frame by name and average duration in minutes\n",
    "> - [x] Calculate the total average duration in minutes of each report"
   ]
  },
  {
   "cell_type": "code",
   "execution_count": 133,
   "id": "01e4be6f",
   "metadata": {},
   "outputs": [],
   "source": [
    "total_duration_reports = unique_reports.groupby(['Name','DurationInMinutesMedian']).agg({'DurationInMinutesMedian': 'sum'})"
   ]
  },
  {
   "cell_type": "code",
   "execution_count": 134,
   "id": "ef6ab5de",
   "metadata": {},
   "outputs": [],
   "source": [
    "total_duration_reports.rename(columns={'DurationInMinutesMedian': 'TotalTime'}, inplace=True)"
   ]
  },
  {
   "cell_type": "code",
   "execution_count": 135,
   "id": "ebbbccee",
   "metadata": {},
   "outputs": [],
   "source": [
    "total_duration_reports.reset_index(inplace=True)"
   ]
  },
  {
   "cell_type": "code",
   "execution_count": null,
   "id": "5adfcb4e",
   "metadata": {},
   "outputs": [],
   "source": []
  },
  {
   "cell_type": "markdown",
   "id": "cb92f2a6",
   "metadata": {},
   "source": [
    "total_duration_reports.drop(columns=['DurationInMinutesMedian'], inplace=True)"
   ]
  },
  {
   "cell_type": "code",
   "execution_count": null,
   "id": "b5b9552d",
   "metadata": {},
   "outputs": [],
   "source": []
  },
  {
   "cell_type": "code",
   "execution_count": 137,
   "id": "77c4ba03",
   "metadata": {},
   "outputs": [],
   "source": [
    "total_time_sorted = total_duration_reports.sort_values(by='TotalTime', ascending=False)"
   ]
  },
  {
   "cell_type": "code",
   "execution_count": 138,
   "id": "ca64d5b3",
   "metadata": {},
   "outputs": [
    {
     "data": {
      "text/html": [
       "<div>\n",
       "<style scoped>\n",
       "    .dataframe tbody tr th:only-of-type {\n",
       "        vertical-align: middle;\n",
       "    }\n",
       "\n",
       "    .dataframe tbody tr th {\n",
       "        vertical-align: top;\n",
       "    }\n",
       "\n",
       "    .dataframe thead th {\n",
       "        text-align: right;\n",
       "    }\n",
       "</style>\n",
       "<table border=\"1\" class=\"dataframe\">\n",
       "  <thead>\n",
       "    <tr style=\"text-align: right;\">\n",
       "      <th></th>\n",
       "      <th>Name</th>\n",
       "      <th>TotalTime</th>\n",
       "    </tr>\n",
       "  </thead>\n",
       "  <tbody>\n",
       "    <tr>\n",
       "      <th>3</th>\n",
       "      <td>My Cases and Tasks</td>\n",
       "      <td>10.712000</td>\n",
       "    </tr>\n",
       "    <tr>\n",
       "      <th>1</th>\n",
       "      <td>Chat SLA - Wait Time</td>\n",
       "      <td>7.060517</td>\n",
       "    </tr>\n",
       "    <tr>\n",
       "      <th>2</th>\n",
       "      <td>EWS MICC &amp; WO TL Nadiri</td>\n",
       "      <td>2.785633</td>\n",
       "    </tr>\n",
       "    <tr>\n",
       "      <th>4</th>\n",
       "      <td>Parent Project Order Details</td>\n",
       "      <td>2.716267</td>\n",
       "    </tr>\n",
       "    <tr>\n",
       "      <th>0</th>\n",
       "      <td>AST Account Hierarchy Report</td>\n",
       "      <td>1.385883</td>\n",
       "    </tr>\n",
       "  </tbody>\n",
       "</table>\n",
       "</div>"
      ],
      "text/plain": [
       "                           Name  TotalTime\n",
       "3            My Cases and Tasks  10.712000\n",
       "1          Chat SLA - Wait Time   7.060517\n",
       "2       EWS MICC & WO TL Nadiri   2.785633\n",
       "4  Parent Project Order Details   2.716267\n",
       "0  AST Account Hierarchy Report   1.385883"
      ]
     },
     "execution_count": 138,
     "metadata": {},
     "output_type": "execute_result"
    }
   ],
   "source": [
    "total_time_sorted"
   ]
  },
  {
   "cell_type": "markdown",
   "id": "4d211278",
   "metadata": {},
   "source": [
    "---\n",
    "### Creeating a visualization"
   ]
  },
  {
   "cell_type": "code",
   "execution_count": 139,
   "id": "1fedff16",
   "metadata": {},
   "outputs": [
    {
     "data": {
      "image/png": "[encoded data removed]",
      "text/plain": [
       "<Figure size 864x576 with 1 Axes>"
      ]
     },
     "metadata": {
      "needs_background": "light"
     },
     "output_type": "display_data"
    }
   ],
   "source": [
    "plt.figure(figsize=(12,8))\n",
    "\n",
    "\n",
    "plt.barh(y = total_time_sorted['Name'], width = total_time_sorted['TotalTime'], color=['lightblue', 'lightgrey'])\n",
    "plt.gca().invert_yaxis();\n",
    "plt.xlabel('Total time in minutes', fontsize=14)\n",
    "plt.ylabel('Report Name', fontsize=14)\n",
    "plt.minorticks_on()\n",
    "plt.grid(True, axis='x')\n",
    "plt.title('Total time of each report', fontsize=20, fontweight=\"bold\");\n",
    "\n",
    "plt.rc('axes', axisbelow=True)\n",
    "plt.box(on=None)\n",
    "\n",
    "plt.show()"
   ]
  },
  {
   "cell_type": "code",
   "execution_count": null,
   "id": "01be32a0",
   "metadata": {},
   "outputs": [],
   "source": []
  }
 ],
 "metadata": {
  "kernelspec": {
   "display_name": "Python 3 (ipykernel)",
   "language": "python",
   "name": "python3"
  },
  "language_info": {
   "codemirror_mode": {
    "name": "ipython",
    "version": 3
   },
   "file_extension": ".py",
   "mimetype": "text/x-python",
   "name": "python",
   "nbconvert_exporter": "python",
   "pygments_lexer": "ipython3",
   "version": "3.10.4"
  }
 },
 "nbformat": 4,
 "nbformat_minor": 5
}
