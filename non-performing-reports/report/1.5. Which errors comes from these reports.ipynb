{
 "cells": [
  {
   "cell_type": "code",
   "execution_count": 1,
   "id": "684fc34e",
   "metadata": {},
   "outputs": [],
   "source": [
    "import pandas as pd"
   ]
  },
  {
   "cell_type": "markdown",
   "id": "99270106",
   "metadata": {},
   "source": [
    "---"
   ]
  },
  {
   "cell_type": "markdown",
   "id": "87de0220",
   "metadata": {},
   "source": [
    "## Loading data"
   ]
  },
  {
   "cell_type": "code",
   "execution_count": 2,
   "id": "a667abe6",
   "metadata": {},
   "outputs": [],
   "source": [
    "data = pd.read_csv(\"../../datasets/actives_and_problematics_regarding_time_last_30_days_from-27-07-2022.csv\")"
   ]
  },
  {
   "cell_type": "code",
   "execution_count": 3,
   "id": "faa2fded",
   "metadata": {},
   "outputs": [
    {
     "data": {
      "text/plain": [
       "(9, 53)"
      ]
     },
     "execution_count": 3,
     "metadata": {},
     "output_type": "execute_result"
    }
   ],
   "source": [
    "data.shape"
   ]
  },
  {
   "cell_type": "code",
   "execution_count": 4,
   "id": "aaea3076",
   "metadata": {},
   "outputs": [
    {
     "data": {
      "text/plain": [
       "['AppName',\n",
       " 'ConnectionType',\n",
       " 'CreatedById',\n",
       " 'CreatedDate',\n",
       " 'DeviceId',\n",
       " 'DeviceModel',\n",
       " 'DevicePlatform',\n",
       " 'DeviceSessionId',\n",
       " 'Duration',\n",
       " 'DurationInSecs',\n",
       " 'DurationInMinutes',\n",
       " 'EffectivePageTime',\n",
       " 'EventDate',\n",
       " 'EventIdentifier',\n",
       " 'OperationType',\n",
       " 'OsName',\n",
       " 'OsVersion',\n",
       " 'PageStartTime',\n",
       " 'PageUrl',\n",
       " 'PreviousPageAppName',\n",
       " 'PreviousPageEntityId',\n",
       " 'PreviousPageEntityType',\n",
       " 'PreviousPageUrl',\n",
       " 'LeftQueriedEntities',\n",
       " 'RecordId',\n",
       " 'ReportId',\n",
       " 'SdkAppType',\n",
       " 'SdkAppVersion',\n",
       " 'SdkVersion',\n",
       " 'SessionLevel',\n",
       " 'SourceIp',\n",
       " 'UserId',\n",
       " 'Username',\n",
       " 'UserType',\n",
       " '_raw',\n",
       " '_time',\n",
       " 'ColumnHeaders',\n",
       " 'DashboardId',\n",
       " 'DashboardName',\n",
       " 'Description',\n",
       " 'DisplayedFieldEntities',\n",
       " 'EvaluationTime',\n",
       " 'ExportFileFormat',\n",
       " 'Format',\n",
       " 'GroupedColumnHeaders',\n",
       " 'Name',\n",
       " 'NumberOfColumns',\n",
       " 'OwnerId',\n",
       " 'QueriedEntities',\n",
       " 'RowsProcessed',\n",
       " 'RowsReturned',\n",
       " 'Scope',\n",
       " 'Sequence']"
      ]
     },
     "execution_count": 4,
     "metadata": {},
     "output_type": "execute_result"
    }
   ],
   "source": [
    "list(data.columns)"
   ]
  },
  {
   "cell_type": "markdown",
   "id": "ba32f0c8",
   "metadata": {},
   "source": [
    "## Loading lightning error"
   ]
  },
  {
   "cell_type": "code",
   "execution_count": 5,
   "id": "4727c9ba",
   "metadata": {},
   "outputs": [],
   "source": [
    "lightning_error_1 = pd.read_csv('../../data/ELF-v3/2022-07-27/2022-07-27_LightningError_chunk1.csv')"
   ]
  },
  {
   "cell_type": "code",
   "execution_count": 6,
   "id": "fbefc297",
   "metadata": {},
   "outputs": [],
   "source": [
    "lightning_error_2 = pd.read_csv('../../data/ELF-v3/2022-07-27/2022-07-27_LightningError_chunk2.csv')"
   ]
  },
  {
   "cell_type": "code",
   "execution_count": 7,
   "id": "55683669",
   "metadata": {},
   "outputs": [],
   "source": [
    "lightning_error_3 = pd.read_csv('../../data/ELF-v3/2022-07-27/2022-07-27_LightningError_chunk3.csv')"
   ]
  },
  {
   "cell_type": "code",
   "execution_count": 8,
   "id": "cc0f6515",
   "metadata": {},
   "outputs": [],
   "source": [
    "lightning_error_4 = pd.read_csv('../../data/ELF-v3/2022-07-27/2022-07-27_LightningError_chunk4.csv')"
   ]
  },
  {
   "cell_type": "code",
   "execution_count": 9,
   "id": "9c9c9a7c",
   "metadata": {},
   "outputs": [],
   "source": [
    "lightning_error_5 = pd.read_csv('../../data/ELF-v3/2022-07-27/2022-07-27_LightningError_chunk5.csv')"
   ]
  },
  {
   "cell_type": "code",
   "execution_count": 10,
   "id": "2214b0af",
   "metadata": {},
   "outputs": [],
   "source": [
    "lightning_error_6 = pd.read_csv('../../data/ELF-v3/2022-07-27/2022-07-27_LightningError_chunk6.csv')"
   ]
  },
  {
   "cell_type": "code",
   "execution_count": 11,
   "id": "73afb992",
   "metadata": {},
   "outputs": [],
   "source": [
    "lightning_error_7 = pd.read_csv('../../data/ELF-v3/2022-07-27/2022-07-27_LightningError_chunk7.csv')"
   ]
  },
  {
   "cell_type": "code",
   "execution_count": 12,
   "id": "24383f51",
   "metadata": {},
   "outputs": [],
   "source": [
    "lightning_error_8 = pd.read_csv('../../data/ELF-v3/2022-07-27/2022-07-27_LightningError_chunk8.csv')"
   ]
  },
  {
   "cell_type": "code",
   "execution_count": 13,
   "id": "b39b3e37",
   "metadata": {},
   "outputs": [],
   "source": [
    "lightning_error_9 = pd.read_csv('../../data/ELF-v3/2022-07-27/2022-07-27_LightningError_chunk9.csv')"
   ]
  },
  {
   "cell_type": "code",
   "execution_count": 14,
   "id": "eb268c49",
   "metadata": {},
   "outputs": [],
   "source": [
    "lightning_error_10 = pd.read_csv('../../data/ELF-v3/2022-07-27/2022-07-27_LightningError_chunk10.csv')"
   ]
  },
  {
   "cell_type": "code",
   "execution_count": 15,
   "id": "ac53e1cd",
   "metadata": {},
   "outputs": [],
   "source": [
    "lightning_error_11 = pd.read_csv('../../data/ELF-v3/2022-07-27/2022-07-27_LightningError_chunk11.csv')"
   ]
  },
  {
   "cell_type": "code",
   "execution_count": 16,
   "id": "5adcf250",
   "metadata": {},
   "outputs": [],
   "source": [
    "lightning_error_12 = pd.read_csv('../../data/ELF-v3/2022-07-27/2022-07-27_LightningError_chunk12.csv')"
   ]
  },
  {
   "cell_type": "code",
   "execution_count": 17,
   "id": "e391830d",
   "metadata": {},
   "outputs": [],
   "source": [
    "lightning_error_13 = pd.read_csv('../../data/ELF-v3/2022-07-27/2022-07-27_LightningError_chunk13.csv')"
   ]
  },
  {
   "cell_type": "code",
   "execution_count": 18,
   "id": "0ff84c33",
   "metadata": {},
   "outputs": [],
   "source": [
    "# frames = [lightning_error_1, lightning_error_2, lightning_error_3, lightning_error_4, lightning_error_5, \n",
    "#           lightning_error_6, lightning_error_7, lightning_error_8, lightning_error_9, lightning_error_10, \n",
    "#           lightning_error_11, lightning_error_12, lightning_error_13]"
   ]
  },
  {
   "cell_type": "code",
   "execution_count": 19,
   "id": "96f75a13",
   "metadata": {},
   "outputs": [],
   "source": [
    "lightning_error_1 = pd.read_csv('../../data/ELF-v3/2022-07-22/2022-07-22_LightningError_chunk1.csv')"
   ]
  },
  {
   "cell_type": "code",
   "execution_count": 20,
   "id": "96c017ec",
   "metadata": {},
   "outputs": [],
   "source": [
    "lightning_error_2 = pd.read_csv('../../data/ELF-v3/2022-07-22/2022-07-22_LightningError_chunk2.csv')"
   ]
  },
  {
   "cell_type": "code",
   "execution_count": 21,
   "id": "0906d7a5",
   "metadata": {},
   "outputs": [],
   "source": [
    "lightning_error_3 = pd.read_csv('../../data/ELF-v3/2022-07-22/2022-07-22_LightningError_chunk3.csv')"
   ]
  },
  {
   "cell_type": "code",
   "execution_count": 22,
   "id": "5bf3ab8c",
   "metadata": {},
   "outputs": [],
   "source": [
    "lightning_error_4 = pd.read_csv('../../data/ELF-v3/2022-07-22/2022-07-22_LightningError_chunk4.csv')"
   ]
  },
  {
   "cell_type": "code",
   "execution_count": 23,
   "id": "ba830db6",
   "metadata": {},
   "outputs": [],
   "source": [
    "# frames = [lightning_error_1, lightning_error_2, lightning_error_3, lightning_error_4]"
   ]
  },
  {
   "cell_type": "code",
   "execution_count": 24,
   "id": "41687d75",
   "metadata": {},
   "outputs": [],
   "source": [
    "lightning_error_1 = pd.read_csv('../../data/ELF-v3/2022-07-11/2022-07-11_LightningError_chunk1.csv')"
   ]
  },
  {
   "cell_type": "code",
   "execution_count": 25,
   "id": "d19012bb",
   "metadata": {},
   "outputs": [],
   "source": [
    "lightning_error_2 = pd.read_csv('../../data/ELF-v3/2022-07-11/2022-07-11_LightningError_chunk2.csv')"
   ]
  },
  {
   "cell_type": "code",
   "execution_count": 26,
   "id": "036d090c",
   "metadata": {},
   "outputs": [],
   "source": [
    "lightning_error_3 = pd.read_csv('../../data/ELF-v3/2022-07-11/2022-07-11_LightningError_chunk3.csv')"
   ]
  },
  {
   "cell_type": "code",
   "execution_count": 27,
   "id": "60ad0f2f",
   "metadata": {},
   "outputs": [],
   "source": [
    "lightning_error_4 = pd.read_csv('../../data/ELF-v3/2022-07-11/2022-07-11_LightningError_chunk4.csv')"
   ]
  },
  {
   "cell_type": "code",
   "execution_count": 28,
   "id": "8445579e",
   "metadata": {},
   "outputs": [],
   "source": [
    "# frames = [lightning_error_1, lightning_error_2, lightning_error_3, lightning_error_4]"
   ]
  },
  {
   "cell_type": "code",
   "execution_count": 29,
   "id": "32a07644",
   "metadata": {},
   "outputs": [],
   "source": [
    "lightning_error_1 = pd.read_csv('../../data/ELF-v3/2022-07-05/2022-07-05_LightningError_chunk1.csv')"
   ]
  },
  {
   "cell_type": "code",
   "execution_count": 30,
   "id": "3cb4b40f",
   "metadata": {},
   "outputs": [],
   "source": [
    "lightning_error_2 = pd.read_csv('../../data/ELF-v3/2022-07-05/2022-07-05_LightningError_chunk2.csv')"
   ]
  },
  {
   "cell_type": "code",
   "execution_count": 31,
   "id": "fee50045",
   "metadata": {},
   "outputs": [],
   "source": [
    "lightning_error_3 = pd.read_csv('../../data/ELF-v3/2022-07-05/2022-07-05_LightningError_chunk3.csv')"
   ]
  },
  {
   "cell_type": "code",
   "execution_count": 32,
   "id": "1e0972f6",
   "metadata": {},
   "outputs": [],
   "source": [
    "lightning_error_4 = pd.read_csv('../../data/ELF-v3/2022-07-05/2022-07-05_LightningError_chunk4.csv')"
   ]
  },
  {
   "cell_type": "code",
   "execution_count": 33,
   "id": "e92a0bf6",
   "metadata": {},
   "outputs": [],
   "source": [
    "lightning_error_5 = pd.read_csv('../../data/ELF-v3/2022-07-05/2022-07-05_LightningError_chunk5.csv')"
   ]
  },
  {
   "cell_type": "code",
   "execution_count": 34,
   "id": "1288a656",
   "metadata": {},
   "outputs": [],
   "source": [
    "lightning_error_6 = pd.read_csv('../../data/ELF-v3/2022-07-05/2022-07-05_LightningError_chunk6.csv')"
   ]
  },
  {
   "cell_type": "code",
   "execution_count": 35,
   "id": "fd0837fd",
   "metadata": {},
   "outputs": [],
   "source": [
    "# frames = [lightning_error_1, lightning_error_2, lightning_error_3, lightning_error_4, lightning_error_5, \n",
    "#           lightning_error_6]"
   ]
  },
  {
   "cell_type": "code",
   "execution_count": 36,
   "id": "fcf39140",
   "metadata": {},
   "outputs": [],
   "source": [
    "lightning_error_1 = pd.read_csv('../../data/ELF-v3/2022-07-04/2022-07-04_LightningError_chunk1.csv')"
   ]
  },
  {
   "cell_type": "code",
   "execution_count": 37,
   "id": "b4e528c0",
   "metadata": {},
   "outputs": [],
   "source": [
    "# frames = [lightning_error_1]"
   ]
  },
  {
   "cell_type": "code",
   "execution_count": 38,
   "id": "466dc759",
   "metadata": {},
   "outputs": [],
   "source": [
    "lightning_error_1 = pd.read_csv('../../data/ELF-v3/2022-06-28/2022-06-28_LightningError_chunk1.csv')"
   ]
  },
  {
   "cell_type": "code",
   "execution_count": 39,
   "id": "0f7cf1d8",
   "metadata": {},
   "outputs": [],
   "source": [
    "lightning_error_2 = pd.read_csv('../../data/ELF-v3/2022-06-28/2022-06-28_LightningError_chunk2.csv')"
   ]
  },
  {
   "cell_type": "code",
   "execution_count": 40,
   "id": "54cbf79b",
   "metadata": {},
   "outputs": [],
   "source": [
    "lightning_error_3 = pd.read_csv('../../data/ELF-v3/2022-06-28/2022-06-28_LightningError_chunk3.csv')"
   ]
  },
  {
   "cell_type": "code",
   "execution_count": 41,
   "id": "fc185bcb",
   "metadata": {},
   "outputs": [],
   "source": [
    "lightning_error_4 = pd.read_csv('../../data/ELF-v3/2022-06-28/2022-06-28_LightningError_chunk4.csv')"
   ]
  },
  {
   "cell_type": "code",
   "execution_count": 42,
   "id": "a0d339bc",
   "metadata": {},
   "outputs": [],
   "source": [
    "frames = [lightning_error_1, lightning_error_2, lightning_error_3, lightning_error_4]"
   ]
  },
  {
   "cell_type": "code",
   "execution_count": 43,
   "id": "fed9bb32",
   "metadata": {},
   "outputs": [],
   "source": [
    "lightning_error = pd.concat(frames)"
   ]
  },
  {
   "cell_type": "code",
   "execution_count": 44,
   "id": "ce36dc58",
   "metadata": {},
   "outputs": [
    {
     "data": {
      "text/plain": [
       "(231, 39)"
      ]
     },
     "execution_count": 44,
     "metadata": {},
     "output_type": "execute_result"
    }
   ],
   "source": [
    "lightning_error.shape"
   ]
  },
  {
   "cell_type": "markdown",
   "id": "5bf2a400",
   "metadata": {},
   "source": [
    "### Getting *Report_Id* by *Page_Url*"
   ]
  },
  {
   "cell_type": "code",
   "execution_count": 45,
   "id": "036eacce",
   "metadata": {},
   "outputs": [],
   "source": [
    "lightning_error = lightning_error.dropna(subset = ['PAGE_URL'])"
   ]
  },
  {
   "cell_type": "code",
   "execution_count": 46,
   "id": "e059fdf5",
   "metadata": {},
   "outputs": [
    {
     "data": {
      "text/plain": [
       "(231, 39)"
      ]
     },
     "execution_count": 46,
     "metadata": {},
     "output_type": "execute_result"
    }
   ],
   "source": [
    "lightning_error.shape"
   ]
  },
  {
   "cell_type": "code",
   "execution_count": 47,
   "id": "dbbfb7ce",
   "metadata": {},
   "outputs": [],
   "source": [
    "run_report_api_resource = \"/lightning/r/\"\n",
    "\n",
    "def get_report_info_from_endpoint(page_url):\n",
    "    if not(pd.isnull(page_url)) == True: \n",
    "        if page_url.startswith(run_report_api_resource):\n",
    "            uri = page_url.split(run_report_api_resource)\n",
    "            if len(uri) >= 2:\n",
    "                report_type, report_id_derived = uri[1].split(\"/\")[:2]\n",
    "                return report_type, report_id_derived"
   ]
  },
  {
   "cell_type": "code",
   "execution_count": 48,
   "id": "fd776c59",
   "metadata": {},
   "outputs": [],
   "source": [
    "lightning_error['REPORT_INFO_DERIVED'] = lightning_error.PAGE_URL.apply(get_report_info_from_endpoint)\n",
    "lightning_error['REPORT_TYPE_DERIVED'] = lightning_error.REPORT_INFO_DERIVED.str[0]\n",
    "lightning_error['REPORT_ID_DERIVED'] = lightning_error.REPORT_INFO_DERIVED.str[1]"
   ]
  },
  {
   "cell_type": "code",
   "execution_count": 49,
   "id": "2905c6c7",
   "metadata": {},
   "outputs": [
    {
     "data": {
      "text/plain": [
       "(231, 42)"
      ]
     },
     "execution_count": 49,
     "metadata": {},
     "output_type": "execute_result"
    }
   ],
   "source": [
    "lightning_error.shape"
   ]
  },
  {
   "cell_type": "markdown",
   "id": "4bb4eca3",
   "metadata": {},
   "source": [
    "## Merging lightning error and problematic reports"
   ]
  },
  {
   "cell_type": "code",
   "execution_count": 50,
   "id": "68aaa9d6",
   "metadata": {},
   "outputs": [],
   "source": [
    "ltng_reports = pd.merge(left=data, right=lightning_error, left_on=\"ReportId\", right_on=\"REPORT_ID_DERIVED\")"
   ]
  },
  {
   "cell_type": "code",
   "execution_count": 51,
   "id": "5e6ae787",
   "metadata": {},
   "outputs": [
    {
     "data": {
      "text/plain": [
       "['AppName',\n",
       " 'ConnectionType',\n",
       " 'CreatedById',\n",
       " 'CreatedDate',\n",
       " 'DeviceId',\n",
       " 'DeviceModel',\n",
       " 'DevicePlatform',\n",
       " 'DeviceSessionId',\n",
       " 'Duration',\n",
       " 'DurationInSecs',\n",
       " 'DurationInMinutes',\n",
       " 'EffectivePageTime',\n",
       " 'EventDate',\n",
       " 'EventIdentifier',\n",
       " 'OperationType',\n",
       " 'OsName',\n",
       " 'OsVersion',\n",
       " 'PageStartTime',\n",
       " 'PageUrl',\n",
       " 'PreviousPageAppName',\n",
       " 'PreviousPageEntityId',\n",
       " 'PreviousPageEntityType',\n",
       " 'PreviousPageUrl',\n",
       " 'LeftQueriedEntities',\n",
       " 'RecordId',\n",
       " 'ReportId',\n",
       " 'SdkAppType',\n",
       " 'SdkAppVersion',\n",
       " 'SdkVersion',\n",
       " 'SessionLevel',\n",
       " 'SourceIp',\n",
       " 'UserId',\n",
       " 'Username',\n",
       " 'UserType',\n",
       " '_raw',\n",
       " '_time',\n",
       " 'ColumnHeaders',\n",
       " 'DashboardId',\n",
       " 'DashboardName',\n",
       " 'Description',\n",
       " 'DisplayedFieldEntities',\n",
       " 'EvaluationTime',\n",
       " 'ExportFileFormat',\n",
       " 'Format',\n",
       " 'GroupedColumnHeaders',\n",
       " 'Name',\n",
       " 'NumberOfColumns',\n",
       " 'OwnerId',\n",
       " 'QueriedEntities',\n",
       " 'RowsProcessed',\n",
       " 'RowsReturned',\n",
       " 'Scope',\n",
       " 'Sequence',\n",
       " 'EVENT_TYPE',\n",
       " 'TIMESTAMP',\n",
       " 'REQUEST_ID',\n",
       " 'ORGANIZATION_ID',\n",
       " 'USER_ID',\n",
       " 'CLIENT_ID',\n",
       " 'SESSION_KEY',\n",
       " 'LOGIN_KEY',\n",
       " 'USER_TYPE',\n",
       " 'APP_NAME',\n",
       " 'DEVICE_PLATFORM',\n",
       " 'SDK_APP_VERSION',\n",
       " 'OS_NAME',\n",
       " 'OS_VERSION',\n",
       " 'USER_AGENT',\n",
       " 'BROWSER_NAME',\n",
       " 'BROWSER_VERSION',\n",
       " 'SDK_VERSION',\n",
       " 'DEVICE_MODEL',\n",
       " 'DEVICE_ID',\n",
       " 'SDK_APP_TYPE',\n",
       " 'CLIENT_GEO',\n",
       " 'CONNECTION_TYPE',\n",
       " 'UI_EVENT_ID',\n",
       " 'UI_EVENT_TYPE',\n",
       " 'UI_EVENT_SOURCE',\n",
       " 'UI_EVENT_TIMESTAMP',\n",
       " 'PAGE_START_TIME',\n",
       " 'DEVICE_SESSION_ID',\n",
       " 'UI_EVENT_SEQUENCE_NUM',\n",
       " 'PAGE_ENTITY_ID',\n",
       " 'PAGE_ENTITY_TYPE',\n",
       " 'PAGE_CONTEXT',\n",
       " 'PAGE_URL',\n",
       " 'PAGE_APP_NAME',\n",
       " 'COMPONENT_NAME',\n",
       " 'TIMESTAMP_DERIVED',\n",
       " 'USER_ID_DERIVED',\n",
       " 'CLIENT_IP',\n",
       " 'REPORT_INFO_DERIVED',\n",
       " 'REPORT_TYPE_DERIVED',\n",
       " 'REPORT_ID_DERIVED']"
      ]
     },
     "execution_count": 51,
     "metadata": {},
     "output_type": "execute_result"
    }
   ],
   "source": [
    "list(ltng_reports.columns)"
   ]
  },
  {
   "cell_type": "code",
   "execution_count": 52,
   "id": "fea277ea",
   "metadata": {},
   "outputs": [],
   "source": [
    "interest_columns = ['DurationInMinutes', 'ReportId', 'UI_EVENT_ID', 'UI_EVENT_TYPE', 'UI_EVENT_SOURCE', 'UI_EVENT_TIMESTAMP']"
   ]
  },
  {
   "cell_type": "code",
   "execution_count": 53,
   "id": "5a060d75",
   "metadata": {},
   "outputs": [],
   "source": [
    "ltng_reports = ltng_reports[interest_columns]"
   ]
  },
  {
   "cell_type": "code",
   "execution_count": 54,
   "id": "584ba4f5",
   "metadata": {},
   "outputs": [
    {
     "data": {
      "text/plain": [
       "(0, 6)"
      ]
     },
     "execution_count": 54,
     "metadata": {},
     "output_type": "execute_result"
    }
   ],
   "source": [
    "ltng_reports.shape"
   ]
  }
 ],
 "metadata": {
  "kernelspec": {
   "display_name": "Python 3 (ipykernel)",
   "language": "python",
   "name": "python3"
  },
  "language_info": {
   "codemirror_mode": {
    "name": "ipython",
    "version": 3
   },
   "file_extension": ".py",
   "mimetype": "text/x-python",
   "name": "python",
   "nbconvert_exporter": "python",
   "pygments_lexer": "ipython3",
   "version": "3.9.12"
  }
 },
 "nbformat": 4,
 "nbformat_minor": 5
}
