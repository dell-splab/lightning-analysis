{
 "cells": [
  {
   "cell_type": "code",
   "execution_count": 1,
   "id": "ec3dc436",
   "metadata": {},
   "outputs": [],
   "source": [
    "import pandas as pd"
   ]
  },
  {
   "cell_type": "code",
   "execution_count": null,
   "id": "fe816fa6",
   "metadata": {},
   "outputs": [],
   "source": []
  },
  {
   "cell_type": "code",
   "execution_count": 2,
   "id": "0105ed48",
   "metadata": {},
   "outputs": [],
   "source": [
    "data = pd.read_csv(\"../../datasets/actives_and_problematics_regarding_time_last_30_days_from-27-07-2022.csv\")"
   ]
  },
  {
   "cell_type": "code",
   "execution_count": 3,
   "id": "560f0851",
   "metadata": {},
   "outputs": [
    {
     "data": {
      "text/plain": [
       "(9, 53)"
      ]
     },
     "execution_count": 3,
     "metadata": {},
     "output_type": "execute_result"
    }
   ],
   "source": [
    "data.shape"
   ]
  },
  {
   "cell_type": "code",
   "execution_count": 5,
   "id": "7b65904f",
   "metadata": {},
   "outputs": [
    {
     "data": {
      "text/plain": [
       "['AppName',\n",
       " 'ConnectionType',\n",
       " 'CreatedById',\n",
       " 'CreatedDate',\n",
       " 'DeviceId',\n",
       " 'DeviceModel',\n",
       " 'DevicePlatform',\n",
       " 'DeviceSessionId',\n",
       " 'Duration',\n",
       " 'DurationInSecs',\n",
       " 'DurationInMinutes',\n",
       " 'EffectivePageTime',\n",
       " 'EventDate',\n",
       " 'EventIdentifier',\n",
       " 'OperationType',\n",
       " 'OsName',\n",
       " 'OsVersion',\n",
       " 'PageStartTime',\n",
       " 'PageUrl',\n",
       " 'PreviousPageAppName',\n",
       " 'PreviousPageEntityId',\n",
       " 'PreviousPageEntityType',\n",
       " 'PreviousPageUrl',\n",
       " 'LeftQueriedEntities',\n",
       " 'RecordId',\n",
       " 'ReportId',\n",
       " 'SdkAppType',\n",
       " 'SdkAppVersion',\n",
       " 'SdkVersion',\n",
       " 'SessionLevel',\n",
       " 'SourceIp',\n",
       " 'UserId',\n",
       " 'Username',\n",
       " 'UserType',\n",
       " '_raw',\n",
       " '_time',\n",
       " 'ColumnHeaders',\n",
       " 'DashboardId',\n",
       " 'DashboardName',\n",
       " 'Description',\n",
       " 'DisplayedFieldEntities',\n",
       " 'EvaluationTime',\n",
       " 'ExportFileFormat',\n",
       " 'Format',\n",
       " 'GroupedColumnHeaders',\n",
       " 'Name',\n",
       " 'NumberOfColumns',\n",
       " 'OwnerId',\n",
       " 'QueriedEntities',\n",
       " 'RowsProcessed',\n",
       " 'RowsReturned',\n",
       " 'Scope',\n",
       " 'Sequence']"
      ]
     },
     "execution_count": 5,
     "metadata": {},
     "output_type": "execute_result"
    }
   ],
   "source": [
    "list(data.columns)"
   ]
  },
  {
   "cell_type": "code",
   "execution_count": null,
   "id": "0eee847a",
   "metadata": {},
   "outputs": [],
   "source": [
    "# there are no columns related to errors\n",
    "interest_columns = []"
   ]
  }
 ],
 "metadata": {
  "kernelspec": {
   "display_name": "Python 3 (ipykernel)",
   "language": "python",
   "name": "python3"
  },
  "language_info": {
   "codemirror_mode": {
    "name": "ipython",
    "version": 3
   },
   "file_extension": ".py",
   "mimetype": "text/x-python",
   "name": "python",
   "nbconvert_exporter": "python",
   "pygments_lexer": "ipython3",
   "version": "3.9.12"
  }
 },
 "nbformat": 4,
 "nbformat_minor": 5
}
