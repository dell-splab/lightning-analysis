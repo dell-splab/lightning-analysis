{
 "cells": [
  {
   "cell_type": "code",
   "execution_count": 1,
   "id": "684fc34e",
   "metadata": {},
   "outputs": [],
   "source": [
    "import pandas as pd"
   ]
  },
  {
   "cell_type": "markdown",
   "id": "99270106",
   "metadata": {},
   "source": [
    "---"
   ]
  },
  {
   "cell_type": "markdown",
   "id": "87de0220",
   "metadata": {},
   "source": [
    "## Loading data"
   ]
  },
  {
   "cell_type": "code",
   "execution_count": 2,
   "id": "a667abe6",
   "metadata": {},
   "outputs": [],
   "source": [
    "problematics_regarding_time = pd.read_csv(\n",
    "    \"../../datasets/actives_and_problematics_regarding_time_last_30_days_from-27-07-2022.csv\")"
   ]
  },
  {
   "cell_type": "code",
   "execution_count": 3,
   "id": "4ebd88de",
   "metadata": {},
   "outputs": [],
   "source": [
    "problematics_regarding_time.drop(\"ReportId\", axis=1, inplace=True)\n",
    "problematics_regarding_time.rename(columns={\"RecordId\": \"ReportId\"}, inplace=True) # record id = report id derived"
   ]
  },
  {
   "cell_type": "code",
   "execution_count": 4,
   "id": "a0e9c496",
   "metadata": {},
   "outputs": [],
   "source": [
    "interest_cols = {\n",
    "    'Name': \"first\",\n",
    "    \"ReportId\": \"first\",\n",
    "    \"Description\": \"first\",\n",
    "    \"DurationInMinutes\": [\"min\", \"max\", \"median\", \"mean\", \"std\", \"count\"],\n",
    "    'RowsProcessed': [\"sum\", \"min\", \"max\", \"median\", \"mean\", \"std\"],\n",
    "    \"RowsReturned\": [\"first\", \"unique\", \"count\"],\n",
    "    'ConnectionType': [\"first\", \"unique\", \"count\"],\n",
    "    'ColumnHeaders': [\"first\", \"unique\", \"count\"], \n",
    "    'DashboardId': \"first\",\n",
    "    'DashboardName': \"first\",\n",
    "    'Format': \"first\", \n",
    "    'GroupedColumnHeaders': [\"first\", \"unique\"],\n",
    "    \"OperationType\": [\"first\", \"unique\", \"count\"],\n",
    "    'OsName': [\"first\", \"unique\", \"count\"], \n",
    "    'OsVersion': [\"first\", \"unique\", \"count\"],\n",
    "    'PageStartTime': [\"first\", \"unique\"],\n",
    "    'PageUrl': [\"first\", \"unique\", \"count\"],\n",
    "    'PreviousPageAppName': [\"first\", \"unique\", \"count\"],\n",
    "    'PreviousPageEntityType': [\"first\", \"unique\", \"count\"], \n",
    "    'PreviousPageUrl': [\"first\", \"unique\", \"count\"],\n",
    "    'DisplayedFieldEntities': [\"first\", \"unique\", \"count\"],\n",
    "    'EvaluationTime': [\"first\", \"unique\", \"count\"],\n",
    "    'DeviceModel': [\"first\", \"unique\", \"count\"], \n",
    "    'DevicePlatform': [\"first\", \"unique\", \"count\"]\n",
    "}"
   ]
  },
  {
   "cell_type": "code",
   "execution_count": 5,
   "id": "5d0c064c",
   "metadata": {},
   "outputs": [],
   "source": [
    "summary = problematics_regarding_time[list(interest_cols.keys())]\\\n",
    "    .groupby(\"Name\")\\\n",
    "    .agg({k: v for k, v in interest_cols.items() if k!=\"Name\"})\\\n",
    "    .reset_index()"
   ]
  },
  {
   "cell_type": "code",
   "execution_count": 6,
   "id": "01fff348",
   "metadata": {},
   "outputs": [],
   "source": [
    "new_column_names = []\n",
    "for k, v in zip(summary.columns.get_level_values(0), summary.columns.get_level_values(1)):\n",
    "    columnName = k + (\"\" if v==\"first\" else v.capitalize())\n",
    "    new_column_names.append(columnName)"
   ]
  },
  {
   "cell_type": "code",
   "execution_count": 7,
   "id": "b63a1c4c",
   "metadata": {},
   "outputs": [],
   "source": [
    "summary.columns = new_column_names"
   ]
  },
  {
   "cell_type": "code",
   "execution_count": 8,
   "id": "ad3995bf",
   "metadata": {},
   "outputs": [
    {
     "data": {
      "text/html": [
       "<div>\n",
       "<style scoped>\n",
       "    .dataframe tbody tr th:only-of-type {\n",
       "        vertical-align: middle;\n",
       "    }\n",
       "\n",
       "    .dataframe tbody tr th {\n",
       "        vertical-align: top;\n",
       "    }\n",
       "\n",
       "    .dataframe thead th {\n",
       "        text-align: right;\n",
       "    }\n",
       "</style>\n",
       "<table border=\"1\" class=\"dataframe\">\n",
       "  <thead>\n",
       "    <tr style=\"text-align: right;\">\n",
       "      <th></th>\n",
       "      <th>Name</th>\n",
       "      <th>ReportId</th>\n",
       "      <th>Description</th>\n",
       "      <th>DurationInMinutesMin</th>\n",
       "      <th>DurationInMinutesMax</th>\n",
       "      <th>DurationInMinutesMedian</th>\n",
       "      <th>DurationInMinutesMean</th>\n",
       "      <th>DurationInMinutesStd</th>\n",
       "      <th>DurationInMinutesCount</th>\n",
       "      <th>RowsProcessedSum</th>\n",
       "      <th>...</th>\n",
       "      <th>DisplayedFieldEntitiesCount</th>\n",
       "      <th>EvaluationTime</th>\n",
       "      <th>EvaluationTimeUnique</th>\n",
       "      <th>EvaluationTimeCount</th>\n",
       "      <th>DeviceModel</th>\n",
       "      <th>DeviceModelUnique</th>\n",
       "      <th>DeviceModelCount</th>\n",
       "      <th>DevicePlatform</th>\n",
       "      <th>DevicePlatformUnique</th>\n",
       "      <th>DevicePlatformCount</th>\n",
       "    </tr>\n",
       "  </thead>\n",
       "  <tbody>\n",
       "    <tr>\n",
       "      <th>0</th>\n",
       "      <td>AST Account Hierarchy Report</td>\n",
       "      <td>00O6P000000yX5NUAU</td>\n",
       "      <td>This report is used by the AST to troubleshoot...</td>\n",
       "      <td>1.385883</td>\n",
       "      <td>1.385883</td>\n",
       "      <td>1.385883</td>\n",
       "      <td>1.385883</td>\n",
       "      <td>NaN</td>\n",
       "      <td>1</td>\n",
       "      <td>4</td>\n",
       "      <td>...</td>\n",
       "      <td>1</td>\n",
       "      <td>0</td>\n",
       "      <td>[0]</td>\n",
       "      <td>1</td>\n",
       "      <td>NaN</td>\n",
       "      <td>[nan]</td>\n",
       "      <td>0</td>\n",
       "      <td>SFX:BROWSER:DESKTOP</td>\n",
       "      <td>[SFX:BROWSER:DESKTOP]</td>\n",
       "      <td>1</td>\n",
       "    </tr>\n",
       "    <tr>\n",
       "      <th>1</th>\n",
       "      <td>Chat SLA - Wait Time</td>\n",
       "      <td>00O0b000004AoOOEA0</td>\n",
       "      <td>None</td>\n",
       "      <td>7.060517</td>\n",
       "      <td>7.060517</td>\n",
       "      <td>7.060517</td>\n",
       "      <td>7.060517</td>\n",
       "      <td>NaN</td>\n",
       "      <td>1</td>\n",
       "      <td>0</td>\n",
       "      <td>...</td>\n",
       "      <td>1</td>\n",
       "      <td>0</td>\n",
       "      <td>[0]</td>\n",
       "      <td>1</td>\n",
       "      <td>NaN</td>\n",
       "      <td>[nan]</td>\n",
       "      <td>0</td>\n",
       "      <td>SFX:BROWSER:DESKTOP</td>\n",
       "      <td>[SFX:BROWSER:DESKTOP]</td>\n",
       "      <td>1</td>\n",
       "    </tr>\n",
       "    <tr>\n",
       "      <th>2</th>\n",
       "      <td>Copy of Copy of BD Status Report</td>\n",
       "      <td>00O2R000003JQyNUAW</td>\n",
       "      <td>None</td>\n",
       "      <td>1.594933</td>\n",
       "      <td>1.594933</td>\n",
       "      <td>1.594933</td>\n",
       "      <td>1.594933</td>\n",
       "      <td>NaN</td>\n",
       "      <td>1</td>\n",
       "      <td>5407</td>\n",
       "      <td>...</td>\n",
       "      <td>1</td>\n",
       "      <td>0</td>\n",
       "      <td>[0]</td>\n",
       "      <td>1</td>\n",
       "      <td>NaN</td>\n",
       "      <td>[nan]</td>\n",
       "      <td>0</td>\n",
       "      <td>SFX:BROWSER:DESKTOP</td>\n",
       "      <td>[SFX:BROWSER:DESKTOP]</td>\n",
       "      <td>1</td>\n",
       "    </tr>\n",
       "    <tr>\n",
       "      <th>3</th>\n",
       "      <td>EWS MICC &amp; WO TL Nadiri</td>\n",
       "      <td>00O6P000000VF5IUAW</td>\n",
       "      <td>Cases on InProgress, where WorkOrders are alre...</td>\n",
       "      <td>2.233383</td>\n",
       "      <td>3.337883</td>\n",
       "      <td>2.785633</td>\n",
       "      <td>2.785633</td>\n",
       "      <td>0.780999</td>\n",
       "      <td>2</td>\n",
       "      <td>102</td>\n",
       "      <td>...</td>\n",
       "      <td>2</td>\n",
       "      <td>0</td>\n",
       "      <td>[0]</td>\n",
       "      <td>2</td>\n",
       "      <td>NaN</td>\n",
       "      <td>[nan]</td>\n",
       "      <td>0</td>\n",
       "      <td>SFX:BROWSER:DESKTOP</td>\n",
       "      <td>[SFX:BROWSER:DESKTOP]</td>\n",
       "      <td>2</td>\n",
       "    </tr>\n",
       "    <tr>\n",
       "      <th>4</th>\n",
       "      <td>Lightning DSP Dispatches</td>\n",
       "      <td>00O6P000001B8LVUA0</td>\n",
       "      <td>None</td>\n",
       "      <td>3.174300</td>\n",
       "      <td>3.174300</td>\n",
       "      <td>3.174300</td>\n",
       "      <td>3.174300</td>\n",
       "      <td>NaN</td>\n",
       "      <td>1</td>\n",
       "      <td>31310</td>\n",
       "      <td>...</td>\n",
       "      <td>1</td>\n",
       "      <td>0</td>\n",
       "      <td>[0]</td>\n",
       "      <td>1</td>\n",
       "      <td>NaN</td>\n",
       "      <td>[nan]</td>\n",
       "      <td>0</td>\n",
       "      <td>SFX:BROWSER:DESKTOP</td>\n",
       "      <td>[SFX:BROWSER:DESKTOP]</td>\n",
       "      <td>1</td>\n",
       "    </tr>\n",
       "    <tr>\n",
       "      <th>5</th>\n",
       "      <td>My Cases and Tasks</td>\n",
       "      <td>00O0b000004kTazEAE</td>\n",
       "      <td>None</td>\n",
       "      <td>10.712000</td>\n",
       "      <td>10.712000</td>\n",
       "      <td>10.712000</td>\n",
       "      <td>10.712000</td>\n",
       "      <td>NaN</td>\n",
       "      <td>1</td>\n",
       "      <td>31</td>\n",
       "      <td>...</td>\n",
       "      <td>1</td>\n",
       "      <td>0</td>\n",
       "      <td>[0]</td>\n",
       "      <td>1</td>\n",
       "      <td>NaN</td>\n",
       "      <td>[nan]</td>\n",
       "      <td>0</td>\n",
       "      <td>SFX:BROWSER:DESKTOP</td>\n",
       "      <td>[SFX:BROWSER:DESKTOP]</td>\n",
       "      <td>1</td>\n",
       "    </tr>\n",
       "    <tr>\n",
       "      <th>6</th>\n",
       "      <td>Parent Project Order Details</td>\n",
       "      <td>00O2R000004Am1WUAS</td>\n",
       "      <td>None</td>\n",
       "      <td>2.716267</td>\n",
       "      <td>2.716267</td>\n",
       "      <td>2.716267</td>\n",
       "      <td>2.716267</td>\n",
       "      <td>NaN</td>\n",
       "      <td>1</td>\n",
       "      <td>154</td>\n",
       "      <td>...</td>\n",
       "      <td>1</td>\n",
       "      <td>0</td>\n",
       "      <td>[0]</td>\n",
       "      <td>1</td>\n",
       "      <td>NaN</td>\n",
       "      <td>[nan]</td>\n",
       "      <td>0</td>\n",
       "      <td>SFX:BROWSER:DESKTOP</td>\n",
       "      <td>[SFX:BROWSER:DESKTOP]</td>\n",
       "      <td>1</td>\n",
       "    </tr>\n",
       "    <tr>\n",
       "      <th>7</th>\n",
       "      <td>Weller Manual Time Tracking (HES)</td>\n",
       "      <td>00O2R000004IlyzUAC</td>\n",
       "      <td>None</td>\n",
       "      <td>2.584200</td>\n",
       "      <td>2.584200</td>\n",
       "      <td>2.584200</td>\n",
       "      <td>2.584200</td>\n",
       "      <td>NaN</td>\n",
       "      <td>1</td>\n",
       "      <td>787</td>\n",
       "      <td>...</td>\n",
       "      <td>1</td>\n",
       "      <td>0</td>\n",
       "      <td>[0]</td>\n",
       "      <td>1</td>\n",
       "      <td>NaN</td>\n",
       "      <td>[nan]</td>\n",
       "      <td>0</td>\n",
       "      <td>SFX:BROWSER:DESKTOP</td>\n",
       "      <td>[SFX:BROWSER:DESKTOP]</td>\n",
       "      <td>1</td>\n",
       "    </tr>\n",
       "  </tbody>\n",
       "</table>\n",
       "<p>8 rows × 64 columns</p>\n",
       "</div>"
      ],
      "text/plain": [
       "                                Name            ReportId  \\\n",
       "0       AST Account Hierarchy Report  00O6P000000yX5NUAU   \n",
       "1               Chat SLA - Wait Time  00O0b000004AoOOEA0   \n",
       "2   Copy of Copy of BD Status Report  00O2R000003JQyNUAW   \n",
       "3            EWS MICC & WO TL Nadiri  00O6P000000VF5IUAW   \n",
       "4           Lightning DSP Dispatches  00O6P000001B8LVUA0   \n",
       "5                 My Cases and Tasks  00O0b000004kTazEAE   \n",
       "6       Parent Project Order Details  00O2R000004Am1WUAS   \n",
       "7  Weller Manual Time Tracking (HES)  00O2R000004IlyzUAC   \n",
       "\n",
       "                                         Description  DurationInMinutesMin  \\\n",
       "0  This report is used by the AST to troubleshoot...              1.385883   \n",
       "1                                               None              7.060517   \n",
       "2                                               None              1.594933   \n",
       "3  Cases on InProgress, where WorkOrders are alre...              2.233383   \n",
       "4                                               None              3.174300   \n",
       "5                                               None             10.712000   \n",
       "6                                               None              2.716267   \n",
       "7                                               None              2.584200   \n",
       "\n",
       "   DurationInMinutesMax  DurationInMinutesMedian  DurationInMinutesMean  \\\n",
       "0              1.385883                 1.385883               1.385883   \n",
       "1              7.060517                 7.060517               7.060517   \n",
       "2              1.594933                 1.594933               1.594933   \n",
       "3              3.337883                 2.785633               2.785633   \n",
       "4              3.174300                 3.174300               3.174300   \n",
       "5             10.712000                10.712000              10.712000   \n",
       "6              2.716267                 2.716267               2.716267   \n",
       "7              2.584200                 2.584200               2.584200   \n",
       "\n",
       "   DurationInMinutesStd  DurationInMinutesCount  RowsProcessedSum  ...  \\\n",
       "0                   NaN                       1                 4  ...   \n",
       "1                   NaN                       1                 0  ...   \n",
       "2                   NaN                       1              5407  ...   \n",
       "3              0.780999                       2               102  ...   \n",
       "4                   NaN                       1             31310  ...   \n",
       "5                   NaN                       1                31  ...   \n",
       "6                   NaN                       1               154  ...   \n",
       "7                   NaN                       1               787  ...   \n",
       "\n",
       "   DisplayedFieldEntitiesCount  EvaluationTime  EvaluationTimeUnique  \\\n",
       "0                            1               0                   [0]   \n",
       "1                            1               0                   [0]   \n",
       "2                            1               0                   [0]   \n",
       "3                            2               0                   [0]   \n",
       "4                            1               0                   [0]   \n",
       "5                            1               0                   [0]   \n",
       "6                            1               0                   [0]   \n",
       "7                            1               0                   [0]   \n",
       "\n",
       "   EvaluationTimeCount  DeviceModel  DeviceModelUnique DeviceModelCount  \\\n",
       "0                    1          NaN              [nan]                0   \n",
       "1                    1          NaN              [nan]                0   \n",
       "2                    1          NaN              [nan]                0   \n",
       "3                    2          NaN              [nan]                0   \n",
       "4                    1          NaN              [nan]                0   \n",
       "5                    1          NaN              [nan]                0   \n",
       "6                    1          NaN              [nan]                0   \n",
       "7                    1          NaN              [nan]                0   \n",
       "\n",
       "        DevicePlatform   DevicePlatformUnique DevicePlatformCount  \n",
       "0  SFX:BROWSER:DESKTOP  [SFX:BROWSER:DESKTOP]                   1  \n",
       "1  SFX:BROWSER:DESKTOP  [SFX:BROWSER:DESKTOP]                   1  \n",
       "2  SFX:BROWSER:DESKTOP  [SFX:BROWSER:DESKTOP]                   1  \n",
       "3  SFX:BROWSER:DESKTOP  [SFX:BROWSER:DESKTOP]                   2  \n",
       "4  SFX:BROWSER:DESKTOP  [SFX:BROWSER:DESKTOP]                   1  \n",
       "5  SFX:BROWSER:DESKTOP  [SFX:BROWSER:DESKTOP]                   1  \n",
       "6  SFX:BROWSER:DESKTOP  [SFX:BROWSER:DESKTOP]                   1  \n",
       "7  SFX:BROWSER:DESKTOP  [SFX:BROWSER:DESKTOP]                   1  \n",
       "\n",
       "[8 rows x 64 columns]"
      ]
     },
     "execution_count": 8,
     "metadata": {},
     "output_type": "execute_result"
    }
   ],
   "source": [
    "summary"
   ]
  },
  {
   "cell_type": "code",
   "execution_count": 9,
   "id": "0ab18115",
   "metadata": {},
   "outputs": [],
   "source": [
    "summary.to_csv(\"actives_and_problematics_summary.csv\")"
   ]
  },
  {
   "cell_type": "code",
   "execution_count": 10,
   "id": "2a4251df",
   "metadata": {},
   "outputs": [],
   "source": [
    "problematic_reports = list(summary.ReportId.unique())"
   ]
  },
  {
   "cell_type": "code",
   "execution_count": 11,
   "id": "268b7068",
   "metadata": {},
   "outputs": [
    {
     "data": {
      "text/plain": [
       "['00O6P000000yX5NUAU',\n",
       " '00O0b000004AoOOEA0',\n",
       " '00O2R000003JQyNUAW',\n",
       " '00O6P000000VF5IUAW',\n",
       " '00O6P000001B8LVUA0',\n",
       " '00O0b000004kTazEAE',\n",
       " '00O2R000004Am1WUAS',\n",
       " '00O2R000004IlyzUAC']"
      ]
     },
     "execution_count": 11,
     "metadata": {},
     "output_type": "execute_result"
    }
   ],
   "source": [
    "problematic_reports"
   ]
  },
  {
   "cell_type": "code",
   "execution_count": 12,
   "id": "8caf109e",
   "metadata": {},
   "outputs": [],
   "source": [
    "import re\n",
    "\n",
    "pattern = re.compile(r'\\/lightning\\/r\\/(?P<report_type>[a-zA-Z]{4,})\\/(?P<report_id>[0-9a-zA-Z]{18})')\n",
    "\n",
    "def filter_run_report_endpoints(pattern, field, url):\n",
    "    m = re.match(pattern, url)\n",
    "    if m:\n",
    "        return m.group(field)"
   ]
  },
  {
   "cell_type": "code",
   "execution_count": 13,
   "id": "c5ccc7de",
   "metadata": {},
   "outputs": [],
   "source": [
    "import os\n",
    "from collections import defaultdict\n",
    "\n",
    "logdate = ['2022-06-28', \"2022-07-05\", \"2022-07-11\", \"2022-07-22\", \"2022-07-27\"]\n",
    "logs = [\"Dashboard\", \"LightningPageView\", \"LightningPerformance\", \"LightningError\", \"Report\"]\n",
    "\n",
    "# used to infer report id over performance logs\n",
    "common_subset_features = ['USER_ID', 'USER_ID_DERIVED', 'SESSION_KEY', 'LOGIN_KEY', 'ORGANIZATION_ID', 'CLIENT_IP']\n",
    "\n",
    "verbose = False\n",
    "chunk_size = 10000\n",
    "\n",
    "logdf = defaultdict(dict)\n",
    "for d in logdate:\n",
    "    for ltng_log in logs: \n",
    "        for f in os.listdir(d):\n",
    "            if f\"{ltng_log}_chunk\" in f:\n",
    "                df_iter = pd.read_csv(os.path.join(d, f), chunksize=chunk_size)\n",
    "                for i, chunk in enumerate(df_iter):\n",
    "                    if verbose:\n",
    "                        print(\"Loading chunk\", i+1, \"from\", ltng_log)\n",
    "                    tmp = chunk.copy()\n",
    "                    if ltng_log in [logs[1], logs[3]]:\n",
    "                        tmp.dropna(subset=[\"PAGE_URL\"], inplace=True)\n",
    "                        tmp[\"ReportId\"] = tmp.PAGE_URL.apply(lambda url: filter_run_report_endpoints(pattern, \"report_id\", url))\n",
    "                        tmp[\"ReportType\"] = tmp.PAGE_URL.apply(lambda url: filter_run_report_endpoints(pattern, \"report_type\", url))\n",
    "                        tmp.dropna(subset=[\"ReportId\"], inplace=True)\n",
    "                    elif ltng_log in [logs[0], logs[4]]: # Dashboards and Reports\n",
    "                        tmp.rename(columns={\"REPORT_ID_DERIVED\": \"ReportId\"}, inplace=True)\n",
    "                    elif ltng_log == logs[2]: #LightningPerformance logs\n",
    "                        # needs to extract report id using a common_subset_features\n",
    "                        tmp[\"ReportId\"] = None\n",
    "                        pass\n",
    "                    \n",
    "                    if not \"ReportId\" in list(tmp.columns):\n",
    "                        continue\n",
    "                    \n",
    "                    tmp = tmp[tmp.ReportId.apply(lambda report_id: report_id in problematic_reports)]\n",
    "                    if verbose:\n",
    "                        print(\"found\", tmp.shape[0], \" logs related\")\n",
    "                        \n",
    "                    if ltng_log in logdf:\n",
    "                        logdf[ltng_log] = pd.concat((logdf[ltng_log], tmp), axis=0)\n",
    "                    else:\n",
    "                        logdf[ltng_log] = tmp"
   ]
  },
  {
   "cell_type": "markdown",
   "id": "6579007f",
   "metadata": {},
   "source": [
    "## Merging Lightning Logs (Error) and Problematics"
   ]
  },
  {
   "cell_type": "code",
   "execution_count": 14,
   "id": "74ac0007",
   "metadata": {},
   "outputs": [
    {
     "data": {
      "text/plain": [
       "dict_keys(['Dashboard', 'LightningPageView', 'LightningPerformance', 'LightningError', 'Report'])"
      ]
     },
     "execution_count": 14,
     "metadata": {},
     "output_type": "execute_result"
    }
   ],
   "source": [
    "logdf.keys()"
   ]
  },
  {
   "cell_type": "code",
   "execution_count": 15,
   "id": "659d05a9",
   "metadata": {},
   "outputs": [],
   "source": [
    "ltng_reports = pd.merge(left=summary, right=logdf['LightningError'], on=\"ReportId\")"
   ]
  },
  {
   "cell_type": "code",
   "execution_count": 16,
   "id": "faa2fded",
   "metadata": {},
   "outputs": [
    {
     "data": {
      "text/plain": [
       "(6, 104)"
      ]
     },
     "execution_count": 16,
     "metadata": {},
     "output_type": "execute_result"
    }
   ],
   "source": [
    "ltng_reports.shape"
   ]
  },
  {
   "cell_type": "markdown",
   "id": "9b3ee7a0",
   "metadata": {},
   "source": [
    "Removing useless columns"
   ]
  },
  {
   "cell_type": "code",
   "execution_count": 17,
   "id": "a0219aa8",
   "metadata": {},
   "outputs": [],
   "source": [
    "interest_columns = ['ReportId', 'UI_EVENT_ID', 'UI_EVENT_TYPE', 'UI_EVENT_SOURCE']"
   ]
  },
  {
   "cell_type": "code",
   "execution_count": 18,
   "id": "130261ca",
   "metadata": {},
   "outputs": [],
   "source": [
    "ltng_reports = ltng_reports[interest_columns]"
   ]
  },
  {
   "cell_type": "code",
   "execution_count": 19,
   "id": "aa7d57ef",
   "metadata": {},
   "outputs": [
    {
     "data": {
      "text/plain": [
       "(6, 4)"
      ]
     },
     "execution_count": 19,
     "metadata": {},
     "output_type": "execute_result"
    }
   ],
   "source": [
    "ltng_reports.shape"
   ]
  },
  {
   "cell_type": "markdown",
   "id": "9eaad7bb",
   "metadata": {},
   "source": [
    "## Analyzing Errors"
   ]
  },
  {
   "cell_type": "code",
   "execution_count": 20,
   "id": "229e016f",
   "metadata": {},
   "outputs": [],
   "source": [
    "list_of_types_of_errors = list(ltng_reports['UI_EVENT_SOURCE'].unique())"
   ]
  },
  {
   "cell_type": "code",
   "execution_count": 21,
   "id": "415786d4",
   "metadata": {},
   "outputs": [
    {
     "name": "stdout",
     "output_type": "stream",
     "text": [
      "The types of errors that appeared were: ['Error', 'TypeError']\n"
     ]
    }
   ],
   "source": [
    "print(f\"The types of errors that appeared were: {list_of_types_of_errors}\")"
   ]
  },
  {
   "cell_type": "markdown",
   "id": "b3776e22",
   "metadata": {},
   "source": [
    "Grouping each error type by count"
   ]
  },
  {
   "cell_type": "code",
   "execution_count": 22,
   "id": "ee0b09dd",
   "metadata": {},
   "outputs": [],
   "source": [
    "ltng_reports_errors = ltng_reports.groupby(['UI_EVENT_SOURCE']).agg({'UI_EVENT_ID': 'count'})"
   ]
  },
  {
   "cell_type": "markdown",
   "id": "c9956ca7",
   "metadata": {},
   "source": [
    "Renaming *UI_EVENT_ID* to *COUNT*"
   ]
  },
  {
   "cell_type": "code",
   "execution_count": 23,
   "id": "5a6beb4f",
   "metadata": {},
   "outputs": [],
   "source": [
    "ltng_reports_errors.rename(columns={'UI_EVENT_ID': 'COUNT'}, inplace = True)"
   ]
  },
  {
   "cell_type": "markdown",
   "id": "a21d33cc",
   "metadata": {},
   "source": [
    "Reseting index"
   ]
  },
  {
   "cell_type": "code",
   "execution_count": 24,
   "id": "6f65df3a",
   "metadata": {},
   "outputs": [],
   "source": [
    "ltng_reports_errors.reset_index(inplace = True)"
   ]
  },
  {
   "cell_type": "code",
   "execution_count": 25,
   "id": "3eb3e207",
   "metadata": {},
   "outputs": [
    {
     "data": {
      "text/html": [
       "<div>\n",
       "<style scoped>\n",
       "    .dataframe tbody tr th:only-of-type {\n",
       "        vertical-align: middle;\n",
       "    }\n",
       "\n",
       "    .dataframe tbody tr th {\n",
       "        vertical-align: top;\n",
       "    }\n",
       "\n",
       "    .dataframe thead th {\n",
       "        text-align: right;\n",
       "    }\n",
       "</style>\n",
       "<table border=\"1\" class=\"dataframe\">\n",
       "  <thead>\n",
       "    <tr style=\"text-align: right;\">\n",
       "      <th></th>\n",
       "      <th>UI_EVENT_SOURCE</th>\n",
       "      <th>COUNT</th>\n",
       "    </tr>\n",
       "  </thead>\n",
       "  <tbody>\n",
       "    <tr>\n",
       "      <th>0</th>\n",
       "      <td>Error</td>\n",
       "      <td>3</td>\n",
       "    </tr>\n",
       "    <tr>\n",
       "      <th>1</th>\n",
       "      <td>TypeError</td>\n",
       "      <td>3</td>\n",
       "    </tr>\n",
       "  </tbody>\n",
       "</table>\n",
       "</div>"
      ],
      "text/plain": [
       "  UI_EVENT_SOURCE  COUNT\n",
       "0           Error      3\n",
       "1       TypeError      3"
      ]
     },
     "execution_count": 25,
     "metadata": {},
     "output_type": "execute_result"
    }
   ],
   "source": [
    "ltng_reports_errors"
   ]
  },
  {
   "cell_type": "markdown",
   "id": "204c8a1b",
   "metadata": {},
   "source": [
    "Getting the data for the visualization "
   ]
  },
  {
   "cell_type": "code",
   "execution_count": 26,
   "id": "f49f45b0",
   "metadata": {},
   "outputs": [],
   "source": [
    "list_ui_event_source = ltng_reports_errors['UI_EVENT_SOURCE'].tolist()\n",
    "list_count = ltng_reports_errors['COUNT'].tolist()"
   ]
  },
  {
   "cell_type": "markdown",
   "id": "97d32576",
   "metadata": {},
   "source": [
    "Viewing the data"
   ]
  },
  {
   "cell_type": "code",
   "execution_count": 27,
   "id": "bea0bc7c",
   "metadata": {},
   "outputs": [],
   "source": [
    "import numpy as np \n",
    "import matplotlib.pyplot as plt "
   ]
  },
  {
   "cell_type": "code",
   "execution_count": 28,
   "id": "57ebe660",
   "metadata": {},
   "outputs": [],
   "source": [
    "cmap = plt.get_cmap(\"tab20c\")\n",
    "outer_colors = cmap(np.arange(len(list_ui_event_source))*3)\n",
    "wp = { 'linewidth' : 1, 'edgecolor' : \"white\" } \n",
    "def func(pct, allvalues): \n",
    "    absolute = int(pct / 100.*np.sum(allvalues)) \n",
    "    return \"{:.1f}%\\n({:d})\".format(pct, absolute)"
   ]
  },
  {
   "cell_type": "code",
   "execution_count": 35,
   "id": "8ceab27b",
   "metadata": {},
   "outputs": [
    {
     "data": {
      "image/png": "[encoded data removed]",
      "text/plain": [
       "<Figure size 864x576 with 1 Axes>"
      ]
     },
     "metadata": {},
     "output_type": "display_data"
    }
   ],
   "source": [
    "fig, ax = plt.subplots(figsize =(12, 8))\n",
    "\n",
    "wedges, texts, autotexts = ax.pie(list_count,  \n",
    "                                  autopct = lambda pct: func(pct, list_count), \n",
    "                                  shadow = True, \n",
    "                                  colors = outer_colors, \n",
    "                                  startangle = 90, \n",
    "                                  wedgeprops = wp, \n",
    "                                  textprops = dict(color =\"black\"))\n",
    "\n",
    "ax.legend(wedges, list_ui_event_source, \n",
    "          title =\"UI_EVENT_SOURCE\", \n",
    "          loc =\"center left\", \n",
    "          bbox_to_anchor =(1, 0, 0.5, 1))\n",
    "\n",
    "plt.setp(autotexts, size = 10, weight =\"bold\") \n",
    "ax.set_title(\"Types of errors by active and problematic reports\") \n",
    "plt.show()"
   ]
  },
  {
   "cell_type": "markdown",
   "id": "caed9dbd",
   "metadata": {},
   "source": []
  }
 ],
 "metadata": {
  "kernelspec": {
   "display_name": "Python 3 (ipykernel)",
   "language": "python",
   "name": "python3"
  },
  "language_info": {
   "codemirror_mode": {
    "name": "ipython",
    "version": 3
   },
   "file_extension": ".py",
   "mimetype": "text/x-python",
   "name": "python",
   "nbconvert_exporter": "python",
   "pygments_lexer": "ipython3",
   "version": "3.9.12"
  }
 },
 "nbformat": 4,
 "nbformat_minor": 5
}
