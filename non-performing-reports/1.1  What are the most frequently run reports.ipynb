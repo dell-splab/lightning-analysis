{
 "cells": [
  {
   "cell_type": "markdown",
   "id": "bc7336da",
   "metadata": {},
   "source": [
    "# What are the most frequently run reports?\n",
    "\n",
    ">Questions being answered in this notebook.\n",
    ">- [x] What is the most run report?"
   ]
  },
  {
   "cell_type": "code",
   "execution_count": 1,
   "id": "b148bd24",
   "metadata": {},
   "outputs": [],
   "source": [
    "import pandas as pd"
   ]
  },
  {
   "cell_type": "markdown",
   "id": "61d1e1a0",
   "metadata": {},
   "source": [
    "Loading active reports data."
   ]
  },
  {
   "cell_type": "code",
   "execution_count": 2,
   "id": "656e0380",
   "metadata": {},
   "outputs": [],
   "source": [
    "active_reports = pd.read_csv(\"datasets/active_reports.csv\", low_memory=False)"
   ]
  },
  {
   "cell_type": "code",
   "execution_count": 3,
   "id": "ea2d1632",
   "metadata": {},
   "outputs": [
    {
     "data": {
      "text/plain": [
       "(6524, 20)"
      ]
     },
     "execution_count": 3,
     "metadata": {},
     "output_type": "execute_result"
    }
   ],
   "source": [
    "active_reports.shape"
   ]
  },
  {
   "cell_type": "code",
   "execution_count": 4,
   "id": "e307897f",
   "metadata": {},
   "outputs": [],
   "source": [
    "# list(active_reports.columns)"
   ]
  },
  {
   "cell_type": "code",
   "execution_count": 5,
   "id": "8b0bfd0d",
   "metadata": {},
   "outputs": [],
   "source": [
    "interest_columns = ['Id', 'Name']"
   ]
  },
  {
   "cell_type": "markdown",
   "id": "52ecdd12",
   "metadata": {},
   "source": [
    "Loading report event logs."
   ]
  },
  {
   "cell_type": "code",
   "execution_count": 6,
   "id": "e1088de6",
   "metadata": {},
   "outputs": [],
   "source": [
    "report_logs = pd.read_csv(\"../data/Salesforce/ELF/Report/2022-06-04_Report.csv\", low_memory=False)"
   ]
  },
  {
   "cell_type": "code",
   "execution_count": 7,
   "id": "b9bf918b",
   "metadata": {},
   "outputs": [],
   "source": [
    "ltng_report_logs = report_logs[report_logs.ORIGIN == 'ReportRunFromLightning']"
   ]
  },
  {
   "cell_type": "markdown",
   "id": "173be770",
   "metadata": {},
   "source": [
    "Reports run frequency."
   ]
  },
  {
   "cell_type": "code",
   "execution_count": 8,
   "id": "7a3b98ee",
   "metadata": {},
   "outputs": [],
   "source": [
    "full_report_logs = pd.merge(left=active_reports, right=ltng_report_logs, left_on=\"Id\", right_on=\"REPORT_ID_DERIVED\")"
   ]
  },
  {
   "cell_type": "code",
   "execution_count": 9,
   "id": "df6136e9",
   "metadata": {},
   "outputs": [
    {
     "data": {
      "text/plain": [
       "New Email By Team - w\\o Sup filter       8816\n",
       "My Cases and Tasks                       6835\n",
       "S&AS Reactive Queues                     2347\n",
       "New Email By Team_HYD                    2293\n",
       "Wipro - VxRail Case Title Report         1392\n",
       "                                         ... \n",
       "ESG_SRO_DRM Cases in Routing Queue          1\n",
       "[WorkOrders] - AP Open Backlog Status       1\n",
       "LDell - Routing Payload                     1\n",
       "JP TechRoles Skills and C                   1\n",
       "HES NCC by RSE/GSE                          1\n",
       "Name: Name, Length: 324, dtype: int64"
      ]
     },
     "execution_count": 9,
     "metadata": {},
     "output_type": "execute_result"
    }
   ],
   "source": [
    "full_report_logs.Name.value_counts(sort=True)"
   ]
  },
  {
   "cell_type": "code",
   "execution_count": 10,
   "id": "98be1b2e",
   "metadata": {},
   "outputs": [],
   "source": [
    "run_frequency = full_report_logs.Name.value_counts(sort=True)"
   ]
  },
  {
   "cell_type": "code",
   "execution_count": 11,
   "id": "ba490abb",
   "metadata": {
    "scrolled": false
   },
   "outputs": [
    {
     "data": {
      "text/plain": [
       "<AxesSubplot:>"
      ]
     },
     "execution_count": 11,
     "metadata": {},
     "output_type": "execute_result"
    },
    {
     "data": {
      "image/png": "[encoded data removed]",
      "text/plain": [
       "<Figure size 432x288 with 1 Axes>"
      ]
     },
     "metadata": {
      "needs_background": "light"
     },
     "output_type": "display_data"
    }
   ],
   "source": [
    "run_frequency\\\n",
    "    .head(5)\\\n",
    "    .plot(kind='barh', fontsize=14)"
   ]
  },
  {
   "cell_type": "code",
   "execution_count": 12,
   "id": "9708234f",
   "metadata": {},
   "outputs": [
    {
     "data": {
      "text/plain": [
       "118.29012345679013"
      ]
     },
     "execution_count": 12,
     "metadata": {},
     "output_type": "execute_result"
    }
   ],
   "source": [
    "run_frequency.mean()"
   ]
  },
  {
   "cell_type": "code",
   "execution_count": 13,
   "id": "25fc5be3",
   "metadata": {},
   "outputs": [
    {
     "data": {
      "text/plain": [
       "6.0"
      ]
     },
     "execution_count": 13,
     "metadata": {},
     "output_type": "execute_result"
    }
   ],
   "source": [
    "run_frequency.median()"
   ]
  },
  {
   "cell_type": "code",
   "execution_count": 14,
   "id": "8a073c62",
   "metadata": {},
   "outputs": [],
   "source": [
    "import matplotlib.pyplot as plt"
   ]
  },
  {
   "cell_type": "code",
   "execution_count": 15,
   "id": "3b851bdd",
   "metadata": {},
   "outputs": [
    {
     "data": {
      "image/png": "[encoded data removed]",
      "text/plain": [
       "<Figure size 576x144 with 1 Axes>"
      ]
     },
     "metadata": {
      "needs_background": "light"
     },
     "output_type": "display_data"
    }
   ],
   "source": [
    "fig = plt.figure(figsize=(8,2))\n",
    "plt.boxplot(run_frequency.values, vert=False, widths=[.5])\n",
    "plt.title('Active reports', fontsize=14)\n",
    "plt.xlabel('\\nRun Frequency', fontsize=14)\n",
    "plt.yticks([])\n",
    "plt.show()"
   ]
  },
  {
   "cell_type": "markdown",
   "id": "7d0a8a90",
   "metadata": {},
   "source": [
    "Removing the outlier report."
   ]
  },
  {
   "cell_type": "code",
   "execution_count": 16,
   "id": "ac36c35e",
   "metadata": {},
   "outputs": [
    {
     "data": {
      "text/plain": [
       "91.36222910216718"
      ]
     },
     "execution_count": 16,
     "metadata": {},
     "output_type": "execute_result"
    }
   ],
   "source": [
    "run_frequency\\\n",
    "    .drop(full_report_logs.Name.value_counts(sort=True).index[0])\\\n",
    "    .mean()"
   ]
  },
  {
   "cell_type": "code",
   "execution_count": 17,
   "id": "f78aaf1a",
   "metadata": {},
   "outputs": [
    {
     "data": {
      "text/plain": [
       "6.0"
      ]
     },
     "execution_count": 17,
     "metadata": {},
     "output_type": "execute_result"
    }
   ],
   "source": [
    "run_frequency\\\n",
    "    .drop(full_report_logs.Name.value_counts(sort=True).index[0]).median()"
   ]
  },
  {
   "cell_type": "code",
   "execution_count": 18,
   "id": "4e0d226a",
   "metadata": {},
   "outputs": [
    {
     "data": {
      "image/png": "[encoded data removed]",
      "text/plain": [
       "<Figure size 576x144 with 1 Axes>"
      ]
     },
     "metadata": {
      "needs_background": "light"
     },
     "output_type": "display_data"
    }
   ],
   "source": [
    "fig = plt.figure(figsize=(8,2))\n",
    "plt.boxplot(run_frequency.drop(run_frequency.index[0]).values, vert=False, widths=[.5])\n",
    "plt.title('Active reports', fontsize=14)\n",
    "plt.xlabel('\\nRun Frequency', fontsize=14)\n",
    "plt.xlim(0, 400)\n",
    "plt.yticks([])\n",
    "plt.show()"
   ]
  },
  {
   "cell_type": "code",
   "execution_count": 19,
   "id": "5cd7e315",
   "metadata": {},
   "outputs": [],
   "source": [
    "most_run_reports = full_report_logs[['Id', 'Name']].value_counts(sort=True)"
   ]
  },
  {
   "cell_type": "code",
   "execution_count": 20,
   "id": "f3ff7920",
   "metadata": {},
   "outputs": [],
   "source": [
    "top5_most_run_reports = most_run_reports.reset_index().rename(columns={0: 'RunCount'}).head()"
   ]
  },
  {
   "cell_type": "code",
   "execution_count": 21,
   "id": "dd621bad",
   "metadata": {},
   "outputs": [],
   "source": [
    "# top5_most_run_reports"
   ]
  },
  {
   "cell_type": "markdown",
   "id": "830ce9c9",
   "metadata": {},
   "source": [
    "## Analysis on PageView logs\n",
    "\n",
    "Getting information about PageView of these most frequently run reports."
   ]
  },
  {
   "cell_type": "code",
   "execution_count": 22,
   "id": "1d0c58bf",
   "metadata": {},
   "outputs": [
    {
     "name": "stderr",
     "output_type": "stream",
     "text": [
      "C:\\Users\\jefer\\AppData\\Local\\Temp\\ipykernel_3488\\1025747663.py:1: DtypeWarning: Columns (5,11,13,17,18,19,20,22,24,28,44,45) have mixed types. Specify dtype option on import or set low_memory=False.\n",
      "  pageview_logs = pd.read_csv(\"../data/Salesforce/ELF/LightningPageView/2022-06-04_LightningPageView.csv\")\n"
     ]
    }
   ],
   "source": [
    "pageview_logs = pd.read_csv(\"../data/Salesforce/ELF/LightningPageView/2022-06-04_LightningPageView.csv\")"
   ]
  },
  {
   "cell_type": "code",
   "execution_count": 23,
   "id": "92cf0c4f",
   "metadata": {},
   "outputs": [
    {
     "data": {
      "text/plain": [
       "(792349, 50)"
      ]
     },
     "execution_count": 23,
     "metadata": {},
     "output_type": "execute_result"
    }
   ],
   "source": [
    "pageview_logs.shape"
   ]
  },
  {
   "cell_type": "code",
   "execution_count": 24,
   "id": "458d07bb",
   "metadata": {},
   "outputs": [],
   "source": [
    "# list(pageview_logs.columns)"
   ]
  },
  {
   "cell_type": "markdown",
   "id": "74441f4d",
   "metadata": {},
   "source": [
    "Selecting the information we need."
   ]
  },
  {
   "cell_type": "code",
   "execution_count": 25,
   "id": "5b9c5076",
   "metadata": {},
   "outputs": [],
   "source": [
    "pageview_features = ['PAGE_ENTITY_ID', 'PAGE_ENTITY_TYPE', 'PAGE_CONTEXT', 'PAGE_APP_NAME', \n",
    "                     'APP_NAME', 'PAGE_START_TIME', 'PAGE_URL', 'USER_ID_DERIVED', 'USER_TYPE', \n",
    "                     'UI_EVENT_SOURCE', 'DURATION', 'EFFECTIVE_PAGE_TIME', 'EFFECTIVE_PAGE_TIME_DEVIATION', \n",
    "                     'EFFECTIVE_PAGE_TIME_DEVIATION_ERROR_TYPE', 'EFFECTIVE_PAGE_TIME_DEVIATION_REASON', \n",
    "                     'GRANDPARENT_UI_ELEMENT']"
   ]
  },
  {
   "cell_type": "code",
   "execution_count": 26,
   "id": "5c053f3f",
   "metadata": {},
   "outputs": [],
   "source": [
    "pageview_logs = pageview_logs[pageview_features]"
   ]
  },
  {
   "cell_type": "code",
   "execution_count": 27,
   "id": "13d0387c",
   "metadata": {},
   "outputs": [
    {
     "data": {
      "text/plain": [
       "(792349, 16)"
      ]
     },
     "execution_count": 27,
     "metadata": {},
     "output_type": "execute_result"
    }
   ],
   "source": [
    "pageview_logs.shape"
   ]
  },
  {
   "cell_type": "markdown",
   "id": "80e5facd",
   "metadata": {},
   "source": [
    "Removing missing values for `PAGE_URL`."
   ]
  },
  {
   "cell_type": "code",
   "execution_count": 28,
   "id": "c525475a",
   "metadata": {},
   "outputs": [],
   "source": [
    "pageview_logs.dropna(subset=['PAGE_URL'], inplace=True)"
   ]
  },
  {
   "cell_type": "code",
   "execution_count": 29,
   "id": "dda6d2bc",
   "metadata": {},
   "outputs": [
    {
     "data": {
      "text/plain": [
       "(789728, 16)"
      ]
     },
     "execution_count": 29,
     "metadata": {},
     "output_type": "execute_result"
    }
   ],
   "source": [
    "pageview_logs.shape"
   ]
  },
  {
   "cell_type": "code",
   "execution_count": 30,
   "id": "cfb374f6",
   "metadata": {},
   "outputs": [],
   "source": [
    "import re\n",
    "\n",
    "pattern = re.compile(r'\\/lightning\\/r\\/(?P<report_type>[a-zA-Z]{4,})\\/(?P<report_id>[0-9a-zA-Z]{18})')\n",
    "\n",
    "def filter_run_report_endpoints(pattern, url):\n",
    "    m = re.match(pattern, url)\n",
    "    if m:\n",
    "        return m.group('report_id')"
   ]
  },
  {
   "cell_type": "code",
   "execution_count": 31,
   "id": "c607876a",
   "metadata": {},
   "outputs": [],
   "source": [
    "pageview_logs['REPORT_ID_DERIVED'] = pageview_logs.PAGE_URL.apply(lambda url: filter_run_report_endpoints(pattern, url))"
   ]
  },
  {
   "cell_type": "markdown",
   "id": "70a5a0c5",
   "metadata": {},
   "source": [
    "Removing missing values after endpoint filter."
   ]
  },
  {
   "cell_type": "code",
   "execution_count": 32,
   "id": "1e8a8d95",
   "metadata": {},
   "outputs": [],
   "source": [
    "pageview_logs.dropna(subset=['REPORT_ID_DERIVED'], inplace=True)"
   ]
  },
  {
   "cell_type": "code",
   "execution_count": 33,
   "id": "64e6cfb7",
   "metadata": {},
   "outputs": [
    {
     "data": {
      "text/plain": [
       "(478779, 17)"
      ]
     },
     "execution_count": 33,
     "metadata": {},
     "output_type": "execute_result"
    }
   ],
   "source": [
    "pageview_logs.shape"
   ]
  },
  {
   "cell_type": "markdown",
   "id": "6c2cb66c",
   "metadata": {},
   "source": [
    "Cleaning data by removing inconsistent report IDs."
   ]
  },
  {
   "cell_type": "code",
   "execution_count": 34,
   "id": "11a7eed4",
   "metadata": {},
   "outputs": [],
   "source": [
    "pageview_logs = pageview_logs[pageview_logs.REPORT_ID_DERIVED.str.len()==18]"
   ]
  },
  {
   "cell_type": "code",
   "execution_count": 35,
   "id": "a9479589",
   "metadata": {},
   "outputs": [
    {
     "data": {
      "text/plain": [
       "(478779, 17)"
      ]
     },
     "execution_count": 35,
     "metadata": {},
     "output_type": "execute_result"
    }
   ],
   "source": [
    "pageview_logs.shape"
   ]
  },
  {
   "cell_type": "code",
   "execution_count": 36,
   "id": "475ea451",
   "metadata": {},
   "outputs": [
    {
     "data": {
      "text/html": [
       "<div>\n",
       "<style scoped>\n",
       "    .dataframe tbody tr th:only-of-type {\n",
       "        vertical-align: middle;\n",
       "    }\n",
       "\n",
       "    .dataframe tbody tr th {\n",
       "        vertical-align: top;\n",
       "    }\n",
       "\n",
       "    .dataframe thead th {\n",
       "        text-align: right;\n",
       "    }\n",
       "</style>\n",
       "<table border=\"1\" class=\"dataframe\">\n",
       "  <thead>\n",
       "    <tr style=\"text-align: right;\">\n",
       "      <th></th>\n",
       "      <th>index</th>\n",
       "      <th>Id</th>\n",
       "      <th>Name</th>\n",
       "      <th>RunCount</th>\n",
       "    </tr>\n",
       "  </thead>\n",
       "  <tbody>\n",
       "    <tr>\n",
       "      <th>0</th>\n",
       "      <td>0</td>\n",
       "      <td>00O0b000006iNwdEAE</td>\n",
       "      <td>New Email By Team - w\\o Sup filter</td>\n",
       "      <td>8816</td>\n",
       "    </tr>\n",
       "    <tr>\n",
       "      <th>1</th>\n",
       "      <td>1</td>\n",
       "      <td>00O0b000004kTazEAE</td>\n",
       "      <td>My Cases and Tasks</td>\n",
       "      <td>6708</td>\n",
       "    </tr>\n",
       "    <tr>\n",
       "      <th>2</th>\n",
       "      <td>2</td>\n",
       "      <td>00O2R000004AmwmUAC</td>\n",
       "      <td>S&amp;AS Reactive Queues</td>\n",
       "      <td>2347</td>\n",
       "    </tr>\n",
       "    <tr>\n",
       "      <th>3</th>\n",
       "      <td>3</td>\n",
       "      <td>00O2R000003JCXaUAO</td>\n",
       "      <td>New Email By Team_HYD</td>\n",
       "      <td>2293</td>\n",
       "    </tr>\n",
       "    <tr>\n",
       "      <th>4</th>\n",
       "      <td>4</td>\n",
       "      <td>00O6P000000ZMcoUAG</td>\n",
       "      <td>Wipro - VxRail Case Title Report</td>\n",
       "      <td>1392</td>\n",
       "    </tr>\n",
       "  </tbody>\n",
       "</table>\n",
       "</div>"
      ],
      "text/plain": [
       "   index                  Id                                Name  RunCount\n",
       "0      0  00O0b000006iNwdEAE  New Email By Team - w\\o Sup filter      8816\n",
       "1      1  00O0b000004kTazEAE                  My Cases and Tasks      6708\n",
       "2      2  00O2R000004AmwmUAC                S&AS Reactive Queues      2347\n",
       "3      3  00O2R000003JCXaUAO               New Email By Team_HYD      2293\n",
       "4      4  00O6P000000ZMcoUAG    Wipro - VxRail Case Title Report      1392"
      ]
     },
     "execution_count": 36,
     "metadata": {},
     "output_type": "execute_result"
    }
   ],
   "source": [
    "top5_most_run_reports.reset_index()"
   ]
  },
  {
   "cell_type": "markdown",
   "id": "3cf33266",
   "metadata": {},
   "source": [
    "Active most run report pageview data."
   ]
  },
  {
   "cell_type": "code",
   "execution_count": 37,
   "id": "9affc765",
   "metadata": {},
   "outputs": [],
   "source": [
    "active_most_run_reports_pageview_logs =\\\n",
    "    pd.merge(left=top5_most_run_reports, right=pageview_logs, left_on='Id', right_on='REPORT_ID_DERIVED')"
   ]
  },
  {
   "cell_type": "code",
   "execution_count": 38,
   "id": "c43a4a18",
   "metadata": {},
   "outputs": [
    {
     "data": {
      "text/html": [
       "<div>\n",
       "<style scoped>\n",
       "    .dataframe tbody tr th:only-of-type {\n",
       "        vertical-align: middle;\n",
       "    }\n",
       "\n",
       "    .dataframe tbody tr th {\n",
       "        vertical-align: top;\n",
       "    }\n",
       "\n",
       "    .dataframe thead th {\n",
       "        text-align: right;\n",
       "    }\n",
       "</style>\n",
       "<table border=\"1\" class=\"dataframe\">\n",
       "  <thead>\n",
       "    <tr style=\"text-align: right;\">\n",
       "      <th></th>\n",
       "      <th>Id</th>\n",
       "      <th>Name</th>\n",
       "      <th>PageViewLogs</th>\n",
       "    </tr>\n",
       "  </thead>\n",
       "  <tbody>\n",
       "    <tr>\n",
       "      <th>0</th>\n",
       "      <td>00O0b000004kTazEAE</td>\n",
       "      <td>My Cases and Tasks</td>\n",
       "      <td>5561</td>\n",
       "    </tr>\n",
       "    <tr>\n",
       "      <th>1</th>\n",
       "      <td>00O0b000006iNwdEAE</td>\n",
       "      <td>New Email By Team - w\\o Sup filter</td>\n",
       "      <td>5502</td>\n",
       "    </tr>\n",
       "    <tr>\n",
       "      <th>2</th>\n",
       "      <td>00O2R000004AmwmUAC</td>\n",
       "      <td>S&amp;AS Reactive Queues</td>\n",
       "      <td>935</td>\n",
       "    </tr>\n",
       "    <tr>\n",
       "      <th>3</th>\n",
       "      <td>00O2R000003JCXaUAO</td>\n",
       "      <td>New Email By Team_HYD</td>\n",
       "      <td>779</td>\n",
       "    </tr>\n",
       "    <tr>\n",
       "      <th>4</th>\n",
       "      <td>00O6P000000ZMcoUAG</td>\n",
       "      <td>Wipro - VxRail Case Title Report</td>\n",
       "      <td>515</td>\n",
       "    </tr>\n",
       "  </tbody>\n",
       "</table>\n",
       "</div>"
      ],
      "text/plain": [
       "                   Id                                Name  PageViewLogs\n",
       "0  00O0b000004kTazEAE                  My Cases and Tasks          5561\n",
       "1  00O0b000006iNwdEAE  New Email By Team - w\\o Sup filter          5502\n",
       "2  00O2R000004AmwmUAC                S&AS Reactive Queues           935\n",
       "3  00O2R000003JCXaUAO               New Email By Team_HYD           779\n",
       "4  00O6P000000ZMcoUAG    Wipro - VxRail Case Title Report           515"
      ]
     },
     "execution_count": 38,
     "metadata": {},
     "output_type": "execute_result"
    }
   ],
   "source": [
    "active_most_run_reports_pageview_logs[['Id', 'Name']]\\\n",
    "    .value_counts(sort=True)\\\n",
    "    .reset_index()\\\n",
    "    .rename(columns={0: 'PageViewLogs'})"
   ]
  },
  {
   "cell_type": "markdown",
   "id": "96423f11",
   "metadata": {},
   "source": [
    "Most run reports average duration."
   ]
  },
  {
   "cell_type": "code",
   "execution_count": 39,
   "id": "eafeed15",
   "metadata": {},
   "outputs": [
    {
     "data": {
      "text/html": [
       "<div>\n",
       "<style scoped>\n",
       "    .dataframe tbody tr th:only-of-type {\n",
       "        vertical-align: middle;\n",
       "    }\n",
       "\n",
       "    .dataframe tbody tr th {\n",
       "        vertical-align: top;\n",
       "    }\n",
       "\n",
       "    .dataframe thead th {\n",
       "        text-align: right;\n",
       "    }\n",
       "</style>\n",
       "<table border=\"1\" class=\"dataframe\">\n",
       "  <thead>\n",
       "    <tr style=\"text-align: right;\">\n",
       "      <th></th>\n",
       "      <th>Id</th>\n",
       "      <th>Name</th>\n",
       "      <th>AverageDuration</th>\n",
       "    </tr>\n",
       "  </thead>\n",
       "  <tbody>\n",
       "    <tr>\n",
       "      <th>0</th>\n",
       "      <td>00O6P000000ZMcoUAG</td>\n",
       "      <td>Wipro - VxRail Case Title Report</td>\n",
       "      <td>22574.075728</td>\n",
       "    </tr>\n",
       "    <tr>\n",
       "      <th>1</th>\n",
       "      <td>00O2R000004AmwmUAC</td>\n",
       "      <td>S&amp;AS Reactive Queues</td>\n",
       "      <td>16060.443850</td>\n",
       "    </tr>\n",
       "    <tr>\n",
       "      <th>2</th>\n",
       "      <td>00O2R000003JCXaUAO</td>\n",
       "      <td>New Email By Team_HYD</td>\n",
       "      <td>5364.430039</td>\n",
       "    </tr>\n",
       "    <tr>\n",
       "      <th>3</th>\n",
       "      <td>00O0b000006iNwdEAE</td>\n",
       "      <td>New Email By Team - w\\o Sup filter</td>\n",
       "      <td>4444.003090</td>\n",
       "    </tr>\n",
       "    <tr>\n",
       "      <th>4</th>\n",
       "      <td>00O0b000004kTazEAE</td>\n",
       "      <td>My Cases and Tasks</td>\n",
       "      <td>2719.097105</td>\n",
       "    </tr>\n",
       "  </tbody>\n",
       "</table>\n",
       "</div>"
      ],
      "text/plain": [
       "                   Id                                Name  AverageDuration\n",
       "0  00O6P000000ZMcoUAG    Wipro - VxRail Case Title Report     22574.075728\n",
       "1  00O2R000004AmwmUAC                S&AS Reactive Queues     16060.443850\n",
       "2  00O2R000003JCXaUAO               New Email By Team_HYD      5364.430039\n",
       "3  00O0b000006iNwdEAE  New Email By Team - w\\o Sup filter      4444.003090\n",
       "4  00O0b000004kTazEAE                  My Cases and Tasks      2719.097105"
      ]
     },
     "execution_count": 39,
     "metadata": {},
     "output_type": "execute_result"
    }
   ],
   "source": [
    "active_most_run_reports_pageview_logs[['Id', 'Name', 'DURATION']]\\\n",
    "    .groupby(['Id', 'Name'])\\\n",
    "    .agg('mean')\\\n",
    "    .rename(columns={'DURATION': 'AverageDuration'})\\\n",
    "    .sort_values(by='AverageDuration', ascending=False)\\\n",
    "    .reset_index()"
   ]
  }
 ],
 "metadata": {
  "kernelspec": {
   "display_name": "Python 3 (ipykernel)",
   "language": "python",
   "name": "python3"
  },
  "language_info": {
   "codemirror_mode": {
    "name": "ipython",
    "version": 3
   },
   "file_extension": ".py",
   "mimetype": "text/x-python",
   "name": "python",
   "nbconvert_exporter": "python",
   "pygments_lexer": "ipython3",
   "version": "3.9.12"
  },
  "vscode": {
   "interpreter": {
    "hash": "b9be37ca2aa6d9a560b865fd72a2f1d8bb062175d6c2240b9164aaaeecfce293"
   }
  }
 },
 "nbformat": 4,
 "nbformat_minor": 5
}
