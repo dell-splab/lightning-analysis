{
 "cells": [
  {
   "cell_type": "code",
   "execution_count": 31,
   "id": "4425ff65",
   "metadata": {},
   "outputs": [],
   "source": [
    "import pandas as pd"
   ]
  },
  {
   "cell_type": "markdown",
   "id": "002b8179",
   "metadata": {},
   "source": [
    "# Loading Lightning Error"
   ]
  },
  {
   "cell_type": "code",
   "execution_count": 67,
   "id": "4a7376d6",
   "metadata": {},
   "outputs": [],
   "source": [
    "lightning_error = pd.read_csv(\"data/Salesforce/Salesforce/ELF/LightningError/2022-06-06_LightningError.csv\")"
   ]
  },
  {
   "cell_type": "code",
   "execution_count": 68,
   "id": "53649c61",
   "metadata": {},
   "outputs": [
    {
     "data": {
      "text/plain": [
       "(7254, 39)"
      ]
     },
     "execution_count": 68,
     "metadata": {},
     "output_type": "execute_result"
    }
   ],
   "source": [
    "lightning_error.shape"
   ]
  },
  {
   "cell_type": "code",
   "execution_count": 69,
   "id": "2e4da29d",
   "metadata": {},
   "outputs": [
    {
     "data": {
      "text/plain": [
       "(7012, 39)"
      ]
     },
     "execution_count": 69,
     "metadata": {},
     "output_type": "execute_result"
    }
   ],
   "source": [
    "# Remove missing values in any of the following columns \n",
    "lightning_error.dropna(subset = ['PAGE_URL']).shape\n",
    "#lightning_error = [PAGE_URL for PAGE_URL in lightning_error if not(pd.isnull(PAGE_URL)) == True]\n"
   ]
  },
  {
   "cell_type": "code",
   "execution_count": 70,
   "id": "048d3d27",
   "metadata": {},
   "outputs": [],
   "source": [
    "active_reports = pd.read_csv(\"datasets/active_reports.csv\")\n"
   ]
  },
  {
   "cell_type": "code",
   "execution_count": 71,
   "id": "221ea456",
   "metadata": {},
   "outputs": [],
   "source": [
    "run_report_api_resource = \"/lightning/r/\"\n",
    "\n",
    "def get_report_info_from_endpoint(page_url):\n",
    "    if not(pd.isnull(page_url)) == True: \n",
    "        if page_url.startswith(run_report_api_resource):\n",
    "            uri = page_url.split(run_report_api_resource)\n",
    "            if len(uri) >= 2:\n",
    "                report_type, report_id_derived = uri[1].split(\"/\")[:2]\n",
    "                return report_type, report_id_derived"
   ]
  },
  {
   "cell_type": "code",
   "execution_count": 72,
   "id": "4376bed9",
   "metadata": {},
   "outputs": [],
   "source": [
    "lightning_error['REPORT_INFO_DERIVED'] = lightning_error.PAGE_URL.apply(get_report_info_from_endpoint)"
   ]
  },
  {
   "cell_type": "code",
   "execution_count": 73,
   "id": "69175b83",
   "metadata": {},
   "outputs": [],
   "source": [
    "lightning_error['REPORT_TYPE_DERIVED'] = lightning_error.REPORT_INFO_DERIVED.str[0]\n",
    "lightning_error['REPORT_ID_DERIVED'] = lightning_error.REPORT_INFO_DERIVED.str[1]"
   ]
  },
  {
   "cell_type": "code",
   "execution_count": 74,
   "id": "4b4d30ad",
   "metadata": {},
   "outputs": [
    {
     "data": {
      "text/plain": [
       "(7254, 42)"
      ]
     },
     "execution_count": 74,
     "metadata": {},
     "output_type": "execute_result"
    }
   ],
   "source": [
    "lightning_error.shape"
   ]
  },
  {
   "cell_type": "code",
   "execution_count": 76,
   "id": "e10abb3f",
   "metadata": {},
   "outputs": [],
   "source": [
    "ltng_full_reports = pd.merge(left=active_reports, right=lightning_error, left_on=\"Id\", right_on=\"REPORT_ID_DERIVED\")"
   ]
  },
  {
   "cell_type": "code",
   "execution_count": null,
   "id": "4d1c8c0a",
   "metadata": {},
   "outputs": [],
   "source": [
    "## DROP nas colunas que não são interessantes, trocar os dados que são usados pela tabela do merge "
   ]
  },
  {
   "cell_type": "code",
   "execution_count": 77,
   "id": "bc0e3b91",
   "metadata": {},
   "outputs": [
    {
     "data": {
      "text/plain": [
       "['CreatedById',\n",
       " 'CreatedDate',\n",
       " 'Description',\n",
       " 'DeveloperName',\n",
       " 'FolderName',\n",
       " 'Format',\n",
       " 'Id',\n",
       " 'IsDeleted',\n",
       " 'LastModifiedById',\n",
       " 'LastModifiedDate',\n",
       " 'LastReferencedDate',\n",
       " 'LastRunDate',\n",
       " 'LastViewedDate',\n",
       " 'Name',\n",
       " 'NamespacePrefix',\n",
       " 'OwnerId',\n",
       " 'ReportTypeApiName',\n",
       " 'SystemModstamp',\n",
       " 'EVENT_TYPE_x',\n",
       " 'TIMESTAMP_x',\n",
       " 'REQUEST_ID_x',\n",
       " 'ORGANIZATION_ID_x',\n",
       " 'USER_ID_x',\n",
       " 'RUN_TIME',\n",
       " 'CPU_TIME',\n",
       " 'URI',\n",
       " 'SESSION_KEY_x',\n",
       " 'LOGIN_KEY_x',\n",
       " 'USER_TYPE_x',\n",
       " 'REQUEST_STATUS',\n",
       " 'DB_TOTAL_TIME',\n",
       " 'ENTITY_NAME',\n",
       " 'DISPLAY_TYPE',\n",
       " 'RENDERING_TYPE',\n",
       " 'REPORT_ID',\n",
       " 'ROW_COUNT',\n",
       " 'NUMBER_EXCEPTION_FILTERS',\n",
       " 'NUMBER_COLUMNS',\n",
       " 'AVERAGE_ROW_SIZE',\n",
       " 'SORT',\n",
       " 'DB_BLOCKS',\n",
       " 'DB_CPU_TIME',\n",
       " 'NUMBER_BUCKETS',\n",
       " 'TIMESTAMP_DERIVED_x',\n",
       " 'USER_ID_DERIVED_x',\n",
       " 'CLIENT_IP_x',\n",
       " 'URI_ID_DERIVED',\n",
       " 'REPORT_ID_DERIVED_x',\n",
       " 'ORIGIN',\n",
       " 'IsActive',\n",
       " 'EVENT_TYPE_y',\n",
       " 'TIMESTAMP_y',\n",
       " 'REQUEST_ID_y',\n",
       " 'ORGANIZATION_ID_y',\n",
       " 'USER_ID_y',\n",
       " 'CLIENT_ID',\n",
       " 'SESSION_KEY_y',\n",
       " 'LOGIN_KEY_y',\n",
       " 'USER_TYPE_y',\n",
       " 'APP_NAME',\n",
       " 'DEVICE_PLATFORM',\n",
       " 'SDK_APP_VERSION',\n",
       " 'OS_NAME',\n",
       " 'OS_VERSION',\n",
       " 'USER_AGENT',\n",
       " 'BROWSER_NAME',\n",
       " 'BROWSER_VERSION',\n",
       " 'SDK_VERSION',\n",
       " 'DEVICE_MODEL',\n",
       " 'DEVICE_ID',\n",
       " 'SDK_APP_TYPE',\n",
       " 'CLIENT_GEO',\n",
       " 'CONNECTION_TYPE',\n",
       " 'UI_EVENT_ID',\n",
       " 'UI_EVENT_TYPE',\n",
       " 'UI_EVENT_SOURCE',\n",
       " 'UI_EVENT_TIMESTAMP',\n",
       " 'PAGE_START_TIME',\n",
       " 'DEVICE_SESSION_ID',\n",
       " 'UI_EVENT_SEQUENCE_NUM',\n",
       " 'PAGE_ENTITY_ID',\n",
       " 'PAGE_ENTITY_TYPE',\n",
       " 'PAGE_CONTEXT',\n",
       " 'PAGE_URL',\n",
       " 'PAGE_APP_NAME',\n",
       " 'COMPONENT_NAME',\n",
       " 'TIMESTAMP_DERIVED_y',\n",
       " 'USER_ID_DERIVED_y',\n",
       " 'CLIENT_IP_y',\n",
       " 'REPORT_INFO_DERIVED',\n",
       " 'REPORT_TYPE_DERIVED',\n",
       " 'REPORT_ID_DERIVED_y']"
      ]
     },
     "execution_count": 77,
     "metadata": {},
     "output_type": "execute_result"
    }
   ],
   "source": [
    "list(ltng_full_reports.columns)"
   ]
  },
  {
   "cell_type": "code",
   "execution_count": 5,
   "id": "4840d86d",
   "metadata": {
    "scrolled": true
   },
   "outputs": [
    {
     "data": {
      "text/html": [
       "<div>\n",
       "<style scoped>\n",
       "    .dataframe tbody tr th:only-of-type {\n",
       "        vertical-align: middle;\n",
       "    }\n",
       "\n",
       "    .dataframe tbody tr th {\n",
       "        vertical-align: top;\n",
       "    }\n",
       "\n",
       "    .dataframe thead th {\n",
       "        text-align: right;\n",
       "    }\n",
       "</style>\n",
       "<table border=\"1\" class=\"dataframe\">\n",
       "  <thead>\n",
       "    <tr style=\"text-align: right;\">\n",
       "      <th></th>\n",
       "      <th>EVENT_TYPE</th>\n",
       "      <th>TIMESTAMP</th>\n",
       "      <th>REQUEST_ID</th>\n",
       "      <th>ORGANIZATION_ID</th>\n",
       "      <th>USER_ID</th>\n",
       "      <th>CLIENT_ID</th>\n",
       "      <th>SESSION_KEY</th>\n",
       "      <th>LOGIN_KEY</th>\n",
       "      <th>USER_TYPE</th>\n",
       "      <th>APP_NAME</th>\n",
       "      <th>...</th>\n",
       "      <th>UI_EVENT_SEQUENCE_NUM</th>\n",
       "      <th>PAGE_ENTITY_ID</th>\n",
       "      <th>PAGE_ENTITY_TYPE</th>\n",
       "      <th>PAGE_CONTEXT</th>\n",
       "      <th>PAGE_URL</th>\n",
       "      <th>PAGE_APP_NAME</th>\n",
       "      <th>COMPONENT_NAME</th>\n",
       "      <th>TIMESTAMP_DERIVED</th>\n",
       "      <th>USER_ID_DERIVED</th>\n",
       "      <th>CLIENT_IP</th>\n",
       "    </tr>\n",
       "  </thead>\n",
       "  <tbody>\n",
       "    <tr>\n",
       "      <th>0</th>\n",
       "      <td>LightningError</td>\n",
       "      <td>2.022061e+13</td>\n",
       "      <td>TID:37452284900004f8ad</td>\n",
       "      <td>00D0b000000GaMp</td>\n",
       "      <td>0052R000009TqAh</td>\n",
       "      <td>NaN</td>\n",
       "      <td>wS+Etg2GfUXULHt4</td>\n",
       "      <td>VKlOHJaKMaoqtXPd</td>\n",
       "      <td>Standard</td>\n",
       "      <td>one:one</td>\n",
       "      <td>...</td>\n",
       "      <td>NaN</td>\n",
       "      <td>5006P000005FoO5QAK</td>\n",
       "      <td>Case</td>\n",
       "      <td>one:recordHomeFlexipage2Wrapper</td>\n",
       "      <td>/lightning/r/Case/5006P000005FoO5QAK/view</td>\n",
       "      <td>LightningService</td>\n",
       "      <td>NaN</td>\n",
       "      <td>2022-06-06T00:00:29.202Z</td>\n",
       "      <td>0052R000009TqAhQAK</td>\n",
       "      <td>203.174.168.50</td>\n",
       "    </tr>\n",
       "    <tr>\n",
       "      <th>1</th>\n",
       "      <td>LightningError</td>\n",
       "      <td>2.022061e+13</td>\n",
       "      <td>TID:2841596100009bbe6d</td>\n",
       "      <td>00D0b000000GaMp</td>\n",
       "      <td>0050b000004K3sl</td>\n",
       "      <td>NaN</td>\n",
       "      <td>PqGTQXaT73QqrzLP</td>\n",
       "      <td>dCxYGHdJJFKk3/TU</td>\n",
       "      <td>Standard</td>\n",
       "      <td>one:one</td>\n",
       "      <td>...</td>\n",
       "      <td>NaN</td>\n",
       "      <td>NaN</td>\n",
       "      <td>Report</td>\n",
       "      <td>sfa:analyticsHome</td>\n",
       "      <td>/lightning/o/Report/home?queryScope=mru</td>\n",
       "      <td>LightningService</td>\n",
       "      <td>NaN</td>\n",
       "      <td>2022-06-06T00:01:00.152Z</td>\n",
       "      <td>0050b000004K3slAAC</td>\n",
       "      <td>123.177.53.1</td>\n",
       "    </tr>\n",
       "    <tr>\n",
       "      <th>2</th>\n",
       "      <td>LightningError</td>\n",
       "      <td>2.022061e+13</td>\n",
       "      <td>TID:63107250000fc45244</td>\n",
       "      <td>00D0b000000GaMp</td>\n",
       "      <td>0050b000004K3sl</td>\n",
       "      <td>NaN</td>\n",
       "      <td>PqGTQXaT73QqrzLP</td>\n",
       "      <td>dCxYGHdJJFKk3/TU</td>\n",
       "      <td>Standard</td>\n",
       "      <td>one:one</td>\n",
       "      <td>...</td>\n",
       "      <td>NaN</td>\n",
       "      <td>NaN</td>\n",
       "      <td>NaN</td>\n",
       "      <td>one:twoColumnLayout</td>\n",
       "      <td>/lightning/settings/personal/LanguageAndTimeZo...</td>\n",
       "      <td>LightningService</td>\n",
       "      <td>NaN</td>\n",
       "      <td>2022-06-06T00:02:21.579Z</td>\n",
       "      <td>0050b000004K3slAAC</td>\n",
       "      <td>123.177.53.1</td>\n",
       "    </tr>\n",
       "    <tr>\n",
       "      <th>3</th>\n",
       "      <td>LightningError</td>\n",
       "      <td>2.022061e+13</td>\n",
       "      <td>TID:5526827290000e660b</td>\n",
       "      <td>00D0b000000GaMp</td>\n",
       "      <td>0050b000004KC6E</td>\n",
       "      <td>NaN</td>\n",
       "      <td>ARj3K4yHUY7VPIng</td>\n",
       "      <td>wRQYgMbcasBOCTgW</td>\n",
       "      <td>Standard</td>\n",
       "      <td>one:one</td>\n",
       "      <td>...</td>\n",
       "      <td>NaN</td>\n",
       "      <td>NaN</td>\n",
       "      <td>DispatchPendingApproval__c</td>\n",
       "      <td>force:objectHomeDesktop</td>\n",
       "      <td>/lightning/o/DispatchPendingApproval__c/list?f...</td>\n",
       "      <td>LightningService</td>\n",
       "      <td>NaN</td>\n",
       "      <td>2022-06-06T00:06:22.916Z</td>\n",
       "      <td>0050b000004KC6EAAW</td>\n",
       "      <td>143.166.183.15</td>\n",
       "    </tr>\n",
       "    <tr>\n",
       "      <th>4</th>\n",
       "      <td>LightningError</td>\n",
       "      <td>2.022061e+13</td>\n",
       "      <td>TID:8779650000002a70f1</td>\n",
       "      <td>00D0b000000GaMp</td>\n",
       "      <td>0050b000004KC6P</td>\n",
       "      <td>NaN</td>\n",
       "      <td>uLMkDkx1CtMmo6Mo</td>\n",
       "      <td>X0pOky+cVLk4dTLM</td>\n",
       "      <td>Standard</td>\n",
       "      <td>one:one</td>\n",
       "      <td>...</td>\n",
       "      <td>NaN</td>\n",
       "      <td>NaN</td>\n",
       "      <td>DispatchPendingApproval__c</td>\n",
       "      <td>force:objectHomeDesktop</td>\n",
       "      <td>/lightning/o/DispatchPendingApproval__c/list?f...</td>\n",
       "      <td>LightningService</td>\n",
       "      <td>NaN</td>\n",
       "      <td>2022-06-06T00:10:13.952Z</td>\n",
       "      <td>0050b000004KC6PAAW</td>\n",
       "      <td>143.166.183.11</td>\n",
       "    </tr>\n",
       "  </tbody>\n",
       "</table>\n",
       "<p>5 rows × 39 columns</p>\n",
       "</div>"
      ],
      "text/plain": [
       "       EVENT_TYPE     TIMESTAMP              REQUEST_ID  ORGANIZATION_ID  \\\n",
       "0  LightningError  2.022061e+13  TID:37452284900004f8ad  00D0b000000GaMp   \n",
       "1  LightningError  2.022061e+13  TID:2841596100009bbe6d  00D0b000000GaMp   \n",
       "2  LightningError  2.022061e+13  TID:63107250000fc45244  00D0b000000GaMp   \n",
       "3  LightningError  2.022061e+13  TID:5526827290000e660b  00D0b000000GaMp   \n",
       "4  LightningError  2.022061e+13  TID:8779650000002a70f1  00D0b000000GaMp   \n",
       "\n",
       "           USER_ID  CLIENT_ID       SESSION_KEY         LOGIN_KEY USER_TYPE  \\\n",
       "0  0052R000009TqAh        NaN  wS+Etg2GfUXULHt4  VKlOHJaKMaoqtXPd  Standard   \n",
       "1  0050b000004K3sl        NaN  PqGTQXaT73QqrzLP  dCxYGHdJJFKk3/TU  Standard   \n",
       "2  0050b000004K3sl        NaN  PqGTQXaT73QqrzLP  dCxYGHdJJFKk3/TU  Standard   \n",
       "3  0050b000004KC6E        NaN  ARj3K4yHUY7VPIng  wRQYgMbcasBOCTgW  Standard   \n",
       "4  0050b000004KC6P        NaN  uLMkDkx1CtMmo6Mo  X0pOky+cVLk4dTLM  Standard   \n",
       "\n",
       "  APP_NAME  ... UI_EVENT_SEQUENCE_NUM      PAGE_ENTITY_ID  \\\n",
       "0  one:one  ...                   NaN  5006P000005FoO5QAK   \n",
       "1  one:one  ...                   NaN                 NaN   \n",
       "2  one:one  ...                   NaN                 NaN   \n",
       "3  one:one  ...                   NaN                 NaN   \n",
       "4  one:one  ...                   NaN                 NaN   \n",
       "\n",
       "             PAGE_ENTITY_TYPE                     PAGE_CONTEXT  \\\n",
       "0                        Case  one:recordHomeFlexipage2Wrapper   \n",
       "1                      Report                sfa:analyticsHome   \n",
       "2                         NaN              one:twoColumnLayout   \n",
       "3  DispatchPendingApproval__c          force:objectHomeDesktop   \n",
       "4  DispatchPendingApproval__c          force:objectHomeDesktop   \n",
       "\n",
       "                                            PAGE_URL     PAGE_APP_NAME  \\\n",
       "0          /lightning/r/Case/5006P000005FoO5QAK/view  LightningService   \n",
       "1            /lightning/o/Report/home?queryScope=mru  LightningService   \n",
       "2  /lightning/settings/personal/LanguageAndTimeZo...  LightningService   \n",
       "3  /lightning/o/DispatchPendingApproval__c/list?f...  LightningService   \n",
       "4  /lightning/o/DispatchPendingApproval__c/list?f...  LightningService   \n",
       "\n",
       "   COMPONENT_NAME         TIMESTAMP_DERIVED     USER_ID_DERIVED  \\\n",
       "0             NaN  2022-06-06T00:00:29.202Z  0052R000009TqAhQAK   \n",
       "1             NaN  2022-06-06T00:01:00.152Z  0050b000004K3slAAC   \n",
       "2             NaN  2022-06-06T00:02:21.579Z  0050b000004K3slAAC   \n",
       "3             NaN  2022-06-06T00:06:22.916Z  0050b000004KC6EAAW   \n",
       "4             NaN  2022-06-06T00:10:13.952Z  0050b000004KC6PAAW   \n",
       "\n",
       "        CLIENT_IP  \n",
       "0  203.174.168.50  \n",
       "1    123.177.53.1  \n",
       "2    123.177.53.1  \n",
       "3  143.166.183.15  \n",
       "4  143.166.183.11  \n",
       "\n",
       "[5 rows x 39 columns]"
      ]
     },
     "execution_count": 5,
     "metadata": {},
     "output_type": "execute_result"
    }
   ],
   "source": [
    "lightning_error.head()"
   ]
  },
  {
   "cell_type": "markdown",
   "id": "50f40be3",
   "metadata": {},
   "source": [
    "---"
   ]
  },
  {
   "cell_type": "markdown",
   "id": "0945ea8a",
   "metadata": {},
   "source": [
    "## Getting the hours of the day that more erros occurred"
   ]
  },
  {
   "cell_type": "markdown",
   "id": "618fae0b",
   "metadata": {},
   "source": [
    "Converting ***TIMESTAMP_DERIVED*** from *str* to type *date*"
   ]
  },
  {
   "cell_type": "code",
   "execution_count": 6,
   "id": "1edeab33",
   "metadata": {},
   "outputs": [
    {
     "data": {
      "text/plain": [
       "str"
      ]
     },
     "execution_count": 6,
     "metadata": {},
     "output_type": "execute_result"
    }
   ],
   "source": [
    "type(lightning_error['TIMESTAMP_DERIVED'][0])"
   ]
  },
  {
   "cell_type": "code",
   "execution_count": 7,
   "id": "bec4aa52",
   "metadata": {},
   "outputs": [],
   "source": [
    "import datetime\n",
    "from datetime import date\n",
    "\n",
    "lightning_error['TIMESTAMP_DERIVED'] = pd.to_datetime(lightning_error['TIMESTAMP_DERIVED'], infer_datetime_format=True)"
   ]
  },
  {
   "cell_type": "code",
   "execution_count": 8,
   "id": "898146b1",
   "metadata": {},
   "outputs": [
    {
     "data": {
      "text/plain": [
       "pandas._libs.tslibs.timestamps.Timestamp"
      ]
     },
     "execution_count": 8,
     "metadata": {},
     "output_type": "execute_result"
    }
   ],
   "source": [
    "type(lightning_error['TIMESTAMP_DERIVED'][0])"
   ]
  },
  {
   "cell_type": "markdown",
   "id": "479ef63e",
   "metadata": {},
   "source": [
    "Getting the hours from ***TIMESTAMP_DERIVED*** column"
   ]
  },
  {
   "cell_type": "code",
   "execution_count": 9,
   "id": "e3dbccf3",
   "metadata": {},
   "outputs": [],
   "source": [
    "hour_rows = []\n",
    "\n",
    "for i in lightning_error.index:\n",
    "    hour_rows.append(lightning_error['TIMESTAMP_DERIVED'][i].hour)"
   ]
  },
  {
   "cell_type": "code",
   "execution_count": 10,
   "id": "3112497f",
   "metadata": {},
   "outputs": [
    {
     "data": {
      "text/plain": [
       "7254"
      ]
     },
     "execution_count": 10,
     "metadata": {},
     "output_type": "execute_result"
    }
   ],
   "source": [
    "len(hour_rows)"
   ]
  },
  {
   "cell_type": "markdown",
   "id": "b55dcde4",
   "metadata": {},
   "source": [
    "Creating a column with the hour data"
   ]
  },
  {
   "cell_type": "code",
   "execution_count": 11,
   "id": "c78185b7",
   "metadata": {},
   "outputs": [],
   "source": [
    "lightning_error['TIMESTAMP_DERIVED_HOUR'] = hour_rows"
   ]
  },
  {
   "cell_type": "code",
   "execution_count": 12,
   "id": "881d1c5e",
   "metadata": {},
   "outputs": [
    {
     "data": {
      "text/plain": [
       "['EVENT_TYPE',\n",
       " 'TIMESTAMP',\n",
       " 'REQUEST_ID',\n",
       " 'ORGANIZATION_ID',\n",
       " 'USER_ID',\n",
       " 'CLIENT_ID',\n",
       " 'SESSION_KEY',\n",
       " 'LOGIN_KEY',\n",
       " 'USER_TYPE',\n",
       " 'APP_NAME',\n",
       " 'DEVICE_PLATFORM',\n",
       " 'SDK_APP_VERSION',\n",
       " 'OS_NAME',\n",
       " 'OS_VERSION',\n",
       " 'USER_AGENT',\n",
       " 'BROWSER_NAME',\n",
       " 'BROWSER_VERSION',\n",
       " 'SDK_VERSION',\n",
       " 'DEVICE_MODEL',\n",
       " 'DEVICE_ID',\n",
       " 'SDK_APP_TYPE',\n",
       " 'CLIENT_GEO',\n",
       " 'CONNECTION_TYPE',\n",
       " 'UI_EVENT_ID',\n",
       " 'UI_EVENT_TYPE',\n",
       " 'UI_EVENT_SOURCE',\n",
       " 'UI_EVENT_TIMESTAMP',\n",
       " 'PAGE_START_TIME',\n",
       " 'DEVICE_SESSION_ID',\n",
       " 'UI_EVENT_SEQUENCE_NUM',\n",
       " 'PAGE_ENTITY_ID',\n",
       " 'PAGE_ENTITY_TYPE',\n",
       " 'PAGE_CONTEXT',\n",
       " 'PAGE_URL',\n",
       " 'PAGE_APP_NAME',\n",
       " 'COMPONENT_NAME',\n",
       " 'TIMESTAMP_DERIVED',\n",
       " 'USER_ID_DERIVED',\n",
       " 'CLIENT_IP',\n",
       " 'TIMESTAMP_DERIVED_HOUR']"
      ]
     },
     "execution_count": 12,
     "metadata": {},
     "output_type": "execute_result"
    }
   ],
   "source": [
    "list(lightning_error.columns)"
   ]
  },
  {
   "cell_type": "markdown",
   "id": "3cfd3254",
   "metadata": {},
   "source": [
    "Getting a count of erros by hour"
   ]
  },
  {
   "cell_type": "code",
   "execution_count": 13,
   "id": "55b9c6df",
   "metadata": {},
   "outputs": [],
   "source": [
    "lightning_error_group = lightning_error.groupby(['TIMESTAMP_DERIVED_HOUR']).agg({'UI_EVENT_ID': 'count'})"
   ]
  },
  {
   "cell_type": "markdown",
   "id": "6350f3db",
   "metadata": {},
   "source": [
    "Renaming the column of ***UI_EVENT_ID*** to ***UI_EVENT_ID_COUNT***"
   ]
  },
  {
   "cell_type": "code",
   "execution_count": 14,
   "id": "27b1276f",
   "metadata": {},
   "outputs": [],
   "source": [
    "lightning_error_group.rename(columns={'UI_EVENT_ID': 'UI_EVENT_ID_COUNT'}, inplace = True)"
   ]
  },
  {
   "cell_type": "code",
   "execution_count": 15,
   "id": "5a92cb1d",
   "metadata": {},
   "outputs": [
    {
     "data": {
      "text/html": [
       "<div>\n",
       "<style scoped>\n",
       "    .dataframe tbody tr th:only-of-type {\n",
       "        vertical-align: middle;\n",
       "    }\n",
       "\n",
       "    .dataframe tbody tr th {\n",
       "        vertical-align: top;\n",
       "    }\n",
       "\n",
       "    .dataframe thead th {\n",
       "        text-align: right;\n",
       "    }\n",
       "</style>\n",
       "<table border=\"1\" class=\"dataframe\">\n",
       "  <thead>\n",
       "    <tr style=\"text-align: right;\">\n",
       "      <th></th>\n",
       "      <th>UI_EVENT_ID_COUNT</th>\n",
       "    </tr>\n",
       "    <tr>\n",
       "      <th>TIMESTAMP_DERIVED_HOUR</th>\n",
       "      <th></th>\n",
       "    </tr>\n",
       "  </thead>\n",
       "  <tbody>\n",
       "    <tr>\n",
       "      <th>0</th>\n",
       "      <td>161</td>\n",
       "    </tr>\n",
       "    <tr>\n",
       "      <th>1</th>\n",
       "      <td>240</td>\n",
       "    </tr>\n",
       "    <tr>\n",
       "      <th>2</th>\n",
       "      <td>301</td>\n",
       "    </tr>\n",
       "    <tr>\n",
       "      <th>3</th>\n",
       "      <td>222</td>\n",
       "    </tr>\n",
       "    <tr>\n",
       "      <th>4</th>\n",
       "      <td>233</td>\n",
       "    </tr>\n",
       "    <tr>\n",
       "      <th>5</th>\n",
       "      <td>463</td>\n",
       "    </tr>\n",
       "    <tr>\n",
       "      <th>6</th>\n",
       "      <td>500</td>\n",
       "    </tr>\n",
       "    <tr>\n",
       "      <th>7</th>\n",
       "      <td>628</td>\n",
       "    </tr>\n",
       "    <tr>\n",
       "      <th>8</th>\n",
       "      <td>458</td>\n",
       "    </tr>\n",
       "    <tr>\n",
       "      <th>9</th>\n",
       "      <td>441</td>\n",
       "    </tr>\n",
       "    <tr>\n",
       "      <th>10</th>\n",
       "      <td>241</td>\n",
       "    </tr>\n",
       "    <tr>\n",
       "      <th>11</th>\n",
       "      <td>326</td>\n",
       "    </tr>\n",
       "    <tr>\n",
       "      <th>12</th>\n",
       "      <td>347</td>\n",
       "    </tr>\n",
       "    <tr>\n",
       "      <th>13</th>\n",
       "      <td>335</td>\n",
       "    </tr>\n",
       "    <tr>\n",
       "      <th>14</th>\n",
       "      <td>362</td>\n",
       "    </tr>\n",
       "    <tr>\n",
       "      <th>15</th>\n",
       "      <td>323</td>\n",
       "    </tr>\n",
       "    <tr>\n",
       "      <th>16</th>\n",
       "      <td>297</td>\n",
       "    </tr>\n",
       "    <tr>\n",
       "      <th>17</th>\n",
       "      <td>274</td>\n",
       "    </tr>\n",
       "    <tr>\n",
       "      <th>18</th>\n",
       "      <td>260</td>\n",
       "    </tr>\n",
       "    <tr>\n",
       "      <th>19</th>\n",
       "      <td>253</td>\n",
       "    </tr>\n",
       "    <tr>\n",
       "      <th>20</th>\n",
       "      <td>211</td>\n",
       "    </tr>\n",
       "    <tr>\n",
       "      <th>21</th>\n",
       "      <td>155</td>\n",
       "    </tr>\n",
       "    <tr>\n",
       "      <th>22</th>\n",
       "      <td>140</td>\n",
       "    </tr>\n",
       "    <tr>\n",
       "      <th>23</th>\n",
       "      <td>83</td>\n",
       "    </tr>\n",
       "  </tbody>\n",
       "</table>\n",
       "</div>"
      ],
      "text/plain": [
       "                        UI_EVENT_ID_COUNT\n",
       "TIMESTAMP_DERIVED_HOUR                   \n",
       "0                                     161\n",
       "1                                     240\n",
       "2                                     301\n",
       "3                                     222\n",
       "4                                     233\n",
       "5                                     463\n",
       "6                                     500\n",
       "7                                     628\n",
       "8                                     458\n",
       "9                                     441\n",
       "10                                    241\n",
       "11                                    326\n",
       "12                                    347\n",
       "13                                    335\n",
       "14                                    362\n",
       "15                                    323\n",
       "16                                    297\n",
       "17                                    274\n",
       "18                                    260\n",
       "19                                    253\n",
       "20                                    211\n",
       "21                                    155\n",
       "22                                    140\n",
       "23                                     83"
      ]
     },
     "execution_count": 15,
     "metadata": {},
     "output_type": "execute_result"
    }
   ],
   "source": [
    "lightning_error_group"
   ]
  },
  {
   "cell_type": "markdown",
   "id": "98145bea",
   "metadata": {},
   "source": [
    "Graph relating the number of errors and the hour of the day"
   ]
  },
  {
   "cell_type": "code",
   "execution_count": 16,
   "id": "b168acfa",
   "metadata": {},
   "outputs": [
    {
     "data": {
      "text/plain": [
       "Text(0.5, 1.0, 'Number of erros per time of day')"
      ]
     },
     "execution_count": 16,
     "metadata": {},
     "output_type": "execute_result"
    },
    {
     "data": {
      "image/png": "[encoded data removed]",
      "text/plain": [
       "<Figure size 720x432 with 1 Axes>"
      ]
     },
     "metadata": {
      "needs_background": "light"
     },
     "output_type": "display_data"
    }
   ],
   "source": [
    "graph = lightning_error_group.plot(figsize=(10, 6))\n",
    "graph.set_ylabel('Number of Errors')\n",
    "graph.set_xlabel('Hour')\n",
    "graph.set_title('Number of erros per time of day')"
   ]
  },
  {
   "cell_type": "markdown",
   "id": "9c4962f4",
   "metadata": {},
   "source": [
    "### Getting the top hours data"
   ]
  },
  {
   "cell_type": "markdown",
   "id": "f5baa654",
   "metadata": {},
   "source": [
    "Sorting by count"
   ]
  },
  {
   "cell_type": "code",
   "execution_count": 17,
   "id": "b8d13999",
   "metadata": {},
   "outputs": [],
   "source": [
    "lightning_error_group_sorted = lightning_error_group.sort_values(by=['UI_EVENT_ID_COUNT'], ascending=False)"
   ]
  },
  {
   "cell_type": "code",
   "execution_count": 18,
   "id": "e8566ab3",
   "metadata": {},
   "outputs": [
    {
     "data": {
      "text/html": [
       "<div>\n",
       "<style scoped>\n",
       "    .dataframe tbody tr th:only-of-type {\n",
       "        vertical-align: middle;\n",
       "    }\n",
       "\n",
       "    .dataframe tbody tr th {\n",
       "        vertical-align: top;\n",
       "    }\n",
       "\n",
       "    .dataframe thead th {\n",
       "        text-align: right;\n",
       "    }\n",
       "</style>\n",
       "<table border=\"1\" class=\"dataframe\">\n",
       "  <thead>\n",
       "    <tr style=\"text-align: right;\">\n",
       "      <th></th>\n",
       "      <th>UI_EVENT_ID_COUNT</th>\n",
       "    </tr>\n",
       "    <tr>\n",
       "      <th>TIMESTAMP_DERIVED_HOUR</th>\n",
       "      <th></th>\n",
       "    </tr>\n",
       "  </thead>\n",
       "  <tbody>\n",
       "    <tr>\n",
       "      <th>7</th>\n",
       "      <td>628</td>\n",
       "    </tr>\n",
       "    <tr>\n",
       "      <th>6</th>\n",
       "      <td>500</td>\n",
       "    </tr>\n",
       "    <tr>\n",
       "      <th>5</th>\n",
       "      <td>463</td>\n",
       "    </tr>\n",
       "    <tr>\n",
       "      <th>8</th>\n",
       "      <td>458</td>\n",
       "    </tr>\n",
       "    <tr>\n",
       "      <th>9</th>\n",
       "      <td>441</td>\n",
       "    </tr>\n",
       "    <tr>\n",
       "      <th>14</th>\n",
       "      <td>362</td>\n",
       "    </tr>\n",
       "    <tr>\n",
       "      <th>12</th>\n",
       "      <td>347</td>\n",
       "    </tr>\n",
       "    <tr>\n",
       "      <th>13</th>\n",
       "      <td>335</td>\n",
       "    </tr>\n",
       "    <tr>\n",
       "      <th>11</th>\n",
       "      <td>326</td>\n",
       "    </tr>\n",
       "    <tr>\n",
       "      <th>15</th>\n",
       "      <td>323</td>\n",
       "    </tr>\n",
       "    <tr>\n",
       "      <th>2</th>\n",
       "      <td>301</td>\n",
       "    </tr>\n",
       "    <tr>\n",
       "      <th>16</th>\n",
       "      <td>297</td>\n",
       "    </tr>\n",
       "    <tr>\n",
       "      <th>17</th>\n",
       "      <td>274</td>\n",
       "    </tr>\n",
       "    <tr>\n",
       "      <th>18</th>\n",
       "      <td>260</td>\n",
       "    </tr>\n",
       "    <tr>\n",
       "      <th>19</th>\n",
       "      <td>253</td>\n",
       "    </tr>\n",
       "    <tr>\n",
       "      <th>10</th>\n",
       "      <td>241</td>\n",
       "    </tr>\n",
       "    <tr>\n",
       "      <th>1</th>\n",
       "      <td>240</td>\n",
       "    </tr>\n",
       "    <tr>\n",
       "      <th>4</th>\n",
       "      <td>233</td>\n",
       "    </tr>\n",
       "    <tr>\n",
       "      <th>3</th>\n",
       "      <td>222</td>\n",
       "    </tr>\n",
       "    <tr>\n",
       "      <th>20</th>\n",
       "      <td>211</td>\n",
       "    </tr>\n",
       "    <tr>\n",
       "      <th>0</th>\n",
       "      <td>161</td>\n",
       "    </tr>\n",
       "    <tr>\n",
       "      <th>21</th>\n",
       "      <td>155</td>\n",
       "    </tr>\n",
       "    <tr>\n",
       "      <th>22</th>\n",
       "      <td>140</td>\n",
       "    </tr>\n",
       "    <tr>\n",
       "      <th>23</th>\n",
       "      <td>83</td>\n",
       "    </tr>\n",
       "  </tbody>\n",
       "</table>\n",
       "</div>"
      ],
      "text/plain": [
       "                        UI_EVENT_ID_COUNT\n",
       "TIMESTAMP_DERIVED_HOUR                   \n",
       "7                                     628\n",
       "6                                     500\n",
       "5                                     463\n",
       "8                                     458\n",
       "9                                     441\n",
       "14                                    362\n",
       "12                                    347\n",
       "13                                    335\n",
       "11                                    326\n",
       "15                                    323\n",
       "2                                     301\n",
       "16                                    297\n",
       "17                                    274\n",
       "18                                    260\n",
       "19                                    253\n",
       "10                                    241\n",
       "1                                     240\n",
       "4                                     233\n",
       "3                                     222\n",
       "20                                    211\n",
       "0                                     161\n",
       "21                                    155\n",
       "22                                    140\n",
       "23                                     83"
      ]
     },
     "execution_count": 18,
     "metadata": {},
     "output_type": "execute_result"
    }
   ],
   "source": [
    "lightning_error_group_sorted"
   ]
  },
  {
   "cell_type": "markdown",
   "id": "b627971b",
   "metadata": {},
   "source": [
    "Getting top hours"
   ]
  },
  {
   "cell_type": "code",
   "execution_count": 19,
   "id": "1632af1a",
   "metadata": {},
   "outputs": [],
   "source": [
    "number_of_top_hours = 5\n",
    "\n",
    "top_hours = lightning_error_group_sorted.head(number_of_top_hours)"
   ]
  },
  {
   "cell_type": "code",
   "execution_count": 20,
   "id": "b08fcab6",
   "metadata": {},
   "outputs": [
    {
     "data": {
      "text/html": [
       "<div>\n",
       "<style scoped>\n",
       "    .dataframe tbody tr th:only-of-type {\n",
       "        vertical-align: middle;\n",
       "    }\n",
       "\n",
       "    .dataframe tbody tr th {\n",
       "        vertical-align: top;\n",
       "    }\n",
       "\n",
       "    .dataframe thead th {\n",
       "        text-align: right;\n",
       "    }\n",
       "</style>\n",
       "<table border=\"1\" class=\"dataframe\">\n",
       "  <thead>\n",
       "    <tr style=\"text-align: right;\">\n",
       "      <th></th>\n",
       "      <th>UI_EVENT_ID_COUNT</th>\n",
       "    </tr>\n",
       "    <tr>\n",
       "      <th>TIMESTAMP_DERIVED_HOUR</th>\n",
       "      <th></th>\n",
       "    </tr>\n",
       "  </thead>\n",
       "  <tbody>\n",
       "    <tr>\n",
       "      <th>7</th>\n",
       "      <td>628</td>\n",
       "    </tr>\n",
       "    <tr>\n",
       "      <th>6</th>\n",
       "      <td>500</td>\n",
       "    </tr>\n",
       "    <tr>\n",
       "      <th>5</th>\n",
       "      <td>463</td>\n",
       "    </tr>\n",
       "    <tr>\n",
       "      <th>8</th>\n",
       "      <td>458</td>\n",
       "    </tr>\n",
       "    <tr>\n",
       "      <th>9</th>\n",
       "      <td>441</td>\n",
       "    </tr>\n",
       "  </tbody>\n",
       "</table>\n",
       "</div>"
      ],
      "text/plain": [
       "                        UI_EVENT_ID_COUNT\n",
       "TIMESTAMP_DERIVED_HOUR                   \n",
       "7                                     628\n",
       "6                                     500\n",
       "5                                     463\n",
       "8                                     458\n",
       "9                                     441"
      ]
     },
     "execution_count": 20,
     "metadata": {},
     "output_type": "execute_result"
    }
   ],
   "source": [
    "top_hours"
   ]
  },
  {
   "cell_type": "markdown",
   "id": "bd330a98",
   "metadata": {},
   "source": [
    "Sorting by hours"
   ]
  },
  {
   "cell_type": "code",
   "execution_count": 21,
   "id": "c2e85a0c",
   "metadata": {},
   "outputs": [],
   "source": [
    "top_hours = top_hours.sort_values(by=['TIMESTAMP_DERIVED_HOUR'])"
   ]
  },
  {
   "cell_type": "code",
   "execution_count": 22,
   "id": "2a5b7318",
   "metadata": {},
   "outputs": [
    {
     "data": {
      "text/html": [
       "<div>\n",
       "<style scoped>\n",
       "    .dataframe tbody tr th:only-of-type {\n",
       "        vertical-align: middle;\n",
       "    }\n",
       "\n",
       "    .dataframe tbody tr th {\n",
       "        vertical-align: top;\n",
       "    }\n",
       "\n",
       "    .dataframe thead th {\n",
       "        text-align: right;\n",
       "    }\n",
       "</style>\n",
       "<table border=\"1\" class=\"dataframe\">\n",
       "  <thead>\n",
       "    <tr style=\"text-align: right;\">\n",
       "      <th></th>\n",
       "      <th>UI_EVENT_ID_COUNT</th>\n",
       "    </tr>\n",
       "    <tr>\n",
       "      <th>TIMESTAMP_DERIVED_HOUR</th>\n",
       "      <th></th>\n",
       "    </tr>\n",
       "  </thead>\n",
       "  <tbody>\n",
       "    <tr>\n",
       "      <th>5</th>\n",
       "      <td>463</td>\n",
       "    </tr>\n",
       "    <tr>\n",
       "      <th>6</th>\n",
       "      <td>500</td>\n",
       "    </tr>\n",
       "    <tr>\n",
       "      <th>7</th>\n",
       "      <td>628</td>\n",
       "    </tr>\n",
       "    <tr>\n",
       "      <th>8</th>\n",
       "      <td>458</td>\n",
       "    </tr>\n",
       "    <tr>\n",
       "      <th>9</th>\n",
       "      <td>441</td>\n",
       "    </tr>\n",
       "  </tbody>\n",
       "</table>\n",
       "</div>"
      ],
      "text/plain": [
       "                        UI_EVENT_ID_COUNT\n",
       "TIMESTAMP_DERIVED_HOUR                   \n",
       "5                                     463\n",
       "6                                     500\n",
       "7                                     628\n",
       "8                                     458\n",
       "9                                     441"
      ]
     },
     "execution_count": 22,
     "metadata": {},
     "output_type": "execute_result"
    }
   ],
   "source": [
    "top_hours"
   ]
  },
  {
   "cell_type": "markdown",
   "id": "dfbb2d98",
   "metadata": {},
   "source": [
    "Reseting index"
   ]
  },
  {
   "cell_type": "code",
   "execution_count": 23,
   "id": "99174d6b",
   "metadata": {},
   "outputs": [],
   "source": [
    "top_hours = top_hours.reset_index()"
   ]
  },
  {
   "cell_type": "code",
   "execution_count": 24,
   "id": "c63079d6",
   "metadata": {},
   "outputs": [
    {
     "data": {
      "text/html": [
       "<div>\n",
       "<style scoped>\n",
       "    .dataframe tbody tr th:only-of-type {\n",
       "        vertical-align: middle;\n",
       "    }\n",
       "\n",
       "    .dataframe tbody tr th {\n",
       "        vertical-align: top;\n",
       "    }\n",
       "\n",
       "    .dataframe thead th {\n",
       "        text-align: right;\n",
       "    }\n",
       "</style>\n",
       "<table border=\"1\" class=\"dataframe\">\n",
       "  <thead>\n",
       "    <tr style=\"text-align: right;\">\n",
       "      <th></th>\n",
       "      <th>TIMESTAMP_DERIVED_HOUR</th>\n",
       "      <th>UI_EVENT_ID_COUNT</th>\n",
       "    </tr>\n",
       "  </thead>\n",
       "  <tbody>\n",
       "    <tr>\n",
       "      <th>0</th>\n",
       "      <td>5</td>\n",
       "      <td>463</td>\n",
       "    </tr>\n",
       "    <tr>\n",
       "      <th>1</th>\n",
       "      <td>6</td>\n",
       "      <td>500</td>\n",
       "    </tr>\n",
       "    <tr>\n",
       "      <th>2</th>\n",
       "      <td>7</td>\n",
       "      <td>628</td>\n",
       "    </tr>\n",
       "    <tr>\n",
       "      <th>3</th>\n",
       "      <td>8</td>\n",
       "      <td>458</td>\n",
       "    </tr>\n",
       "    <tr>\n",
       "      <th>4</th>\n",
       "      <td>9</td>\n",
       "      <td>441</td>\n",
       "    </tr>\n",
       "  </tbody>\n",
       "</table>\n",
       "</div>"
      ],
      "text/plain": [
       "   TIMESTAMP_DERIVED_HOUR  UI_EVENT_ID_COUNT\n",
       "0                       5                463\n",
       "1                       6                500\n",
       "2                       7                628\n",
       "3                       8                458\n",
       "4                       9                441"
      ]
     },
     "execution_count": 24,
     "metadata": {},
     "output_type": "execute_result"
    }
   ],
   "source": [
    "top_hours"
   ]
  },
  {
   "cell_type": "markdown",
   "id": "ee188b0e",
   "metadata": {},
   "source": [
    "Result"
   ]
  },
  {
   "cell_type": "code",
   "execution_count": 25,
   "id": "28a418a8",
   "metadata": {},
   "outputs": [
    {
     "name": "stdout",
     "output_type": "stream",
     "text": [
      "The top hours are: 5, 6, 7, 8 and 9"
     ]
    }
   ],
   "source": [
    "top_hours_values = []\n",
    "\n",
    "print(\"The top hours are: \", end=\"\")\n",
    "for i in top_hours.index:\n",
    "    value = top_hours['TIMESTAMP_DERIVED_HOUR'][i]\n",
    "    \n",
    "    top_hours_values.append(value)\n",
    "    \n",
    "    if i == len(top_hours) - 1:\n",
    "        print(f\"{value}\", end=\"\")\n",
    "    elif i == len(top_hours) - 2:\n",
    "        print(f\"{value} and \", end=\"\")\n",
    "    else:\n",
    "        print(f\"{value}, \", end=\"\")"
   ]
  },
  {
   "cell_type": "markdown",
   "id": "a06b88ac",
   "metadata": {},
   "source": [
    "---"
   ]
  },
  {
   "cell_type": "markdown",
   "id": "9f7316fe",
   "metadata": {},
   "source": [
    "## Analyzing the most common error types by day"
   ]
  },
  {
   "cell_type": "markdown",
   "id": "4d384bed",
   "metadata": {},
   "source": [
    "Getting the count of erros for each type of error"
   ]
  },
  {
   "cell_type": "code",
   "execution_count": 26,
   "id": "49d29446",
   "metadata": {},
   "outputs": [],
   "source": [
    "lightning_error_group = lightning_error.groupby(['UI_EVENT_SOURCE']).agg({'UI_EVENT_ID': 'count'})"
   ]
  },
  {
   "cell_type": "code",
   "execution_count": 27,
   "id": "c1784b30",
   "metadata": {},
   "outputs": [
    {
     "data": {
      "text/plain": [
       "(9, 1)"
      ]
     },
     "execution_count": 27,
     "metadata": {},
     "output_type": "execute_result"
    }
   ],
   "source": [
    "lightning_error_group.shape"
   ]
  },
  {
   "cell_type": "markdown",
   "id": "a61ea719",
   "metadata": {},
   "source": [
    "Renaming the column of ***UI_EVENT_ID*** to ***UI_EVENT_ID_COUNT***"
   ]
  },
  {
   "cell_type": "code",
   "execution_count": 28,
   "id": "641fba7d",
   "metadata": {},
   "outputs": [],
   "source": [
    "lightning_error_group.rename(columns={'UI_EVENT_ID': 'UI_EVENT_ID_COUNT'}, inplace = True)"
   ]
  },
  {
   "cell_type": "code",
   "execution_count": 29,
   "id": "adad9b4d",
   "metadata": {},
   "outputs": [
    {
     "data": {
      "text/html": [
       "<div>\n",
       "<style scoped>\n",
       "    .dataframe tbody tr th:only-of-type {\n",
       "        vertical-align: middle;\n",
       "    }\n",
       "\n",
       "    .dataframe tbody tr th {\n",
       "        vertical-align: top;\n",
       "    }\n",
       "\n",
       "    .dataframe thead th {\n",
       "        text-align: right;\n",
       "    }\n",
       "</style>\n",
       "<table border=\"1\" class=\"dataframe\">\n",
       "  <thead>\n",
       "    <tr style=\"text-align: right;\">\n",
       "      <th></th>\n",
       "      <th>UI_EVENT_ID_COUNT</th>\n",
       "    </tr>\n",
       "    <tr>\n",
       "      <th>UI_EVENT_SOURCE</th>\n",
       "      <th></th>\n",
       "    </tr>\n",
       "  </thead>\n",
       "  <tbody>\n",
       "    <tr>\n",
       "      <th>AuraError</th>\n",
       "      <td>171</td>\n",
       "    </tr>\n",
       "    <tr>\n",
       "      <th>Error</th>\n",
       "      <td>3709</td>\n",
       "    </tr>\n",
       "    <tr>\n",
       "      <th>RangeError</th>\n",
       "      <td>218</td>\n",
       "    </tr>\n",
       "    <tr>\n",
       "      <th>ReferenceError</th>\n",
       "      <td>1</td>\n",
       "    </tr>\n",
       "    <tr>\n",
       "      <th>RequiredAiltnFieldsNotValid</th>\n",
       "      <td>17</td>\n",
       "    </tr>\n",
       "    <tr>\n",
       "      <th>SecurityError</th>\n",
       "      <td>1</td>\n",
       "    </tr>\n",
       "    <tr>\n",
       "      <th>SyntaxError</th>\n",
       "      <td>12</td>\n",
       "    </tr>\n",
       "    <tr>\n",
       "      <th>TypeError</th>\n",
       "      <td>3121</td>\n",
       "    </tr>\n",
       "    <tr>\n",
       "      <th>unknown</th>\n",
       "      <td>4</td>\n",
       "    </tr>\n",
       "  </tbody>\n",
       "</table>\n",
       "</div>"
      ],
      "text/plain": [
       "                             UI_EVENT_ID_COUNT\n",
       "UI_EVENT_SOURCE                               \n",
       "AuraError                                  171\n",
       "Error                                     3709\n",
       "RangeError                                 218\n",
       "ReferenceError                               1\n",
       "RequiredAiltnFieldsNotValid                 17\n",
       "SecurityError                                1\n",
       "SyntaxError                                 12\n",
       "TypeError                                 3121\n",
       "unknown                                      4"
      ]
     },
     "execution_count": 29,
     "metadata": {},
     "output_type": "execute_result"
    }
   ],
   "source": [
    "lightning_error_group"
   ]
  },
  {
   "cell_type": "markdown",
   "id": "f22fca8f",
   "metadata": {},
   "source": [
    "Sorting the data by ***UI_EVENT_ID_COUNT***"
   ]
  },
  {
   "cell_type": "code",
   "execution_count": 30,
   "id": "c8563ced",
   "metadata": {},
   "outputs": [],
   "source": [
    "lightning_error_group = lightning_error_group.sort_values(by=['UI_EVENT_ID_COUNT'], ascending=False)"
   ]
  },
  {
   "cell_type": "code",
   "execution_count": 31,
   "id": "bb707b74",
   "metadata": {},
   "outputs": [
    {
     "data": {
      "text/html": [
       "<div>\n",
       "<style scoped>\n",
       "    .dataframe tbody tr th:only-of-type {\n",
       "        vertical-align: middle;\n",
       "    }\n",
       "\n",
       "    .dataframe tbody tr th {\n",
       "        vertical-align: top;\n",
       "    }\n",
       "\n",
       "    .dataframe thead th {\n",
       "        text-align: right;\n",
       "    }\n",
       "</style>\n",
       "<table border=\"1\" class=\"dataframe\">\n",
       "  <thead>\n",
       "    <tr style=\"text-align: right;\">\n",
       "      <th></th>\n",
       "      <th>UI_EVENT_ID_COUNT</th>\n",
       "    </tr>\n",
       "    <tr>\n",
       "      <th>UI_EVENT_SOURCE</th>\n",
       "      <th></th>\n",
       "    </tr>\n",
       "  </thead>\n",
       "  <tbody>\n",
       "    <tr>\n",
       "      <th>Error</th>\n",
       "      <td>3709</td>\n",
       "    </tr>\n",
       "    <tr>\n",
       "      <th>TypeError</th>\n",
       "      <td>3121</td>\n",
       "    </tr>\n",
       "    <tr>\n",
       "      <th>RangeError</th>\n",
       "      <td>218</td>\n",
       "    </tr>\n",
       "    <tr>\n",
       "      <th>AuraError</th>\n",
       "      <td>171</td>\n",
       "    </tr>\n",
       "    <tr>\n",
       "      <th>RequiredAiltnFieldsNotValid</th>\n",
       "      <td>17</td>\n",
       "    </tr>\n",
       "    <tr>\n",
       "      <th>SyntaxError</th>\n",
       "      <td>12</td>\n",
       "    </tr>\n",
       "    <tr>\n",
       "      <th>unknown</th>\n",
       "      <td>4</td>\n",
       "    </tr>\n",
       "    <tr>\n",
       "      <th>ReferenceError</th>\n",
       "      <td>1</td>\n",
       "    </tr>\n",
       "    <tr>\n",
       "      <th>SecurityError</th>\n",
       "      <td>1</td>\n",
       "    </tr>\n",
       "  </tbody>\n",
       "</table>\n",
       "</div>"
      ],
      "text/plain": [
       "                             UI_EVENT_ID_COUNT\n",
       "UI_EVENT_SOURCE                               \n",
       "Error                                     3709\n",
       "TypeError                                 3121\n",
       "RangeError                                 218\n",
       "AuraError                                  171\n",
       "RequiredAiltnFieldsNotValid                 17\n",
       "SyntaxError                                 12\n",
       "unknown                                      4\n",
       "ReferenceError                               1\n",
       "SecurityError                                1"
      ]
     },
     "execution_count": 31,
     "metadata": {},
     "output_type": "execute_result"
    }
   ],
   "source": [
    "lightning_error_group"
   ]
  },
  {
   "cell_type": "markdown",
   "id": "53330128",
   "metadata": {},
   "source": [
    "Viewing the data"
   ]
  },
  {
   "cell_type": "code",
   "execution_count": 32,
   "id": "eb371424",
   "metadata": {},
   "outputs": [
    {
     "data": {
      "text/plain": [
       "Text(0.5, 1.0, 'Types of errors that appear the most during the day')"
      ]
     },
     "execution_count": 32,
     "metadata": {},
     "output_type": "execute_result"
    },
    {
     "data": {
      "image/png": "[encoded data removed]",
      "text/plain": [
       "<Figure size 720x432 with 1 Axes>"
      ]
     },
     "metadata": {
      "needs_background": "light"
     },
     "output_type": "display_data"
    }
   ],
   "source": [
    "number_of_error_types_graph = 6\n",
    "\n",
    "graph = lightning_error_group.head(number_of_error_types_graph).plot.barh(figsize=(10, 6))\n",
    "graph.set_ylabel('Error types')\n",
    "graph.set_xlabel('Count')\n",
    "graph.set_title('Types of errors that appear the most during the day')"
   ]
  },
  {
   "cell_type": "markdown",
   "id": "cbf7efdc",
   "metadata": {},
   "source": [
    "### Getting top error types by day"
   ]
  },
  {
   "cell_type": "code",
   "execution_count": 33,
   "id": "3c623cdb",
   "metadata": {},
   "outputs": [],
   "source": [
    "number_of_error_types = 5\n",
    "\n",
    "top_error_types_by_day = lightning_error_group.head(number_of_error_types)"
   ]
  },
  {
   "cell_type": "code",
   "execution_count": 34,
   "id": "4f30d91d",
   "metadata": {},
   "outputs": [
    {
     "data": {
      "text/html": [
       "<div>\n",
       "<style scoped>\n",
       "    .dataframe tbody tr th:only-of-type {\n",
       "        vertical-align: middle;\n",
       "    }\n",
       "\n",
       "    .dataframe tbody tr th {\n",
       "        vertical-align: top;\n",
       "    }\n",
       "\n",
       "    .dataframe thead th {\n",
       "        text-align: right;\n",
       "    }\n",
       "</style>\n",
       "<table border=\"1\" class=\"dataframe\">\n",
       "  <thead>\n",
       "    <tr style=\"text-align: right;\">\n",
       "      <th></th>\n",
       "      <th>UI_EVENT_ID_COUNT</th>\n",
       "    </tr>\n",
       "    <tr>\n",
       "      <th>UI_EVENT_SOURCE</th>\n",
       "      <th></th>\n",
       "    </tr>\n",
       "  </thead>\n",
       "  <tbody>\n",
       "    <tr>\n",
       "      <th>Error</th>\n",
       "      <td>3709</td>\n",
       "    </tr>\n",
       "    <tr>\n",
       "      <th>TypeError</th>\n",
       "      <td>3121</td>\n",
       "    </tr>\n",
       "    <tr>\n",
       "      <th>RangeError</th>\n",
       "      <td>218</td>\n",
       "    </tr>\n",
       "    <tr>\n",
       "      <th>AuraError</th>\n",
       "      <td>171</td>\n",
       "    </tr>\n",
       "    <tr>\n",
       "      <th>RequiredAiltnFieldsNotValid</th>\n",
       "      <td>17</td>\n",
       "    </tr>\n",
       "  </tbody>\n",
       "</table>\n",
       "</div>"
      ],
      "text/plain": [
       "                             UI_EVENT_ID_COUNT\n",
       "UI_EVENT_SOURCE                               \n",
       "Error                                     3709\n",
       "TypeError                                 3121\n",
       "RangeError                                 218\n",
       "AuraError                                  171\n",
       "RequiredAiltnFieldsNotValid                 17"
      ]
     },
     "execution_count": 34,
     "metadata": {},
     "output_type": "execute_result"
    }
   ],
   "source": [
    "top_error_types_by_day"
   ]
  },
  {
   "cell_type": "markdown",
   "id": "4cb5b8bb",
   "metadata": {},
   "source": [
    "Reseting index"
   ]
  },
  {
   "cell_type": "code",
   "execution_count": 35,
   "id": "9bf6840d",
   "metadata": {},
   "outputs": [],
   "source": [
    "top_error_types_by_day = top_error_types_by_day.reset_index()"
   ]
  },
  {
   "cell_type": "code",
   "execution_count": 36,
   "id": "43582d22",
   "metadata": {},
   "outputs": [
    {
     "data": {
      "text/html": [
       "<div>\n",
       "<style scoped>\n",
       "    .dataframe tbody tr th:only-of-type {\n",
       "        vertical-align: middle;\n",
       "    }\n",
       "\n",
       "    .dataframe tbody tr th {\n",
       "        vertical-align: top;\n",
       "    }\n",
       "\n",
       "    .dataframe thead th {\n",
       "        text-align: right;\n",
       "    }\n",
       "</style>\n",
       "<table border=\"1\" class=\"dataframe\">\n",
       "  <thead>\n",
       "    <tr style=\"text-align: right;\">\n",
       "      <th></th>\n",
       "      <th>UI_EVENT_SOURCE</th>\n",
       "      <th>UI_EVENT_ID_COUNT</th>\n",
       "    </tr>\n",
       "  </thead>\n",
       "  <tbody>\n",
       "    <tr>\n",
       "      <th>0</th>\n",
       "      <td>Error</td>\n",
       "      <td>3709</td>\n",
       "    </tr>\n",
       "    <tr>\n",
       "      <th>1</th>\n",
       "      <td>TypeError</td>\n",
       "      <td>3121</td>\n",
       "    </tr>\n",
       "    <tr>\n",
       "      <th>2</th>\n",
       "      <td>RangeError</td>\n",
       "      <td>218</td>\n",
       "    </tr>\n",
       "    <tr>\n",
       "      <th>3</th>\n",
       "      <td>AuraError</td>\n",
       "      <td>171</td>\n",
       "    </tr>\n",
       "    <tr>\n",
       "      <th>4</th>\n",
       "      <td>RequiredAiltnFieldsNotValid</td>\n",
       "      <td>17</td>\n",
       "    </tr>\n",
       "  </tbody>\n",
       "</table>\n",
       "</div>"
      ],
      "text/plain": [
       "               UI_EVENT_SOURCE  UI_EVENT_ID_COUNT\n",
       "0                        Error               3709\n",
       "1                    TypeError               3121\n",
       "2                   RangeError                218\n",
       "3                    AuraError                171\n",
       "4  RequiredAiltnFieldsNotValid                 17"
      ]
     },
     "execution_count": 36,
     "metadata": {},
     "output_type": "execute_result"
    }
   ],
   "source": [
    "top_error_types_by_day"
   ]
  },
  {
   "cell_type": "markdown",
   "id": "1f293bb2",
   "metadata": {},
   "source": [
    "Result"
   ]
  },
  {
   "cell_type": "code",
   "execution_count": 37,
   "id": "3058f4fa",
   "metadata": {},
   "outputs": [
    {
     "name": "stdout",
     "output_type": "stream",
     "text": [
      "The top 5 error types by day are: \n",
      "1 - Error\n",
      "2 - TypeError\n",
      "3 - RangeError\n",
      "4 - AuraError\n",
      "5 - RequiredAiltnFieldsNotValid\n"
     ]
    }
   ],
   "source": [
    "top_error_types_by_day_values = []\n",
    "\n",
    "print(f\"The top {number_of_error_types} error types by day are: \")\n",
    "\n",
    "for i in top_error_types_by_day.index:\n",
    "    value = top_error_types_by_day['UI_EVENT_SOURCE'][i]\n",
    "    \n",
    "    top_error_types_by_day_values.append(value)\n",
    "    \n",
    "    print(f\"{i + 1} - {value}\")"
   ]
  },
  {
   "cell_type": "markdown",
   "id": "ae2c1652",
   "metadata": {},
   "source": [
    "---"
   ]
  },
  {
   "cell_type": "markdown",
   "id": "a40c6915",
   "metadata": {},
   "source": [
    "## Analyzing the most common error types by peak time"
   ]
  },
  {
   "cell_type": "markdown",
   "id": "a83826a3",
   "metadata": {},
   "source": [
    "Getting top hours values"
   ]
  },
  {
   "cell_type": "code",
   "execution_count": 38,
   "id": "a1f40a06",
   "metadata": {},
   "outputs": [
    {
     "data": {
      "text/plain": [
       "[5, 6, 7, 8, 9]"
      ]
     },
     "execution_count": 38,
     "metadata": {},
     "output_type": "execute_result"
    }
   ],
   "source": [
    "top_hours_values"
   ]
  },
  {
   "cell_type": "markdown",
   "id": "1f7883e6",
   "metadata": {},
   "source": [
    "Filtering the data by top hours"
   ]
  },
  {
   "cell_type": "code",
   "execution_count": 39,
   "id": "48110052",
   "metadata": {},
   "outputs": [
    {
     "data": {
      "text/plain": [
       "(7254, 40)"
      ]
     },
     "execution_count": 39,
     "metadata": {},
     "output_type": "execute_result"
    }
   ],
   "source": [
    "lightning_error.shape"
   ]
  },
  {
   "cell_type": "code",
   "execution_count": 40,
   "id": "88cc87d0",
   "metadata": {},
   "outputs": [],
   "source": [
    "filtered_lightning_error = lightning_error[lightning_error.TIMESTAMP_DERIVED_HOUR.isin(top_hours_values)]"
   ]
  },
  {
   "cell_type": "code",
   "execution_count": 41,
   "id": "4ca4bd33",
   "metadata": {},
   "outputs": [
    {
     "data": {
      "text/plain": [
       "(2490, 40)"
      ]
     },
     "execution_count": 41,
     "metadata": {},
     "output_type": "execute_result"
    }
   ],
   "source": [
    "filtered_lightning_error.shape"
   ]
  },
  {
   "cell_type": "markdown",
   "id": "c5159a4d",
   "metadata": {},
   "source": [
    "Grouping by ***UI_EVENT_SOURCE***"
   ]
  },
  {
   "cell_type": "code",
   "execution_count": 42,
   "id": "33154625",
   "metadata": {},
   "outputs": [],
   "source": [
    "filtered_lightning_error_group = filtered_lightning_error.groupby(['UI_EVENT_SOURCE']).agg({'UI_EVENT_ID': 'count'})"
   ]
  },
  {
   "cell_type": "code",
   "execution_count": 43,
   "id": "84d2de56",
   "metadata": {},
   "outputs": [
    {
     "data": {
      "text/plain": [
       "(8, 1)"
      ]
     },
     "execution_count": 43,
     "metadata": {},
     "output_type": "execute_result"
    }
   ],
   "source": [
    "filtered_lightning_error_group.shape"
   ]
  },
  {
   "cell_type": "code",
   "execution_count": 44,
   "id": "8368ec67",
   "metadata": {},
   "outputs": [
    {
     "data": {
      "text/html": [
       "<div>\n",
       "<style scoped>\n",
       "    .dataframe tbody tr th:only-of-type {\n",
       "        vertical-align: middle;\n",
       "    }\n",
       "\n",
       "    .dataframe tbody tr th {\n",
       "        vertical-align: top;\n",
       "    }\n",
       "\n",
       "    .dataframe thead th {\n",
       "        text-align: right;\n",
       "    }\n",
       "</style>\n",
       "<table border=\"1\" class=\"dataframe\">\n",
       "  <thead>\n",
       "    <tr style=\"text-align: right;\">\n",
       "      <th></th>\n",
       "      <th>UI_EVENT_ID</th>\n",
       "    </tr>\n",
       "    <tr>\n",
       "      <th>UI_EVENT_SOURCE</th>\n",
       "      <th></th>\n",
       "    </tr>\n",
       "  </thead>\n",
       "  <tbody>\n",
       "    <tr>\n",
       "      <th>AuraError</th>\n",
       "      <td>148</td>\n",
       "    </tr>\n",
       "    <tr>\n",
       "      <th>Error</th>\n",
       "      <td>1940</td>\n",
       "    </tr>\n",
       "    <tr>\n",
       "      <th>RangeError</th>\n",
       "      <td>79</td>\n",
       "    </tr>\n",
       "    <tr>\n",
       "      <th>ReferenceError</th>\n",
       "      <td>1</td>\n",
       "    </tr>\n",
       "    <tr>\n",
       "      <th>RequiredAiltnFieldsNotValid</th>\n",
       "      <td>12</td>\n",
       "    </tr>\n",
       "    <tr>\n",
       "      <th>SyntaxError</th>\n",
       "      <td>1</td>\n",
       "    </tr>\n",
       "    <tr>\n",
       "      <th>TypeError</th>\n",
       "      <td>307</td>\n",
       "    </tr>\n",
       "    <tr>\n",
       "      <th>unknown</th>\n",
       "      <td>2</td>\n",
       "    </tr>\n",
       "  </tbody>\n",
       "</table>\n",
       "</div>"
      ],
      "text/plain": [
       "                             UI_EVENT_ID\n",
       "UI_EVENT_SOURCE                         \n",
       "AuraError                            148\n",
       "Error                               1940\n",
       "RangeError                            79\n",
       "ReferenceError                         1\n",
       "RequiredAiltnFieldsNotValid           12\n",
       "SyntaxError                            1\n",
       "TypeError                            307\n",
       "unknown                                2"
      ]
     },
     "execution_count": 44,
     "metadata": {},
     "output_type": "execute_result"
    }
   ],
   "source": [
    "filtered_lightning_error_group"
   ]
  },
  {
   "cell_type": "markdown",
   "id": "9c074cfb",
   "metadata": {},
   "source": [
    "Renaming the column of ***UI_EVENT_ID*** to ***UI_EVENT_ID_COUNT***"
   ]
  },
  {
   "cell_type": "code",
   "execution_count": 45,
   "id": "f524b76a",
   "metadata": {},
   "outputs": [],
   "source": [
    "filtered_lightning_error_group.rename(columns={'UI_EVENT_ID': 'UI_EVENT_ID_COUNT'}, inplace = True)"
   ]
  },
  {
   "cell_type": "markdown",
   "id": "e8778a10",
   "metadata": {},
   "source": [
    "Sorting by ***UI_EVENT_ID_COUNT***"
   ]
  },
  {
   "cell_type": "code",
   "execution_count": 46,
   "id": "8bba2122",
   "metadata": {},
   "outputs": [],
   "source": [
    "filtered_lightning_error_group_sorted = filtered_lightning_error_group.sort_values(by=['UI_EVENT_ID_COUNT'], ascending=False)"
   ]
  },
  {
   "cell_type": "code",
   "execution_count": 47,
   "id": "8ce7fc66",
   "metadata": {},
   "outputs": [
    {
     "data": {
      "text/html": [
       "<div>\n",
       "<style scoped>\n",
       "    .dataframe tbody tr th:only-of-type {\n",
       "        vertical-align: middle;\n",
       "    }\n",
       "\n",
       "    .dataframe tbody tr th {\n",
       "        vertical-align: top;\n",
       "    }\n",
       "\n",
       "    .dataframe thead th {\n",
       "        text-align: right;\n",
       "    }\n",
       "</style>\n",
       "<table border=\"1\" class=\"dataframe\">\n",
       "  <thead>\n",
       "    <tr style=\"text-align: right;\">\n",
       "      <th></th>\n",
       "      <th>UI_EVENT_ID_COUNT</th>\n",
       "    </tr>\n",
       "    <tr>\n",
       "      <th>UI_EVENT_SOURCE</th>\n",
       "      <th></th>\n",
       "    </tr>\n",
       "  </thead>\n",
       "  <tbody>\n",
       "    <tr>\n",
       "      <th>Error</th>\n",
       "      <td>1940</td>\n",
       "    </tr>\n",
       "    <tr>\n",
       "      <th>TypeError</th>\n",
       "      <td>307</td>\n",
       "    </tr>\n",
       "    <tr>\n",
       "      <th>AuraError</th>\n",
       "      <td>148</td>\n",
       "    </tr>\n",
       "    <tr>\n",
       "      <th>RangeError</th>\n",
       "      <td>79</td>\n",
       "    </tr>\n",
       "    <tr>\n",
       "      <th>RequiredAiltnFieldsNotValid</th>\n",
       "      <td>12</td>\n",
       "    </tr>\n",
       "    <tr>\n",
       "      <th>unknown</th>\n",
       "      <td>2</td>\n",
       "    </tr>\n",
       "    <tr>\n",
       "      <th>ReferenceError</th>\n",
       "      <td>1</td>\n",
       "    </tr>\n",
       "    <tr>\n",
       "      <th>SyntaxError</th>\n",
       "      <td>1</td>\n",
       "    </tr>\n",
       "  </tbody>\n",
       "</table>\n",
       "</div>"
      ],
      "text/plain": [
       "                             UI_EVENT_ID_COUNT\n",
       "UI_EVENT_SOURCE                               \n",
       "Error                                     1940\n",
       "TypeError                                  307\n",
       "AuraError                                  148\n",
       "RangeError                                  79\n",
       "RequiredAiltnFieldsNotValid                 12\n",
       "unknown                                      2\n",
       "ReferenceError                               1\n",
       "SyntaxError                                  1"
      ]
     },
     "execution_count": 47,
     "metadata": {},
     "output_type": "execute_result"
    }
   ],
   "source": [
    "filtered_lightning_error_group_sorted"
   ]
  },
  {
   "cell_type": "markdown",
   "id": "cfc018fa",
   "metadata": {},
   "source": [
    "Viewing the data"
   ]
  },
  {
   "cell_type": "code",
   "execution_count": 48,
   "id": "05841164",
   "metadata": {},
   "outputs": [
    {
     "data": {
      "text/plain": [
       "Text(0.5, 1.0, 'Types of errors that appear the most during the peak time')"
      ]
     },
     "execution_count": 48,
     "metadata": {},
     "output_type": "execute_result"
    },
    {
     "data": {
      "image/png": "[encoded data removed]",
      "text/plain": [
       "<Figure size 720x432 with 1 Axes>"
      ]
     },
     "metadata": {
      "needs_background": "light"
     },
     "output_type": "display_data"
    }
   ],
   "source": [
    "graph = filtered_lightning_error_group_sorted.head(number_of_error_types_graph).plot.barh(figsize=(10, 6))\n",
    "graph.set_ylabel('Error types')\n",
    "graph.set_xlabel('Count')\n",
    "graph.set_title('Types of errors that appear the most during the peak time')"
   ]
  },
  {
   "cell_type": "markdown",
   "id": "4b1eb32b",
   "metadata": {},
   "source": [
    "### Getting top error types by peak time"
   ]
  },
  {
   "cell_type": "code",
   "execution_count": 49,
   "id": "03d642d9",
   "metadata": {},
   "outputs": [],
   "source": [
    "top_error_types_by_peak_time = filtered_lightning_error_group_sorted.head(number_of_error_types)"
   ]
  },
  {
   "cell_type": "code",
   "execution_count": 50,
   "id": "300ebde4",
   "metadata": {},
   "outputs": [
    {
     "data": {
      "text/html": [
       "<div>\n",
       "<style scoped>\n",
       "    .dataframe tbody tr th:only-of-type {\n",
       "        vertical-align: middle;\n",
       "    }\n",
       "\n",
       "    .dataframe tbody tr th {\n",
       "        vertical-align: top;\n",
       "    }\n",
       "\n",
       "    .dataframe thead th {\n",
       "        text-align: right;\n",
       "    }\n",
       "</style>\n",
       "<table border=\"1\" class=\"dataframe\">\n",
       "  <thead>\n",
       "    <tr style=\"text-align: right;\">\n",
       "      <th></th>\n",
       "      <th>UI_EVENT_ID_COUNT</th>\n",
       "    </tr>\n",
       "    <tr>\n",
       "      <th>UI_EVENT_SOURCE</th>\n",
       "      <th></th>\n",
       "    </tr>\n",
       "  </thead>\n",
       "  <tbody>\n",
       "    <tr>\n",
       "      <th>Error</th>\n",
       "      <td>1940</td>\n",
       "    </tr>\n",
       "    <tr>\n",
       "      <th>TypeError</th>\n",
       "      <td>307</td>\n",
       "    </tr>\n",
       "    <tr>\n",
       "      <th>AuraError</th>\n",
       "      <td>148</td>\n",
       "    </tr>\n",
       "    <tr>\n",
       "      <th>RangeError</th>\n",
       "      <td>79</td>\n",
       "    </tr>\n",
       "    <tr>\n",
       "      <th>RequiredAiltnFieldsNotValid</th>\n",
       "      <td>12</td>\n",
       "    </tr>\n",
       "  </tbody>\n",
       "</table>\n",
       "</div>"
      ],
      "text/plain": [
       "                             UI_EVENT_ID_COUNT\n",
       "UI_EVENT_SOURCE                               \n",
       "Error                                     1940\n",
       "TypeError                                  307\n",
       "AuraError                                  148\n",
       "RangeError                                  79\n",
       "RequiredAiltnFieldsNotValid                 12"
      ]
     },
     "execution_count": 50,
     "metadata": {},
     "output_type": "execute_result"
    }
   ],
   "source": [
    "top_error_types_by_peak_time"
   ]
  },
  {
   "cell_type": "markdown",
   "id": "ce88968a",
   "metadata": {},
   "source": [
    "Reseting index"
   ]
  },
  {
   "cell_type": "code",
   "execution_count": 51,
   "id": "d776c969",
   "metadata": {},
   "outputs": [],
   "source": [
    "top_error_types_by_peak_time = top_error_types_by_peak_time.reset_index()"
   ]
  },
  {
   "cell_type": "markdown",
   "id": "cff0b7c1",
   "metadata": {},
   "source": [
    "Getting top page entity type values and showing result"
   ]
  },
  {
   "cell_type": "code",
   "execution_count": 52,
   "id": "4b3de9e7",
   "metadata": {},
   "outputs": [
    {
     "name": "stdout",
     "output_type": "stream",
     "text": [
      "The top 5 error types by peak time are: \n",
      "1 - Error\n",
      "2 - TypeError\n",
      "3 - AuraError\n",
      "4 - RangeError\n",
      "5 - RequiredAiltnFieldsNotValid\n"
     ]
    }
   ],
   "source": [
    "top_error_types_by_peak_time_values = []\n",
    "\n",
    "print(f\"The top {number_of_error_types} error types by peak time are: \")\n",
    "for i in top_error_types_by_peak_time.index:\n",
    "    value = top_error_types_by_peak_time['UI_EVENT_SOURCE'][i]\n",
    "    \n",
    "    top_error_types_by_peak_time_values.append(value)\n",
    "    print(f\"{i + 1} - {value}\")"
   ]
  },
  {
   "cell_type": "markdown",
   "id": "950794c7",
   "metadata": {},
   "source": [
    "---"
   ]
  },
  {
   "cell_type": "markdown",
   "id": "dc56dd39",
   "metadata": {},
   "source": [
    "## Analyzing types of errors by peak time"
   ]
  },
  {
   "cell_type": "markdown",
   "id": "cf55d38c",
   "metadata": {},
   "source": [
    "Getting the count of erros for each group of type and hour"
   ]
  },
  {
   "cell_type": "code",
   "execution_count": 53,
   "id": "29ff6604",
   "metadata": {},
   "outputs": [],
   "source": [
    "lightning_error_group = lightning_error.groupby(['TIMESTAMP_DERIVED_HOUR', 'UI_EVENT_SOURCE']).agg({'UI_EVENT_ID': 'count'})"
   ]
  },
  {
   "cell_type": "code",
   "execution_count": 54,
   "id": "0817c8a4",
   "metadata": {},
   "outputs": [
    {
     "data": {
      "text/html": [
       "<div>\n",
       "<style scoped>\n",
       "    .dataframe tbody tr th:only-of-type {\n",
       "        vertical-align: middle;\n",
       "    }\n",
       "\n",
       "    .dataframe tbody tr th {\n",
       "        vertical-align: top;\n",
       "    }\n",
       "\n",
       "    .dataframe thead th {\n",
       "        text-align: right;\n",
       "    }\n",
       "</style>\n",
       "<table border=\"1\" class=\"dataframe\">\n",
       "  <thead>\n",
       "    <tr style=\"text-align: right;\">\n",
       "      <th></th>\n",
       "      <th></th>\n",
       "      <th>UI_EVENT_ID</th>\n",
       "    </tr>\n",
       "    <tr>\n",
       "      <th>TIMESTAMP_DERIVED_HOUR</th>\n",
       "      <th>UI_EVENT_SOURCE</th>\n",
       "      <th></th>\n",
       "    </tr>\n",
       "  </thead>\n",
       "  <tbody>\n",
       "    <tr>\n",
       "      <th rowspan=\"3\" valign=\"top\">0</th>\n",
       "      <th>Error</th>\n",
       "      <td>98</td>\n",
       "    </tr>\n",
       "    <tr>\n",
       "      <th>RangeError</th>\n",
       "      <td>41</td>\n",
       "    </tr>\n",
       "    <tr>\n",
       "      <th>TypeError</th>\n",
       "      <td>22</td>\n",
       "    </tr>\n",
       "    <tr>\n",
       "      <th rowspan=\"2\" valign=\"top\">1</th>\n",
       "      <th>Error</th>\n",
       "      <td>171</td>\n",
       "    </tr>\n",
       "    <tr>\n",
       "      <th>RangeError</th>\n",
       "      <td>57</td>\n",
       "    </tr>\n",
       "    <tr>\n",
       "      <th>...</th>\n",
       "      <th>...</th>\n",
       "      <td>...</td>\n",
       "    </tr>\n",
       "    <tr>\n",
       "      <th rowspan=\"2\" valign=\"top\">22</th>\n",
       "      <th>Error</th>\n",
       "      <td>20</td>\n",
       "    </tr>\n",
       "    <tr>\n",
       "      <th>TypeError</th>\n",
       "      <td>120</td>\n",
       "    </tr>\n",
       "    <tr>\n",
       "      <th rowspan=\"3\" valign=\"top\">23</th>\n",
       "      <th>AuraError</th>\n",
       "      <td>2</td>\n",
       "    </tr>\n",
       "    <tr>\n",
       "      <th>Error</th>\n",
       "      <td>40</td>\n",
       "    </tr>\n",
       "    <tr>\n",
       "      <th>TypeError</th>\n",
       "      <td>41</td>\n",
       "    </tr>\n",
       "  </tbody>\n",
       "</table>\n",
       "<p>85 rows × 1 columns</p>\n",
       "</div>"
      ],
      "text/plain": [
       "                                        UI_EVENT_ID\n",
       "TIMESTAMP_DERIVED_HOUR UI_EVENT_SOURCE             \n",
       "0                      Error                     98\n",
       "                       RangeError                41\n",
       "                       TypeError                 22\n",
       "1                      Error                    171\n",
       "                       RangeError                57\n",
       "...                                             ...\n",
       "22                     Error                     20\n",
       "                       TypeError                120\n",
       "23                     AuraError                  2\n",
       "                       Error                     40\n",
       "                       TypeError                 41\n",
       "\n",
       "[85 rows x 1 columns]"
      ]
     },
     "execution_count": 54,
     "metadata": {},
     "output_type": "execute_result"
    }
   ],
   "source": [
    "lightning_error_group"
   ]
  },
  {
   "cell_type": "markdown",
   "id": "d09a3256",
   "metadata": {},
   "source": [
    "Reseting index"
   ]
  },
  {
   "cell_type": "code",
   "execution_count": 55,
   "id": "647333b4",
   "metadata": {},
   "outputs": [],
   "source": [
    "lightning_error_group = lightning_error_group.reset_index()"
   ]
  },
  {
   "cell_type": "markdown",
   "id": "43514481",
   "metadata": {},
   "source": [
    "Getting the data for the visualization"
   ]
  },
  {
   "cell_type": "code",
   "execution_count": 56,
   "id": "7321c4cf",
   "metadata": {},
   "outputs": [],
   "source": [
    "list_of_hour = lightning_error_group['TIMESTAMP_DERIVED_HOUR'].tolist()\n",
    "list_of_ui_event_source = lightning_error_group['UI_EVENT_SOURCE'].tolist()\n",
    "list_of_ui_event_id_count = lightning_error_group['UI_EVENT_ID'].tolist()"
   ]
  },
  {
   "cell_type": "markdown",
   "id": "88c61fba",
   "metadata": {},
   "source": [
    "Getting the result dictionary format"
   ]
  },
  {
   "cell_type": "code",
   "execution_count": 57,
   "id": "326298c1",
   "metadata": {},
   "outputs": [],
   "source": [
    "result = {}"
   ]
  },
  {
   "cell_type": "code",
   "execution_count": 58,
   "id": "3c6ce3b7",
   "metadata": {},
   "outputs": [],
   "source": [
    "def dictionary_format(list_types_of_erros, list_elements): \n",
    "    result = {}\n",
    "    \n",
    "    for element in list_elements:\n",
    "        result[element] = []\n",
    "        for i in range(len(list_types_of_erros)):\n",
    "            result[element].append(0)\n",
    "    \n",
    "    return result"
   ]
  },
  {
   "cell_type": "code",
   "execution_count": 59,
   "id": "e68af89c",
   "metadata": {},
   "outputs": [],
   "source": [
    "result = dictionary_format(top_error_types_by_peak_time_values, top_hours_values)"
   ]
  },
  {
   "cell_type": "code",
   "execution_count": 60,
   "id": "2df5a8bb",
   "metadata": {},
   "outputs": [
    {
     "data": {
      "text/plain": [
       "{5: [0, 0, 0, 0, 0],\n",
       " 6: [0, 0, 0, 0, 0],\n",
       " 7: [0, 0, 0, 0, 0],\n",
       " 8: [0, 0, 0, 0, 0],\n",
       " 9: [0, 0, 0, 0, 0]}"
      ]
     },
     "execution_count": 60,
     "metadata": {},
     "output_type": "execute_result"
    }
   ],
   "source": [
    "result"
   ]
  },
  {
   "cell_type": "markdown",
   "id": "c9288a16",
   "metadata": {},
   "source": [
    "Mapping the type of error to position"
   ]
  },
  {
   "cell_type": "code",
   "execution_count": 61,
   "id": "1deb4306",
   "metadata": {},
   "outputs": [],
   "source": [
    "map_types = {}"
   ]
  },
  {
   "cell_type": "code",
   "execution_count": 62,
   "id": "6cfa008f",
   "metadata": {},
   "outputs": [],
   "source": [
    "def mapping_type_to_position(list_types_of_erros):\n",
    "    for i in range(len(list_types_of_erros)):\n",
    "        map_types[list_types_of_erros[i]] = i"
   ]
  },
  {
   "cell_type": "code",
   "execution_count": 63,
   "id": "a69624bd",
   "metadata": {},
   "outputs": [],
   "source": [
    "mapping_type_to_position(top_error_types_by_peak_time_values)"
   ]
  },
  {
   "cell_type": "code",
   "execution_count": 64,
   "id": "a9345eb8",
   "metadata": {},
   "outputs": [
    {
     "data": {
      "text/plain": [
       "{'Error': 0,\n",
       " 'TypeError': 1,\n",
       " 'AuraError': 2,\n",
       " 'RangeError': 3,\n",
       " 'RequiredAiltnFieldsNotValid': 4}"
      ]
     },
     "execution_count": 64,
     "metadata": {},
     "output_type": "execute_result"
    }
   ],
   "source": [
    "map_types"
   ]
  },
  {
   "cell_type": "markdown",
   "id": "cdc8ae3d",
   "metadata": {},
   "source": [
    "Getting the amount of errors for each type and time"
   ]
  },
  {
   "cell_type": "code",
   "execution_count": 65,
   "id": "6df04dbd",
   "metadata": {},
   "outputs": [],
   "source": [
    "def get_amount(list_types, list_of_all_types, list_elements, list_of_all_elements):\n",
    "    for unique_type in list_types:\n",
    "        for i in range(len(list_of_all_types)):\n",
    "            if list_of_all_types[i] == unique_type:\n",
    "                if list_of_all_elements[i] in list_elements:\n",
    "                    result[list_of_all_elements[i]][map_types[unique_type]] += list_of_ui_event_id_count[i]"
   ]
  },
  {
   "cell_type": "code",
   "execution_count": 66,
   "id": "ad795478",
   "metadata": {},
   "outputs": [],
   "source": [
    "get_amount(top_error_types_by_peak_time_values, list_of_ui_event_source, top_hours_values, list_of_hour)"
   ]
  },
  {
   "cell_type": "code",
   "execution_count": 67,
   "id": "e578c3a1",
   "metadata": {},
   "outputs": [
    {
     "data": {
      "text/plain": [
       "{5: [382, 45, 7, 23, 5],\n",
       " 6: [410, 80, 0, 9, 1],\n",
       " 7: [456, 58, 87, 21, 6],\n",
       " 8: [384, 59, 1, 13, 0],\n",
       " 9: [308, 65, 53, 13, 0]}"
      ]
     },
     "execution_count": 67,
     "metadata": {},
     "output_type": "execute_result"
    }
   ],
   "source": [
    "result"
   ]
  },
  {
   "cell_type": "markdown",
   "id": "a0b8be29",
   "metadata": {},
   "source": [
    "Viewing the data"
   ]
  },
  {
   "cell_type": "code",
   "execution_count": 68,
   "id": "0e63e04b",
   "metadata": {},
   "outputs": [],
   "source": [
    "import numpy as np\n",
    "import matplotlib.pyplot as plt"
   ]
  },
  {
   "cell_type": "code",
   "execution_count": 69,
   "id": "7d24b2f9",
   "metadata": {},
   "outputs": [],
   "source": [
    "def survey(results, category_names):\n",
    "    labels = list(results.keys())\n",
    "    data = np.array(list(results.values()))\n",
    "    data_cum = data.cumsum(axis=1)\n",
    "    category_colors = plt.colormaps['RdYlGn'](\n",
    "        np.linspace(0.15, 0.85, data.shape[1]))\n",
    "\n",
    "    fig, ax = plt.subplots(figsize=(12, 7))\n",
    "    ax.invert_yaxis()\n",
    "    ax.xaxis.set_visible(False)\n",
    "    ax.set_xlim(0, np.sum(data, axis=1).max())\n",
    "\n",
    "    for i, (colname, color) in enumerate(zip(category_names, category_colors)):\n",
    "        widths = data[:, i]\n",
    "        starts = data_cum[:, i] - widths\n",
    "        rects = ax.barh(labels, widths, left=starts, height=0.5,\n",
    "                        label=colname, color=color)\n",
    "\n",
    "        r, g, b, _ = color\n",
    "        text_color = 'white' if r * g * b < 0.5 else 'darkgrey'\n",
    "        ax.bar_label(rects, label_type='center', color=text_color)\n",
    "    ax.legend(ncol=len(category_names), bbox_to_anchor=(0, 1),\n",
    "              loc='lower left', fontsize='small')\n",
    "\n",
    "    return fig, ax"
   ]
  },
  {
   "cell_type": "code",
   "execution_count": 70,
   "id": "c22b621d",
   "metadata": {},
   "outputs": [
    {
     "data": {
      "image/png": "[encoded data removed]",
      "text/plain": [
       "<Figure size 864x504 with 1 Axes>"
      ]
     },
     "metadata": {
      "needs_background": "light"
     },
     "output_type": "display_data"
    }
   ],
   "source": [
    "survey(result, top_error_types_by_peak_time_values)\n",
    "plt.ylabel(\"Hour\")\n",
    "plt.show()"
   ]
  },
  {
   "cell_type": "markdown",
   "id": "1be9095a",
   "metadata": {},
   "source": [
    "---"
   ]
  },
  {
   "cell_type": "markdown",
   "id": "ca13e9ee",
   "metadata": {},
   "source": [
    "## Analyzing types of errors by day"
   ]
  },
  {
   "cell_type": "markdown",
   "id": "07cdb51f",
   "metadata": {},
   "source": [
    "Getting the intervals"
   ]
  },
  {
   "cell_type": "code",
   "execution_count": 71,
   "id": "991169bf",
   "metadata": {},
   "outputs": [],
   "source": [
    "list_of_unique_hour = lightning_error_group['TIMESTAMP_DERIVED_HOUR'].unique()"
   ]
  },
  {
   "cell_type": "code",
   "execution_count": 72,
   "id": "356d3165",
   "metadata": {},
   "outputs": [],
   "source": [
    "number_of_intervals = 6"
   ]
  },
  {
   "cell_type": "code",
   "execution_count": 73,
   "id": "bee1e41e",
   "metadata": {},
   "outputs": [],
   "source": [
    "intervals = []\n",
    "\n",
    "initial = 0\n",
    "for i in range(number_of_intervals):\n",
    "    final = initial + (len(list_of_unique_hour)//number_of_intervals - 1)\n",
    "    intervals.append(f\"{initial}-{final}\")\n",
    "    initial = final + 1"
   ]
  },
  {
   "cell_type": "code",
   "execution_count": 74,
   "id": "b1ec926b",
   "metadata": {},
   "outputs": [],
   "source": [
    "intervals_dict = {}\n",
    "\n",
    "for interval in intervals:\n",
    "    interval_values = interval.split(\"-\")\n",
    "    intervals_dict[interval] = [i for i in range(int(interval_values[0]), int(interval_values[1]) + 1)]"
   ]
  },
  {
   "cell_type": "markdown",
   "id": "4104ed89",
   "metadata": {},
   "source": [
    "Getting the result dictionary format"
   ]
  },
  {
   "cell_type": "code",
   "execution_count": 75,
   "id": "79c160b4",
   "metadata": {},
   "outputs": [],
   "source": [
    "result = dictionary_format(top_error_types_by_day_values, intervals)"
   ]
  },
  {
   "cell_type": "code",
   "execution_count": 76,
   "id": "d26618d2",
   "metadata": {},
   "outputs": [
    {
     "data": {
      "text/plain": [
       "{'0-3': [0, 0, 0, 0, 0],\n",
       " '4-7': [0, 0, 0, 0, 0],\n",
       " '8-11': [0, 0, 0, 0, 0],\n",
       " '12-15': [0, 0, 0, 0, 0],\n",
       " '16-19': [0, 0, 0, 0, 0],\n",
       " '20-23': [0, 0, 0, 0, 0]}"
      ]
     },
     "execution_count": 76,
     "metadata": {},
     "output_type": "execute_result"
    }
   ],
   "source": [
    "result"
   ]
  },
  {
   "cell_type": "markdown",
   "id": "0193bbc2",
   "metadata": {},
   "source": [
    "Mapping the type of error to position"
   ]
  },
  {
   "cell_type": "code",
   "execution_count": 77,
   "id": "0199c8e5",
   "metadata": {},
   "outputs": [],
   "source": [
    "mapping_type_to_position(top_error_types_by_day_values)"
   ]
  },
  {
   "cell_type": "code",
   "execution_count": 78,
   "id": "05488f8d",
   "metadata": {},
   "outputs": [
    {
     "data": {
      "text/plain": [
       "{'Error': 0,\n",
       " 'TypeError': 1,\n",
       " 'AuraError': 3,\n",
       " 'RangeError': 2,\n",
       " 'RequiredAiltnFieldsNotValid': 4}"
      ]
     },
     "execution_count": 78,
     "metadata": {},
     "output_type": "execute_result"
    }
   ],
   "source": [
    "map_types"
   ]
  },
  {
   "cell_type": "markdown",
   "id": "cfe4dea2",
   "metadata": {},
   "source": [
    "Getting the amount of errors for each type and time"
   ]
  },
  {
   "cell_type": "code",
   "execution_count": 79,
   "id": "cbc13ef7",
   "metadata": {},
   "outputs": [],
   "source": [
    "def get_amount_intervals(list_types, list_of_all_types, intervals, intervals_dict):\n",
    "    for unique_type in list_types:\n",
    "        for i in range(len(list_of_all_types)):\n",
    "            if list_of_all_types[i] == unique_type:\n",
    "                for interval in intervals:\n",
    "                    if list_of_hour[i] in intervals_dict[interval]:\n",
    "                        result[interval][map_types[unique_type]] += list_of_ui_event_id_count[i]"
   ]
  },
  {
   "cell_type": "code",
   "execution_count": 80,
   "id": "54bb8b30",
   "metadata": {},
   "outputs": [],
   "source": [
    "get_amount_intervals(top_error_types_by_day_values, list_of_ui_event_source, intervals, intervals_dict)"
   ]
  },
  {
   "cell_type": "code",
   "execution_count": 81,
   "id": "5f512df5",
   "metadata": {},
   "outputs": [
    {
     "data": {
      "text/plain": [
       "{'0-3': [733, 51, 132, 0, 1],\n",
       " '4-7': [1464, 189, 59, 95, 14],\n",
       " '8-11': [969, 413, 26, 54, 1],\n",
       " '12-15': [313, 1033, 1, 16, 0],\n",
       " '16-19': [130, 949, 0, 4, 1],\n",
       " '20-23': [100, 486, 0, 2, 0]}"
      ]
     },
     "execution_count": 81,
     "metadata": {},
     "output_type": "execute_result"
    }
   ],
   "source": [
    "result"
   ]
  },
  {
   "cell_type": "markdown",
   "id": "21135c8a",
   "metadata": {},
   "source": [
    "Viewing the data"
   ]
  },
  {
   "cell_type": "code",
   "execution_count": 82,
   "id": "144feb81",
   "metadata": {
    "scrolled": true
   },
   "outputs": [
    {
     "data": {
      "image/png": "[encoded data removed]",
      "text/plain": [
       "<Figure size 864x504 with 1 Axes>"
      ]
     },
     "metadata": {
      "needs_background": "light"
     },
     "output_type": "display_data"
    }
   ],
   "source": [
    "survey(result, top_error_types_by_day_values)\n",
    "plt.ylabel(\"Time Interval\")\n",
    "plt.show()"
   ]
  },
  {
   "cell_type": "markdown",
   "id": "72f37b6e",
   "metadata": {},
   "source": [
    "---"
   ]
  },
  {
   "cell_type": "markdown",
   "id": "bc8dc642",
   "metadata": {},
   "source": [
    "## Analyzing the most common pages that generate more errors by day"
   ]
  },
  {
   "cell_type": "markdown",
   "id": "f51b15a6",
   "metadata": {},
   "source": [
    "Getting the count of erros for each page"
   ]
  },
  {
   "cell_type": "code",
   "execution_count": 83,
   "id": "02e564f1",
   "metadata": {},
   "outputs": [],
   "source": [
    "lightning_error_group = lightning_error.groupby(['PAGE_ENTITY_TYPE']).agg({'UI_EVENT_ID': 'count'})"
   ]
  },
  {
   "cell_type": "code",
   "execution_count": 84,
   "id": "28c8ff21",
   "metadata": {},
   "outputs": [
    {
     "data": {
      "text/plain": [
       "(29, 1)"
      ]
     },
     "execution_count": 84,
     "metadata": {},
     "output_type": "execute_result"
    }
   ],
   "source": [
    "lightning_error_group.shape"
   ]
  },
  {
   "cell_type": "markdown",
   "id": "5d4b1c3f",
   "metadata": {},
   "source": [
    "Renaming the column of ***UI_EVENT_ID*** to ***UI_EVENT_ID_COUNT***"
   ]
  },
  {
   "cell_type": "code",
   "execution_count": 85,
   "id": "2674cd31",
   "metadata": {},
   "outputs": [],
   "source": [
    "lightning_error_group.rename(columns={'UI_EVENT_ID': 'UI_EVENT_ID_COUNT'}, inplace = True)"
   ]
  },
  {
   "cell_type": "code",
   "execution_count": 86,
   "id": "52402959",
   "metadata": {},
   "outputs": [
    {
     "data": {
      "text/html": [
       "<div>\n",
       "<style scoped>\n",
       "    .dataframe tbody tr th:only-of-type {\n",
       "        vertical-align: middle;\n",
       "    }\n",
       "\n",
       "    .dataframe tbody tr th {\n",
       "        vertical-align: top;\n",
       "    }\n",
       "\n",
       "    .dataframe thead th {\n",
       "        text-align: right;\n",
       "    }\n",
       "</style>\n",
       "<table border=\"1\" class=\"dataframe\">\n",
       "  <thead>\n",
       "    <tr style=\"text-align: right;\">\n",
       "      <th></th>\n",
       "      <th>UI_EVENT_ID_COUNT</th>\n",
       "    </tr>\n",
       "    <tr>\n",
       "      <th>PAGE_ENTITY_TYPE</th>\n",
       "      <th></th>\n",
       "    </tr>\n",
       "  </thead>\n",
       "  <tbody>\n",
       "    <tr>\n",
       "      <th>Account</th>\n",
       "      <td>4</td>\n",
       "    </tr>\n",
       "    <tr>\n",
       "      <th>Asset</th>\n",
       "      <td>83</td>\n",
       "    </tr>\n",
       "    <tr>\n",
       "      <th>Call_Transcript__c</th>\n",
       "      <td>184</td>\n",
       "    </tr>\n",
       "    <tr>\n",
       "      <th>Case</th>\n",
       "      <td>2260</td>\n",
       "    </tr>\n",
       "    <tr>\n",
       "      <th>Cases</th>\n",
       "      <td>2</td>\n",
       "    </tr>\n",
       "    <tr>\n",
       "      <th>Contact</th>\n",
       "      <td>42</td>\n",
       "    </tr>\n",
       "    <tr>\n",
       "      <th>ContentDocument</th>\n",
       "      <td>2</td>\n",
       "    </tr>\n",
       "    <tr>\n",
       "      <th>Dashboard</th>\n",
       "      <td>1</td>\n",
       "    </tr>\n",
       "    <tr>\n",
       "      <th>DispatchInstruction__c</th>\n",
       "      <td>6</td>\n",
       "    </tr>\n",
       "    <tr>\n",
       "      <th>DispatchPendingApproval__c</th>\n",
       "      <td>2271</td>\n",
       "    </tr>\n",
       "    <tr>\n",
       "      <th>EmailMessage</th>\n",
       "      <td>4</td>\n",
       "    </tr>\n",
       "    <tr>\n",
       "      <th>EmailTemplate</th>\n",
       "      <td>1</td>\n",
       "    </tr>\n",
       "    <tr>\n",
       "      <th>Instructions__r</th>\n",
       "      <td>13</td>\n",
       "    </tr>\n",
       "    <tr>\n",
       "      <th>Lightning_Knowledge__ka</th>\n",
       "      <td>3</td>\n",
       "    </tr>\n",
       "    <tr>\n",
       "      <th>Lightning_Knowledge__kav</th>\n",
       "      <td>69</td>\n",
       "    </tr>\n",
       "    <tr>\n",
       "      <th>LiveChatTranscript</th>\n",
       "      <td>127</td>\n",
       "    </tr>\n",
       "    <tr>\n",
       "      <th>Order</th>\n",
       "      <td>2</td>\n",
       "    </tr>\n",
       "    <tr>\n",
       "      <th>Order_Products__r</th>\n",
       "      <td>2</td>\n",
       "    </tr>\n",
       "    <tr>\n",
       "      <th>QuickText</th>\n",
       "      <td>1</td>\n",
       "    </tr>\n",
       "    <tr>\n",
       "      <th>Report</th>\n",
       "      <td>372</td>\n",
       "    </tr>\n",
       "    <tr>\n",
       "      <th>ServiceAppointment</th>\n",
       "      <td>2</td>\n",
       "    </tr>\n",
       "    <tr>\n",
       "      <th>Task</th>\n",
       "      <td>128</td>\n",
       "    </tr>\n",
       "    <tr>\n",
       "      <th>User</th>\n",
       "      <td>10</td>\n",
       "    </tr>\n",
       "    <tr>\n",
       "      <th>WorkOrder</th>\n",
       "      <td>890</td>\n",
       "    </tr>\n",
       "    <tr>\n",
       "      <th>WorkOrders</th>\n",
       "      <td>4</td>\n",
       "    </tr>\n",
       "    <tr>\n",
       "      <th>pse__Proj__c</th>\n",
       "      <td>7</td>\n",
       "    </tr>\n",
       "    <tr>\n",
       "      <th>public_flowlog__r</th>\n",
       "      <td>2</td>\n",
       "    </tr>\n",
       "    <tr>\n",
       "      <th>public_flowlog__x</th>\n",
       "      <td>2</td>\n",
       "    </tr>\n",
       "    <tr>\n",
       "      <th>unknown</th>\n",
       "      <td>119</td>\n",
       "    </tr>\n",
       "  </tbody>\n",
       "</table>\n",
       "</div>"
      ],
      "text/plain": [
       "                            UI_EVENT_ID_COUNT\n",
       "PAGE_ENTITY_TYPE                             \n",
       "Account                                     4\n",
       "Asset                                      83\n",
       "Call_Transcript__c                        184\n",
       "Case                                     2260\n",
       "Cases                                       2\n",
       "Contact                                    42\n",
       "ContentDocument                             2\n",
       "Dashboard                                   1\n",
       "DispatchInstruction__c                      6\n",
       "DispatchPendingApproval__c               2271\n",
       "EmailMessage                                4\n",
       "EmailTemplate                               1\n",
       "Instructions__r                            13\n",
       "Lightning_Knowledge__ka                     3\n",
       "Lightning_Knowledge__kav                   69\n",
       "LiveChatTranscript                        127\n",
       "Order                                       2\n",
       "Order_Products__r                           2\n",
       "QuickText                                   1\n",
       "Report                                    372\n",
       "ServiceAppointment                          2\n",
       "Task                                      128\n",
       "User                                       10\n",
       "WorkOrder                                 890\n",
       "WorkOrders                                  4\n",
       "pse__Proj__c                                7\n",
       "public_flowlog__r                           2\n",
       "public_flowlog__x                           2\n",
       "unknown                                   119"
      ]
     },
     "execution_count": 86,
     "metadata": {},
     "output_type": "execute_result"
    }
   ],
   "source": [
    "lightning_error_group"
   ]
  },
  {
   "cell_type": "markdown",
   "id": "806f9a10",
   "metadata": {},
   "source": [
    "Sorting the data by ***UI_EVENT_ID_COUNT***"
   ]
  },
  {
   "cell_type": "code",
   "execution_count": 87,
   "id": "b5a1a43f",
   "metadata": {},
   "outputs": [],
   "source": [
    "lightning_error_group = lightning_error_group.sort_values(by=['UI_EVENT_ID_COUNT'], ascending=False)"
   ]
  },
  {
   "cell_type": "code",
   "execution_count": 88,
   "id": "ccb2314c",
   "metadata": {},
   "outputs": [
    {
     "data": {
      "text/html": [
       "<div>\n",
       "<style scoped>\n",
       "    .dataframe tbody tr th:only-of-type {\n",
       "        vertical-align: middle;\n",
       "    }\n",
       "\n",
       "    .dataframe tbody tr th {\n",
       "        vertical-align: top;\n",
       "    }\n",
       "\n",
       "    .dataframe thead th {\n",
       "        text-align: right;\n",
       "    }\n",
       "</style>\n",
       "<table border=\"1\" class=\"dataframe\">\n",
       "  <thead>\n",
       "    <tr style=\"text-align: right;\">\n",
       "      <th></th>\n",
       "      <th>UI_EVENT_ID_COUNT</th>\n",
       "    </tr>\n",
       "    <tr>\n",
       "      <th>PAGE_ENTITY_TYPE</th>\n",
       "      <th></th>\n",
       "    </tr>\n",
       "  </thead>\n",
       "  <tbody>\n",
       "    <tr>\n",
       "      <th>DispatchPendingApproval__c</th>\n",
       "      <td>2271</td>\n",
       "    </tr>\n",
       "    <tr>\n",
       "      <th>Case</th>\n",
       "      <td>2260</td>\n",
       "    </tr>\n",
       "    <tr>\n",
       "      <th>WorkOrder</th>\n",
       "      <td>890</td>\n",
       "    </tr>\n",
       "    <tr>\n",
       "      <th>Report</th>\n",
       "      <td>372</td>\n",
       "    </tr>\n",
       "    <tr>\n",
       "      <th>Call_Transcript__c</th>\n",
       "      <td>184</td>\n",
       "    </tr>\n",
       "    <tr>\n",
       "      <th>Task</th>\n",
       "      <td>128</td>\n",
       "    </tr>\n",
       "    <tr>\n",
       "      <th>LiveChatTranscript</th>\n",
       "      <td>127</td>\n",
       "    </tr>\n",
       "    <tr>\n",
       "      <th>unknown</th>\n",
       "      <td>119</td>\n",
       "    </tr>\n",
       "    <tr>\n",
       "      <th>Asset</th>\n",
       "      <td>83</td>\n",
       "    </tr>\n",
       "    <tr>\n",
       "      <th>Lightning_Knowledge__kav</th>\n",
       "      <td>69</td>\n",
       "    </tr>\n",
       "    <tr>\n",
       "      <th>Contact</th>\n",
       "      <td>42</td>\n",
       "    </tr>\n",
       "    <tr>\n",
       "      <th>Instructions__r</th>\n",
       "      <td>13</td>\n",
       "    </tr>\n",
       "    <tr>\n",
       "      <th>User</th>\n",
       "      <td>10</td>\n",
       "    </tr>\n",
       "    <tr>\n",
       "      <th>pse__Proj__c</th>\n",
       "      <td>7</td>\n",
       "    </tr>\n",
       "    <tr>\n",
       "      <th>DispatchInstruction__c</th>\n",
       "      <td>6</td>\n",
       "    </tr>\n",
       "    <tr>\n",
       "      <th>EmailMessage</th>\n",
       "      <td>4</td>\n",
       "    </tr>\n",
       "    <tr>\n",
       "      <th>WorkOrders</th>\n",
       "      <td>4</td>\n",
       "    </tr>\n",
       "    <tr>\n",
       "      <th>Account</th>\n",
       "      <td>4</td>\n",
       "    </tr>\n",
       "    <tr>\n",
       "      <th>Lightning_Knowledge__ka</th>\n",
       "      <td>3</td>\n",
       "    </tr>\n",
       "    <tr>\n",
       "      <th>ServiceAppointment</th>\n",
       "      <td>2</td>\n",
       "    </tr>\n",
       "    <tr>\n",
       "      <th>Order_Products__r</th>\n",
       "      <td>2</td>\n",
       "    </tr>\n",
       "    <tr>\n",
       "      <th>Order</th>\n",
       "      <td>2</td>\n",
       "    </tr>\n",
       "    <tr>\n",
       "      <th>Cases</th>\n",
       "      <td>2</td>\n",
       "    </tr>\n",
       "    <tr>\n",
       "      <th>public_flowlog__r</th>\n",
       "      <td>2</td>\n",
       "    </tr>\n",
       "    <tr>\n",
       "      <th>public_flowlog__x</th>\n",
       "      <td>2</td>\n",
       "    </tr>\n",
       "    <tr>\n",
       "      <th>ContentDocument</th>\n",
       "      <td>2</td>\n",
       "    </tr>\n",
       "    <tr>\n",
       "      <th>QuickText</th>\n",
       "      <td>1</td>\n",
       "    </tr>\n",
       "    <tr>\n",
       "      <th>EmailTemplate</th>\n",
       "      <td>1</td>\n",
       "    </tr>\n",
       "    <tr>\n",
       "      <th>Dashboard</th>\n",
       "      <td>1</td>\n",
       "    </tr>\n",
       "  </tbody>\n",
       "</table>\n",
       "</div>"
      ],
      "text/plain": [
       "                            UI_EVENT_ID_COUNT\n",
       "PAGE_ENTITY_TYPE                             \n",
       "DispatchPendingApproval__c               2271\n",
       "Case                                     2260\n",
       "WorkOrder                                 890\n",
       "Report                                    372\n",
       "Call_Transcript__c                        184\n",
       "Task                                      128\n",
       "LiveChatTranscript                        127\n",
       "unknown                                   119\n",
       "Asset                                      83\n",
       "Lightning_Knowledge__kav                   69\n",
       "Contact                                    42\n",
       "Instructions__r                            13\n",
       "User                                       10\n",
       "pse__Proj__c                                7\n",
       "DispatchInstruction__c                      6\n",
       "EmailMessage                                4\n",
       "WorkOrders                                  4\n",
       "Account                                     4\n",
       "Lightning_Knowledge__ka                     3\n",
       "ServiceAppointment                          2\n",
       "Order_Products__r                           2\n",
       "Order                                       2\n",
       "Cases                                       2\n",
       "public_flowlog__r                           2\n",
       "public_flowlog__x                           2\n",
       "ContentDocument                             2\n",
       "QuickText                                   1\n",
       "EmailTemplate                               1\n",
       "Dashboard                                   1"
      ]
     },
     "execution_count": 88,
     "metadata": {},
     "output_type": "execute_result"
    }
   ],
   "source": [
    "lightning_error_group"
   ]
  },
  {
   "cell_type": "markdown",
   "id": "88d98581",
   "metadata": {},
   "source": [
    "Viewing the data"
   ]
  },
  {
   "cell_type": "code",
   "execution_count": 89,
   "id": "223c3103",
   "metadata": {},
   "outputs": [
    {
     "data": {
      "text/plain": [
       "Text(0.5, 1.0, 'Page Entity Type that appear the most during the day')"
      ]
     },
     "execution_count": 89,
     "metadata": {},
     "output_type": "execute_result"
    },
    {
     "data": {
      "image/png": "[encoded data removed]",
      "text/plain": [
       "<Figure size 720x432 with 1 Axes>"
      ]
     },
     "metadata": {
      "needs_background": "light"
     },
     "output_type": "display_data"
    }
   ],
   "source": [
    "number_of_page_entity_type = 12\n",
    "\n",
    "graph = lightning_error_group.head(number_of_page_entity_type).plot.barh(figsize=(10, 6))\n",
    "graph.set_ylabel('Page Entity Types')\n",
    "graph.set_xlabel('Count')\n",
    "graph.set_title('Page Entity Type that appear the most during the day')"
   ]
  },
  {
   "cell_type": "code",
   "execution_count": 90,
   "id": "f063a667",
   "metadata": {},
   "outputs": [
    {
     "name": "stdout",
     "output_type": "stream",
     "text": [
      "2 type(s) of errors appear more than a thousand times\n",
      "6 type(s) appear between a hundred and a thousand times\n",
      "The others appear less than a hundred times, being 16 of them less than 10 times\n"
     ]
    }
   ],
   "source": [
    "page_entity_types_above_1000 = len(lightning_error_group[lightning_error_group['UI_EVENT_ID_COUNT']>1000])\n",
    "page_entity_types_above_100 = len(lightning_error_group[lightning_error_group['UI_EVENT_ID_COUNT']>100])\n",
    "page_entity_types_below_10 = len(lightning_error_group[lightning_error_group['UI_EVENT_ID_COUNT']< 10])\n",
    "\n",
    "print(f\"\"\"{page_entity_types_above_1000} type(s) of errors appear more than a thousand times\n",
    "{page_entity_types_above_100 - page_entity_types_above_1000} type(s) appear between a hundred and a thousand times\n",
    "The others appear less than a hundred times, being {page_entity_types_below_10} of them less than 10 times\"\"\")"
   ]
  },
  {
   "cell_type": "markdown",
   "id": "bdf07796",
   "metadata": {},
   "source": [
    "### Getting top pages type by day"
   ]
  },
  {
   "cell_type": "code",
   "execution_count": 91,
   "id": "fdf697ed",
   "metadata": {},
   "outputs": [],
   "source": [
    "number_of_top_page_entity_type = 5\n",
    "\n",
    "top_page_entity_type_by_day = lightning_error_group.head(number_of_top_page_entity_type)"
   ]
  },
  {
   "cell_type": "code",
   "execution_count": 92,
   "id": "1d4023d8",
   "metadata": {
    "scrolled": true
   },
   "outputs": [
    {
     "data": {
      "text/html": [
       "<div>\n",
       "<style scoped>\n",
       "    .dataframe tbody tr th:only-of-type {\n",
       "        vertical-align: middle;\n",
       "    }\n",
       "\n",
       "    .dataframe tbody tr th {\n",
       "        vertical-align: top;\n",
       "    }\n",
       "\n",
       "    .dataframe thead th {\n",
       "        text-align: right;\n",
       "    }\n",
       "</style>\n",
       "<table border=\"1\" class=\"dataframe\">\n",
       "  <thead>\n",
       "    <tr style=\"text-align: right;\">\n",
       "      <th></th>\n",
       "      <th>UI_EVENT_ID_COUNT</th>\n",
       "    </tr>\n",
       "    <tr>\n",
       "      <th>PAGE_ENTITY_TYPE</th>\n",
       "      <th></th>\n",
       "    </tr>\n",
       "  </thead>\n",
       "  <tbody>\n",
       "    <tr>\n",
       "      <th>DispatchPendingApproval__c</th>\n",
       "      <td>2271</td>\n",
       "    </tr>\n",
       "    <tr>\n",
       "      <th>Case</th>\n",
       "      <td>2260</td>\n",
       "    </tr>\n",
       "    <tr>\n",
       "      <th>WorkOrder</th>\n",
       "      <td>890</td>\n",
       "    </tr>\n",
       "    <tr>\n",
       "      <th>Report</th>\n",
       "      <td>372</td>\n",
       "    </tr>\n",
       "    <tr>\n",
       "      <th>Call_Transcript__c</th>\n",
       "      <td>184</td>\n",
       "    </tr>\n",
       "  </tbody>\n",
       "</table>\n",
       "</div>"
      ],
      "text/plain": [
       "                            UI_EVENT_ID_COUNT\n",
       "PAGE_ENTITY_TYPE                             \n",
       "DispatchPendingApproval__c               2271\n",
       "Case                                     2260\n",
       "WorkOrder                                 890\n",
       "Report                                    372\n",
       "Call_Transcript__c                        184"
      ]
     },
     "execution_count": 92,
     "metadata": {},
     "output_type": "execute_result"
    }
   ],
   "source": [
    "top_page_entity_type_by_day"
   ]
  },
  {
   "cell_type": "markdown",
   "id": "90dfb208",
   "metadata": {},
   "source": [
    "Reseting index"
   ]
  },
  {
   "cell_type": "code",
   "execution_count": 93,
   "id": "b05964fa",
   "metadata": {},
   "outputs": [],
   "source": [
    "top_page_entity_type_by_day = top_page_entity_type_by_day.reset_index()"
   ]
  },
  {
   "cell_type": "code",
   "execution_count": 94,
   "id": "11411e9d",
   "metadata": {},
   "outputs": [
    {
     "data": {
      "text/html": [
       "<div>\n",
       "<style scoped>\n",
       "    .dataframe tbody tr th:only-of-type {\n",
       "        vertical-align: middle;\n",
       "    }\n",
       "\n",
       "    .dataframe tbody tr th {\n",
       "        vertical-align: top;\n",
       "    }\n",
       "\n",
       "    .dataframe thead th {\n",
       "        text-align: right;\n",
       "    }\n",
       "</style>\n",
       "<table border=\"1\" class=\"dataframe\">\n",
       "  <thead>\n",
       "    <tr style=\"text-align: right;\">\n",
       "      <th></th>\n",
       "      <th>PAGE_ENTITY_TYPE</th>\n",
       "      <th>UI_EVENT_ID_COUNT</th>\n",
       "    </tr>\n",
       "  </thead>\n",
       "  <tbody>\n",
       "    <tr>\n",
       "      <th>0</th>\n",
       "      <td>DispatchPendingApproval__c</td>\n",
       "      <td>2271</td>\n",
       "    </tr>\n",
       "    <tr>\n",
       "      <th>1</th>\n",
       "      <td>Case</td>\n",
       "      <td>2260</td>\n",
       "    </tr>\n",
       "    <tr>\n",
       "      <th>2</th>\n",
       "      <td>WorkOrder</td>\n",
       "      <td>890</td>\n",
       "    </tr>\n",
       "    <tr>\n",
       "      <th>3</th>\n",
       "      <td>Report</td>\n",
       "      <td>372</td>\n",
       "    </tr>\n",
       "    <tr>\n",
       "      <th>4</th>\n",
       "      <td>Call_Transcript__c</td>\n",
       "      <td>184</td>\n",
       "    </tr>\n",
       "  </tbody>\n",
       "</table>\n",
       "</div>"
      ],
      "text/plain": [
       "             PAGE_ENTITY_TYPE  UI_EVENT_ID_COUNT\n",
       "0  DispatchPendingApproval__c               2271\n",
       "1                        Case               2260\n",
       "2                   WorkOrder                890\n",
       "3                      Report                372\n",
       "4          Call_Transcript__c                184"
      ]
     },
     "execution_count": 94,
     "metadata": {},
     "output_type": "execute_result"
    }
   ],
   "source": [
    "top_page_entity_type_by_day"
   ]
  },
  {
   "cell_type": "markdown",
   "id": "0c92a1b8",
   "metadata": {},
   "source": [
    "Result"
   ]
  },
  {
   "cell_type": "code",
   "execution_count": 95,
   "id": "606c1178",
   "metadata": {},
   "outputs": [
    {
     "name": "stdout",
     "output_type": "stream",
     "text": [
      "The top 5 PAGE_ENTITY_TYPE by day are: \n",
      "1 - DispatchPendingApproval__c\n",
      "2 - Case\n",
      "3 - WorkOrder\n",
      "4 - Report\n",
      "5 - Call_Transcript__c\n"
     ]
    }
   ],
   "source": [
    "top_page_entity_type_by_day_values = []\n",
    "\n",
    "print(f\"The top {number_of_top_page_entity_type} PAGE_ENTITY_TYPE by day are: \")\n",
    "\n",
    "for i in top_page_entity_type_by_day.index:\n",
    "    value = top_page_entity_type_by_day['PAGE_ENTITY_TYPE'][i]\n",
    "    \n",
    "    top_page_entity_type_by_day_values.append(value)\n",
    "    \n",
    "    print(f\"{i + 1} - {value}\")"
   ]
  },
  {
   "cell_type": "markdown",
   "id": "67bd01aa",
   "metadata": {},
   "source": [
    "---"
   ]
  },
  {
   "cell_type": "markdown",
   "id": "e9acc0b4",
   "metadata": {},
   "source": [
    "## Analyzing the most common pages that generate more errors by peak time"
   ]
  },
  {
   "cell_type": "markdown",
   "id": "05d1c96f",
   "metadata": {},
   "source": [
    "Grouping by ***PAGE_ENTITY_TYPE***"
   ]
  },
  {
   "cell_type": "code",
   "execution_count": 96,
   "id": "a96385f2",
   "metadata": {},
   "outputs": [],
   "source": [
    "filtered_lightning_error_group = filtered_lightning_error.groupby(['PAGE_ENTITY_TYPE']).agg({'UI_EVENT_ID': 'count'})"
   ]
  },
  {
   "cell_type": "code",
   "execution_count": 97,
   "id": "b61463c0",
   "metadata": {},
   "outputs": [
    {
     "data": {
      "text/plain": [
       "(16, 1)"
      ]
     },
     "execution_count": 97,
     "metadata": {},
     "output_type": "execute_result"
    }
   ],
   "source": [
    "filtered_lightning_error_group.shape"
   ]
  },
  {
   "cell_type": "code",
   "execution_count": 98,
   "id": "e08d36e2",
   "metadata": {},
   "outputs": [
    {
     "data": {
      "text/html": [
       "<div>\n",
       "<style scoped>\n",
       "    .dataframe tbody tr th:only-of-type {\n",
       "        vertical-align: middle;\n",
       "    }\n",
       "\n",
       "    .dataframe tbody tr th {\n",
       "        vertical-align: top;\n",
       "    }\n",
       "\n",
       "    .dataframe thead th {\n",
       "        text-align: right;\n",
       "    }\n",
       "</style>\n",
       "<table border=\"1\" class=\"dataframe\">\n",
       "  <thead>\n",
       "    <tr style=\"text-align: right;\">\n",
       "      <th></th>\n",
       "      <th>UI_EVENT_ID</th>\n",
       "    </tr>\n",
       "    <tr>\n",
       "      <th>PAGE_ENTITY_TYPE</th>\n",
       "      <th></th>\n",
       "    </tr>\n",
       "  </thead>\n",
       "  <tbody>\n",
       "    <tr>\n",
       "      <th>Account</th>\n",
       "      <td>1</td>\n",
       "    </tr>\n",
       "    <tr>\n",
       "      <th>Asset</th>\n",
       "      <td>17</td>\n",
       "    </tr>\n",
       "    <tr>\n",
       "      <th>Call_Transcript__c</th>\n",
       "      <td>12</td>\n",
       "    </tr>\n",
       "    <tr>\n",
       "      <th>Case</th>\n",
       "      <td>356</td>\n",
       "    </tr>\n",
       "    <tr>\n",
       "      <th>DispatchInstruction__c</th>\n",
       "      <td>3</td>\n",
       "    </tr>\n",
       "    <tr>\n",
       "      <th>DispatchPendingApproval__c</th>\n",
       "      <td>1256</td>\n",
       "    </tr>\n",
       "    <tr>\n",
       "      <th>Instructions__r</th>\n",
       "      <td>7</td>\n",
       "    </tr>\n",
       "    <tr>\n",
       "      <th>Lightning_Knowledge__ka</th>\n",
       "      <td>1</td>\n",
       "    </tr>\n",
       "    <tr>\n",
       "      <th>Lightning_Knowledge__kav</th>\n",
       "      <td>37</td>\n",
       "    </tr>\n",
       "    <tr>\n",
       "      <th>LiveChatTranscript</th>\n",
       "      <td>52</td>\n",
       "    </tr>\n",
       "    <tr>\n",
       "      <th>Report</th>\n",
       "      <td>164</td>\n",
       "    </tr>\n",
       "    <tr>\n",
       "      <th>Task</th>\n",
       "      <td>23</td>\n",
       "    </tr>\n",
       "    <tr>\n",
       "      <th>WorkOrder</th>\n",
       "      <td>325</td>\n",
       "    </tr>\n",
       "    <tr>\n",
       "      <th>pse__Proj__c</th>\n",
       "      <td>5</td>\n",
       "    </tr>\n",
       "    <tr>\n",
       "      <th>public_flowlog__x</th>\n",
       "      <td>1</td>\n",
       "    </tr>\n",
       "    <tr>\n",
       "      <th>unknown</th>\n",
       "      <td>2</td>\n",
       "    </tr>\n",
       "  </tbody>\n",
       "</table>\n",
       "</div>"
      ],
      "text/plain": [
       "                            UI_EVENT_ID\n",
       "PAGE_ENTITY_TYPE                       \n",
       "Account                               1\n",
       "Asset                                17\n",
       "Call_Transcript__c                   12\n",
       "Case                                356\n",
       "DispatchInstruction__c                3\n",
       "DispatchPendingApproval__c         1256\n",
       "Instructions__r                       7\n",
       "Lightning_Knowledge__ka               1\n",
       "Lightning_Knowledge__kav             37\n",
       "LiveChatTranscript                   52\n",
       "Report                              164\n",
       "Task                                 23\n",
       "WorkOrder                           325\n",
       "pse__Proj__c                          5\n",
       "public_flowlog__x                     1\n",
       "unknown                               2"
      ]
     },
     "execution_count": 98,
     "metadata": {},
     "output_type": "execute_result"
    }
   ],
   "source": [
    "filtered_lightning_error_group"
   ]
  },
  {
   "cell_type": "markdown",
   "id": "c7a6e4a0",
   "metadata": {},
   "source": [
    "Renaming the column of ***UI_EVENT_ID*** to ***UI_EVENT_ID_COUNT***"
   ]
  },
  {
   "cell_type": "code",
   "execution_count": 99,
   "id": "465c44a1",
   "metadata": {},
   "outputs": [],
   "source": [
    "filtered_lightning_error_group.rename(columns={'UI_EVENT_ID': 'UI_EVENT_ID_COUNT'}, inplace = True)"
   ]
  },
  {
   "cell_type": "markdown",
   "id": "0420ed06",
   "metadata": {},
   "source": [
    "Sorting by ***UI_EVENT_ID_COUNT***"
   ]
  },
  {
   "cell_type": "code",
   "execution_count": 100,
   "id": "736e9a02",
   "metadata": {},
   "outputs": [],
   "source": [
    "filtered_lightning_error_group_sorted = filtered_lightning_error_group.sort_values(by=['UI_EVENT_ID_COUNT'], ascending=False)"
   ]
  },
  {
   "cell_type": "code",
   "execution_count": 101,
   "id": "ae780961",
   "metadata": {},
   "outputs": [
    {
     "data": {
      "text/html": [
       "<div>\n",
       "<style scoped>\n",
       "    .dataframe tbody tr th:only-of-type {\n",
       "        vertical-align: middle;\n",
       "    }\n",
       "\n",
       "    .dataframe tbody tr th {\n",
       "        vertical-align: top;\n",
       "    }\n",
       "\n",
       "    .dataframe thead th {\n",
       "        text-align: right;\n",
       "    }\n",
       "</style>\n",
       "<table border=\"1\" class=\"dataframe\">\n",
       "  <thead>\n",
       "    <tr style=\"text-align: right;\">\n",
       "      <th></th>\n",
       "      <th>UI_EVENT_ID_COUNT</th>\n",
       "    </tr>\n",
       "    <tr>\n",
       "      <th>PAGE_ENTITY_TYPE</th>\n",
       "      <th></th>\n",
       "    </tr>\n",
       "  </thead>\n",
       "  <tbody>\n",
       "    <tr>\n",
       "      <th>DispatchPendingApproval__c</th>\n",
       "      <td>1256</td>\n",
       "    </tr>\n",
       "    <tr>\n",
       "      <th>Case</th>\n",
       "      <td>356</td>\n",
       "    </tr>\n",
       "    <tr>\n",
       "      <th>WorkOrder</th>\n",
       "      <td>325</td>\n",
       "    </tr>\n",
       "    <tr>\n",
       "      <th>Report</th>\n",
       "      <td>164</td>\n",
       "    </tr>\n",
       "    <tr>\n",
       "      <th>LiveChatTranscript</th>\n",
       "      <td>52</td>\n",
       "    </tr>\n",
       "    <tr>\n",
       "      <th>Lightning_Knowledge__kav</th>\n",
       "      <td>37</td>\n",
       "    </tr>\n",
       "    <tr>\n",
       "      <th>Task</th>\n",
       "      <td>23</td>\n",
       "    </tr>\n",
       "    <tr>\n",
       "      <th>Asset</th>\n",
       "      <td>17</td>\n",
       "    </tr>\n",
       "    <tr>\n",
       "      <th>Call_Transcript__c</th>\n",
       "      <td>12</td>\n",
       "    </tr>\n",
       "    <tr>\n",
       "      <th>Instructions__r</th>\n",
       "      <td>7</td>\n",
       "    </tr>\n",
       "    <tr>\n",
       "      <th>pse__Proj__c</th>\n",
       "      <td>5</td>\n",
       "    </tr>\n",
       "    <tr>\n",
       "      <th>DispatchInstruction__c</th>\n",
       "      <td>3</td>\n",
       "    </tr>\n",
       "    <tr>\n",
       "      <th>unknown</th>\n",
       "      <td>2</td>\n",
       "    </tr>\n",
       "    <tr>\n",
       "      <th>Account</th>\n",
       "      <td>1</td>\n",
       "    </tr>\n",
       "    <tr>\n",
       "      <th>Lightning_Knowledge__ka</th>\n",
       "      <td>1</td>\n",
       "    </tr>\n",
       "    <tr>\n",
       "      <th>public_flowlog__x</th>\n",
       "      <td>1</td>\n",
       "    </tr>\n",
       "  </tbody>\n",
       "</table>\n",
       "</div>"
      ],
      "text/plain": [
       "                            UI_EVENT_ID_COUNT\n",
       "PAGE_ENTITY_TYPE                             \n",
       "DispatchPendingApproval__c               1256\n",
       "Case                                      356\n",
       "WorkOrder                                 325\n",
       "Report                                    164\n",
       "LiveChatTranscript                         52\n",
       "Lightning_Knowledge__kav                   37\n",
       "Task                                       23\n",
       "Asset                                      17\n",
       "Call_Transcript__c                         12\n",
       "Instructions__r                             7\n",
       "pse__Proj__c                                5\n",
       "DispatchInstruction__c                      3\n",
       "unknown                                     2\n",
       "Account                                     1\n",
       "Lightning_Knowledge__ka                     1\n",
       "public_flowlog__x                           1"
      ]
     },
     "execution_count": 101,
     "metadata": {},
     "output_type": "execute_result"
    }
   ],
   "source": [
    "filtered_lightning_error_group_sorted"
   ]
  },
  {
   "cell_type": "markdown",
   "id": "bf9f0a91",
   "metadata": {},
   "source": [
    "Viewing the data"
   ]
  },
  {
   "cell_type": "code",
   "execution_count": 102,
   "id": "b1a43b52",
   "metadata": {},
   "outputs": [
    {
     "data": {
      "text/plain": [
       "Text(0.5, 1.0, 'Page Entity Type that appear the most during the peak time')"
      ]
     },
     "execution_count": 102,
     "metadata": {},
     "output_type": "execute_result"
    },
    {
     "data": {
      "image/png": "[encoded data removed]",
      "text/plain": [
       "<Figure size 720x432 with 1 Axes>"
      ]
     },
     "metadata": {
      "needs_background": "light"
     },
     "output_type": "display_data"
    }
   ],
   "source": [
    "number_of_page_entity_type = 9\n",
    "\n",
    "graph = filtered_lightning_error_group_sorted.head(number_of_page_entity_type).plot.barh(figsize=(10, 6))\n",
    "graph.set_ylabel('Page Entity Types')\n",
    "graph.set_xlabel('Count')\n",
    "graph.set_title('Page Entity Type that appear the most during the peak time')"
   ]
  },
  {
   "cell_type": "code",
   "execution_count": 103,
   "id": "0f2c814e",
   "metadata": {},
   "outputs": [
    {
     "name": "stdout",
     "output_type": "stream",
     "text": [
      "1 type(s) of errors appear more than a thousand times\n",
      "3 type(s) appear between a hundred and a thousand times\n",
      "The others appear less than a hundred times, being 7 of them less than ten times\n"
     ]
    }
   ],
   "source": [
    "page_entity_types_above_1000 = len(filtered_lightning_error_group_sorted[filtered_lightning_error_group_sorted['UI_EVENT_ID_COUNT']>1000])\n",
    "page_entity_types_above_100 = len(filtered_lightning_error_group_sorted[filtered_lightning_error_group_sorted['UI_EVENT_ID_COUNT']>100])\n",
    "page_entity_types_below_10 = len(filtered_lightning_error_group_sorted[filtered_lightning_error_group_sorted['UI_EVENT_ID_COUNT']< 10])\n",
    "\n",
    "print(f\"\"\"{page_entity_types_above_1000} type(s) of errors appear more than a thousand times\n",
    "{page_entity_types_above_100 - page_entity_types_above_1000} type(s) appear between a hundred and a thousand times\n",
    "The others appear less than a hundred times, being {page_entity_types_below_10} of them less than ten times\"\"\")"
   ]
  },
  {
   "cell_type": "markdown",
   "id": "15e56421",
   "metadata": {},
   "source": [
    "### Getting top pages type by peak time"
   ]
  },
  {
   "cell_type": "code",
   "execution_count": 104,
   "id": "6580b7ac",
   "metadata": {},
   "outputs": [],
   "source": [
    "top_page_entity_type_by_peak_time = filtered_lightning_error_group_sorted.head(number_of_top_page_entity_type)"
   ]
  },
  {
   "cell_type": "code",
   "execution_count": 105,
   "id": "4e0e32bb",
   "metadata": {},
   "outputs": [
    {
     "data": {
      "text/html": [
       "<div>\n",
       "<style scoped>\n",
       "    .dataframe tbody tr th:only-of-type {\n",
       "        vertical-align: middle;\n",
       "    }\n",
       "\n",
       "    .dataframe tbody tr th {\n",
       "        vertical-align: top;\n",
       "    }\n",
       "\n",
       "    .dataframe thead th {\n",
       "        text-align: right;\n",
       "    }\n",
       "</style>\n",
       "<table border=\"1\" class=\"dataframe\">\n",
       "  <thead>\n",
       "    <tr style=\"text-align: right;\">\n",
       "      <th></th>\n",
       "      <th>UI_EVENT_ID_COUNT</th>\n",
       "    </tr>\n",
       "    <tr>\n",
       "      <th>PAGE_ENTITY_TYPE</th>\n",
       "      <th></th>\n",
       "    </tr>\n",
       "  </thead>\n",
       "  <tbody>\n",
       "    <tr>\n",
       "      <th>DispatchPendingApproval__c</th>\n",
       "      <td>1256</td>\n",
       "    </tr>\n",
       "    <tr>\n",
       "      <th>Case</th>\n",
       "      <td>356</td>\n",
       "    </tr>\n",
       "    <tr>\n",
       "      <th>WorkOrder</th>\n",
       "      <td>325</td>\n",
       "    </tr>\n",
       "    <tr>\n",
       "      <th>Report</th>\n",
       "      <td>164</td>\n",
       "    </tr>\n",
       "    <tr>\n",
       "      <th>LiveChatTranscript</th>\n",
       "      <td>52</td>\n",
       "    </tr>\n",
       "  </tbody>\n",
       "</table>\n",
       "</div>"
      ],
      "text/plain": [
       "                            UI_EVENT_ID_COUNT\n",
       "PAGE_ENTITY_TYPE                             \n",
       "DispatchPendingApproval__c               1256\n",
       "Case                                      356\n",
       "WorkOrder                                 325\n",
       "Report                                    164\n",
       "LiveChatTranscript                         52"
      ]
     },
     "execution_count": 105,
     "metadata": {},
     "output_type": "execute_result"
    }
   ],
   "source": [
    "top_page_entity_type_by_peak_time"
   ]
  },
  {
   "cell_type": "markdown",
   "id": "a3a23e06",
   "metadata": {},
   "source": [
    "Reseting index"
   ]
  },
  {
   "cell_type": "code",
   "execution_count": 106,
   "id": "46471df1",
   "metadata": {},
   "outputs": [],
   "source": [
    "top_page_entity_type_by_peak_time = top_page_entity_type_by_peak_time.reset_index()"
   ]
  },
  {
   "cell_type": "code",
   "execution_count": 107,
   "id": "1c91451e",
   "metadata": {},
   "outputs": [
    {
     "data": {
      "text/html": [
       "<div>\n",
       "<style scoped>\n",
       "    .dataframe tbody tr th:only-of-type {\n",
       "        vertical-align: middle;\n",
       "    }\n",
       "\n",
       "    .dataframe tbody tr th {\n",
       "        vertical-align: top;\n",
       "    }\n",
       "\n",
       "    .dataframe thead th {\n",
       "        text-align: right;\n",
       "    }\n",
       "</style>\n",
       "<table border=\"1\" class=\"dataframe\">\n",
       "  <thead>\n",
       "    <tr style=\"text-align: right;\">\n",
       "      <th></th>\n",
       "      <th>PAGE_ENTITY_TYPE</th>\n",
       "      <th>UI_EVENT_ID_COUNT</th>\n",
       "    </tr>\n",
       "  </thead>\n",
       "  <tbody>\n",
       "    <tr>\n",
       "      <th>0</th>\n",
       "      <td>DispatchPendingApproval__c</td>\n",
       "      <td>1256</td>\n",
       "    </tr>\n",
       "    <tr>\n",
       "      <th>1</th>\n",
       "      <td>Case</td>\n",
       "      <td>356</td>\n",
       "    </tr>\n",
       "    <tr>\n",
       "      <th>2</th>\n",
       "      <td>WorkOrder</td>\n",
       "      <td>325</td>\n",
       "    </tr>\n",
       "    <tr>\n",
       "      <th>3</th>\n",
       "      <td>Report</td>\n",
       "      <td>164</td>\n",
       "    </tr>\n",
       "    <tr>\n",
       "      <th>4</th>\n",
       "      <td>LiveChatTranscript</td>\n",
       "      <td>52</td>\n",
       "    </tr>\n",
       "  </tbody>\n",
       "</table>\n",
       "</div>"
      ],
      "text/plain": [
       "             PAGE_ENTITY_TYPE  UI_EVENT_ID_COUNT\n",
       "0  DispatchPendingApproval__c               1256\n",
       "1                        Case                356\n",
       "2                   WorkOrder                325\n",
       "3                      Report                164\n",
       "4          LiveChatTranscript                 52"
      ]
     },
     "execution_count": 107,
     "metadata": {},
     "output_type": "execute_result"
    }
   ],
   "source": [
    "top_page_entity_type_by_peak_time"
   ]
  },
  {
   "cell_type": "markdown",
   "id": "21183173",
   "metadata": {},
   "source": [
    "Getting top page entity type values and showing result"
   ]
  },
  {
   "cell_type": "code",
   "execution_count": 108,
   "id": "38f04c31",
   "metadata": {},
   "outputs": [
    {
     "name": "stdout",
     "output_type": "stream",
     "text": [
      "The top 5 PAGE_ENTITY_TYPE by peak time are: \n",
      "1 - DispatchPendingApproval__c\n",
      "2 - Case\n",
      "3 - WorkOrder\n",
      "4 - Report\n",
      "5 - LiveChatTranscript\n"
     ]
    }
   ],
   "source": [
    "top_page_entity_type_by_peak_time_values = []\n",
    "\n",
    "print(f\"The top {number_of_top_page_entity_type} PAGE_ENTITY_TYPE by peak time are: \")\n",
    "for i in top_page_entity_type_by_peak_time.index:\n",
    "    value = top_page_entity_type_by_peak_time['PAGE_ENTITY_TYPE'][i]\n",
    "    \n",
    "    top_page_entity_type_by_peak_time_values.append(value)\n",
    "    print(f\"{i + 1} - {value}\")"
   ]
  },
  {
   "cell_type": "code",
   "execution_count": 109,
   "id": "f3553fc6",
   "metadata": {},
   "outputs": [],
   "source": [
    "different = 0\n",
    "\n",
    "for page_entity_type in top_page_entity_type_by_peak_time_values:\n",
    "    if page_entity_type not in top_page_entity_type_by_day_values:\n",
    "        different += 1"
   ]
  },
  {
   "cell_type": "code",
   "execution_count": 110,
   "id": "534e92e1",
   "metadata": {},
   "outputs": [
    {
     "name": "stdout",
     "output_type": "stream",
     "text": [
      "There are 1 diffent(s) type(s) of page relating to all day\n"
     ]
    }
   ],
   "source": [
    "print(f\"There are {different} diffent(s) type(s) of page relating to all day\")"
   ]
  },
  {
   "cell_type": "markdown",
   "id": "3bab08ec",
   "metadata": {},
   "source": [
    "---"
   ]
  },
  {
   "cell_type": "markdown",
   "id": "ba2e4dff",
   "metadata": {},
   "source": [
    "## Analyzing peak time pages by hour"
   ]
  },
  {
   "cell_type": "code",
   "execution_count": 111,
   "id": "e8072239",
   "metadata": {},
   "outputs": [
    {
     "name": "stdout",
     "output_type": "stream",
     "text": [
      "Filtering the data by top 5 PAGE_ENTITY_TYPE\n"
     ]
    }
   ],
   "source": [
    "print(f\"Filtering the data by top {number_of_top_page_entity_type} PAGE_ENTITY_TYPE\")"
   ]
  },
  {
   "cell_type": "code",
   "execution_count": 112,
   "id": "85189b82",
   "metadata": {},
   "outputs": [],
   "source": [
    "filtered_lightning_error = filtered_lightning_error[filtered_lightning_error.PAGE_ENTITY_TYPE\n",
    "                                                    .isin(top_page_entity_type_by_peak_time_values)]"
   ]
  },
  {
   "cell_type": "code",
   "execution_count": 113,
   "id": "540b5565",
   "metadata": {},
   "outputs": [
    {
     "data": {
      "text/plain": [
       "(2153, 40)"
      ]
     },
     "execution_count": 113,
     "metadata": {},
     "output_type": "execute_result"
    }
   ],
   "source": [
    "filtered_lightning_error.shape"
   ]
  },
  {
   "cell_type": "markdown",
   "id": "9179e0e9",
   "metadata": {},
   "source": [
    "Removing useless columns"
   ]
  },
  {
   "cell_type": "code",
   "execution_count": 114,
   "id": "2b1b2404",
   "metadata": {},
   "outputs": [],
   "source": [
    "filtered_lightning_error_simplified = filtered_lightning_error[['TIMESTAMP_DERIVED_HOUR', 'PAGE_ENTITY_TYPE']]"
   ]
  },
  {
   "cell_type": "code",
   "execution_count": 115,
   "id": "fab765dc",
   "metadata": {},
   "outputs": [
    {
     "data": {
      "text/html": [
       "<div>\n",
       "<style scoped>\n",
       "    .dataframe tbody tr th:only-of-type {\n",
       "        vertical-align: middle;\n",
       "    }\n",
       "\n",
       "    .dataframe tbody tr th {\n",
       "        vertical-align: top;\n",
       "    }\n",
       "\n",
       "    .dataframe thead th {\n",
       "        text-align: right;\n",
       "    }\n",
       "</style>\n",
       "<table border=\"1\" class=\"dataframe\">\n",
       "  <thead>\n",
       "    <tr style=\"text-align: right;\">\n",
       "      <th></th>\n",
       "      <th>TIMESTAMP_DERIVED_HOUR</th>\n",
       "      <th>PAGE_ENTITY_TYPE</th>\n",
       "    </tr>\n",
       "  </thead>\n",
       "  <tbody>\n",
       "    <tr>\n",
       "      <th>1158</th>\n",
       "      <td>5</td>\n",
       "      <td>WorkOrder</td>\n",
       "    </tr>\n",
       "    <tr>\n",
       "      <th>1159</th>\n",
       "      <td>5</td>\n",
       "      <td>WorkOrder</td>\n",
       "    </tr>\n",
       "    <tr>\n",
       "      <th>1160</th>\n",
       "      <td>5</td>\n",
       "      <td>DispatchPendingApproval__c</td>\n",
       "    </tr>\n",
       "    <tr>\n",
       "      <th>1161</th>\n",
       "      <td>5</td>\n",
       "      <td>DispatchPendingApproval__c</td>\n",
       "    </tr>\n",
       "    <tr>\n",
       "      <th>1162</th>\n",
       "      <td>5</td>\n",
       "      <td>DispatchPendingApproval__c</td>\n",
       "    </tr>\n",
       "    <tr>\n",
       "      <th>...</th>\n",
       "      <td>...</td>\n",
       "      <td>...</td>\n",
       "    </tr>\n",
       "    <tr>\n",
       "      <th>3589</th>\n",
       "      <td>9</td>\n",
       "      <td>WorkOrder</td>\n",
       "    </tr>\n",
       "    <tr>\n",
       "      <th>3590</th>\n",
       "      <td>9</td>\n",
       "      <td>Case</td>\n",
       "    </tr>\n",
       "    <tr>\n",
       "      <th>3591</th>\n",
       "      <td>9</td>\n",
       "      <td>DispatchPendingApproval__c</td>\n",
       "    </tr>\n",
       "    <tr>\n",
       "      <th>3592</th>\n",
       "      <td>9</td>\n",
       "      <td>DispatchPendingApproval__c</td>\n",
       "    </tr>\n",
       "    <tr>\n",
       "      <th>3606</th>\n",
       "      <td>9</td>\n",
       "      <td>DispatchPendingApproval__c</td>\n",
       "    </tr>\n",
       "  </tbody>\n",
       "</table>\n",
       "<p>2153 rows × 2 columns</p>\n",
       "</div>"
      ],
      "text/plain": [
       "      TIMESTAMP_DERIVED_HOUR            PAGE_ENTITY_TYPE\n",
       "1158                       5                   WorkOrder\n",
       "1159                       5                   WorkOrder\n",
       "1160                       5  DispatchPendingApproval__c\n",
       "1161                       5  DispatchPendingApproval__c\n",
       "1162                       5  DispatchPendingApproval__c\n",
       "...                      ...                         ...\n",
       "3589                       9                   WorkOrder\n",
       "3590                       9                        Case\n",
       "3591                       9  DispatchPendingApproval__c\n",
       "3592                       9  DispatchPendingApproval__c\n",
       "3606                       9  DispatchPendingApproval__c\n",
       "\n",
       "[2153 rows x 2 columns]"
      ]
     },
     "execution_count": 115,
     "metadata": {},
     "output_type": "execute_result"
    }
   ],
   "source": [
    "filtered_lightning_error_simplified"
   ]
  },
  {
   "cell_type": "markdown",
   "id": "cdfb4f62",
   "metadata": {},
   "source": [
    "Viewing erros by the hours"
   ]
  },
  {
   "cell_type": "code",
   "execution_count": 116,
   "id": "af8d44e5",
   "metadata": {},
   "outputs": [],
   "source": [
    "graph_data = filtered_lightning_error.pivot(columns='PAGE_ENTITY_TYPE', values='TIMESTAMP_DERIVED_HOUR')"
   ]
  },
  {
   "cell_type": "code",
   "execution_count": 117,
   "id": "9a37a33e",
   "metadata": {},
   "outputs": [
    {
     "data": {
      "text/html": [
       "<div>\n",
       "<style scoped>\n",
       "    .dataframe tbody tr th:only-of-type {\n",
       "        vertical-align: middle;\n",
       "    }\n",
       "\n",
       "    .dataframe tbody tr th {\n",
       "        vertical-align: top;\n",
       "    }\n",
       "\n",
       "    .dataframe thead th {\n",
       "        text-align: right;\n",
       "    }\n",
       "</style>\n",
       "<table border=\"1\" class=\"dataframe\">\n",
       "  <thead>\n",
       "    <tr style=\"text-align: right;\">\n",
       "      <th>PAGE_ENTITY_TYPE</th>\n",
       "      <th>Case</th>\n",
       "      <th>DispatchPendingApproval__c</th>\n",
       "      <th>LiveChatTranscript</th>\n",
       "      <th>Report</th>\n",
       "      <th>WorkOrder</th>\n",
       "    </tr>\n",
       "  </thead>\n",
       "  <tbody>\n",
       "    <tr>\n",
       "      <th>1158</th>\n",
       "      <td>NaN</td>\n",
       "      <td>NaN</td>\n",
       "      <td>NaN</td>\n",
       "      <td>NaN</td>\n",
       "      <td>5.0</td>\n",
       "    </tr>\n",
       "    <tr>\n",
       "      <th>1159</th>\n",
       "      <td>NaN</td>\n",
       "      <td>NaN</td>\n",
       "      <td>NaN</td>\n",
       "      <td>NaN</td>\n",
       "      <td>5.0</td>\n",
       "    </tr>\n",
       "    <tr>\n",
       "      <th>1160</th>\n",
       "      <td>NaN</td>\n",
       "      <td>5.0</td>\n",
       "      <td>NaN</td>\n",
       "      <td>NaN</td>\n",
       "      <td>NaN</td>\n",
       "    </tr>\n",
       "    <tr>\n",
       "      <th>1161</th>\n",
       "      <td>NaN</td>\n",
       "      <td>5.0</td>\n",
       "      <td>NaN</td>\n",
       "      <td>NaN</td>\n",
       "      <td>NaN</td>\n",
       "    </tr>\n",
       "    <tr>\n",
       "      <th>1162</th>\n",
       "      <td>NaN</td>\n",
       "      <td>5.0</td>\n",
       "      <td>NaN</td>\n",
       "      <td>NaN</td>\n",
       "      <td>NaN</td>\n",
       "    </tr>\n",
       "  </tbody>\n",
       "</table>\n",
       "</div>"
      ],
      "text/plain": [
       "PAGE_ENTITY_TYPE  Case  DispatchPendingApproval__c  LiveChatTranscript  \\\n",
       "1158               NaN                         NaN                 NaN   \n",
       "1159               NaN                         NaN                 NaN   \n",
       "1160               NaN                         5.0                 NaN   \n",
       "1161               NaN                         5.0                 NaN   \n",
       "1162               NaN                         5.0                 NaN   \n",
       "\n",
       "PAGE_ENTITY_TYPE  Report  WorkOrder  \n",
       "1158                 NaN        5.0  \n",
       "1159                 NaN        5.0  \n",
       "1160                 NaN        NaN  \n",
       "1161                 NaN        NaN  \n",
       "1162                 NaN        NaN  "
      ]
     },
     "execution_count": 117,
     "metadata": {},
     "output_type": "execute_result"
    }
   ],
   "source": [
    "graph_data.head()"
   ]
  },
  {
   "cell_type": "code",
   "execution_count": 118,
   "id": "0dcdfd7d",
   "metadata": {},
   "outputs": [
    {
     "data": {
      "text/plain": [
       "Text(0.5, 1.0, 'Density graph relating Page_Entity_Type and Hour')"
      ]
     },
     "execution_count": 118,
     "metadata": {},
     "output_type": "execute_result"
    },
    {
     "data": {
      "image/png": "[encoded data removed]",
      "text/plain": [
       "<Figure size 1080x432 with 1 Axes>"
      ]
     },
     "metadata": {
      "needs_background": "light"
     },
     "output_type": "display_data"
    }
   ],
   "source": [
    "graph = graph_data.plot.kde(figsize=(15, 6))\n",
    "graph.set_xlabel('Hour')\n",
    "graph.set_title('Density graph relating Page_Entity_Type and Hour')"
   ]
  },
  {
   "cell_type": "markdown",
   "id": "f1ef6084",
   "metadata": {},
   "source": [
    "---"
   ]
  },
  {
   "cell_type": "markdown",
   "id": "19f01c05",
   "metadata": {},
   "source": [
    "## Analyzing top peak time types of errors by page types"
   ]
  },
  {
   "cell_type": "code",
   "execution_count": 119,
   "id": "340d3256",
   "metadata": {},
   "outputs": [],
   "source": [
    "lightning_error_group = lightning_error.groupby(['PAGE_ENTITY_TYPE', 'UI_EVENT_SOURCE']).agg({'UI_EVENT_ID': 'count'})"
   ]
  },
  {
   "cell_type": "code",
   "execution_count": 120,
   "id": "cce16453",
   "metadata": {},
   "outputs": [
    {
     "data": {
      "text/html": [
       "<div>\n",
       "<style scoped>\n",
       "    .dataframe tbody tr th:only-of-type {\n",
       "        vertical-align: middle;\n",
       "    }\n",
       "\n",
       "    .dataframe tbody tr th {\n",
       "        vertical-align: top;\n",
       "    }\n",
       "\n",
       "    .dataframe thead th {\n",
       "        text-align: right;\n",
       "    }\n",
       "</style>\n",
       "<table border=\"1\" class=\"dataframe\">\n",
       "  <thead>\n",
       "    <tr style=\"text-align: right;\">\n",
       "      <th></th>\n",
       "      <th></th>\n",
       "      <th>UI_EVENT_ID</th>\n",
       "    </tr>\n",
       "    <tr>\n",
       "      <th>PAGE_ENTITY_TYPE</th>\n",
       "      <th>UI_EVENT_SOURCE</th>\n",
       "      <th></th>\n",
       "    </tr>\n",
       "  </thead>\n",
       "  <tbody>\n",
       "    <tr>\n",
       "      <th rowspan=\"2\" valign=\"top\">Account</th>\n",
       "      <th>Error</th>\n",
       "      <td>1</td>\n",
       "    </tr>\n",
       "    <tr>\n",
       "      <th>TypeError</th>\n",
       "      <td>3</td>\n",
       "    </tr>\n",
       "    <tr>\n",
       "      <th rowspan=\"3\" valign=\"top\">Asset</th>\n",
       "      <th>Error</th>\n",
       "      <td>9</td>\n",
       "    </tr>\n",
       "    <tr>\n",
       "      <th>ReferenceError</th>\n",
       "      <td>1</td>\n",
       "    </tr>\n",
       "    <tr>\n",
       "      <th>TypeError</th>\n",
       "      <td>73</td>\n",
       "    </tr>\n",
       "    <tr>\n",
       "      <th rowspan=\"4\" valign=\"top\">Call_Transcript__c</th>\n",
       "      <th>AuraError</th>\n",
       "      <td>1</td>\n",
       "    </tr>\n",
       "    <tr>\n",
       "      <th>Error</th>\n",
       "      <td>9</td>\n",
       "    </tr>\n",
       "    <tr>\n",
       "      <th>RangeError</th>\n",
       "      <td>2</td>\n",
       "    </tr>\n",
       "    <tr>\n",
       "      <th>TypeError</th>\n",
       "      <td>172</td>\n",
       "    </tr>\n",
       "    <tr>\n",
       "      <th rowspan=\"6\" valign=\"top\">Case</th>\n",
       "      <th>Error</th>\n",
       "      <td>245</td>\n",
       "    </tr>\n",
       "    <tr>\n",
       "      <th>RangeError</th>\n",
       "      <td>172</td>\n",
       "    </tr>\n",
       "    <tr>\n",
       "      <th>RequiredAiltnFieldsNotValid</th>\n",
       "      <td>16</td>\n",
       "    </tr>\n",
       "    <tr>\n",
       "      <th>SyntaxError</th>\n",
       "      <td>6</td>\n",
       "    </tr>\n",
       "    <tr>\n",
       "      <th>TypeError</th>\n",
       "      <td>1819</td>\n",
       "    </tr>\n",
       "    <tr>\n",
       "      <th>unknown</th>\n",
       "      <td>2</td>\n",
       "    </tr>\n",
       "    <tr>\n",
       "      <th>Cases</th>\n",
       "      <th>TypeError</th>\n",
       "      <td>2</td>\n",
       "    </tr>\n",
       "    <tr>\n",
       "      <th rowspan=\"3\" valign=\"top\">Contact</th>\n",
       "      <th>Error</th>\n",
       "      <td>2</td>\n",
       "    </tr>\n",
       "    <tr>\n",
       "      <th>RequiredAiltnFieldsNotValid</th>\n",
       "      <td>1</td>\n",
       "    </tr>\n",
       "    <tr>\n",
       "      <th>TypeError</th>\n",
       "      <td>39</td>\n",
       "    </tr>\n",
       "    <tr>\n",
       "      <th>ContentDocument</th>\n",
       "      <th>TypeError</th>\n",
       "      <td>2</td>\n",
       "    </tr>\n",
       "    <tr>\n",
       "      <th>Dashboard</th>\n",
       "      <th>Error</th>\n",
       "      <td>1</td>\n",
       "    </tr>\n",
       "    <tr>\n",
       "      <th rowspan=\"2\" valign=\"top\">DispatchInstruction__c</th>\n",
       "      <th>Error</th>\n",
       "      <td>5</td>\n",
       "    </tr>\n",
       "    <tr>\n",
       "      <th>TypeError</th>\n",
       "      <td>1</td>\n",
       "    </tr>\n",
       "    <tr>\n",
       "      <th rowspan=\"2\" valign=\"top\">DispatchPendingApproval__c</th>\n",
       "      <th>Error</th>\n",
       "      <td>2270</td>\n",
       "    </tr>\n",
       "    <tr>\n",
       "      <th>TypeError</th>\n",
       "      <td>1</td>\n",
       "    </tr>\n",
       "    <tr>\n",
       "      <th>EmailMessage</th>\n",
       "      <th>TypeError</th>\n",
       "      <td>4</td>\n",
       "    </tr>\n",
       "    <tr>\n",
       "      <th>EmailTemplate</th>\n",
       "      <th>TypeError</th>\n",
       "      <td>1</td>\n",
       "    </tr>\n",
       "    <tr>\n",
       "      <th rowspan=\"2\" valign=\"top\">Instructions__r</th>\n",
       "      <th>Error</th>\n",
       "      <td>11</td>\n",
       "    </tr>\n",
       "    <tr>\n",
       "      <th>TypeError</th>\n",
       "      <td>2</td>\n",
       "    </tr>\n",
       "    <tr>\n",
       "      <th>Lightning_Knowledge__ka</th>\n",
       "      <th>Error</th>\n",
       "      <td>3</td>\n",
       "    </tr>\n",
       "    <tr>\n",
       "      <th rowspan=\"2\" valign=\"top\">Lightning_Knowledge__kav</th>\n",
       "      <th>Error</th>\n",
       "      <td>51</td>\n",
       "    </tr>\n",
       "    <tr>\n",
       "      <th>TypeError</th>\n",
       "      <td>18</td>\n",
       "    </tr>\n",
       "    <tr>\n",
       "      <th rowspan=\"3\" valign=\"top\">LiveChatTranscript</th>\n",
       "      <th>AuraError</th>\n",
       "      <td>2</td>\n",
       "    </tr>\n",
       "    <tr>\n",
       "      <th>Error</th>\n",
       "      <td>67</td>\n",
       "    </tr>\n",
       "    <tr>\n",
       "      <th>TypeError</th>\n",
       "      <td>58</td>\n",
       "    </tr>\n",
       "    <tr>\n",
       "      <th>Order</th>\n",
       "      <th>Error</th>\n",
       "      <td>2</td>\n",
       "    </tr>\n",
       "    <tr>\n",
       "      <th>Order_Products__r</th>\n",
       "      <th>Error</th>\n",
       "      <td>2</td>\n",
       "    </tr>\n",
       "    <tr>\n",
       "      <th>QuickText</th>\n",
       "      <th>TypeError</th>\n",
       "      <td>1</td>\n",
       "    </tr>\n",
       "    <tr>\n",
       "      <th rowspan=\"3\" valign=\"top\">Report</th>\n",
       "      <th>Error</th>\n",
       "      <td>273</td>\n",
       "    </tr>\n",
       "    <tr>\n",
       "      <th>SecurityError</th>\n",
       "      <td>1</td>\n",
       "    </tr>\n",
       "    <tr>\n",
       "      <th>TypeError</th>\n",
       "      <td>98</td>\n",
       "    </tr>\n",
       "    <tr>\n",
       "      <th>ServiceAppointment</th>\n",
       "      <th>Error</th>\n",
       "      <td>2</td>\n",
       "    </tr>\n",
       "    <tr>\n",
       "      <th rowspan=\"3\" valign=\"top\">Task</th>\n",
       "      <th>Error</th>\n",
       "      <td>27</td>\n",
       "    </tr>\n",
       "    <tr>\n",
       "      <th>RangeError</th>\n",
       "      <td>13</td>\n",
       "    </tr>\n",
       "    <tr>\n",
       "      <th>TypeError</th>\n",
       "      <td>88</td>\n",
       "    </tr>\n",
       "    <tr>\n",
       "      <th rowspan=\"2\" valign=\"top\">User</th>\n",
       "      <th>Error</th>\n",
       "      <td>9</td>\n",
       "    </tr>\n",
       "    <tr>\n",
       "      <th>TypeError</th>\n",
       "      <td>1</td>\n",
       "    </tr>\n",
       "    <tr>\n",
       "      <th rowspan=\"4\" valign=\"top\">WorkOrder</th>\n",
       "      <th>AuraError</th>\n",
       "      <td>1</td>\n",
       "    </tr>\n",
       "    <tr>\n",
       "      <th>Error</th>\n",
       "      <td>618</td>\n",
       "    </tr>\n",
       "    <tr>\n",
       "      <th>SyntaxError</th>\n",
       "      <td>3</td>\n",
       "    </tr>\n",
       "    <tr>\n",
       "      <th>TypeError</th>\n",
       "      <td>268</td>\n",
       "    </tr>\n",
       "    <tr>\n",
       "      <th>WorkOrders</th>\n",
       "      <th>TypeError</th>\n",
       "      <td>4</td>\n",
       "    </tr>\n",
       "    <tr>\n",
       "      <th rowspan=\"2\" valign=\"top\">pse__Proj__c</th>\n",
       "      <th>Error</th>\n",
       "      <td>2</td>\n",
       "    </tr>\n",
       "    <tr>\n",
       "      <th>TypeError</th>\n",
       "      <td>5</td>\n",
       "    </tr>\n",
       "    <tr>\n",
       "      <th>public_flowlog__r</th>\n",
       "      <th>TypeError</th>\n",
       "      <td>2</td>\n",
       "    </tr>\n",
       "    <tr>\n",
       "      <th rowspan=\"2\" valign=\"top\">public_flowlog__x</th>\n",
       "      <th>Error</th>\n",
       "      <td>1</td>\n",
       "    </tr>\n",
       "    <tr>\n",
       "      <th>TypeError</th>\n",
       "      <td>1</td>\n",
       "    </tr>\n",
       "    <tr>\n",
       "      <th rowspan=\"3\" valign=\"top\">unknown</th>\n",
       "      <th>Error</th>\n",
       "      <td>3</td>\n",
       "    </tr>\n",
       "    <tr>\n",
       "      <th>RangeError</th>\n",
       "      <td>7</td>\n",
       "    </tr>\n",
       "    <tr>\n",
       "      <th>TypeError</th>\n",
       "      <td>109</td>\n",
       "    </tr>\n",
       "  </tbody>\n",
       "</table>\n",
       "</div>"
      ],
      "text/plain": [
       "                                                        UI_EVENT_ID\n",
       "PAGE_ENTITY_TYPE           UI_EVENT_SOURCE                         \n",
       "Account                    Error                                  1\n",
       "                           TypeError                              3\n",
       "Asset                      Error                                  9\n",
       "                           ReferenceError                         1\n",
       "                           TypeError                             73\n",
       "Call_Transcript__c         AuraError                              1\n",
       "                           Error                                  9\n",
       "                           RangeError                             2\n",
       "                           TypeError                            172\n",
       "Case                       Error                                245\n",
       "                           RangeError                           172\n",
       "                           RequiredAiltnFieldsNotValid           16\n",
       "                           SyntaxError                            6\n",
       "                           TypeError                           1819\n",
       "                           unknown                                2\n",
       "Cases                      TypeError                              2\n",
       "Contact                    Error                                  2\n",
       "                           RequiredAiltnFieldsNotValid            1\n",
       "                           TypeError                             39\n",
       "ContentDocument            TypeError                              2\n",
       "Dashboard                  Error                                  1\n",
       "DispatchInstruction__c     Error                                  5\n",
       "                           TypeError                              1\n",
       "DispatchPendingApproval__c Error                               2270\n",
       "                           TypeError                              1\n",
       "EmailMessage               TypeError                              4\n",
       "EmailTemplate              TypeError                              1\n",
       "Instructions__r            Error                                 11\n",
       "                           TypeError                              2\n",
       "Lightning_Knowledge__ka    Error                                  3\n",
       "Lightning_Knowledge__kav   Error                                 51\n",
       "                           TypeError                             18\n",
       "LiveChatTranscript         AuraError                              2\n",
       "                           Error                                 67\n",
       "                           TypeError                             58\n",
       "Order                      Error                                  2\n",
       "Order_Products__r          Error                                  2\n",
       "QuickText                  TypeError                              1\n",
       "Report                     Error                                273\n",
       "                           SecurityError                          1\n",
       "                           TypeError                             98\n",
       "ServiceAppointment         Error                                  2\n",
       "Task                       Error                                 27\n",
       "                           RangeError                            13\n",
       "                           TypeError                             88\n",
       "User                       Error                                  9\n",
       "                           TypeError                              1\n",
       "WorkOrder                  AuraError                              1\n",
       "                           Error                                618\n",
       "                           SyntaxError                            3\n",
       "                           TypeError                            268\n",
       "WorkOrders                 TypeError                              4\n",
       "pse__Proj__c               Error                                  2\n",
       "                           TypeError                              5\n",
       "public_flowlog__r          TypeError                              2\n",
       "public_flowlog__x          Error                                  1\n",
       "                           TypeError                              1\n",
       "unknown                    Error                                  3\n",
       "                           RangeError                             7\n",
       "                           TypeError                            109"
      ]
     },
     "execution_count": 120,
     "metadata": {},
     "output_type": "execute_result"
    }
   ],
   "source": [
    "lightning_error_group"
   ]
  },
  {
   "cell_type": "markdown",
   "id": "253c449b",
   "metadata": {},
   "source": [
    "Reseting index"
   ]
  },
  {
   "cell_type": "code",
   "execution_count": 121,
   "id": "03539b00",
   "metadata": {},
   "outputs": [],
   "source": [
    "lightning_error_group = lightning_error_group.reset_index()"
   ]
  },
  {
   "cell_type": "code",
   "execution_count": 122,
   "id": "3bb8577b",
   "metadata": {},
   "outputs": [
    {
     "data": {
      "text/html": [
       "<div>\n",
       "<style scoped>\n",
       "    .dataframe tbody tr th:only-of-type {\n",
       "        vertical-align: middle;\n",
       "    }\n",
       "\n",
       "    .dataframe tbody tr th {\n",
       "        vertical-align: top;\n",
       "    }\n",
       "\n",
       "    .dataframe thead th {\n",
       "        text-align: right;\n",
       "    }\n",
       "</style>\n",
       "<table border=\"1\" class=\"dataframe\">\n",
       "  <thead>\n",
       "    <tr style=\"text-align: right;\">\n",
       "      <th></th>\n",
       "      <th>PAGE_ENTITY_TYPE</th>\n",
       "      <th>UI_EVENT_SOURCE</th>\n",
       "      <th>UI_EVENT_ID</th>\n",
       "    </tr>\n",
       "  </thead>\n",
       "  <tbody>\n",
       "    <tr>\n",
       "      <th>0</th>\n",
       "      <td>Account</td>\n",
       "      <td>Error</td>\n",
       "      <td>1</td>\n",
       "    </tr>\n",
       "    <tr>\n",
       "      <th>1</th>\n",
       "      <td>Account</td>\n",
       "      <td>TypeError</td>\n",
       "      <td>3</td>\n",
       "    </tr>\n",
       "    <tr>\n",
       "      <th>2</th>\n",
       "      <td>Asset</td>\n",
       "      <td>Error</td>\n",
       "      <td>9</td>\n",
       "    </tr>\n",
       "    <tr>\n",
       "      <th>3</th>\n",
       "      <td>Asset</td>\n",
       "      <td>ReferenceError</td>\n",
       "      <td>1</td>\n",
       "    </tr>\n",
       "    <tr>\n",
       "      <th>4</th>\n",
       "      <td>Asset</td>\n",
       "      <td>TypeError</td>\n",
       "      <td>73</td>\n",
       "    </tr>\n",
       "  </tbody>\n",
       "</table>\n",
       "</div>"
      ],
      "text/plain": [
       "  PAGE_ENTITY_TYPE UI_EVENT_SOURCE  UI_EVENT_ID\n",
       "0          Account           Error            1\n",
       "1          Account       TypeError            3\n",
       "2            Asset           Error            9\n",
       "3            Asset  ReferenceError            1\n",
       "4            Asset       TypeError           73"
      ]
     },
     "execution_count": 122,
     "metadata": {},
     "output_type": "execute_result"
    }
   ],
   "source": [
    "lightning_error_group.head()"
   ]
  },
  {
   "cell_type": "markdown",
   "id": "801cb154",
   "metadata": {},
   "source": [
    "Getting the data for the visualization"
   ]
  },
  {
   "cell_type": "code",
   "execution_count": 123,
   "id": "34c8b57f",
   "metadata": {},
   "outputs": [],
   "source": [
    "list_of_page_entity_types = lightning_error_group['PAGE_ENTITY_TYPE'].tolist()\n",
    "list_of_unique_ui_event_source = lightning_error_group['UI_EVENT_SOURCE'].unique()\n",
    "list_of_ui_event_source = lightning_error_group['UI_EVENT_SOURCE'].tolist()\n",
    "list_of_ui_event_id_count = lightning_error_group['UI_EVENT_ID'].tolist()"
   ]
  },
  {
   "cell_type": "markdown",
   "id": "f0411850",
   "metadata": {},
   "source": [
    "Getting the result dictionary format"
   ]
  },
  {
   "cell_type": "code",
   "execution_count": 124,
   "id": "9999a081",
   "metadata": {},
   "outputs": [],
   "source": [
    "result = dictionary_format(top_error_types_by_peak_time_values, top_page_entity_type_by_peak_time_values)"
   ]
  },
  {
   "cell_type": "code",
   "execution_count": 125,
   "id": "53cb9425",
   "metadata": {},
   "outputs": [
    {
     "data": {
      "text/plain": [
       "{'DispatchPendingApproval__c': [0, 0, 0, 0, 0],\n",
       " 'Case': [0, 0, 0, 0, 0],\n",
       " 'WorkOrder': [0, 0, 0, 0, 0],\n",
       " 'Report': [0, 0, 0, 0, 0],\n",
       " 'LiveChatTranscript': [0, 0, 0, 0, 0]}"
      ]
     },
     "execution_count": 125,
     "metadata": {},
     "output_type": "execute_result"
    }
   ],
   "source": [
    "result"
   ]
  },
  {
   "cell_type": "markdown",
   "id": "f38406a7",
   "metadata": {},
   "source": [
    "Mapping the type of error to position"
   ]
  },
  {
   "cell_type": "code",
   "execution_count": 126,
   "id": "cead8c0a",
   "metadata": {},
   "outputs": [],
   "source": [
    "mapping_type_to_position(top_error_types_by_peak_time_values)"
   ]
  },
  {
   "cell_type": "code",
   "execution_count": 127,
   "id": "9c3a8dd4",
   "metadata": {},
   "outputs": [
    {
     "data": {
      "text/plain": [
       "{'Error': 0,\n",
       " 'TypeError': 1,\n",
       " 'AuraError': 2,\n",
       " 'RangeError': 3,\n",
       " 'RequiredAiltnFieldsNotValid': 4}"
      ]
     },
     "execution_count": 127,
     "metadata": {},
     "output_type": "execute_result"
    }
   ],
   "source": [
    "map_types"
   ]
  },
  {
   "cell_type": "markdown",
   "id": "f627ce1b",
   "metadata": {},
   "source": [
    "Getting the amount of errors for each type and page"
   ]
  },
  {
   "cell_type": "code",
   "execution_count": 128,
   "id": "5c735aeb",
   "metadata": {},
   "outputs": [],
   "source": [
    "get_amount(top_error_types_by_peak_time_values, list_of_ui_event_source, top_page_entity_type_by_peak_time_values, list_of_page_entity_types)"
   ]
  },
  {
   "cell_type": "code",
   "execution_count": 129,
   "id": "18aab036",
   "metadata": {},
   "outputs": [
    {
     "data": {
      "text/plain": [
       "{'DispatchPendingApproval__c': [2270, 1, 0, 0, 0],\n",
       " 'Case': [245, 1819, 0, 172, 16],\n",
       " 'WorkOrder': [618, 268, 1, 0, 0],\n",
       " 'Report': [273, 98, 0, 0, 0],\n",
       " 'LiveChatTranscript': [67, 58, 2, 0, 0]}"
      ]
     },
     "execution_count": 129,
     "metadata": {},
     "output_type": "execute_result"
    }
   ],
   "source": [
    "result"
   ]
  },
  {
   "cell_type": "markdown",
   "id": "c9bac97e",
   "metadata": {},
   "source": [
    "Viewing the data"
   ]
  },
  {
   "cell_type": "code",
   "execution_count": 130,
   "id": "49b12b7c",
   "metadata": {},
   "outputs": [
    {
     "data": {
      "image/png": "[encoded data removed]",
      "text/plain": [
       "<Figure size 864x504 with 1 Axes>"
      ]
     },
     "metadata": {
      "needs_background": "light"
     },
     "output_type": "display_data"
    }
   ],
   "source": [
    "survey(result, top_error_types_by_peak_time_values)\n",
    "plt.ylabel(\"Page Entity Types\")\n",
    "plt.show()"
   ]
  },
  {
   "cell_type": "markdown",
   "id": "bb2c1823",
   "metadata": {},
   "source": [
    "## Analyzing top all day types of errors by page types"
   ]
  },
  {
   "cell_type": "markdown",
   "id": "80334377",
   "metadata": {},
   "source": [
    "Getting the result dictionary format"
   ]
  },
  {
   "cell_type": "code",
   "execution_count": 131,
   "id": "14031b0e",
   "metadata": {},
   "outputs": [],
   "source": [
    "result = dictionary_format(top_error_types_by_day_values, top_page_entity_type_by_day_values)"
   ]
  },
  {
   "cell_type": "code",
   "execution_count": 132,
   "id": "c932431d",
   "metadata": {},
   "outputs": [
    {
     "data": {
      "text/plain": [
       "{'DispatchPendingApproval__c': [0, 0, 0, 0, 0],\n",
       " 'Case': [0, 0, 0, 0, 0],\n",
       " 'WorkOrder': [0, 0, 0, 0, 0],\n",
       " 'Report': [0, 0, 0, 0, 0],\n",
       " 'Call_Transcript__c': [0, 0, 0, 0, 0]}"
      ]
     },
     "execution_count": 132,
     "metadata": {},
     "output_type": "execute_result"
    }
   ],
   "source": [
    "result"
   ]
  },
  {
   "cell_type": "markdown",
   "id": "5f0b8507",
   "metadata": {},
   "source": [
    "Mapping the type of error to position"
   ]
  },
  {
   "cell_type": "code",
   "execution_count": 133,
   "id": "79b03c29",
   "metadata": {},
   "outputs": [],
   "source": [
    "mapping_type_to_position(top_error_types_by_day_values)"
   ]
  },
  {
   "cell_type": "code",
   "execution_count": 134,
   "id": "2dab4951",
   "metadata": {},
   "outputs": [
    {
     "data": {
      "text/plain": [
       "{'Error': 0,\n",
       " 'TypeError': 1,\n",
       " 'AuraError': 3,\n",
       " 'RangeError': 2,\n",
       " 'RequiredAiltnFieldsNotValid': 4}"
      ]
     },
     "execution_count": 134,
     "metadata": {},
     "output_type": "execute_result"
    }
   ],
   "source": [
    "map_types"
   ]
  },
  {
   "cell_type": "markdown",
   "id": "037d9a78",
   "metadata": {},
   "source": [
    "Getting the amount of errors for each type and page"
   ]
  },
  {
   "cell_type": "code",
   "execution_count": 135,
   "id": "4c00219a",
   "metadata": {},
   "outputs": [],
   "source": [
    "get_amount(top_error_types_by_day_values, list_of_ui_event_source, top_page_entity_type_by_day_values, list_of_page_entity_types)"
   ]
  },
  {
   "cell_type": "code",
   "execution_count": 136,
   "id": "4d8f12ca",
   "metadata": {},
   "outputs": [
    {
     "data": {
      "text/plain": [
       "{'DispatchPendingApproval__c': [2270, 1, 0, 0, 0],\n",
       " 'Case': [245, 1819, 172, 0, 16],\n",
       " 'WorkOrder': [618, 268, 0, 1, 0],\n",
       " 'Report': [273, 98, 0, 0, 0],\n",
       " 'Call_Transcript__c': [9, 172, 2, 1, 0]}"
      ]
     },
     "execution_count": 136,
     "metadata": {},
     "output_type": "execute_result"
    }
   ],
   "source": [
    "result"
   ]
  },
  {
   "cell_type": "markdown",
   "id": "bd24667f",
   "metadata": {},
   "source": [
    "Viewing the data"
   ]
  },
  {
   "cell_type": "code",
   "execution_count": 137,
   "id": "d322b376",
   "metadata": {
    "scrolled": true
   },
   "outputs": [
    {
     "data": {
      "image/png": "[encoded data removed]",
      "text/plain": [
       "<Figure size 864x504 with 1 Axes>"
      ]
     },
     "metadata": {
      "needs_background": "light"
     },
     "output_type": "display_data"
    }
   ],
   "source": [
    "survey(result, top_error_types_by_day_values)\n",
    "plt.ylabel('Page Entity Types')\n",
    "plt.show()"
   ]
  },
  {
   "cell_type": "markdown",
   "id": "002bd83e",
   "metadata": {},
   "source": [
    "---"
   ]
  },
  {
   "cell_type": "markdown",
   "id": "1f4c3555",
   "metadata": {},
   "source": [
    "## Analyzing the most common components that generate errors"
   ]
  },
  {
   "cell_type": "markdown",
   "id": "19ac206c",
   "metadata": {},
   "source": [
    "Grouping ***PAGE_CONTEXT*** by the count of errors"
   ]
  },
  {
   "cell_type": "code",
   "execution_count": 138,
   "id": "792d04d1",
   "metadata": {},
   "outputs": [],
   "source": [
    "lightning_error_group = lightning_error.groupby(['PAGE_CONTEXT']).agg({'UI_EVENT_ID': 'count'})"
   ]
  },
  {
   "cell_type": "code",
   "execution_count": 139,
   "id": "170fec32",
   "metadata": {},
   "outputs": [
    {
     "data": {
      "text/html": [
       "<div>\n",
       "<style scoped>\n",
       "    .dataframe tbody tr th:only-of-type {\n",
       "        vertical-align: middle;\n",
       "    }\n",
       "\n",
       "    .dataframe tbody tr th {\n",
       "        vertical-align: top;\n",
       "    }\n",
       "\n",
       "    .dataframe thead th {\n",
       "        text-align: right;\n",
       "    }\n",
       "</style>\n",
       "<table border=\"1\" class=\"dataframe\">\n",
       "  <thead>\n",
       "    <tr style=\"text-align: right;\">\n",
       "      <th></th>\n",
       "      <th>UI_EVENT_ID</th>\n",
       "    </tr>\n",
       "    <tr>\n",
       "      <th>PAGE_CONTEXT</th>\n",
       "      <th></th>\n",
       "    </tr>\n",
       "  </thead>\n",
       "  <tbody>\n",
       "    <tr>\n",
       "      <th>desktopDashboards:dashboard</th>\n",
       "      <td>1</td>\n",
       "    </tr>\n",
       "    <tr>\n",
       "      <th>force:objectHomeDesktop</th>\n",
       "      <td>2579</td>\n",
       "    </tr>\n",
       "    <tr>\n",
       "      <th>force:relatedListDesktop</th>\n",
       "      <td>23</td>\n",
       "    </tr>\n",
       "    <tr>\n",
       "      <th>forceChatter:desktopChatter</th>\n",
       "      <td>9</td>\n",
       "    </tr>\n",
       "    <tr>\n",
       "      <th>forceChatter:feedElementFullView</th>\n",
       "      <td>1</td>\n",
       "    </tr>\n",
       "    <tr>\n",
       "      <th>forceKnowledge:articleRedirect</th>\n",
       "      <td>5</td>\n",
       "    </tr>\n",
       "    <tr>\n",
       "      <th>forceSearch:search</th>\n",
       "      <td>1</td>\n",
       "    </tr>\n",
       "    <tr>\n",
       "      <th>forceSearch:searchPageDesktop</th>\n",
       "      <td>87</td>\n",
       "    </tr>\n",
       "    <tr>\n",
       "      <th>home:landing</th>\n",
       "      <td>132</td>\n",
       "    </tr>\n",
       "    <tr>\n",
       "      <th>markup://force:routingRetryPanel</th>\n",
       "      <td>4</td>\n",
       "    </tr>\n",
       "    <tr>\n",
       "      <th>omni:supervisorPanel</th>\n",
       "      <td>236</td>\n",
       "    </tr>\n",
       "    <tr>\n",
       "      <th>one:auraContainer</th>\n",
       "      <td>30</td>\n",
       "    </tr>\n",
       "    <tr>\n",
       "      <th>one:consoleObjectHome</th>\n",
       "      <td>1</td>\n",
       "    </tr>\n",
       "    <tr>\n",
       "      <th>one:recordActionWrapper</th>\n",
       "      <td>25</td>\n",
       "    </tr>\n",
       "    <tr>\n",
       "      <th>one:recordHomeFlexipage</th>\n",
       "      <td>1172</td>\n",
       "    </tr>\n",
       "    <tr>\n",
       "      <th>one:recordHomeFlexipage2Wrapper</th>\n",
       "      <td>2256</td>\n",
       "    </tr>\n",
       "    <tr>\n",
       "      <th>one:twoColumnLayout</th>\n",
       "      <td>13</td>\n",
       "    </tr>\n",
       "    <tr>\n",
       "      <th>reports:reportBase</th>\n",
       "      <td>368</td>\n",
       "    </tr>\n",
       "    <tr>\n",
       "      <th>runtime_platform_actions:quickActionWrapper</th>\n",
       "      <td>1</td>\n",
       "    </tr>\n",
       "    <tr>\n",
       "      <th>runtime_sales_activities:taskBorderLayout</th>\n",
       "      <td>62</td>\n",
       "    </tr>\n",
       "    <tr>\n",
       "      <th>runtime_sales_emailtemplateui:emailTemplateObjectHome</th>\n",
       "      <td>1</td>\n",
       "    </tr>\n",
       "    <tr>\n",
       "      <th>sfa:analyticsHome</th>\n",
       "      <td>4</td>\n",
       "    </tr>\n",
       "    <tr>\n",
       "      <th>support:toggleObjectHomeView</th>\n",
       "      <td>1</td>\n",
       "    </tr>\n",
       "    <tr>\n",
       "      <th>undefined</th>\n",
       "      <td>109</td>\n",
       "    </tr>\n",
       "    <tr>\n",
       "      <th>unknown</th>\n",
       "      <td>133</td>\n",
       "    </tr>\n",
       "  </tbody>\n",
       "</table>\n",
       "</div>"
      ],
      "text/plain": [
       "                                                    UI_EVENT_ID\n",
       "PAGE_CONTEXT                                                   \n",
       "desktopDashboards:dashboard                                   1\n",
       "force:objectHomeDesktop                                    2579\n",
       "force:relatedListDesktop                                     23\n",
       "forceChatter:desktopChatter                                   9\n",
       "forceChatter:feedElementFullView                              1\n",
       "forceKnowledge:articleRedirect                                5\n",
       "forceSearch:search                                            1\n",
       "forceSearch:searchPageDesktop                                87\n",
       "home:landing                                                132\n",
       "markup://force:routingRetryPanel                              4\n",
       "omni:supervisorPanel                                        236\n",
       "one:auraContainer                                            30\n",
       "one:consoleObjectHome                                         1\n",
       "one:recordActionWrapper                                      25\n",
       "one:recordHomeFlexipage                                    1172\n",
       "one:recordHomeFlexipage2Wrapper                            2256\n",
       "one:twoColumnLayout                                          13\n",
       "reports:reportBase                                          368\n",
       "runtime_platform_actions:quickActionWrapper                   1\n",
       "runtime_sales_activities:taskBorderLayout                    62\n",
       "runtime_sales_emailtemplateui:emailTemplateObje...            1\n",
       "sfa:analyticsHome                                             4\n",
       "support:toggleObjectHomeView                                  1\n",
       "undefined                                                   109\n",
       "unknown                                                     133"
      ]
     },
     "execution_count": 139,
     "metadata": {},
     "output_type": "execute_result"
    }
   ],
   "source": [
    "lightning_error_group"
   ]
  },
  {
   "cell_type": "markdown",
   "id": "9d899a7d",
   "metadata": {},
   "source": [
    "Sorting by ***UI_EVENT_ID*** count"
   ]
  },
  {
   "cell_type": "code",
   "execution_count": 140,
   "id": "60275b39",
   "metadata": {},
   "outputs": [],
   "source": [
    "lightning_error_group_sorted = lightning_error_group.sort_values(by=['UI_EVENT_ID'], ascending=False)"
   ]
  },
  {
   "cell_type": "code",
   "execution_count": 141,
   "id": "f90c8d36",
   "metadata": {
    "scrolled": true
   },
   "outputs": [
    {
     "data": {
      "text/html": [
       "<div>\n",
       "<style scoped>\n",
       "    .dataframe tbody tr th:only-of-type {\n",
       "        vertical-align: middle;\n",
       "    }\n",
       "\n",
       "    .dataframe tbody tr th {\n",
       "        vertical-align: top;\n",
       "    }\n",
       "\n",
       "    .dataframe thead th {\n",
       "        text-align: right;\n",
       "    }\n",
       "</style>\n",
       "<table border=\"1\" class=\"dataframe\">\n",
       "  <thead>\n",
       "    <tr style=\"text-align: right;\">\n",
       "      <th></th>\n",
       "      <th>UI_EVENT_ID</th>\n",
       "    </tr>\n",
       "    <tr>\n",
       "      <th>PAGE_CONTEXT</th>\n",
       "      <th></th>\n",
       "    </tr>\n",
       "  </thead>\n",
       "  <tbody>\n",
       "    <tr>\n",
       "      <th>force:objectHomeDesktop</th>\n",
       "      <td>2579</td>\n",
       "    </tr>\n",
       "    <tr>\n",
       "      <th>one:recordHomeFlexipage2Wrapper</th>\n",
       "      <td>2256</td>\n",
       "    </tr>\n",
       "    <tr>\n",
       "      <th>one:recordHomeFlexipage</th>\n",
       "      <td>1172</td>\n",
       "    </tr>\n",
       "    <tr>\n",
       "      <th>reports:reportBase</th>\n",
       "      <td>368</td>\n",
       "    </tr>\n",
       "    <tr>\n",
       "      <th>omni:supervisorPanel</th>\n",
       "      <td>236</td>\n",
       "    </tr>\n",
       "    <tr>\n",
       "      <th>unknown</th>\n",
       "      <td>133</td>\n",
       "    </tr>\n",
       "    <tr>\n",
       "      <th>home:landing</th>\n",
       "      <td>132</td>\n",
       "    </tr>\n",
       "    <tr>\n",
       "      <th>undefined</th>\n",
       "      <td>109</td>\n",
       "    </tr>\n",
       "    <tr>\n",
       "      <th>forceSearch:searchPageDesktop</th>\n",
       "      <td>87</td>\n",
       "    </tr>\n",
       "    <tr>\n",
       "      <th>runtime_sales_activities:taskBorderLayout</th>\n",
       "      <td>62</td>\n",
       "    </tr>\n",
       "    <tr>\n",
       "      <th>one:auraContainer</th>\n",
       "      <td>30</td>\n",
       "    </tr>\n",
       "    <tr>\n",
       "      <th>one:recordActionWrapper</th>\n",
       "      <td>25</td>\n",
       "    </tr>\n",
       "    <tr>\n",
       "      <th>force:relatedListDesktop</th>\n",
       "      <td>23</td>\n",
       "    </tr>\n",
       "    <tr>\n",
       "      <th>one:twoColumnLayout</th>\n",
       "      <td>13</td>\n",
       "    </tr>\n",
       "    <tr>\n",
       "      <th>forceChatter:desktopChatter</th>\n",
       "      <td>9</td>\n",
       "    </tr>\n",
       "    <tr>\n",
       "      <th>forceKnowledge:articleRedirect</th>\n",
       "      <td>5</td>\n",
       "    </tr>\n",
       "    <tr>\n",
       "      <th>markup://force:routingRetryPanel</th>\n",
       "      <td>4</td>\n",
       "    </tr>\n",
       "    <tr>\n",
       "      <th>sfa:analyticsHome</th>\n",
       "      <td>4</td>\n",
       "    </tr>\n",
       "    <tr>\n",
       "      <th>support:toggleObjectHomeView</th>\n",
       "      <td>1</td>\n",
       "    </tr>\n",
       "    <tr>\n",
       "      <th>runtime_sales_emailtemplateui:emailTemplateObjectHome</th>\n",
       "      <td>1</td>\n",
       "    </tr>\n",
       "    <tr>\n",
       "      <th>desktopDashboards:dashboard</th>\n",
       "      <td>1</td>\n",
       "    </tr>\n",
       "    <tr>\n",
       "      <th>runtime_platform_actions:quickActionWrapper</th>\n",
       "      <td>1</td>\n",
       "    </tr>\n",
       "    <tr>\n",
       "      <th>forceSearch:search</th>\n",
       "      <td>1</td>\n",
       "    </tr>\n",
       "    <tr>\n",
       "      <th>forceChatter:feedElementFullView</th>\n",
       "      <td>1</td>\n",
       "    </tr>\n",
       "    <tr>\n",
       "      <th>one:consoleObjectHome</th>\n",
       "      <td>1</td>\n",
       "    </tr>\n",
       "  </tbody>\n",
       "</table>\n",
       "</div>"
      ],
      "text/plain": [
       "                                                    UI_EVENT_ID\n",
       "PAGE_CONTEXT                                                   \n",
       "force:objectHomeDesktop                                    2579\n",
       "one:recordHomeFlexipage2Wrapper                            2256\n",
       "one:recordHomeFlexipage                                    1172\n",
       "reports:reportBase                                          368\n",
       "omni:supervisorPanel                                        236\n",
       "unknown                                                     133\n",
       "home:landing                                                132\n",
       "undefined                                                   109\n",
       "forceSearch:searchPageDesktop                                87\n",
       "runtime_sales_activities:taskBorderLayout                    62\n",
       "one:auraContainer                                            30\n",
       "one:recordActionWrapper                                      25\n",
       "force:relatedListDesktop                                     23\n",
       "one:twoColumnLayout                                          13\n",
       "forceChatter:desktopChatter                                   9\n",
       "forceKnowledge:articleRedirect                                5\n",
       "markup://force:routingRetryPanel                              4\n",
       "sfa:analyticsHome                                             4\n",
       "support:toggleObjectHomeView                                  1\n",
       "runtime_sales_emailtemplateui:emailTemplateObje...            1\n",
       "desktopDashboards:dashboard                                   1\n",
       "runtime_platform_actions:quickActionWrapper                   1\n",
       "forceSearch:search                                            1\n",
       "forceChatter:feedElementFullView                              1\n",
       "one:consoleObjectHome                                         1"
      ]
     },
     "execution_count": 141,
     "metadata": {},
     "output_type": "execute_result"
    }
   ],
   "source": [
    "lightning_error_group_sorted"
   ]
  },
  {
   "cell_type": "markdown",
   "id": "2ce2fbb7",
   "metadata": {},
   "source": [
    "Viewing the data"
   ]
  },
  {
   "cell_type": "code",
   "execution_count": 142,
   "id": "4735942b",
   "metadata": {},
   "outputs": [
    {
     "data": {
      "text/plain": [
       "Text(0.5, 1.0, 'Components that appear the most during the day')"
      ]
     },
     "execution_count": 142,
     "metadata": {},
     "output_type": "execute_result"
    },
    {
     "data": {
      "image/png": "[encoded data removed]",
      "text/plain": [
       "<Figure size 720x432 with 1 Axes>"
      ]
     },
     "metadata": {
      "needs_background": "light"
     },
     "output_type": "display_data"
    }
   ],
   "source": [
    "graph = lightning_error_group_sorted.head(10).plot.barh(figsize=(10, 6))\n",
    "graph.set_ylabel('Page Context')\n",
    "graph.set_xlabel('Count')\n",
    "graph.set_title('Components that appear the most during the day')"
   ]
  },
  {
   "cell_type": "markdown",
   "id": "978ff99a",
   "metadata": {},
   "source": [
    "### Getting top ***PAGE_CONTEXT***"
   ]
  },
  {
   "cell_type": "code",
   "execution_count": 143,
   "id": "6e007a37",
   "metadata": {},
   "outputs": [],
   "source": [
    "number_of_page_context = 5\n",
    "\n",
    "top_page_context = lightning_error_group_sorted.head(number_of_page_context)"
   ]
  },
  {
   "cell_type": "code",
   "execution_count": 144,
   "id": "421d8c50",
   "metadata": {},
   "outputs": [
    {
     "data": {
      "text/html": [
       "<div>\n",
       "<style scoped>\n",
       "    .dataframe tbody tr th:only-of-type {\n",
       "        vertical-align: middle;\n",
       "    }\n",
       "\n",
       "    .dataframe tbody tr th {\n",
       "        vertical-align: top;\n",
       "    }\n",
       "\n",
       "    .dataframe thead th {\n",
       "        text-align: right;\n",
       "    }\n",
       "</style>\n",
       "<table border=\"1\" class=\"dataframe\">\n",
       "  <thead>\n",
       "    <tr style=\"text-align: right;\">\n",
       "      <th></th>\n",
       "      <th>UI_EVENT_ID</th>\n",
       "    </tr>\n",
       "    <tr>\n",
       "      <th>PAGE_CONTEXT</th>\n",
       "      <th></th>\n",
       "    </tr>\n",
       "  </thead>\n",
       "  <tbody>\n",
       "    <tr>\n",
       "      <th>force:objectHomeDesktop</th>\n",
       "      <td>2579</td>\n",
       "    </tr>\n",
       "    <tr>\n",
       "      <th>one:recordHomeFlexipage2Wrapper</th>\n",
       "      <td>2256</td>\n",
       "    </tr>\n",
       "    <tr>\n",
       "      <th>one:recordHomeFlexipage</th>\n",
       "      <td>1172</td>\n",
       "    </tr>\n",
       "    <tr>\n",
       "      <th>reports:reportBase</th>\n",
       "      <td>368</td>\n",
       "    </tr>\n",
       "    <tr>\n",
       "      <th>omni:supervisorPanel</th>\n",
       "      <td>236</td>\n",
       "    </tr>\n",
       "  </tbody>\n",
       "</table>\n",
       "</div>"
      ],
      "text/plain": [
       "                                 UI_EVENT_ID\n",
       "PAGE_CONTEXT                                \n",
       "force:objectHomeDesktop                 2579\n",
       "one:recordHomeFlexipage2Wrapper         2256\n",
       "one:recordHomeFlexipage                 1172\n",
       "reports:reportBase                       368\n",
       "omni:supervisorPanel                     236"
      ]
     },
     "execution_count": 144,
     "metadata": {},
     "output_type": "execute_result"
    }
   ],
   "source": [
    "top_page_context"
   ]
  },
  {
   "cell_type": "markdown",
   "id": "e38170d2",
   "metadata": {},
   "source": [
    "Reseting index"
   ]
  },
  {
   "cell_type": "code",
   "execution_count": 145,
   "id": "5c15db0d",
   "metadata": {},
   "outputs": [],
   "source": [
    "top_page_context = top_page_context.reset_index()"
   ]
  },
  {
   "cell_type": "code",
   "execution_count": 146,
   "id": "e020ad01",
   "metadata": {
    "scrolled": true
   },
   "outputs": [
    {
     "data": {
      "text/html": [
       "<div>\n",
       "<style scoped>\n",
       "    .dataframe tbody tr th:only-of-type {\n",
       "        vertical-align: middle;\n",
       "    }\n",
       "\n",
       "    .dataframe tbody tr th {\n",
       "        vertical-align: top;\n",
       "    }\n",
       "\n",
       "    .dataframe thead th {\n",
       "        text-align: right;\n",
       "    }\n",
       "</style>\n",
       "<table border=\"1\" class=\"dataframe\">\n",
       "  <thead>\n",
       "    <tr style=\"text-align: right;\">\n",
       "      <th></th>\n",
       "      <th>PAGE_CONTEXT</th>\n",
       "      <th>UI_EVENT_ID</th>\n",
       "    </tr>\n",
       "  </thead>\n",
       "  <tbody>\n",
       "    <tr>\n",
       "      <th>0</th>\n",
       "      <td>force:objectHomeDesktop</td>\n",
       "      <td>2579</td>\n",
       "    </tr>\n",
       "    <tr>\n",
       "      <th>1</th>\n",
       "      <td>one:recordHomeFlexipage2Wrapper</td>\n",
       "      <td>2256</td>\n",
       "    </tr>\n",
       "    <tr>\n",
       "      <th>2</th>\n",
       "      <td>one:recordHomeFlexipage</td>\n",
       "      <td>1172</td>\n",
       "    </tr>\n",
       "    <tr>\n",
       "      <th>3</th>\n",
       "      <td>reports:reportBase</td>\n",
       "      <td>368</td>\n",
       "    </tr>\n",
       "    <tr>\n",
       "      <th>4</th>\n",
       "      <td>omni:supervisorPanel</td>\n",
       "      <td>236</td>\n",
       "    </tr>\n",
       "  </tbody>\n",
       "</table>\n",
       "</div>"
      ],
      "text/plain": [
       "                      PAGE_CONTEXT  UI_EVENT_ID\n",
       "0          force:objectHomeDesktop         2579\n",
       "1  one:recordHomeFlexipage2Wrapper         2256\n",
       "2          one:recordHomeFlexipage         1172\n",
       "3               reports:reportBase          368\n",
       "4             omni:supervisorPanel          236"
      ]
     },
     "execution_count": 146,
     "metadata": {},
     "output_type": "execute_result"
    }
   ],
   "source": [
    "top_page_context"
   ]
  },
  {
   "cell_type": "markdown",
   "id": "d047d591",
   "metadata": {},
   "source": [
    "Result"
   ]
  },
  {
   "cell_type": "code",
   "execution_count": 147,
   "id": "fac5c7df",
   "metadata": {},
   "outputs": [
    {
     "name": "stdout",
     "output_type": "stream",
     "text": [
      "The top 5 PAGE_CONTEXT are: \n",
      "1 - force:objectHomeDesktop\n",
      "2 - one:recordHomeFlexipage2Wrapper\n",
      "3 - one:recordHomeFlexipage\n",
      "4 - reports:reportBase\n",
      "5 - omni:supervisorPanel\n"
     ]
    }
   ],
   "source": [
    "top_page_context_values = []\n",
    "\n",
    "print(f\"The top {number_of_page_context} PAGE_CONTEXT are: \")\n",
    "for i in top_page_context.index:\n",
    "    value = top_page_context['PAGE_CONTEXT'][i]\n",
    "    \n",
    "    top_page_context_values.append(value)\n",
    "    print(f\"{i + 1} - {value}\")"
   ]
  },
  {
   "cell_type": "markdown",
   "id": "aa63d017",
   "metadata": {},
   "source": [
    "## Analyzing by peak time"
   ]
  },
  {
   "cell_type": "markdown",
   "id": "c5ae5d45",
   "metadata": {},
   "source": [
    "Filtering by peak hours"
   ]
  },
  {
   "cell_type": "code",
   "execution_count": 148,
   "id": "7c641e4b",
   "metadata": {},
   "outputs": [],
   "source": [
    "filtered_lightning_error = lightning_error[lightning_error.TIMESTAMP_DERIVED_HOUR.isin(top_hours_values)]"
   ]
  },
  {
   "cell_type": "markdown",
   "id": "00c35460",
   "metadata": {},
   "source": [
    "Grouping ***PAGE_CONTEXT*** by the count of errors"
   ]
  },
  {
   "cell_type": "code",
   "execution_count": 149,
   "id": "a81e693f",
   "metadata": {},
   "outputs": [],
   "source": [
    "filtered_lightning_error = filtered_lightning_error.groupby(['PAGE_CONTEXT']).agg({'UI_EVENT_ID': 'count'})"
   ]
  },
  {
   "cell_type": "code",
   "execution_count": 150,
   "id": "729f55ea",
   "metadata": {
    "scrolled": true
   },
   "outputs": [
    {
     "data": {
      "text/html": [
       "<div>\n",
       "<style scoped>\n",
       "    .dataframe tbody tr th:only-of-type {\n",
       "        vertical-align: middle;\n",
       "    }\n",
       "\n",
       "    .dataframe tbody tr th {\n",
       "        vertical-align: top;\n",
       "    }\n",
       "\n",
       "    .dataframe thead th {\n",
       "        text-align: right;\n",
       "    }\n",
       "</style>\n",
       "<table border=\"1\" class=\"dataframe\">\n",
       "  <thead>\n",
       "    <tr style=\"text-align: right;\">\n",
       "      <th></th>\n",
       "      <th>UI_EVENT_ID</th>\n",
       "    </tr>\n",
       "    <tr>\n",
       "      <th>PAGE_CONTEXT</th>\n",
       "      <th></th>\n",
       "    </tr>\n",
       "  </thead>\n",
       "  <tbody>\n",
       "    <tr>\n",
       "      <th>force:objectHomeDesktop</th>\n",
       "      <td>1217</td>\n",
       "    </tr>\n",
       "    <tr>\n",
       "      <th>force:relatedListDesktop</th>\n",
       "      <td>7</td>\n",
       "    </tr>\n",
       "    <tr>\n",
       "      <th>forceKnowledge:articleRedirect</th>\n",
       "      <td>1</td>\n",
       "    </tr>\n",
       "    <tr>\n",
       "      <th>forceSearch:searchPageDesktop</th>\n",
       "      <td>24</td>\n",
       "    </tr>\n",
       "    <tr>\n",
       "      <th>home:landing</th>\n",
       "      <td>15</td>\n",
       "    </tr>\n",
       "    <tr>\n",
       "      <th>omni:supervisorPanel</th>\n",
       "      <td>178</td>\n",
       "    </tr>\n",
       "    <tr>\n",
       "      <th>one:auraContainer</th>\n",
       "      <td>4</td>\n",
       "    </tr>\n",
       "    <tr>\n",
       "      <th>one:recordActionWrapper</th>\n",
       "      <td>13</td>\n",
       "    </tr>\n",
       "    <tr>\n",
       "      <th>one:recordHomeFlexipage</th>\n",
       "      <td>435</td>\n",
       "    </tr>\n",
       "    <tr>\n",
       "      <th>one:recordHomeFlexipage2Wrapper</th>\n",
       "      <td>420</td>\n",
       "    </tr>\n",
       "    <tr>\n",
       "      <th>reports:reportBase</th>\n",
       "      <td>164</td>\n",
       "    </tr>\n",
       "    <tr>\n",
       "      <th>runtime_platform_actions:quickActionWrapper</th>\n",
       "      <td>1</td>\n",
       "    </tr>\n",
       "    <tr>\n",
       "      <th>runtime_sales_activities:taskBorderLayout</th>\n",
       "      <td>3</td>\n",
       "    </tr>\n",
       "    <tr>\n",
       "      <th>undefined</th>\n",
       "      <td>6</td>\n",
       "    </tr>\n",
       "    <tr>\n",
       "      <th>unknown</th>\n",
       "      <td>2</td>\n",
       "    </tr>\n",
       "  </tbody>\n",
       "</table>\n",
       "</div>"
      ],
      "text/plain": [
       "                                             UI_EVENT_ID\n",
       "PAGE_CONTEXT                                            \n",
       "force:objectHomeDesktop                             1217\n",
       "force:relatedListDesktop                               7\n",
       "forceKnowledge:articleRedirect                         1\n",
       "forceSearch:searchPageDesktop                         24\n",
       "home:landing                                          15\n",
       "omni:supervisorPanel                                 178\n",
       "one:auraContainer                                      4\n",
       "one:recordActionWrapper                               13\n",
       "one:recordHomeFlexipage                              435\n",
       "one:recordHomeFlexipage2Wrapper                      420\n",
       "reports:reportBase                                   164\n",
       "runtime_platform_actions:quickActionWrapper            1\n",
       "runtime_sales_activities:taskBorderLayout              3\n",
       "undefined                                              6\n",
       "unknown                                                2"
      ]
     },
     "execution_count": 150,
     "metadata": {},
     "output_type": "execute_result"
    }
   ],
   "source": [
    "filtered_lightning_error"
   ]
  },
  {
   "cell_type": "markdown",
   "id": "06e8e048",
   "metadata": {},
   "source": [
    "Sorting by ***UI_EVENT_ID*** count"
   ]
  },
  {
   "cell_type": "code",
   "execution_count": 151,
   "id": "7bf1d49e",
   "metadata": {},
   "outputs": [],
   "source": [
    "filtered_lightning_error = filtered_lightning_error.sort_values(by=['UI_EVENT_ID'], ascending=False)"
   ]
  },
  {
   "cell_type": "code",
   "execution_count": 152,
   "id": "e1d69aee",
   "metadata": {},
   "outputs": [
    {
     "data": {
      "text/html": [
       "<div>\n",
       "<style scoped>\n",
       "    .dataframe tbody tr th:only-of-type {\n",
       "        vertical-align: middle;\n",
       "    }\n",
       "\n",
       "    .dataframe tbody tr th {\n",
       "        vertical-align: top;\n",
       "    }\n",
       "\n",
       "    .dataframe thead th {\n",
       "        text-align: right;\n",
       "    }\n",
       "</style>\n",
       "<table border=\"1\" class=\"dataframe\">\n",
       "  <thead>\n",
       "    <tr style=\"text-align: right;\">\n",
       "      <th></th>\n",
       "      <th>UI_EVENT_ID</th>\n",
       "    </tr>\n",
       "    <tr>\n",
       "      <th>PAGE_CONTEXT</th>\n",
       "      <th></th>\n",
       "    </tr>\n",
       "  </thead>\n",
       "  <tbody>\n",
       "    <tr>\n",
       "      <th>force:objectHomeDesktop</th>\n",
       "      <td>1217</td>\n",
       "    </tr>\n",
       "    <tr>\n",
       "      <th>one:recordHomeFlexipage</th>\n",
       "      <td>435</td>\n",
       "    </tr>\n",
       "    <tr>\n",
       "      <th>one:recordHomeFlexipage2Wrapper</th>\n",
       "      <td>420</td>\n",
       "    </tr>\n",
       "    <tr>\n",
       "      <th>omni:supervisorPanel</th>\n",
       "      <td>178</td>\n",
       "    </tr>\n",
       "    <tr>\n",
       "      <th>reports:reportBase</th>\n",
       "      <td>164</td>\n",
       "    </tr>\n",
       "    <tr>\n",
       "      <th>forceSearch:searchPageDesktop</th>\n",
       "      <td>24</td>\n",
       "    </tr>\n",
       "    <tr>\n",
       "      <th>home:landing</th>\n",
       "      <td>15</td>\n",
       "    </tr>\n",
       "    <tr>\n",
       "      <th>one:recordActionWrapper</th>\n",
       "      <td>13</td>\n",
       "    </tr>\n",
       "    <tr>\n",
       "      <th>force:relatedListDesktop</th>\n",
       "      <td>7</td>\n",
       "    </tr>\n",
       "    <tr>\n",
       "      <th>undefined</th>\n",
       "      <td>6</td>\n",
       "    </tr>\n",
       "    <tr>\n",
       "      <th>one:auraContainer</th>\n",
       "      <td>4</td>\n",
       "    </tr>\n",
       "    <tr>\n",
       "      <th>runtime_sales_activities:taskBorderLayout</th>\n",
       "      <td>3</td>\n",
       "    </tr>\n",
       "    <tr>\n",
       "      <th>unknown</th>\n",
       "      <td>2</td>\n",
       "    </tr>\n",
       "    <tr>\n",
       "      <th>forceKnowledge:articleRedirect</th>\n",
       "      <td>1</td>\n",
       "    </tr>\n",
       "    <tr>\n",
       "      <th>runtime_platform_actions:quickActionWrapper</th>\n",
       "      <td>1</td>\n",
       "    </tr>\n",
       "  </tbody>\n",
       "</table>\n",
       "</div>"
      ],
      "text/plain": [
       "                                             UI_EVENT_ID\n",
       "PAGE_CONTEXT                                            \n",
       "force:objectHomeDesktop                             1217\n",
       "one:recordHomeFlexipage                              435\n",
       "one:recordHomeFlexipage2Wrapper                      420\n",
       "omni:supervisorPanel                                 178\n",
       "reports:reportBase                                   164\n",
       "forceSearch:searchPageDesktop                         24\n",
       "home:landing                                          15\n",
       "one:recordActionWrapper                               13\n",
       "force:relatedListDesktop                               7\n",
       "undefined                                              6\n",
       "one:auraContainer                                      4\n",
       "runtime_sales_activities:taskBorderLayout              3\n",
       "unknown                                                2\n",
       "forceKnowledge:articleRedirect                         1\n",
       "runtime_platform_actions:quickActionWrapper            1"
      ]
     },
     "execution_count": 152,
     "metadata": {},
     "output_type": "execute_result"
    }
   ],
   "source": [
    "filtered_lightning_error"
   ]
  },
  {
   "cell_type": "markdown",
   "id": "b194f9a4",
   "metadata": {},
   "source": [
    "Viewing the data"
   ]
  },
  {
   "cell_type": "code",
   "execution_count": 153,
   "id": "2aabc45f",
   "metadata": {},
   "outputs": [
    {
     "data": {
      "text/plain": [
       "Text(0.5, 1.0, 'Components that appear the most during the day')"
      ]
     },
     "execution_count": 153,
     "metadata": {},
     "output_type": "execute_result"
    },
    {
     "data": {
      "image/png": "[encoded data removed]",
      "text/plain": [
       "<Figure size 720x432 with 1 Axes>"
      ]
     },
     "metadata": {
      "needs_background": "light"
     },
     "output_type": "display_data"
    }
   ],
   "source": [
    "graph = filtered_lightning_error.head(10).plot.barh(figsize=(10, 6))\n",
    "graph.set_ylabel('Page Context')\n",
    "graph.set_xlabel('Count')\n",
    "graph.set_title('Components that appear the most during the day')"
   ]
  },
  {
   "cell_type": "markdown",
   "id": "ce922d74",
   "metadata": {},
   "source": [
    "## Analyzing PAGE_CONTEXT by hour"
   ]
  },
  {
   "cell_type": "markdown",
   "id": "320bbb07",
   "metadata": {},
   "source": [
    "Grouping ***PAGE_CONTEXT*** and ***TIMESTAMP_DERIVED_HOUR*** by the count of errors"
   ]
  },
  {
   "cell_type": "code",
   "execution_count": 154,
   "id": "419408d7",
   "metadata": {},
   "outputs": [],
   "source": [
    "lightning_error_group = lightning_error.groupby(['PAGE_CONTEXT', 'TIMESTAMP_DERIVED_HOUR']).agg({'UI_EVENT_ID': 'count'})"
   ]
  },
  {
   "cell_type": "markdown",
   "id": "9ebd7cfd",
   "metadata": {},
   "source": [
    "Reseting index"
   ]
  },
  {
   "cell_type": "code",
   "execution_count": 155,
   "id": "9b6729a0",
   "metadata": {},
   "outputs": [],
   "source": [
    "lightning_error_group = lightning_error_group.reset_index()"
   ]
  },
  {
   "cell_type": "code",
   "execution_count": 156,
   "id": "cdfffd64",
   "metadata": {
    "scrolled": false
   },
   "outputs": [
    {
     "data": {
      "text/html": [
       "<div>\n",
       "<style scoped>\n",
       "    .dataframe tbody tr th:only-of-type {\n",
       "        vertical-align: middle;\n",
       "    }\n",
       "\n",
       "    .dataframe tbody tr th {\n",
       "        vertical-align: top;\n",
       "    }\n",
       "\n",
       "    .dataframe thead th {\n",
       "        text-align: right;\n",
       "    }\n",
       "</style>\n",
       "<table border=\"1\" class=\"dataframe\">\n",
       "  <thead>\n",
       "    <tr style=\"text-align: right;\">\n",
       "      <th></th>\n",
       "      <th>PAGE_CONTEXT</th>\n",
       "      <th>TIMESTAMP_DERIVED_HOUR</th>\n",
       "      <th>UI_EVENT_ID</th>\n",
       "    </tr>\n",
       "  </thead>\n",
       "  <tbody>\n",
       "    <tr>\n",
       "      <th>0</th>\n",
       "      <td>desktopDashboards:dashboard</td>\n",
       "      <td>1</td>\n",
       "      <td>1</td>\n",
       "    </tr>\n",
       "    <tr>\n",
       "      <th>1</th>\n",
       "      <td>force:objectHomeDesktop</td>\n",
       "      <td>0</td>\n",
       "      <td>67</td>\n",
       "    </tr>\n",
       "    <tr>\n",
       "      <th>2</th>\n",
       "      <td>force:objectHomeDesktop</td>\n",
       "      <td>1</td>\n",
       "      <td>101</td>\n",
       "    </tr>\n",
       "    <tr>\n",
       "      <th>3</th>\n",
       "      <td>force:objectHomeDesktop</td>\n",
       "      <td>2</td>\n",
       "      <td>197</td>\n",
       "    </tr>\n",
       "    <tr>\n",
       "      <th>4</th>\n",
       "      <td>force:objectHomeDesktop</td>\n",
       "      <td>3</td>\n",
       "      <td>109</td>\n",
       "    </tr>\n",
       "    <tr>\n",
       "      <th>...</th>\n",
       "      <td>...</td>\n",
       "      <td>...</td>\n",
       "      <td>...</td>\n",
       "    </tr>\n",
       "    <tr>\n",
       "      <th>269</th>\n",
       "      <td>unknown</td>\n",
       "      <td>19</td>\n",
       "      <td>14</td>\n",
       "    </tr>\n",
       "    <tr>\n",
       "      <th>270</th>\n",
       "      <td>unknown</td>\n",
       "      <td>20</td>\n",
       "      <td>6</td>\n",
       "    </tr>\n",
       "    <tr>\n",
       "      <th>271</th>\n",
       "      <td>unknown</td>\n",
       "      <td>21</td>\n",
       "      <td>2</td>\n",
       "    </tr>\n",
       "    <tr>\n",
       "      <th>272</th>\n",
       "      <td>unknown</td>\n",
       "      <td>22</td>\n",
       "      <td>1</td>\n",
       "    </tr>\n",
       "    <tr>\n",
       "      <th>273</th>\n",
       "      <td>unknown</td>\n",
       "      <td>23</td>\n",
       "      <td>1</td>\n",
       "    </tr>\n",
       "  </tbody>\n",
       "</table>\n",
       "<p>274 rows × 3 columns</p>\n",
       "</div>"
      ],
      "text/plain": [
       "                    PAGE_CONTEXT  TIMESTAMP_DERIVED_HOUR  UI_EVENT_ID\n",
       "0    desktopDashboards:dashboard                       1            1\n",
       "1        force:objectHomeDesktop                       0           67\n",
       "2        force:objectHomeDesktop                       1          101\n",
       "3        force:objectHomeDesktop                       2          197\n",
       "4        force:objectHomeDesktop                       3          109\n",
       "..                           ...                     ...          ...\n",
       "269                      unknown                      19           14\n",
       "270                      unknown                      20            6\n",
       "271                      unknown                      21            2\n",
       "272                      unknown                      22            1\n",
       "273                      unknown                      23            1\n",
       "\n",
       "[274 rows x 3 columns]"
      ]
     },
     "execution_count": 156,
     "metadata": {},
     "output_type": "execute_result"
    }
   ],
   "source": [
    "lightning_error_group"
   ]
  },
  {
   "cell_type": "markdown",
   "id": "863febcf",
   "metadata": {},
   "source": [
    "Getting the data for the visualization"
   ]
  },
  {
   "cell_type": "code",
   "execution_count": 157,
   "id": "1da6b8f8",
   "metadata": {},
   "outputs": [],
   "source": [
    "list_of_hour = lightning_error_group['TIMESTAMP_DERIVED_HOUR'].tolist()\n",
    "list_of_unique_hour = lightning_error_group['TIMESTAMP_DERIVED_HOUR'].unique()\n",
    "list_of_unique_page_context = lightning_error_group['PAGE_CONTEXT'].unique()\n",
    "list_of_page_context = lightning_error_group['PAGE_CONTEXT'].tolist()\n",
    "list_of_ui_event_id_count = lightning_error_group['UI_EVENT_ID'].tolist()"
   ]
  },
  {
   "cell_type": "markdown",
   "id": "13686fe3",
   "metadata": {},
   "source": [
    "Getting the result dictionary format"
   ]
  },
  {
   "cell_type": "code",
   "execution_count": 158,
   "id": "6ee8be34",
   "metadata": {},
   "outputs": [],
   "source": [
    "result = dictionary_format(top_page_context_values, top_hours_values)"
   ]
  },
  {
   "cell_type": "code",
   "execution_count": 159,
   "id": "1c337011",
   "metadata": {},
   "outputs": [
    {
     "data": {
      "text/plain": [
       "{5: [0, 0, 0, 0, 0],\n",
       " 6: [0, 0, 0, 0, 0],\n",
       " 7: [0, 0, 0, 0, 0],\n",
       " 8: [0, 0, 0, 0, 0],\n",
       " 9: [0, 0, 0, 0, 0]}"
      ]
     },
     "execution_count": 159,
     "metadata": {},
     "output_type": "execute_result"
    }
   ],
   "source": [
    "result"
   ]
  },
  {
   "cell_type": "markdown",
   "id": "48ae0b6c",
   "metadata": {},
   "source": [
    "Mapping the type of error to position"
   ]
  },
  {
   "cell_type": "code",
   "execution_count": 160,
   "id": "6bd3ec7c",
   "metadata": {},
   "outputs": [],
   "source": [
    "map_types = {}"
   ]
  },
  {
   "cell_type": "code",
   "execution_count": 161,
   "id": "7ec9b4fa",
   "metadata": {},
   "outputs": [],
   "source": [
    "mapping_type_to_position(top_page_context_values)"
   ]
  },
  {
   "cell_type": "code",
   "execution_count": 162,
   "id": "4a4ebe34",
   "metadata": {},
   "outputs": [
    {
     "data": {
      "text/plain": [
       "{'force:objectHomeDesktop': 0,\n",
       " 'one:recordHomeFlexipage2Wrapper': 1,\n",
       " 'one:recordHomeFlexipage': 2,\n",
       " 'reports:reportBase': 3,\n",
       " 'omni:supervisorPanel': 4}"
      ]
     },
     "execution_count": 162,
     "metadata": {},
     "output_type": "execute_result"
    }
   ],
   "source": [
    "map_types"
   ]
  },
  {
   "cell_type": "markdown",
   "id": "5851e100",
   "metadata": {},
   "source": [
    "Getting the amount of errors for each type and page"
   ]
  },
  {
   "cell_type": "code",
   "execution_count": 163,
   "id": "4a2f8355",
   "metadata": {},
   "outputs": [],
   "source": [
    "get_amount(top_page_context_values, list_of_page_context, top_hours_values, list_of_hour)"
   ]
  },
  {
   "cell_type": "code",
   "execution_count": 164,
   "id": "47265148",
   "metadata": {},
   "outputs": [
    {
     "data": {
      "text/plain": [
       "{5: [272, 83, 68, 3, 10],\n",
       " 6: [231, 92, 112, 30, 11],\n",
       " 7: [283, 90, 113, 38, 92],\n",
       " 8: [245, 68, 76, 58, 8],\n",
       " 9: [186, 87, 66, 35, 57]}"
      ]
     },
     "execution_count": 164,
     "metadata": {},
     "output_type": "execute_result"
    }
   ],
   "source": [
    "result"
   ]
  },
  {
   "cell_type": "markdown",
   "id": "f4b1daaf",
   "metadata": {},
   "source": [
    "Viewing the data"
   ]
  },
  {
   "cell_type": "code",
   "execution_count": 165,
   "id": "0c1fdab0",
   "metadata": {},
   "outputs": [
    {
     "data": {
      "image/png": "[encoded data removed]",
      "text/plain": [
       "<Figure size 864x504 with 1 Axes>"
      ]
     },
     "metadata": {
      "needs_background": "light"
     },
     "output_type": "display_data"
    }
   ],
   "source": [
    "survey(result, top_page_context_values)\n",
    "plt.ylabel(\"Hour\")\n",
    "plt.show()"
   ]
  },
  {
   "cell_type": "markdown",
   "id": "54499440",
   "metadata": {},
   "source": [
    "### By day"
   ]
  },
  {
   "cell_type": "markdown",
   "id": "53cc3d0c",
   "metadata": {},
   "source": [
    "Getting the result dictionary format"
   ]
  },
  {
   "cell_type": "code",
   "execution_count": 166,
   "id": "f0769140",
   "metadata": {},
   "outputs": [],
   "source": [
    "result = dictionary_format(top_page_context_values, intervals)"
   ]
  },
  {
   "cell_type": "markdown",
   "id": "616ef942",
   "metadata": {},
   "source": [
    "Mapping the type of error to position"
   ]
  },
  {
   "cell_type": "code",
   "execution_count": 167,
   "id": "e37d4e9b",
   "metadata": {},
   "outputs": [],
   "source": [
    "mapping_type_to_position(top_page_context_values)"
   ]
  },
  {
   "cell_type": "code",
   "execution_count": 168,
   "id": "fe77562d",
   "metadata": {},
   "outputs": [
    {
     "data": {
      "text/plain": [
       "{'force:objectHomeDesktop': 0,\n",
       " 'one:recordHomeFlexipage2Wrapper': 1,\n",
       " 'one:recordHomeFlexipage': 2,\n",
       " 'reports:reportBase': 3,\n",
       " 'omni:supervisorPanel': 4}"
      ]
     },
     "execution_count": 168,
     "metadata": {},
     "output_type": "execute_result"
    }
   ],
   "source": [
    "map_types"
   ]
  },
  {
   "cell_type": "markdown",
   "id": "85b2e397",
   "metadata": {},
   "source": [
    "Getting the amount of components for each time"
   ]
  },
  {
   "cell_type": "code",
   "execution_count": 169,
   "id": "602204ca",
   "metadata": {},
   "outputs": [],
   "source": [
    "# def get_amount_errors_intervals(list_types_of_erros, intervals, intervals_dict):\n",
    "#     for unique_ui_event_source in list_types_of_erros:\n",
    "#         for i in range(len(list_of_page_context)):\n",
    "#             if list_of_page_context[i] == unique_ui_event_source:\n",
    "#                 for interval in intervals:\n",
    "#                     if list_of_hour[i] in intervals_dict[interval]:\n",
    "#                         result[interval][map_types[unique_ui_event_source]] += list_of_ui_event_id_count[i]"
   ]
  },
  {
   "cell_type": "code",
   "execution_count": 170,
   "id": "ebbf7608",
   "metadata": {},
   "outputs": [],
   "source": [
    "# get_amount_errors_intervals(top_page_context_values, intervals, intervals_dict)\n",
    "get_amount_intervals(top_page_context_values, list_of_page_context, intervals, intervals_dict)"
   ]
  },
  {
   "cell_type": "markdown",
   "id": "56a9e8a7",
   "metadata": {},
   "source": [
    "Viewing the data"
   ]
  },
  {
   "cell_type": "code",
   "execution_count": 171,
   "id": "d5875275",
   "metadata": {},
   "outputs": [
    {
     "data": {
      "image/png": "[encoded data removed]",
      "text/plain": [
       "<Figure size 864x504 with 1 Axes>"
      ]
     },
     "metadata": {
      "needs_background": "light"
     },
     "output_type": "display_data"
    }
   ],
   "source": [
    "survey(result, top_page_context_values)\n",
    "plt.ylabel(\"Time Interval\")\n",
    "plt.show()"
   ]
  },
  {
   "cell_type": "markdown",
   "id": "65bf3b96",
   "metadata": {},
   "source": [
    "---"
   ]
  },
  {
   "cell_type": "markdown",
   "id": "562013d4",
   "metadata": {},
   "source": [
    "## Components related to the most common errors"
   ]
  },
  {
   "cell_type": "markdown",
   "id": "a64803f5",
   "metadata": {},
   "source": [
    "Grouping ***PAGE_CONTEXT*** and ***TIMESTAMP_DERIVED_HOUR*** by the count of errors"
   ]
  },
  {
   "cell_type": "code",
   "execution_count": 172,
   "id": "179c441b",
   "metadata": {},
   "outputs": [],
   "source": [
    "lightning_error_group = lightning_error.groupby(['PAGE_CONTEXT', 'UI_EVENT_SOURCE']).agg({'UI_EVENT_ID': 'count'})"
   ]
  },
  {
   "cell_type": "markdown",
   "id": "547e9807",
   "metadata": {},
   "source": [
    "Reseting index"
   ]
  },
  {
   "cell_type": "code",
   "execution_count": 173,
   "id": "bf2e3879",
   "metadata": {},
   "outputs": [],
   "source": [
    "lightning_error_group = lightning_error_group.reset_index()"
   ]
  },
  {
   "cell_type": "code",
   "execution_count": 174,
   "id": "e0de0639",
   "metadata": {},
   "outputs": [
    {
     "data": {
      "text/html": [
       "<div>\n",
       "<style scoped>\n",
       "    .dataframe tbody tr th:only-of-type {\n",
       "        vertical-align: middle;\n",
       "    }\n",
       "\n",
       "    .dataframe tbody tr th {\n",
       "        vertical-align: top;\n",
       "    }\n",
       "\n",
       "    .dataframe thead th {\n",
       "        text-align: right;\n",
       "    }\n",
       "</style>\n",
       "<table border=\"1\" class=\"dataframe\">\n",
       "  <thead>\n",
       "    <tr style=\"text-align: right;\">\n",
       "      <th></th>\n",
       "      <th>PAGE_CONTEXT</th>\n",
       "      <th>UI_EVENT_SOURCE</th>\n",
       "      <th>UI_EVENT_ID</th>\n",
       "    </tr>\n",
       "  </thead>\n",
       "  <tbody>\n",
       "    <tr>\n",
       "      <th>0</th>\n",
       "      <td>desktopDashboards:dashboard</td>\n",
       "      <td>Error</td>\n",
       "      <td>1</td>\n",
       "    </tr>\n",
       "    <tr>\n",
       "      <th>1</th>\n",
       "      <td>force:objectHomeDesktop</td>\n",
       "      <td>Error</td>\n",
       "      <td>2202</td>\n",
       "    </tr>\n",
       "    <tr>\n",
       "      <th>2</th>\n",
       "      <td>force:objectHomeDesktop</td>\n",
       "      <td>RangeError</td>\n",
       "      <td>8</td>\n",
       "    </tr>\n",
       "    <tr>\n",
       "      <th>3</th>\n",
       "      <td>force:objectHomeDesktop</td>\n",
       "      <td>TypeError</td>\n",
       "      <td>369</td>\n",
       "    </tr>\n",
       "    <tr>\n",
       "      <th>4</th>\n",
       "      <td>force:relatedListDesktop</td>\n",
       "      <td>Error</td>\n",
       "      <td>13</td>\n",
       "    </tr>\n",
       "    <tr>\n",
       "      <th>5</th>\n",
       "      <td>force:relatedListDesktop</td>\n",
       "      <td>TypeError</td>\n",
       "      <td>10</td>\n",
       "    </tr>\n",
       "    <tr>\n",
       "      <th>6</th>\n",
       "      <td>forceChatter:desktopChatter</td>\n",
       "      <td>Error</td>\n",
       "      <td>2</td>\n",
       "    </tr>\n",
       "    <tr>\n",
       "      <th>7</th>\n",
       "      <td>forceChatter:desktopChatter</td>\n",
       "      <td>TypeError</td>\n",
       "      <td>7</td>\n",
       "    </tr>\n",
       "    <tr>\n",
       "      <th>8</th>\n",
       "      <td>forceChatter:feedElementFullView</td>\n",
       "      <td>TypeError</td>\n",
       "      <td>1</td>\n",
       "    </tr>\n",
       "    <tr>\n",
       "      <th>9</th>\n",
       "      <td>forceKnowledge:articleRedirect</td>\n",
       "      <td>Error</td>\n",
       "      <td>4</td>\n",
       "    </tr>\n",
       "    <tr>\n",
       "      <th>10</th>\n",
       "      <td>forceKnowledge:articleRedirect</td>\n",
       "      <td>TypeError</td>\n",
       "      <td>1</td>\n",
       "    </tr>\n",
       "    <tr>\n",
       "      <th>11</th>\n",
       "      <td>forceSearch:search</td>\n",
       "      <td>AuraError</td>\n",
       "      <td>1</td>\n",
       "    </tr>\n",
       "    <tr>\n",
       "      <th>12</th>\n",
       "      <td>forceSearch:searchPageDesktop</td>\n",
       "      <td>Error</td>\n",
       "      <td>34</td>\n",
       "    </tr>\n",
       "    <tr>\n",
       "      <th>13</th>\n",
       "      <td>forceSearch:searchPageDesktop</td>\n",
       "      <td>RangeError</td>\n",
       "      <td>11</td>\n",
       "    </tr>\n",
       "    <tr>\n",
       "      <th>14</th>\n",
       "      <td>forceSearch:searchPageDesktop</td>\n",
       "      <td>TypeError</td>\n",
       "      <td>40</td>\n",
       "    </tr>\n",
       "    <tr>\n",
       "      <th>15</th>\n",
       "      <td>forceSearch:searchPageDesktop</td>\n",
       "      <td>unknown</td>\n",
       "      <td>2</td>\n",
       "    </tr>\n",
       "    <tr>\n",
       "      <th>16</th>\n",
       "      <td>home:landing</td>\n",
       "      <td>Error</td>\n",
       "      <td>24</td>\n",
       "    </tr>\n",
       "    <tr>\n",
       "      <th>17</th>\n",
       "      <td>home:landing</td>\n",
       "      <td>SyntaxError</td>\n",
       "      <td>1</td>\n",
       "    </tr>\n",
       "    <tr>\n",
       "      <th>18</th>\n",
       "      <td>home:landing</td>\n",
       "      <td>TypeError</td>\n",
       "      <td>107</td>\n",
       "    </tr>\n",
       "    <tr>\n",
       "      <th>19</th>\n",
       "      <td>markup://force:routingRetryPanel</td>\n",
       "      <td>Error</td>\n",
       "      <td>4</td>\n",
       "    </tr>\n",
       "    <tr>\n",
       "      <th>20</th>\n",
       "      <td>omni:supervisorPanel</td>\n",
       "      <td>AuraError</td>\n",
       "      <td>166</td>\n",
       "    </tr>\n",
       "    <tr>\n",
       "      <th>21</th>\n",
       "      <td>omni:supervisorPanel</td>\n",
       "      <td>Error</td>\n",
       "      <td>27</td>\n",
       "    </tr>\n",
       "    <tr>\n",
       "      <th>22</th>\n",
       "      <td>omni:supervisorPanel</td>\n",
       "      <td>TypeError</td>\n",
       "      <td>43</td>\n",
       "    </tr>\n",
       "    <tr>\n",
       "      <th>23</th>\n",
       "      <td>one:auraContainer</td>\n",
       "      <td>Error</td>\n",
       "      <td>4</td>\n",
       "    </tr>\n",
       "    <tr>\n",
       "      <th>24</th>\n",
       "      <td>one:auraContainer</td>\n",
       "      <td>TypeError</td>\n",
       "      <td>26</td>\n",
       "    </tr>\n",
       "    <tr>\n",
       "      <th>25</th>\n",
       "      <td>one:consoleObjectHome</td>\n",
       "      <td>TypeError</td>\n",
       "      <td>1</td>\n",
       "    </tr>\n",
       "    <tr>\n",
       "      <th>26</th>\n",
       "      <td>one:recordActionWrapper</td>\n",
       "      <td>RangeError</td>\n",
       "      <td>1</td>\n",
       "    </tr>\n",
       "    <tr>\n",
       "      <th>27</th>\n",
       "      <td>one:recordActionWrapper</td>\n",
       "      <td>RequiredAiltnFieldsNotValid</td>\n",
       "      <td>17</td>\n",
       "    </tr>\n",
       "    <tr>\n",
       "      <th>28</th>\n",
       "      <td>one:recordActionWrapper</td>\n",
       "      <td>TypeError</td>\n",
       "      <td>7</td>\n",
       "    </tr>\n",
       "    <tr>\n",
       "      <th>29</th>\n",
       "      <td>one:recordHomeFlexipage</td>\n",
       "      <td>AuraError</td>\n",
       "      <td>3</td>\n",
       "    </tr>\n",
       "    <tr>\n",
       "      <th>30</th>\n",
       "      <td>one:recordHomeFlexipage</td>\n",
       "      <td>Error</td>\n",
       "      <td>775</td>\n",
       "    </tr>\n",
       "    <tr>\n",
       "      <th>31</th>\n",
       "      <td>one:recordHomeFlexipage</td>\n",
       "      <td>RangeError</td>\n",
       "      <td>2</td>\n",
       "    </tr>\n",
       "    <tr>\n",
       "      <th>32</th>\n",
       "      <td>one:recordHomeFlexipage</td>\n",
       "      <td>SyntaxError</td>\n",
       "      <td>3</td>\n",
       "    </tr>\n",
       "    <tr>\n",
       "      <th>33</th>\n",
       "      <td>one:recordHomeFlexipage</td>\n",
       "      <td>TypeError</td>\n",
       "      <td>389</td>\n",
       "    </tr>\n",
       "    <tr>\n",
       "      <th>34</th>\n",
       "      <td>one:recordHomeFlexipage2Wrapper</td>\n",
       "      <td>AuraError</td>\n",
       "      <td>1</td>\n",
       "    </tr>\n",
       "    <tr>\n",
       "      <th>35</th>\n",
       "      <td>one:recordHomeFlexipage2Wrapper</td>\n",
       "      <td>Error</td>\n",
       "      <td>340</td>\n",
       "    </tr>\n",
       "    <tr>\n",
       "      <th>36</th>\n",
       "      <td>one:recordHomeFlexipage2Wrapper</td>\n",
       "      <td>RangeError</td>\n",
       "      <td>165</td>\n",
       "    </tr>\n",
       "    <tr>\n",
       "      <th>37</th>\n",
       "      <td>one:recordHomeFlexipage2Wrapper</td>\n",
       "      <td>ReferenceError</td>\n",
       "      <td>1</td>\n",
       "    </tr>\n",
       "    <tr>\n",
       "      <th>38</th>\n",
       "      <td>one:recordHomeFlexipage2Wrapper</td>\n",
       "      <td>SyntaxError</td>\n",
       "      <td>6</td>\n",
       "    </tr>\n",
       "    <tr>\n",
       "      <th>39</th>\n",
       "      <td>one:recordHomeFlexipage2Wrapper</td>\n",
       "      <td>TypeError</td>\n",
       "      <td>1741</td>\n",
       "    </tr>\n",
       "    <tr>\n",
       "      <th>40</th>\n",
       "      <td>one:recordHomeFlexipage2Wrapper</td>\n",
       "      <td>unknown</td>\n",
       "      <td>2</td>\n",
       "    </tr>\n",
       "    <tr>\n",
       "      <th>41</th>\n",
       "      <td>one:twoColumnLayout</td>\n",
       "      <td>RangeError</td>\n",
       "      <td>3</td>\n",
       "    </tr>\n",
       "    <tr>\n",
       "      <th>42</th>\n",
       "      <td>one:twoColumnLayout</td>\n",
       "      <td>TypeError</td>\n",
       "      <td>10</td>\n",
       "    </tr>\n",
       "    <tr>\n",
       "      <th>43</th>\n",
       "      <td>reports:reportBase</td>\n",
       "      <td>Error</td>\n",
       "      <td>273</td>\n",
       "    </tr>\n",
       "    <tr>\n",
       "      <th>44</th>\n",
       "      <td>reports:reportBase</td>\n",
       "      <td>SecurityError</td>\n",
       "      <td>1</td>\n",
       "    </tr>\n",
       "    <tr>\n",
       "      <th>45</th>\n",
       "      <td>reports:reportBase</td>\n",
       "      <td>TypeError</td>\n",
       "      <td>94</td>\n",
       "    </tr>\n",
       "    <tr>\n",
       "      <th>46</th>\n",
       "      <td>runtime_platform_actions:quickActionWrapper</td>\n",
       "      <td>Error</td>\n",
       "      <td>1</td>\n",
       "    </tr>\n",
       "    <tr>\n",
       "      <th>47</th>\n",
       "      <td>runtime_sales_activities:taskBorderLayout</td>\n",
       "      <td>Error</td>\n",
       "      <td>2</td>\n",
       "    </tr>\n",
       "    <tr>\n",
       "      <th>48</th>\n",
       "      <td>runtime_sales_activities:taskBorderLayout</td>\n",
       "      <td>RangeError</td>\n",
       "      <td>11</td>\n",
       "    </tr>\n",
       "    <tr>\n",
       "      <th>49</th>\n",
       "      <td>runtime_sales_activities:taskBorderLayout</td>\n",
       "      <td>TypeError</td>\n",
       "      <td>49</td>\n",
       "    </tr>\n",
       "    <tr>\n",
       "      <th>50</th>\n",
       "      <td>runtime_sales_emailtemplateui:emailTemplateObj...</td>\n",
       "      <td>TypeError</td>\n",
       "      <td>1</td>\n",
       "    </tr>\n",
       "    <tr>\n",
       "      <th>51</th>\n",
       "      <td>sfa:analyticsHome</td>\n",
       "      <td>TypeError</td>\n",
       "      <td>4</td>\n",
       "    </tr>\n",
       "    <tr>\n",
       "      <th>52</th>\n",
       "      <td>support:toggleObjectHomeView</td>\n",
       "      <td>TypeError</td>\n",
       "      <td>1</td>\n",
       "    </tr>\n",
       "    <tr>\n",
       "      <th>53</th>\n",
       "      <td>undefined</td>\n",
       "      <td>RangeError</td>\n",
       "      <td>10</td>\n",
       "    </tr>\n",
       "    <tr>\n",
       "      <th>54</th>\n",
       "      <td>undefined</td>\n",
       "      <td>SyntaxError</td>\n",
       "      <td>2</td>\n",
       "    </tr>\n",
       "    <tr>\n",
       "      <th>55</th>\n",
       "      <td>undefined</td>\n",
       "      <td>TypeError</td>\n",
       "      <td>97</td>\n",
       "    </tr>\n",
       "    <tr>\n",
       "      <th>56</th>\n",
       "      <td>unknown</td>\n",
       "      <td>Error</td>\n",
       "      <td>3</td>\n",
       "    </tr>\n",
       "    <tr>\n",
       "      <th>57</th>\n",
       "      <td>unknown</td>\n",
       "      <td>RangeError</td>\n",
       "      <td>7</td>\n",
       "    </tr>\n",
       "    <tr>\n",
       "      <th>58</th>\n",
       "      <td>unknown</td>\n",
       "      <td>TypeError</td>\n",
       "      <td>123</td>\n",
       "    </tr>\n",
       "  </tbody>\n",
       "</table>\n",
       "</div>"
      ],
      "text/plain": [
       "                                         PAGE_CONTEXT  \\\n",
       "0                         desktopDashboards:dashboard   \n",
       "1                             force:objectHomeDesktop   \n",
       "2                             force:objectHomeDesktop   \n",
       "3                             force:objectHomeDesktop   \n",
       "4                            force:relatedListDesktop   \n",
       "5                            force:relatedListDesktop   \n",
       "6                         forceChatter:desktopChatter   \n",
       "7                         forceChatter:desktopChatter   \n",
       "8                    forceChatter:feedElementFullView   \n",
       "9                      forceKnowledge:articleRedirect   \n",
       "10                     forceKnowledge:articleRedirect   \n",
       "11                                 forceSearch:search   \n",
       "12                      forceSearch:searchPageDesktop   \n",
       "13                      forceSearch:searchPageDesktop   \n",
       "14                      forceSearch:searchPageDesktop   \n",
       "15                      forceSearch:searchPageDesktop   \n",
       "16                                       home:landing   \n",
       "17                                       home:landing   \n",
       "18                                       home:landing   \n",
       "19                   markup://force:routingRetryPanel   \n",
       "20                               omni:supervisorPanel   \n",
       "21                               omni:supervisorPanel   \n",
       "22                               omni:supervisorPanel   \n",
       "23                                  one:auraContainer   \n",
       "24                                  one:auraContainer   \n",
       "25                              one:consoleObjectHome   \n",
       "26                            one:recordActionWrapper   \n",
       "27                            one:recordActionWrapper   \n",
       "28                            one:recordActionWrapper   \n",
       "29                            one:recordHomeFlexipage   \n",
       "30                            one:recordHomeFlexipage   \n",
       "31                            one:recordHomeFlexipage   \n",
       "32                            one:recordHomeFlexipage   \n",
       "33                            one:recordHomeFlexipage   \n",
       "34                    one:recordHomeFlexipage2Wrapper   \n",
       "35                    one:recordHomeFlexipage2Wrapper   \n",
       "36                    one:recordHomeFlexipage2Wrapper   \n",
       "37                    one:recordHomeFlexipage2Wrapper   \n",
       "38                    one:recordHomeFlexipage2Wrapper   \n",
       "39                    one:recordHomeFlexipage2Wrapper   \n",
       "40                    one:recordHomeFlexipage2Wrapper   \n",
       "41                                one:twoColumnLayout   \n",
       "42                                one:twoColumnLayout   \n",
       "43                                 reports:reportBase   \n",
       "44                                 reports:reportBase   \n",
       "45                                 reports:reportBase   \n",
       "46        runtime_platform_actions:quickActionWrapper   \n",
       "47          runtime_sales_activities:taskBorderLayout   \n",
       "48          runtime_sales_activities:taskBorderLayout   \n",
       "49          runtime_sales_activities:taskBorderLayout   \n",
       "50  runtime_sales_emailtemplateui:emailTemplateObj...   \n",
       "51                                  sfa:analyticsHome   \n",
       "52                       support:toggleObjectHomeView   \n",
       "53                                          undefined   \n",
       "54                                          undefined   \n",
       "55                                          undefined   \n",
       "56                                            unknown   \n",
       "57                                            unknown   \n",
       "58                                            unknown   \n",
       "\n",
       "                UI_EVENT_SOURCE  UI_EVENT_ID  \n",
       "0                         Error            1  \n",
       "1                         Error         2202  \n",
       "2                    RangeError            8  \n",
       "3                     TypeError          369  \n",
       "4                         Error           13  \n",
       "5                     TypeError           10  \n",
       "6                         Error            2  \n",
       "7                     TypeError            7  \n",
       "8                     TypeError            1  \n",
       "9                         Error            4  \n",
       "10                    TypeError            1  \n",
       "11                    AuraError            1  \n",
       "12                        Error           34  \n",
       "13                   RangeError           11  \n",
       "14                    TypeError           40  \n",
       "15                      unknown            2  \n",
       "16                        Error           24  \n",
       "17                  SyntaxError            1  \n",
       "18                    TypeError          107  \n",
       "19                        Error            4  \n",
       "20                    AuraError          166  \n",
       "21                        Error           27  \n",
       "22                    TypeError           43  \n",
       "23                        Error            4  \n",
       "24                    TypeError           26  \n",
       "25                    TypeError            1  \n",
       "26                   RangeError            1  \n",
       "27  RequiredAiltnFieldsNotValid           17  \n",
       "28                    TypeError            7  \n",
       "29                    AuraError            3  \n",
       "30                        Error          775  \n",
       "31                   RangeError            2  \n",
       "32                  SyntaxError            3  \n",
       "33                    TypeError          389  \n",
       "34                    AuraError            1  \n",
       "35                        Error          340  \n",
       "36                   RangeError          165  \n",
       "37               ReferenceError            1  \n",
       "38                  SyntaxError            6  \n",
       "39                    TypeError         1741  \n",
       "40                      unknown            2  \n",
       "41                   RangeError            3  \n",
       "42                    TypeError           10  \n",
       "43                        Error          273  \n",
       "44                SecurityError            1  \n",
       "45                    TypeError           94  \n",
       "46                        Error            1  \n",
       "47                        Error            2  \n",
       "48                   RangeError           11  \n",
       "49                    TypeError           49  \n",
       "50                    TypeError            1  \n",
       "51                    TypeError            4  \n",
       "52                    TypeError            1  \n",
       "53                   RangeError           10  \n",
       "54                  SyntaxError            2  \n",
       "55                    TypeError           97  \n",
       "56                        Error            3  \n",
       "57                   RangeError            7  \n",
       "58                    TypeError          123  "
      ]
     },
     "execution_count": 174,
     "metadata": {},
     "output_type": "execute_result"
    }
   ],
   "source": [
    "lightning_error_group"
   ]
  },
  {
   "cell_type": "markdown",
   "id": "37a869db",
   "metadata": {},
   "source": [
    "Getting the data for the visualization"
   ]
  },
  {
   "cell_type": "code",
   "execution_count": 175,
   "id": "d53ad470",
   "metadata": {},
   "outputs": [],
   "source": [
    "list_of_ui_event_source = lightning_error_group['UI_EVENT_SOURCE'].tolist()\n",
    "list_of_page_context = lightning_error_group['PAGE_CONTEXT'].tolist()\n",
    "list_of_ui_event_id_count = lightning_error_group['UI_EVENT_ID'].tolist()"
   ]
  },
  {
   "cell_type": "markdown",
   "id": "63c3d241",
   "metadata": {},
   "source": [
    "Getting the result dictionary format"
   ]
  },
  {
   "cell_type": "code",
   "execution_count": 176,
   "id": "9a6698eb",
   "metadata": {},
   "outputs": [],
   "source": [
    "result = dictionary_format(top_error_types_by_day_values, top_page_context_values)"
   ]
  },
  {
   "cell_type": "code",
   "execution_count": 177,
   "id": "0f401e1b",
   "metadata": {},
   "outputs": [
    {
     "data": {
      "text/plain": [
       "{'force:objectHomeDesktop': [0, 0, 0, 0, 0],\n",
       " 'one:recordHomeFlexipage2Wrapper': [0, 0, 0, 0, 0],\n",
       " 'one:recordHomeFlexipage': [0, 0, 0, 0, 0],\n",
       " 'reports:reportBase': [0, 0, 0, 0, 0],\n",
       " 'omni:supervisorPanel': [0, 0, 0, 0, 0]}"
      ]
     },
     "execution_count": 177,
     "metadata": {},
     "output_type": "execute_result"
    }
   ],
   "source": [
    "result"
   ]
  },
  {
   "cell_type": "markdown",
   "id": "4803532a",
   "metadata": {},
   "source": [
    "Mapping the type of error to position"
   ]
  },
  {
   "cell_type": "code",
   "execution_count": 178,
   "id": "9c59665d",
   "metadata": {},
   "outputs": [],
   "source": [
    "map_types = {}"
   ]
  },
  {
   "cell_type": "code",
   "execution_count": 179,
   "id": "7f671153",
   "metadata": {},
   "outputs": [],
   "source": [
    "mapping_type_to_position(top_error_types_by_day_values)"
   ]
  },
  {
   "cell_type": "code",
   "execution_count": 180,
   "id": "7286ea80",
   "metadata": {},
   "outputs": [
    {
     "data": {
      "text/plain": [
       "{'Error': 0,\n",
       " 'TypeError': 1,\n",
       " 'RangeError': 2,\n",
       " 'AuraError': 3,\n",
       " 'RequiredAiltnFieldsNotValid': 4}"
      ]
     },
     "execution_count": 180,
     "metadata": {},
     "output_type": "execute_result"
    }
   ],
   "source": [
    "map_types"
   ]
  },
  {
   "cell_type": "markdown",
   "id": "60d47b43",
   "metadata": {},
   "source": [
    "Getting the amount of errors for each component"
   ]
  },
  {
   "cell_type": "code",
   "execution_count": 181,
   "id": "7add4853",
   "metadata": {},
   "outputs": [],
   "source": [
    "get_amount(top_error_types_by_day_values, list_of_ui_event_source, top_page_context_values, list_of_page_context)"
   ]
  },
  {
   "cell_type": "code",
   "execution_count": 182,
   "id": "58db13a5",
   "metadata": {},
   "outputs": [
    {
     "data": {
      "text/plain": [
       "{'force:objectHomeDesktop': [2202, 369, 8, 0, 0],\n",
       " 'one:recordHomeFlexipage2Wrapper': [340, 1741, 165, 1, 0],\n",
       " 'one:recordHomeFlexipage': [775, 389, 2, 3, 0],\n",
       " 'reports:reportBase': [273, 94, 0, 0, 0],\n",
       " 'omni:supervisorPanel': [27, 43, 0, 166, 0]}"
      ]
     },
     "execution_count": 182,
     "metadata": {},
     "output_type": "execute_result"
    }
   ],
   "source": [
    "result"
   ]
  },
  {
   "cell_type": "markdown",
   "id": "c5f66075",
   "metadata": {},
   "source": [
    "Viewing the data"
   ]
  },
  {
   "cell_type": "code",
   "execution_count": 183,
   "id": "9eeaf303",
   "metadata": {},
   "outputs": [
    {
     "data": {
      "image/png": "[encoded data removed]",
      "text/plain": [
       "<Figure size 864x504 with 1 Axes>"
      ]
     },
     "metadata": {
      "needs_background": "light"
     },
     "output_type": "display_data"
    }
   ],
   "source": [
    "survey(result, top_error_types_by_day_values)\n",
    "plt.ylabel(\"Page Context\")\n",
    "plt.show()"
   ]
  }
 ],
 "metadata": {
  "kernelspec": {
   "display_name": "Python 3 (ipykernel)",
   "language": "python",
   "name": "python3"
  },
  "language_info": {
   "codemirror_mode": {
    "name": "ipython",
    "version": 3
   },
   "file_extension": ".py",
   "mimetype": "text/x-python",
   "name": "python",
   "nbconvert_exporter": "python",
   "pygments_lexer": "ipython3",
   "version": "3.9.12"
  }
 },
 "nbformat": 4,
 "nbformat_minor": 5
}
