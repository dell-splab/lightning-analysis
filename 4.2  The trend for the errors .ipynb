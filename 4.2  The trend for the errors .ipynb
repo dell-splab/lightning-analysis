{
 "cells": [
  {
   "cell_type": "code",
   "execution_count": 1,
   "id": "4425ff65",
   "metadata": {},
   "outputs": [],
   "source": [
    "import pandas as pd"
   ]
  },
  {
   "cell_type": "markdown",
   "id": "002b8179",
   "metadata": {},
   "source": [
    "## Loading Lightning Error"
   ]
  },
  {
   "cell_type": "code",
   "execution_count": 2,
   "id": "4a7376d6",
   "metadata": {},
   "outputs": [],
   "source": [
    "lightning_error = pd.read_csv(\"data/Salesforce/Salesforce/ELF/LightningError/2022-06-06_LightningError.csv\")"
   ]
  },
  {
   "cell_type": "code",
   "execution_count": 3,
   "id": "53649c61",
   "metadata": {},
   "outputs": [
    {
     "data": {
      "text/plain": [
       "(7254, 39)"
      ]
     },
     "execution_count": 3,
     "metadata": {},
     "output_type": "execute_result"
    }
   ],
   "source": [
    "lightning_error.shape"
   ]
  },
  {
   "cell_type": "code",
   "execution_count": 4,
   "id": "2e4da29d",
   "metadata": {},
   "outputs": [],
   "source": [
    "# Remove missing values in any of the following columns \n",
    "lightning_error = lightning_error.dropna(subset = ['PAGE_URL'])\n",
    "#lightning_error = [PAGE_URL for PAGE_URL in lightning_error if not(pd.isnull(PAGE_URL)) == True]"
   ]
  },
  {
   "cell_type": "code",
   "execution_count": 5,
   "id": "a018a2c8",
   "metadata": {},
   "outputs": [
    {
     "data": {
      "text/plain": [
       "(7012, 39)"
      ]
     },
     "execution_count": 5,
     "metadata": {},
     "output_type": "execute_result"
    }
   ],
   "source": [
    "lightning_error.shape"
   ]
  },
  {
   "cell_type": "markdown",
   "id": "38f9862c",
   "metadata": {},
   "source": [
    "## Loading Active Reports"
   ]
  },
  {
   "cell_type": "code",
   "execution_count": 6,
   "id": "048d3d27",
   "metadata": {},
   "outputs": [],
   "source": [
    "active_reports = pd.read_csv(\"datasets/active_reports.csv\")"
   ]
  },
  {
   "cell_type": "markdown",
   "id": "f334c10f",
   "metadata": {},
   "source": [
    "Getting ***Report_Id*** by ***Page_Url***"
   ]
  },
  {
   "cell_type": "code",
   "execution_count": 7,
   "id": "221ea456",
   "metadata": {},
   "outputs": [],
   "source": [
    "run_report_api_resource = \"/lightning/r/\"\n",
    "\n",
    "def get_report_info_from_endpoint(page_url):\n",
    "    if not(pd.isnull(page_url)) == True: \n",
    "        if page_url.startswith(run_report_api_resource):\n",
    "            uri = page_url.split(run_report_api_resource)\n",
    "            if len(uri) >= 2:\n",
    "                report_type, report_id_derived = uri[1].split(\"/\")[:2]\n",
    "                return report_type, report_id_derived"
   ]
  },
  {
   "cell_type": "code",
   "execution_count": 8,
   "id": "4376bed9",
   "metadata": {},
   "outputs": [],
   "source": [
    "lightning_error['REPORT_INFO_DERIVED'] = lightning_error.PAGE_URL.apply(get_report_info_from_endpoint)"
   ]
  },
  {
   "cell_type": "code",
   "execution_count": 9,
   "id": "69175b83",
   "metadata": {},
   "outputs": [],
   "source": [
    "lightning_error['REPORT_TYPE_DERIVED'] = lightning_error.REPORT_INFO_DERIVED.str[0]"
   ]
  },
  {
   "cell_type": "code",
   "execution_count": 10,
   "id": "e8e01047",
   "metadata": {},
   "outputs": [],
   "source": [
    "lightning_error['REPORT_ID_DERIVED'] = lightning_error.REPORT_INFO_DERIVED.str[1]"
   ]
  },
  {
   "cell_type": "code",
   "execution_count": 11,
   "id": "4b4d30ad",
   "metadata": {},
   "outputs": [
    {
     "data": {
      "text/plain": [
       "(7012, 42)"
      ]
     },
     "execution_count": 11,
     "metadata": {},
     "output_type": "execute_result"
    }
   ],
   "source": [
    "lightning_error.shape"
   ]
  },
  {
   "cell_type": "markdown",
   "id": "2a7d8d51",
   "metadata": {},
   "source": [
    "## Merging Lightning Error and Active Reports"
   ]
  },
  {
   "cell_type": "code",
   "execution_count": 12,
   "id": "e10abb3f",
   "metadata": {},
   "outputs": [],
   "source": [
    "ltng_full_reports = pd.merge(left=active_reports, right=lightning_error, left_on=\"Id\", right_on=\"REPORT_ID_DERIVED\")"
   ]
  },
  {
   "cell_type": "code",
   "execution_count": 13,
   "id": "bc0e3b91",
   "metadata": {},
   "outputs": [
    {
     "data": {
      "text/plain": [
       "['CreatedById',\n",
       " 'CreatedDate',\n",
       " 'Description',\n",
       " 'DeveloperName',\n",
       " 'FolderName',\n",
       " 'Format',\n",
       " 'Id',\n",
       " 'IsDeleted',\n",
       " 'LastModifiedById',\n",
       " 'LastModifiedDate',\n",
       " 'LastReferencedDate',\n",
       " 'LastRunDate',\n",
       " 'LastViewedDate',\n",
       " 'Name',\n",
       " 'NamespacePrefix',\n",
       " 'OwnerId',\n",
       " 'ReportTypeApiName',\n",
       " 'SystemModstamp',\n",
       " 'EVENT_TYPE_x',\n",
       " 'TIMESTAMP_x',\n",
       " 'REQUEST_ID_x',\n",
       " 'ORGANIZATION_ID_x',\n",
       " 'USER_ID_x',\n",
       " 'RUN_TIME',\n",
       " 'CPU_TIME',\n",
       " 'URI',\n",
       " 'SESSION_KEY_x',\n",
       " 'LOGIN_KEY_x',\n",
       " 'USER_TYPE_x',\n",
       " 'REQUEST_STATUS',\n",
       " 'DB_TOTAL_TIME',\n",
       " 'ENTITY_NAME',\n",
       " 'DISPLAY_TYPE',\n",
       " 'RENDERING_TYPE',\n",
       " 'REPORT_ID',\n",
       " 'ROW_COUNT',\n",
       " 'NUMBER_EXCEPTION_FILTERS',\n",
       " 'NUMBER_COLUMNS',\n",
       " 'AVERAGE_ROW_SIZE',\n",
       " 'SORT',\n",
       " 'DB_BLOCKS',\n",
       " 'DB_CPU_TIME',\n",
       " 'NUMBER_BUCKETS',\n",
       " 'TIMESTAMP_DERIVED_x',\n",
       " 'USER_ID_DERIVED_x',\n",
       " 'CLIENT_IP_x',\n",
       " 'URI_ID_DERIVED',\n",
       " 'REPORT_ID_DERIVED_x',\n",
       " 'ORIGIN',\n",
       " 'IsActive',\n",
       " 'EVENT_TYPE_y',\n",
       " 'TIMESTAMP_y',\n",
       " 'REQUEST_ID_y',\n",
       " 'ORGANIZATION_ID_y',\n",
       " 'USER_ID_y',\n",
       " 'CLIENT_ID',\n",
       " 'SESSION_KEY_y',\n",
       " 'LOGIN_KEY_y',\n",
       " 'USER_TYPE_y',\n",
       " 'APP_NAME',\n",
       " 'DEVICE_PLATFORM',\n",
       " 'SDK_APP_VERSION',\n",
       " 'OS_NAME',\n",
       " 'OS_VERSION',\n",
       " 'USER_AGENT',\n",
       " 'BROWSER_NAME',\n",
       " 'BROWSER_VERSION',\n",
       " 'SDK_VERSION',\n",
       " 'DEVICE_MODEL',\n",
       " 'DEVICE_ID',\n",
       " 'SDK_APP_TYPE',\n",
       " 'CLIENT_GEO',\n",
       " 'CONNECTION_TYPE',\n",
       " 'UI_EVENT_ID',\n",
       " 'UI_EVENT_TYPE',\n",
       " 'UI_EVENT_SOURCE',\n",
       " 'UI_EVENT_TIMESTAMP',\n",
       " 'PAGE_START_TIME',\n",
       " 'DEVICE_SESSION_ID',\n",
       " 'UI_EVENT_SEQUENCE_NUM',\n",
       " 'PAGE_ENTITY_ID',\n",
       " 'PAGE_ENTITY_TYPE',\n",
       " 'PAGE_CONTEXT',\n",
       " 'PAGE_URL',\n",
       " 'PAGE_APP_NAME',\n",
       " 'COMPONENT_NAME',\n",
       " 'TIMESTAMP_DERIVED_y',\n",
       " 'USER_ID_DERIVED_y',\n",
       " 'CLIENT_IP_y',\n",
       " 'REPORT_INFO_DERIVED',\n",
       " 'REPORT_TYPE_DERIVED',\n",
       " 'REPORT_ID_DERIVED_y']"
      ]
     },
     "execution_count": 13,
     "metadata": {},
     "output_type": "execute_result"
    }
   ],
   "source": [
    "list(ltng_full_reports.columns)"
   ]
  },
  {
   "cell_type": "markdown",
   "id": "fb83405f",
   "metadata": {},
   "source": [
    "Removing useless columns"
   ]
  },
  {
   "cell_type": "code",
   "execution_count": 14,
   "id": "d9054353",
   "metadata": {},
   "outputs": [],
   "source": [
    "ltng_full_reports = ltng_full_reports.drop(columns=['CreatedById', 'CreatedDate', 'Description', \n",
    "                                'DeveloperName', 'FolderName', 'Format', 'Id', 'IsDeleted', \n",
    "                                'LastModifiedById', 'LastModifiedDate', 'LastReferencedDate', 'LastRunDate', 'LastViewedDate',\n",
    "                                'Name','NamespacePrefix','OwnerId',\n",
    "                                'ReportTypeApiName', 'SystemModstamp',\n",
    "                                'EVENT_TYPE_x', 'TIMESTAMP_x', 'REQUEST_ID_x', \n",
    "                                'ORGANIZATION_ID_x', 'USER_ID_x',\n",
    "                                'RUN_TIME', 'CPU_TIME', 'URI',\n",
    "                                'SESSION_KEY_x', 'LOGIN_KEY_x', 'USER_TYPE_x', 'REQUEST_STATUS',\n",
    "                                'DB_TOTAL_TIME', 'ENTITY_NAME',\n",
    "                                'DISPLAY_TYPE', 'RENDERING_TYPE',\n",
    "                                'REPORT_ID', 'ROW_COUNT',\n",
    "                                'NUMBER_EXCEPTION_FILTERS', 'NUMBER_COLUMNS',\n",
    "                                'AVERAGE_ROW_SIZE', 'SORT',\n",
    "                                'DB_BLOCKS', 'DB_CPU_TIME',\n",
    "                                'NUMBER_BUCKETS',\n",
    "                                'USER_ID_DERIVED_x', 'CLIENT_IP_x', 'URI_ID_DERIVED', 'REPORT_ID_DERIVED_x',\n",
    "                                'ORIGIN', 'IsActive',\n",
    "                                'EVENT_TYPE_y', 'TIMESTAMP_y',\n",
    "                                'REQUEST_ID_y', 'ORGANIZATION_ID_y', 'USER_ID_y', 'CLIENT_ID',\n",
    "                                'SESSION_KEY_y', 'LOGIN_KEY_y', 'USER_TYPE_y',\n",
    "                                'APP_NAME', 'DEVICE_PLATFORM', 'SDK_APP_VERSION',\n",
    "                                'OS_NAME', 'OS_VERSION', 'USER_AGENT',\n",
    "                                'BROWSER_NAME', 'BROWSER_VERSION',\n",
    "                                'SDK_VERSION', 'DEVICE_MODEL', 'DEVICE_ID',\n",
    "                                'SDK_APP_TYPE', 'CLIENT_GEO', 'CONNECTION_TYPE',\n",
    "                                'UI_EVENT_TIMESTAMP', 'PAGE_START_TIME', 'DEVICE_SESSION_ID', 'UI_EVENT_SEQUENCE_NUM',\n",
    "                                'PAGE_ENTITY_ID', 'PAGE_URL', 'PAGE_APP_NAME', 'COMPONENT_NAME',\n",
    "                                'TIMESTAMP_DERIVED_y', 'USER_ID_DERIVED_y', 'CLIENT_IP_y',\n",
    "                                'REPORT_INFO_DERIVED', 'REPORT_TYPE_DERIVED', 'REPORT_ID_DERIVED_y'])"
   ]
  },
  {
   "cell_type": "code",
   "execution_count": 15,
   "id": "96ac3d65",
   "metadata": {},
   "outputs": [
    {
     "data": {
      "text/plain": [
       "(53603, 6)"
      ]
     },
     "execution_count": 15,
     "metadata": {},
     "output_type": "execute_result"
    }
   ],
   "source": [
    "ltng_full_reports.shape"
   ]
  },
  {
   "cell_type": "markdown",
   "id": "37108abe",
   "metadata": {},
   "source": [
    "Renaming ***TIMESTAMP_DERIVED_x*** to ***TIMESTAMP_DERIVED***"
   ]
  },
  {
   "cell_type": "code",
   "execution_count": 16,
   "id": "754c926a",
   "metadata": {},
   "outputs": [],
   "source": [
    "ltng_full_reports.rename(columns={'TIMESTAMP_DERIVED_x': 'TIMESTAMP_DERIVED'}, inplace = True)"
   ]
  },
  {
   "cell_type": "code",
   "execution_count": 17,
   "id": "64b77445",
   "metadata": {},
   "outputs": [
    {
     "data": {
      "text/html": [
       "<div>\n",
       "<style scoped>\n",
       "    .dataframe tbody tr th:only-of-type {\n",
       "        vertical-align: middle;\n",
       "    }\n",
       "\n",
       "    .dataframe tbody tr th {\n",
       "        vertical-align: top;\n",
       "    }\n",
       "\n",
       "    .dataframe thead th {\n",
       "        text-align: right;\n",
       "    }\n",
       "</style>\n",
       "<table border=\"1\" class=\"dataframe\">\n",
       "  <thead>\n",
       "    <tr style=\"text-align: right;\">\n",
       "      <th></th>\n",
       "      <th>TIMESTAMP_DERIVED</th>\n",
       "      <th>UI_EVENT_ID</th>\n",
       "      <th>UI_EVENT_TYPE</th>\n",
       "      <th>UI_EVENT_SOURCE</th>\n",
       "      <th>PAGE_ENTITY_TYPE</th>\n",
       "      <th>PAGE_CONTEXT</th>\n",
       "    </tr>\n",
       "  </thead>\n",
       "  <tbody>\n",
       "    <tr>\n",
       "      <th>0</th>\n",
       "      <td>2022-06-04T10:03:23.349Z</td>\n",
       "      <td>ltng:error</td>\n",
       "      <td>error</td>\n",
       "      <td>Error</td>\n",
       "      <td>Report</td>\n",
       "      <td>reports:reportBase</td>\n",
       "    </tr>\n",
       "    <tr>\n",
       "      <th>1</th>\n",
       "      <td>2022-06-04T10:03:23.349Z</td>\n",
       "      <td>ltng:error</td>\n",
       "      <td>error</td>\n",
       "      <td>Error</td>\n",
       "      <td>Report</td>\n",
       "      <td>reports:reportBase</td>\n",
       "    </tr>\n",
       "    <tr>\n",
       "      <th>2</th>\n",
       "      <td>2022-06-04T10:03:23.349Z</td>\n",
       "      <td>ltng:error</td>\n",
       "      <td>error</td>\n",
       "      <td>Error</td>\n",
       "      <td>Report</td>\n",
       "      <td>reports:reportBase</td>\n",
       "    </tr>\n",
       "    <tr>\n",
       "      <th>3</th>\n",
       "      <td>2022-06-04T10:03:23.349Z</td>\n",
       "      <td>ltng:error</td>\n",
       "      <td>error</td>\n",
       "      <td>Error</td>\n",
       "      <td>Report</td>\n",
       "      <td>reports:reportBase</td>\n",
       "    </tr>\n",
       "    <tr>\n",
       "      <th>4</th>\n",
       "      <td>2022-06-04T10:03:23.349Z</td>\n",
       "      <td>ltng:error</td>\n",
       "      <td>error</td>\n",
       "      <td>Error</td>\n",
       "      <td>Report</td>\n",
       "      <td>reports:reportBase</td>\n",
       "    </tr>\n",
       "  </tbody>\n",
       "</table>\n",
       "</div>"
      ],
      "text/plain": [
       "          TIMESTAMP_DERIVED UI_EVENT_ID UI_EVENT_TYPE UI_EVENT_SOURCE  \\\n",
       "0  2022-06-04T10:03:23.349Z  ltng:error         error           Error   \n",
       "1  2022-06-04T10:03:23.349Z  ltng:error         error           Error   \n",
       "2  2022-06-04T10:03:23.349Z  ltng:error         error           Error   \n",
       "3  2022-06-04T10:03:23.349Z  ltng:error         error           Error   \n",
       "4  2022-06-04T10:03:23.349Z  ltng:error         error           Error   \n",
       "\n",
       "  PAGE_ENTITY_TYPE        PAGE_CONTEXT  \n",
       "0           Report  reports:reportBase  \n",
       "1           Report  reports:reportBase  \n",
       "2           Report  reports:reportBase  \n",
       "3           Report  reports:reportBase  \n",
       "4           Report  reports:reportBase  "
      ]
     },
     "execution_count": 17,
     "metadata": {},
     "output_type": "execute_result"
    }
   ],
   "source": [
    "ltng_full_reports.head()"
   ]
  },
  {
   "cell_type": "markdown",
   "id": "50f40be3",
   "metadata": {},
   "source": [
    "---"
   ]
  },
  {
   "cell_type": "markdown",
   "id": "bc8dc642",
   "metadata": {},
   "source": [
    "## Analyzing the most common pages that generate more errors by day"
   ]
  },
  {
   "cell_type": "code",
   "execution_count": 18,
   "id": "02e564f1",
   "metadata": {},
   "outputs": [
    {
     "data": {
      "text/plain": [
       "array(['Report'], dtype=object)"
      ]
     },
     "execution_count": 18,
     "metadata": {},
     "output_type": "execute_result"
    }
   ],
   "source": [
    "ltng_full_reports['PAGE_ENTITY_TYPE'].unique()"
   ]
  },
  {
   "cell_type": "markdown",
   "id": "cc06352e",
   "metadata": {},
   "source": [
    "There is only one type of page in the dataset **[Report]**"
   ]
  },
  {
   "cell_type": "markdown",
   "id": "67bd01aa",
   "metadata": {},
   "source": [
    "---"
   ]
  },
  {
   "cell_type": "markdown",
   "id": "1f4c3555",
   "metadata": {},
   "source": [
    "## Analyzing the most common components that generate errors"
   ]
  },
  {
   "cell_type": "code",
   "execution_count": 19,
   "id": "792d04d1",
   "metadata": {},
   "outputs": [
    {
     "data": {
      "text/plain": [
       "array(['reports:reportBase'], dtype=object)"
      ]
     },
     "execution_count": 19,
     "metadata": {},
     "output_type": "execute_result"
    }
   ],
   "source": [
    "ltng_full_reports['PAGE_CONTEXT'].unique()"
   ]
  },
  {
   "cell_type": "markdown",
   "id": "2ab66e5f",
   "metadata": {},
   "source": [
    "There is only one type of component in the dataset **[reports:reportBase]**"
   ]
  },
  {
   "cell_type": "markdown",
   "id": "09278a22",
   "metadata": {},
   "source": [
    "---"
   ]
  },
  {
   "cell_type": "markdown",
   "id": "0945ea8a",
   "metadata": {},
   "source": [
    "## Getting the hours of the day that more erros occurred"
   ]
  },
  {
   "cell_type": "markdown",
   "id": "618fae0b",
   "metadata": {},
   "source": [
    "Converting ***TIMESTAMP_DERIVED*** from *str* to type *date*"
   ]
  },
  {
   "cell_type": "code",
   "execution_count": 20,
   "id": "1edeab33",
   "metadata": {},
   "outputs": [
    {
     "data": {
      "text/plain": [
       "str"
      ]
     },
     "execution_count": 20,
     "metadata": {},
     "output_type": "execute_result"
    }
   ],
   "source": [
    "type(ltng_full_reports['TIMESTAMP_DERIVED'][0])"
   ]
  },
  {
   "cell_type": "code",
   "execution_count": 21,
   "id": "bec4aa52",
   "metadata": {},
   "outputs": [],
   "source": [
    "import datetime\n",
    "from datetime import date\n",
    "\n",
    "ltng_full_reports['TIMESTAMP_DERIVED'] = pd.to_datetime(ltng_full_reports['TIMESTAMP_DERIVED'], infer_datetime_format=True)"
   ]
  },
  {
   "cell_type": "code",
   "execution_count": 22,
   "id": "898146b1",
   "metadata": {},
   "outputs": [
    {
     "data": {
      "text/plain": [
       "pandas._libs.tslibs.timestamps.Timestamp"
      ]
     },
     "execution_count": 22,
     "metadata": {},
     "output_type": "execute_result"
    }
   ],
   "source": [
    "type(ltng_full_reports['TIMESTAMP_DERIVED'][0])"
   ]
  },
  {
   "cell_type": "markdown",
   "id": "479ef63e",
   "metadata": {},
   "source": [
    "Getting the hours from ***TIMESTAMP_DERIVED*** column"
   ]
  },
  {
   "cell_type": "code",
   "execution_count": 23,
   "id": "e3dbccf3",
   "metadata": {},
   "outputs": [],
   "source": [
    "hour_rows = []\n",
    "\n",
    "for i in ltng_full_reports.index:\n",
    "    hour_rows.append(ltng_full_reports['TIMESTAMP_DERIVED'][i].hour)"
   ]
  },
  {
   "cell_type": "code",
   "execution_count": 24,
   "id": "3112497f",
   "metadata": {},
   "outputs": [
    {
     "data": {
      "text/plain": [
       "53603"
      ]
     },
     "execution_count": 24,
     "metadata": {},
     "output_type": "execute_result"
    }
   ],
   "source": [
    "len(hour_rows)"
   ]
  },
  {
   "cell_type": "markdown",
   "id": "b55dcde4",
   "metadata": {},
   "source": [
    "Creating a column with the hour data"
   ]
  },
  {
   "cell_type": "code",
   "execution_count": 25,
   "id": "c78185b7",
   "metadata": {},
   "outputs": [],
   "source": [
    "ltng_full_reports['TIMESTAMP_DERIVED_HOUR'] = hour_rows"
   ]
  },
  {
   "cell_type": "code",
   "execution_count": 26,
   "id": "881d1c5e",
   "metadata": {},
   "outputs": [
    {
     "data": {
      "text/plain": [
       "['TIMESTAMP_DERIVED',\n",
       " 'UI_EVENT_ID',\n",
       " 'UI_EVENT_TYPE',\n",
       " 'UI_EVENT_SOURCE',\n",
       " 'PAGE_ENTITY_TYPE',\n",
       " 'PAGE_CONTEXT',\n",
       " 'TIMESTAMP_DERIVED_HOUR']"
      ]
     },
     "execution_count": 26,
     "metadata": {},
     "output_type": "execute_result"
    }
   ],
   "source": [
    "list(ltng_full_reports.columns)"
   ]
  },
  {
   "cell_type": "markdown",
   "id": "3cfd3254",
   "metadata": {},
   "source": [
    "Getting a count of erros by hour"
   ]
  },
  {
   "cell_type": "code",
   "execution_count": 27,
   "id": "55b9c6df",
   "metadata": {},
   "outputs": [],
   "source": [
    "ltng_full_reports_group = ltng_full_reports.groupby(['TIMESTAMP_DERIVED_HOUR']).agg({'UI_EVENT_ID': 'count'})"
   ]
  },
  {
   "cell_type": "markdown",
   "id": "6350f3db",
   "metadata": {},
   "source": [
    "Renaming the column of ***UI_EVENT_ID*** to ***UI_EVENT_ID_COUNT***"
   ]
  },
  {
   "cell_type": "code",
   "execution_count": 28,
   "id": "27b1276f",
   "metadata": {},
   "outputs": [],
   "source": [
    "ltng_full_reports_group.rename(columns={'UI_EVENT_ID': 'UI_EVENT_ID_COUNT'}, inplace = True)"
   ]
  },
  {
   "cell_type": "code",
   "execution_count": 29,
   "id": "5a92cb1d",
   "metadata": {},
   "outputs": [
    {
     "data": {
      "text/html": [
       "<div>\n",
       "<style scoped>\n",
       "    .dataframe tbody tr th:only-of-type {\n",
       "        vertical-align: middle;\n",
       "    }\n",
       "\n",
       "    .dataframe tbody tr th {\n",
       "        vertical-align: top;\n",
       "    }\n",
       "\n",
       "    .dataframe thead th {\n",
       "        text-align: right;\n",
       "    }\n",
       "</style>\n",
       "<table border=\"1\" class=\"dataframe\">\n",
       "  <thead>\n",
       "    <tr style=\"text-align: right;\">\n",
       "      <th></th>\n",
       "      <th>UI_EVENT_ID_COUNT</th>\n",
       "    </tr>\n",
       "    <tr>\n",
       "      <th>TIMESTAMP_DERIVED_HOUR</th>\n",
       "      <th></th>\n",
       "    </tr>\n",
       "  </thead>\n",
       "  <tbody>\n",
       "    <tr>\n",
       "      <th>0</th>\n",
       "      <td>3737</td>\n",
       "    </tr>\n",
       "    <tr>\n",
       "      <th>1</th>\n",
       "      <td>2388</td>\n",
       "    </tr>\n",
       "    <tr>\n",
       "      <th>2</th>\n",
       "      <td>1919</td>\n",
       "    </tr>\n",
       "    <tr>\n",
       "      <th>3</th>\n",
       "      <td>2180</td>\n",
       "    </tr>\n",
       "    <tr>\n",
       "      <th>4</th>\n",
       "      <td>1790</td>\n",
       "    </tr>\n",
       "    <tr>\n",
       "      <th>5</th>\n",
       "      <td>1732</td>\n",
       "    </tr>\n",
       "    <tr>\n",
       "      <th>6</th>\n",
       "      <td>1284</td>\n",
       "    </tr>\n",
       "    <tr>\n",
       "      <th>7</th>\n",
       "      <td>1248</td>\n",
       "    </tr>\n",
       "    <tr>\n",
       "      <th>8</th>\n",
       "      <td>1464</td>\n",
       "    </tr>\n",
       "    <tr>\n",
       "      <th>9</th>\n",
       "      <td>1526</td>\n",
       "    </tr>\n",
       "    <tr>\n",
       "      <th>10</th>\n",
       "      <td>1729</td>\n",
       "    </tr>\n",
       "    <tr>\n",
       "      <th>11</th>\n",
       "      <td>1475</td>\n",
       "    </tr>\n",
       "    <tr>\n",
       "      <th>12</th>\n",
       "      <td>2931</td>\n",
       "    </tr>\n",
       "    <tr>\n",
       "      <th>13</th>\n",
       "      <td>2467</td>\n",
       "    </tr>\n",
       "    <tr>\n",
       "      <th>14</th>\n",
       "      <td>2561</td>\n",
       "    </tr>\n",
       "    <tr>\n",
       "      <th>15</th>\n",
       "      <td>2647</td>\n",
       "    </tr>\n",
       "    <tr>\n",
       "      <th>16</th>\n",
       "      <td>2668</td>\n",
       "    </tr>\n",
       "    <tr>\n",
       "      <th>17</th>\n",
       "      <td>2587</td>\n",
       "    </tr>\n",
       "    <tr>\n",
       "      <th>18</th>\n",
       "      <td>2434</td>\n",
       "    </tr>\n",
       "    <tr>\n",
       "      <th>19</th>\n",
       "      <td>2913</td>\n",
       "    </tr>\n",
       "    <tr>\n",
       "      <th>20</th>\n",
       "      <td>2805</td>\n",
       "    </tr>\n",
       "    <tr>\n",
       "      <th>21</th>\n",
       "      <td>3469</td>\n",
       "    </tr>\n",
       "    <tr>\n",
       "      <th>22</th>\n",
       "      <td>2025</td>\n",
       "    </tr>\n",
       "    <tr>\n",
       "      <th>23</th>\n",
       "      <td>1624</td>\n",
       "    </tr>\n",
       "  </tbody>\n",
       "</table>\n",
       "</div>"
      ],
      "text/plain": [
       "                        UI_EVENT_ID_COUNT\n",
       "TIMESTAMP_DERIVED_HOUR                   \n",
       "0                                    3737\n",
       "1                                    2388\n",
       "2                                    1919\n",
       "3                                    2180\n",
       "4                                    1790\n",
       "5                                    1732\n",
       "6                                    1284\n",
       "7                                    1248\n",
       "8                                    1464\n",
       "9                                    1526\n",
       "10                                   1729\n",
       "11                                   1475\n",
       "12                                   2931\n",
       "13                                   2467\n",
       "14                                   2561\n",
       "15                                   2647\n",
       "16                                   2668\n",
       "17                                   2587\n",
       "18                                   2434\n",
       "19                                   2913\n",
       "20                                   2805\n",
       "21                                   3469\n",
       "22                                   2025\n",
       "23                                   1624"
      ]
     },
     "execution_count": 29,
     "metadata": {},
     "output_type": "execute_result"
    }
   ],
   "source": [
    "ltng_full_reports_group"
   ]
  },
  {
   "cell_type": "markdown",
   "id": "a148e9b5",
   "metadata": {},
   "source": [
    "Reseting index"
   ]
  },
  {
   "cell_type": "code",
   "execution_count": 30,
   "id": "41b97f03",
   "metadata": {},
   "outputs": [],
   "source": [
    "ltng_full_reports_group = ltng_full_reports_group.reset_index()"
   ]
  },
  {
   "cell_type": "code",
   "execution_count": 31,
   "id": "ce568616",
   "metadata": {},
   "outputs": [
    {
     "data": {
      "text/html": [
       "<div>\n",
       "<style scoped>\n",
       "    .dataframe tbody tr th:only-of-type {\n",
       "        vertical-align: middle;\n",
       "    }\n",
       "\n",
       "    .dataframe tbody tr th {\n",
       "        vertical-align: top;\n",
       "    }\n",
       "\n",
       "    .dataframe thead th {\n",
       "        text-align: right;\n",
       "    }\n",
       "</style>\n",
       "<table border=\"1\" class=\"dataframe\">\n",
       "  <thead>\n",
       "    <tr style=\"text-align: right;\">\n",
       "      <th></th>\n",
       "      <th>TIMESTAMP_DERIVED_HOUR</th>\n",
       "      <th>UI_EVENT_ID_COUNT</th>\n",
       "    </tr>\n",
       "  </thead>\n",
       "  <tbody>\n",
       "    <tr>\n",
       "      <th>0</th>\n",
       "      <td>0</td>\n",
       "      <td>3737</td>\n",
       "    </tr>\n",
       "    <tr>\n",
       "      <th>1</th>\n",
       "      <td>1</td>\n",
       "      <td>2388</td>\n",
       "    </tr>\n",
       "    <tr>\n",
       "      <th>2</th>\n",
       "      <td>2</td>\n",
       "      <td>1919</td>\n",
       "    </tr>\n",
       "    <tr>\n",
       "      <th>3</th>\n",
       "      <td>3</td>\n",
       "      <td>2180</td>\n",
       "    </tr>\n",
       "    <tr>\n",
       "      <th>4</th>\n",
       "      <td>4</td>\n",
       "      <td>1790</td>\n",
       "    </tr>\n",
       "    <tr>\n",
       "      <th>5</th>\n",
       "      <td>5</td>\n",
       "      <td>1732</td>\n",
       "    </tr>\n",
       "    <tr>\n",
       "      <th>6</th>\n",
       "      <td>6</td>\n",
       "      <td>1284</td>\n",
       "    </tr>\n",
       "    <tr>\n",
       "      <th>7</th>\n",
       "      <td>7</td>\n",
       "      <td>1248</td>\n",
       "    </tr>\n",
       "    <tr>\n",
       "      <th>8</th>\n",
       "      <td>8</td>\n",
       "      <td>1464</td>\n",
       "    </tr>\n",
       "    <tr>\n",
       "      <th>9</th>\n",
       "      <td>9</td>\n",
       "      <td>1526</td>\n",
       "    </tr>\n",
       "    <tr>\n",
       "      <th>10</th>\n",
       "      <td>10</td>\n",
       "      <td>1729</td>\n",
       "    </tr>\n",
       "    <tr>\n",
       "      <th>11</th>\n",
       "      <td>11</td>\n",
       "      <td>1475</td>\n",
       "    </tr>\n",
       "    <tr>\n",
       "      <th>12</th>\n",
       "      <td>12</td>\n",
       "      <td>2931</td>\n",
       "    </tr>\n",
       "    <tr>\n",
       "      <th>13</th>\n",
       "      <td>13</td>\n",
       "      <td>2467</td>\n",
       "    </tr>\n",
       "    <tr>\n",
       "      <th>14</th>\n",
       "      <td>14</td>\n",
       "      <td>2561</td>\n",
       "    </tr>\n",
       "    <tr>\n",
       "      <th>15</th>\n",
       "      <td>15</td>\n",
       "      <td>2647</td>\n",
       "    </tr>\n",
       "    <tr>\n",
       "      <th>16</th>\n",
       "      <td>16</td>\n",
       "      <td>2668</td>\n",
       "    </tr>\n",
       "    <tr>\n",
       "      <th>17</th>\n",
       "      <td>17</td>\n",
       "      <td>2587</td>\n",
       "    </tr>\n",
       "    <tr>\n",
       "      <th>18</th>\n",
       "      <td>18</td>\n",
       "      <td>2434</td>\n",
       "    </tr>\n",
       "    <tr>\n",
       "      <th>19</th>\n",
       "      <td>19</td>\n",
       "      <td>2913</td>\n",
       "    </tr>\n",
       "    <tr>\n",
       "      <th>20</th>\n",
       "      <td>20</td>\n",
       "      <td>2805</td>\n",
       "    </tr>\n",
       "    <tr>\n",
       "      <th>21</th>\n",
       "      <td>21</td>\n",
       "      <td>3469</td>\n",
       "    </tr>\n",
       "    <tr>\n",
       "      <th>22</th>\n",
       "      <td>22</td>\n",
       "      <td>2025</td>\n",
       "    </tr>\n",
       "    <tr>\n",
       "      <th>23</th>\n",
       "      <td>23</td>\n",
       "      <td>1624</td>\n",
       "    </tr>\n",
       "  </tbody>\n",
       "</table>\n",
       "</div>"
      ],
      "text/plain": [
       "    TIMESTAMP_DERIVED_HOUR  UI_EVENT_ID_COUNT\n",
       "0                        0               3737\n",
       "1                        1               2388\n",
       "2                        2               1919\n",
       "3                        3               2180\n",
       "4                        4               1790\n",
       "5                        5               1732\n",
       "6                        6               1284\n",
       "7                        7               1248\n",
       "8                        8               1464\n",
       "9                        9               1526\n",
       "10                      10               1729\n",
       "11                      11               1475\n",
       "12                      12               2931\n",
       "13                      13               2467\n",
       "14                      14               2561\n",
       "15                      15               2647\n",
       "16                      16               2668\n",
       "17                      17               2587\n",
       "18                      18               2434\n",
       "19                      19               2913\n",
       "20                      20               2805\n",
       "21                      21               3469\n",
       "22                      22               2025\n",
       "23                      23               1624"
      ]
     },
     "execution_count": 31,
     "metadata": {},
     "output_type": "execute_result"
    }
   ],
   "source": [
    "ltng_full_reports_group"
   ]
  },
  {
   "cell_type": "markdown",
   "id": "b8f521cf",
   "metadata": {},
   "source": [
    "Getting the data"
   ]
  },
  {
   "cell_type": "code",
   "execution_count": 32,
   "id": "718e92e1",
   "metadata": {},
   "outputs": [],
   "source": [
    "list_of_hour = ltng_full_reports_group['TIMESTAMP_DERIVED_HOUR'].tolist()\n",
    "list_of_ui_event_id_count = ltng_full_reports_group['UI_EVENT_ID_COUNT'].tolist()"
   ]
  },
  {
   "cell_type": "markdown",
   "id": "98145bea",
   "metadata": {},
   "source": [
    "Graph relating the number of errors and the hour of the day"
   ]
  },
  {
   "cell_type": "code",
   "execution_count": 33,
   "id": "ecf3f74d",
   "metadata": {},
   "outputs": [],
   "source": [
    "import numpy as np\n",
    "import matplotlib.pyplot as plt"
   ]
  },
  {
   "cell_type": "code",
   "execution_count": 34,
   "id": "22a9ce56",
   "metadata": {},
   "outputs": [
    {
     "data": {
      "text/plain": [
       "[<matplotlib.lines.Line2D at 0x2945d6bc280>]"
      ]
     },
     "execution_count": 34,
     "metadata": {},
     "output_type": "execute_result"
    },
    {
     "data": {
      "image/png": "[encoded data removed]",
      "text/plain": [
       "<Figure size 720x432 with 1 Axes>"
      ]
     },
     "metadata": {
      "needs_background": "light"
     },
     "output_type": "display_data"
    }
   ],
   "source": [
    "plt.figure(figsize=(10, 6))\n",
    "plt.title(\"Number of erros per time of day\")\n",
    "plt.xlabel(\"Hour\")\n",
    "plt.ylabel(\"Number of errors\")\n",
    "plt.scatter(list_of_hour, list_of_ui_event_id_count, label = \"Number of errors\", color = \"black\", s =\n",
    "70)\n",
    "plt.plot(list_of_hour, list_of_ui_event_id_count, color = \"blue\", linestyle = \"-\", linewidth = 3)"
   ]
  },
  {
   "cell_type": "markdown",
   "id": "9c4962f4",
   "metadata": {},
   "source": [
    "### Getting the top hours data"
   ]
  },
  {
   "cell_type": "markdown",
   "id": "f5baa654",
   "metadata": {},
   "source": [
    "Sorting by count"
   ]
  },
  {
   "cell_type": "code",
   "execution_count": 35,
   "id": "b8d13999",
   "metadata": {},
   "outputs": [],
   "source": [
    "ltng_full_reports_group_sorted = ltng_full_reports_group.sort_values(by=['UI_EVENT_ID_COUNT'], ascending=False)"
   ]
  },
  {
   "cell_type": "code",
   "execution_count": 36,
   "id": "e8566ab3",
   "metadata": {},
   "outputs": [
    {
     "data": {
      "text/html": [
       "<div>\n",
       "<style scoped>\n",
       "    .dataframe tbody tr th:only-of-type {\n",
       "        vertical-align: middle;\n",
       "    }\n",
       "\n",
       "    .dataframe tbody tr th {\n",
       "        vertical-align: top;\n",
       "    }\n",
       "\n",
       "    .dataframe thead th {\n",
       "        text-align: right;\n",
       "    }\n",
       "</style>\n",
       "<table border=\"1\" class=\"dataframe\">\n",
       "  <thead>\n",
       "    <tr style=\"text-align: right;\">\n",
       "      <th></th>\n",
       "      <th>TIMESTAMP_DERIVED_HOUR</th>\n",
       "      <th>UI_EVENT_ID_COUNT</th>\n",
       "    </tr>\n",
       "  </thead>\n",
       "  <tbody>\n",
       "    <tr>\n",
       "      <th>0</th>\n",
       "      <td>0</td>\n",
       "      <td>3737</td>\n",
       "    </tr>\n",
       "    <tr>\n",
       "      <th>21</th>\n",
       "      <td>21</td>\n",
       "      <td>3469</td>\n",
       "    </tr>\n",
       "    <tr>\n",
       "      <th>12</th>\n",
       "      <td>12</td>\n",
       "      <td>2931</td>\n",
       "    </tr>\n",
       "    <tr>\n",
       "      <th>19</th>\n",
       "      <td>19</td>\n",
       "      <td>2913</td>\n",
       "    </tr>\n",
       "    <tr>\n",
       "      <th>20</th>\n",
       "      <td>20</td>\n",
       "      <td>2805</td>\n",
       "    </tr>\n",
       "    <tr>\n",
       "      <th>16</th>\n",
       "      <td>16</td>\n",
       "      <td>2668</td>\n",
       "    </tr>\n",
       "    <tr>\n",
       "      <th>15</th>\n",
       "      <td>15</td>\n",
       "      <td>2647</td>\n",
       "    </tr>\n",
       "    <tr>\n",
       "      <th>17</th>\n",
       "      <td>17</td>\n",
       "      <td>2587</td>\n",
       "    </tr>\n",
       "    <tr>\n",
       "      <th>14</th>\n",
       "      <td>14</td>\n",
       "      <td>2561</td>\n",
       "    </tr>\n",
       "    <tr>\n",
       "      <th>13</th>\n",
       "      <td>13</td>\n",
       "      <td>2467</td>\n",
       "    </tr>\n",
       "    <tr>\n",
       "      <th>18</th>\n",
       "      <td>18</td>\n",
       "      <td>2434</td>\n",
       "    </tr>\n",
       "    <tr>\n",
       "      <th>1</th>\n",
       "      <td>1</td>\n",
       "      <td>2388</td>\n",
       "    </tr>\n",
       "    <tr>\n",
       "      <th>3</th>\n",
       "      <td>3</td>\n",
       "      <td>2180</td>\n",
       "    </tr>\n",
       "    <tr>\n",
       "      <th>22</th>\n",
       "      <td>22</td>\n",
       "      <td>2025</td>\n",
       "    </tr>\n",
       "    <tr>\n",
       "      <th>2</th>\n",
       "      <td>2</td>\n",
       "      <td>1919</td>\n",
       "    </tr>\n",
       "    <tr>\n",
       "      <th>4</th>\n",
       "      <td>4</td>\n",
       "      <td>1790</td>\n",
       "    </tr>\n",
       "    <tr>\n",
       "      <th>5</th>\n",
       "      <td>5</td>\n",
       "      <td>1732</td>\n",
       "    </tr>\n",
       "    <tr>\n",
       "      <th>10</th>\n",
       "      <td>10</td>\n",
       "      <td>1729</td>\n",
       "    </tr>\n",
       "    <tr>\n",
       "      <th>23</th>\n",
       "      <td>23</td>\n",
       "      <td>1624</td>\n",
       "    </tr>\n",
       "    <tr>\n",
       "      <th>9</th>\n",
       "      <td>9</td>\n",
       "      <td>1526</td>\n",
       "    </tr>\n",
       "    <tr>\n",
       "      <th>11</th>\n",
       "      <td>11</td>\n",
       "      <td>1475</td>\n",
       "    </tr>\n",
       "    <tr>\n",
       "      <th>8</th>\n",
       "      <td>8</td>\n",
       "      <td>1464</td>\n",
       "    </tr>\n",
       "    <tr>\n",
       "      <th>6</th>\n",
       "      <td>6</td>\n",
       "      <td>1284</td>\n",
       "    </tr>\n",
       "    <tr>\n",
       "      <th>7</th>\n",
       "      <td>7</td>\n",
       "      <td>1248</td>\n",
       "    </tr>\n",
       "  </tbody>\n",
       "</table>\n",
       "</div>"
      ],
      "text/plain": [
       "    TIMESTAMP_DERIVED_HOUR  UI_EVENT_ID_COUNT\n",
       "0                        0               3737\n",
       "21                      21               3469\n",
       "12                      12               2931\n",
       "19                      19               2913\n",
       "20                      20               2805\n",
       "16                      16               2668\n",
       "15                      15               2647\n",
       "17                      17               2587\n",
       "14                      14               2561\n",
       "13                      13               2467\n",
       "18                      18               2434\n",
       "1                        1               2388\n",
       "3                        3               2180\n",
       "22                      22               2025\n",
       "2                        2               1919\n",
       "4                        4               1790\n",
       "5                        5               1732\n",
       "10                      10               1729\n",
       "23                      23               1624\n",
       "9                        9               1526\n",
       "11                      11               1475\n",
       "8                        8               1464\n",
       "6                        6               1284\n",
       "7                        7               1248"
      ]
     },
     "execution_count": 36,
     "metadata": {},
     "output_type": "execute_result"
    }
   ],
   "source": [
    "ltng_full_reports_group_sorted"
   ]
  },
  {
   "cell_type": "markdown",
   "id": "b627971b",
   "metadata": {},
   "source": [
    "Getting top hours"
   ]
  },
  {
   "cell_type": "code",
   "execution_count": 37,
   "id": "1632af1a",
   "metadata": {},
   "outputs": [],
   "source": [
    "number_of_top_hours = 5\n",
    "\n",
    "top_hours = ltng_full_reports_group_sorted.head(number_of_top_hours)"
   ]
  },
  {
   "cell_type": "code",
   "execution_count": 38,
   "id": "b08fcab6",
   "metadata": {},
   "outputs": [
    {
     "data": {
      "text/html": [
       "<div>\n",
       "<style scoped>\n",
       "    .dataframe tbody tr th:only-of-type {\n",
       "        vertical-align: middle;\n",
       "    }\n",
       "\n",
       "    .dataframe tbody tr th {\n",
       "        vertical-align: top;\n",
       "    }\n",
       "\n",
       "    .dataframe thead th {\n",
       "        text-align: right;\n",
       "    }\n",
       "</style>\n",
       "<table border=\"1\" class=\"dataframe\">\n",
       "  <thead>\n",
       "    <tr style=\"text-align: right;\">\n",
       "      <th></th>\n",
       "      <th>TIMESTAMP_DERIVED_HOUR</th>\n",
       "      <th>UI_EVENT_ID_COUNT</th>\n",
       "    </tr>\n",
       "  </thead>\n",
       "  <tbody>\n",
       "    <tr>\n",
       "      <th>0</th>\n",
       "      <td>0</td>\n",
       "      <td>3737</td>\n",
       "    </tr>\n",
       "    <tr>\n",
       "      <th>21</th>\n",
       "      <td>21</td>\n",
       "      <td>3469</td>\n",
       "    </tr>\n",
       "    <tr>\n",
       "      <th>12</th>\n",
       "      <td>12</td>\n",
       "      <td>2931</td>\n",
       "    </tr>\n",
       "    <tr>\n",
       "      <th>19</th>\n",
       "      <td>19</td>\n",
       "      <td>2913</td>\n",
       "    </tr>\n",
       "    <tr>\n",
       "      <th>20</th>\n",
       "      <td>20</td>\n",
       "      <td>2805</td>\n",
       "    </tr>\n",
       "  </tbody>\n",
       "</table>\n",
       "</div>"
      ],
      "text/plain": [
       "    TIMESTAMP_DERIVED_HOUR  UI_EVENT_ID_COUNT\n",
       "0                        0               3737\n",
       "21                      21               3469\n",
       "12                      12               2931\n",
       "19                      19               2913\n",
       "20                      20               2805"
      ]
     },
     "execution_count": 38,
     "metadata": {},
     "output_type": "execute_result"
    }
   ],
   "source": [
    "top_hours"
   ]
  },
  {
   "cell_type": "markdown",
   "id": "bd330a98",
   "metadata": {},
   "source": [
    "Sorting by hours"
   ]
  },
  {
   "cell_type": "code",
   "execution_count": 39,
   "id": "c2e85a0c",
   "metadata": {},
   "outputs": [],
   "source": [
    "top_hours = top_hours.sort_values(by=['TIMESTAMP_DERIVED_HOUR'])"
   ]
  },
  {
   "cell_type": "code",
   "execution_count": 40,
   "id": "2a5b7318",
   "metadata": {},
   "outputs": [
    {
     "data": {
      "text/html": [
       "<div>\n",
       "<style scoped>\n",
       "    .dataframe tbody tr th:only-of-type {\n",
       "        vertical-align: middle;\n",
       "    }\n",
       "\n",
       "    .dataframe tbody tr th {\n",
       "        vertical-align: top;\n",
       "    }\n",
       "\n",
       "    .dataframe thead th {\n",
       "        text-align: right;\n",
       "    }\n",
       "</style>\n",
       "<table border=\"1\" class=\"dataframe\">\n",
       "  <thead>\n",
       "    <tr style=\"text-align: right;\">\n",
       "      <th></th>\n",
       "      <th>TIMESTAMP_DERIVED_HOUR</th>\n",
       "      <th>UI_EVENT_ID_COUNT</th>\n",
       "    </tr>\n",
       "  </thead>\n",
       "  <tbody>\n",
       "    <tr>\n",
       "      <th>0</th>\n",
       "      <td>0</td>\n",
       "      <td>3737</td>\n",
       "    </tr>\n",
       "    <tr>\n",
       "      <th>12</th>\n",
       "      <td>12</td>\n",
       "      <td>2931</td>\n",
       "    </tr>\n",
       "    <tr>\n",
       "      <th>19</th>\n",
       "      <td>19</td>\n",
       "      <td>2913</td>\n",
       "    </tr>\n",
       "    <tr>\n",
       "      <th>20</th>\n",
       "      <td>20</td>\n",
       "      <td>2805</td>\n",
       "    </tr>\n",
       "    <tr>\n",
       "      <th>21</th>\n",
       "      <td>21</td>\n",
       "      <td>3469</td>\n",
       "    </tr>\n",
       "  </tbody>\n",
       "</table>\n",
       "</div>"
      ],
      "text/plain": [
       "    TIMESTAMP_DERIVED_HOUR  UI_EVENT_ID_COUNT\n",
       "0                        0               3737\n",
       "12                      12               2931\n",
       "19                      19               2913\n",
       "20                      20               2805\n",
       "21                      21               3469"
      ]
     },
     "execution_count": 40,
     "metadata": {},
     "output_type": "execute_result"
    }
   ],
   "source": [
    "top_hours"
   ]
  },
  {
   "cell_type": "markdown",
   "id": "dfbb2d98",
   "metadata": {},
   "source": [
    "Reseting index"
   ]
  },
  {
   "cell_type": "code",
   "execution_count": 41,
   "id": "99174d6b",
   "metadata": {},
   "outputs": [],
   "source": [
    "top_hours = top_hours.reset_index()"
   ]
  },
  {
   "cell_type": "code",
   "execution_count": 42,
   "id": "c63079d6",
   "metadata": {},
   "outputs": [
    {
     "data": {
      "text/html": [
       "<div>\n",
       "<style scoped>\n",
       "    .dataframe tbody tr th:only-of-type {\n",
       "        vertical-align: middle;\n",
       "    }\n",
       "\n",
       "    .dataframe tbody tr th {\n",
       "        vertical-align: top;\n",
       "    }\n",
       "\n",
       "    .dataframe thead th {\n",
       "        text-align: right;\n",
       "    }\n",
       "</style>\n",
       "<table border=\"1\" class=\"dataframe\">\n",
       "  <thead>\n",
       "    <tr style=\"text-align: right;\">\n",
       "      <th></th>\n",
       "      <th>index</th>\n",
       "      <th>TIMESTAMP_DERIVED_HOUR</th>\n",
       "      <th>UI_EVENT_ID_COUNT</th>\n",
       "    </tr>\n",
       "  </thead>\n",
       "  <tbody>\n",
       "    <tr>\n",
       "      <th>0</th>\n",
       "      <td>0</td>\n",
       "      <td>0</td>\n",
       "      <td>3737</td>\n",
       "    </tr>\n",
       "    <tr>\n",
       "      <th>1</th>\n",
       "      <td>12</td>\n",
       "      <td>12</td>\n",
       "      <td>2931</td>\n",
       "    </tr>\n",
       "    <tr>\n",
       "      <th>2</th>\n",
       "      <td>19</td>\n",
       "      <td>19</td>\n",
       "      <td>2913</td>\n",
       "    </tr>\n",
       "    <tr>\n",
       "      <th>3</th>\n",
       "      <td>20</td>\n",
       "      <td>20</td>\n",
       "      <td>2805</td>\n",
       "    </tr>\n",
       "    <tr>\n",
       "      <th>4</th>\n",
       "      <td>21</td>\n",
       "      <td>21</td>\n",
       "      <td>3469</td>\n",
       "    </tr>\n",
       "  </tbody>\n",
       "</table>\n",
       "</div>"
      ],
      "text/plain": [
       "   index  TIMESTAMP_DERIVED_HOUR  UI_EVENT_ID_COUNT\n",
       "0      0                       0               3737\n",
       "1     12                      12               2931\n",
       "2     19                      19               2913\n",
       "3     20                      20               2805\n",
       "4     21                      21               3469"
      ]
     },
     "execution_count": 42,
     "metadata": {},
     "output_type": "execute_result"
    }
   ],
   "source": [
    "top_hours"
   ]
  },
  {
   "cell_type": "markdown",
   "id": "ee188b0e",
   "metadata": {},
   "source": [
    "Result"
   ]
  },
  {
   "cell_type": "code",
   "execution_count": 43,
   "id": "28a418a8",
   "metadata": {},
   "outputs": [
    {
     "name": "stdout",
     "output_type": "stream",
     "text": [
      "The top hours are: 0, 12, 19, 20 and 21"
     ]
    }
   ],
   "source": [
    "top_hours_values = []\n",
    "\n",
    "print(\"The top hours are: \", end=\"\")\n",
    "for i in top_hours.index:\n",
    "    value = top_hours['TIMESTAMP_DERIVED_HOUR'][i]\n",
    "    \n",
    "    top_hours_values.append(value)\n",
    "    \n",
    "    if i == len(top_hours) - 1:\n",
    "        print(f\"{value}\", end=\"\")\n",
    "    elif i == len(top_hours) - 2:\n",
    "        print(f\"{value} and \", end=\"\")\n",
    "    else:\n",
    "        print(f\"{value}, \", end=\"\")"
   ]
  },
  {
   "cell_type": "markdown",
   "id": "a06b88ac",
   "metadata": {},
   "source": [
    "---"
   ]
  },
  {
   "cell_type": "markdown",
   "id": "9f7316fe",
   "metadata": {},
   "source": [
    "## Analyzing the most common error types by day"
   ]
  },
  {
   "cell_type": "markdown",
   "id": "4d384bed",
   "metadata": {},
   "source": [
    "Getting the count of erros for each type of error"
   ]
  },
  {
   "cell_type": "code",
   "execution_count": 44,
   "id": "49d29446",
   "metadata": {},
   "outputs": [],
   "source": [
    "ltng_full_reports_group = ltng_full_reports.groupby(['UI_EVENT_SOURCE']).agg({'UI_EVENT_ID': 'count'})"
   ]
  },
  {
   "cell_type": "code",
   "execution_count": 45,
   "id": "c1784b30",
   "metadata": {},
   "outputs": [
    {
     "data": {
      "text/plain": [
       "(2, 1)"
      ]
     },
     "execution_count": 45,
     "metadata": {},
     "output_type": "execute_result"
    }
   ],
   "source": [
    "ltng_full_reports_group.shape"
   ]
  },
  {
   "cell_type": "markdown",
   "id": "a61ea719",
   "metadata": {},
   "source": [
    "Renaming the column of ***UI_EVENT_ID*** to ***UI_EVENT_ID_COUNT***"
   ]
  },
  {
   "cell_type": "code",
   "execution_count": 46,
   "id": "641fba7d",
   "metadata": {},
   "outputs": [],
   "source": [
    "ltng_full_reports_group.rename(columns={'UI_EVENT_ID': 'UI_EVENT_ID_COUNT'}, inplace = True)"
   ]
  },
  {
   "cell_type": "code",
   "execution_count": 47,
   "id": "adad9b4d",
   "metadata": {},
   "outputs": [
    {
     "data": {
      "text/html": [
       "<div>\n",
       "<style scoped>\n",
       "    .dataframe tbody tr th:only-of-type {\n",
       "        vertical-align: middle;\n",
       "    }\n",
       "\n",
       "    .dataframe tbody tr th {\n",
       "        vertical-align: top;\n",
       "    }\n",
       "\n",
       "    .dataframe thead th {\n",
       "        text-align: right;\n",
       "    }\n",
       "</style>\n",
       "<table border=\"1\" class=\"dataframe\">\n",
       "  <thead>\n",
       "    <tr style=\"text-align: right;\">\n",
       "      <th></th>\n",
       "      <th>UI_EVENT_ID_COUNT</th>\n",
       "    </tr>\n",
       "    <tr>\n",
       "      <th>UI_EVENT_SOURCE</th>\n",
       "      <th></th>\n",
       "    </tr>\n",
       "  </thead>\n",
       "  <tbody>\n",
       "    <tr>\n",
       "      <th>Error</th>\n",
       "      <td>42064</td>\n",
       "    </tr>\n",
       "    <tr>\n",
       "      <th>TypeError</th>\n",
       "      <td>11539</td>\n",
       "    </tr>\n",
       "  </tbody>\n",
       "</table>\n",
       "</div>"
      ],
      "text/plain": [
       "                 UI_EVENT_ID_COUNT\n",
       "UI_EVENT_SOURCE                   \n",
       "Error                        42064\n",
       "TypeError                    11539"
      ]
     },
     "execution_count": 47,
     "metadata": {},
     "output_type": "execute_result"
    }
   ],
   "source": [
    "ltng_full_reports_group"
   ]
  },
  {
   "cell_type": "markdown",
   "id": "f22fca8f",
   "metadata": {},
   "source": [
    "Sorting the data by ***UI_EVENT_ID_COUNT***"
   ]
  },
  {
   "cell_type": "code",
   "execution_count": 48,
   "id": "c8563ced",
   "metadata": {},
   "outputs": [],
   "source": [
    "ltng_full_reports_group = ltng_full_reports_group.sort_values(by=['UI_EVENT_ID_COUNT'], ascending=False)"
   ]
  },
  {
   "cell_type": "code",
   "execution_count": 49,
   "id": "bb707b74",
   "metadata": {},
   "outputs": [
    {
     "data": {
      "text/html": [
       "<div>\n",
       "<style scoped>\n",
       "    .dataframe tbody tr th:only-of-type {\n",
       "        vertical-align: middle;\n",
       "    }\n",
       "\n",
       "    .dataframe tbody tr th {\n",
       "        vertical-align: top;\n",
       "    }\n",
       "\n",
       "    .dataframe thead th {\n",
       "        text-align: right;\n",
       "    }\n",
       "</style>\n",
       "<table border=\"1\" class=\"dataframe\">\n",
       "  <thead>\n",
       "    <tr style=\"text-align: right;\">\n",
       "      <th></th>\n",
       "      <th>UI_EVENT_ID_COUNT</th>\n",
       "    </tr>\n",
       "    <tr>\n",
       "      <th>UI_EVENT_SOURCE</th>\n",
       "      <th></th>\n",
       "    </tr>\n",
       "  </thead>\n",
       "  <tbody>\n",
       "    <tr>\n",
       "      <th>Error</th>\n",
       "      <td>42064</td>\n",
       "    </tr>\n",
       "    <tr>\n",
       "      <th>TypeError</th>\n",
       "      <td>11539</td>\n",
       "    </tr>\n",
       "  </tbody>\n",
       "</table>\n",
       "</div>"
      ],
      "text/plain": [
       "                 UI_EVENT_ID_COUNT\n",
       "UI_EVENT_SOURCE                   \n",
       "Error                        42064\n",
       "TypeError                    11539"
      ]
     },
     "execution_count": 49,
     "metadata": {},
     "output_type": "execute_result"
    }
   ],
   "source": [
    "ltng_full_reports_group"
   ]
  },
  {
   "cell_type": "markdown",
   "id": "53330128",
   "metadata": {},
   "source": [
    "Viewing the data"
   ]
  },
  {
   "cell_type": "code",
   "execution_count": 50,
   "id": "eb371424",
   "metadata": {},
   "outputs": [
    {
     "data": {
      "text/plain": [
       "Text(0.5, 1.0, 'Types of errors that appear the most during the day')"
      ]
     },
     "execution_count": 50,
     "metadata": {},
     "output_type": "execute_result"
    },
    {
     "data": {
      "image/png": "[encoded data removed]",
      "text/plain": [
       "<Figure size 720x432 with 1 Axes>"
      ]
     },
     "metadata": {
      "needs_background": "light"
     },
     "output_type": "display_data"
    }
   ],
   "source": [
    "number_of_error_types_graph = 2\n",
    "\n",
    "graph = ltng_full_reports_group.head(number_of_error_types_graph).plot.barh(figsize=(10, 6))\n",
    "graph.set_ylabel('Error types')\n",
    "graph.set_xlabel('Count')\n",
    "graph.set_title('Types of errors that appear the most during the day')"
   ]
  },
  {
   "cell_type": "markdown",
   "id": "cbf7efdc",
   "metadata": {},
   "source": [
    "### Getting top error types by day"
   ]
  },
  {
   "cell_type": "code",
   "execution_count": 51,
   "id": "3c623cdb",
   "metadata": {},
   "outputs": [],
   "source": [
    "number_of_error_types = 2\n",
    "\n",
    "top_error_types_by_day = ltng_full_reports_group.head(number_of_error_types)"
   ]
  },
  {
   "cell_type": "code",
   "execution_count": 52,
   "id": "4f30d91d",
   "metadata": {},
   "outputs": [
    {
     "data": {
      "text/html": [
       "<div>\n",
       "<style scoped>\n",
       "    .dataframe tbody tr th:only-of-type {\n",
       "        vertical-align: middle;\n",
       "    }\n",
       "\n",
       "    .dataframe tbody tr th {\n",
       "        vertical-align: top;\n",
       "    }\n",
       "\n",
       "    .dataframe thead th {\n",
       "        text-align: right;\n",
       "    }\n",
       "</style>\n",
       "<table border=\"1\" class=\"dataframe\">\n",
       "  <thead>\n",
       "    <tr style=\"text-align: right;\">\n",
       "      <th></th>\n",
       "      <th>UI_EVENT_ID_COUNT</th>\n",
       "    </tr>\n",
       "    <tr>\n",
       "      <th>UI_EVENT_SOURCE</th>\n",
       "      <th></th>\n",
       "    </tr>\n",
       "  </thead>\n",
       "  <tbody>\n",
       "    <tr>\n",
       "      <th>Error</th>\n",
       "      <td>42064</td>\n",
       "    </tr>\n",
       "    <tr>\n",
       "      <th>TypeError</th>\n",
       "      <td>11539</td>\n",
       "    </tr>\n",
       "  </tbody>\n",
       "</table>\n",
       "</div>"
      ],
      "text/plain": [
       "                 UI_EVENT_ID_COUNT\n",
       "UI_EVENT_SOURCE                   \n",
       "Error                        42064\n",
       "TypeError                    11539"
      ]
     },
     "execution_count": 52,
     "metadata": {},
     "output_type": "execute_result"
    }
   ],
   "source": [
    "top_error_types_by_day"
   ]
  },
  {
   "cell_type": "markdown",
   "id": "4cb5b8bb",
   "metadata": {},
   "source": [
    "Reseting index"
   ]
  },
  {
   "cell_type": "code",
   "execution_count": 53,
   "id": "9bf6840d",
   "metadata": {},
   "outputs": [],
   "source": [
    "top_error_types_by_day = top_error_types_by_day.reset_index()"
   ]
  },
  {
   "cell_type": "code",
   "execution_count": 54,
   "id": "43582d22",
   "metadata": {},
   "outputs": [
    {
     "data": {
      "text/html": [
       "<div>\n",
       "<style scoped>\n",
       "    .dataframe tbody tr th:only-of-type {\n",
       "        vertical-align: middle;\n",
       "    }\n",
       "\n",
       "    .dataframe tbody tr th {\n",
       "        vertical-align: top;\n",
       "    }\n",
       "\n",
       "    .dataframe thead th {\n",
       "        text-align: right;\n",
       "    }\n",
       "</style>\n",
       "<table border=\"1\" class=\"dataframe\">\n",
       "  <thead>\n",
       "    <tr style=\"text-align: right;\">\n",
       "      <th></th>\n",
       "      <th>UI_EVENT_SOURCE</th>\n",
       "      <th>UI_EVENT_ID_COUNT</th>\n",
       "    </tr>\n",
       "  </thead>\n",
       "  <tbody>\n",
       "    <tr>\n",
       "      <th>0</th>\n",
       "      <td>Error</td>\n",
       "      <td>42064</td>\n",
       "    </tr>\n",
       "    <tr>\n",
       "      <th>1</th>\n",
       "      <td>TypeError</td>\n",
       "      <td>11539</td>\n",
       "    </tr>\n",
       "  </tbody>\n",
       "</table>\n",
       "</div>"
      ],
      "text/plain": [
       "  UI_EVENT_SOURCE  UI_EVENT_ID_COUNT\n",
       "0           Error              42064\n",
       "1       TypeError              11539"
      ]
     },
     "execution_count": 54,
     "metadata": {},
     "output_type": "execute_result"
    }
   ],
   "source": [
    "top_error_types_by_day"
   ]
  },
  {
   "cell_type": "markdown",
   "id": "1f293bb2",
   "metadata": {},
   "source": [
    "Result"
   ]
  },
  {
   "cell_type": "code",
   "execution_count": 55,
   "id": "3058f4fa",
   "metadata": {},
   "outputs": [
    {
     "name": "stdout",
     "output_type": "stream",
     "text": [
      "The top 2 error types by day are: \n",
      "1 - Error\n",
      "2 - TypeError\n"
     ]
    }
   ],
   "source": [
    "top_error_types_by_day_values = []\n",
    "\n",
    "print(f\"The top {number_of_error_types} error types by day are: \")\n",
    "\n",
    "for i in top_error_types_by_day.index:\n",
    "    value = top_error_types_by_day['UI_EVENT_SOURCE'][i]\n",
    "    \n",
    "    top_error_types_by_day_values.append(value)\n",
    "    \n",
    "    print(f\"{i + 1} - {value}\")"
   ]
  },
  {
   "cell_type": "markdown",
   "id": "ae2c1652",
   "metadata": {},
   "source": [
    "---"
   ]
  },
  {
   "cell_type": "markdown",
   "id": "a40c6915",
   "metadata": {},
   "source": [
    "## Analyzing the most common error types by peak time"
   ]
  },
  {
   "cell_type": "markdown",
   "id": "a83826a3",
   "metadata": {},
   "source": [
    "Getting top hours values"
   ]
  },
  {
   "cell_type": "code",
   "execution_count": 56,
   "id": "a1f40a06",
   "metadata": {},
   "outputs": [
    {
     "data": {
      "text/plain": [
       "[0, 12, 19, 20, 21]"
      ]
     },
     "execution_count": 56,
     "metadata": {},
     "output_type": "execute_result"
    }
   ],
   "source": [
    "top_hours_values"
   ]
  },
  {
   "cell_type": "markdown",
   "id": "1f7883e6",
   "metadata": {},
   "source": [
    "Filtering the data by top hours"
   ]
  },
  {
   "cell_type": "code",
   "execution_count": 57,
   "id": "48110052",
   "metadata": {},
   "outputs": [
    {
     "data": {
      "text/plain": [
       "(53603, 7)"
      ]
     },
     "execution_count": 57,
     "metadata": {},
     "output_type": "execute_result"
    }
   ],
   "source": [
    "ltng_full_reports.shape"
   ]
  },
  {
   "cell_type": "code",
   "execution_count": 58,
   "id": "88cc87d0",
   "metadata": {},
   "outputs": [],
   "source": [
    "filtered_ltng_full_reports = ltng_full_reports[ltng_full_reports.TIMESTAMP_DERIVED_HOUR.isin(top_hours_values)]"
   ]
  },
  {
   "cell_type": "code",
   "execution_count": 59,
   "id": "4ca4bd33",
   "metadata": {},
   "outputs": [
    {
     "data": {
      "text/plain": [
       "(15855, 7)"
      ]
     },
     "execution_count": 59,
     "metadata": {},
     "output_type": "execute_result"
    }
   ],
   "source": [
    "filtered_ltng_full_reports.shape"
   ]
  },
  {
   "cell_type": "markdown",
   "id": "c5159a4d",
   "metadata": {},
   "source": [
    "Grouping by ***UI_EVENT_SOURCE***"
   ]
  },
  {
   "cell_type": "code",
   "execution_count": 60,
   "id": "33154625",
   "metadata": {},
   "outputs": [],
   "source": [
    "filtered_ltng_full_reports_group = filtered_ltng_full_reports.groupby(['UI_EVENT_SOURCE']).agg({'UI_EVENT_ID': 'count'})"
   ]
  },
  {
   "cell_type": "code",
   "execution_count": 61,
   "id": "84d2de56",
   "metadata": {},
   "outputs": [
    {
     "data": {
      "text/plain": [
       "(2, 1)"
      ]
     },
     "execution_count": 61,
     "metadata": {},
     "output_type": "execute_result"
    }
   ],
   "source": [
    "filtered_ltng_full_reports_group.shape"
   ]
  },
  {
   "cell_type": "code",
   "execution_count": 62,
   "id": "8368ec67",
   "metadata": {},
   "outputs": [
    {
     "data": {
      "text/html": [
       "<div>\n",
       "<style scoped>\n",
       "    .dataframe tbody tr th:only-of-type {\n",
       "        vertical-align: middle;\n",
       "    }\n",
       "\n",
       "    .dataframe tbody tr th {\n",
       "        vertical-align: top;\n",
       "    }\n",
       "\n",
       "    .dataframe thead th {\n",
       "        text-align: right;\n",
       "    }\n",
       "</style>\n",
       "<table border=\"1\" class=\"dataframe\">\n",
       "  <thead>\n",
       "    <tr style=\"text-align: right;\">\n",
       "      <th></th>\n",
       "      <th>UI_EVENT_ID</th>\n",
       "    </tr>\n",
       "    <tr>\n",
       "      <th>UI_EVENT_SOURCE</th>\n",
       "      <th></th>\n",
       "    </tr>\n",
       "  </thead>\n",
       "  <tbody>\n",
       "    <tr>\n",
       "      <th>Error</th>\n",
       "      <td>12405</td>\n",
       "    </tr>\n",
       "    <tr>\n",
       "      <th>TypeError</th>\n",
       "      <td>3450</td>\n",
       "    </tr>\n",
       "  </tbody>\n",
       "</table>\n",
       "</div>"
      ],
      "text/plain": [
       "                 UI_EVENT_ID\n",
       "UI_EVENT_SOURCE             \n",
       "Error                  12405\n",
       "TypeError               3450"
      ]
     },
     "execution_count": 62,
     "metadata": {},
     "output_type": "execute_result"
    }
   ],
   "source": [
    "filtered_ltng_full_reports_group"
   ]
  },
  {
   "cell_type": "markdown",
   "id": "9c074cfb",
   "metadata": {},
   "source": [
    "Renaming the column of ***UI_EVENT_ID*** to ***UI_EVENT_ID_COUNT***"
   ]
  },
  {
   "cell_type": "code",
   "execution_count": 63,
   "id": "f524b76a",
   "metadata": {},
   "outputs": [],
   "source": [
    "filtered_ltng_full_reports_group.rename(columns={'UI_EVENT_ID': 'UI_EVENT_ID_COUNT'}, inplace = True)"
   ]
  },
  {
   "cell_type": "markdown",
   "id": "e8778a10",
   "metadata": {},
   "source": [
    "Sorting by ***UI_EVENT_ID_COUNT***"
   ]
  },
  {
   "cell_type": "code",
   "execution_count": 64,
   "id": "8bba2122",
   "metadata": {},
   "outputs": [],
   "source": [
    "filtered_ltng_full_reports_group_sorted = filtered_ltng_full_reports_group.sort_values(by=['UI_EVENT_ID_COUNT']\n",
    "                                                                                       , ascending=False)"
   ]
  },
  {
   "cell_type": "code",
   "execution_count": 65,
   "id": "8ce7fc66",
   "metadata": {},
   "outputs": [
    {
     "data": {
      "text/html": [
       "<div>\n",
       "<style scoped>\n",
       "    .dataframe tbody tr th:only-of-type {\n",
       "        vertical-align: middle;\n",
       "    }\n",
       "\n",
       "    .dataframe tbody tr th {\n",
       "        vertical-align: top;\n",
       "    }\n",
       "\n",
       "    .dataframe thead th {\n",
       "        text-align: right;\n",
       "    }\n",
       "</style>\n",
       "<table border=\"1\" class=\"dataframe\">\n",
       "  <thead>\n",
       "    <tr style=\"text-align: right;\">\n",
       "      <th></th>\n",
       "      <th>UI_EVENT_ID_COUNT</th>\n",
       "    </tr>\n",
       "    <tr>\n",
       "      <th>UI_EVENT_SOURCE</th>\n",
       "      <th></th>\n",
       "    </tr>\n",
       "  </thead>\n",
       "  <tbody>\n",
       "    <tr>\n",
       "      <th>Error</th>\n",
       "      <td>12405</td>\n",
       "    </tr>\n",
       "    <tr>\n",
       "      <th>TypeError</th>\n",
       "      <td>3450</td>\n",
       "    </tr>\n",
       "  </tbody>\n",
       "</table>\n",
       "</div>"
      ],
      "text/plain": [
       "                 UI_EVENT_ID_COUNT\n",
       "UI_EVENT_SOURCE                   \n",
       "Error                        12405\n",
       "TypeError                     3450"
      ]
     },
     "execution_count": 65,
     "metadata": {},
     "output_type": "execute_result"
    }
   ],
   "source": [
    "filtered_ltng_full_reports_group_sorted"
   ]
  },
  {
   "cell_type": "markdown",
   "id": "cfc018fa",
   "metadata": {},
   "source": [
    "Viewing the data"
   ]
  },
  {
   "cell_type": "code",
   "execution_count": 66,
   "id": "05841164",
   "metadata": {},
   "outputs": [
    {
     "data": {
      "text/plain": [
       "Text(0.5, 1.0, 'Types of errors that appear the most during the peak time')"
      ]
     },
     "execution_count": 66,
     "metadata": {},
     "output_type": "execute_result"
    },
    {
     "data": {
      "image/png": "[encoded data removed]",
      "text/plain": [
       "<Figure size 720x432 with 1 Axes>"
      ]
     },
     "metadata": {
      "needs_background": "light"
     },
     "output_type": "display_data"
    }
   ],
   "source": [
    "graph = filtered_ltng_full_reports_group_sorted.head(number_of_error_types_graph).plot.barh(figsize=(10, 6))\n",
    "graph.set_ylabel('Error types')\n",
    "graph.set_xlabel('Count')\n",
    "graph.set_title('Types of errors that appear the most during the peak time')"
   ]
  },
  {
   "cell_type": "markdown",
   "id": "4b1eb32b",
   "metadata": {},
   "source": [
    "### Getting top error types by peak time"
   ]
  },
  {
   "cell_type": "code",
   "execution_count": 67,
   "id": "03d642d9",
   "metadata": {},
   "outputs": [],
   "source": [
    "top_error_types_by_peak_time = filtered_ltng_full_reports_group_sorted.head(number_of_error_types)"
   ]
  },
  {
   "cell_type": "code",
   "execution_count": 68,
   "id": "300ebde4",
   "metadata": {},
   "outputs": [
    {
     "data": {
      "text/html": [
       "<div>\n",
       "<style scoped>\n",
       "    .dataframe tbody tr th:only-of-type {\n",
       "        vertical-align: middle;\n",
       "    }\n",
       "\n",
       "    .dataframe tbody tr th {\n",
       "        vertical-align: top;\n",
       "    }\n",
       "\n",
       "    .dataframe thead th {\n",
       "        text-align: right;\n",
       "    }\n",
       "</style>\n",
       "<table border=\"1\" class=\"dataframe\">\n",
       "  <thead>\n",
       "    <tr style=\"text-align: right;\">\n",
       "      <th></th>\n",
       "      <th>UI_EVENT_ID_COUNT</th>\n",
       "    </tr>\n",
       "    <tr>\n",
       "      <th>UI_EVENT_SOURCE</th>\n",
       "      <th></th>\n",
       "    </tr>\n",
       "  </thead>\n",
       "  <tbody>\n",
       "    <tr>\n",
       "      <th>Error</th>\n",
       "      <td>12405</td>\n",
       "    </tr>\n",
       "    <tr>\n",
       "      <th>TypeError</th>\n",
       "      <td>3450</td>\n",
       "    </tr>\n",
       "  </tbody>\n",
       "</table>\n",
       "</div>"
      ],
      "text/plain": [
       "                 UI_EVENT_ID_COUNT\n",
       "UI_EVENT_SOURCE                   \n",
       "Error                        12405\n",
       "TypeError                     3450"
      ]
     },
     "execution_count": 68,
     "metadata": {},
     "output_type": "execute_result"
    }
   ],
   "source": [
    "top_error_types_by_peak_time"
   ]
  },
  {
   "cell_type": "markdown",
   "id": "ce88968a",
   "metadata": {},
   "source": [
    "Reseting index"
   ]
  },
  {
   "cell_type": "code",
   "execution_count": 69,
   "id": "d776c969",
   "metadata": {},
   "outputs": [],
   "source": [
    "top_error_types_by_peak_time = top_error_types_by_peak_time.reset_index()"
   ]
  },
  {
   "cell_type": "markdown",
   "id": "cff0b7c1",
   "metadata": {},
   "source": [
    "Getting top page entity type values and showing result"
   ]
  },
  {
   "cell_type": "code",
   "execution_count": 70,
   "id": "4b3de9e7",
   "metadata": {},
   "outputs": [
    {
     "name": "stdout",
     "output_type": "stream",
     "text": [
      "The top 2 error types by peak time are: \n",
      "1 - Error\n",
      "2 - TypeError\n"
     ]
    }
   ],
   "source": [
    "top_error_types_by_peak_time_values = []\n",
    "\n",
    "print(f\"The top {number_of_error_types} error types by peak time are: \")\n",
    "for i in top_error_types_by_peak_time.index:\n",
    "    value = top_error_types_by_peak_time['UI_EVENT_SOURCE'][i]\n",
    "    \n",
    "    top_error_types_by_peak_time_values.append(value)\n",
    "    print(f\"{i + 1} - {value}\")"
   ]
  },
  {
   "cell_type": "markdown",
   "id": "950794c7",
   "metadata": {},
   "source": [
    "---"
   ]
  },
  {
   "cell_type": "markdown",
   "id": "dc56dd39",
   "metadata": {},
   "source": [
    "## Analyzing types of errors by peak time"
   ]
  },
  {
   "cell_type": "markdown",
   "id": "cf55d38c",
   "metadata": {},
   "source": [
    "Getting the count of erros for each group of type and hour"
   ]
  },
  {
   "cell_type": "code",
   "execution_count": 71,
   "id": "29ff6604",
   "metadata": {},
   "outputs": [],
   "source": [
    "ltng_full_reports_group = ltng_full_reports.groupby(['TIMESTAMP_DERIVED_HOUR', \n",
    "                                                     'UI_EVENT_SOURCE']).agg({'UI_EVENT_ID': 'count'})"
   ]
  },
  {
   "cell_type": "code",
   "execution_count": 72,
   "id": "0817c8a4",
   "metadata": {},
   "outputs": [
    {
     "data": {
      "text/html": [
       "<div>\n",
       "<style scoped>\n",
       "    .dataframe tbody tr th:only-of-type {\n",
       "        vertical-align: middle;\n",
       "    }\n",
       "\n",
       "    .dataframe tbody tr th {\n",
       "        vertical-align: top;\n",
       "    }\n",
       "\n",
       "    .dataframe thead th {\n",
       "        text-align: right;\n",
       "    }\n",
       "</style>\n",
       "<table border=\"1\" class=\"dataframe\">\n",
       "  <thead>\n",
       "    <tr style=\"text-align: right;\">\n",
       "      <th></th>\n",
       "      <th></th>\n",
       "      <th>UI_EVENT_ID</th>\n",
       "    </tr>\n",
       "    <tr>\n",
       "      <th>TIMESTAMP_DERIVED_HOUR</th>\n",
       "      <th>UI_EVENT_SOURCE</th>\n",
       "      <th></th>\n",
       "    </tr>\n",
       "  </thead>\n",
       "  <tbody>\n",
       "    <tr>\n",
       "      <th rowspan=\"2\" valign=\"top\">0</th>\n",
       "      <th>Error</th>\n",
       "      <td>2931</td>\n",
       "    </tr>\n",
       "    <tr>\n",
       "      <th>TypeError</th>\n",
       "      <td>806</td>\n",
       "    </tr>\n",
       "    <tr>\n",
       "      <th rowspan=\"2\" valign=\"top\">1</th>\n",
       "      <th>Error</th>\n",
       "      <td>1894</td>\n",
       "    </tr>\n",
       "    <tr>\n",
       "      <th>TypeError</th>\n",
       "      <td>494</td>\n",
       "    </tr>\n",
       "    <tr>\n",
       "      <th rowspan=\"2\" valign=\"top\">2</th>\n",
       "      <th>Error</th>\n",
       "      <td>1539</td>\n",
       "    </tr>\n",
       "    <tr>\n",
       "      <th>TypeError</th>\n",
       "      <td>380</td>\n",
       "    </tr>\n",
       "    <tr>\n",
       "      <th rowspan=\"2\" valign=\"top\">3</th>\n",
       "      <th>Error</th>\n",
       "      <td>1698</td>\n",
       "    </tr>\n",
       "    <tr>\n",
       "      <th>TypeError</th>\n",
       "      <td>482</td>\n",
       "    </tr>\n",
       "    <tr>\n",
       "      <th rowspan=\"2\" valign=\"top\">4</th>\n",
       "      <th>Error</th>\n",
       "      <td>1402</td>\n",
       "    </tr>\n",
       "    <tr>\n",
       "      <th>TypeError</th>\n",
       "      <td>388</td>\n",
       "    </tr>\n",
       "    <tr>\n",
       "      <th rowspan=\"2\" valign=\"top\">5</th>\n",
       "      <th>Error</th>\n",
       "      <td>1374</td>\n",
       "    </tr>\n",
       "    <tr>\n",
       "      <th>TypeError</th>\n",
       "      <td>358</td>\n",
       "    </tr>\n",
       "    <tr>\n",
       "      <th rowspan=\"2\" valign=\"top\">6</th>\n",
       "      <th>Error</th>\n",
       "      <td>1017</td>\n",
       "    </tr>\n",
       "    <tr>\n",
       "      <th>TypeError</th>\n",
       "      <td>267</td>\n",
       "    </tr>\n",
       "    <tr>\n",
       "      <th rowspan=\"2\" valign=\"top\">7</th>\n",
       "      <th>Error</th>\n",
       "      <td>989</td>\n",
       "    </tr>\n",
       "    <tr>\n",
       "      <th>TypeError</th>\n",
       "      <td>259</td>\n",
       "    </tr>\n",
       "    <tr>\n",
       "      <th rowspan=\"2\" valign=\"top\">8</th>\n",
       "      <th>Error</th>\n",
       "      <td>1146</td>\n",
       "    </tr>\n",
       "    <tr>\n",
       "      <th>TypeError</th>\n",
       "      <td>318</td>\n",
       "    </tr>\n",
       "    <tr>\n",
       "      <th rowspan=\"2\" valign=\"top\">9</th>\n",
       "      <th>Error</th>\n",
       "      <td>1204</td>\n",
       "    </tr>\n",
       "    <tr>\n",
       "      <th>TypeError</th>\n",
       "      <td>322</td>\n",
       "    </tr>\n",
       "    <tr>\n",
       "      <th rowspan=\"2\" valign=\"top\">10</th>\n",
       "      <th>Error</th>\n",
       "      <td>1357</td>\n",
       "    </tr>\n",
       "    <tr>\n",
       "      <th>TypeError</th>\n",
       "      <td>372</td>\n",
       "    </tr>\n",
       "    <tr>\n",
       "      <th rowspan=\"2\" valign=\"top\">11</th>\n",
       "      <th>Error</th>\n",
       "      <td>1157</td>\n",
       "    </tr>\n",
       "    <tr>\n",
       "      <th>TypeError</th>\n",
       "      <td>318</td>\n",
       "    </tr>\n",
       "    <tr>\n",
       "      <th rowspan=\"2\" valign=\"top\">12</th>\n",
       "      <th>Error</th>\n",
       "      <td>2287</td>\n",
       "    </tr>\n",
       "    <tr>\n",
       "      <th>TypeError</th>\n",
       "      <td>644</td>\n",
       "    </tr>\n",
       "    <tr>\n",
       "      <th rowspan=\"2\" valign=\"top\">13</th>\n",
       "      <th>Error</th>\n",
       "      <td>1931</td>\n",
       "    </tr>\n",
       "    <tr>\n",
       "      <th>TypeError</th>\n",
       "      <td>536</td>\n",
       "    </tr>\n",
       "    <tr>\n",
       "      <th rowspan=\"2\" valign=\"top\">14</th>\n",
       "      <th>Error</th>\n",
       "      <td>2009</td>\n",
       "    </tr>\n",
       "    <tr>\n",
       "      <th>TypeError</th>\n",
       "      <td>552</td>\n",
       "    </tr>\n",
       "    <tr>\n",
       "      <th rowspan=\"2\" valign=\"top\">15</th>\n",
       "      <th>Error</th>\n",
       "      <td>2071</td>\n",
       "    </tr>\n",
       "    <tr>\n",
       "      <th>TypeError</th>\n",
       "      <td>576</td>\n",
       "    </tr>\n",
       "    <tr>\n",
       "      <th rowspan=\"2\" valign=\"top\">16</th>\n",
       "      <th>Error</th>\n",
       "      <td>2080</td>\n",
       "    </tr>\n",
       "    <tr>\n",
       "      <th>TypeError</th>\n",
       "      <td>588</td>\n",
       "    </tr>\n",
       "    <tr>\n",
       "      <th rowspan=\"2\" valign=\"top\">17</th>\n",
       "      <th>Error</th>\n",
       "      <td>2039</td>\n",
       "    </tr>\n",
       "    <tr>\n",
       "      <th>TypeError</th>\n",
       "      <td>548</td>\n",
       "    </tr>\n",
       "    <tr>\n",
       "      <th rowspan=\"2\" valign=\"top\">18</th>\n",
       "      <th>Error</th>\n",
       "      <td>1898</td>\n",
       "    </tr>\n",
       "    <tr>\n",
       "      <th>TypeError</th>\n",
       "      <td>536</td>\n",
       "    </tr>\n",
       "    <tr>\n",
       "      <th rowspan=\"2\" valign=\"top\">19</th>\n",
       "      <th>Error</th>\n",
       "      <td>2273</td>\n",
       "    </tr>\n",
       "    <tr>\n",
       "      <th>TypeError</th>\n",
       "      <td>640</td>\n",
       "    </tr>\n",
       "    <tr>\n",
       "      <th rowspan=\"2\" valign=\"top\">20</th>\n",
       "      <th>Error</th>\n",
       "      <td>2189</td>\n",
       "    </tr>\n",
       "    <tr>\n",
       "      <th>TypeError</th>\n",
       "      <td>616</td>\n",
       "    </tr>\n",
       "    <tr>\n",
       "      <th rowspan=\"2\" valign=\"top\">21</th>\n",
       "      <th>Error</th>\n",
       "      <td>2725</td>\n",
       "    </tr>\n",
       "    <tr>\n",
       "      <th>TypeError</th>\n",
       "      <td>744</td>\n",
       "    </tr>\n",
       "    <tr>\n",
       "      <th rowspan=\"2\" valign=\"top\">22</th>\n",
       "      <th>Error</th>\n",
       "      <td>1575</td>\n",
       "    </tr>\n",
       "    <tr>\n",
       "      <th>TypeError</th>\n",
       "      <td>450</td>\n",
       "    </tr>\n",
       "    <tr>\n",
       "      <th rowspan=\"2\" valign=\"top\">23</th>\n",
       "      <th>Error</th>\n",
       "      <td>1279</td>\n",
       "    </tr>\n",
       "    <tr>\n",
       "      <th>TypeError</th>\n",
       "      <td>345</td>\n",
       "    </tr>\n",
       "  </tbody>\n",
       "</table>\n",
       "</div>"
      ],
      "text/plain": [
       "                                        UI_EVENT_ID\n",
       "TIMESTAMP_DERIVED_HOUR UI_EVENT_SOURCE             \n",
       "0                      Error                   2931\n",
       "                       TypeError                806\n",
       "1                      Error                   1894\n",
       "                       TypeError                494\n",
       "2                      Error                   1539\n",
       "                       TypeError                380\n",
       "3                      Error                   1698\n",
       "                       TypeError                482\n",
       "4                      Error                   1402\n",
       "                       TypeError                388\n",
       "5                      Error                   1374\n",
       "                       TypeError                358\n",
       "6                      Error                   1017\n",
       "                       TypeError                267\n",
       "7                      Error                    989\n",
       "                       TypeError                259\n",
       "8                      Error                   1146\n",
       "                       TypeError                318\n",
       "9                      Error                   1204\n",
       "                       TypeError                322\n",
       "10                     Error                   1357\n",
       "                       TypeError                372\n",
       "11                     Error                   1157\n",
       "                       TypeError                318\n",
       "12                     Error                   2287\n",
       "                       TypeError                644\n",
       "13                     Error                   1931\n",
       "                       TypeError                536\n",
       "14                     Error                   2009\n",
       "                       TypeError                552\n",
       "15                     Error                   2071\n",
       "                       TypeError                576\n",
       "16                     Error                   2080\n",
       "                       TypeError                588\n",
       "17                     Error                   2039\n",
       "                       TypeError                548\n",
       "18                     Error                   1898\n",
       "                       TypeError                536\n",
       "19                     Error                   2273\n",
       "                       TypeError                640\n",
       "20                     Error                   2189\n",
       "                       TypeError                616\n",
       "21                     Error                   2725\n",
       "                       TypeError                744\n",
       "22                     Error                   1575\n",
       "                       TypeError                450\n",
       "23                     Error                   1279\n",
       "                       TypeError                345"
      ]
     },
     "execution_count": 72,
     "metadata": {},
     "output_type": "execute_result"
    }
   ],
   "source": [
    "ltng_full_reports_group"
   ]
  },
  {
   "cell_type": "markdown",
   "id": "d09a3256",
   "metadata": {},
   "source": [
    "Reseting index"
   ]
  },
  {
   "cell_type": "code",
   "execution_count": 73,
   "id": "647333b4",
   "metadata": {},
   "outputs": [],
   "source": [
    "ltng_full_reports_group = ltng_full_reports_group.reset_index()"
   ]
  },
  {
   "cell_type": "markdown",
   "id": "43514481",
   "metadata": {},
   "source": [
    "Getting the data for the visualization"
   ]
  },
  {
   "cell_type": "code",
   "execution_count": 74,
   "id": "7321c4cf",
   "metadata": {},
   "outputs": [],
   "source": [
    "list_of_hour = ltng_full_reports_group['TIMESTAMP_DERIVED_HOUR'].tolist()\n",
    "list_of_ui_event_source = ltng_full_reports_group['UI_EVENT_SOURCE'].tolist()\n",
    "list_of_ui_event_id_count = ltng_full_reports_group['UI_EVENT_ID'].tolist()"
   ]
  },
  {
   "cell_type": "markdown",
   "id": "88c61fba",
   "metadata": {},
   "source": [
    "Getting the result dictionary format"
   ]
  },
  {
   "cell_type": "code",
   "execution_count": 75,
   "id": "326298c1",
   "metadata": {},
   "outputs": [],
   "source": [
    "result = {}"
   ]
  },
  {
   "cell_type": "code",
   "execution_count": 76,
   "id": "3c6ce3b7",
   "metadata": {},
   "outputs": [],
   "source": [
    "def dictionary_format(list_types_of_erros, list_elements): \n",
    "    result = {}\n",
    "    \n",
    "    for element in list_elements:\n",
    "        result[element] = []\n",
    "        for i in range(len(list_types_of_erros)):\n",
    "            result[element].append(0)\n",
    "    \n",
    "    return result"
   ]
  },
  {
   "cell_type": "code",
   "execution_count": 77,
   "id": "e68af89c",
   "metadata": {},
   "outputs": [],
   "source": [
    "result = dictionary_format(top_error_types_by_peak_time_values, top_hours_values)"
   ]
  },
  {
   "cell_type": "code",
   "execution_count": 78,
   "id": "2df5a8bb",
   "metadata": {},
   "outputs": [
    {
     "data": {
      "text/plain": [
       "{0: [0, 0], 12: [0, 0], 19: [0, 0], 20: [0, 0], 21: [0, 0]}"
      ]
     },
     "execution_count": 78,
     "metadata": {},
     "output_type": "execute_result"
    }
   ],
   "source": [
    "result"
   ]
  },
  {
   "cell_type": "markdown",
   "id": "c9288a16",
   "metadata": {},
   "source": [
    "Mapping the type of error to position"
   ]
  },
  {
   "cell_type": "code",
   "execution_count": 79,
   "id": "1deb4306",
   "metadata": {},
   "outputs": [],
   "source": [
    "map_types = {}"
   ]
  },
  {
   "cell_type": "code",
   "execution_count": 80,
   "id": "6cfa008f",
   "metadata": {},
   "outputs": [],
   "source": [
    "def mapping_type_to_position(list_types_of_erros):\n",
    "    for i in range(len(list_types_of_erros)):\n",
    "        map_types[list_types_of_erros[i]] = i"
   ]
  },
  {
   "cell_type": "code",
   "execution_count": 81,
   "id": "a69624bd",
   "metadata": {},
   "outputs": [],
   "source": [
    "mapping_type_to_position(top_error_types_by_peak_time_values)"
   ]
  },
  {
   "cell_type": "code",
   "execution_count": 82,
   "id": "a9345eb8",
   "metadata": {},
   "outputs": [
    {
     "data": {
      "text/plain": [
       "{'Error': 0, 'TypeError': 1}"
      ]
     },
     "execution_count": 82,
     "metadata": {},
     "output_type": "execute_result"
    }
   ],
   "source": [
    "map_types"
   ]
  },
  {
   "cell_type": "markdown",
   "id": "cdc8ae3d",
   "metadata": {},
   "source": [
    "Getting the amount of errors for each type and time"
   ]
  },
  {
   "cell_type": "code",
   "execution_count": 83,
   "id": "6df04dbd",
   "metadata": {},
   "outputs": [],
   "source": [
    "def get_amount(list_types, list_of_all_types, list_elements, list_of_all_elements):\n",
    "    for unique_type in list_types:\n",
    "        for i in range(len(list_of_all_types)):\n",
    "            if list_of_all_types[i] == unique_type:\n",
    "                if list_of_all_elements[i] in list_elements:\n",
    "                    result[list_of_all_elements[i]][map_types[unique_type]] += list_of_ui_event_id_count[i]"
   ]
  },
  {
   "cell_type": "code",
   "execution_count": 84,
   "id": "ad795478",
   "metadata": {},
   "outputs": [],
   "source": [
    "get_amount(top_error_types_by_peak_time_values, list_of_ui_event_source, top_hours_values, list_of_hour)"
   ]
  },
  {
   "cell_type": "code",
   "execution_count": 85,
   "id": "e578c3a1",
   "metadata": {},
   "outputs": [
    {
     "data": {
      "text/plain": [
       "{0: [2931, 806],\n",
       " 12: [2287, 644],\n",
       " 19: [2273, 640],\n",
       " 20: [2189, 616],\n",
       " 21: [2725, 744]}"
      ]
     },
     "execution_count": 85,
     "metadata": {},
     "output_type": "execute_result"
    }
   ],
   "source": [
    "result"
   ]
  },
  {
   "cell_type": "code",
   "execution_count": 86,
   "id": "bcb5115c",
   "metadata": {},
   "outputs": [
    {
     "name": "stdout",
     "output_type": "stream",
     "text": [
      "[2931, 2287, 2273, 2189, 2725] [806, 644, 640, 616, 744]\n"
     ]
    }
   ],
   "source": [
    "list_error = []\n",
    "list_type_error = [] \n",
    "\n",
    "for error_count in result.values():\n",
    "    list_error.append(error_count[0])\n",
    "    list_type_error.append(error_count[1])\n",
    "    \n",
    "print(list_error, list_type_error)"
   ]
  },
  {
   "cell_type": "markdown",
   "id": "a0b8be29",
   "metadata": {},
   "source": [
    "Viewing the data"
   ]
  },
  {
   "cell_type": "code",
   "execution_count": 87,
   "id": "7d24b2f9",
   "metadata": {},
   "outputs": [],
   "source": [
    "def survey(results, category_names):\n",
    "    labels = list(results.keys())\n",
    "    data = np.array(list(results.values()))\n",
    "    data_cum = data.cumsum(axis=1)\n",
    "    category_colors = plt.colormaps['RdYlGn'](\n",
    "        np.linspace(0.15, 0.85, data.shape[1]))\n",
    "\n",
    "    fig, ax = plt.subplots(figsize=(10, 6))\n",
    "    ax.invert_yaxis()\n",
    "    ax.xaxis.set_visible(False)\n",
    "    ax.set_xlim(0, np.sum(data, axis=1).max())\n",
    "\n",
    "    for i, (colname, color) in enumerate(zip(category_names, category_colors)):\n",
    "        widths = data[:, i]\n",
    "        starts = data_cum[:, i] - widths\n",
    "        rects = ax.barh(labels, widths, left=starts, height=0.5,\n",
    "                        label=colname, color=color)\n",
    "\n",
    "        r, g, b, _ = color\n",
    "        text_color = 'white' if r * g * b < 0.5 else 'darkgrey'\n",
    "        ax.bar_label(rects, label_type='center', color=text_color)\n",
    "    ax.legend(ncol=len(category_names), bbox_to_anchor=(0, 1),\n",
    "              loc='lower left', fontsize='small')\n",
    "\n",
    "    return fig, ax"
   ]
  },
  {
   "cell_type": "code",
   "execution_count": 88,
   "id": "c22b621d",
   "metadata": {},
   "outputs": [
    {
     "data": {
      "text/plain": [
       "Text(0, 0.5, 'Count of errors')"
      ]
     },
     "execution_count": 88,
     "metadata": {},
     "output_type": "execute_result"
    },
    {
     "data": {
      "image/png": "[encoded data removed]",
      "text/plain": [
       "<Figure size 720x432 with 1 Axes>"
      ]
     },
     "metadata": {
      "needs_background": "light"
     },
     "output_type": "display_data"
    }
   ],
   "source": [
    "#survey(result, top_error_types_by_peak_time_values)\n",
    "# plt.ylabel(\"Hour\")\n",
    "# plt.show()\n",
    "\n",
    "df = pd.DataFrame({'Hour': top_hours_values, 'Error': list_error, 'TypeError': list_type_error})\n",
    "# ax = df.plot(x=\"Hour\", y=\"Error\", kind=\"bar\")\n",
    "# df.plot(x=\"Hour\", y=\"TypeError\", kind=\"bar\", ax=ax, color=\"maroon\", figsize=(10, 6))\n",
    "ax = df.plot(x=\"Hour\", y=[\"Error\", \"TypeError\"], kind=\"bar\", figsize=(10, 6), title='Count of types of errors by peak time')\n",
    "ax.set_ylabel(\"Count of errors\")"
   ]
  },
  {
   "cell_type": "markdown",
   "id": "1be9095a",
   "metadata": {},
   "source": [
    "---"
   ]
  },
  {
   "cell_type": "markdown",
   "id": "ca13e9ee",
   "metadata": {},
   "source": [
    "## Analyzing types of errors by day"
   ]
  },
  {
   "cell_type": "markdown",
   "id": "07cdb51f",
   "metadata": {},
   "source": [
    "Getting the intervals"
   ]
  },
  {
   "cell_type": "code",
   "execution_count": 89,
   "id": "991169bf",
   "metadata": {},
   "outputs": [],
   "source": [
    "list_of_unique_hour = ltng_full_reports_group['TIMESTAMP_DERIVED_HOUR'].unique()"
   ]
  },
  {
   "cell_type": "code",
   "execution_count": 90,
   "id": "356d3165",
   "metadata": {},
   "outputs": [],
   "source": [
    "number_of_intervals = 6"
   ]
  },
  {
   "cell_type": "code",
   "execution_count": 91,
   "id": "bee1e41e",
   "metadata": {},
   "outputs": [],
   "source": [
    "intervals = []\n",
    "\n",
    "initial = 0\n",
    "for i in range(number_of_intervals):\n",
    "    final = initial + (len(list_of_unique_hour)//number_of_intervals - 1)\n",
    "    intervals.append(f\"{initial}-{final}\")\n",
    "    initial = final + 1"
   ]
  },
  {
   "cell_type": "code",
   "execution_count": 92,
   "id": "b1ec926b",
   "metadata": {},
   "outputs": [],
   "source": [
    "intervals_dict = {}\n",
    "\n",
    "for interval in intervals:\n",
    "    interval_values = interval.split(\"-\")\n",
    "    intervals_dict[interval] = [i for i in range(int(interval_values[0]), int(interval_values[1]) + 1)]"
   ]
  },
  {
   "cell_type": "markdown",
   "id": "4104ed89",
   "metadata": {},
   "source": [
    "Getting the result dictionary format"
   ]
  },
  {
   "cell_type": "code",
   "execution_count": 93,
   "id": "79c160b4",
   "metadata": {},
   "outputs": [],
   "source": [
    "result = dictionary_format(top_error_types_by_day_values, intervals)"
   ]
  },
  {
   "cell_type": "code",
   "execution_count": 94,
   "id": "d26618d2",
   "metadata": {},
   "outputs": [
    {
     "data": {
      "text/plain": [
       "{'0-3': [0, 0],\n",
       " '4-7': [0, 0],\n",
       " '8-11': [0, 0],\n",
       " '12-15': [0, 0],\n",
       " '16-19': [0, 0],\n",
       " '20-23': [0, 0]}"
      ]
     },
     "execution_count": 94,
     "metadata": {},
     "output_type": "execute_result"
    }
   ],
   "source": [
    "result"
   ]
  },
  {
   "cell_type": "markdown",
   "id": "0193bbc2",
   "metadata": {},
   "source": [
    "Mapping the type of error to position"
   ]
  },
  {
   "cell_type": "code",
   "execution_count": 95,
   "id": "0199c8e5",
   "metadata": {},
   "outputs": [],
   "source": [
    "mapping_type_to_position(top_error_types_by_day_values)"
   ]
  },
  {
   "cell_type": "code",
   "execution_count": 96,
   "id": "05488f8d",
   "metadata": {},
   "outputs": [
    {
     "data": {
      "text/plain": [
       "{'Error': 0, 'TypeError': 1}"
      ]
     },
     "execution_count": 96,
     "metadata": {},
     "output_type": "execute_result"
    }
   ],
   "source": [
    "map_types"
   ]
  },
  {
   "cell_type": "markdown",
   "id": "cfe4dea2",
   "metadata": {},
   "source": [
    "Getting the amount of errors for each type and time"
   ]
  },
  {
   "cell_type": "code",
   "execution_count": 97,
   "id": "cbc13ef7",
   "metadata": {},
   "outputs": [],
   "source": [
    "def get_amount_intervals(list_types, list_of_all_types, intervals, intervals_dict):\n",
    "    for unique_type in list_types:\n",
    "        for i in range(len(list_of_all_types)):\n",
    "            if list_of_all_types[i] == unique_type:\n",
    "                for interval in intervals:\n",
    "                    if list_of_hour[i] in intervals_dict[interval]:\n",
    "                        result[interval][map_types[unique_type]] += list_of_ui_event_id_count[i]"
   ]
  },
  {
   "cell_type": "code",
   "execution_count": 98,
   "id": "54bb8b30",
   "metadata": {},
   "outputs": [],
   "source": [
    "get_amount_intervals(top_error_types_by_day_values, list_of_ui_event_source, intervals, intervals_dict)"
   ]
  },
  {
   "cell_type": "code",
   "execution_count": 99,
   "id": "5f512df5",
   "metadata": {},
   "outputs": [
    {
     "data": {
      "text/plain": [
       "{'0-3': [8062, 2162],\n",
       " '4-7': [4782, 1272],\n",
       " '8-11': [4864, 1330],\n",
       " '12-15': [8298, 2308],\n",
       " '16-19': [8290, 2312],\n",
       " '20-23': [7768, 2155]}"
      ]
     },
     "execution_count": 99,
     "metadata": {},
     "output_type": "execute_result"
    }
   ],
   "source": [
    "result"
   ]
  },
  {
   "cell_type": "markdown",
   "id": "21135c8a",
   "metadata": {},
   "source": [
    "Viewing the data"
   ]
  },
  {
   "cell_type": "code",
   "execution_count": 100,
   "id": "144feb81",
   "metadata": {
    "scrolled": false
   },
   "outputs": [
    {
     "data": {
      "image/png": "[encoded data removed]",
      "text/plain": [
       "<Figure size 720x432 with 1 Axes>"
      ]
     },
     "metadata": {
      "needs_background": "light"
     },
     "output_type": "display_data"
    }
   ],
   "source": [
    "survey(result, top_error_types_by_day_values)\n",
    "plt.title(\"Count of types of errors by day\")\n",
    "plt.ylabel(\"Time Interval\")\n",
    "plt.show()"
   ]
  },
  {
   "cell_type": "markdown",
   "id": "f9dc77cb",
   "metadata": {},
   "source": [
    "---"
   ]
  }
 ],
 "metadata": {
  "kernelspec": {
   "display_name": "Python 3 (ipykernel)",
   "language": "python",
   "name": "python3"
  },
  "language_info": {
   "codemirror_mode": {
    "name": "ipython",
    "version": 3
   },
   "file_extension": ".py",
   "mimetype": "text/x-python",
   "name": "python",
   "nbconvert_exporter": "python",
   "pygments_lexer": "ipython3",
   "version": "3.9.12"
  }
 },
 "nbformat": 4,
 "nbformat_minor": 5
}
