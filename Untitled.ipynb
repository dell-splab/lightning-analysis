{
 "cells": [
  {
   "cell_type": "markdown",
   "id": "2b8852ca",
   "metadata": {},
   "source": [
    "# In which browsers are these reports running?\n",
    "---\n",
    ">[ ] Analysis of `BROWSER_NAME` field, also check `BROWSER_VERSION`\n"
   ]
  },
  {
   "cell_type": "code",
   "execution_count": 1,
   "id": "09c66c04",
   "metadata": {},
   "outputs": [],
   "source": [
    "import pandas as pd"
   ]
  },
  {
   "cell_type": "markdown",
   "id": "00299fcc",
   "metadata": {},
   "source": [
    "## Loading active reports and lightining page view"
   ]
  },
  {
   "cell_type": "markdown",
   "id": "9b762518",
   "metadata": {},
   "source": [
    "Active reports"
   ]
  },
  {
   "cell_type": "code",
   "execution_count": 2,
   "id": "0be10850",
   "metadata": {},
   "outputs": [],
   "source": [
    "active_reports = pd.read_csv('datasets/active_reports.csv', low_memory=False)"
   ]
  },
  {
   "cell_type": "code",
   "execution_count": 3,
   "id": "acaedaba",
   "metadata": {},
   "outputs": [
    {
     "data": {
      "text/plain": [
       "['CreatedById',\n",
       " 'CreatedDate',\n",
       " 'Description',\n",
       " 'DeveloperName',\n",
       " 'FolderName',\n",
       " 'Format',\n",
       " 'Id',\n",
       " 'IsDeleted',\n",
       " 'LastModifiedById',\n",
       " 'LastModifiedDate',\n",
       " 'LastReferencedDate',\n",
       " 'LastRunDate',\n",
       " 'LastViewedDate',\n",
       " 'Name',\n",
       " 'NamespacePrefix',\n",
       " 'OwnerId',\n",
       " 'ReportTypeApiName',\n",
       " 'SystemModstamp',\n",
       " 'EVENT_TYPE',\n",
       " 'TIMESTAMP',\n",
       " 'REQUEST_ID',\n",
       " 'ORGANIZATION_ID',\n",
       " 'USER_ID',\n",
       " 'RUN_TIME',\n",
       " 'CPU_TIME',\n",
       " 'URI',\n",
       " 'SESSION_KEY',\n",
       " 'LOGIN_KEY',\n",
       " 'USER_TYPE',\n",
       " 'REQUEST_STATUS',\n",
       " 'DB_TOTAL_TIME',\n",
       " 'ENTITY_NAME',\n",
       " 'DISPLAY_TYPE',\n",
       " 'RENDERING_TYPE',\n",
       " 'REPORT_ID',\n",
       " 'ROW_COUNT',\n",
       " 'NUMBER_EXCEPTION_FILTERS',\n",
       " 'NUMBER_COLUMNS',\n",
       " 'AVERAGE_ROW_SIZE',\n",
       " 'SORT',\n",
       " 'DB_BLOCKS',\n",
       " 'DB_CPU_TIME',\n",
       " 'NUMBER_BUCKETS',\n",
       " 'TIMESTAMP_DERIVED',\n",
       " 'USER_ID_DERIVED',\n",
       " 'CLIENT_IP',\n",
       " 'URI_ID_DERIVED',\n",
       " 'REPORT_ID_DERIVED',\n",
       " 'ORIGIN',\n",
       " 'IsActive']"
      ]
     },
     "execution_count": 3,
     "metadata": {},
     "output_type": "execute_result"
    }
   ],
   "source": [
    "list(active_reports.columns)"
   ]
  },
  {
   "cell_type": "code",
   "execution_count": 4,
   "id": "b62058d3",
   "metadata": {},
   "outputs": [],
   "source": [
    "active_reports = active_reports.drop(columns=['CreatedById',\n",
    " 'CreatedDate',\n",
    " 'Description',\n",
    " 'DeveloperName',\n",
    " 'FolderName',\n",
    " 'Format',\n",
    " 'Id',\n",
    " 'IsDeleted',\n",
    " 'LastModifiedById',\n",
    " 'LastModifiedDate',\n",
    " 'LastReferencedDate',\n",
    " 'LastRunDate',\n",
    " 'LastViewedDate',\n",
    " 'NamespacePrefix',\n",
    " 'OwnerId',\n",
    " 'ReportTypeApiName',\n",
    " 'SystemModstamp',\n",
    " 'EVENT_TYPE',\n",
    " 'TIMESTAMP',\n",
    " 'REQUEST_ID',\n",
    " 'ORGANIZATION_ID',\n",
    " 'USER_ID',\n",
    " 'RUN_TIME',\n",
    " 'CPU_TIME',\n",
    " 'URI',\n",
    " 'SESSION_KEY',\n",
    " 'LOGIN_KEY',\n",
    " 'USER_TYPE',\n",
    " 'REQUEST_STATUS',\n",
    " 'DB_TOTAL_TIME',\n",
    " 'ENTITY_NAME',\n",
    " 'DISPLAY_TYPE',\n",
    " 'RENDERING_TYPE',\n",
    " 'REPORT_ID',\n",
    " 'NUMBER_EXCEPTION_FILTERS',\n",
    " 'NUMBER_COLUMNS',\n",
    " 'AVERAGE_ROW_SIZE',\n",
    " 'SORT',\n",
    " 'DB_BLOCKS',\n",
    " 'DB_CPU_TIME',\n",
    " 'NUMBER_BUCKETS',\n",
    " 'TIMESTAMP_DERIVED',\n",
    " 'USER_ID_DERIVED',\n",
    " 'CLIENT_IP',\n",
    " 'IsActive',\n",
    "'URI_ID_DERIVED','ROW_COUNT'])"
   ]
  },
  {
   "cell_type": "markdown",
   "id": "63347782",
   "metadata": {},
   "source": [
    "Lightining Page View"
   ]
  },
  {
   "cell_type": "code",
   "execution_count": 5,
   "id": "e1bb7b4d",
   "metadata": {},
   "outputs": [],
   "source": [
    "lgtn_page_view = pd.read_csv('../data/Salesforce/ELF/LightningPageView/2022-06-04_LightningPageView.csv', low_memory=False)"
   ]
  },
  {
   "cell_type": "code",
   "execution_count": 6,
   "id": "b3a51d48",
   "metadata": {},
   "outputs": [],
   "source": [
    "lgtn_page_view = lgtn_page_view.drop(columns=['EVENT_TYPE',\n",
    " 'TIMESTAMP',\n",
    " 'REQUEST_ID',\n",
    " 'ORGANIZATION_ID',\n",
    " 'USER_ID',\n",
    " 'CLIENT_ID',\n",
    " 'SESSION_KEY',\n",
    " 'LOGIN_KEY',\n",
    " 'USER_TYPE',\n",
    " 'APP_NAME',\n",
    " 'DEVICE_PLATFORM',\n",
    " 'SDK_APP_VERSION',\n",
    " 'OS_NAME',\n",
    " 'OS_VERSION',\n",
    " 'USER_AGENT',\n",
    " 'SDK_VERSION',\n",
    " 'DEVICE_MODEL',\n",
    " 'DEVICE_ID',\n",
    " 'SDK_APP_TYPE',\n",
    " 'CLIENT_GEO',\n",
    " 'CONNECTION_TYPE',\n",
    " 'UI_EVENT_ID',\n",
    " 'UI_EVENT_SOURCE',\n",
    " 'UI_EVENT_TIMESTAMP',\n",
    " 'PAGE_START_TIME',\n",
    " 'DURATION',\n",
    " 'EFFECTIVE_PAGE_TIME_DEVIATION',\n",
    " 'EFFECTIVE_PAGE_TIME_DEVIATION_REASON',\n",
    " 'EFFECTIVE_PAGE_TIME_DEVIATION_ERROR_TYPE',\n",
    " 'EFFECTIVE_PAGE_TIME',\n",
    " 'DEVICE_SESSION_ID',\n",
    " 'UI_EVENT_SEQUENCE_NUM',\n",
    " 'PAGE_ENTITY_ID',\n",
    " 'PAGE_ENTITY_TYPE',\n",
    " 'PAGE_APP_NAME',\n",
    " 'PREVPAGE_ENTITY_ID',\n",
    " 'PREVPAGE_ENTITY_TYPE',\n",
    " 'PREVPAGE_APP_NAME',\n",
    " 'TARGET_UI_ELEMENT',\n",
    " 'PARENT_UI_ELEMENT',\n",
    " 'GRANDPARENT_UI_ELEMENT',\n",
    " 'TIMESTAMP_DERIVED',\n",
    " 'USER_ID_DERIVED',\n",
    " 'CLIENT_IP','PREVPAGE_CONTEXT','PREVPAGE_URL'])"
   ]
  },
  {
   "cell_type": "markdown",
   "id": "1d56ce74",
   "metadata": {},
   "source": [
    "### Let's relate the reports with page view as follows:\n",
    ">- We look for the `PAGE_URL` column that is directly related to reports\n",
    ">- We cleared the data from that column to extract the `REPORT_ID_DERIVED`\n",
    ">- We relate active Reports with Page view\n",
    "---"
   ]
  },
  {
   "cell_type": "markdown",
   "id": "a0d78f74",
   "metadata": {},
   "source": [
    "Function to extract the `REPORT_ID_DERIVED`"
   ]
  },
  {
   "cell_type": "code",
   "execution_count": 7,
   "id": "b42ae524",
   "metadata": {},
   "outputs": [],
   "source": [
    "run_report_api_resource = \"/lightning/r/\"\n",
    "\n",
    "def get_report_info_from_endpoint(page_url):\n",
    "    if page_url.startswith(run_report_api_resource):\n",
    "        uri = page_url.split(run_report_api_resource)\n",
    "        if len(uri) >= 2:\n",
    "            report_type, report_id_derived = uri[1].split(\"/\")[:2]\n",
    "            return report_type, report_id_derived\n",
    "\n"
   ]
  },
  {
   "cell_type": "code",
   "execution_count": 8,
   "id": "6c2900b2",
   "metadata": {},
   "outputs": [],
   "source": [
    "lgtn_page_view.dropna(subset='PAGE_URL', inplace=True)"
   ]
  },
  {
   "cell_type": "code",
   "execution_count": 9,
   "id": "fa9b82ef",
   "metadata": {},
   "outputs": [],
   "source": [
    "lgtn_page_view['REPORT_INFO_DERIVED'] = lgtn_page_view.PAGE_URL.apply(get_report_info_from_endpoint)"
   ]
  },
  {
   "cell_type": "code",
   "execution_count": 10,
   "id": "8611bb85",
   "metadata": {},
   "outputs": [],
   "source": [
    "lgtn_page_view.dropna(subset=['REPORT_INFO_DERIVED'], inplace=True)"
   ]
  },
  {
   "cell_type": "code",
   "execution_count": 11,
   "id": "3663548b",
   "metadata": {},
   "outputs": [],
   "source": [
    "lgtn_page_view['REPORT_TYPE_DERIVED'] = lgtn_page_view.REPORT_INFO_DERIVED.str[0]\n",
    "lgtn_page_view['REPORT_ID_DERIVED'] = lgtn_page_view.REPORT_INFO_DERIVED.str[1]"
   ]
  },
  {
   "cell_type": "code",
   "execution_count": 12,
   "id": "991b20dd",
   "metadata": {},
   "outputs": [
    {
     "data": {
      "text/plain": [
       "(Report, 00O0b000004kTazEAE)          5561\n",
       "(Report, 00O0b000006iNwdEAE)          5502\n",
       "(Report, 00O2R000004AmwmUAC)           935\n",
       "(Report, 00O0b000005yLBGEA2)           860\n",
       "(Report, 00O2R000003JCXaUAO)           779\n",
       "                                      ... \n",
       "(WorkOrder, 0WO6P00000268UbWAI)          1\n",
       "(Task, 00T6P00000I98X0UAJ)               1\n",
       "(EmailMessage, 02s6P000009Yhw9QAC)       1\n",
       "(Contact, 0036P000003s5GoQAI)            1\n",
       "(Case, 5006P000005WVwMQAW)               1\n",
       "Name: REPORT_INFO_DERIVED, Length: 129887, dtype: int64"
      ]
     },
     "execution_count": 12,
     "metadata": {},
     "output_type": "execute_result"
    }
   ],
   "source": [
    "lgtn_page_view.REPORT_INFO_DERIVED.value_counts()"
   ]
  },
  {
   "cell_type": "code",
   "execution_count": 13,
   "id": "1bbb623a",
   "metadata": {},
   "outputs": [
    {
     "data": {
      "text/html": [
       "<div>\n",
       "<style scoped>\n",
       "    .dataframe tbody tr th:only-of-type {\n",
       "        vertical-align: middle;\n",
       "    }\n",
       "\n",
       "    .dataframe tbody tr th {\n",
       "        vertical-align: top;\n",
       "    }\n",
       "\n",
       "    .dataframe thead th {\n",
       "        text-align: right;\n",
       "    }\n",
       "</style>\n",
       "<table border=\"1\" class=\"dataframe\">\n",
       "  <thead>\n",
       "    <tr style=\"text-align: right;\">\n",
       "      <th></th>\n",
       "      <th>BROWSER_NAME</th>\n",
       "      <th>BROWSER_VERSION</th>\n",
       "      <th>PAGE_CONTEXT</th>\n",
       "      <th>PAGE_URL</th>\n",
       "      <th>REPORT_TYPE_DERIVED</th>\n",
       "      <th>REPORT_ID_DERIVED</th>\n",
       "    </tr>\n",
       "  </thead>\n",
       "  <tbody>\n",
       "    <tr>\n",
       "      <th>18</th>\n",
       "      <td>CHROME</td>\n",
       "      <td>102.0</td>\n",
       "      <td>force:relatedListDesktop</td>\n",
       "      <td>/lightning/r/a2U2R000002QEcEUAW/related/Attach...</td>\n",
       "      <td>a2U2R000002QEcEUAW</td>\n",
       "      <td>related</td>\n",
       "    </tr>\n",
       "    <tr>\n",
       "      <th>19</th>\n",
       "      <td>CHROME</td>\n",
       "      <td>101.0</td>\n",
       "      <td>one:recordHomeFlexipage2Wrapper</td>\n",
       "      <td>/lightning/r/Call_Transcript__c/a7Z6P0000072CX...</td>\n",
       "      <td>Call_Transcript__c</td>\n",
       "      <td>a7Z6P0000072CXbUAM</td>\n",
       "    </tr>\n",
       "    <tr>\n",
       "      <th>20</th>\n",
       "      <td>CHROME</td>\n",
       "      <td>101.0</td>\n",
       "      <td>one:recordHomeFlexipage2Wrapper</td>\n",
       "      <td>/lightning/r/Call_Transcript__c/a7Z6P000007ILQ...</td>\n",
       "      <td>Call_Transcript__c</td>\n",
       "      <td>a7Z6P000007ILQ5UAO</td>\n",
       "    </tr>\n",
       "    <tr>\n",
       "      <th>21</th>\n",
       "      <td>CHROME</td>\n",
       "      <td>101.0</td>\n",
       "      <td>one:recordHomeFlexipage2Wrapper</td>\n",
       "      <td>/lightning/r/Call_Transcript__c/a7Z6P000006ov4...</td>\n",
       "      <td>Call_Transcript__c</td>\n",
       "      <td>a7Z6P000006ov4sUAA</td>\n",
       "    </tr>\n",
       "    <tr>\n",
       "      <th>23</th>\n",
       "      <td>CHROME</td>\n",
       "      <td>102.0</td>\n",
       "      <td>one:recordHomeFlexipage2Wrapper</td>\n",
       "      <td>/lightning/r/Call_Transcript__c/a7Z6P000007bMQ...</td>\n",
       "      <td>Call_Transcript__c</td>\n",
       "      <td>a7Z6P000007bMQ3UAM</td>\n",
       "    </tr>\n",
       "    <tr>\n",
       "      <th>...</th>\n",
       "      <td>...</td>\n",
       "      <td>...</td>\n",
       "      <td>...</td>\n",
       "      <td>...</td>\n",
       "      <td>...</td>\n",
       "      <td>...</td>\n",
       "    </tr>\n",
       "    <tr>\n",
       "      <th>792343</th>\n",
       "      <td>CHROME</td>\n",
       "      <td>100.0</td>\n",
       "      <td>one:recordHomeFlexipage2Wrapper</td>\n",
       "      <td>/lightning/r/Case/5006P000004rfQ0QAI/view</td>\n",
       "      <td>Case</td>\n",
       "      <td>5006P000004rfQ0QAI</td>\n",
       "    </tr>\n",
       "    <tr>\n",
       "      <th>792345</th>\n",
       "      <td>CHROME</td>\n",
       "      <td>101.0</td>\n",
       "      <td>one:recordHomeFlexipage2Wrapper</td>\n",
       "      <td>/lightning/r/Case/5006P0000055POPQA2/view</td>\n",
       "      <td>Case</td>\n",
       "      <td>5006P0000055POPQA2</td>\n",
       "    </tr>\n",
       "    <tr>\n",
       "      <th>792346</th>\n",
       "      <td>CHROME</td>\n",
       "      <td>99.0</td>\n",
       "      <td>one:recordHomeFlexipage2Wrapper</td>\n",
       "      <td>/lightning/r/Case/5006P000005Ptu6QAC/view?ws=%...</td>\n",
       "      <td>Case</td>\n",
       "      <td>5006P000005Ptu6QAC</td>\n",
       "    </tr>\n",
       "    <tr>\n",
       "      <th>792347</th>\n",
       "      <td>CHROME</td>\n",
       "      <td>102.0</td>\n",
       "      <td>one:recordHomeFlexipage2Wrapper</td>\n",
       "      <td>/lightning/r/Call_Transcript__c/a7Z6P000007IMy...</td>\n",
       "      <td>Call_Transcript__c</td>\n",
       "      <td>a7Z6P000007IMyMUAW</td>\n",
       "    </tr>\n",
       "    <tr>\n",
       "      <th>792348</th>\n",
       "      <td>CHROME</td>\n",
       "      <td>102.0</td>\n",
       "      <td>one:recordHomeFlexipage2Wrapper</td>\n",
       "      <td>/lightning/r/Case/5006P000005WVwMQAW/view</td>\n",
       "      <td>Case</td>\n",
       "      <td>5006P000005WVwMQAW</td>\n",
       "    </tr>\n",
       "  </tbody>\n",
       "</table>\n",
       "<p>542852 rows × 6 columns</p>\n",
       "</div>"
      ],
      "text/plain": [
       "       BROWSER_NAME  BROWSER_VERSION                     PAGE_CONTEXT  \\\n",
       "18           CHROME            102.0         force:relatedListDesktop   \n",
       "19           CHROME            101.0  one:recordHomeFlexipage2Wrapper   \n",
       "20           CHROME            101.0  one:recordHomeFlexipage2Wrapper   \n",
       "21           CHROME            101.0  one:recordHomeFlexipage2Wrapper   \n",
       "23           CHROME            102.0  one:recordHomeFlexipage2Wrapper   \n",
       "...             ...              ...                              ...   \n",
       "792343       CHROME            100.0  one:recordHomeFlexipage2Wrapper   \n",
       "792345       CHROME            101.0  one:recordHomeFlexipage2Wrapper   \n",
       "792346       CHROME             99.0  one:recordHomeFlexipage2Wrapper   \n",
       "792347       CHROME            102.0  one:recordHomeFlexipage2Wrapper   \n",
       "792348       CHROME            102.0  one:recordHomeFlexipage2Wrapper   \n",
       "\n",
       "                                                 PAGE_URL REPORT_TYPE_DERIVED  \\\n",
       "18      /lightning/r/a2U2R000002QEcEUAW/related/Attach...  a2U2R000002QEcEUAW   \n",
       "19      /lightning/r/Call_Transcript__c/a7Z6P0000072CX...  Call_Transcript__c   \n",
       "20      /lightning/r/Call_Transcript__c/a7Z6P000007ILQ...  Call_Transcript__c   \n",
       "21      /lightning/r/Call_Transcript__c/a7Z6P000006ov4...  Call_Transcript__c   \n",
       "23      /lightning/r/Call_Transcript__c/a7Z6P000007bMQ...  Call_Transcript__c   \n",
       "...                                                   ...                 ...   \n",
       "792343          /lightning/r/Case/5006P000004rfQ0QAI/view                Case   \n",
       "792345          /lightning/r/Case/5006P0000055POPQA2/view                Case   \n",
       "792346  /lightning/r/Case/5006P000005Ptu6QAC/view?ws=%...                Case   \n",
       "792347  /lightning/r/Call_Transcript__c/a7Z6P000007IMy...  Call_Transcript__c   \n",
       "792348          /lightning/r/Case/5006P000005WVwMQAW/view                Case   \n",
       "\n",
       "         REPORT_ID_DERIVED  \n",
       "18                 related  \n",
       "19      a7Z6P0000072CXbUAM  \n",
       "20      a7Z6P000007ILQ5UAO  \n",
       "21      a7Z6P000006ov4sUAA  \n",
       "23      a7Z6P000007bMQ3UAM  \n",
       "...                    ...  \n",
       "792343  5006P000004rfQ0QAI  \n",
       "792345  5006P0000055POPQA2  \n",
       "792346  5006P000005Ptu6QAC  \n",
       "792347  a7Z6P000007IMyMUAW  \n",
       "792348  5006P000005WVwMQAW  \n",
       "\n",
       "[542852 rows x 6 columns]"
      ]
     },
     "execution_count": 13,
     "metadata": {},
     "output_type": "execute_result"
    }
   ],
   "source": [
    "lgtn_page_view.drop(columns='REPORT_INFO_DERIVED')"
   ]
  },
  {
   "cell_type": "markdown",
   "id": "cd78c71c",
   "metadata": {},
   "source": [
    "Now let's merge tables"
   ]
  },
  {
   "cell_type": "code",
   "execution_count": 15,
   "id": "3ff7f506",
   "metadata": {},
   "outputs": [],
   "source": [
    "reports_page_view = pd.merge(\n",
    "left=active_reports,\n",
    "right=lgtn_page_view.sample(10000),\n",
    "on='REPORT_ID_DERIVED')"
   ]
  },
  {
   "cell_type": "markdown",
   "id": "ee2c912e",
   "metadata": {},
   "source": [
    "Let's make a data frame with just the columns that involve the browsers"
   ]
  },
  {
   "cell_type": "code",
   "execution_count": 17,
   "id": "5dc298c2",
   "metadata": {},
   "outputs": [],
   "source": [
    "reports_browsers = reports_page_view[['BROWSER_NAME','BROWSER_VERSION']]"
   ]
  },
  {
   "cell_type": "code",
   "execution_count": 18,
   "id": "b5fd8d80",
   "metadata": {},
   "outputs": [
    {
     "data": {
      "text/html": [
       "<div>\n",
       "<style scoped>\n",
       "    .dataframe tbody tr th:only-of-type {\n",
       "        vertical-align: middle;\n",
       "    }\n",
       "\n",
       "    .dataframe tbody tr th {\n",
       "        vertical-align: top;\n",
       "    }\n",
       "\n",
       "    .dataframe thead th {\n",
       "        text-align: right;\n",
       "    }\n",
       "</style>\n",
       "<table border=\"1\" class=\"dataframe\">\n",
       "  <thead>\n",
       "    <tr style=\"text-align: right;\">\n",
       "      <th></th>\n",
       "      <th>BROWSER_NAME</th>\n",
       "      <th>BROWSER_VERSION</th>\n",
       "    </tr>\n",
       "  </thead>\n",
       "  <tbody>\n",
       "    <tr>\n",
       "      <th>0</th>\n",
       "      <td>CHROME</td>\n",
       "      <td>102.0</td>\n",
       "    </tr>\n",
       "    <tr>\n",
       "      <th>1</th>\n",
       "      <td>CHROME</td>\n",
       "      <td>102.0</td>\n",
       "    </tr>\n",
       "    <tr>\n",
       "      <th>2</th>\n",
       "      <td>CHROME</td>\n",
       "      <td>101.0</td>\n",
       "    </tr>\n",
       "    <tr>\n",
       "      <th>3</th>\n",
       "      <td>CHROME</td>\n",
       "      <td>102.0</td>\n",
       "    </tr>\n",
       "    <tr>\n",
       "      <th>4</th>\n",
       "      <td>CHROME</td>\n",
       "      <td>102.0</td>\n",
       "    </tr>\n",
       "    <tr>\n",
       "      <th>...</th>\n",
       "      <td>...</td>\n",
       "      <td>...</td>\n",
       "    </tr>\n",
       "    <tr>\n",
       "      <th>687587</th>\n",
       "      <td>CHROME</td>\n",
       "      <td>102.0</td>\n",
       "    </tr>\n",
       "    <tr>\n",
       "      <th>687588</th>\n",
       "      <td>CHROME</td>\n",
       "      <td>102.0</td>\n",
       "    </tr>\n",
       "    <tr>\n",
       "      <th>687589</th>\n",
       "      <td>CHROME</td>\n",
       "      <td>102.0</td>\n",
       "    </tr>\n",
       "    <tr>\n",
       "      <th>687590</th>\n",
       "      <td>CHROME</td>\n",
       "      <td>102.0</td>\n",
       "    </tr>\n",
       "    <tr>\n",
       "      <th>687591</th>\n",
       "      <td>CHROME</td>\n",
       "      <td>102.0</td>\n",
       "    </tr>\n",
       "  </tbody>\n",
       "</table>\n",
       "<p>687592 rows × 2 columns</p>\n",
       "</div>"
      ],
      "text/plain": [
       "       BROWSER_NAME  BROWSER_VERSION\n",
       "0            CHROME            102.0\n",
       "1            CHROME            102.0\n",
       "2            CHROME            101.0\n",
       "3            CHROME            102.0\n",
       "4            CHROME            102.0\n",
       "...             ...              ...\n",
       "687587       CHROME            102.0\n",
       "687588       CHROME            102.0\n",
       "687589       CHROME            102.0\n",
       "687590       CHROME            102.0\n",
       "687591       CHROME            102.0\n",
       "\n",
       "[687592 rows x 2 columns]"
      ]
     },
     "execution_count": 18,
     "metadata": {},
     "output_type": "execute_result"
    }
   ],
   "source": [
    "reports_browsers"
   ]
  },
  {
   "cell_type": "markdown",
   "id": "6ae18e81",
   "metadata": {},
   "source": [
    "#### Let's now create two views with these columns\n",
    "---"
   ]
  },
  {
   "cell_type": "markdown",
   "id": "c059d7f5",
   "metadata": {},
   "source": [
    "Plot for the most used browser"
   ]
  },
  {
   "cell_type": "code",
   "execution_count": 36,
   "id": "6676550b",
   "metadata": {},
   "outputs": [
    {
     "data": {
      "text/plain": [
       "array([<AxesSubplot:title={'center':'BROWSER_NAME'}>], dtype=object)"
      ]
     },
     "execution_count": 36,
     "metadata": {},
     "output_type": "execute_result"
    },
    {
     "data": {
      "image/png": "[encoded data removed]",
      "text/plain": [
       "<Figure size 648x648 with 1 Axes>"
      ]
     },
     "metadata": {
      "needs_background": "light"
     },
     "output_type": "display_data"
    }
   ],
   "source": [
    "reports_browsers.BROWSER_NAME.value_counts(ascending=True).plot(kind='bar',\n",
    "                                                               subplots=True,\n",
    "                                                               title=\"Most used browsers by Lightning\",\n",
    "                                                               figsize=(9,9))"
   ]
  },
  {
   "cell_type": "markdown",
   "id": "7c48995d",
   "metadata": {},
   "source": []
  },
  {
   "cell_type": "code",
   "execution_count": 41,
   "id": "13a812bd",
   "metadata": {},
   "outputs": [
    {
     "data": {
      "text/plain": [
       "array([<AxesSubplot:title={'center':'None'}, ylabel='BROWSER_NAME,BROWSER_VERSION'>],\n",
       "      dtype=object)"
      ]
     },
     "execution_count": 41,
     "metadata": {},
     "output_type": "execute_result"
    },
    {
     "data": {
      "image/png": "[encoded data removed]",
      "text/plain": [
       "<Figure size 576x576 with 1 Axes>"
      ]
     },
     "metadata": {
      "needs_background": "light"
     },
     "output_type": "display_data"
    }
   ],
   "source": [
    "reports_browsers.value_counts(ascending=True).plot(kind='barh', \n",
    "                                                   subplots=True,\n",
    "                                                   title=\"Access number of reports by browser\",\n",
    "                                                   figsize=(8,8))"
   ]
  },
  {
   "cell_type": "code",
   "execution_count": null,
   "id": "366bea0f",
   "metadata": {},
   "outputs": [],
   "source": []
  },
  {
   "cell_type": "code",
   "execution_count": null,
   "id": "671ecd06",
   "metadata": {},
   "outputs": [],
   "source": []
  },
  {
   "cell_type": "code",
   "execution_count": 19,
   "id": "303bf643",
   "metadata": {},
   "outputs": [],
   "source": [
    "import matplotlib.pyplot as plt"
   ]
  }
 ],
 "metadata": {
  "kernelspec": {
   "display_name": "Python 3 (ipykernel)",
   "language": "python",
   "name": "python3"
  },
  "language_info": {
   "codemirror_mode": {
    "name": "ipython",
    "version": 3
   },
   "file_extension": ".py",
   "mimetype": "text/x-python",
   "name": "python",
   "nbconvert_exporter": "python",
   "pygments_lexer": "ipython3",
   "version": "3.10.4"
  }
 },
 "nbformat": 4,
 "nbformat_minor": 5
}
