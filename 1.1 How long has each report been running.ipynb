{
 "cells": [
  {
   "cell_type": "markdown",
   "metadata": {},
   "source": [
    "# How long has each report been running?\n",
    "\n",
    "**We are still considering active reports!**\n"
   ]
  },
  {
   "cell_type": "code",
   "execution_count": 1,
   "metadata": {},
   "outputs": [],
   "source": [
    "import pandas as pd\n",
    "import datetime as dt"
   ]
  },
  {
   "cell_type": "markdown",
   "metadata": {},
   "source": [
    "Loading active reports data."
   ]
  },
  {
   "cell_type": "code",
   "execution_count": 2,
   "metadata": {},
   "outputs": [],
   "source": [
    "active_reports = pd.read_csv(\"datasets/active_reports.csv\")"
   ]
  },
  {
   "cell_type": "markdown",
   "metadata": {},
   "source": [
    "Building a function to calculate the period of days between the `LastRunDate` and the last change date (`LastModifiedDate`) for each report."
   ]
  },
  {
   "cell_type": "code",
   "execution_count": 3,
   "metadata": {},
   "outputs": [],
   "source": [
    "def calc_running_days_span(report):\n",
    "    timedelta = dt.datetime.fromisoformat(report.LastRunDate).date()\n",
    "    timedelta -= dt.datetime.fromisoformat(report.LastModifiedDate).date()\n",
    "    return timedelta.days + 1 # fix to get reports with LastModifiedDate == LastRunDate"
   ]
  },
  {
   "cell_type": "markdown",
   "metadata": {},
   "source": [
    "Adding a new column to store `RunningDaysSpan` information."
   ]
  },
  {
   "cell_type": "code",
   "execution_count": 4,
   "metadata": {},
   "outputs": [],
   "source": [
    "active_reports['RunningDaysSpan'] = active_reports.apply(lambda r: calc_running_days_span(r), axis=1)"
   ]
  },
  {
   "cell_type": "markdown",
   "metadata": {},
   "source": [
    "The following is a preview of the new dataframe we will be getting from this new info."
   ]
  },
  {
   "cell_type": "code",
   "execution_count": 5,
   "metadata": {},
   "outputs": [
    {
     "data": {
      "text/html": [
       "<div>\n",
       "<style scoped>\n",
       "    .dataframe tbody tr th:only-of-type {\n",
       "        vertical-align: middle;\n",
       "    }\n",
       "\n",
       "    .dataframe tbody tr th {\n",
       "        vertical-align: top;\n",
       "    }\n",
       "\n",
       "    .dataframe thead th {\n",
       "        text-align: right;\n",
       "    }\n",
       "</style>\n",
       "<table border=\"1\" class=\"dataframe\">\n",
       "  <thead>\n",
       "    <tr style=\"text-align: right;\">\n",
       "      <th></th>\n",
       "      <th>RunCount</th>\n",
       "      <th>RunningDaysSpan</th>\n",
       "    </tr>\n",
       "    <tr>\n",
       "      <th>REPORT_ID_DERIVED</th>\n",
       "      <th></th>\n",
       "      <th></th>\n",
       "    </tr>\n",
       "  </thead>\n",
       "  <tbody>\n",
       "    <tr>\n",
       "      <th>00O0b000004AnheEAC</th>\n",
       "      <td>152</td>\n",
       "      <td>4</td>\n",
       "    </tr>\n",
       "    <tr>\n",
       "      <th>00O0b000004kTazEAE</th>\n",
       "      <td>5617</td>\n",
       "      <td>22</td>\n",
       "    </tr>\n",
       "    <tr>\n",
       "      <th>00O0b000004kkZKEAY</th>\n",
       "      <td>305</td>\n",
       "      <td>4</td>\n",
       "    </tr>\n",
       "    <tr>\n",
       "      <th>00O2R000003JSoUUAW</th>\n",
       "      <td>344</td>\n",
       "      <td>26</td>\n",
       "    </tr>\n",
       "    <tr>\n",
       "      <th>00O2R000003JUDGUA4</th>\n",
       "      <td>22</td>\n",
       "      <td>8</td>\n",
       "    </tr>\n",
       "  </tbody>\n",
       "</table>\n",
       "</div>"
      ],
      "text/plain": [
       "                    RunCount  RunningDaysSpan\n",
       "REPORT_ID_DERIVED                            \n",
       "00O0b000004AnheEAC       152                4\n",
       "00O0b000004kTazEAE      5617               22\n",
       "00O0b000004kkZKEAY       305                4\n",
       "00O2R000003JSoUUAW       344               26\n",
       "00O2R000003JUDGUA4        22                8"
      ]
     },
     "execution_count": 5,
     "metadata": {},
     "output_type": "execute_result"
    }
   ],
   "source": [
    "active_reports[['REPORT_ID_DERIVED', 'LastRunDate', 'RunningDaysSpan']]\\\n",
    "    .groupby('REPORT_ID_DERIVED')\\\n",
    "    .agg({'LastRunDate': 'count', 'RunningDaysSpan': 'first'})\\\n",
    "    .rename(columns={'LastRunDate': 'RunCount'})\\\n",
    "    .head()"
   ]
  },
  {
   "cell_type": "markdown",
   "metadata": {},
   "source": [
    "From this we can evaluate how often each report was run during each period."
   ]
  },
  {
   "cell_type": "code",
   "execution_count": 6,
   "metadata": {},
   "outputs": [],
   "source": [
    "runtime_span = active_reports[['REPORT_ID_DERIVED', 'LastRunDate', 'RunningDaysSpan']]\\\n",
    "    .groupby('REPORT_ID_DERIVED')\\\n",
    "    .agg({'LastRunDate': 'count', 'RunningDaysSpan': 'first'})\\\n",
    "    .rename(columns={'LastRunDate': 'RunCount'})\\\n",
    "    .reset_index()"
   ]
  },
  {
   "cell_type": "code",
   "execution_count": 7,
   "metadata": {},
   "outputs": [],
   "source": [
    "days_span_mean = runtime_span.RunningDaysSpan.mean()"
   ]
  },
  {
   "cell_type": "code",
   "execution_count": 8,
   "metadata": {},
   "outputs": [
    {
     "data": {
      "text/plain": [
       "14.744186046511627"
      ]
     },
     "execution_count": 8,
     "metadata": {},
     "output_type": "execute_result"
    }
   ],
   "source": [
    "days_span_mean"
   ]
  },
  {
   "cell_type": "markdown",
   "metadata": {},
   "source": [
    "In our sample, the reports are running on average over a 14-day period."
   ]
  },
  {
   "cell_type": "code",
   "execution_count": 9,
   "metadata": {},
   "outputs": [
    {
     "data": {
      "text/plain": [
       "(1, 27)"
      ]
     },
     "execution_count": 9,
     "metadata": {},
     "output_type": "execute_result"
    }
   ],
   "source": [
    "runtime_span.RunningDaysSpan.min(), runtime_span.RunningDaysSpan.max()"
   ]
  },
  {
   "cell_type": "markdown",
   "metadata": {},
   "source": [
    "Ranging from 1 to 27 days span."
   ]
  },
  {
   "cell_type": "markdown",
   "metadata": {},
   "source": [
    "In order to sort the reports by the highest running period of execution. We can either consider the most executed reports in the last 30 days or, in addition, consider the period in which the executions took place. Let's investigate both."
   ]
  },
  {
   "cell_type": "markdown",
   "metadata": {},
   "source": [
    "### Reports that have been running the longest"
   ]
  },
  {
   "cell_type": "code",
   "execution_count": 10,
   "metadata": {},
   "outputs": [
    {
     "data": {
      "text/html": [
       "<div>\n",
       "<style scoped>\n",
       "    .dataframe tbody tr th:only-of-type {\n",
       "        vertical-align: middle;\n",
       "    }\n",
       "\n",
       "    .dataframe tbody tr th {\n",
       "        vertical-align: top;\n",
       "    }\n",
       "\n",
       "    .dataframe thead th {\n",
       "        text-align: right;\n",
       "    }\n",
       "</style>\n",
       "<table border=\"1\" class=\"dataframe\">\n",
       "  <thead>\n",
       "    <tr style=\"text-align: right;\">\n",
       "      <th></th>\n",
       "      <th>REPORT_ID_DERIVED</th>\n",
       "      <th>RunCount</th>\n",
       "      <th>RunningDaysSpan</th>\n",
       "    </tr>\n",
       "  </thead>\n",
       "  <tbody>\n",
       "    <tr>\n",
       "      <th>23</th>\n",
       "      <td>00O6P000000ZLmYUAW</td>\n",
       "      <td>97</td>\n",
       "      <td>27</td>\n",
       "    </tr>\n",
       "    <tr>\n",
       "      <th>3</th>\n",
       "      <td>00O2R000003JSoUUAW</td>\n",
       "      <td>344</td>\n",
       "      <td>26</td>\n",
       "    </tr>\n",
       "    <tr>\n",
       "      <th>25</th>\n",
       "      <td>00O6P000000ZNLzUAO</td>\n",
       "      <td>14</td>\n",
       "      <td>25</td>\n",
       "    </tr>\n",
       "    <tr>\n",
       "      <th>14</th>\n",
       "      <td>00O2R000004Im1oUAC</td>\n",
       "      <td>9</td>\n",
       "      <td>23</td>\n",
       "    </tr>\n",
       "    <tr>\n",
       "      <th>39</th>\n",
       "      <td>00O6P000001B7qrUAC</td>\n",
       "      <td>1</td>\n",
       "      <td>23</td>\n",
       "    </tr>\n",
       "  </tbody>\n",
       "</table>\n",
       "</div>"
      ],
      "text/plain": [
       "     REPORT_ID_DERIVED  RunCount  RunningDaysSpan\n",
       "23  00O6P000000ZLmYUAW        97               27\n",
       "3   00O2R000003JSoUUAW       344               26\n",
       "25  00O6P000000ZNLzUAO        14               25\n",
       "14  00O2R000004Im1oUAC         9               23\n",
       "39  00O6P000001B7qrUAC         1               23"
      ]
     },
     "execution_count": 10,
     "metadata": {},
     "output_type": "execute_result"
    }
   ],
   "source": [
    "runtime_span.sort_values('RunningDaysSpan', ascending=False).head()"
   ]
  },
  {
   "cell_type": "code",
   "execution_count": 11,
   "metadata": {},
   "outputs": [],
   "source": [
    "running_the_longest = runtime_span.sort_values('RunningDaysSpan', ascending=False)\n",
    "running_the_longest.to_csv(\"./datasets/active_reports_that_have_been_running_the_longest.csv\", index=False)"
   ]
  },
  {
   "cell_type": "markdown",
   "metadata": {},
   "source": [
    "### Reports that are running longer per period"
   ]
  },
  {
   "cell_type": "markdown",
   "metadata": {},
   "source": [
    "We can create a ratio between the number of runs and the period in order to estimate that. Let's define a `AvgDailyRun`."
   ]
  },
  {
   "cell_type": "code",
   "execution_count": 12,
   "metadata": {},
   "outputs": [],
   "source": [
    "runtime_span['AvgDailyRun'] = runtime_span.RunCount / runtime_span.RunningDaysSpan"
   ]
  },
  {
   "cell_type": "code",
   "execution_count": 13,
   "metadata": {},
   "outputs": [
    {
     "data": {
      "text/html": [
       "<div>\n",
       "<style scoped>\n",
       "    .dataframe tbody tr th:only-of-type {\n",
       "        vertical-align: middle;\n",
       "    }\n",
       "\n",
       "    .dataframe tbody tr th {\n",
       "        vertical-align: top;\n",
       "    }\n",
       "\n",
       "    .dataframe thead th {\n",
       "        text-align: right;\n",
       "    }\n",
       "</style>\n",
       "<table border=\"1\" class=\"dataframe\">\n",
       "  <thead>\n",
       "    <tr style=\"text-align: right;\">\n",
       "      <th></th>\n",
       "      <th>REPORT_ID_DERIVED</th>\n",
       "      <th>RunCount</th>\n",
       "      <th>RunningDaysSpan</th>\n",
       "      <th>AvgDailyRun</th>\n",
       "    </tr>\n",
       "  </thead>\n",
       "  <tbody>\n",
       "    <tr>\n",
       "      <th>1</th>\n",
       "      <td>00O0b000004kTazEAE</td>\n",
       "      <td>5617</td>\n",
       "      <td>22</td>\n",
       "      <td>255.318182</td>\n",
       "    </tr>\n",
       "    <tr>\n",
       "      <th>2</th>\n",
       "      <td>00O0b000004kkZKEAY</td>\n",
       "      <td>305</td>\n",
       "      <td>4</td>\n",
       "      <td>76.250000</td>\n",
       "    </tr>\n",
       "    <tr>\n",
       "      <th>0</th>\n",
       "      <td>00O0b000004AnheEAC</td>\n",
       "      <td>152</td>\n",
       "      <td>4</td>\n",
       "      <td>38.000000</td>\n",
       "    </tr>\n",
       "    <tr>\n",
       "      <th>5</th>\n",
       "      <td>00O2R000003s2NZUAY</td>\n",
       "      <td>124</td>\n",
       "      <td>6</td>\n",
       "      <td>20.666667</td>\n",
       "    </tr>\n",
       "    <tr>\n",
       "      <th>3</th>\n",
       "      <td>00O2R000003JSoUUAW</td>\n",
       "      <td>344</td>\n",
       "      <td>26</td>\n",
       "      <td>13.230769</td>\n",
       "    </tr>\n",
       "  </tbody>\n",
       "</table>\n",
       "</div>"
      ],
      "text/plain": [
       "    REPORT_ID_DERIVED  RunCount  RunningDaysSpan  AvgDailyRun\n",
       "1  00O0b000004kTazEAE      5617               22   255.318182\n",
       "2  00O0b000004kkZKEAY       305                4    76.250000\n",
       "0  00O0b000004AnheEAC       152                4    38.000000\n",
       "5  00O2R000003s2NZUAY       124                6    20.666667\n",
       "3  00O2R000003JSoUUAW       344               26    13.230769"
      ]
     },
     "execution_count": 13,
     "metadata": {},
     "output_type": "execute_result"
    }
   ],
   "source": [
    "runtime_span.sort_values('AvgDailyRun', ascending=False).head()"
   ]
  },
  {
   "cell_type": "code",
   "execution_count": 14,
   "metadata": {},
   "outputs": [],
   "source": [
    "running_the_longest_in_period = runtime_span.sort_values('AvgDailyRun', ascending=False)\n",
    "running_the_longest_in_period.to_csv(\"./datasets/active_reports_that_have_been_running_the_longest_in_period.csv\", index=False)"
   ]
  }
 ],
 "metadata": {
  "kernelspec": {
   "display_name": "Python 3 (ipykernel)",
   "language": "python",
   "name": "python3"
  },
  "language_info": {
   "codemirror_mode": {
    "name": "ipython",
    "version": 3
   },
   "file_extension": ".py",
   "mimetype": "text/x-python",
   "name": "python",
   "nbconvert_exporter": "python",
   "pygments_lexer": "ipython3",
   "version": "3.9.12"
  }
 },
 "nbformat": 4,
 "nbformat_minor": 4
}
