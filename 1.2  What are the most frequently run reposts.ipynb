{
 "cells": [
  {
   "cell_type": "code",
   "execution_count": 1,
   "id": "b148bd24",
   "metadata": {},
   "outputs": [
    {
     "ename": "ModuleNotFoundError",
     "evalue": "No module named 'pandas'",
     "output_type": "error",
     "traceback": [
      "\u001b[1;31m---------------------------------------------------------------------------\u001b[0m",
      "\u001b[1;31mModuleNotFoundError\u001b[0m                       Traceback (most recent call last)",
      "\u001b[1;32mc:\\Users\\Gabri\\Documents\\SPLab\\lightning-analysis\\1.2  What are the most frequently run reposts.ipynb Cell 1'\u001b[0m in \u001b[0;36m<cell line: 1>\u001b[1;34m()\u001b[0m\n\u001b[1;32m----> <a href='vscode-notebook-cell:/c%3A/Users/Gabri/Documents/SPLab/lightning-analysis/1.2%20%20What%20are%20the%20most%20frequently%20run%20reposts.ipynb#ch0000000?line=0'>1</a>\u001b[0m \u001b[39mimport\u001b[39;00m \u001b[39mpandas\u001b[39;00m \u001b[39mas\u001b[39;00m \u001b[39mpd\u001b[39;00m\n",
      "\u001b[1;31mModuleNotFoundError\u001b[0m: No module named 'pandas'"
     ]
    }
   ],
   "source": [
    "import pandas as pd"
   ]
  },
  {
   "cell_type": "code",
   "execution_count": null,
   "id": "656e0380",
   "metadata": {},
   "outputs": [],
   "source": [
    "reports = pd.read_csv(\"active_reports_180.csv\")"
   ]
  },
  {
   "cell_type": "code",
   "execution_count": null,
   "id": "e307897f",
   "metadata": {},
   "outputs": [],
   "source": [
    "list(reports.columns)"
   ]
  },
  {
   "cell_type": "code",
   "execution_count": null,
   "id": "7a3b98ee",
   "metadata": {},
   "outputs": [],
   "source": [
    "count = reports['Id'].value_counts(sort=True)"
   ]
  },
  {
   "cell_type": "markdown",
   "id": "2fe79cbc",
   "metadata": {},
   "source": [
    "Count Reports by ReportId and put in a descending order."
   ]
  },
  {
   "cell_type": "code",
   "execution_count": null,
   "id": "ba490abb",
   "metadata": {},
   "outputs": [],
   "source": [
    "count.head(10).plot(kind='bar')"
   ]
  },
  {
   "cell_type": "markdown",
   "id": "57505e72",
   "metadata": {},
   "source": [
    "Storing a dataset with only the 10 top most frequent reports."
   ]
  }
 ],
 "metadata": {
  "kernelspec": {
   "display_name": "Python 3.10.5 64-bit",
   "language": "python",
   "name": "python3"
  },
  "language_info": {
   "codemirror_mode": {
    "name": "ipython",
    "version": 3
   },
   "file_extension": ".py",
   "mimetype": "text/x-python",
   "name": "python",
   "nbconvert_exporter": "python",
   "pygments_lexer": "ipython3",
   "version": "3.10.5"
  },
  "vscode": {
   "interpreter": {
    "hash": "b9be37ca2aa6d9a560b865fd72a2f1d8bb062175d6c2240b9164aaaeecfce293"
   }
  }
 },
 "nbformat": 4,
 "nbformat_minor": 5
}
