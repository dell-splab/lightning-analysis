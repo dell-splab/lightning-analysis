{
 "cells": [
  {
   "cell_type": "code",
   "execution_count": null,
   "id": "b148bd24",
   "metadata": {},
   "outputs": [],
   "source": [
    "import pandas as pd"
   ]
  },
  {
   "cell_type": "code",
   "execution_count": null,
   "id": "656e0380",
   "metadata": {},
   "outputs": [],
   "source": [
    "reports = pd.read_csv(\"ReportEvent_50k_Sample.csv\")"
   ]
  },
  {
   "cell_type": "code",
   "execution_count": null,
   "id": "e307897f",
   "metadata": {},
   "outputs": [],
   "source": [
    "list(reports.columns)"
   ]
  },
  {
   "cell_type": "code",
   "execution_count": null,
   "id": "7a3b98ee",
   "metadata": {},
   "outputs": [],
   "source": [
    "count = reports['ReportId'].value_counts(sort=True)"
   ]
  },
  {
   "cell_type": "markdown",
   "id": "2fe79cbc",
   "metadata": {},
   "source": [
    "Count Reports by ReportId and put in a descending order."
   ]
  },
  {
   "cell_type": "code",
   "execution_count": null,
   "id": "ba490abb",
   "metadata": {},
   "outputs": [],
   "source": [
    "count.head(10).plot(kind='bar')"
   ]
  },
  {
   "cell_type": "markdown",
   "id": "57505e72",
   "metadata": {},
   "source": [
    "Storing a dataset with only the 10 top most frequent reports."
   ]
  }
 ],
 "metadata": {
  "kernelspec": {
   "display_name": "Python 3 (ipykernel)",
   "language": "python",
   "name": "python3"
  },
  "language_info": {
   "codemirror_mode": {
    "name": "ipython",
    "version": 3
   },
   "file_extension": ".py",
   "mimetype": "text/x-python",
   "name": "python",
   "nbconvert_exporter": "python",
   "pygments_lexer": "ipython3",
   "version": "3.9.7"
  }
 },
 "nbformat": 4,
 "nbformat_minor": 5
}
