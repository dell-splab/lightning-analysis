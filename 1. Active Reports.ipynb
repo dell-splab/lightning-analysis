{
 "cells": [
  {
   "cell_type": "markdown",
   "metadata": {},
   "source": [
    "#  Active Reports\n",
    "\n",
    "---\n",
    "\n",
    ">You will know how to answer the following questions at the end of this notebook.\n",
    ">- [x] What is a report?\n",
    ">- [x] What is a Lightning report?\n",
    ">- [x] What is an active report?\n",
    "\n",
    "\n",
    "## 1. Report\n",
    "\n",
    ">A Salesforce Report Object.\n",
    "\n",
    "**Reports give you access to your Salesforce data**. You can examine your Salesforce data in almost infinite combinations, display it in easy-to-understand formats, and share the resulting insights with others.\n",
    "\n",
    "Features and concepts:\n",
    "\n",
    "### 1.1. Fields\n",
    "One or more fields describe each report result. If you imagine that your report as a table of information, then each row is a result and each column is a field.\n",
    "For example, a human resources manager creates a report about employees. Each result is an employee, and each field is a different piece of information about the employee: first name, last name, job title, start date, and so forth.\n",
    "\n",
    "When you create or edit a report, you choose which fields you want to include in your report. To ensure your reports run quickly, it’s a good idea to include only the fields that you need.\n",
    "\n",
    "### 1.2. Report Types\n",
    "The report type governs which fields are available in your report. For example, File and Content reports have fields like File ID, File Name, and Total Downloads. Accounts reports have fields like Account ID, Account Name, and Phone.\n",
    "The first thing you do when creating a report is choose a report type.\n",
    "\n",
    "### 1.3. Report Format\n",
    "The report format specifies how your report results are laid out. Available formats are **tabular** (no grouping), **summary** (grouped by rows), **matrix** (grouped by rows and columns), or **joined** (with report blocks that provide different views of your data). In the [Salesforce Classic report builder](https://salesforce.vidyard.com/watch/-8deIXAgRiNA7zJnyTr_3w), you must choose a report format before grouping data. In the [Lightning report builder](https://salesforce.vidyard.com/watch/qGpi4cPjtUWQ7XV1jT6xnM), the report format automatically updates as you group report data.\n",
    "\n",
    "### 1.4. EDA (Exploratory Data Analysis) on Reports "
   ]
  },
  {
   "cell_type": "code",
   "execution_count": 1,
   "metadata": {},
   "outputs": [],
   "source": [
    "import os\n",
    "import pandas as pd"
   ]
  },
  {
   "cell_type": "code",
   "execution_count": 2,
   "metadata": {},
   "outputs": [],
   "source": [
    "reports = pd.read_csv(\"data/Salesforce/Objects/Report_all_sample.csv\")"
   ]
  },
  {
   "cell_type": "code",
   "execution_count": 3,
   "metadata": {},
   "outputs": [
    {
     "data": {
      "text/plain": [
       "['CreatedById',\n",
       " 'CreatedDate',\n",
       " 'Description',\n",
       " 'DeveloperName',\n",
       " 'FolderName',\n",
       " 'Format',\n",
       " 'Id',\n",
       " 'IsDeleted',\n",
       " 'LastModifiedById',\n",
       " 'LastModifiedDate',\n",
       " 'LastReferencedDate',\n",
       " 'LastRunDate',\n",
       " 'LastViewedDate',\n",
       " 'Name',\n",
       " 'NamespacePrefix',\n",
       " 'OwnerId',\n",
       " 'ReportTypeApiName',\n",
       " 'SystemModstamp']"
      ]
     },
     "execution_count": 3,
     "metadata": {},
     "output_type": "execute_result"
    }
   ],
   "source": [
    "list(reports.columns)"
   ]
  },
  {
   "cell_type": "code",
   "execution_count": 4,
   "metadata": {},
   "outputs": [
    {
     "data": {
      "text/plain": [
       "(17397, 18)"
      ]
     },
     "execution_count": 4,
     "metadata": {},
     "output_type": "execute_result"
    }
   ],
   "source": [
    "reports.shape # (rows, columns)"
   ]
  },
  {
   "cell_type": "code",
   "execution_count": 5,
   "metadata": {},
   "outputs": [
    {
     "data": {
      "text/html": [
       "<div>\n",
       "<style scoped>\n",
       "    .dataframe tbody tr th:only-of-type {\n",
       "        vertical-align: middle;\n",
       "    }\n",
       "\n",
       "    .dataframe tbody tr th {\n",
       "        vertical-align: top;\n",
       "    }\n",
       "\n",
       "    .dataframe thead th {\n",
       "        text-align: right;\n",
       "    }\n",
       "</style>\n",
       "<table border=\"1\" class=\"dataframe\">\n",
       "  <thead>\n",
       "    <tr style=\"text-align: right;\">\n",
       "      <th></th>\n",
       "      <th>CreatedById</th>\n",
       "      <th>CreatedDate</th>\n",
       "      <th>Description</th>\n",
       "      <th>DeveloperName</th>\n",
       "      <th>FolderName</th>\n",
       "      <th>Format</th>\n",
       "      <th>Id</th>\n",
       "      <th>IsDeleted</th>\n",
       "      <th>LastModifiedById</th>\n",
       "      <th>LastModifiedDate</th>\n",
       "      <th>LastReferencedDate</th>\n",
       "      <th>LastRunDate</th>\n",
       "      <th>LastViewedDate</th>\n",
       "      <th>Name</th>\n",
       "      <th>NamespacePrefix</th>\n",
       "      <th>OwnerId</th>\n",
       "      <th>ReportTypeApiName</th>\n",
       "      <th>SystemModstamp</th>\n",
       "    </tr>\n",
       "  </thead>\n",
       "  <tbody>\n",
       "    <tr>\n",
       "      <th>0</th>\n",
       "      <td>0050b000004MLGeAAO</td>\n",
       "      <td>2018-06-20T19:28:03.000Z</td>\n",
       "      <td>NaN</td>\n",
       "      <td>Email2Case_KPI_Wp9</td>\n",
       "      <td>Public Reports</td>\n",
       "      <td>Summary</td>\n",
       "      <td>00O0b000004kSKkEAM</td>\n",
       "      <td>False</td>\n",
       "      <td>0050b000004MLGeAAO</td>\n",
       "      <td>2019-10-16T03:00:16.000Z</td>\n",
       "      <td>2022-06-20T02:04:59.000Z</td>\n",
       "      <td>2022-06-20T02:04:59.000Z</td>\n",
       "      <td>2022-06-20T02:04:59.000Z</td>\n",
       "      <td>Email2Case KPI</td>\n",
       "      <td>NaN</td>\n",
       "      <td>00D0b000000GaMpEAK</td>\n",
       "      <td>CaseList@Case.MaritzCX__Survey_Response_Id__c</td>\n",
       "      <td>2022-06-20T02:04:59.000Z</td>\n",
       "    </tr>\n",
       "    <tr>\n",
       "      <th>1</th>\n",
       "      <td>0050b000004KRSoAAO</td>\n",
       "      <td>2021-08-18T13:14:25.000Z</td>\n",
       "      <td>NaN</td>\n",
       "      <td>Milestone_Report_by_Pallavi_Reddy</td>\n",
       "      <td>Public Reports</td>\n",
       "      <td>Summary</td>\n",
       "      <td>00O2R000003JUgNUAW</td>\n",
       "      <td>False</td>\n",
       "      <td>0050b000004KRSoAAO</td>\n",
       "      <td>2021-08-19T07:27:05.000Z</td>\n",
       "      <td>2022-06-19T18:20:34.000Z</td>\n",
       "      <td>2022-04-18T05:30:14.000Z</td>\n",
       "      <td>2022-06-19T18:20:34.000Z</td>\n",
       "      <td>APJ RDC PM Team - Milestone Report</td>\n",
       "      <td>NaN</td>\n",
       "      <td>00D0b000000GaMpEAK</td>\n",
       "      <td>Project_with_Order_Milestone_Product__c</td>\n",
       "      <td>2022-04-18T05:30:14.000Z</td>\n",
       "    </tr>\n",
       "    <tr>\n",
       "      <th>2</th>\n",
       "      <td>0050b000004KRSoAAO</td>\n",
       "      <td>2021-08-18T14:53:32.000Z</td>\n",
       "      <td>NaN</td>\n",
       "      <td>APJ_RDC_PM_Current_Quarter_Milestones</td>\n",
       "      <td>Public Reports</td>\n",
       "      <td>Summary</td>\n",
       "      <td>00O2R000003JUh6UAG</td>\n",
       "      <td>False</td>\n",
       "      <td>0050b000004KRSoAAO</td>\n",
       "      <td>2021-08-19T07:08:48.000Z</td>\n",
       "      <td>NaN</td>\n",
       "      <td>2022-05-25T08:03:16.000Z</td>\n",
       "      <td>NaN</td>\n",
       "      <td>APJ RDC PM - Current Quarter Milestones</td>\n",
       "      <td>NaN</td>\n",
       "      <td>00D0b000000GaMpEAK</td>\n",
       "      <td>Project_with_Order_Milestone_Product__c</td>\n",
       "      <td>2022-05-25T08:03:16.000Z</td>\n",
       "    </tr>\n",
       "    <tr>\n",
       "      <th>3</th>\n",
       "      <td>0050b000004KVKcAAO</td>\n",
       "      <td>2021-05-06T17:43:54.000Z</td>\n",
       "      <td>Show QTD Earned Revenue - Milestones that have...</td>\n",
       "      <td>C_C_QTD_Earned_Revenue1</td>\n",
       "      <td>Public Reports</td>\n",
       "      <td>Summary</td>\n",
       "      <td>00O2R000003s1qaUAA</td>\n",
       "      <td>False</td>\n",
       "      <td>0050b000004KVKcAAO</td>\n",
       "      <td>2021-08-09T21:37:07.000Z</td>\n",
       "      <td>2022-06-19T18:20:37.000Z</td>\n",
       "      <td>2022-06-15T20:56:37.000Z</td>\n",
       "      <td>2022-06-19T18:20:37.000Z</td>\n",
       "      <td>C&amp;C - QTD Earned Revenue</td>\n",
       "      <td>NaN</td>\n",
       "      <td>00D0b000000GaMpEAK</td>\n",
       "      <td>NaN</td>\n",
       "      <td>2022-06-15T20:56:37.000Z</td>\n",
       "    </tr>\n",
       "    <tr>\n",
       "      <th>4</th>\n",
       "      <td>0052R000009nJKyQAM</td>\n",
       "      <td>2020-08-06T07:00:50.000Z</td>\n",
       "      <td>NaN</td>\n",
       "      <td>Germany_Swivel_Projects_2</td>\n",
       "      <td>Public Reports</td>\n",
       "      <td>Tabular</td>\n",
       "      <td>00O2R000003rzEdUAI</td>\n",
       "      <td>False</td>\n",
       "      <td>0050b000004KUjyAAG</td>\n",
       "      <td>2020-09-01T13:03:59.000Z</td>\n",
       "      <td>NaN</td>\n",
       "      <td>2021-10-28T19:18:37.000Z</td>\n",
       "      <td>NaN</td>\n",
       "      <td>Germany Swivel Projects CFQ</td>\n",
       "      <td>NaN</td>\n",
       "      <td>00D0b000000GaMpEAK</td>\n",
       "      <td>NaN</td>\n",
       "      <td>2021-10-28T19:18:37.000Z</td>\n",
       "    </tr>\n",
       "  </tbody>\n",
       "</table>\n",
       "</div>"
      ],
      "text/plain": [
       "          CreatedById               CreatedDate  \\\n",
       "0  0050b000004MLGeAAO  2018-06-20T19:28:03.000Z   \n",
       "1  0050b000004KRSoAAO  2021-08-18T13:14:25.000Z   \n",
       "2  0050b000004KRSoAAO  2021-08-18T14:53:32.000Z   \n",
       "3  0050b000004KVKcAAO  2021-05-06T17:43:54.000Z   \n",
       "4  0052R000009nJKyQAM  2020-08-06T07:00:50.000Z   \n",
       "\n",
       "                                         Description  \\\n",
       "0                                                NaN   \n",
       "1                                                NaN   \n",
       "2                                                NaN   \n",
       "3  Show QTD Earned Revenue - Milestones that have...   \n",
       "4                                                NaN   \n",
       "\n",
       "                           DeveloperName      FolderName   Format  \\\n",
       "0                     Email2Case_KPI_Wp9  Public Reports  Summary   \n",
       "1      Milestone_Report_by_Pallavi_Reddy  Public Reports  Summary   \n",
       "2  APJ_RDC_PM_Current_Quarter_Milestones  Public Reports  Summary   \n",
       "3                C_C_QTD_Earned_Revenue1  Public Reports  Summary   \n",
       "4              Germany_Swivel_Projects_2  Public Reports  Tabular   \n",
       "\n",
       "                   Id  IsDeleted    LastModifiedById  \\\n",
       "0  00O0b000004kSKkEAM      False  0050b000004MLGeAAO   \n",
       "1  00O2R000003JUgNUAW      False  0050b000004KRSoAAO   \n",
       "2  00O2R000003JUh6UAG      False  0050b000004KRSoAAO   \n",
       "3  00O2R000003s1qaUAA      False  0050b000004KVKcAAO   \n",
       "4  00O2R000003rzEdUAI      False  0050b000004KUjyAAG   \n",
       "\n",
       "           LastModifiedDate        LastReferencedDate  \\\n",
       "0  2019-10-16T03:00:16.000Z  2022-06-20T02:04:59.000Z   \n",
       "1  2021-08-19T07:27:05.000Z  2022-06-19T18:20:34.000Z   \n",
       "2  2021-08-19T07:08:48.000Z                       NaN   \n",
       "3  2021-08-09T21:37:07.000Z  2022-06-19T18:20:37.000Z   \n",
       "4  2020-09-01T13:03:59.000Z                       NaN   \n",
       "\n",
       "                LastRunDate            LastViewedDate  \\\n",
       "0  2022-06-20T02:04:59.000Z  2022-06-20T02:04:59.000Z   \n",
       "1  2022-04-18T05:30:14.000Z  2022-06-19T18:20:34.000Z   \n",
       "2  2022-05-25T08:03:16.000Z                       NaN   \n",
       "3  2022-06-15T20:56:37.000Z  2022-06-19T18:20:37.000Z   \n",
       "4  2021-10-28T19:18:37.000Z                       NaN   \n",
       "\n",
       "                                      Name NamespacePrefix  \\\n",
       "0                           Email2Case KPI             NaN   \n",
       "1       APJ RDC PM Team - Milestone Report             NaN   \n",
       "2  APJ RDC PM - Current Quarter Milestones             NaN   \n",
       "3                 C&C - QTD Earned Revenue             NaN   \n",
       "4              Germany Swivel Projects CFQ             NaN   \n",
       "\n",
       "              OwnerId                              ReportTypeApiName  \\\n",
       "0  00D0b000000GaMpEAK  CaseList@Case.MaritzCX__Survey_Response_Id__c   \n",
       "1  00D0b000000GaMpEAK        Project_with_Order_Milestone_Product__c   \n",
       "2  00D0b000000GaMpEAK        Project_with_Order_Milestone_Product__c   \n",
       "3  00D0b000000GaMpEAK                                            NaN   \n",
       "4  00D0b000000GaMpEAK                                            NaN   \n",
       "\n",
       "             SystemModstamp  \n",
       "0  2022-06-20T02:04:59.000Z  \n",
       "1  2022-04-18T05:30:14.000Z  \n",
       "2  2022-05-25T08:03:16.000Z  \n",
       "3  2022-06-15T20:56:37.000Z  \n",
       "4  2021-10-28T19:18:37.000Z  "
      ]
     },
     "execution_count": 5,
     "metadata": {},
     "output_type": "execute_result"
    }
   ],
   "source": [
    "reports.head()"
   ]
  },
  {
   "cell_type": "markdown",
   "metadata": {},
   "source": [
    "Report types."
   ]
  },
  {
   "cell_type": "code",
   "execution_count": 6,
   "metadata": {},
   "outputs": [
    {
     "data": {
      "text/plain": [
       "['Summary', 'Tabular', 'Matrix', 'MultiBlock']"
      ]
     },
     "execution_count": 6,
     "metadata": {},
     "output_type": "execute_result"
    }
   ],
   "source": [
    "list(reports.Format.unique())"
   ]
  },
  {
   "cell_type": "markdown",
   "metadata": {},
   "source": [
    "Report is an object that describes the four main types of reports regardless of the viewing platform (Classic or Lightining Experience)."
   ]
  },
  {
   "cell_type": "code",
   "execution_count": 7,
   "metadata": {},
   "outputs": [
    {
     "data": {
      "text/plain": [
       "<AxesSubplot:>"
      ]
     },
     "execution_count": 7,
     "metadata": {},
     "output_type": "execute_result"
    },
    {
     "data": {
      "image/png": "[encoded data removed]",
      "text/plain": [
       "<Figure size 432x288 with 1 Axes>"
      ]
     },
     "metadata": {
      "needs_background": "light"
     },
     "output_type": "display_data"
    }
   ],
   "source": [
    "reports.Format.value_counts().plot(kind='bar', rot=30)"
   ]
  },
  {
   "cell_type": "markdown",
   "metadata": {},
   "source": [
    "In our sample, `Summary` is the most common format."
   ]
  },
  {
   "cell_type": "markdown",
   "metadata": {},
   "source": [
    "\n",
    "## 2. Lightning Reports\n",
    "\n",
    "<span style=\"color:red\">**From now on we will only be considering Lightning Experience reports.**</span>\n",
    "\n",
    "You can check again [here](https://salesforce.vidyard.com/watch/qGpi4cPjtUWQ7XV1jT6xnM) how a report is built using Lightning experince from UI perpective.\n",
    "\n",
    "### 2.1. EDA on Lightning Reports\n"
   ]
  },
  {
   "cell_type": "code",
   "execution_count": 8,
   "metadata": {},
   "outputs": [
    {
     "name": "stderr",
     "output_type": "stream",
     "text": [
      "C:\\Users\\Jeferson_Dasilva\\AppData\\Local\\Temp\\ipykernel_17784\\3182312170.py:2: DtypeWarning: Columns (1,5,6,12,17,18,19,20,22,23,24) have mixed types. Specify dtype option on import or set low_memory=False.\n",
      "  log_reports = pd.read_csv(\"data/Salesforce/ELF/Report/2022-06-04_Report.csv\")\n"
     ]
    }
   ],
   "source": [
    "# Logging reports\n",
    "log_reports = pd.read_csv(\"data/Salesforce/ELF/Report/2022-06-04_Report.csv\")"
   ]
  },
  {
   "cell_type": "code",
   "execution_count": 9,
   "metadata": {},
   "outputs": [
    {
     "data": {
      "text/plain": [
       "['EVENT_TYPE',\n",
       " 'TIMESTAMP',\n",
       " 'REQUEST_ID',\n",
       " 'ORGANIZATION_ID',\n",
       " 'USER_ID',\n",
       " 'RUN_TIME',\n",
       " 'CPU_TIME',\n",
       " 'URI',\n",
       " 'SESSION_KEY',\n",
       " 'LOGIN_KEY',\n",
       " 'USER_TYPE',\n",
       " 'REQUEST_STATUS',\n",
       " 'DB_TOTAL_TIME',\n",
       " 'ENTITY_NAME',\n",
       " 'DISPLAY_TYPE',\n",
       " 'RENDERING_TYPE',\n",
       " 'REPORT_ID',\n",
       " 'ROW_COUNT',\n",
       " 'NUMBER_EXCEPTION_FILTERS',\n",
       " 'NUMBER_COLUMNS',\n",
       " 'AVERAGE_ROW_SIZE',\n",
       " 'SORT',\n",
       " 'DB_BLOCKS',\n",
       " 'DB_CPU_TIME',\n",
       " 'NUMBER_BUCKETS',\n",
       " 'TIMESTAMP_DERIVED',\n",
       " 'USER_ID_DERIVED',\n",
       " 'CLIENT_IP',\n",
       " 'URI_ID_DERIVED',\n",
       " 'REPORT_ID_DERIVED',\n",
       " 'ORIGIN']"
      ]
     },
     "execution_count": 9,
     "metadata": {},
     "output_type": "execute_result"
    }
   ],
   "source": [
    "list(log_reports.columns)"
   ]
  },
  {
   "cell_type": "code",
   "execution_count": 10,
   "metadata": {},
   "outputs": [
    {
     "data": {
      "text/plain": [
       "(73258, 31)"
      ]
     },
     "execution_count": 10,
     "metadata": {},
     "output_type": "execute_result"
    }
   ],
   "source": [
    "log_reports.shape"
   ]
  },
  {
   "cell_type": "code",
   "execution_count": 11,
   "metadata": {},
   "outputs": [
    {
     "data": {
      "text/html": [
       "<div>\n",
       "<style scoped>\n",
       "    .dataframe tbody tr th:only-of-type {\n",
       "        vertical-align: middle;\n",
       "    }\n",
       "\n",
       "    .dataframe tbody tr th {\n",
       "        vertical-align: top;\n",
       "    }\n",
       "\n",
       "    .dataframe thead th {\n",
       "        text-align: right;\n",
       "    }\n",
       "</style>\n",
       "<table border=\"1\" class=\"dataframe\">\n",
       "  <thead>\n",
       "    <tr style=\"text-align: right;\">\n",
       "      <th></th>\n",
       "      <th>EVENT_TYPE</th>\n",
       "      <th>TIMESTAMP</th>\n",
       "      <th>REQUEST_ID</th>\n",
       "      <th>ORGANIZATION_ID</th>\n",
       "      <th>USER_ID</th>\n",
       "      <th>RUN_TIME</th>\n",
       "      <th>CPU_TIME</th>\n",
       "      <th>URI</th>\n",
       "      <th>SESSION_KEY</th>\n",
       "      <th>LOGIN_KEY</th>\n",
       "      <th>...</th>\n",
       "      <th>SORT</th>\n",
       "      <th>DB_BLOCKS</th>\n",
       "      <th>DB_CPU_TIME</th>\n",
       "      <th>NUMBER_BUCKETS</th>\n",
       "      <th>TIMESTAMP_DERIVED</th>\n",
       "      <th>USER_ID_DERIVED</th>\n",
       "      <th>CLIENT_IP</th>\n",
       "      <th>URI_ID_DERIVED</th>\n",
       "      <th>REPORT_ID_DERIVED</th>\n",
       "      <th>ORIGIN</th>\n",
       "    </tr>\n",
       "  </thead>\n",
       "  <tbody>\n",
       "    <tr>\n",
       "      <th>0</th>\n",
       "      <td>Report</td>\n",
       "      <td>2.02206E+13</td>\n",
       "      <td>TID:4519717290000e269d</td>\n",
       "      <td>00D0b000000GaMp</td>\n",
       "      <td>0052R000009nH55</td>\n",
       "      <td>543</td>\n",
       "      <td>259</td>\n",
       "      <td>/aura</td>\n",
       "      <td>7WetCOlKXFuofRTd</td>\n",
       "      <td>ypYNWY+Bdd3wknUA</td>\n",
       "      <td>...</td>\n",
       "      <td>NaN</td>\n",
       "      <td>22837</td>\n",
       "      <td>180</td>\n",
       "      <td>0</td>\n",
       "      <td>2022-06-04T00:00:00.307Z</td>\n",
       "      <td>0052R000009nH55QAE</td>\n",
       "      <td>1.6.128.42</td>\n",
       "      <td>NaN</td>\n",
       "      <td>00O0b000006iNwdEAE</td>\n",
       "      <td>ReportRunFromLightning</td>\n",
       "    </tr>\n",
       "    <tr>\n",
       "      <th>1</th>\n",
       "      <td>Report</td>\n",
       "      <td>2.02206E+13</td>\n",
       "      <td>4jK0nvfBZr3xZtG-mNW0d-</td>\n",
       "      <td>00D0b000000GaMp</td>\n",
       "      <td>0050b000004K90Q</td>\n",
       "      <td>2334</td>\n",
       "      <td>84</td>\n",
       "      <td>NaN</td>\n",
       "      <td>NaN</td>\n",
       "      <td>NaN</td>\n",
       "      <td>...</td>\n",
       "      <td>0720b000001dxwL.up</td>\n",
       "      <td>268543</td>\n",
       "      <td>1540</td>\n",
       "      <td>0</td>\n",
       "      <td>2022-06-04T00:00:00.923Z</td>\n",
       "      <td>0050b000004K90QAAS</td>\n",
       "      <td>NaN</td>\n",
       "      <td>NaN</td>\n",
       "      <td>00O0b000004kkZKEAY</td>\n",
       "      <td>ChartRenderedInEmbeddedAnalyticsApp</td>\n",
       "    </tr>\n",
       "    <tr>\n",
       "      <th>2</th>\n",
       "      <td>Report</td>\n",
       "      <td>2.02206E+13</td>\n",
       "      <td>TID:27363455000007a883</td>\n",
       "      <td>00D0b000000GaMp</td>\n",
       "      <td>0052R000009Tku8</td>\n",
       "      <td>2475</td>\n",
       "      <td>238</td>\n",
       "      <td>/aura</td>\n",
       "      <td>MhpE/Y8H/Gb5c9/z</td>\n",
       "      <td>mwBsL/IdD6z2A1X3</td>\n",
       "      <td>...</td>\n",
       "      <td>NaN</td>\n",
       "      <td>81530</td>\n",
       "      <td>540</td>\n",
       "      <td>0</td>\n",
       "      <td>2022-06-04T00:00:01.109Z</td>\n",
       "      <td>0052R000009Tku8QAC</td>\n",
       "      <td>163.244.182.14</td>\n",
       "      <td>NaN</td>\n",
       "      <td>00O2R0000043lHLUAY</td>\n",
       "      <td>ReportRunFromLightning</td>\n",
       "    </tr>\n",
       "    <tr>\n",
       "      <th>3</th>\n",
       "      <td>Report</td>\n",
       "      <td>2.02206E+13</td>\n",
       "      <td>SLB:a85dd4a65c37058a7c3c00c1bd5f0c95</td>\n",
       "      <td>00D0b000000GaMp</td>\n",
       "      <td>0050b000004KNJd</td>\n",
       "      <td>4512</td>\n",
       "      <td>230</td>\n",
       "      <td>/00O2R000003zUb9UAE</td>\n",
       "      <td>5kofTaAIIQNTTlJs</td>\n",
       "      <td>GuhY1pyPwXx/oVUm</td>\n",
       "      <td>...</td>\n",
       "      <td>NaN</td>\n",
       "      <td>607119</td>\n",
       "      <td>2930</td>\n",
       "      <td>1</td>\n",
       "      <td>2022-06-04T00:00:01.271Z</td>\n",
       "      <td>0050b000004KNJdAAO</td>\n",
       "      <td>168.159.160.201</td>\n",
       "      <td>00O2R000003zUb9UAE</td>\n",
       "      <td>00O2R000003zUb9UAE</td>\n",
       "      <td>ReportRunFromClassic</td>\n",
       "    </tr>\n",
       "    <tr>\n",
       "      <th>4</th>\n",
       "      <td>Report</td>\n",
       "      <td>2.02206E+13</td>\n",
       "      <td>4jK0o1lwvVxV9OG-mOxJo-</td>\n",
       "      <td>00D0b000000GaMp</td>\n",
       "      <td>0050b000004KWJ2</td>\n",
       "      <td>1045</td>\n",
       "      <td>321</td>\n",
       "      <td>NaN</td>\n",
       "      <td>NaN</td>\n",
       "      <td>NaN</td>\n",
       "      <td>...</td>\n",
       "      <td>0720b000008ihOr.up</td>\n",
       "      <td>10735</td>\n",
       "      <td>200</td>\n",
       "      <td>0</td>\n",
       "      <td>2022-06-04T00:00:01.541Z</td>\n",
       "      <td>0050b000004KWJ2AAO</td>\n",
       "      <td>NaN</td>\n",
       "      <td>NaN</td>\n",
       "      <td>00O2R000003zQO5UAM</td>\n",
       "      <td>ReportRunAndNotificationSent</td>\n",
       "    </tr>\n",
       "  </tbody>\n",
       "</table>\n",
       "<p>5 rows × 31 columns</p>\n",
       "</div>"
      ],
      "text/plain": [
       "  EVENT_TYPE    TIMESTAMP                            REQUEST_ID  \\\n",
       "0     Report  2.02206E+13                TID:4519717290000e269d   \n",
       "1     Report  2.02206E+13                4jK0nvfBZr3xZtG-mNW0d-   \n",
       "2     Report  2.02206E+13                TID:27363455000007a883   \n",
       "3     Report  2.02206E+13  SLB:a85dd4a65c37058a7c3c00c1bd5f0c95   \n",
       "4     Report  2.02206E+13                4jK0o1lwvVxV9OG-mOxJo-   \n",
       "\n",
       "   ORGANIZATION_ID          USER_ID RUN_TIME CPU_TIME                  URI  \\\n",
       "0  00D0b000000GaMp  0052R000009nH55      543      259                /aura   \n",
       "1  00D0b000000GaMp  0050b000004K90Q     2334       84                  NaN   \n",
       "2  00D0b000000GaMp  0052R000009Tku8     2475      238                /aura   \n",
       "3  00D0b000000GaMp  0050b000004KNJd     4512      230  /00O2R000003zUb9UAE   \n",
       "4  00D0b000000GaMp  0050b000004KWJ2     1045      321                  NaN   \n",
       "\n",
       "        SESSION_KEY         LOGIN_KEY  ...                SORT DB_BLOCKS  \\\n",
       "0  7WetCOlKXFuofRTd  ypYNWY+Bdd3wknUA  ...                 NaN     22837   \n",
       "1               NaN               NaN  ...  0720b000001dxwL.up    268543   \n",
       "2  MhpE/Y8H/Gb5c9/z  mwBsL/IdD6z2A1X3  ...                 NaN     81530   \n",
       "3  5kofTaAIIQNTTlJs  GuhY1pyPwXx/oVUm  ...                 NaN    607119   \n",
       "4               NaN               NaN  ...  0720b000008ihOr.up     10735   \n",
       "\n",
       "  DB_CPU_TIME NUMBER_BUCKETS         TIMESTAMP_DERIVED     USER_ID_DERIVED  \\\n",
       "0         180              0  2022-06-04T00:00:00.307Z  0052R000009nH55QAE   \n",
       "1        1540              0  2022-06-04T00:00:00.923Z  0050b000004K90QAAS   \n",
       "2         540              0  2022-06-04T00:00:01.109Z  0052R000009Tku8QAC   \n",
       "3        2930              1  2022-06-04T00:00:01.271Z  0050b000004KNJdAAO   \n",
       "4         200              0  2022-06-04T00:00:01.541Z  0050b000004KWJ2AAO   \n",
       "\n",
       "         CLIENT_IP      URI_ID_DERIVED   REPORT_ID_DERIVED  \\\n",
       "0       1.6.128.42                 NaN  00O0b000006iNwdEAE   \n",
       "1              NaN                 NaN  00O0b000004kkZKEAY   \n",
       "2   163.244.182.14                 NaN  00O2R0000043lHLUAY   \n",
       "3  168.159.160.201  00O2R000003zUb9UAE  00O2R000003zUb9UAE   \n",
       "4              NaN                 NaN  00O2R000003zQO5UAM   \n",
       "\n",
       "                                ORIGIN  \n",
       "0               ReportRunFromLightning  \n",
       "1  ChartRenderedInEmbeddedAnalyticsApp  \n",
       "2               ReportRunFromLightning  \n",
       "3                 ReportRunFromClassic  \n",
       "4         ReportRunAndNotificationSent  \n",
       "\n",
       "[5 rows x 31 columns]"
      ]
     },
     "execution_count": 11,
     "metadata": {},
     "output_type": "execute_result"
    }
   ],
   "source": [
    "log_reports.head()"
   ]
  },
  {
   "cell_type": "markdown",
   "metadata": {},
   "source": [
    "Finding the origin of these reports."
   ]
  },
  {
   "cell_type": "code",
   "execution_count": 12,
   "metadata": {},
   "outputs": [
    {
     "data": {
      "text/plain": [
       "['ReportRunFromLightning',\n",
       " 'ChartRenderedInEmbeddedAnalyticsApp',\n",
       " 'ReportRunFromClassic',\n",
       " 'ReportRunAndNotificationSent',\n",
       " 'DashboardComponentUpdated',\n",
       " 'ReportExported',\n",
       " 'DashboardComponentPreviewed',\n",
       " 'ORIGIN',\n",
       " 'ProbeQuery',\n",
       " 'ReportResultsAddedToEinsteinDiscovery']"
      ]
     },
     "execution_count": 12,
     "metadata": {},
     "output_type": "execute_result"
    }
   ],
   "source": [
    "list(log_reports.ORIGIN.unique())"
   ]
  },
  {
   "cell_type": "markdown",
   "metadata": {},
   "source": [
    "We can see that there are reports whose origin is the Lightning experience.\n",
    "\n",
    "Let's filter them out."
   ]
  },
  {
   "cell_type": "code",
   "execution_count": 13,
   "metadata": {},
   "outputs": [],
   "source": [
    "ltng_reports = log_reports[log_reports.ORIGIN == 'ReportRunFromLightning']"
   ]
  },
  {
   "cell_type": "code",
   "execution_count": 14,
   "metadata": {},
   "outputs": [
    {
     "data": {
      "text/plain": [
       "(38416, 31)"
      ]
     },
     "execution_count": 14,
     "metadata": {},
     "output_type": "execute_result"
    }
   ],
   "source": [
    "ltng_reports.shape"
   ]
  },
  {
   "cell_type": "markdown",
   "metadata": {},
   "source": [
    "Let's check the proportion of these reports in our sample."
   ]
  },
  {
   "cell_type": "code",
   "execution_count": 15,
   "metadata": {},
   "outputs": [
    {
     "data": {
      "text/plain": [
       "0.5243932403287013"
      ]
     },
     "execution_count": 15,
     "metadata": {},
     "output_type": "execute_result"
    }
   ],
   "source": [
    "ltng_reports.shape[0] / log_reports.shape[0]"
   ]
  },
  {
   "cell_type": "markdown",
   "metadata": {},
   "source": [
    "More than half of the data comes from Lightning Experience.\n",
    "\n",
    "#### And about how much these reports have been run!"
   ]
  },
  {
   "cell_type": "markdown",
   "metadata": {},
   "source": [
    "Note that to get the information about when these reports were run we need both tables. We can retrieve this information by using the report ID (`REPORT_ID_DERIVED` in the `ltng_reports` dataframe) and the associated report identifier (`Id` in the `reports` dataframe) in the previous section."
   ]
  },
  {
   "cell_type": "code",
   "execution_count": 16,
   "metadata": {},
   "outputs": [
    {
     "data": {
      "text/html": [
       "<div>\n",
       "<style scoped>\n",
       "    .dataframe tbody tr th:only-of-type {\n",
       "        vertical-align: middle;\n",
       "    }\n",
       "\n",
       "    .dataframe tbody tr th {\n",
       "        vertical-align: top;\n",
       "    }\n",
       "\n",
       "    .dataframe thead th {\n",
       "        text-align: right;\n",
       "    }\n",
       "</style>\n",
       "<table border=\"1\" class=\"dataframe\">\n",
       "  <thead>\n",
       "    <tr style=\"text-align: right;\">\n",
       "      <th></th>\n",
       "      <th>CreatedById</th>\n",
       "      <th>CreatedDate</th>\n",
       "      <th>Description</th>\n",
       "      <th>DeveloperName</th>\n",
       "      <th>FolderName</th>\n",
       "      <th>Format</th>\n",
       "      <th>Id</th>\n",
       "      <th>IsDeleted</th>\n",
       "      <th>LastModifiedById</th>\n",
       "      <th>LastModifiedDate</th>\n",
       "      <th>...</th>\n",
       "      <th>SORT</th>\n",
       "      <th>DB_BLOCKS</th>\n",
       "      <th>DB_CPU_TIME</th>\n",
       "      <th>NUMBER_BUCKETS</th>\n",
       "      <th>TIMESTAMP_DERIVED</th>\n",
       "      <th>USER_ID_DERIVED</th>\n",
       "      <th>CLIENT_IP</th>\n",
       "      <th>URI_ID_DERIVED</th>\n",
       "      <th>REPORT_ID_DERIVED</th>\n",
       "      <th>ORIGIN</th>\n",
       "    </tr>\n",
       "  </thead>\n",
       "  <tbody>\n",
       "    <tr>\n",
       "      <th>0</th>\n",
       "      <td>0052R000009j0S8QAI</td>\n",
       "      <td>2022-02-16T14:52:00.000Z</td>\n",
       "      <td>NaN</td>\n",
       "      <td>TC_Compliance_Central_Canada</td>\n",
       "      <td>Public Reports</td>\n",
       "      <td>Tabular</td>\n",
       "      <td>00O6P000000VFNFUA4</td>\n",
       "      <td>False</td>\n",
       "      <td>0052R000009j0S8QAI</td>\n",
       "      <td>2022-05-27T16:08:25.000Z</td>\n",
       "      <td>...</td>\n",
       "      <td>00N0b0000039BM5.up</td>\n",
       "      <td>230</td>\n",
       "      <td>20</td>\n",
       "      <td>0</td>\n",
       "      <td>2022-06-04T09:00:35.156Z</td>\n",
       "      <td>0052R000009j0S8QAI</td>\n",
       "      <td>163.244.182.15</td>\n",
       "      <td>NaN</td>\n",
       "      <td>00O6P000000VFNFUA4</td>\n",
       "      <td>ReportRunFromLightning</td>\n",
       "    </tr>\n",
       "    <tr>\n",
       "      <th>1</th>\n",
       "      <td>0052R000009j0S8QAI</td>\n",
       "      <td>2022-02-16T14:52:00.000Z</td>\n",
       "      <td>NaN</td>\n",
       "      <td>TC_Compliance_Central_Canada</td>\n",
       "      <td>Public Reports</td>\n",
       "      <td>Tabular</td>\n",
       "      <td>00O6P000000VFNFUA4</td>\n",
       "      <td>False</td>\n",
       "      <td>0052R000009j0S8QAI</td>\n",
       "      <td>2022-05-27T16:08:25.000Z</td>\n",
       "      <td>...</td>\n",
       "      <td>00N0b0000039BM5.up</td>\n",
       "      <td>459</td>\n",
       "      <td>20</td>\n",
       "      <td>0</td>\n",
       "      <td>2022-06-04T09:03:29.427Z</td>\n",
       "      <td>0052R000009j0S8QAI</td>\n",
       "      <td>163.244.182.15</td>\n",
       "      <td>NaN</td>\n",
       "      <td>00O6P000000VFNFUA4</td>\n",
       "      <td>ReportRunFromLightning</td>\n",
       "    </tr>\n",
       "    <tr>\n",
       "      <th>2</th>\n",
       "      <td>0050b000004KOciAAG</td>\n",
       "      <td>2022-02-09T09:50:29.000Z</td>\n",
       "      <td>query used for Monitoring VxRail Queue</td>\n",
       "      <td>Wipro_VxRail_Case_Title_Report2</td>\n",
       "      <td>Public Reports</td>\n",
       "      <td>Tabular</td>\n",
       "      <td>00O6P000000ZMcoUAG</td>\n",
       "      <td>False</td>\n",
       "      <td>0050b000004KOciAAG</td>\n",
       "      <td>2022-02-09T09:50:29.000Z</td>\n",
       "      <td>...</td>\n",
       "      <td>NaN</td>\n",
       "      <td>865943</td>\n",
       "      <td>6620</td>\n",
       "      <td>2</td>\n",
       "      <td>2022-06-04T00:00:21.054Z</td>\n",
       "      <td>0052R000009Tn59QAC</td>\n",
       "      <td>132.237.171.36</td>\n",
       "      <td>NaN</td>\n",
       "      <td>00O6P000000ZMcoUAG</td>\n",
       "      <td>ReportRunFromLightning</td>\n",
       "    </tr>\n",
       "    <tr>\n",
       "      <th>3</th>\n",
       "      <td>0050b000004KOciAAG</td>\n",
       "      <td>2022-02-09T09:50:29.000Z</td>\n",
       "      <td>query used for Monitoring VxRail Queue</td>\n",
       "      <td>Wipro_VxRail_Case_Title_Report2</td>\n",
       "      <td>Public Reports</td>\n",
       "      <td>Tabular</td>\n",
       "      <td>00O6P000000ZMcoUAG</td>\n",
       "      <td>False</td>\n",
       "      <td>0050b000004KOciAAG</td>\n",
       "      <td>2022-02-09T09:50:29.000Z</td>\n",
       "      <td>...</td>\n",
       "      <td>NaN</td>\n",
       "      <td>865898</td>\n",
       "      <td>6460</td>\n",
       "      <td>2</td>\n",
       "      <td>2022-06-04T00:01:11.299Z</td>\n",
       "      <td>0052R000009Tn59QAC</td>\n",
       "      <td>132.237.171.36</td>\n",
       "      <td>NaN</td>\n",
       "      <td>00O6P000000ZMcoUAG</td>\n",
       "      <td>ReportRunFromLightning</td>\n",
       "    </tr>\n",
       "    <tr>\n",
       "      <th>4</th>\n",
       "      <td>0050b000004KOciAAG</td>\n",
       "      <td>2022-02-09T09:50:29.000Z</td>\n",
       "      <td>query used for Monitoring VxRail Queue</td>\n",
       "      <td>Wipro_VxRail_Case_Title_Report2</td>\n",
       "      <td>Public Reports</td>\n",
       "      <td>Tabular</td>\n",
       "      <td>00O6P000000ZMcoUAG</td>\n",
       "      <td>False</td>\n",
       "      <td>0050b000004KOciAAG</td>\n",
       "      <td>2022-02-09T09:50:29.000Z</td>\n",
       "      <td>...</td>\n",
       "      <td>NaN</td>\n",
       "      <td>865940</td>\n",
       "      <td>6530</td>\n",
       "      <td>2</td>\n",
       "      <td>2022-06-04T00:02:18.637Z</td>\n",
       "      <td>0052R000009Tn59QAC</td>\n",
       "      <td>132.237.171.34</td>\n",
       "      <td>NaN</td>\n",
       "      <td>00O6P000000ZMcoUAG</td>\n",
       "      <td>ReportRunFromLightning</td>\n",
       "    </tr>\n",
       "    <tr>\n",
       "      <th>...</th>\n",
       "      <td>...</td>\n",
       "      <td>...</td>\n",
       "      <td>...</td>\n",
       "      <td>...</td>\n",
       "      <td>...</td>\n",
       "      <td>...</td>\n",
       "      <td>...</td>\n",
       "      <td>...</td>\n",
       "      <td>...</td>\n",
       "      <td>...</td>\n",
       "      <td>...</td>\n",
       "      <td>...</td>\n",
       "      <td>...</td>\n",
       "      <td>...</td>\n",
       "      <td>...</td>\n",
       "      <td>...</td>\n",
       "      <td>...</td>\n",
       "      <td>...</td>\n",
       "      <td>...</td>\n",
       "      <td>...</td>\n",
       "      <td>...</td>\n",
       "    </tr>\n",
       "    <tr>\n",
       "      <th>38321</th>\n",
       "      <td>0050b000004KSnHAAW</td>\n",
       "      <td>2022-04-03T13:37:35.000Z</td>\n",
       "      <td>NaN</td>\n",
       "      <td>GAM_Unassigned_cases</td>\n",
       "      <td>GAM</td>\n",
       "      <td>Summary</td>\n",
       "      <td>00O6P0000012jgSUAQ</td>\n",
       "      <td>False</td>\n",
       "      <td>0050b000004KSnHAAW</td>\n",
       "      <td>2022-04-27T11:38:56.000Z</td>\n",
       "      <td>...</td>\n",
       "      <td>CREATED_DATE.up</td>\n",
       "      <td>13781.0</td>\n",
       "      <td>40.0</td>\n",
       "      <td>1</td>\n",
       "      <td>2022-06-04T20:39:45.324Z</td>\n",
       "      <td>0052R000009j1ljQAA</td>\n",
       "      <td>163.244.62.182</td>\n",
       "      <td>NaN</td>\n",
       "      <td>00O6P0000012jgSUAQ</td>\n",
       "      <td>ReportRunFromLightning</td>\n",
       "    </tr>\n",
       "    <tr>\n",
       "      <th>38322</th>\n",
       "      <td>0050b000004KSnHAAW</td>\n",
       "      <td>2022-04-03T13:37:35.000Z</td>\n",
       "      <td>NaN</td>\n",
       "      <td>GAM_Unassigned_cases</td>\n",
       "      <td>GAM</td>\n",
       "      <td>Summary</td>\n",
       "      <td>00O6P0000012jgSUAQ</td>\n",
       "      <td>False</td>\n",
       "      <td>0050b000004KSnHAAW</td>\n",
       "      <td>2022-04-27T11:38:56.000Z</td>\n",
       "      <td>...</td>\n",
       "      <td>CREATED_DATE.up</td>\n",
       "      <td>14225.0</td>\n",
       "      <td>40.0</td>\n",
       "      <td>1</td>\n",
       "      <td>2022-06-04T20:50:39.636Z</td>\n",
       "      <td>0052R000009j1ljQAA</td>\n",
       "      <td>163.244.62.182</td>\n",
       "      <td>NaN</td>\n",
       "      <td>00O6P0000012jgSUAQ</td>\n",
       "      <td>ReportRunFromLightning</td>\n",
       "    </tr>\n",
       "    <tr>\n",
       "      <th>38323</th>\n",
       "      <td>0050b000004KSnHAAW</td>\n",
       "      <td>2022-04-03T13:37:35.000Z</td>\n",
       "      <td>NaN</td>\n",
       "      <td>GAM_Unassigned_cases</td>\n",
       "      <td>GAM</td>\n",
       "      <td>Summary</td>\n",
       "      <td>00O6P0000012jgSUAQ</td>\n",
       "      <td>False</td>\n",
       "      <td>0050b000004KSnHAAW</td>\n",
       "      <td>2022-04-27T11:38:56.000Z</td>\n",
       "      <td>...</td>\n",
       "      <td>CREATED_DATE.up</td>\n",
       "      <td>13713.0</td>\n",
       "      <td>30.0</td>\n",
       "      <td>1</td>\n",
       "      <td>2022-06-04T20:50:39.636Z</td>\n",
       "      <td>0052R000009j1ljQAA</td>\n",
       "      <td>163.244.62.182</td>\n",
       "      <td>NaN</td>\n",
       "      <td>00O6P0000012jgSUAQ</td>\n",
       "      <td>ReportRunFromLightning</td>\n",
       "    </tr>\n",
       "    <tr>\n",
       "      <th>38324</th>\n",
       "      <td>0050b000004KSnHAAW</td>\n",
       "      <td>2022-04-03T13:37:35.000Z</td>\n",
       "      <td>NaN</td>\n",
       "      <td>GAM_Unassigned_cases</td>\n",
       "      <td>GAM</td>\n",
       "      <td>Summary</td>\n",
       "      <td>00O6P0000012jgSUAQ</td>\n",
       "      <td>False</td>\n",
       "      <td>0050b000004KSnHAAW</td>\n",
       "      <td>2022-04-27T11:38:56.000Z</td>\n",
       "      <td>...</td>\n",
       "      <td>CREATED_DATE.up</td>\n",
       "      <td>NaN</td>\n",
       "      <td>NaN</td>\n",
       "      <td>1</td>\n",
       "      <td>2022-06-04T21:41:19.921Z</td>\n",
       "      <td>0052R000009j1ljQAA</td>\n",
       "      <td>163.244.62.182</td>\n",
       "      <td>NaN</td>\n",
       "      <td>00O6P0000012jgSUAQ</td>\n",
       "      <td>ReportRunFromLightning</td>\n",
       "    </tr>\n",
       "    <tr>\n",
       "      <th>38325</th>\n",
       "      <td>0050b000004KSnHAAW</td>\n",
       "      <td>2022-04-03T13:37:35.000Z</td>\n",
       "      <td>NaN</td>\n",
       "      <td>GAM_Unassigned_cases</td>\n",
       "      <td>GAM</td>\n",
       "      <td>Summary</td>\n",
       "      <td>00O6P0000012jgSUAQ</td>\n",
       "      <td>False</td>\n",
       "      <td>0050b000004KSnHAAW</td>\n",
       "      <td>2022-04-27T11:38:56.000Z</td>\n",
       "      <td>...</td>\n",
       "      <td>CREATED_DATE.up</td>\n",
       "      <td>27849.0</td>\n",
       "      <td>110.0</td>\n",
       "      <td>1</td>\n",
       "      <td>2022-06-04T21:41:19.921Z</td>\n",
       "      <td>0052R000009j1ljQAA</td>\n",
       "      <td>163.244.62.182</td>\n",
       "      <td>NaN</td>\n",
       "      <td>00O6P0000012jgSUAQ</td>\n",
       "      <td>ReportRunFromLightning</td>\n",
       "    </tr>\n",
       "  </tbody>\n",
       "</table>\n",
       "<p>38326 rows × 49 columns</p>\n",
       "</div>"
      ],
      "text/plain": [
       "              CreatedById               CreatedDate  \\\n",
       "0      0052R000009j0S8QAI  2022-02-16T14:52:00.000Z   \n",
       "1      0052R000009j0S8QAI  2022-02-16T14:52:00.000Z   \n",
       "2      0050b000004KOciAAG  2022-02-09T09:50:29.000Z   \n",
       "3      0050b000004KOciAAG  2022-02-09T09:50:29.000Z   \n",
       "4      0050b000004KOciAAG  2022-02-09T09:50:29.000Z   \n",
       "...                   ...                       ...   \n",
       "38321  0050b000004KSnHAAW  2022-04-03T13:37:35.000Z   \n",
       "38322  0050b000004KSnHAAW  2022-04-03T13:37:35.000Z   \n",
       "38323  0050b000004KSnHAAW  2022-04-03T13:37:35.000Z   \n",
       "38324  0050b000004KSnHAAW  2022-04-03T13:37:35.000Z   \n",
       "38325  0050b000004KSnHAAW  2022-04-03T13:37:35.000Z   \n",
       "\n",
       "                                  Description  \\\n",
       "0                                         NaN   \n",
       "1                                         NaN   \n",
       "2      query used for Monitoring VxRail Queue   \n",
       "3      query used for Monitoring VxRail Queue   \n",
       "4      query used for Monitoring VxRail Queue   \n",
       "...                                       ...   \n",
       "38321                                     NaN   \n",
       "38322                                     NaN   \n",
       "38323                                     NaN   \n",
       "38324                                     NaN   \n",
       "38325                                     NaN   \n",
       "\n",
       "                         DeveloperName      FolderName   Format  \\\n",
       "0         TC_Compliance_Central_Canada  Public Reports  Tabular   \n",
       "1         TC_Compliance_Central_Canada  Public Reports  Tabular   \n",
       "2      Wipro_VxRail_Case_Title_Report2  Public Reports  Tabular   \n",
       "3      Wipro_VxRail_Case_Title_Report2  Public Reports  Tabular   \n",
       "4      Wipro_VxRail_Case_Title_Report2  Public Reports  Tabular   \n",
       "...                                ...             ...      ...   \n",
       "38321             GAM_Unassigned_cases             GAM  Summary   \n",
       "38322             GAM_Unassigned_cases             GAM  Summary   \n",
       "38323             GAM_Unassigned_cases             GAM  Summary   \n",
       "38324             GAM_Unassigned_cases             GAM  Summary   \n",
       "38325             GAM_Unassigned_cases             GAM  Summary   \n",
       "\n",
       "                       Id  IsDeleted    LastModifiedById  \\\n",
       "0      00O6P000000VFNFUA4      False  0052R000009j0S8QAI   \n",
       "1      00O6P000000VFNFUA4      False  0052R000009j0S8QAI   \n",
       "2      00O6P000000ZMcoUAG      False  0050b000004KOciAAG   \n",
       "3      00O6P000000ZMcoUAG      False  0050b000004KOciAAG   \n",
       "4      00O6P000000ZMcoUAG      False  0050b000004KOciAAG   \n",
       "...                   ...        ...                 ...   \n",
       "38321  00O6P0000012jgSUAQ      False  0050b000004KSnHAAW   \n",
       "38322  00O6P0000012jgSUAQ      False  0050b000004KSnHAAW   \n",
       "38323  00O6P0000012jgSUAQ      False  0050b000004KSnHAAW   \n",
       "38324  00O6P0000012jgSUAQ      False  0050b000004KSnHAAW   \n",
       "38325  00O6P0000012jgSUAQ      False  0050b000004KSnHAAW   \n",
       "\n",
       "               LastModifiedDate  ...                SORT DB_BLOCKS  \\\n",
       "0      2022-05-27T16:08:25.000Z  ...  00N0b0000039BM5.up       230   \n",
       "1      2022-05-27T16:08:25.000Z  ...  00N0b0000039BM5.up       459   \n",
       "2      2022-02-09T09:50:29.000Z  ...                 NaN    865943   \n",
       "3      2022-02-09T09:50:29.000Z  ...                 NaN    865898   \n",
       "4      2022-02-09T09:50:29.000Z  ...                 NaN    865940   \n",
       "...                         ...  ...                 ...       ...   \n",
       "38321  2022-04-27T11:38:56.000Z  ...     CREATED_DATE.up   13781.0   \n",
       "38322  2022-04-27T11:38:56.000Z  ...     CREATED_DATE.up   14225.0   \n",
       "38323  2022-04-27T11:38:56.000Z  ...     CREATED_DATE.up   13713.0   \n",
       "38324  2022-04-27T11:38:56.000Z  ...     CREATED_DATE.up       NaN   \n",
       "38325  2022-04-27T11:38:56.000Z  ...     CREATED_DATE.up   27849.0   \n",
       "\n",
       "      DB_CPU_TIME NUMBER_BUCKETS         TIMESTAMP_DERIVED  \\\n",
       "0              20              0  2022-06-04T09:00:35.156Z   \n",
       "1              20              0  2022-06-04T09:03:29.427Z   \n",
       "2            6620              2  2022-06-04T00:00:21.054Z   \n",
       "3            6460              2  2022-06-04T00:01:11.299Z   \n",
       "4            6530              2  2022-06-04T00:02:18.637Z   \n",
       "...           ...            ...                       ...   \n",
       "38321        40.0              1  2022-06-04T20:39:45.324Z   \n",
       "38322        40.0              1  2022-06-04T20:50:39.636Z   \n",
       "38323        30.0              1  2022-06-04T20:50:39.636Z   \n",
       "38324         NaN              1  2022-06-04T21:41:19.921Z   \n",
       "38325       110.0              1  2022-06-04T21:41:19.921Z   \n",
       "\n",
       "          USER_ID_DERIVED       CLIENT_IP URI_ID_DERIVED   REPORT_ID_DERIVED  \\\n",
       "0      0052R000009j0S8QAI  163.244.182.15            NaN  00O6P000000VFNFUA4   \n",
       "1      0052R000009j0S8QAI  163.244.182.15            NaN  00O6P000000VFNFUA4   \n",
       "2      0052R000009Tn59QAC  132.237.171.36            NaN  00O6P000000ZMcoUAG   \n",
       "3      0052R000009Tn59QAC  132.237.171.36            NaN  00O6P000000ZMcoUAG   \n",
       "4      0052R000009Tn59QAC  132.237.171.34            NaN  00O6P000000ZMcoUAG   \n",
       "...                   ...             ...            ...                 ...   \n",
       "38321  0052R000009j1ljQAA  163.244.62.182            NaN  00O6P0000012jgSUAQ   \n",
       "38322  0052R000009j1ljQAA  163.244.62.182            NaN  00O6P0000012jgSUAQ   \n",
       "38323  0052R000009j1ljQAA  163.244.62.182            NaN  00O6P0000012jgSUAQ   \n",
       "38324  0052R000009j1ljQAA  163.244.62.182            NaN  00O6P0000012jgSUAQ   \n",
       "38325  0052R000009j1ljQAA  163.244.62.182            NaN  00O6P0000012jgSUAQ   \n",
       "\n",
       "                       ORIGIN  \n",
       "0      ReportRunFromLightning  \n",
       "1      ReportRunFromLightning  \n",
       "2      ReportRunFromLightning  \n",
       "3      ReportRunFromLightning  \n",
       "4      ReportRunFromLightning  \n",
       "...                       ...  \n",
       "38321  ReportRunFromLightning  \n",
       "38322  ReportRunFromLightning  \n",
       "38323  ReportRunFromLightning  \n",
       "38324  ReportRunFromLightning  \n",
       "38325  ReportRunFromLightning  \n",
       "\n",
       "[38326 rows x 49 columns]"
      ]
     },
     "execution_count": 16,
     "metadata": {},
     "output_type": "execute_result"
    }
   ],
   "source": [
    "pd.merge(left=reports, right=ltng_reports, left_on=\"Id\", right_on=\"REPORT_ID_DERIVED\")"
   ]
  },
  {
   "cell_type": "markdown",
   "metadata": {},
   "source": [
    "Building full reports."
   ]
  },
  {
   "cell_type": "code",
   "execution_count": 17,
   "metadata": {},
   "outputs": [],
   "source": [
    "ltng_full_reports = pd.merge(left=reports, right=ltng_reports, left_on=\"Id\", right_on=\"REPORT_ID_DERIVED\")"
   ]
  },
  {
   "cell_type": "code",
   "execution_count": 18,
   "metadata": {},
   "outputs": [
    {
     "data": {
      "text/plain": [
       "(38326, 49)"
      ]
     },
     "execution_count": 18,
     "metadata": {},
     "output_type": "execute_result"
    }
   ],
   "source": [
    "ltng_full_reports.shape"
   ]
  },
  {
   "cell_type": "markdown",
   "metadata": {},
   "source": [
    "Checking for missing values taking only the columns we will be using."
   ]
  },
  {
   "cell_type": "code",
   "execution_count": 19,
   "metadata": {},
   "outputs": [
    {
     "data": {
      "text/plain": [
       "(38285, 49)"
      ]
     },
     "execution_count": 19,
     "metadata": {},
     "output_type": "execute_result"
    }
   ],
   "source": [
    "# Remove missing values in any of the following columns \n",
    "ltng_full_reports.dropna(subset = ['LastRunDate', 'LastModifiedDate', 'ROW_COUNT']).shape"
   ]
  },
  {
   "cell_type": "markdown",
   "metadata": {},
   "source": [
    "As we can see, the original number of rows in our dataset has dropped (-41), which means that there were indeed missing values in some of these columns.\n",
    "\n",
    "So, let's update our dataframe."
   ]
  },
  {
   "cell_type": "code",
   "execution_count": 20,
   "metadata": {},
   "outputs": [],
   "source": [
    "ltng_full_reports = ltng_full_reports.dropna(subset = ['LastRunDate', 'LastModifiedDate', 'ROW_COUNT'])"
   ]
  },
  {
   "cell_type": "code",
   "execution_count": 21,
   "metadata": {},
   "outputs": [
    {
     "data": {
      "text/plain": [
       "(38285, 49)"
      ]
     },
     "execution_count": 21,
     "metadata": {},
     "output_type": "execute_result"
    }
   ],
   "source": [
    "ltng_full_reports.shape"
   ]
  },
  {
   "cell_type": "markdown",
   "metadata": {},
   "source": [
    "Now checking for available information about time execution or update."
   ]
  },
  {
   "cell_type": "code",
   "execution_count": 22,
   "metadata": {},
   "outputs": [
    {
     "data": {
      "text/plain": [
       "['CreatedDate',\n",
       " 'LastModifiedDate',\n",
       " 'LastReferencedDate',\n",
       " 'LastRunDate',\n",
       " 'LastViewedDate']"
      ]
     },
     "execution_count": 22,
     "metadata": {},
     "output_type": "execute_result"
    }
   ],
   "source": [
    "[col for col in list(ltng_full_reports.columns) if \"date\" in col.lower()]"
   ]
  },
  {
   "cell_type": "markdown",
   "metadata": {},
   "source": [
    "The `LastRunDate` column, in particular, tells us the date the report was last run."
   ]
  },
  {
   "cell_type": "markdown",
   "metadata": {},
   "source": [
    "## 3. Active Reports\n",
    "\n",
    "In order to define what are active reports we are going to use the `LastRunDate` information to fetch the reports that have been run in the last 180 days. Note that this time window is arbitrary and could be 365 instead. But let's set a range of 180 initially.\n",
    "\n",
    "Let's define a reference date and two different time windows to consider reports as active or inactive.\n",
    "\n",
    "- The reference date may be the most recent date in our sample.\n",
    "- Let's consider an interval of 180 days at first and then\n",
    "- another small interval of 30 days to filter out only the last updated ones."
   ]
  },
  {
   "cell_type": "markdown",
   "metadata": {},
   "source": [
    "### 3.1. Sorting by `LastRunDate`"
   ]
  },
  {
   "cell_type": "code",
   "execution_count": 23,
   "metadata": {},
   "outputs": [],
   "source": [
    "import datetime as dt"
   ]
  },
  {
   "cell_type": "code",
   "execution_count": 24,
   "metadata": {},
   "outputs": [],
   "source": [
    "ltng_full_reports = ltng_full_reports.sort_values('LastRunDate', ascending=False)"
   ]
  },
  {
   "cell_type": "code",
   "execution_count": 25,
   "metadata": {},
   "outputs": [
    {
     "data": {
      "text/html": [
       "<div>\n",
       "<style scoped>\n",
       "    .dataframe tbody tr th:only-of-type {\n",
       "        vertical-align: middle;\n",
       "    }\n",
       "\n",
       "    .dataframe tbody tr th {\n",
       "        vertical-align: top;\n",
       "    }\n",
       "\n",
       "    .dataframe thead th {\n",
       "        text-align: right;\n",
       "    }\n",
       "</style>\n",
       "<table border=\"1\" class=\"dataframe\">\n",
       "  <thead>\n",
       "    <tr style=\"text-align: right;\">\n",
       "      <th></th>\n",
       "      <th>Id</th>\n",
       "      <th>LastRunDate</th>\n",
       "    </tr>\n",
       "  </thead>\n",
       "  <tbody>\n",
       "    <tr>\n",
       "      <th>36573</th>\n",
       "      <td>00O2R000004F38wUAC</td>\n",
       "      <td>2022-06-20T02:07:25.000Z</td>\n",
       "    </tr>\n",
       "    <tr>\n",
       "      <th>36572</th>\n",
       "      <td>00O2R000004F38wUAC</td>\n",
       "      <td>2022-06-20T02:07:25.000Z</td>\n",
       "    </tr>\n",
       "    <tr>\n",
       "      <th>36571</th>\n",
       "      <td>00O2R000004F38wUAC</td>\n",
       "      <td>2022-06-20T02:07:25.000Z</td>\n",
       "    </tr>\n",
       "    <tr>\n",
       "      <th>36574</th>\n",
       "      <td>00O2R000003zUb9UAE</td>\n",
       "      <td>2022-06-20T02:07:23.000Z</td>\n",
       "    </tr>\n",
       "    <tr>\n",
       "      <th>34461</th>\n",
       "      <td>00O2R0000043lHKUAY</td>\n",
       "      <td>2022-06-20T02:07:19.000Z</td>\n",
       "    </tr>\n",
       "    <tr>\n",
       "      <th>...</th>\n",
       "      <td>...</td>\n",
       "      <td>...</td>\n",
       "    </tr>\n",
       "    <tr>\n",
       "      <th>33551</th>\n",
       "      <td>00O6P000000VEsrUAG</td>\n",
       "      <td>2022-06-04T10:16:12.000Z</td>\n",
       "    </tr>\n",
       "    <tr>\n",
       "      <th>33515</th>\n",
       "      <td>00O2R000004Ii1sUAC</td>\n",
       "      <td>2022-06-04T07:24:15.000Z</td>\n",
       "    </tr>\n",
       "    <tr>\n",
       "      <th>33514</th>\n",
       "      <td>00O2R000004Ii1sUAC</td>\n",
       "      <td>2022-06-04T07:24:15.000Z</td>\n",
       "    </tr>\n",
       "    <tr>\n",
       "      <th>33699</th>\n",
       "      <td>00O2R000003za0CUAQ</td>\n",
       "      <td>2022-06-04T05:38:26.000Z</td>\n",
       "    </tr>\n",
       "    <tr>\n",
       "      <th>33700</th>\n",
       "      <td>00O2R000003za0CUAQ</td>\n",
       "      <td>2022-06-04T05:38:26.000Z</td>\n",
       "    </tr>\n",
       "  </tbody>\n",
       "</table>\n",
       "<p>38285 rows × 2 columns</p>\n",
       "</div>"
      ],
      "text/plain": [
       "                       Id               LastRunDate\n",
       "36573  00O2R000004F38wUAC  2022-06-20T02:07:25.000Z\n",
       "36572  00O2R000004F38wUAC  2022-06-20T02:07:25.000Z\n",
       "36571  00O2R000004F38wUAC  2022-06-20T02:07:25.000Z\n",
       "36574  00O2R000003zUb9UAE  2022-06-20T02:07:23.000Z\n",
       "34461  00O2R0000043lHKUAY  2022-06-20T02:07:19.000Z\n",
       "...                   ...                       ...\n",
       "33551  00O6P000000VEsrUAG  2022-06-04T10:16:12.000Z\n",
       "33515  00O2R000004Ii1sUAC  2022-06-04T07:24:15.000Z\n",
       "33514  00O2R000004Ii1sUAC  2022-06-04T07:24:15.000Z\n",
       "33699  00O2R000003za0CUAQ  2022-06-04T05:38:26.000Z\n",
       "33700  00O2R000003za0CUAQ  2022-06-04T05:38:26.000Z\n",
       "\n",
       "[38285 rows x 2 columns]"
      ]
     },
     "execution_count": 25,
     "metadata": {},
     "output_type": "execute_result"
    }
   ],
   "source": [
    "ltng_full_reports[['Id', 'LastRunDate']]"
   ]
  },
  {
   "cell_type": "markdown",
   "metadata": {},
   "source": [
    "Converting to date object."
   ]
  },
  {
   "cell_type": "code",
   "execution_count": 26,
   "metadata": {},
   "outputs": [],
   "source": [
    "#dt.datetime.fromisoformat(ltng_full_reports.LastRunDate.iloc[0])\n",
    "# an error regarding to date format is raised but we can fix it as follows "
   ]
  },
  {
   "cell_type": "markdown",
   "metadata": {},
   "source": [
    "Remove training 'Z' without loss of useful information. (according to this reference)"
   ]
  },
  {
   "cell_type": "code",
   "execution_count": 27,
   "metadata": {},
   "outputs": [],
   "source": [
    "ltng_full_reports.LastRunDate = ltng_full_reports.LastRunDate.str[:-1]\n",
    "ltng_full_reports.LastModifiedDate = ltng_full_reports.LastModifiedDate.str[:-1]"
   ]
  },
  {
   "cell_type": "code",
   "execution_count": 28,
   "metadata": {},
   "outputs": [
    {
     "data": {
      "text/html": [
       "<div>\n",
       "<style scoped>\n",
       "    .dataframe tbody tr th:only-of-type {\n",
       "        vertical-align: middle;\n",
       "    }\n",
       "\n",
       "    .dataframe tbody tr th {\n",
       "        vertical-align: top;\n",
       "    }\n",
       "\n",
       "    .dataframe thead th {\n",
       "        text-align: right;\n",
       "    }\n",
       "</style>\n",
       "<table border=\"1\" class=\"dataframe\">\n",
       "  <thead>\n",
       "    <tr style=\"text-align: right;\">\n",
       "      <th></th>\n",
       "      <th>Id</th>\n",
       "      <th>LastRunDate</th>\n",
       "    </tr>\n",
       "  </thead>\n",
       "  <tbody>\n",
       "    <tr>\n",
       "      <th>36573</th>\n",
       "      <td>00O2R000004F38wUAC</td>\n",
       "      <td>2022-06-20T02:07:25.000</td>\n",
       "    </tr>\n",
       "    <tr>\n",
       "      <th>36572</th>\n",
       "      <td>00O2R000004F38wUAC</td>\n",
       "      <td>2022-06-20T02:07:25.000</td>\n",
       "    </tr>\n",
       "    <tr>\n",
       "      <th>36571</th>\n",
       "      <td>00O2R000004F38wUAC</td>\n",
       "      <td>2022-06-20T02:07:25.000</td>\n",
       "    </tr>\n",
       "    <tr>\n",
       "      <th>36574</th>\n",
       "      <td>00O2R000003zUb9UAE</td>\n",
       "      <td>2022-06-20T02:07:23.000</td>\n",
       "    </tr>\n",
       "    <tr>\n",
       "      <th>34461</th>\n",
       "      <td>00O2R0000043lHKUAY</td>\n",
       "      <td>2022-06-20T02:07:19.000</td>\n",
       "    </tr>\n",
       "    <tr>\n",
       "      <th>...</th>\n",
       "      <td>...</td>\n",
       "      <td>...</td>\n",
       "    </tr>\n",
       "    <tr>\n",
       "      <th>33551</th>\n",
       "      <td>00O6P000000VEsrUAG</td>\n",
       "      <td>2022-06-04T10:16:12.000</td>\n",
       "    </tr>\n",
       "    <tr>\n",
       "      <th>33515</th>\n",
       "      <td>00O2R000004Ii1sUAC</td>\n",
       "      <td>2022-06-04T07:24:15.000</td>\n",
       "    </tr>\n",
       "    <tr>\n",
       "      <th>33514</th>\n",
       "      <td>00O2R000004Ii1sUAC</td>\n",
       "      <td>2022-06-04T07:24:15.000</td>\n",
       "    </tr>\n",
       "    <tr>\n",
       "      <th>33699</th>\n",
       "      <td>00O2R000003za0CUAQ</td>\n",
       "      <td>2022-06-04T05:38:26.000</td>\n",
       "    </tr>\n",
       "    <tr>\n",
       "      <th>33700</th>\n",
       "      <td>00O2R000003za0CUAQ</td>\n",
       "      <td>2022-06-04T05:38:26.000</td>\n",
       "    </tr>\n",
       "  </tbody>\n",
       "</table>\n",
       "<p>38285 rows × 2 columns</p>\n",
       "</div>"
      ],
      "text/plain": [
       "                       Id              LastRunDate\n",
       "36573  00O2R000004F38wUAC  2022-06-20T02:07:25.000\n",
       "36572  00O2R000004F38wUAC  2022-06-20T02:07:25.000\n",
       "36571  00O2R000004F38wUAC  2022-06-20T02:07:25.000\n",
       "36574  00O2R000003zUb9UAE  2022-06-20T02:07:23.000\n",
       "34461  00O2R0000043lHKUAY  2022-06-20T02:07:19.000\n",
       "...                   ...                      ...\n",
       "33551  00O6P000000VEsrUAG  2022-06-04T10:16:12.000\n",
       "33515  00O2R000004Ii1sUAC  2022-06-04T07:24:15.000\n",
       "33514  00O2R000004Ii1sUAC  2022-06-04T07:24:15.000\n",
       "33699  00O2R000003za0CUAQ  2022-06-04T05:38:26.000\n",
       "33700  00O2R000003za0CUAQ  2022-06-04T05:38:26.000\n",
       "\n",
       "[38285 rows x 2 columns]"
      ]
     },
     "execution_count": 28,
     "metadata": {},
     "output_type": "execute_result"
    }
   ],
   "source": [
    "ltng_full_reports[['Id', 'LastRunDate']]"
   ]
  },
  {
   "cell_type": "code",
   "execution_count": 29,
   "metadata": {},
   "outputs": [
    {
     "data": {
      "text/plain": [
       "datetime.datetime(2022, 6, 20, 2, 7, 25)"
      ]
     },
     "execution_count": 29,
     "metadata": {},
     "output_type": "execute_result"
    }
   ],
   "source": [
    "dt.datetime.fromisoformat(ltng_full_reports.LastRunDate.iloc[0]) # Awesome! it works"
   ]
  },
  {
   "cell_type": "markdown",
   "metadata": {},
   "source": [
    "### 3.2. Setting a reference date"
   ]
  },
  {
   "cell_type": "markdown",
   "metadata": {},
   "source": [
    "Since the reports are sorted by `LastRunDate`, our reference date is the first row of the dataframe."
   ]
  },
  {
   "cell_type": "code",
   "execution_count": 30,
   "metadata": {},
   "outputs": [],
   "source": [
    "ref_date = dt.datetime.fromisoformat(ltng_full_reports.LastRunDate.iloc[0]).date()"
   ]
  },
  {
   "cell_type": "code",
   "execution_count": 31,
   "metadata": {},
   "outputs": [
    {
     "data": {
      "text/plain": [
       "datetime.date(2022, 6, 20)"
      ]
     },
     "execution_count": 31,
     "metadata": {},
     "output_type": "execute_result"
    }
   ],
   "source": [
    "ref_date"
   ]
  },
  {
   "cell_type": "markdown",
   "metadata": {},
   "source": [
    "### 3.3. Filtering active reports"
   ]
  },
  {
   "cell_type": "markdown",
   "metadata": {},
   "source": [
    "Writing a function to filter active reports."
   ]
  },
  {
   "cell_type": "code",
   "execution_count": 32,
   "metadata": {},
   "outputs": [],
   "source": [
    "def filter_active_reports(last_run_date):\n",
    "    timedelta = ref_date - dt.datetime.fromisoformat(last_run_date).date()\n",
    "    return timedelta.days <= 180"
   ]
  },
  {
   "cell_type": "markdown",
   "metadata": {},
   "source": [
    "Let's filter all reports that were run at least 180 days from this date."
   ]
  },
  {
   "cell_type": "code",
   "execution_count": 33,
   "metadata": {},
   "outputs": [
    {
     "data": {
      "text/plain": [
       "True    38285\n",
       "Name: LastRunDate, dtype: int64"
      ]
     },
     "execution_count": 33,
     "metadata": {},
     "output_type": "execute_result"
    }
   ],
   "source": [
    "ltng_full_reports.LastRunDate.apply(filter_active_reports).value_counts()"
   ]
  },
  {
   "cell_type": "markdown",
   "metadata": {},
   "source": [
    "All reports are active according to this time interval and this is because they are samples of recent data produced from the 4th to the 20th of June this year.\n",
    "\n",
    "In order to get the reports that have been modified, that is, they have been updated because the origin data has changed. We need to consider the modification date of these reports as well as verify that the data has been updated. For this we can use `LastModifiedDate` and `ROW_COUNT`, respectively. The row count tells us, when equal to zero, that the report was executed but no new information was generated.\n",
    "\n",
    "So let's take these new columns and define a new time window to consider active reports. A 30 days span.\n",
    "\n",
    "Rewriting our function."
   ]
  },
  {
   "cell_type": "code",
   "execution_count": 34,
   "metadata": {},
   "outputs": [],
   "source": [
    "def filter_active_reports(report):\n",
    "    timedelta1 = ref_date - dt.datetime.fromisoformat(report.LastRunDate).date()\n",
    "    if timedelta1.days > 180:\n",
    "        return False\n",
    "    timedelta2 = ref_date - dt.datetime.fromisoformat(report.LastModifiedDate).date()\n",
    "    if timedelta2.days > 30:\n",
    "        return False\n",
    "    return int(report.ROW_COUNT) > 0"
   ]
  },
  {
   "cell_type": "markdown",
   "metadata": {},
   "source": [
    "Creating a column to distinguish active/inactive reports."
   ]
  },
  {
   "cell_type": "code",
   "execution_count": 35,
   "metadata": {
    "scrolled": true
   },
   "outputs": [],
   "source": [
    "ltng_full_reports['IsActive'] = ltng_full_reports.apply(lambda r: filter_active_reports(r), axis=1)"
   ]
  },
  {
   "cell_type": "code",
   "execution_count": 36,
   "metadata": {},
   "outputs": [
    {
     "data": {
      "text/plain": [
       "False    31184\n",
       "True      7101\n",
       "Name: IsActive, dtype: int64"
      ]
     },
     "execution_count": 36,
     "metadata": {},
     "output_type": "execute_result"
    }
   ],
   "source": [
    "ltng_full_reports['IsActive'].value_counts()"
   ]
  },
  {
   "cell_type": "markdown",
   "metadata": {},
   "source": [
    "Making a plot."
   ]
  },
  {
   "cell_type": "code",
   "execution_count": 37,
   "metadata": {},
   "outputs": [],
   "source": [
    "import matplotlib.pyplot as plt\n",
    "\n",
    "report_status = ['Inactive', 'Active']\n",
    "plot_data = {report_status[stat] : cnt for stat, cnt in dict(ltng_full_reports['IsActive'].value_counts()).items()}"
   ]
  },
  {
   "cell_type": "code",
   "execution_count": 38,
   "metadata": {},
   "outputs": [
    {
     "data": {
      "image/png": "[encoded data removed]",
      "text/plain": [
       "<Figure size 432x288 with 1 Axes>"
      ]
     },
     "metadata": {
      "needs_background": "light"
     },
     "output_type": "display_data"
    }
   ],
   "source": [
    "plt.figure(figsize=(6,4))\n",
    "plt.bar(plot_data.keys(), plot_data.values(), color=['lightgrey', 'lightgreen'], width=0.5)\n",
    "plt.title('LastRunDate (30 days span + ROW_COUNT > 0)', fontsize=14)\n",
    "plt.xlabel('\\nStatus', fontsize=14)\n",
    "plt.ylabel('Reports\\n', fontsize=14)\n",
    "plt.grid(True, axis='y')\n",
    "plt.rc('axes', axisbelow=True)\n",
    "plt.box(on=None)\n",
    "plt.show()"
   ]
  },
  {
   "cell_type": "code",
   "execution_count": 39,
   "metadata": {},
   "outputs": [],
   "source": [
    "ltng_active_reports = ltng_full_reports[ltng_full_reports.IsActive]"
   ]
  },
  {
   "cell_type": "code",
   "execution_count": 40,
   "metadata": {},
   "outputs": [
    {
     "data": {
      "text/plain": [
       "(7101, 50)"
      ]
     },
     "execution_count": 40,
     "metadata": {},
     "output_type": "execute_result"
    }
   ],
   "source": [
    "ltng_active_reports.shape"
   ]
  },
  {
   "cell_type": "markdown",
   "metadata": {},
   "source": [
    "Storing a dataset with only active reports."
   ]
  },
  {
   "cell_type": "code",
   "execution_count": 41,
   "metadata": {},
   "outputs": [],
   "source": [
    "ltng_active_reports.to_csv(\"./datasets/active_reports.csv\", index=False)"
   ]
  }
 ],
 "metadata": {
  "kernelspec": {
   "display_name": "Python 3 (ipykernel)",
   "language": "python",
   "name": "python3"
  },
  "language_info": {
   "codemirror_mode": {
    "name": "ipython",
    "version": 3
   },
   "file_extension": ".py",
   "mimetype": "text/x-python",
   "name": "python",
   "nbconvert_exporter": "python",
   "pygments_lexer": "ipython3",
   "version": "3.10.4"
  }
 },
 "nbformat": 4,
 "nbformat_minor": 4
}
