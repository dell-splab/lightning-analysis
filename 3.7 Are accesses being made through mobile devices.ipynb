{
 "cells": [
  {
   "cell_type": "markdown",
   "id": "44ae8514",
   "metadata": {},
   "source": [
    "# Are accesses being made through mobile devices"
   ]
  },
  {
   "cell_type": "code",
   "execution_count": 1,
   "id": "e59d665f",
   "metadata": {},
   "outputs": [],
   "source": [
    "import pandas as pd"
   ]
  },
  {
   "cell_type": "markdown",
   "id": "7c7fd733",
   "metadata": {},
   "source": [
    "## Loading active reports"
   ]
  },
  {
   "cell_type": "code",
   "execution_count": 2,
   "id": "800f72f2",
   "metadata": {},
   "outputs": [],
   "source": [
    "active_reports = pd.read_csv(\"datasets/active_reports.csv\", low_memory=False)"
   ]
  },
  {
   "cell_type": "code",
   "execution_count": 3,
   "id": "a7de08f3",
   "metadata": {},
   "outputs": [
    {
     "data": {
      "text/plain": [
       "(38285, 51)"
      ]
     },
     "execution_count": 3,
     "metadata": {},
     "output_type": "execute_result"
    }
   ],
   "source": [
    "active_reports.shape"
   ]
  },
  {
   "cell_type": "markdown",
   "id": "709b5229",
   "metadata": {},
   "source": [
    "## Loading lightning performance"
   ]
  },
  {
   "cell_type": "code",
   "execution_count": 4,
   "id": "f61b2831",
   "metadata": {},
   "outputs": [],
   "source": [
    "lightning_performance = pd.read_csv(\"data/Salesforce/Salesforce/ELF/LightningPerformance/2022-06-04_LightningPerformance.csv\"\n",
    "                                    , low_memory=False)"
   ]
  },
  {
   "cell_type": "code",
   "execution_count": 5,
   "id": "8323e44d",
   "metadata": {},
   "outputs": [
    {
     "data": {
      "text/plain": [
       "['EVENT_TYPE',\n",
       " 'TIMESTAMP',\n",
       " 'REQUEST_ID',\n",
       " 'ORGANIZATION_ID',\n",
       " 'USER_ID',\n",
       " 'CLIENT_ID',\n",
       " 'SESSION_KEY',\n",
       " 'LOGIN_KEY',\n",
       " 'USER_TYPE',\n",
       " 'APP_NAME',\n",
       " 'DEVICE_PLATFORM',\n",
       " 'SDK_APP_VERSION',\n",
       " 'OS_NAME',\n",
       " 'OS_VERSION',\n",
       " 'USER_AGENT',\n",
       " 'BROWSER_NAME',\n",
       " 'BROWSER_VERSION',\n",
       " 'SDK_VERSION',\n",
       " 'DEVICE_MODEL',\n",
       " 'DEVICE_ID',\n",
       " 'SDK_APP_TYPE',\n",
       " 'CLIENT_GEO',\n",
       " 'CONNECTION_TYPE',\n",
       " 'UI_EVENT_ID',\n",
       " 'UI_EVENT_TYPE',\n",
       " 'UI_EVENT_SOURCE',\n",
       " 'UI_EVENT_TIMESTAMP',\n",
       " 'PAGE_START_TIME',\n",
       " 'DURATION',\n",
       " 'DEVICE_SESSION_ID',\n",
       " 'TIMESTAMP_DERIVED',\n",
       " 'USER_ID_DERIVED',\n",
       " 'CLIENT_IP']"
      ]
     },
     "execution_count": 5,
     "metadata": {},
     "output_type": "execute_result"
    }
   ],
   "source": [
    "list(lightning_performance.columns)"
   ]
  },
  {
   "cell_type": "markdown",
   "id": "a98f9bcd",
   "metadata": {},
   "source": [
    "## Merge active reports with lightning performance"
   ]
  },
  {
   "cell_type": "code",
   "execution_count": 6,
   "id": "e53b8add",
   "metadata": {},
   "outputs": [],
   "source": [
    "common_columns = ['USER_ID_DERIVED', 'SESSION_KEY', 'LOGIN_KEY', 'ORGANIZATION_ID', 'CLIENT_IP']"
   ]
  },
  {
   "cell_type": "code",
   "execution_count": 7,
   "id": "3042af36",
   "metadata": {},
   "outputs": [],
   "source": [
    "lightning_performance.drop(['EVENT_TYPE','TIMESTAMP','REQUEST_ID','USER_ID','USER_TYPE','TIMESTAMP_DERIVED']\n",
    "                           , inplace=True, axis=1)"
   ]
  },
  {
   "cell_type": "code",
   "execution_count": 8,
   "id": "99edec54",
   "metadata": {},
   "outputs": [],
   "source": [
    "ltng_full_reports_performance = pd.merge(left=active_reports, right=lightning_performance, on=common_columns)"
   ]
  },
  {
   "cell_type": "code",
   "execution_count": 9,
   "id": "ef842885",
   "metadata": {},
   "outputs": [
    {
     "data": {
      "text/plain": [
       "(7176291, 73)"
      ]
     },
     "execution_count": 9,
     "metadata": {},
     "output_type": "execute_result"
    }
   ],
   "source": [
    "ltng_full_reports_performance.shape"
   ]
  },
  {
   "cell_type": "code",
   "execution_count": 10,
   "id": "120aa60a",
   "metadata": {},
   "outputs": [
    {
     "data": {
      "text/plain": [
       "['CreatedById',\n",
       " 'CreatedDate',\n",
       " 'Description',\n",
       " 'DeveloperName',\n",
       " 'FolderName',\n",
       " 'Format',\n",
       " 'Id',\n",
       " 'IsDeleted',\n",
       " 'LastModifiedById',\n",
       " 'LastModifiedDate',\n",
       " 'LastReferencedDate',\n",
       " 'LastRunDate',\n",
       " 'LastViewedDate',\n",
       " 'Name',\n",
       " 'NamespacePrefix',\n",
       " 'OwnerId',\n",
       " 'ReportTypeApiName',\n",
       " 'SystemModstamp',\n",
       " 'EVENT_TYPE',\n",
       " 'TIMESTAMP',\n",
       " 'REQUEST_ID',\n",
       " 'ORGANIZATION_ID',\n",
       " 'USER_ID',\n",
       " 'RUN_TIME',\n",
       " 'CPU_TIME',\n",
       " 'URI',\n",
       " 'SESSION_KEY',\n",
       " 'LOGIN_KEY',\n",
       " 'USER_TYPE',\n",
       " 'REQUEST_STATUS',\n",
       " 'DB_TOTAL_TIME',\n",
       " 'ENTITY_NAME',\n",
       " 'DISPLAY_TYPE',\n",
       " 'RENDERING_TYPE',\n",
       " 'REPORT_ID',\n",
       " 'ROW_COUNT',\n",
       " 'NUMBER_EXCEPTION_FILTERS',\n",
       " 'NUMBER_COLUMNS',\n",
       " 'AVERAGE_ROW_SIZE',\n",
       " 'SORT',\n",
       " 'DB_BLOCKS',\n",
       " 'DB_CPU_TIME',\n",
       " 'NUMBER_BUCKETS',\n",
       " 'TIMESTAMP_DERIVED',\n",
       " 'USER_ID_DERIVED',\n",
       " 'CLIENT_IP',\n",
       " 'URI_ID_DERIVED',\n",
       " 'REPORT_ID_DERIVED',\n",
       " 'ORIGIN',\n",
       " 'IsActiveSinceCreation',\n",
       " 'IsActiveSinceLastModification',\n",
       " 'CLIENT_ID',\n",
       " 'APP_NAME',\n",
       " 'DEVICE_PLATFORM',\n",
       " 'SDK_APP_VERSION',\n",
       " 'OS_NAME',\n",
       " 'OS_VERSION',\n",
       " 'USER_AGENT',\n",
       " 'BROWSER_NAME',\n",
       " 'BROWSER_VERSION',\n",
       " 'SDK_VERSION',\n",
       " 'DEVICE_MODEL',\n",
       " 'DEVICE_ID',\n",
       " 'SDK_APP_TYPE',\n",
       " 'CLIENT_GEO',\n",
       " 'CONNECTION_TYPE',\n",
       " 'UI_EVENT_ID',\n",
       " 'UI_EVENT_TYPE',\n",
       " 'UI_EVENT_SOURCE',\n",
       " 'UI_EVENT_TIMESTAMP',\n",
       " 'PAGE_START_TIME',\n",
       " 'DURATION',\n",
       " 'DEVICE_SESSION_ID']"
      ]
     },
     "execution_count": 10,
     "metadata": {},
     "output_type": "execute_result"
    }
   ],
   "source": [
    "list(ltng_full_reports_performance.columns)"
   ]
  },
  {
   "cell_type": "code",
   "execution_count": 11,
   "id": "d811576d",
   "metadata": {},
   "outputs": [
    {
     "data": {
      "text/plain": [
       "array([nan], dtype=object)"
      ]
     },
     "execution_count": 11,
     "metadata": {},
     "output_type": "execute_result"
    }
   ],
   "source": [
    "ltng_full_reports_performance['DEVICE_MODEL'].unique()"
   ]
  },
  {
   "cell_type": "markdown",
   "id": "a794cca4",
   "metadata": {},
   "source": [
    "## Problematic reports"
   ]
  },
  {
   "cell_type": "code",
   "execution_count": 12,
   "id": "9c3975a9",
   "metadata": {},
   "outputs": [],
   "source": [
    "threshold = 120000"
   ]
  },
  {
   "cell_type": "code",
   "execution_count": 13,
   "id": "c604f9b3",
   "metadata": {},
   "outputs": [],
   "source": [
    "ltng_full_reports_performance  = ltng_full_reports_performance[ltng_full_reports_performance.DURATION >= threshold]"
   ]
  },
  {
   "cell_type": "code",
   "execution_count": 14,
   "id": "0509fe8b",
   "metadata": {},
   "outputs": [
    {
     "data": {
      "text/plain": [
       "(86196, 73)"
      ]
     },
     "execution_count": 14,
     "metadata": {},
     "output_type": "execute_result"
    }
   ],
   "source": [
    "ltng_full_reports_performance.shape"
   ]
  },
  {
   "cell_type": "markdown",
   "id": "629e3ec6",
   "metadata": {},
   "source": [
    "### Analyzing ***Device_Model***"
   ]
  },
  {
   "cell_type": "code",
   "execution_count": 15,
   "id": "56c3dec5",
   "metadata": {},
   "outputs": [],
   "source": [
    "interest_columns = ['DEVICE_ID', 'DEVICE_MODEL']"
   ]
  },
  {
   "cell_type": "code",
   "execution_count": 16,
   "id": "11fd0b3c",
   "metadata": {},
   "outputs": [],
   "source": [
    "ltng_full_reports_performance_simplified = ltng_full_reports_performance[interest_columns]"
   ]
  },
  {
   "cell_type": "code",
   "execution_count": 17,
   "id": "065cea8f",
   "metadata": {},
   "outputs": [
    {
     "data": {
      "text/plain": [
       "(86196, 2)"
      ]
     },
     "execution_count": 17,
     "metadata": {},
     "output_type": "execute_result"
    }
   ],
   "source": [
    "ltng_full_reports_performance_simplified.shape"
   ]
  },
  {
   "cell_type": "code",
   "execution_count": 18,
   "id": "d55f0f43",
   "metadata": {},
   "outputs": [
    {
     "data": {
      "text/plain": [
       "array([nan], dtype=object)"
      ]
     },
     "execution_count": 18,
     "metadata": {},
     "output_type": "execute_result"
    }
   ],
   "source": [
    "ltng_full_reports_performance_simplified['DEVICE_MODEL'].unique()"
   ]
  }
 ],
 "metadata": {
  "kernelspec": {
   "display_name": "Python 3 (ipykernel)",
   "language": "python",
   "name": "python3"
  },
  "language_info": {
   "codemirror_mode": {
    "name": "ipython",
    "version": 3
   },
   "file_extension": ".py",
   "mimetype": "text/x-python",
   "name": "python",
   "nbconvert_exporter": "python",
   "pygments_lexer": "ipython3",
   "version": "3.9.12"
  }
 },
 "nbformat": 4,
 "nbformat_minor": 5
}
