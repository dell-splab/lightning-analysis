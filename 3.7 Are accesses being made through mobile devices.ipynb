{
 "cells": [
  {
   "cell_type": "markdown",
   "id": "44ae8514",
   "metadata": {},
   "source": [
    "# Are accesses being made through mobile devices"
   ]
  },
  {
   "cell_type": "code",
   "execution_count": 1,
   "id": "e59d665f",
   "metadata": {},
   "outputs": [],
   "source": [
    "import pandas as pd"
   ]
  },
  {
   "cell_type": "markdown",
   "id": "7c7fd733",
   "metadata": {},
   "source": [
    "## Loading active reports"
   ]
  },
  {
   "cell_type": "code",
   "execution_count": 2,
   "id": "800f72f2",
   "metadata": {},
   "outputs": [],
   "source": [
    "active_reports = pd.read_csv(\"datasets/active_reports.csv\", low_memory=False)"
   ]
  },
  {
   "cell_type": "code",
   "execution_count": 3,
   "id": "a7de08f3",
   "metadata": {},
   "outputs": [
    {
     "data": {
      "text/plain": [
       "(38285, 51)"
      ]
     },
     "execution_count": 3,
     "metadata": {},
     "output_type": "execute_result"
    }
   ],
   "source": [
    "active_reports.shape"
   ]
  },
  {
   "cell_type": "markdown",
   "id": "709b5229",
   "metadata": {},
   "source": [
    "## Loading lightning performance"
   ]
  },
  {
   "cell_type": "code",
   "execution_count": 4,
   "id": "f61b2831",
   "metadata": {},
   "outputs": [],
   "source": [
    "lightning_performance = pd.read_csv(\"data/Salesforce/Salesforce/ELF/LightningPerformance/2022-06-04_LightningPerformance.csv\"\n",
    "                                    , low_memory=False)"
   ]
  },
  {
   "cell_type": "code",
   "execution_count": 5,
   "id": "8323e44d",
   "metadata": {},
   "outputs": [
    {
     "data": {
      "text/plain": [
       "['EVENT_TYPE',\n",
       " 'TIMESTAMP',\n",
       " 'REQUEST_ID',\n",
       " 'ORGANIZATION_ID',\n",
       " 'USER_ID',\n",
       " 'CLIENT_ID',\n",
       " 'SESSION_KEY',\n",
       " 'LOGIN_KEY',\n",
       " 'USER_TYPE',\n",
       " 'APP_NAME',\n",
       " 'DEVICE_PLATFORM',\n",
       " 'SDK_APP_VERSION',\n",
       " 'OS_NAME',\n",
       " 'OS_VERSION',\n",
       " 'USER_AGENT',\n",
       " 'BROWSER_NAME',\n",
       " 'BROWSER_VERSION',\n",
       " 'SDK_VERSION',\n",
       " 'DEVICE_MODEL',\n",
       " 'DEVICE_ID',\n",
       " 'SDK_APP_TYPE',\n",
       " 'CLIENT_GEO',\n",
       " 'CONNECTION_TYPE',\n",
       " 'UI_EVENT_ID',\n",
       " 'UI_EVENT_TYPE',\n",
       " 'UI_EVENT_SOURCE',\n",
       " 'UI_EVENT_TIMESTAMP',\n",
       " 'PAGE_START_TIME',\n",
       " 'DURATION',\n",
       " 'DEVICE_SESSION_ID',\n",
       " 'TIMESTAMP_DERIVED',\n",
       " 'USER_ID_DERIVED',\n",
       " 'CLIENT_IP']"
      ]
     },
     "execution_count": 5,
     "metadata": {},
     "output_type": "execute_result"
    }
   ],
   "source": [
    "list(lightning_performance.columns)"
   ]
  },
  {
   "cell_type": "markdown",
   "id": "a98f9bcd",
   "metadata": {},
   "source": [
    "## Merge active reports with lightning performance"
   ]
  },
  {
   "cell_type": "code",
   "execution_count": 6,
   "id": "e53b8add",
   "metadata": {},
   "outputs": [],
   "source": [
    "common_columns = ['USER_ID_DERIVED', 'SESSION_KEY', 'LOGIN_KEY', 'ORGANIZATION_ID', 'CLIENT_IP']"
   ]
  },
  {
   "cell_type": "code",
   "execution_count": 7,
   "id": "3042af36",
   "metadata": {},
   "outputs": [],
   "source": [
    "lightning_performance.drop(['EVENT_TYPE','TIMESTAMP','REQUEST_ID','USER_ID','USER_TYPE','TIMESTAMP_DERIVED']\n",
    "                           , inplace=True, axis=1)"
   ]
  },
  {
   "cell_type": "code",
   "execution_count": 8,
   "id": "99edec54",
   "metadata": {},
   "outputs": [],
   "source": [
    "ltng_full_reports_performance = pd.merge(left=active_reports, right=lightning_performance, on=common_columns)"
   ]
  },
  {
   "cell_type": "code",
   "execution_count": 9,
   "id": "ef842885",
   "metadata": {},
   "outputs": [
    {
     "data": {
      "text/plain": [
       "(7176291, 73)"
      ]
     },
     "execution_count": 9,
     "metadata": {},
     "output_type": "execute_result"
    }
   ],
   "source": [
    "ltng_full_reports_performance.shape"
   ]
  },
  {
   "cell_type": "code",
   "execution_count": 10,
   "id": "120aa60a",
   "metadata": {},
   "outputs": [
    {
     "data": {
      "text/plain": [
       "['CreatedById',\n",
       " 'CreatedDate',\n",
       " 'Description',\n",
       " 'DeveloperName',\n",
       " 'FolderName',\n",
       " 'Format',\n",
       " 'Id',\n",
       " 'IsDeleted',\n",
       " 'LastModifiedById',\n",
       " 'LastModifiedDate',\n",
       " 'LastReferencedDate',\n",
       " 'LastRunDate',\n",
       " 'LastViewedDate',\n",
       " 'Name',\n",
       " 'NamespacePrefix',\n",
       " 'OwnerId',\n",
       " 'ReportTypeApiName',\n",
       " 'SystemModstamp',\n",
       " 'EVENT_TYPE',\n",
       " 'TIMESTAMP',\n",
       " 'REQUEST_ID',\n",
       " 'ORGANIZATION_ID',\n",
       " 'USER_ID',\n",
       " 'RUN_TIME',\n",
       " 'CPU_TIME',\n",
       " 'URI',\n",
       " 'SESSION_KEY',\n",
       " 'LOGIN_KEY',\n",
       " 'USER_TYPE',\n",
       " 'REQUEST_STATUS',\n",
       " 'DB_TOTAL_TIME',\n",
       " 'ENTITY_NAME',\n",
       " 'DISPLAY_TYPE',\n",
       " 'RENDERING_TYPE',\n",
       " 'REPORT_ID',\n",
       " 'ROW_COUNT',\n",
       " 'NUMBER_EXCEPTION_FILTERS',\n",
       " 'NUMBER_COLUMNS',\n",
       " 'AVERAGE_ROW_SIZE',\n",
       " 'SORT',\n",
       " 'DB_BLOCKS',\n",
       " 'DB_CPU_TIME',\n",
       " 'NUMBER_BUCKETS',\n",
       " 'TIMESTAMP_DERIVED',\n",
       " 'USER_ID_DERIVED',\n",
       " 'CLIENT_IP',\n",
       " 'URI_ID_DERIVED',\n",
       " 'REPORT_ID_DERIVED',\n",
       " 'ORIGIN',\n",
       " 'IsActiveSinceCreation',\n",
       " 'IsActiveSinceLastModification',\n",
       " 'CLIENT_ID',\n",
       " 'APP_NAME',\n",
       " 'DEVICE_PLATFORM',\n",
       " 'SDK_APP_VERSION',\n",
       " 'OS_NAME',\n",
       " 'OS_VERSION',\n",
       " 'USER_AGENT',\n",
       " 'BROWSER_NAME',\n",
       " 'BROWSER_VERSION',\n",
       " 'SDK_VERSION',\n",
       " 'DEVICE_MODEL',\n",
       " 'DEVICE_ID',\n",
       " 'SDK_APP_TYPE',\n",
       " 'CLIENT_GEO',\n",
       " 'CONNECTION_TYPE',\n",
       " 'UI_EVENT_ID',\n",
       " 'UI_EVENT_TYPE',\n",
       " 'UI_EVENT_SOURCE',\n",
       " 'UI_EVENT_TIMESTAMP',\n",
       " 'PAGE_START_TIME',\n",
       " 'DURATION',\n",
       " 'DEVICE_SESSION_ID']"
      ]
     },
     "execution_count": 10,
     "metadata": {},
     "output_type": "execute_result"
    }
   ],
   "source": [
    "list(ltng_full_reports_performance.columns)"
   ]
  },
  {
   "cell_type": "code",
   "execution_count": 11,
   "id": "d811576d",
   "metadata": {},
   "outputs": [
    {
     "data": {
      "text/plain": [
       "array([nan], dtype=object)"
      ]
     },
     "execution_count": 11,
     "metadata": {},
     "output_type": "execute_result"
    }
   ],
   "source": [
    "ltng_full_reports_performance['DEVICE_MODEL'].unique()"
   ]
  },
  {
   "cell_type": "markdown",
   "id": "a794cca4",
   "metadata": {},
   "source": [
    "## Problematic reports"
   ]
  },
  {
   "cell_type": "code",
   "execution_count": 12,
   "id": "9c3975a9",
   "metadata": {},
   "outputs": [],
   "source": [
    "threshold = 120000"
   ]
  },
  {
   "cell_type": "code",
   "execution_count": 13,
   "id": "c604f9b3",
   "metadata": {},
   "outputs": [],
   "source": [
    "ltng_full_reports_performance  = ltng_full_reports_performance[ltng_full_reports_performance.DURATION >= threshold]"
   ]
  },
  {
   "cell_type": "code",
   "execution_count": 14,
   "id": "0509fe8b",
   "metadata": {},
   "outputs": [
    {
     "data": {
      "text/plain": [
       "(86196, 73)"
      ]
     },
     "execution_count": 14,
     "metadata": {},
     "output_type": "execute_result"
    }
   ],
   "source": [
    "ltng_full_reports_performance.shape"
   ]
  },
  {
   "cell_type": "markdown",
   "id": "629e3ec6",
   "metadata": {},
   "source": [
    "### Analyzing ***Device_Model***"
   ]
  },
  {
   "cell_type": "code",
   "execution_count": 15,
   "id": "56c3dec5",
   "metadata": {},
   "outputs": [],
   "source": [
    "interest_columns = ['DEVICE_ID', 'DEVICE_MODEL']"
   ]
  },
  {
   "cell_type": "code",
   "execution_count": 16,
   "id": "11fd0b3c",
   "metadata": {},
   "outputs": [],
   "source": [
    "ltng_full_reports_performance_simplified = ltng_full_reports_performance[interest_columns]"
   ]
  },
  {
   "cell_type": "code",
   "execution_count": 17,
   "id": "065cea8f",
   "metadata": {},
   "outputs": [
    {
     "data": {
      "text/plain": [
       "(86196, 2)"
      ]
     },
     "execution_count": 17,
     "metadata": {},
     "output_type": "execute_result"
    }
   ],
   "source": [
    "ltng_full_reports_performance_simplified.shape"
   ]
  },
  {
   "cell_type": "code",
   "execution_count": 18,
   "id": "d55f0f43",
   "metadata": {},
   "outputs": [
    {
     "data": {
      "text/plain": [
       "array([nan], dtype=object)"
      ]
     },
     "execution_count": 18,
     "metadata": {},
     "output_type": "execute_result"
    }
   ],
   "source": [
    "ltng_full_reports_performance_simplified['DEVICE_MODEL'].unique()"
   ]
  },
  {
   "cell_type": "markdown",
   "id": "85f40163",
   "metadata": {},
   "source": [
    "Data don't have enough information/diversity to analyze after the merging between active reports and lightning performance"
   ]
  },
  {
   "cell_type": "markdown",
   "id": "f6ab4678",
   "metadata": {},
   "source": [
    "### Analyzing ***Device_Model*** for Lightning Performance Logs"
   ]
  },
  {
   "cell_type": "code",
   "execution_count": 73,
   "id": "5687952f",
   "metadata": {},
   "outputs": [
    {
     "data": {
      "text/plain": [
       "array([nan, 'SM-G990U', 'iPhone10,4', 'SM-G970F', 'iPhone13,2',\n",
       "       'SM-G781U', 'iPhone12,8', 'SM-G970U'], dtype=object)"
      ]
     },
     "execution_count": 73,
     "metadata": {},
     "output_type": "execute_result"
    }
   ],
   "source": [
    "lightning_performance['DEVICE_MODEL'].unique()"
   ]
  },
  {
   "cell_type": "code",
   "execution_count": 74,
   "id": "b9f992ca",
   "metadata": {},
   "outputs": [
    {
     "data": {
      "text/plain": [
       "(3115690, 27)"
      ]
     },
     "execution_count": 74,
     "metadata": {},
     "output_type": "execute_result"
    }
   ],
   "source": [
    "lightning_performance.shape"
   ]
  },
  {
   "cell_type": "code",
   "execution_count": 75,
   "id": "4dddc066",
   "metadata": {},
   "outputs": [],
   "source": [
    "lightning_performance_problematic = lightning_performance[lightning_performance.DURATION >= threshold]"
   ]
  },
  {
   "cell_type": "code",
   "execution_count": 76,
   "id": "ca1ac9a1",
   "metadata": {},
   "outputs": [
    {
     "data": {
      "text/plain": [
       "array([nan, 'SM-G990U', 'iPhone13,2', 'SM-G781U'], dtype=object)"
      ]
     },
     "execution_count": 76,
     "metadata": {},
     "output_type": "execute_result"
    }
   ],
   "source": [
    "lightning_performance_problematic['DEVICE_MODEL'].unique()"
   ]
  },
  {
   "cell_type": "code",
   "execution_count": 77,
   "id": "780e5fad",
   "metadata": {},
   "outputs": [
    {
     "data": {
      "text/plain": [
       "(35939, 27)"
      ]
     },
     "execution_count": 77,
     "metadata": {},
     "output_type": "execute_result"
    }
   ],
   "source": [
    "lightning_performance_problematic.shape"
   ]
  },
  {
   "cell_type": "code",
   "execution_count": 78,
   "id": "109c3b94",
   "metadata": {},
   "outputs": [],
   "source": [
    "lightning_performance_simplified = lightning_performance[interest_columns]"
   ]
  },
  {
   "cell_type": "code",
   "execution_count": 79,
   "id": "aa8b4e19",
   "metadata": {},
   "outputs": [],
   "source": [
    "lightning_performance_simplified = lightning_performance_simplified.dropna(subset=['DEVICE_MODEL'])"
   ]
  },
  {
   "cell_type": "code",
   "execution_count": 80,
   "id": "0e073e80",
   "metadata": {},
   "outputs": [
    {
     "data": {
      "text/plain": [
       "(1014, 2)"
      ]
     },
     "execution_count": 80,
     "metadata": {},
     "output_type": "execute_result"
    }
   ],
   "source": [
    "lightning_performance_simplified.shape"
   ]
  },
  {
   "cell_type": "code",
   "execution_count": 81,
   "id": "2bccd047",
   "metadata": {},
   "outputs": [
    {
     "data": {
      "text/html": [
       "<div>\n",
       "<style scoped>\n",
       "    .dataframe tbody tr th:only-of-type {\n",
       "        vertical-align: middle;\n",
       "    }\n",
       "\n",
       "    .dataframe tbody tr th {\n",
       "        vertical-align: top;\n",
       "    }\n",
       "\n",
       "    .dataframe thead th {\n",
       "        text-align: right;\n",
       "    }\n",
       "</style>\n",
       "<table border=\"1\" class=\"dataframe\">\n",
       "  <thead>\n",
       "    <tr style=\"text-align: right;\">\n",
       "      <th></th>\n",
       "      <th>DEVICE_ID</th>\n",
       "      <th>DEVICE_MODEL</th>\n",
       "    </tr>\n",
       "  </thead>\n",
       "  <tbody>\n",
       "    <tr>\n",
       "      <th>73694</th>\n",
       "      <td>5579cb7e1b31a9cd</td>\n",
       "      <td>SM-G990U</td>\n",
       "    </tr>\n",
       "    <tr>\n",
       "      <th>73695</th>\n",
       "      <td>5579cb7e1b31a9cd</td>\n",
       "      <td>SM-G990U</td>\n",
       "    </tr>\n",
       "    <tr>\n",
       "      <th>73696</th>\n",
       "      <td>5579cb7e1b31a9cd</td>\n",
       "      <td>SM-G990U</td>\n",
       "    </tr>\n",
       "    <tr>\n",
       "      <th>73697</th>\n",
       "      <td>5579cb7e1b31a9cd</td>\n",
       "      <td>SM-G990U</td>\n",
       "    </tr>\n",
       "    <tr>\n",
       "      <th>73702</th>\n",
       "      <td>5579cb7e1b31a9cd</td>\n",
       "      <td>SM-G990U</td>\n",
       "    </tr>\n",
       "  </tbody>\n",
       "</table>\n",
       "</div>"
      ],
      "text/plain": [
       "              DEVICE_ID DEVICE_MODEL\n",
       "73694  5579cb7e1b31a9cd     SM-G990U\n",
       "73695  5579cb7e1b31a9cd     SM-G990U\n",
       "73696  5579cb7e1b31a9cd     SM-G990U\n",
       "73697  5579cb7e1b31a9cd     SM-G990U\n",
       "73702  5579cb7e1b31a9cd     SM-G990U"
      ]
     },
     "execution_count": 81,
     "metadata": {},
     "output_type": "execute_result"
    }
   ],
   "source": [
    "lightning_performance_simplified.head()"
   ]
  },
  {
   "cell_type": "code",
   "execution_count": 82,
   "id": "eafbaa43",
   "metadata": {},
   "outputs": [],
   "source": [
    "lightning_performance_simplified_group = lightning_performance_simplified.groupby(['DEVICE_MODEL']).agg({\n",
    "    'DEVICE_ID': 'count'})"
   ]
  },
  {
   "cell_type": "code",
   "execution_count": 83,
   "id": "8189f6fb",
   "metadata": {},
   "outputs": [],
   "source": [
    "lightning_performance_simplified_group.reset_index(inplace=True)"
   ]
  },
  {
   "cell_type": "code",
   "execution_count": 84,
   "id": "56d2331d",
   "metadata": {},
   "outputs": [],
   "source": [
    "lightning_performance_simplified_group.rename(columns={'DEVICE_ID': 'COUNT'}, inplace = True)"
   ]
  },
  {
   "cell_type": "code",
   "execution_count": 85,
   "id": "2f327ab2",
   "metadata": {},
   "outputs": [
    {
     "data": {
      "text/html": [
       "<div>\n",
       "<style scoped>\n",
       "    .dataframe tbody tr th:only-of-type {\n",
       "        vertical-align: middle;\n",
       "    }\n",
       "\n",
       "    .dataframe tbody tr th {\n",
       "        vertical-align: top;\n",
       "    }\n",
       "\n",
       "    .dataframe thead th {\n",
       "        text-align: right;\n",
       "    }\n",
       "</style>\n",
       "<table border=\"1\" class=\"dataframe\">\n",
       "  <thead>\n",
       "    <tr style=\"text-align: right;\">\n",
       "      <th></th>\n",
       "      <th>DEVICE_MODEL</th>\n",
       "      <th>COUNT</th>\n",
       "    </tr>\n",
       "  </thead>\n",
       "  <tbody>\n",
       "    <tr>\n",
       "      <th>0</th>\n",
       "      <td>SM-G781U</td>\n",
       "      <td>323</td>\n",
       "    </tr>\n",
       "    <tr>\n",
       "      <th>1</th>\n",
       "      <td>SM-G970F</td>\n",
       "      <td>7</td>\n",
       "    </tr>\n",
       "    <tr>\n",
       "      <th>2</th>\n",
       "      <td>SM-G970U</td>\n",
       "      <td>20</td>\n",
       "    </tr>\n",
       "    <tr>\n",
       "      <th>3</th>\n",
       "      <td>SM-G990U</td>\n",
       "      <td>564</td>\n",
       "    </tr>\n",
       "    <tr>\n",
       "      <th>4</th>\n",
       "      <td>iPhone10,4</td>\n",
       "      <td>6</td>\n",
       "    </tr>\n",
       "    <tr>\n",
       "      <th>5</th>\n",
       "      <td>iPhone12,8</td>\n",
       "      <td>74</td>\n",
       "    </tr>\n",
       "    <tr>\n",
       "      <th>6</th>\n",
       "      <td>iPhone13,2</td>\n",
       "      <td>20</td>\n",
       "    </tr>\n",
       "  </tbody>\n",
       "</table>\n",
       "</div>"
      ],
      "text/plain": [
       "  DEVICE_MODEL  COUNT\n",
       "0     SM-G781U    323\n",
       "1     SM-G970F      7\n",
       "2     SM-G970U     20\n",
       "3     SM-G990U    564\n",
       "4   iPhone10,4      6\n",
       "5   iPhone12,8     74\n",
       "6   iPhone13,2     20"
      ]
     },
     "execution_count": 85,
     "metadata": {},
     "output_type": "execute_result"
    }
   ],
   "source": [
    "lightning_performance_simplified_group"
   ]
  },
  {
   "cell_type": "code",
   "execution_count": 86,
   "id": "3a4fef0a",
   "metadata": {},
   "outputs": [
    {
     "data": {
      "image/png": "[encoded data removed]",
      "text/plain": [
       "<Figure size 864x576 with 1 Axes>"
      ]
     },
     "metadata": {},
     "output_type": "display_data"
    }
   ],
   "source": [
    "#Viewing the data\n",
    "\n",
    "list_device_model = lightning_performance_simplified_group['DEVICE_MODEL'].tolist()\n",
    "list_count = lightning_performance_simplified_group['COUNT'].tolist()\n",
    "\n",
    "import numpy as np \n",
    "import matplotlib.pyplot as plt \n",
    "\n",
    "explode = (0.1, 0.0, 0.1, 0.0, 0.1, 0.0, 0.1) \n",
    "cmap = plt.get_cmap(\"tab20c\")\n",
    "outer_colors = cmap(np.arange(len(list_device_model))*3)\n",
    "wp = { 'linewidth' : 1, 'edgecolor' : \"white\" } \n",
    "def func(pct, allvalues): \n",
    "    absolute = int(pct / 100.*np.sum(allvalues)) \n",
    "    return \"{:.1f}%\\n({:d} g)\".format(pct, absolute)\n",
    "fig, ax = plt.subplots(figsize =(12, 8))\n",
    "\n",
    "wedges, texts, autotexts = ax.pie(list_count,  \n",
    "                                  autopct = lambda pct: func(pct, list_count), \n",
    "                                  explode = explode,  \n",
    "                                  shadow = True, \n",
    "                                  colors = outer_colors, \n",
    "                                  startangle = 90, \n",
    "                                  wedgeprops = wp, \n",
    "                                  textprops = dict(color =\"black\")) \n",
    "\n",
    "ax.legend(wedges, list_device_model, \n",
    "          title =\"DEVICE_MODEL\", \n",
    "          loc =\"center left\", \n",
    "          bbox_to_anchor =(1, 0, 0.5, 1)) \n",
    "  \n",
    "plt.setp(autotexts, size = 8, weight =\"bold\") \n",
    "ax.set_title(\"Number of each device model\") \n",
    "plt.show()"
   ]
  }
 ],
 "metadata": {
  "kernelspec": {
   "display_name": "Python 3 (ipykernel)",
   "language": "python",
   "name": "python3"
  },
  "language_info": {
   "codemirror_mode": {
    "name": "ipython",
    "version": 3
   },
   "file_extension": ".py",
   "mimetype": "text/x-python",
   "name": "python",
   "nbconvert_exporter": "python",
   "pygments_lexer": "ipython3",
   "version": "3.9.12"
  }
 },
 "nbformat": 4,
 "nbformat_minor": 5
}
