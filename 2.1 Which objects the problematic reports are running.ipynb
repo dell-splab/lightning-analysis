{
 "cells": [
  {
   "cell_type": "code",
   "execution_count": 3,
   "id": "d3549ac3",
   "metadata": {},
   "outputs": [],
   "source": [
    "import os\n",
    "import pandas as pd"
   ]
  },
  {
   "cell_type": "code",
   "execution_count": 6,
   "id": "ca09203a",
   "metadata": {},
   "outputs": [
    {
     "data": {
      "text/plain": [
       "['LightningError',\n",
       " 'LightningInteraction',\n",
       " 'LightningPageView',\n",
       " 'LightningPerformance',\n",
       " 'Report',\n",
       " 'User_all_sample.csv']"
      ]
     },
     "execution_count": 6,
     "metadata": {},
     "output_type": "execute_result"
    }
   ],
   "source": [
    "os.listdir(\"data/Salesforce/ELF\")"
   ]
  },
  {
   "cell_type": "markdown",
   "id": "e304444d",
   "metadata": {},
   "source": [
    "## Loading Reports"
   ]
  },
  {
   "cell_type": "code",
   "execution_count": 8,
   "id": "b0bca187",
   "metadata": {},
   "outputs": [],
   "source": [
    "reports = pd.read_csv(\"data/Salesforce/ELF/Report/2022-06-20_Report.csv\")"
   ]
  },
  {
   "cell_type": "code",
   "execution_count": 21,
   "id": "9f20f275",
   "metadata": {},
   "outputs": [],
   "source": [
    "reports = reports[reports.RUN_TIME >= 120000]"
   ]
  },
  {
   "cell_type": "code",
   "execution_count": 24,
   "id": "1f0e5bb4",
   "metadata": {},
   "outputs": [
    {
     "data": {
      "text/plain": [
       "<AxesSubplot:xlabel='DISPLAY_TYPE'>"
      ]
     },
     "execution_count": 24,
     "metadata": {},
     "output_type": "execute_result"
    },
    {
     "data": {
      "image/png": "[encoded data removed]",
      "text/plain": [
       "<Figure size 432x288 with 1 Axes>"
      ]
     },
     "metadata": {
      "needs_background": "light"
     },
     "output_type": "display_data"
    }
   ],
   "source": [
    "reports.plot.bar(x = 'DISPLAY_TYPE', y = 'RUN_TIME', rot = 0)"
   ]
  }
 ],
 "metadata": {
  "kernelspec": {
   "display_name": "Python 3 (ipykernel)",
   "language": "python",
   "name": "python3"
  },
  "language_info": {
   "codemirror_mode": {
    "name": "ipython",
    "version": 3
   },
   "file_extension": ".py",
   "mimetype": "text/x-python",
   "name": "python",
   "nbconvert_exporter": "python",
   "pygments_lexer": "ipython3",
   "version": "3.9.7"
  }
 },
 "nbformat": 4,
 "nbformat_minor": 5
}
