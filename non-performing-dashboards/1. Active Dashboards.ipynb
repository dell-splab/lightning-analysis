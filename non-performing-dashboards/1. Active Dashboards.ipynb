{
 "cells": [
  {
   "cell_type": "markdown",
   "id": "774ed35f",
   "metadata": {},
   "source": [
    "# Active Dashboards\n",
    "\n",
    "## At the end of this analyisis you'll be able to:\n",
    "    [X] Identify which pages ran reports in Dashboard Components\n",
    "    [X] How many of those pages had errors\n",
    "    [X] The percentage of each kind of errors \n",
    "    \n",
    "### In this analysis were used the following objects:\n",
    "* #### [Report Event Type](https://developer.salesforce.com/docs/atlas.en-us.238.0.object_reference.meta/object_reference/sforce_api_objects_eventlogfile_report.htm])\n",
    "* #### [Lightning Page View Event Type](https://developer.salesforce.com/docs/atlas.en-us.238.0.object_reference.meta/object_reference/sforce_api_objects_eventlogfile_lightningpageview.htm?q=lightning+page+view)"
   ]
  },
  {
   "cell_type": "code",
   "execution_count": 1,
   "id": "60a2d7c4",
   "metadata": {},
   "outputs": [],
   "source": [
    "import pandas as pd\n",
    "import numpy as np\n",
    "import matplotlib.pyplot as plt\n",
    "import seaborn as sns\n",
    "sns.set()"
   ]
  },
  {
   "cell_type": "code",
   "execution_count": 110,
   "id": "68a7a0fd",
   "metadata": {},
   "outputs": [],
   "source": [
    "LightningPageView = pd.read_csv('./datasets/2022-06-20_LightningPageView.csv')"
   ]
  },
  {
   "cell_type": "code",
   "execution_count": 111,
   "id": "9aa75d13",
   "metadata": {},
   "outputs": [
    {
     "name": "stderr",
     "output_type": "stream",
     "text": [
      "C:\\Users\\izaquiel_cordeiro\\AppData\\Local\\Temp\\ipykernel_3940\\3773777100.py:3: DtypeWarning: Columns (1,5,6,12,17,18,19,20,22,23,24) have mixed types. Specify dtype option on import or set low_memory=False.\n",
      "  ReportEvent0604 = pd.read_csv('./datasets/2022-06-04_Report.csv')\n"
     ]
    }
   ],
   "source": [
    "#Reading Report Event Type Samples\n",
    "ReportEvent0620 = pd.read_csv('./datasets/2022-06-20_Report.csv')\n",
    "ReportEvent0604 = pd.read_csv('./datasets/2022-06-04_Report.csv')\n",
    "ReportEvent0605 = pd.read_csv('./datasets/2022-06-05_Report.csv')"
   ]
  },
  {
   "cell_type": "code",
   "execution_count": 56,
   "id": "c19414ed",
   "metadata": {},
   "outputs": [],
   "source": [
    "# Concatening all the samples into one data frame\n",
    "ReportEvent = pd.concat([ReportEvent0604, ReportEvent0605, ReportEvent0620])"
   ]
  },
  {
   "cell_type": "code",
   "execution_count": 57,
   "id": "b410828b",
   "metadata": {},
   "outputs": [
    {
     "data": {
      "text/plain": [
       "False    144824\n",
       "True          7\n",
       "dtype: int64"
      ]
     },
     "execution_count": 57,
     "metadata": {},
     "output_type": "execute_result"
    }
   ],
   "source": [
    "ReportEvent.duplicated().value_counts()"
   ]
  },
  {
   "cell_type": "code",
   "execution_count": 58,
   "id": "e9565731",
   "metadata": {},
   "outputs": [],
   "source": [
    "#Droping the duplcates\n",
    "ReportEvent.drop_duplicates(inplace=True)"
   ]
  },
  {
   "cell_type": "code",
   "execution_count": 59,
   "id": "11457570",
   "metadata": {},
   "outputs": [],
   "source": [
    "ReportEvent = ReportEvent.reset_index().drop('index',axis=1)"
   ]
  },
  {
   "cell_type": "code",
   "execution_count": 60,
   "id": "8d03de73",
   "metadata": {},
   "outputs": [],
   "source": [
    "#filtering the reports that ran in dashboard\n",
    "ReportEvent_DASHBOARD = ReportEvent[(ReportEvent.ORIGIN == 'DashboardComponentPreviewed') | (ReportEvent.ORIGIN == 'DashboardComponentUpdated')]"
   ]
  },
  {
   "cell_type": "code",
   "execution_count": 63,
   "id": "efd199cb",
   "metadata": {},
   "outputs": [],
   "source": [
    "#Function to extract REPORT_ID_DERIVED from PAGE_URL\n",
    "def get_report_info_from_endpoint(page_url):\n",
    "    prefix = \"/lightning/r/\"\n",
    "    if page_url.startswith(prefix):\n",
    "        uri = page_url.split(prefix)[1]\n",
    "        if uri:\n",
    "            report_type, report_id_derived = uri.split(\"/\")[:2]\n",
    "            return report_id_derived"
   ]
  },
  {
   "cell_type": "code",
   "execution_count": 64,
   "id": "7c7d808f",
   "metadata": {},
   "outputs": [],
   "source": [
    "#Filter non null values in PAGE_URL\n",
    "LightningPageView.dropna(subset=['PAGE_URL'], inplace=True)"
   ]
  },
  {
   "cell_type": "code",
   "execution_count": 65,
   "id": "8303b642",
   "metadata": {},
   "outputs": [],
   "source": [
    "# Extracting the REPORT_ID_DERIVED\n",
    "LightningPageView['REPORT_ID_DERIVED'] = LightningPageView.PAGE_URL.apply(get_report_info_from_endpoint)"
   ]
  },
  {
   "cell_type": "code",
   "execution_count": 66,
   "id": "357c86d2",
   "metadata": {},
   "outputs": [],
   "source": [
    "# Considering only the reports that were associated with an ID\n",
    "LightningPageView_REPORTS = LightningPageView.dropna(subset=['REPORT_ID_DERIVED'])"
   ]
  },
  {
   "cell_type": "code",
   "execution_count": 67,
   "id": "d0a75bdd",
   "metadata": {},
   "outputs": [],
   "source": [
    "#Considering ony non null report_ids\n",
    "ReportEvent = ReportEvent.dropna(subset=['REPORT_ID_DERIVED'])"
   ]
  },
  {
   "cell_type": "code",
   "execution_count": 68,
   "id": "b95d9961",
   "metadata": {
    "scrolled": false
   },
   "outputs": [],
   "source": [
    "#ReportEvent_DASHBOARD = ReportEvent[ReportEvent.REPORT_ID_DERIVED.isin(LightningPageView_REPORTS.REPORT_ID_DERIVED)].reset_index().drop('index', axis=1)"
   ]
  },
  {
   "cell_type": "code",
   "execution_count": 69,
   "id": "12c21db1",
   "metadata": {
    "scrolled": true
   },
   "outputs": [],
   "source": [
    "#Filtering the page view log that occurs onlu with the ID caught on whose that run in a dashboard\n",
    "LightningPageView_DASHBOARD = LightningPageView[LightningPageView.REPORT_ID_DERIVED.isin(ReportEvent_DASHBOARD.REPORT_ID_DERIVED)].reset_index().drop('index', axis=1)"
   ]
  },
  {
   "cell_type": "code",
   "execution_count": 70,
   "id": "81903b82",
   "metadata": {},
   "outputs": [
    {
     "data": {
      "text/html": [
       "<div>\n",
       "<style scoped>\n",
       "    .dataframe tbody tr th:only-of-type {\n",
       "        vertical-align: middle;\n",
       "    }\n",
       "\n",
       "    .dataframe tbody tr th {\n",
       "        vertical-align: top;\n",
       "    }\n",
       "\n",
       "    .dataframe thead th {\n",
       "        text-align: right;\n",
       "    }\n",
       "</style>\n",
       "<table border=\"1\" class=\"dataframe\">\n",
       "  <thead>\n",
       "    <tr style=\"text-align: right;\">\n",
       "      <th></th>\n",
       "      <th>EVENT_TYPE</th>\n",
       "      <th>TIMESTAMP</th>\n",
       "      <th>REQUEST_ID</th>\n",
       "      <th>ORGANIZATION_ID</th>\n",
       "      <th>USER_ID</th>\n",
       "      <th>CLIENT_ID</th>\n",
       "      <th>SESSION_KEY</th>\n",
       "      <th>LOGIN_KEY</th>\n",
       "      <th>USER_TYPE</th>\n",
       "      <th>APP_NAME</th>\n",
       "      <th>...</th>\n",
       "      <th>PREVPAGE_CONTEXT</th>\n",
       "      <th>PREVPAGE_URL</th>\n",
       "      <th>PREVPAGE_APP_NAME</th>\n",
       "      <th>TARGET_UI_ELEMENT</th>\n",
       "      <th>PARENT_UI_ELEMENT</th>\n",
       "      <th>GRANDPARENT_UI_ELEMENT</th>\n",
       "      <th>TIMESTAMP_DERIVED</th>\n",
       "      <th>USER_ID_DERIVED</th>\n",
       "      <th>CLIENT_IP</th>\n",
       "      <th>REPORT_ID_DERIVED</th>\n",
       "    </tr>\n",
       "  </thead>\n",
       "  <tbody>\n",
       "    <tr>\n",
       "      <th>1</th>\n",
       "      <td>LightningPageView</td>\n",
       "      <td>2.022062e+13</td>\n",
       "      <td>TID:329717019000003f44</td>\n",
       "      <td>00D0b000000GaMp</td>\n",
       "      <td>0052R00000ASQHi</td>\n",
       "      <td>NaN</td>\n",
       "      <td>n4f/nVnM3nCXAtrQ</td>\n",
       "      <td>coEvcZ+72aOow8Fe</td>\n",
       "      <td>Standard</td>\n",
       "      <td>one:one</td>\n",
       "      <td>...</td>\n",
       "      <td>one:recordHomeFlexipage2Wrapper</td>\n",
       "      <td>/lightning/r/Case/5006P000005s2hRQAQ/view?ws=%...</td>\n",
       "      <td>LightningService</td>\n",
       "      <td>NaN</td>\n",
       "      <td>NaN</td>\n",
       "      <td>NaN</td>\n",
       "      <td>2022-06-20T00:05:46.088Z</td>\n",
       "      <td>0052R00000ASQHiQAP</td>\n",
       "      <td>143.166.183.0</td>\n",
       "      <td>00O0b000004kTazEAE</td>\n",
       "    </tr>\n",
       "    <tr>\n",
       "      <th>2</th>\n",
       "      <td>LightningPageView</td>\n",
       "      <td>2.022062e+13</td>\n",
       "      <td>TID:7918482400000b58c2</td>\n",
       "      <td>00D0b000000GaMp</td>\n",
       "      <td>0050b000004K6UA</td>\n",
       "      <td>NaN</td>\n",
       "      <td>SAS+/J8jmlGjuc0A</td>\n",
       "      <td>R0xpWunnC7t4rKJt</td>\n",
       "      <td>Standard</td>\n",
       "      <td>one:one</td>\n",
       "      <td>...</td>\n",
       "      <td>one:recordHomeFlexipage2Wrapper</td>\n",
       "      <td>/lightning/r/Case/5006P000004zE2pQAE/view</td>\n",
       "      <td>LightningService</td>\n",
       "      <td>NaN</td>\n",
       "      <td>NaN</td>\n",
       "      <td>NaN</td>\n",
       "      <td>2022-06-20T00:07:22.464Z</td>\n",
       "      <td>0050b000004K6UAAA0</td>\n",
       "      <td>203.174.168.50</td>\n",
       "      <td>00O0b000004kTazEAE</td>\n",
       "    </tr>\n",
       "    <tr>\n",
       "      <th>3</th>\n",
       "      <td>LightningPageView</td>\n",
       "      <td>2.022062e+13</td>\n",
       "      <td>TID:3129104390000cbf33</td>\n",
       "      <td>00D0b000000GaMp</td>\n",
       "      <td>0056P000000Dfs3</td>\n",
       "      <td>NaN</td>\n",
       "      <td>Kqk9OsOMCbfHPdjT</td>\n",
       "      <td>2FX1ZmrBfbnAh17B</td>\n",
       "      <td>Standard</td>\n",
       "      <td>one:one</td>\n",
       "      <td>...</td>\n",
       "      <td>one:recordHomeFlexipage2Wrapper</td>\n",
       "      <td>/lightning/r/Case/5006P000005c9vCQAQ/view?ws=%...</td>\n",
       "      <td>LightningService</td>\n",
       "      <td>NaN</td>\n",
       "      <td>NaN</td>\n",
       "      <td>NaN</td>\n",
       "      <td>2022-06-20T00:08:21.493Z</td>\n",
       "      <td>0056P000000Dfs3QAC</td>\n",
       "      <td>132.237.180.18</td>\n",
       "      <td>00O0b000004kTazEAE</td>\n",
       "    </tr>\n",
       "    <tr>\n",
       "      <th>6</th>\n",
       "      <td>LightningPageView</td>\n",
       "      <td>2.022062e+13</td>\n",
       "      <td>TID:23610541000006d27f</td>\n",
       "      <td>00D0b000000GaMp</td>\n",
       "      <td>0050b000004K6f2</td>\n",
       "      <td>NaN</td>\n",
       "      <td>Wo0oJowSpRFunsZc</td>\n",
       "      <td>4DmR/XKLoL9SZraA</td>\n",
       "      <td>Standard</td>\n",
       "      <td>one:one</td>\n",
       "      <td>...</td>\n",
       "      <td>one:recordHomeFlexipage2Wrapper</td>\n",
       "      <td>/lightning/r/Asset/02i2R00000CuiIYQAZ/view</td>\n",
       "      <td>LightningService</td>\n",
       "      <td>NaN</td>\n",
       "      <td>NaN</td>\n",
       "      <td>NaN</td>\n",
       "      <td>2022-06-20T00:11:49.780Z</td>\n",
       "      <td>0050b000004K6f2AAC</td>\n",
       "      <td>132.237.180.17</td>\n",
       "      <td>00O0b000004kTazEAE</td>\n",
       "    </tr>\n",
       "    <tr>\n",
       "      <th>7</th>\n",
       "      <td>LightningPageView</td>\n",
       "      <td>2.022062e+13</td>\n",
       "      <td>TID:14573880000009bf3f</td>\n",
       "      <td>00D0b000000GaMp</td>\n",
       "      <td>0056P000000Dfrz</td>\n",
       "      <td>NaN</td>\n",
       "      <td>QcChwKlyT3BschZZ</td>\n",
       "      <td>Zp3ErV08tdpcw0aH</td>\n",
       "      <td>Standard</td>\n",
       "      <td>one:one</td>\n",
       "      <td>...</td>\n",
       "      <td>one:recordHomeFlexipage2Wrapper</td>\n",
       "      <td>/lightning/r/Case/5006P000005rvFuQAI/view</td>\n",
       "      <td>LightningService</td>\n",
       "      <td>NaN</td>\n",
       "      <td>NaN</td>\n",
       "      <td>NaN</td>\n",
       "      <td>2022-06-20T00:11:51.233Z</td>\n",
       "      <td>0056P000000DfrzQAC</td>\n",
       "      <td>132.237.180.16</td>\n",
       "      <td>00O0b000004kTazEAE</td>\n",
       "    </tr>\n",
       "    <tr>\n",
       "      <th>...</th>\n",
       "      <td>...</td>\n",
       "      <td>...</td>\n",
       "      <td>...</td>\n",
       "      <td>...</td>\n",
       "      <td>...</td>\n",
       "      <td>...</td>\n",
       "      <td>...</td>\n",
       "      <td>...</td>\n",
       "      <td>...</td>\n",
       "      <td>...</td>\n",
       "      <td>...</td>\n",
       "      <td>...</td>\n",
       "      <td>...</td>\n",
       "      <td>...</td>\n",
       "      <td>...</td>\n",
       "      <td>...</td>\n",
       "      <td>...</td>\n",
       "      <td>...</td>\n",
       "      <td>...</td>\n",
       "      <td>...</td>\n",
       "      <td>...</td>\n",
       "    </tr>\n",
       "    <tr>\n",
       "      <th>129</th>\n",
       "      <td>LightningPageView</td>\n",
       "      <td>2.022062e+13</td>\n",
       "      <td>TID:5795511000000a988e</td>\n",
       "      <td>00D0b000000GaMp</td>\n",
       "      <td>0050b000005Ce4z</td>\n",
       "      <td>NaN</td>\n",
       "      <td>9XaZdmROcO9xSiRw</td>\n",
       "      <td>3aikcsPXvLVMPtob</td>\n",
       "      <td>Standard</td>\n",
       "      <td>one:one</td>\n",
       "      <td>...</td>\n",
       "      <td>one:recordHomeFlexipage2Wrapper</td>\n",
       "      <td>/lightning/r/Case/5006P000005vkAhQAI/view?ws=%...</td>\n",
       "      <td>LightningService</td>\n",
       "      <td>NaN</td>\n",
       "      <td>NaN</td>\n",
       "      <td>NaN</td>\n",
       "      <td>2022-06-20T00:57:57.122Z</td>\n",
       "      <td>0050b000005Ce4zAAC</td>\n",
       "      <td>132.237.180.17</td>\n",
       "      <td>00O0b000004kTazEAE</td>\n",
       "    </tr>\n",
       "    <tr>\n",
       "      <th>130</th>\n",
       "      <td>LightningPageView</td>\n",
       "      <td>2.022062e+13</td>\n",
       "      <td>TID:609448000000dfa7b7</td>\n",
       "      <td>00D0b000000GaMp</td>\n",
       "      <td>0056P0000011hQX</td>\n",
       "      <td>NaN</td>\n",
       "      <td>eWsJ169Sd2QFUe0k</td>\n",
       "      <td>7RFZVn0XTFy1jG6v</td>\n",
       "      <td>Standard</td>\n",
       "      <td>one:one</td>\n",
       "      <td>...</td>\n",
       "      <td>one:recordHomeFlexipage2Wrapper</td>\n",
       "      <td>/lightning/r/Case/5006P000005a2x5QAA/view?ws=%...</td>\n",
       "      <td>LightningService</td>\n",
       "      <td>NaN</td>\n",
       "      <td>NaN</td>\n",
       "      <td>NaN</td>\n",
       "      <td>2022-06-20T00:58:03.119Z</td>\n",
       "      <td>0056P0000011hQXQAY</td>\n",
       "      <td>143.166.253.244</td>\n",
       "      <td>00O0b000004kTazEAE</td>\n",
       "    </tr>\n",
       "    <tr>\n",
       "      <th>131</th>\n",
       "      <td>LightningPageView</td>\n",
       "      <td>2.022062e+13</td>\n",
       "      <td>TID:233415000009750c70</td>\n",
       "      <td>00D0b000000GaMp</td>\n",
       "      <td>0056P000000xVYN</td>\n",
       "      <td>NaN</td>\n",
       "      <td>W17rbNkv07to8vNA</td>\n",
       "      <td>fjuWBo2bNTxMK5Rb</td>\n",
       "      <td>Standard</td>\n",
       "      <td>one:one</td>\n",
       "      <td>...</td>\n",
       "      <td>undefined</td>\n",
       "      <td>NaN</td>\n",
       "      <td>NaN</td>\n",
       "      <td>NaN</td>\n",
       "      <td>NaN</td>\n",
       "      <td>NaN</td>\n",
       "      <td>2022-06-20T00:58:40.718Z</td>\n",
       "      <td>0056P000000xVYNQA2</td>\n",
       "      <td>143.166.226.111</td>\n",
       "      <td>00O0b000004kTazEAE</td>\n",
       "    </tr>\n",
       "    <tr>\n",
       "      <th>132</th>\n",
       "      <td>LightningPageView</td>\n",
       "      <td>2.022062e+13</td>\n",
       "      <td>TID:9207179200000dbe8b</td>\n",
       "      <td>00D0b000000GaMp</td>\n",
       "      <td>0050b000005CdDg</td>\n",
       "      <td>NaN</td>\n",
       "      <td>Zt7yauONEjwb5PuO</td>\n",
       "      <td>BiUbVoEeEgOUYKyU</td>\n",
       "      <td>Standard</td>\n",
       "      <td>one:one</td>\n",
       "      <td>...</td>\n",
       "      <td>one:recordHomeFlexipage2Wrapper</td>\n",
       "      <td>/lightning/r/Case/5006P000005wADwQAM/view</td>\n",
       "      <td>LightningService</td>\n",
       "      <td>NaN</td>\n",
       "      <td>NaN</td>\n",
       "      <td>NaN</td>\n",
       "      <td>2022-06-20T00:58:41.790Z</td>\n",
       "      <td>0050b000005CdDgAAK</td>\n",
       "      <td>143.166.255.127</td>\n",
       "      <td>00O0b000004kTazEAE</td>\n",
       "    </tr>\n",
       "    <tr>\n",
       "      <th>136</th>\n",
       "      <td>LightningPageView</td>\n",
       "      <td>2.022062e+13</td>\n",
       "      <td>TID:3097093990000cc590</td>\n",
       "      <td>00D0b000000GaMp</td>\n",
       "      <td>0051P000003jZ1v</td>\n",
       "      <td>NaN</td>\n",
       "      <td>oT1kzncP7G2d29c/</td>\n",
       "      <td>n6n7x2vW5WSXkqPE</td>\n",
       "      <td>Standard</td>\n",
       "      <td>one:one</td>\n",
       "      <td>...</td>\n",
       "      <td>one:recordHomeFlexipage2Wrapper</td>\n",
       "      <td>/lightning/r/Case/5006P000005TBwpQAG/view?ws=%...</td>\n",
       "      <td>LightningService</td>\n",
       "      <td>NaN</td>\n",
       "      <td>NaN</td>\n",
       "      <td>NaN</td>\n",
       "      <td>2022-06-20T00:59:53.713Z</td>\n",
       "      <td>0051P000003jZ1vQAE</td>\n",
       "      <td>163.244.246.215</td>\n",
       "      <td>00O0b000004kpcxEAA</td>\n",
       "    </tr>\n",
       "  </tbody>\n",
       "</table>\n",
       "<p>75 rows × 51 columns</p>\n",
       "</div>"
      ],
      "text/plain": [
       "            EVENT_TYPE     TIMESTAMP              REQUEST_ID  ORGANIZATION_ID  \\\n",
       "1    LightningPageView  2.022062e+13  TID:329717019000003f44  00D0b000000GaMp   \n",
       "2    LightningPageView  2.022062e+13  TID:7918482400000b58c2  00D0b000000GaMp   \n",
       "3    LightningPageView  2.022062e+13  TID:3129104390000cbf33  00D0b000000GaMp   \n",
       "6    LightningPageView  2.022062e+13  TID:23610541000006d27f  00D0b000000GaMp   \n",
       "7    LightningPageView  2.022062e+13  TID:14573880000009bf3f  00D0b000000GaMp   \n",
       "..                 ...           ...                     ...              ...   \n",
       "129  LightningPageView  2.022062e+13  TID:5795511000000a988e  00D0b000000GaMp   \n",
       "130  LightningPageView  2.022062e+13  TID:609448000000dfa7b7  00D0b000000GaMp   \n",
       "131  LightningPageView  2.022062e+13  TID:233415000009750c70  00D0b000000GaMp   \n",
       "132  LightningPageView  2.022062e+13  TID:9207179200000dbe8b  00D0b000000GaMp   \n",
       "136  LightningPageView  2.022062e+13  TID:3097093990000cc590  00D0b000000GaMp   \n",
       "\n",
       "             USER_ID CLIENT_ID       SESSION_KEY         LOGIN_KEY USER_TYPE  \\\n",
       "1    0052R00000ASQHi       NaN  n4f/nVnM3nCXAtrQ  coEvcZ+72aOow8Fe  Standard   \n",
       "2    0050b000004K6UA       NaN  SAS+/J8jmlGjuc0A  R0xpWunnC7t4rKJt  Standard   \n",
       "3    0056P000000Dfs3       NaN  Kqk9OsOMCbfHPdjT  2FX1ZmrBfbnAh17B  Standard   \n",
       "6    0050b000004K6f2       NaN  Wo0oJowSpRFunsZc  4DmR/XKLoL9SZraA  Standard   \n",
       "7    0056P000000Dfrz       NaN  QcChwKlyT3BschZZ  Zp3ErV08tdpcw0aH  Standard   \n",
       "..               ...       ...               ...               ...       ...   \n",
       "129  0050b000005Ce4z       NaN  9XaZdmROcO9xSiRw  3aikcsPXvLVMPtob  Standard   \n",
       "130  0056P0000011hQX       NaN  eWsJ169Sd2QFUe0k  7RFZVn0XTFy1jG6v  Standard   \n",
       "131  0056P000000xVYN       NaN  W17rbNkv07to8vNA  fjuWBo2bNTxMK5Rb  Standard   \n",
       "132  0050b000005CdDg       NaN  Zt7yauONEjwb5PuO  BiUbVoEeEgOUYKyU  Standard   \n",
       "136  0051P000003jZ1v       NaN  oT1kzncP7G2d29c/  n6n7x2vW5WSXkqPE  Standard   \n",
       "\n",
       "    APP_NAME  ...                 PREVPAGE_CONTEXT  \\\n",
       "1    one:one  ...  one:recordHomeFlexipage2Wrapper   \n",
       "2    one:one  ...  one:recordHomeFlexipage2Wrapper   \n",
       "3    one:one  ...  one:recordHomeFlexipage2Wrapper   \n",
       "6    one:one  ...  one:recordHomeFlexipage2Wrapper   \n",
       "7    one:one  ...  one:recordHomeFlexipage2Wrapper   \n",
       "..       ...  ...                              ...   \n",
       "129  one:one  ...  one:recordHomeFlexipage2Wrapper   \n",
       "130  one:one  ...  one:recordHomeFlexipage2Wrapper   \n",
       "131  one:one  ...                        undefined   \n",
       "132  one:one  ...  one:recordHomeFlexipage2Wrapper   \n",
       "136  one:one  ...  one:recordHomeFlexipage2Wrapper   \n",
       "\n",
       "                                          PREVPAGE_URL PREVPAGE_APP_NAME  \\\n",
       "1    /lightning/r/Case/5006P000005s2hRQAQ/view?ws=%...  LightningService   \n",
       "2            /lightning/r/Case/5006P000004zE2pQAE/view  LightningService   \n",
       "3    /lightning/r/Case/5006P000005c9vCQAQ/view?ws=%...  LightningService   \n",
       "6           /lightning/r/Asset/02i2R00000CuiIYQAZ/view  LightningService   \n",
       "7            /lightning/r/Case/5006P000005rvFuQAI/view  LightningService   \n",
       "..                                                 ...               ...   \n",
       "129  /lightning/r/Case/5006P000005vkAhQAI/view?ws=%...  LightningService   \n",
       "130  /lightning/r/Case/5006P000005a2x5QAA/view?ws=%...  LightningService   \n",
       "131                                                NaN               NaN   \n",
       "132          /lightning/r/Case/5006P000005wADwQAM/view  LightningService   \n",
       "136  /lightning/r/Case/5006P000005TBwpQAG/view?ws=%...  LightningService   \n",
       "\n",
       "     TARGET_UI_ELEMENT PARENT_UI_ELEMENT GRANDPARENT_UI_ELEMENT  \\\n",
       "1                  NaN               NaN                    NaN   \n",
       "2                  NaN               NaN                    NaN   \n",
       "3                  NaN               NaN                    NaN   \n",
       "6                  NaN               NaN                    NaN   \n",
       "7                  NaN               NaN                    NaN   \n",
       "..                 ...               ...                    ...   \n",
       "129                NaN               NaN                    NaN   \n",
       "130                NaN               NaN                    NaN   \n",
       "131                NaN               NaN                    NaN   \n",
       "132                NaN               NaN                    NaN   \n",
       "136                NaN               NaN                    NaN   \n",
       "\n",
       "            TIMESTAMP_DERIVED     USER_ID_DERIVED        CLIENT_IP  \\\n",
       "1    2022-06-20T00:05:46.088Z  0052R00000ASQHiQAP    143.166.183.0   \n",
       "2    2022-06-20T00:07:22.464Z  0050b000004K6UAAA0   203.174.168.50   \n",
       "3    2022-06-20T00:08:21.493Z  0056P000000Dfs3QAC   132.237.180.18   \n",
       "6    2022-06-20T00:11:49.780Z  0050b000004K6f2AAC   132.237.180.17   \n",
       "7    2022-06-20T00:11:51.233Z  0056P000000DfrzQAC   132.237.180.16   \n",
       "..                        ...                 ...              ...   \n",
       "129  2022-06-20T00:57:57.122Z  0050b000005Ce4zAAC   132.237.180.17   \n",
       "130  2022-06-20T00:58:03.119Z  0056P0000011hQXQAY  143.166.253.244   \n",
       "131  2022-06-20T00:58:40.718Z  0056P000000xVYNQA2  143.166.226.111   \n",
       "132  2022-06-20T00:58:41.790Z  0050b000005CdDgAAK  143.166.255.127   \n",
       "136  2022-06-20T00:59:53.713Z  0051P000003jZ1vQAE  163.244.246.215   \n",
       "\n",
       "      REPORT_ID_DERIVED  \n",
       "1    00O0b000004kTazEAE  \n",
       "2    00O0b000004kTazEAE  \n",
       "3    00O0b000004kTazEAE  \n",
       "6    00O0b000004kTazEAE  \n",
       "7    00O0b000004kTazEAE  \n",
       "..                  ...  \n",
       "129  00O0b000004kTazEAE  \n",
       "130  00O0b000004kTazEAE  \n",
       "131  00O0b000004kTazEAE  \n",
       "132  00O0b000004kTazEAE  \n",
       "136  00O0b000004kpcxEAA  \n",
       "\n",
       "[75 rows x 51 columns]"
      ]
     },
     "execution_count": 70,
     "metadata": {},
     "output_type": "execute_result"
    }
   ],
   "source": [
    "#catching the page view info of those pages that had an error\n",
    "LightningPageView_DASHBOARD_PROBLEMATICS = LightningPageView_DASHBOARD[LightningPageView_DASHBOARD['EFFECTIVE_PAGE_TIME_DEVIATION']==True]\n",
    "LightningPageView_DASHBOARD_PROBLEMATICS"
   ]
  },
  {
   "cell_type": "code",
   "execution_count": 71,
   "id": "f7d09eb7",
   "metadata": {
    "scrolled": false
   },
   "outputs": [
    {
     "data": {
      "text/html": [
       "<div>\n",
       "<style scoped>\n",
       "    .dataframe tbody tr th:only-of-type {\n",
       "        vertical-align: middle;\n",
       "    }\n",
       "\n",
       "    .dataframe tbody tr th {\n",
       "        vertical-align: top;\n",
       "    }\n",
       "\n",
       "    .dataframe thead th {\n",
       "        text-align: right;\n",
       "    }\n",
       "</style>\n",
       "<table border=\"1\" class=\"dataframe\">\n",
       "  <thead>\n",
       "    <tr style=\"text-align: right;\">\n",
       "      <th></th>\n",
       "      <th>EVENT_TYPE</th>\n",
       "      <th>TIMESTAMP</th>\n",
       "      <th>REQUEST_ID</th>\n",
       "      <th>ORGANIZATION_ID</th>\n",
       "      <th>USER_ID</th>\n",
       "      <th>CLIENT_ID</th>\n",
       "      <th>SESSION_KEY</th>\n",
       "      <th>LOGIN_KEY</th>\n",
       "      <th>USER_TYPE</th>\n",
       "      <th>APP_NAME</th>\n",
       "      <th>...</th>\n",
       "      <th>PREVPAGE_CONTEXT</th>\n",
       "      <th>PREVPAGE_URL</th>\n",
       "      <th>PREVPAGE_APP_NAME</th>\n",
       "      <th>TARGET_UI_ELEMENT</th>\n",
       "      <th>PARENT_UI_ELEMENT</th>\n",
       "      <th>GRANDPARENT_UI_ELEMENT</th>\n",
       "      <th>TIMESTAMP_DERIVED</th>\n",
       "      <th>USER_ID_DERIVED</th>\n",
       "      <th>CLIENT_IP</th>\n",
       "      <th>REPORT_ID_DERIVED</th>\n",
       "    </tr>\n",
       "  </thead>\n",
       "  <tbody>\n",
       "    <tr>\n",
       "      <th>0</th>\n",
       "      <td>LightningPageView</td>\n",
       "      <td>2.022062e+13</td>\n",
       "      <td>TID:354812000006d78c47</td>\n",
       "      <td>00D0b000000GaMp</td>\n",
       "      <td>0056P000000xXGc</td>\n",
       "      <td>NaN</td>\n",
       "      <td>DkrMLnselIW4a5EP</td>\n",
       "      <td>sJxFELZ4Maod2+Dp</td>\n",
       "      <td>Standard</td>\n",
       "      <td>one:one</td>\n",
       "      <td>...</td>\n",
       "      <td>home:landing</td>\n",
       "      <td>/lightning/page/home</td>\n",
       "      <td>PSA_Dell</td>\n",
       "      <td>NaN</td>\n",
       "      <td>NaN</td>\n",
       "      <td>NaN</td>\n",
       "      <td>2022-06-20T00:00:03.155Z</td>\n",
       "      <td>0056P000000xXGcQAM</td>\n",
       "      <td>1.158.84.17</td>\n",
       "      <td>a2U6P000000GybgUAC</td>\n",
       "    </tr>\n",
       "    <tr>\n",
       "      <th>1</th>\n",
       "      <td>LightningPageView</td>\n",
       "      <td>2.022062e+13</td>\n",
       "      <td>TID:58030194000009ce81</td>\n",
       "      <td>00D0b000000GaMp</td>\n",
       "      <td>0050b000004KP2Y</td>\n",
       "      <td>NaN</td>\n",
       "      <td>FNYwFEC/js/SJBfr</td>\n",
       "      <td>CouvuCikaCZftK4Z</td>\n",
       "      <td>Standard</td>\n",
       "      <td>one:one</td>\n",
       "      <td>...</td>\n",
       "      <td>one:recordHomeFlexipage2Wrapper</td>\n",
       "      <td>/lightning/r/Case/5006P000005wV26QAE/view</td>\n",
       "      <td>LightningService</td>\n",
       "      <td>NaN</td>\n",
       "      <td>NaN</td>\n",
       "      <td>NaN</td>\n",
       "      <td>2022-06-20T00:00:05.696Z</td>\n",
       "      <td>0050b000004KP2YAAW</td>\n",
       "      <td>143.166.255.112</td>\n",
       "      <td>None</td>\n",
       "    </tr>\n",
       "    <tr>\n",
       "      <th>2</th>\n",
       "      <td>LightningPageView</td>\n",
       "      <td>2.022062e+13</td>\n",
       "      <td>TID:12985703000004ffe6</td>\n",
       "      <td>00D0b000000GaMp</td>\n",
       "      <td>0050b000004K6qi</td>\n",
       "      <td>NaN</td>\n",
       "      <td>kli/tj2J178nuyC/</td>\n",
       "      <td>JO3VQlVLEQ2oZRfV</td>\n",
       "      <td>Standard</td>\n",
       "      <td>one:one</td>\n",
       "      <td>...</td>\n",
       "      <td>one:recordHomeFlexipage</td>\n",
       "      <td>/lightning/r/WorkOrder/0WO6P0000022kdHWAQ/view...</td>\n",
       "      <td>LightningService</td>\n",
       "      <td>NaN</td>\n",
       "      <td>NaN</td>\n",
       "      <td>NaN</td>\n",
       "      <td>2022-06-20T00:00:17.340Z</td>\n",
       "      <td>0050b000004K6qiAAC</td>\n",
       "      <td>132.237.180.18</td>\n",
       "      <td>5006P000005SbYIQA0</td>\n",
       "    </tr>\n",
       "    <tr>\n",
       "      <th>3</th>\n",
       "      <td>LightningPageView</td>\n",
       "      <td>2.022062e+13</td>\n",
       "      <td>TID:1110858890000f262c</td>\n",
       "      <td>00D0b000000GaMp</td>\n",
       "      <td>0051P000003jYNO</td>\n",
       "      <td>NaN</td>\n",
       "      <td>13BZwFCUcj0WV/FF</td>\n",
       "      <td>0P9VYIdBZl/K+YT/</td>\n",
       "      <td>Standard</td>\n",
       "      <td>one:one</td>\n",
       "      <td>...</td>\n",
       "      <td>one:recordHomeFlexipage2Wrapper</td>\n",
       "      <td>/lightning/r/Case/5006P000006C7deQAC/view</td>\n",
       "      <td>LightningService</td>\n",
       "      <td>NaN</td>\n",
       "      <td>NaN</td>\n",
       "      <td>NaN</td>\n",
       "      <td>2022-06-20T00:00:17.592Z</td>\n",
       "      <td>0051P000003jYNOQA2</td>\n",
       "      <td>143.166.255.112</td>\n",
       "      <td>5006P000005AiInQAK</td>\n",
       "    </tr>\n",
       "    <tr>\n",
       "      <th>4</th>\n",
       "      <td>LightningPageView</td>\n",
       "      <td>2.022062e+13</td>\n",
       "      <td>TID:5970860900002827b3</td>\n",
       "      <td>00D0b000000GaMp</td>\n",
       "      <td>0052R000009nJBD</td>\n",
       "      <td>NaN</td>\n",
       "      <td>SFUtGUXsW73SFMp1</td>\n",
       "      <td>B4NT9B16irAxXnhd</td>\n",
       "      <td>Standard</td>\n",
       "      <td>one:one</td>\n",
       "      <td>...</td>\n",
       "      <td>home:landing</td>\n",
       "      <td>/lightning/page/home</td>\n",
       "      <td>LightningService</td>\n",
       "      <td>NaN</td>\n",
       "      <td>NaN</td>\n",
       "      <td>NaN</td>\n",
       "      <td>2022-06-20T00:00:17.718Z</td>\n",
       "      <td>0052R000009nJBDQA2</td>\n",
       "      <td>143.166.226.115</td>\n",
       "      <td>None</td>\n",
       "    </tr>\n",
       "    <tr>\n",
       "      <th>...</th>\n",
       "      <td>...</td>\n",
       "      <td>...</td>\n",
       "      <td>...</td>\n",
       "      <td>...</td>\n",
       "      <td>...</td>\n",
       "      <td>...</td>\n",
       "      <td>...</td>\n",
       "      <td>...</td>\n",
       "      <td>...</td>\n",
       "      <td>...</td>\n",
       "      <td>...</td>\n",
       "      <td>...</td>\n",
       "      <td>...</td>\n",
       "      <td>...</td>\n",
       "      <td>...</td>\n",
       "      <td>...</td>\n",
       "      <td>...</td>\n",
       "      <td>...</td>\n",
       "      <td>...</td>\n",
       "      <td>...</td>\n",
       "      <td>...</td>\n",
       "    </tr>\n",
       "    <tr>\n",
       "      <th>9666</th>\n",
       "      <td>LightningPageView</td>\n",
       "      <td>2.022062e+13</td>\n",
       "      <td>TID:2131481039000040ac</td>\n",
       "      <td>00D0b000000GaMp</td>\n",
       "      <td>0051P000003gGaJ</td>\n",
       "      <td>NaN</td>\n",
       "      <td>7l79yoIIpgXhppu9</td>\n",
       "      <td>kIgQvtMoxIDB9Y03</td>\n",
       "      <td>Standard</td>\n",
       "      <td>one:one</td>\n",
       "      <td>...</td>\n",
       "      <td>one:recordHomeFlexipage2Wrapper</td>\n",
       "      <td>/lightning/r/Case/5006P000005vy8pQAA/view</td>\n",
       "      <td>LightningService</td>\n",
       "      <td>NaN</td>\n",
       "      <td>NaN</td>\n",
       "      <td>NaN</td>\n",
       "      <td>2022-06-20T00:59:58.975Z</td>\n",
       "      <td>0051P000003gGaJQAU</td>\n",
       "      <td>128.221.224.202</td>\n",
       "      <td>None</td>\n",
       "    </tr>\n",
       "    <tr>\n",
       "      <th>9667</th>\n",
       "      <td>LightningPageView</td>\n",
       "      <td>2.022062e+13</td>\n",
       "      <td>TID:2096834100000cdeb7</td>\n",
       "      <td>00D0b000000GaMp</td>\n",
       "      <td>0050b000004K6s0</td>\n",
       "      <td>NaN</td>\n",
       "      <td>FFqIXSkd1lg3R12W</td>\n",
       "      <td>iWv0ffO9RNaYin4h</td>\n",
       "      <td>Standard</td>\n",
       "      <td>one:one</td>\n",
       "      <td>...</td>\n",
       "      <td>omni:supervisorPanel</td>\n",
       "      <td>/one/one.app#eyJjb21wb25lbnREZWYiOiJvbW5pOnN1c...</td>\n",
       "      <td>LightningService</td>\n",
       "      <td>NaN</td>\n",
       "      <td>NaN</td>\n",
       "      <td>NaN</td>\n",
       "      <td>2022-06-20T00:59:59.471Z</td>\n",
       "      <td>0050b000004K6s0AAC</td>\n",
       "      <td>163.244.182.11</td>\n",
       "      <td>00O0b000006iNwdEAE</td>\n",
       "    </tr>\n",
       "    <tr>\n",
       "      <th>9668</th>\n",
       "      <td>LightningPageView</td>\n",
       "      <td>2.022062e+13</td>\n",
       "      <td>TID:34673908000006d98a</td>\n",
       "      <td>00D0b000000GaMp</td>\n",
       "      <td>0050b000004KCW0</td>\n",
       "      <td>NaN</td>\n",
       "      <td>zSlTWpkr6eIMM1jJ</td>\n",
       "      <td>rK7/xkSr+ei6SZT8</td>\n",
       "      <td>Standard</td>\n",
       "      <td>one:one</td>\n",
       "      <td>...</td>\n",
       "      <td>force:objectHomeDesktop</td>\n",
       "      <td>/lightning/o/Case/list?filterName=00B2R000005i...</td>\n",
       "      <td>LightningService</td>\n",
       "      <td>NaN</td>\n",
       "      <td>NaN</td>\n",
       "      <td>NaN</td>\n",
       "      <td>2022-06-20T00:59:59.475Z</td>\n",
       "      <td>0050b000004KCW0AAO</td>\n",
       "      <td>123.177.53.1</td>\n",
       "      <td>5006P000005WkI7QAK</td>\n",
       "    </tr>\n",
       "    <tr>\n",
       "      <th>9669</th>\n",
       "      <td>LightningPageView</td>\n",
       "      <td>2.022062e+13</td>\n",
       "      <td>TID:1570044100000d4e5c</td>\n",
       "      <td>00D0b000000GaMp</td>\n",
       "      <td>0050b000004KDXg</td>\n",
       "      <td>NaN</td>\n",
       "      <td>fpCpwvb6vZPBenEc</td>\n",
       "      <td>GI62syGdux16/Ukg</td>\n",
       "      <td>Standard</td>\n",
       "      <td>one:one</td>\n",
       "      <td>...</td>\n",
       "      <td>one:recordHomeFlexipage2Wrapper</td>\n",
       "      <td>/lightning/r/Case/5006P000005cMpfQAE/view</td>\n",
       "      <td>LightningService</td>\n",
       "      <td>NaN</td>\n",
       "      <td>NaN</td>\n",
       "      <td>NaN</td>\n",
       "      <td>2022-06-20T00:59:59.627Z</td>\n",
       "      <td>0050b000004KDXgAAO</td>\n",
       "      <td>163.244.246.214</td>\n",
       "      <td>0036P000004JSl5QAG</td>\n",
       "    </tr>\n",
       "    <tr>\n",
       "      <th>9670</th>\n",
       "      <td>LightningPageView</td>\n",
       "      <td>2.022062e+13</td>\n",
       "      <td>TID:226311800000d66cd7</td>\n",
       "      <td>00D0b000000GaMp</td>\n",
       "      <td>0052R000008E9mZ</td>\n",
       "      <td>NaN</td>\n",
       "      <td>U3NQu4Q8EcuJetZc</td>\n",
       "      <td>duHG1nMiEwhFWYEe</td>\n",
       "      <td>Standard</td>\n",
       "      <td>one:one</td>\n",
       "      <td>...</td>\n",
       "      <td>one:recordHomeFlexipage2Wrapper</td>\n",
       "      <td>/lightning/r/Asset/02i0b00000hmg7aAAA/view?ws=...</td>\n",
       "      <td>LightningService</td>\n",
       "      <td>NaN</td>\n",
       "      <td>NaN</td>\n",
       "      <td>NaN</td>\n",
       "      <td>2022-06-20T00:59:59.851Z</td>\n",
       "      <td>0052R000008E9mZQAS</td>\n",
       "      <td>143.166.183.7</td>\n",
       "      <td>5006P000005wTKKQA2</td>\n",
       "    </tr>\n",
       "  </tbody>\n",
       "</table>\n",
       "<p>9502 rows × 51 columns</p>\n",
       "</div>"
      ],
      "text/plain": [
       "             EVENT_TYPE     TIMESTAMP              REQUEST_ID  \\\n",
       "0     LightningPageView  2.022062e+13  TID:354812000006d78c47   \n",
       "1     LightningPageView  2.022062e+13  TID:58030194000009ce81   \n",
       "2     LightningPageView  2.022062e+13  TID:12985703000004ffe6   \n",
       "3     LightningPageView  2.022062e+13  TID:1110858890000f262c   \n",
       "4     LightningPageView  2.022062e+13  TID:5970860900002827b3   \n",
       "...                 ...           ...                     ...   \n",
       "9666  LightningPageView  2.022062e+13  TID:2131481039000040ac   \n",
       "9667  LightningPageView  2.022062e+13  TID:2096834100000cdeb7   \n",
       "9668  LightningPageView  2.022062e+13  TID:34673908000006d98a   \n",
       "9669  LightningPageView  2.022062e+13  TID:1570044100000d4e5c   \n",
       "9670  LightningPageView  2.022062e+13  TID:226311800000d66cd7   \n",
       "\n",
       "      ORGANIZATION_ID          USER_ID CLIENT_ID       SESSION_KEY  \\\n",
       "0     00D0b000000GaMp  0056P000000xXGc       NaN  DkrMLnselIW4a5EP   \n",
       "1     00D0b000000GaMp  0050b000004KP2Y       NaN  FNYwFEC/js/SJBfr   \n",
       "2     00D0b000000GaMp  0050b000004K6qi       NaN  kli/tj2J178nuyC/   \n",
       "3     00D0b000000GaMp  0051P000003jYNO       NaN  13BZwFCUcj0WV/FF   \n",
       "4     00D0b000000GaMp  0052R000009nJBD       NaN  SFUtGUXsW73SFMp1   \n",
       "...               ...              ...       ...               ...   \n",
       "9666  00D0b000000GaMp  0051P000003gGaJ       NaN  7l79yoIIpgXhppu9   \n",
       "9667  00D0b000000GaMp  0050b000004K6s0       NaN  FFqIXSkd1lg3R12W   \n",
       "9668  00D0b000000GaMp  0050b000004KCW0       NaN  zSlTWpkr6eIMM1jJ   \n",
       "9669  00D0b000000GaMp  0050b000004KDXg       NaN  fpCpwvb6vZPBenEc   \n",
       "9670  00D0b000000GaMp  0052R000008E9mZ       NaN  U3NQu4Q8EcuJetZc   \n",
       "\n",
       "             LOGIN_KEY USER_TYPE APP_NAME  ...  \\\n",
       "0     sJxFELZ4Maod2+Dp  Standard  one:one  ...   \n",
       "1     CouvuCikaCZftK4Z  Standard  one:one  ...   \n",
       "2     JO3VQlVLEQ2oZRfV  Standard  one:one  ...   \n",
       "3     0P9VYIdBZl/K+YT/  Standard  one:one  ...   \n",
       "4     B4NT9B16irAxXnhd  Standard  one:one  ...   \n",
       "...                ...       ...      ...  ...   \n",
       "9666  kIgQvtMoxIDB9Y03  Standard  one:one  ...   \n",
       "9667  iWv0ffO9RNaYin4h  Standard  one:one  ...   \n",
       "9668  rK7/xkSr+ei6SZT8  Standard  one:one  ...   \n",
       "9669  GI62syGdux16/Ukg  Standard  one:one  ...   \n",
       "9670  duHG1nMiEwhFWYEe  Standard  one:one  ...   \n",
       "\n",
       "                     PREVPAGE_CONTEXT  \\\n",
       "0                        home:landing   \n",
       "1     one:recordHomeFlexipage2Wrapper   \n",
       "2             one:recordHomeFlexipage   \n",
       "3     one:recordHomeFlexipage2Wrapper   \n",
       "4                        home:landing   \n",
       "...                               ...   \n",
       "9666  one:recordHomeFlexipage2Wrapper   \n",
       "9667             omni:supervisorPanel   \n",
       "9668          force:objectHomeDesktop   \n",
       "9669  one:recordHomeFlexipage2Wrapper   \n",
       "9670  one:recordHomeFlexipage2Wrapper   \n",
       "\n",
       "                                           PREVPAGE_URL PREVPAGE_APP_NAME  \\\n",
       "0                                  /lightning/page/home          PSA_Dell   \n",
       "1             /lightning/r/Case/5006P000005wV26QAE/view  LightningService   \n",
       "2     /lightning/r/WorkOrder/0WO6P0000022kdHWAQ/view...  LightningService   \n",
       "3             /lightning/r/Case/5006P000006C7deQAC/view  LightningService   \n",
       "4                                  /lightning/page/home  LightningService   \n",
       "...                                                 ...               ...   \n",
       "9666          /lightning/r/Case/5006P000005vy8pQAA/view  LightningService   \n",
       "9667  /one/one.app#eyJjb21wb25lbnREZWYiOiJvbW5pOnN1c...  LightningService   \n",
       "9668  /lightning/o/Case/list?filterName=00B2R000005i...  LightningService   \n",
       "9669          /lightning/r/Case/5006P000005cMpfQAE/view  LightningService   \n",
       "9670  /lightning/r/Asset/02i0b00000hmg7aAAA/view?ws=...  LightningService   \n",
       "\n",
       "      TARGET_UI_ELEMENT PARENT_UI_ELEMENT GRANDPARENT_UI_ELEMENT  \\\n",
       "0                   NaN               NaN                    NaN   \n",
       "1                   NaN               NaN                    NaN   \n",
       "2                   NaN               NaN                    NaN   \n",
       "3                   NaN               NaN                    NaN   \n",
       "4                   NaN               NaN                    NaN   \n",
       "...                 ...               ...                    ...   \n",
       "9666                NaN               NaN                    NaN   \n",
       "9667                NaN               NaN                    NaN   \n",
       "9668                NaN               NaN                    NaN   \n",
       "9669                NaN               NaN                    NaN   \n",
       "9670                NaN               NaN                    NaN   \n",
       "\n",
       "             TIMESTAMP_DERIVED     USER_ID_DERIVED        CLIENT_IP  \\\n",
       "0     2022-06-20T00:00:03.155Z  0056P000000xXGcQAM      1.158.84.17   \n",
       "1     2022-06-20T00:00:05.696Z  0050b000004KP2YAAW  143.166.255.112   \n",
       "2     2022-06-20T00:00:17.340Z  0050b000004K6qiAAC   132.237.180.18   \n",
       "3     2022-06-20T00:00:17.592Z  0051P000003jYNOQA2  143.166.255.112   \n",
       "4     2022-06-20T00:00:17.718Z  0052R000009nJBDQA2  143.166.226.115   \n",
       "...                        ...                 ...              ...   \n",
       "9666  2022-06-20T00:59:58.975Z  0051P000003gGaJQAU  128.221.224.202   \n",
       "9667  2022-06-20T00:59:59.471Z  0050b000004K6s0AAC   163.244.182.11   \n",
       "9668  2022-06-20T00:59:59.475Z  0050b000004KCW0AAO     123.177.53.1   \n",
       "9669  2022-06-20T00:59:59.627Z  0050b000004KDXgAAO  163.244.246.214   \n",
       "9670  2022-06-20T00:59:59.851Z  0052R000008E9mZQAS    143.166.183.7   \n",
       "\n",
       "       REPORT_ID_DERIVED  \n",
       "0     a2U6P000000GybgUAC  \n",
       "1                   None  \n",
       "2     5006P000005SbYIQA0  \n",
       "3     5006P000005AiInQAK  \n",
       "4                   None  \n",
       "...                  ...  \n",
       "9666                None  \n",
       "9667  00O0b000006iNwdEAE  \n",
       "9668  5006P000005WkI7QAK  \n",
       "9669  0036P000004JSl5QAG  \n",
       "9670  5006P000005wTKKQA2  \n",
       "\n",
       "[9502 rows x 51 columns]"
      ]
     },
     "execution_count": 71,
     "metadata": {},
     "output_type": "execute_result"
    }
   ],
   "source": [
    "#filtering page view info that reports were not run in dashboard\n",
    "LightningPageView_NOT_DASHBOARD = LightningPageView[~LightningPageView.REPORT_ID_DERIVED.isin(LightningPageView_DASHBOARD.REPORT_ID_DERIVED)]\n",
    "LightningPageView_NOT_DASHBOARD"
   ]
  },
  {
   "cell_type": "markdown",
   "id": "c715a345",
   "metadata": {},
   "source": [
    "## Reports that were run in Dashboard Components"
   ]
  },
  {
   "cell_type": "code",
   "execution_count": 77,
   "id": "cb924a63",
   "metadata": {
    "scrolled": true
   },
   "outputs": [
    {
     "data": {
      "text/plain": [
       "0.014"
      ]
     },
     "execution_count": 77,
     "metadata": {},
     "output_type": "execute_result"
    }
   ],
   "source": [
    "round(len(LightningPageView_DASHBOARD) / len(LightningPageView), 3)"
   ]
  },
  {
   "cell_type": "markdown",
   "id": "9adc6474",
   "metadata": {},
   "source": [
    "#### About less than 1.5% of the page view sample has reports ran in dashboard"
   ]
  },
  {
   "cell_type": "code",
   "execution_count": 78,
   "id": "3f16ffa3",
   "metadata": {},
   "outputs": [
    {
     "data": {
      "text/plain": [
       "2627.7226277372265"
      ]
     },
     "execution_count": 78,
     "metadata": {},
     "output_type": "execute_result"
    }
   ],
   "source": [
    "LightningPageView_DASHBOARD.DURATION.mean()"
   ]
  },
  {
   "cell_type": "markdown",
   "id": "c09fc49c",
   "metadata": {},
   "source": [
    "#### The average duration of a page whose reports were run in a dashboard is about 2.6 seconds. Almost 1 second less than those that had not run in dashboards"
   ]
  },
  {
   "cell_type": "code",
   "execution_count": 87,
   "id": "0b4b818e",
   "metadata": {},
   "outputs": [
    {
     "data": {
      "text/plain": [
       "[]"
      ]
     },
     "execution_count": 87,
     "metadata": {},
     "output_type": "execute_result"
    },
    {
     "data": {
      "image/png": "[encoded data removed]",
      "text/plain": [
       "<Figure size 432x288 with 1 Axes>"
      ]
     },
     "metadata": {},
     "output_type": "display_data"
    }
   ],
   "source": [
    "plt.boxplot(LightningPageView_DASHBOARD.DURATION)\n",
    "plt.plot()"
   ]
  },
  {
   "cell_type": "code",
   "execution_count": 79,
   "id": "a3c56c7a",
   "metadata": {},
   "outputs": [
    {
     "data": {
      "text/plain": [
       "True     0.547445\n",
       "False    0.452555\n",
       "Name: EFFECTIVE_PAGE_TIME_DEVIATION, dtype: float64"
      ]
     },
     "execution_count": 79,
     "metadata": {},
     "output_type": "execute_result"
    }
   ],
   "source": [
    "LightningPageView_DASHBOARD.EFFECTIVE_PAGE_TIME_DEVIATION.value_counts(True)"
   ]
  },
  {
   "cell_type": "markdown",
   "id": "1e72978e",
   "metadata": {},
   "source": [
    "#### ~54% of the pages that were run reports in Dashboards had problems"
   ]
  },
  {
   "cell_type": "code",
   "execution_count": 80,
   "id": "9dab3610",
   "metadata": {},
   "outputs": [],
   "source": [
    "LightningPageView_DASHBOARD_PROBLEMATICS = LightningPageView_DASHBOARD[LightningPageView_DASHBOARD.EFFECTIVE_PAGE_TIME_DEVIATION == True]"
   ]
  },
  {
   "cell_type": "code",
   "execution_count": 92,
   "id": "b2eec5d4",
   "metadata": {},
   "outputs": [
    {
     "data": {
      "text/plain": [
       "[]"
      ]
     },
     "execution_count": 92,
     "metadata": {},
     "output_type": "execute_result"
    },
    {
     "data": {
      "image/png": "[encoded data removed]",
      "text/plain": [
       "<Figure size 432x288 with 1 Axes>"
      ]
     },
     "metadata": {},
     "output_type": "display_data"
    }
   ],
   "source": [
    "plt.boxplot(LightningPageView_DASHBOARD_PROBLEMATICS.DURATION)\n",
    "plt.plot()"
   ]
  },
  {
   "cell_type": "code",
   "execution_count": 81,
   "id": "8fce71c9",
   "metadata": {},
   "outputs": [
    {
     "data": {
      "text/plain": [
       "PreviousPageNotLoaded                49\n",
       "PageNotLoaded                        22\n",
       "InteractionBeforePageLoaded|click     3\n",
       "PageInBackgroundBeforeLoaded          1\n",
       "Name: EFFECTIVE_PAGE_TIME_DEVIATION_REASON, dtype: int64"
      ]
     },
     "execution_count": 81,
     "metadata": {},
     "output_type": "execute_result"
    }
   ],
   "source": [
    "LightningPageView_DASHBOARD_PROBLEMATICS['EFFECTIVE_PAGE_TIME_DEVIATION_REASON'].value_counts()"
   ]
  },
  {
   "cell_type": "code",
   "execution_count": 82,
   "id": "485fa9b7",
   "metadata": {},
   "outputs": [
    {
     "data": {
      "image/png": "[encoded data removed]",
      "text/plain": [
       "<Figure size 360x360 with 1 Axes>"
      ]
     },
     "metadata": {},
     "output_type": "display_data"
    }
   ],
   "source": [
    "sizes = list(LightningPageView_DASHBOARD_PROBLEMATICS['EFFECTIVE_PAGE_TIME_DEVIATION_REASON'].value_counts())\n",
    "labels = list(LightningPageView_DASHBOARD_PROBLEMATICS['EFFECTIVE_PAGE_TIME_DEVIATION_REASON'].value_counts().index)\n",
    "\n",
    "fig, ax = plt.subplots(figsize=(5,5))\n",
    "ax.set_title('Problematic ones ran in dashboard component \\n', fontsize=14)\n",
    "ax.pie(sizes, labels=labels, autopct='%1.1f%%')\n",
    "ax.axis('equal')\n",
    "plt.show()"
   ]
  },
  {
   "cell_type": "markdown",
   "id": "10cb9663",
   "metadata": {},
   "source": [
    "## Reports that were not run in Dashboard Components"
   ]
  },
  {
   "cell_type": "code",
   "execution_count": 72,
   "id": "8d0a8212",
   "metadata": {
    "scrolled": true
   },
   "outputs": [
    {
     "data": {
      "text/plain": [
       "0.986"
      ]
     },
     "execution_count": 72,
     "metadata": {},
     "output_type": "execute_result"
    }
   ],
   "source": [
    "round(len(LightningPageView_NOT_DASHBOARD) / len(LightningPageView), 3)"
   ]
  },
  {
   "cell_type": "markdown",
   "id": "4f38cae5",
   "metadata": {},
   "source": [
    "#### 98.6% of the reports caught in sample were not run in a dashboard"
   ]
  },
  {
   "cell_type": "code",
   "execution_count": 73,
   "id": "7cfda591",
   "metadata": {
    "scrolled": false
   },
   "outputs": [
    {
     "data": {
      "text/plain": [
       "3555.0224163334033"
      ]
     },
     "execution_count": 73,
     "metadata": {},
     "output_type": "execute_result"
    }
   ],
   "source": [
    "LightningPageView_NOT_DASHBOARD.DURATION.mean()"
   ]
  },
  {
   "cell_type": "markdown",
   "id": "2a4983eb",
   "metadata": {},
   "source": [
    "#### The average duration of a page  in this sample is about 3.5 seconds"
   ]
  },
  {
   "cell_type": "code",
   "execution_count": 109,
   "id": "7b39824c",
   "metadata": {},
   "outputs": [
    {
     "data": {
      "text/plain": [
       "[]"
      ]
     },
     "execution_count": 109,
     "metadata": {},
     "output_type": "execute_result"
    },
    {
     "data": {
      "image/png": "[encoded data removed]",
      "text/plain": [
       "<Figure size 432x288 with 1 Axes>"
      ]
     },
     "metadata": {},
     "output_type": "display_data"
    }
   ],
   "source": [
    "plt.boxplot(LightningPageView_NOT_DASHBOARD.DURATION)\n",
    "plt.plot()"
   ]
  },
  {
   "cell_type": "code",
   "execution_count": 74,
   "id": "322aaebc",
   "metadata": {
    "scrolled": true
   },
   "outputs": [
    {
     "data": {
      "text/plain": [
       "False    0.534309\n",
       "True     0.465691\n",
       "Name: EFFECTIVE_PAGE_TIME_DEVIATION, dtype: float64"
      ]
     },
     "execution_count": 74,
     "metadata": {},
     "output_type": "execute_result"
    }
   ],
   "source": [
    "LightningPageView_NOT_DASHBOARD.EFFECTIVE_PAGE_TIME_DEVIATION.value_counts(True)"
   ]
  },
  {
   "cell_type": "markdown",
   "id": "addd1fb2",
   "metadata": {},
   "source": [
    "#### About 46% of the pages that not had run in a dashboard had errors whit its loading"
   ]
  },
  {
   "cell_type": "code",
   "execution_count": 75,
   "id": "af84392f",
   "metadata": {},
   "outputs": [
    {
     "data": {
      "text/plain": [
       "PreviousPageNotLoaded                          2258\n",
       "PageNotLoaded                                   953\n",
       "InteractionBeforePageLoaded|click               869\n",
       "PageInBackgroundBeforeLoaded                    270\n",
       "InteractionBeforePageLoaded|synthetic-hover      56\n",
       "PageHasError                                     19\n",
       "Name: EFFECTIVE_PAGE_TIME_DEVIATION_REASON, dtype: int64"
      ]
     },
     "execution_count": 75,
     "metadata": {},
     "output_type": "execute_result"
    }
   ],
   "source": [
    "LightningPageView_NOT_DASHBOARD_PROBLEMATICS = LightningPageView_NOT_DASHBOARD[LightningPageView_NOT_DASHBOARD.EFFECTIVE_PAGE_TIME_DEVIATION == True]\n",
    "LightningPageView_NOT_DASHBOARD_PROBLEMATICS.EFFECTIVE_PAGE_TIME_DEVIATION_REASON.value_counts()"
   ]
  },
  {
   "cell_type": "code",
   "execution_count": 76,
   "id": "4e48d85a",
   "metadata": {},
   "outputs": [
    {
     "data": {
      "image/png": "[encoded data removed]",
      "text/plain": [
       "<Figure size 360x360 with 1 Axes>"
      ]
     },
     "metadata": {},
     "output_type": "display_data"
    }
   ],
   "source": [
    "sizes = list(LightningPageView_NOT_DASHBOARD_PROBLEMATICS['EFFECTIVE_PAGE_TIME_DEVIATION_REASON'].value_counts())\n",
    "labels = list(LightningPageView_NOT_DASHBOARD_PROBLEMATICS['EFFECTIVE_PAGE_TIME_DEVIATION_REASON'].value_counts().index)\n",
    "\n",
    "fig, ax = plt.subplots(figsize=(5,5))\n",
    "ax.set_title('Problematic reports NOT ran in dashboard component\\n', fontsize=14)\n",
    "ax.pie(sizes, labels=labels, autopct='%1.1f%%')\n",
    "ax.axis('equal')\n",
    "plt.show()"
   ]
  },
  {
   "cell_type": "code",
   "execution_count": 112,
   "id": "f3db13e3",
   "metadata": {},
   "outputs": [],
   "source": [
    "lpv = pd.read_csv('../datasets/Page_View_by_USER_ID_DERIVED-SESSION_KEY.csv')"
   ]
  },
  {
   "cell_type": "code",
   "execution_count": 113,
   "id": "759b54e3",
   "metadata": {},
   "outputs": [
    {
     "data": {
      "text/plain": [
       "Index(['USER_ID_DERIVED', 'SESSION_KEY', 'EVENT_TYPE', 'TIMESTAMP',\n",
       "       'REQUEST_ID', 'ORGANIZATION_ID', 'USER_ID', 'CLIENT_ID', 'LOGIN_KEY',\n",
       "       'USER_TYPE', 'APP_NAME', 'DEVICE_PLATFORM', 'SDK_APP_VERSION',\n",
       "       'OS_NAME', 'OS_VERSION', 'USER_AGENT', 'BROWSER_NAME',\n",
       "       'BROWSER_VERSION', 'SDK_VERSION', 'DEVICE_MODEL', 'DEVICE_ID',\n",
       "       'SDK_APP_TYPE', 'CLIENT_GEO', 'CONNECTION_TYPE', 'UI_EVENT_ID',\n",
       "       'UI_EVENT_SOURCE', 'UI_EVENT_TIMESTAMP', 'PAGE_START_TIME', 'DURATION',\n",
       "       'EFFECTIVE_PAGE_TIME_DEVIATION', 'EFFECTIVE_PAGE_TIME_DEVIATION_REASON',\n",
       "       'EFFECTIVE_PAGE_TIME_DEVIATION_ERROR_TYPE', 'EFFECTIVE_PAGE_TIME',\n",
       "       'DEVICE_SESSION_ID', 'UI_EVENT_SEQUENCE_NUM', 'PAGE_ENTITY_ID',\n",
       "       'PAGE_ENTITY_TYPE', 'PAGE_CONTEXT', 'PAGE_URL', 'PAGE_APP_NAME',\n",
       "       'PREVPAGE_ENTITY_ID', 'PREVPAGE_ENTITY_TYPE', 'PREVPAGE_CONTEXT',\n",
       "       'PREVPAGE_URL', 'PREVPAGE_APP_NAME', 'TARGET_UI_ELEMENT',\n",
       "       'PARENT_UI_ELEMENT', 'GRANDPARENT_UI_ELEMENT', 'TIMESTAMP_DERIVED',\n",
       "       'CLIENT_IP'],\n",
       "      dtype='object')"
      ]
     },
     "execution_count": 113,
     "metadata": {},
     "output_type": "execute_result"
    }
   ],
   "source": [
    "lpv.columns"
   ]
  },
  {
   "cell_type": "code",
   "execution_count": 115,
   "id": "6c0c9284",
   "metadata": {},
   "outputs": [
    {
     "data": {
      "text/plain": [
       "Index(['EVENT_TYPE', 'TIMESTAMP', 'REQUEST_ID', 'ORGANIZATION_ID', 'USER_ID',\n",
       "       'CLIENT_ID', 'SESSION_KEY', 'LOGIN_KEY', 'USER_TYPE', 'APP_NAME',\n",
       "       'DEVICE_PLATFORM', 'SDK_APP_VERSION', 'OS_NAME', 'OS_VERSION',\n",
       "       'USER_AGENT', 'BROWSER_NAME', 'BROWSER_VERSION', 'SDK_VERSION',\n",
       "       'DEVICE_MODEL', 'DEVICE_ID', 'SDK_APP_TYPE', 'CLIENT_GEO',\n",
       "       'CONNECTION_TYPE', 'UI_EVENT_ID', 'UI_EVENT_SOURCE',\n",
       "       'UI_EVENT_TIMESTAMP', 'PAGE_START_TIME', 'DURATION',\n",
       "       'EFFECTIVE_PAGE_TIME_DEVIATION', 'EFFECTIVE_PAGE_TIME_DEVIATION_REASON',\n",
       "       'EFFECTIVE_PAGE_TIME_DEVIATION_ERROR_TYPE', 'EFFECTIVE_PAGE_TIME',\n",
       "       'DEVICE_SESSION_ID', 'UI_EVENT_SEQUENCE_NUM', 'PAGE_ENTITY_ID',\n",
       "       'PAGE_ENTITY_TYPE', 'PAGE_CONTEXT', 'PAGE_URL', 'PAGE_APP_NAME',\n",
       "       'PREVPAGE_ENTITY_ID', 'PREVPAGE_ENTITY_TYPE', 'PREVPAGE_CONTEXT',\n",
       "       'PREVPAGE_URL', 'PREVPAGE_APP_NAME', 'TARGET_UI_ELEMENT',\n",
       "       'PARENT_UI_ELEMENT', 'GRANDPARENT_UI_ELEMENT', 'TIMESTAMP_DERIVED',\n",
       "       'USER_ID_DERIVED', 'CLIENT_IP'],\n",
       "      dtype='object')"
      ]
     },
     "execution_count": 115,
     "metadata": {},
     "output_type": "execute_result"
    }
   ],
   "source": [
    "LightningPageView.columns"
   ]
  },
  {
   "cell_type": "code",
   "execution_count": 116,
   "id": "54ec0272",
   "metadata": {},
   "outputs": [
    {
     "data": {
      "text/plain": [
       "9671"
      ]
     },
     "execution_count": 116,
     "metadata": {},
     "output_type": "execute_result"
    }
   ],
   "source": [
    "len(lpv)"
   ]
  },
  {
   "cell_type": "code",
   "execution_count": 117,
   "id": "3db80089",
   "metadata": {},
   "outputs": [
    {
     "data": {
      "text/plain": [
       "9671"
      ]
     },
     "execution_count": 117,
     "metadata": {},
     "output_type": "execute_result"
    }
   ],
   "source": [
    "len(LightningPageView)"
   ]
  },
  {
   "cell_type": "code",
   "execution_count": 122,
   "id": "37d155e5",
   "metadata": {},
   "outputs": [
    {
     "data": {
      "text/html": [
       "<div>\n",
       "<style scoped>\n",
       "    .dataframe tbody tr th:only-of-type {\n",
       "        vertical-align: middle;\n",
       "    }\n",
       "\n",
       "    .dataframe tbody tr th {\n",
       "        vertical-align: top;\n",
       "    }\n",
       "\n",
       "    .dataframe thead th {\n",
       "        text-align: right;\n",
       "    }\n",
       "</style>\n",
       "<table border=\"1\" class=\"dataframe\">\n",
       "  <thead>\n",
       "    <tr style=\"text-align: right;\">\n",
       "      <th></th>\n",
       "      <th>USER_ID_DERIVED</th>\n",
       "      <th>SESSION_KEY</th>\n",
       "      <th>EVENT_TYPE</th>\n",
       "      <th>TIMESTAMP</th>\n",
       "      <th>REQUEST_ID</th>\n",
       "      <th>ORGANIZATION_ID</th>\n",
       "      <th>USER_ID</th>\n",
       "      <th>CLIENT_ID</th>\n",
       "      <th>LOGIN_KEY</th>\n",
       "      <th>USER_TYPE</th>\n",
       "      <th>...</th>\n",
       "      <th>PREVPAGE_ENTITY_ID</th>\n",
       "      <th>PREVPAGE_ENTITY_TYPE</th>\n",
       "      <th>PREVPAGE_CONTEXT</th>\n",
       "      <th>PREVPAGE_URL</th>\n",
       "      <th>PREVPAGE_APP_NAME</th>\n",
       "      <th>TARGET_UI_ELEMENT</th>\n",
       "      <th>PARENT_UI_ELEMENT</th>\n",
       "      <th>GRANDPARENT_UI_ELEMENT</th>\n",
       "      <th>TIMESTAMP_DERIVED</th>\n",
       "      <th>CLIENT_IP</th>\n",
       "    </tr>\n",
       "  </thead>\n",
       "  <tbody>\n",
       "    <tr>\n",
       "      <th>0</th>\n",
       "      <td>True</td>\n",
       "      <td>True</td>\n",
       "      <td>True</td>\n",
       "      <td>True</td>\n",
       "      <td>True</td>\n",
       "      <td>True</td>\n",
       "      <td>True</td>\n",
       "      <td>False</td>\n",
       "      <td>True</td>\n",
       "      <td>True</td>\n",
       "      <td>...</td>\n",
       "      <td>False</td>\n",
       "      <td>False</td>\n",
       "      <td>True</td>\n",
       "      <td>True</td>\n",
       "      <td>True</td>\n",
       "      <td>False</td>\n",
       "      <td>False</td>\n",
       "      <td>False</td>\n",
       "      <td>True</td>\n",
       "      <td>True</td>\n",
       "    </tr>\n",
       "    <tr>\n",
       "      <th>1</th>\n",
       "      <td>True</td>\n",
       "      <td>True</td>\n",
       "      <td>True</td>\n",
       "      <td>True</td>\n",
       "      <td>True</td>\n",
       "      <td>True</td>\n",
       "      <td>True</td>\n",
       "      <td>False</td>\n",
       "      <td>True</td>\n",
       "      <td>True</td>\n",
       "      <td>...</td>\n",
       "      <td>True</td>\n",
       "      <td>True</td>\n",
       "      <td>True</td>\n",
       "      <td>True</td>\n",
       "      <td>True</td>\n",
       "      <td>False</td>\n",
       "      <td>False</td>\n",
       "      <td>False</td>\n",
       "      <td>True</td>\n",
       "      <td>True</td>\n",
       "    </tr>\n",
       "    <tr>\n",
       "      <th>2</th>\n",
       "      <td>True</td>\n",
       "      <td>True</td>\n",
       "      <td>True</td>\n",
       "      <td>True</td>\n",
       "      <td>True</td>\n",
       "      <td>True</td>\n",
       "      <td>True</td>\n",
       "      <td>False</td>\n",
       "      <td>True</td>\n",
       "      <td>True</td>\n",
       "      <td>...</td>\n",
       "      <td>True</td>\n",
       "      <td>True</td>\n",
       "      <td>True</td>\n",
       "      <td>True</td>\n",
       "      <td>True</td>\n",
       "      <td>False</td>\n",
       "      <td>False</td>\n",
       "      <td>False</td>\n",
       "      <td>True</td>\n",
       "      <td>True</td>\n",
       "    </tr>\n",
       "    <tr>\n",
       "      <th>3</th>\n",
       "      <td>True</td>\n",
       "      <td>True</td>\n",
       "      <td>True</td>\n",
       "      <td>True</td>\n",
       "      <td>True</td>\n",
       "      <td>True</td>\n",
       "      <td>True</td>\n",
       "      <td>False</td>\n",
       "      <td>True</td>\n",
       "      <td>True</td>\n",
       "      <td>...</td>\n",
       "      <td>True</td>\n",
       "      <td>True</td>\n",
       "      <td>True</td>\n",
       "      <td>True</td>\n",
       "      <td>True</td>\n",
       "      <td>False</td>\n",
       "      <td>False</td>\n",
       "      <td>False</td>\n",
       "      <td>True</td>\n",
       "      <td>True</td>\n",
       "    </tr>\n",
       "    <tr>\n",
       "      <th>4</th>\n",
       "      <td>True</td>\n",
       "      <td>True</td>\n",
       "      <td>True</td>\n",
       "      <td>True</td>\n",
       "      <td>True</td>\n",
       "      <td>True</td>\n",
       "      <td>True</td>\n",
       "      <td>False</td>\n",
       "      <td>True</td>\n",
       "      <td>True</td>\n",
       "      <td>...</td>\n",
       "      <td>False</td>\n",
       "      <td>False</td>\n",
       "      <td>True</td>\n",
       "      <td>True</td>\n",
       "      <td>True</td>\n",
       "      <td>False</td>\n",
       "      <td>False</td>\n",
       "      <td>False</td>\n",
       "      <td>True</td>\n",
       "      <td>True</td>\n",
       "    </tr>\n",
       "    <tr>\n",
       "      <th>...</th>\n",
       "      <td>...</td>\n",
       "      <td>...</td>\n",
       "      <td>...</td>\n",
       "      <td>...</td>\n",
       "      <td>...</td>\n",
       "      <td>...</td>\n",
       "      <td>...</td>\n",
       "      <td>...</td>\n",
       "      <td>...</td>\n",
       "      <td>...</td>\n",
       "      <td>...</td>\n",
       "      <td>...</td>\n",
       "      <td>...</td>\n",
       "      <td>...</td>\n",
       "      <td>...</td>\n",
       "      <td>...</td>\n",
       "      <td>...</td>\n",
       "      <td>...</td>\n",
       "      <td>...</td>\n",
       "      <td>...</td>\n",
       "      <td>...</td>\n",
       "    </tr>\n",
       "    <tr>\n",
       "      <th>9666</th>\n",
       "      <td>True</td>\n",
       "      <td>True</td>\n",
       "      <td>True</td>\n",
       "      <td>True</td>\n",
       "      <td>True</td>\n",
       "      <td>True</td>\n",
       "      <td>True</td>\n",
       "      <td>False</td>\n",
       "      <td>True</td>\n",
       "      <td>True</td>\n",
       "      <td>...</td>\n",
       "      <td>True</td>\n",
       "      <td>True</td>\n",
       "      <td>True</td>\n",
       "      <td>True</td>\n",
       "      <td>True</td>\n",
       "      <td>False</td>\n",
       "      <td>False</td>\n",
       "      <td>False</td>\n",
       "      <td>True</td>\n",
       "      <td>True</td>\n",
       "    </tr>\n",
       "    <tr>\n",
       "      <th>9667</th>\n",
       "      <td>True</td>\n",
       "      <td>True</td>\n",
       "      <td>True</td>\n",
       "      <td>True</td>\n",
       "      <td>True</td>\n",
       "      <td>True</td>\n",
       "      <td>True</td>\n",
       "      <td>False</td>\n",
       "      <td>True</td>\n",
       "      <td>True</td>\n",
       "      <td>...</td>\n",
       "      <td>False</td>\n",
       "      <td>False</td>\n",
       "      <td>True</td>\n",
       "      <td>True</td>\n",
       "      <td>True</td>\n",
       "      <td>False</td>\n",
       "      <td>False</td>\n",
       "      <td>False</td>\n",
       "      <td>True</td>\n",
       "      <td>True</td>\n",
       "    </tr>\n",
       "    <tr>\n",
       "      <th>9668</th>\n",
       "      <td>True</td>\n",
       "      <td>True</td>\n",
       "      <td>True</td>\n",
       "      <td>True</td>\n",
       "      <td>True</td>\n",
       "      <td>True</td>\n",
       "      <td>True</td>\n",
       "      <td>False</td>\n",
       "      <td>True</td>\n",
       "      <td>True</td>\n",
       "      <td>...</td>\n",
       "      <td>False</td>\n",
       "      <td>True</td>\n",
       "      <td>True</td>\n",
       "      <td>True</td>\n",
       "      <td>True</td>\n",
       "      <td>False</td>\n",
       "      <td>False</td>\n",
       "      <td>False</td>\n",
       "      <td>True</td>\n",
       "      <td>True</td>\n",
       "    </tr>\n",
       "    <tr>\n",
       "      <th>9669</th>\n",
       "      <td>True</td>\n",
       "      <td>True</td>\n",
       "      <td>True</td>\n",
       "      <td>True</td>\n",
       "      <td>True</td>\n",
       "      <td>True</td>\n",
       "      <td>True</td>\n",
       "      <td>False</td>\n",
       "      <td>True</td>\n",
       "      <td>True</td>\n",
       "      <td>...</td>\n",
       "      <td>True</td>\n",
       "      <td>True</td>\n",
       "      <td>True</td>\n",
       "      <td>True</td>\n",
       "      <td>True</td>\n",
       "      <td>False</td>\n",
       "      <td>False</td>\n",
       "      <td>False</td>\n",
       "      <td>True</td>\n",
       "      <td>True</td>\n",
       "    </tr>\n",
       "    <tr>\n",
       "      <th>9670</th>\n",
       "      <td>True</td>\n",
       "      <td>True</td>\n",
       "      <td>True</td>\n",
       "      <td>True</td>\n",
       "      <td>True</td>\n",
       "      <td>True</td>\n",
       "      <td>True</td>\n",
       "      <td>False</td>\n",
       "      <td>True</td>\n",
       "      <td>True</td>\n",
       "      <td>...</td>\n",
       "      <td>True</td>\n",
       "      <td>True</td>\n",
       "      <td>True</td>\n",
       "      <td>True</td>\n",
       "      <td>True</td>\n",
       "      <td>False</td>\n",
       "      <td>False</td>\n",
       "      <td>False</td>\n",
       "      <td>True</td>\n",
       "      <td>True</td>\n",
       "    </tr>\n",
       "  </tbody>\n",
       "</table>\n",
       "<p>9671 rows × 50 columns</p>\n",
       "</div>"
      ],
      "text/plain": [
       "      USER_ID_DERIVED  SESSION_KEY  EVENT_TYPE  TIMESTAMP  REQUEST_ID  \\\n",
       "0                True         True        True       True        True   \n",
       "1                True         True        True       True        True   \n",
       "2                True         True        True       True        True   \n",
       "3                True         True        True       True        True   \n",
       "4                True         True        True       True        True   \n",
       "...               ...          ...         ...        ...         ...   \n",
       "9666             True         True        True       True        True   \n",
       "9667             True         True        True       True        True   \n",
       "9668             True         True        True       True        True   \n",
       "9669             True         True        True       True        True   \n",
       "9670             True         True        True       True        True   \n",
       "\n",
       "      ORGANIZATION_ID  USER_ID  CLIENT_ID  LOGIN_KEY  USER_TYPE  ...  \\\n",
       "0                True     True      False       True       True  ...   \n",
       "1                True     True      False       True       True  ...   \n",
       "2                True     True      False       True       True  ...   \n",
       "3                True     True      False       True       True  ...   \n",
       "4                True     True      False       True       True  ...   \n",
       "...               ...      ...        ...        ...        ...  ...   \n",
       "9666             True     True      False       True       True  ...   \n",
       "9667             True     True      False       True       True  ...   \n",
       "9668             True     True      False       True       True  ...   \n",
       "9669             True     True      False       True       True  ...   \n",
       "9670             True     True      False       True       True  ...   \n",
       "\n",
       "      PREVPAGE_ENTITY_ID  PREVPAGE_ENTITY_TYPE  PREVPAGE_CONTEXT  \\\n",
       "0                  False                 False              True   \n",
       "1                   True                  True              True   \n",
       "2                   True                  True              True   \n",
       "3                   True                  True              True   \n",
       "4                  False                 False              True   \n",
       "...                  ...                   ...               ...   \n",
       "9666                True                  True              True   \n",
       "9667               False                 False              True   \n",
       "9668               False                  True              True   \n",
       "9669                True                  True              True   \n",
       "9670                True                  True              True   \n",
       "\n",
       "      PREVPAGE_URL  PREVPAGE_APP_NAME  TARGET_UI_ELEMENT  PARENT_UI_ELEMENT  \\\n",
       "0             True               True              False              False   \n",
       "1             True               True              False              False   \n",
       "2             True               True              False              False   \n",
       "3             True               True              False              False   \n",
       "4             True               True              False              False   \n",
       "...            ...                ...                ...                ...   \n",
       "9666          True               True              False              False   \n",
       "9667          True               True              False              False   \n",
       "9668          True               True              False              False   \n",
       "9669          True               True              False              False   \n",
       "9670          True               True              False              False   \n",
       "\n",
       "      GRANDPARENT_UI_ELEMENT  TIMESTAMP_DERIVED  CLIENT_IP  \n",
       "0                      False               True       True  \n",
       "1                      False               True       True  \n",
       "2                      False               True       True  \n",
       "3                      False               True       True  \n",
       "4                      False               True       True  \n",
       "...                      ...                ...        ...  \n",
       "9666                   False               True       True  \n",
       "9667                   False               True       True  \n",
       "9668                   False               True       True  \n",
       "9669                   False               True       True  \n",
       "9670                   False               True       True  \n",
       "\n",
       "[9671 rows x 50 columns]"
      ]
     },
     "execution_count": 122,
     "metadata": {},
     "output_type": "execute_result"
    }
   ],
   "source": [
    "lpv.reset_index().drop(\"index\",axis=1).dropna() == lpv.dropna)"
   ]
  }
 ],
 "metadata": {
  "kernelspec": {
   "display_name": "Python 3 (ipykernel)",
   "language": "python",
   "name": "python3"
  },
  "language_info": {
   "codemirror_mode": {
    "name": "ipython",
    "version": 3
   },
   "file_extension": ".py",
   "mimetype": "text/x-python",
   "name": "python",
   "nbconvert_exporter": "python",
   "pygments_lexer": "ipython3",
   "version": "3.9.12"
  }
 },
 "nbformat": 4,
 "nbformat_minor": 5
}
